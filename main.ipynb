{
 "cells": [
  {
   "cell_type": "markdown",
   "metadata": {},
   "source": [
    "\n",
    "# PheKnowLator  \n",
    "\n",
    "***\n",
    "***\n",
    "\n",
    "**Author:** [TJCallahan](https://mail.google.com/mail/u/0/?view=cm&fs=1&tf=1&to=callahantiff@gmail.com)  \n",
    "**GitHub Repository:** [PheKnowLator](https://github.com/callahantiff/PheKnowLator/wiki)  \n",
    "\n",
    "**Purpose:** This notebook serves as a `main` file for the PheKnowLatopr project. This scripts walks through this program step-by-step and generates the knowledge graph shown below. Several steps must be run before this notebook can be successfully run:\n",
    "- Make sure that the [master resource file](https://www.dropbox.com/s/4qu4ev96h5q6bdx/resource_info.txt?dl=0) is complete.  \n",
    "- Make sure that the files specifying the [ontologies](https://www.dropbox.com/s/bmmaavyd499d7px/ontology_source_list.txt?dl=0), [class](https://www.dropbox.com/s/cpxrj1to55syhzi/class_source_list.txt?dl=0), and [instance](https://www.dropbox.com/s/71b07b1g86roz3d/instance_source_list.txt?dl=0) data sources are completed  \n",
    "- Run `.scripts/NCBO_rest_api.py` to obtain mappings between onttology identifiers.\n",
    "\n",
    "***\n",
    "### Table of Contents\n",
    "* [Data Sources](#data-source)  \n",
    "* [Create Edge Lists](#create-edges)  \n",
    "* [Build Knowledge Graph](#build-kg)  \n",
    "* [Generate Mechanism Embeddings](#generate-embeddings)  \n",
    "* [t-SNE Plot](#tsne-plot)  \n",
    "\n",
    "***\n",
    "***\n",
    "\n",
    "<img src=\"https://user-images.githubusercontent.com/8030363/63988760-fe326280-ca9a-11e9-836d-ff1284d3fe2c.png\" width=\"900\" height=\"600\">\n",
    "\n",
    "\n",
    "**_NOTE._** _There is also a script version of this file (`./main.py`). Please see the [README](https://github.com/callahantiff/PheKnowLator/blob/master/README.md) for more information._\n"
   ]
  },
  {
   "cell_type": "markdown",
   "metadata": {
    "collapsed": true,
    "pycharm": {
     "is_executing": false
    }
   },
   "source": [
    "**Install Dependencies**"
   ]
  },
  {
   "cell_type": "code",
   "execution_count": 1,
   "metadata": {},
   "outputs": [],
   "source": [
    "# import needed libraries\n",
    "import json\n",
    "import pandas as pd\n",
    "\n",
    "from rdflib import Graph\n",
    "\n",
    "# import scripts\n",
    "import scripts.python.DataSources\n",
    "import scripts.python.EdgeDictionary\n",
    "from scripts.python.KnowledgeGraph import *\n"
   ]
  },
  {
   "cell_type": "markdown",
   "metadata": {},
   "source": [
    "***\n",
    "***\n",
    "\n",
    "## Download Data Sources <a class=\"anchor\" id=\"data-source\"></a>\n",
    "\n",
    "First, we need to download all sources that will be used to construct our knowledge graph. This portion of the script has three steps:  \n",
    "1. Download Ontology Data  \n",
    "2. Download Class Data  \n",
    "3. Download Instance Data\n",
    "\n",
    "\n",
    "**Note.** When running the cells below for the class and instance data sources, you will be prompted to enter a file name for each source. Please use the following pattern:\n",
    "> **Pattern:** edge_source_datatype_source_type.txt  \n",
    "**Example:** gene-pathway_string_instance_evidence.txt\n"
   ]
  },
  {
   "cell_type": "markdown",
   "metadata": {},
   "source": [
    "***\n",
    "**Step 1: Download Ontology Data**\n"
   ]
  },
  {
   "cell_type": "code",
   "execution_count": null,
   "metadata": {},
   "outputs": [],
   "source": [
    "ont = scripts.python.DataSources.OntData('resources/ontology_source_list.txt')\n",
    "ont.parses_resource_file()\n",
    "ont.downloads_data_from_url('imports')\n",
    "    "
   ]
  },
  {
   "cell_type": "code",
   "execution_count": null,
   "metadata": {},
   "outputs": [],
   "source": [
    "ont.generates_source_metadata()\n",
    "ont.writes_source_metadata_locally()\n"
   ]
  },
  {
   "cell_type": "markdown",
   "metadata": {},
   "source": [
    "***\n",
    "**Step 2: Download Class Data**\n"
   ]
  },
  {
   "cell_type": "code",
   "execution_count": null,
   "metadata": {},
   "outputs": [],
   "source": [
    "cls = scripts.python.DataSources.Data('resources/class_source_list.txt')\n",
    "cls.parses_resource_file()\n",
    "cls.downloads_data_from_url('')\n",
    "    "
   ]
  },
  {
   "cell_type": "code",
   "execution_count": null,
   "metadata": {},
   "outputs": [],
   "source": [
    "cls.generates_source_metadata()\n",
    "cls.writes_source_metadata_locally()\n"
   ]
  },
  {
   "cell_type": "markdown",
   "metadata": {},
   "source": [
    "***\n",
    "**Step 3: Download Instance Data**\n"
   ]
  },
  {
   "cell_type": "code",
   "execution_count": null,
   "metadata": {},
   "outputs": [],
   "source": [
    "inst = scripts.python.DataSources.Data('resources/instance_source_list.txt')\n",
    "inst.parses_resource_file()\n",
    "inst.downloads_data_from_url('')\n",
    "    "
   ]
  },
  {
   "cell_type": "code",
   "execution_count": null,
   "metadata": {},
   "outputs": [],
   "source": [
    "inst.generates_source_metadata()\n",
    "inst.writes_source_metadata_locally()\n"
   ]
  },
  {
   "cell_type": "markdown",
   "metadata": {},
   "source": [
    "***\n",
    "***\n",
    "\n",
    "## Create Edge Lists <a class=\"anchor\" id=\"create-edges\"></a>\n",
    "\n",
    "In order to create the edge lists, you will need to do the following (assuming you don't want to use the [data from the current release](https://github.com/callahantiff/PheKnowLator/wiki/v2.0.0):\n",
    " - Run `python/NCBO_rest_api.py` script. Note, that this script will require you to create an account with [BioPortal](http://basic-formal-ontology.org/) and place your API key in `resources/bioportal_api_key.txt`. \n",
    "   - When run from the command line, you will be asked to enter two ontologies (`source1=MESH`, `source2=CHEBI`).\n",
    "   - This will generate a text file that contains mappings between identifiers from two ontologies specified and write the results to `resources/data_maps/source1_source2_map.txt`.  \n",
    "\n",
    "The code below will take the dictionaries of processed data described above and use it to create edge lists for each of the edge types specificed in the [`resource_info.txt`](https://github.com/callahantiff/PheKnowLator/blob/development/resources/resource_info.txt). Each edge list will be appended to a nested dictionary (see details below).\n",
    "\n",
    "**Master Edge Dictionary**\n",
    "Below is an example of what the `Master Edge Dictionary` contains for each processed resource:  \n",
    "\n",
    "```python\n",
    "\n",
    "master_edges = {'chemical-disease'  :\n",
    "                {'source_labels'    : ';MESH_;',\n",
    "                 'data_type'        : 'class-class',\n",
    "                 'edge_relation'    : 'RO_0002606',\n",
    "                 'uri'              : ('http://purl.obolibrary.org/obo/',\n",
    "                                       'http://purl.obolibrary.org/obo/'),\n",
    "                 'row_splitter'     : '#',\n",
    "                 'col_splitter'     : 't',\n",
    "                 'column_indicies'  : '1;4',\n",
    "                 'identifier_maps'  : '0:./MESH_CHEBI_MAP.txt;1:disease-dbxref-map',\n",
    "                 'evidence_criteria': \"5;!=;' \",\n",
    "                 'filter_criteria'  : 'None',\n",
    "                 'edge_list'        : []}\n",
    "```\n"
   ]
  },
  {
   "cell_type": "code",
   "execution_count": null,
   "metadata": {},
   "outputs": [],
   "source": [
    "# combine data sources\n",
    "combined_edges = dict(dict(cls.data_files, **inst.data_files), **ont.data_files)\n",
    "\n",
    "\n",
    "# initialize edge dictionary class\n",
    "master_edges = scripts.python.EdgeDictionary.EdgeList(combined_edges,\n",
    "                                                      './resources/resource_info.txt')\n",
    "master_edges.creates_knowledge_graph_edges()\n"
   ]
  },
  {
   "cell_type": "code",
   "execution_count": 2,
   "metadata": {},
   "outputs": [],
   "source": [
    "# save nested edges locally\n",
    "# with open('./resources/kg_master_edge_dictionary.json', 'w') as filepath:\n",
    "#     json.dump(master_edges.source_info, filepath)\n",
    "\n",
    "# load existing master_edge dictionary\n",
    "with open('./resources/kg_master_edge_dictionary.json', 'r') as filepath:\n",
    "    master_edges = json.load(filepath)\n"
   ]
  },
  {
   "cell_type": "code",
   "execution_count": 5,
   "metadata": {},
   "outputs": [
    {
     "data": {
      "text/html": [
       "<div>\n",
       "<style scoped>\n",
       "    .dataframe tbody tr th:only-of-type {\n",
       "        vertical-align: middle;\n",
       "    }\n",
       "\n",
       "    .dataframe tbody tr th {\n",
       "        vertical-align: top;\n",
       "    }\n",
       "\n",
       "    .dataframe thead th {\n",
       "        text-align: right;\n",
       "    }\n",
       "</style>\n",
       "<table border=\"1\" class=\"dataframe\">\n",
       "  <thead>\n",
       "    <tr style=\"text-align: right;\">\n",
       "      <th></th>\n",
       "      <th>edge</th>\n",
       "      <th>example_edge</th>\n",
       "      <th>edge_list_count</th>\n",
       "    </tr>\n",
       "  </thead>\n",
       "  <tbody>\n",
       "    <tr>\n",
       "      <th>0</th>\n",
       "      <td>chemical-gene</td>\n",
       "      <td>CHEBI_81395, 596</td>\n",
       "      <td>400288</td>\n",
       "    </tr>\n",
       "    <tr>\n",
       "      <th>1</th>\n",
       "      <td>chemical-go</td>\n",
       "      <td>CHEBI_81395, GO_0006309</td>\n",
       "      <td>41604</td>\n",
       "    </tr>\n",
       "    <tr>\n",
       "      <th>2</th>\n",
       "      <td>chemical-pathway</td>\n",
       "      <td>CHEBI_10033, R-HSA-1430728</td>\n",
       "      <td>24327</td>\n",
       "    </tr>\n",
       "    <tr>\n",
       "      <th>3</th>\n",
       "      <td>chemical-disease</td>\n",
       "      <td>CHEBI_81395, DOID_13677</td>\n",
       "      <td>2328410</td>\n",
       "    </tr>\n",
       "    <tr>\n",
       "      <th>4</th>\n",
       "      <td>disease-gobp</td>\n",
       "      <td>DOID_9667, GO_0009257</td>\n",
       "      <td>1223624</td>\n",
       "    </tr>\n",
       "    <tr>\n",
       "      <th>5</th>\n",
       "      <td>disease-gomf</td>\n",
       "      <td>DOID_3021, GO_0033885</td>\n",
       "      <td>138427</td>\n",
       "    </tr>\n",
       "    <tr>\n",
       "      <th>6</th>\n",
       "      <td>disease-gocc</td>\n",
       "      <td>DOID_12849, GO_1990393</td>\n",
       "      <td>85166</td>\n",
       "    </tr>\n",
       "    <tr>\n",
       "      <th>7</th>\n",
       "      <td>disease-phenotype</td>\n",
       "      <td>DOID_0110720, HP_0000006</td>\n",
       "      <td>120556</td>\n",
       "    </tr>\n",
       "    <tr>\n",
       "      <th>8</th>\n",
       "      <td>gene-gene</td>\n",
       "      <td>381, 6712</td>\n",
       "      <td>411868</td>\n",
       "    </tr>\n",
       "    <tr>\n",
       "      <th>9</th>\n",
       "      <td>gene-gobp</td>\n",
       "      <td>11163, GO_0005829</td>\n",
       "      <td>404713</td>\n",
       "    </tr>\n",
       "    <tr>\n",
       "      <th>10</th>\n",
       "      <td>gene-gomf</td>\n",
       "      <td>11163, GO_0005829</td>\n",
       "      <td>404713</td>\n",
       "    </tr>\n",
       "    <tr>\n",
       "      <th>11</th>\n",
       "      <td>gene-gocc</td>\n",
       "      <td>11163, GO_0005829</td>\n",
       "      <td>404713</td>\n",
       "    </tr>\n",
       "    <tr>\n",
       "      <th>12</th>\n",
       "      <td>gene-phenotype</td>\n",
       "      <td>8192, HP_0004322</td>\n",
       "      <td>150653</td>\n",
       "    </tr>\n",
       "    <tr>\n",
       "      <th>13</th>\n",
       "      <td>gene-pathway</td>\n",
       "      <td>448835, R-HSA-1266738</td>\n",
       "      <td>121191</td>\n",
       "    </tr>\n",
       "    <tr>\n",
       "      <th>14</th>\n",
       "      <td>pathway-disease</td>\n",
       "      <td>R-HSA-749476, DOID_0110489</td>\n",
       "      <td>5767</td>\n",
       "    </tr>\n",
       "    <tr>\n",
       "      <th>15</th>\n",
       "      <td>pathway-gobp</td>\n",
       "      <td>R-HSA-166753, GO_0005576</td>\n",
       "      <td>96441</td>\n",
       "    </tr>\n",
       "    <tr>\n",
       "      <th>16</th>\n",
       "      <td>pathway-gomf</td>\n",
       "      <td>R-HSA-166753, GO_0005576</td>\n",
       "      <td>96441</td>\n",
       "    </tr>\n",
       "    <tr>\n",
       "      <th>17</th>\n",
       "      <td>pathway-gocc</td>\n",
       "      <td>R-HSA-166753, GO_0005576</td>\n",
       "      <td>96441</td>\n",
       "    </tr>\n",
       "  </tbody>\n",
       "</table>\n",
       "</div>"
      ],
      "text/plain": [
       "                 edge                example_edge  edge_list_count\n",
       "0       chemical-gene            CHEBI_81395, 596           400288\n",
       "1         chemical-go     CHEBI_81395, GO_0006309            41604\n",
       "2    chemical-pathway  CHEBI_10033, R-HSA-1430728            24327\n",
       "3    chemical-disease     CHEBI_81395, DOID_13677          2328410\n",
       "4        disease-gobp       DOID_9667, GO_0009257          1223624\n",
       "5        disease-gomf       DOID_3021, GO_0033885           138427\n",
       "6        disease-gocc      DOID_12849, GO_1990393            85166\n",
       "7   disease-phenotype    DOID_0110720, HP_0000006           120556\n",
       "8           gene-gene                   381, 6712           411868\n",
       "9           gene-gobp           11163, GO_0005829           404713\n",
       "10          gene-gomf           11163, GO_0005829           404713\n",
       "11          gene-gocc           11163, GO_0005829           404713\n",
       "12     gene-phenotype            8192, HP_0004322           150653\n",
       "13       gene-pathway       448835, R-HSA-1266738           121191\n",
       "14    pathway-disease  R-HSA-749476, DOID_0110489             5767\n",
       "15       pathway-gobp    R-HSA-166753, GO_0005576            96441\n",
       "16       pathway-gomf    R-HSA-166753, GO_0005576            96441\n",
       "17       pathway-gocc    R-HSA-166753, GO_0005576            96441"
      ]
     },
     "execution_count": 5,
     "metadata": {},
     "output_type": "execute_result"
    }
   ],
   "source": [
    "# print basic stats on each resource\n",
    "edge_data = [\n",
    "    [key,\n",
    "     ', '.join(master_edges[key]['edge_list'][0]),\n",
    "     len(master_edges[key]['edge_list'])]\n",
    "    \n",
    "    for key in master_edges.keys()]\n",
    "\n",
    "# convert dict to pandas df for nice printing\n",
    "df = pd.DataFrame(edge_data, columns = ['edge', 'example_edge', 'edge_list_count']) \n",
    "df\n",
    "                  "
   ]
  },
  {
   "attachments": {},
   "cell_type": "markdown",
   "metadata": {},
   "source": [
    "\n",
    "***\n",
    "***\n",
    "\n",
    "## Build Knowledge Graph  <a class=\"anchor\" id=\"build-kg\"></a>\n",
    "\n",
    "Once the edge lists have been created, we can start building our knowledge graph. Since this process is somewhat time consuming, we break into the following steps:  \n",
    "\n",
    "1. Merge Ontologies   \n",
    "2. Create Class-Instance Edges    \n",
    "3. Create Instance-Instance and Class-Class Edges    \n",
    "4. Remove Disjointness Axioms   \n",
    " - [Disjointness axioms](https://go-protege-tutorial.readthedocs.io/en/latest/Disjointness.html) are created in order to restrict ontology classes such that no individual can be a member of more than one class. We remove these types of axioms from our graph before closing our ontology because these axioms often result in unexpected errors and inconsistencies during reasoning.    \n",
    "5. Deductively Close Graph using [ELK](https://protegewiki.stanford.edu/wiki/ELK) Reasoner   \n",
    "6. Save Edge List    \n",
    " - Two versions of the knowledge graphs edges are saved as lists of triples one with: (1) node labels and (2) one with integer labels (the input requirement for the embedding algorithms)\n",
    "\n",
    "\n",
    "**We will build two knowledge graphs:**  \n",
    "1. [`Biological Knowledge Graph`](#bio-kg): includes all edges shown in the figure above  \n",
    "2. [`Translational Knowledge Graph`](#transl-kg): includes the same edges as the `Biomedical Knowledge Graph` plus an extra set of edges for mappings between clinical (EHR clinical terminologies) and biomedical concepts.  \n",
    "\n",
    "<br>\n",
    "\n",
    "**‼ IMPORTANT NOTE:** The file containing the merged ontologies is quite large and can take up to 30 minutes to read in.  This is not a limitattion of the code directly, but rather a function of the [`RDFLib Library`](https://github.com/RDFLib). While there are other ways to read in this data, we maintain reliance on this library as it is the most user-friendly for non-RDF users.  \n",
    "\n",
    "***\n"
   ]
  },
  {
   "cell_type": "markdown",
   "metadata": {},
   "source": [
    "***\n",
    "### Biological Knowledge Graph<a class=\"anchor\" id=\"bio-kg\"></a>\n"
   ]
  },
  {
   "cell_type": "markdown",
   "metadata": {},
   "source": [
    "\n",
    "**Merge Ontologies**\n"
   ]
  },
  {
   "cell_type": "code",
   "execution_count": 2,
   "metadata": {},
   "outputs": [],
   "source": [
    "# set-up vars for file manipulation\n",
    "ont_files = './resources/ontologies/'\n",
    "merged_onts = ont_files + 'merged_ontologies/'\n"
   ]
  },
  {
   "cell_type": "code",
   "execution_count": null,
   "metadata": {},
   "outputs": [],
   "source": [
    "# create list of ontologies to merge\n",
    "ontology_list = [\n",
    "    [ont_files + 'go_with_imports.owl', ont_files + 'hp_with_imports.owl', merged_onts + 'hp_go_merged.owl'],\n",
    "    [merged_onts + 'hp_go_merged.owl', ont_files + 'chebi_lite.owl', merged_onts + 'hp_go_chebi_merged.owl'],\n",
    "    [merged_onts + 'hp_go_chebi_merged.owl', ont_files + 'vo_with_imports.owl', merged_onts +\n",
    "     'PheKnowVec_v2_MergedOntologies_BioKG.owl']\n",
    "                 ]\n",
    "\n",
    "# merge ontologies\n",
    "merges_ontologies(ontology_list)\n",
    "  "
   ]
  },
  {
   "cell_type": "code",
   "execution_count": null,
   "metadata": {},
   "outputs": [],
   "source": [
    "# read in file and count edges (n=2277644 edges)\n",
    "print(len(Graph().parse(ont_file_merged + 'hp_go_merged.owl')))\n"
   ]
  },
  {
   "cell_type": "code",
   "execution_count": null,
   "metadata": {},
   "outputs": [],
   "source": [
    "# read in file and count edges (n=3524109 edges)\n",
    "print(len(Graph().parse(ont_file_merged + 'hp_go_chebi_merged.owl')))"
   ]
  },
  {
   "cell_type": "code",
   "execution_count": null,
   "metadata": {},
   "outputs": [],
   "source": [
    "# read in file and count edges (n=3,606,052 edges)\n",
    "print(len(Graph().parse(ont_file_merged + 'PheKnowVec_v2_MergedOntologies_BioKG.owl')))\n"
   ]
  },
  {
   "cell_type": "markdown",
   "metadata": {},
   "source": [
    "\n",
    "**Create Edge Lists**\n"
   ]
  },
  {
   "cell_type": "code",
   "execution_count": 3,
   "metadata": {},
   "outputs": [],
   "source": [
    "# set file path\n",
    "ont_kg = './resources/knowledge_graphs/'\n",
    "\n",
    "# separate edge lists by data type\n",
    "class_edges = {}\n",
    "other_edges = {}\n",
    "\n",
    "for edge in master_edges.keys():\n",
    "    if master_edges[edge]['data_type'] == 'class-instance' or master_edges[edge]['data_type'] == 'instance-class':\n",
    "        class_edges[edge] = master_edges[edge]\n",
    "    else:\n",
    "        other_edges[edge] = master_edges[edge]\n"
   ]
  },
  {
   "cell_type": "markdown",
   "metadata": {},
   "source": [
    "_Create Class-Instance Edges_   \n"
   ]
  },
  {
   "cell_type": "code",
   "execution_count": null,
   "metadata": {
    "code_folding": []
   },
   "outputs": [],
   "source": [
    "# read in merged knowledge graph\n",
    "graph = Graph().parse(merged_onts + 'PheKnowVec_v2_MergedOntologies_BioKG.owl')\n",
    "# len(set([x[0::2] for x in list(graph)]))\n",
    "\n",
    "# add edges (n=15,555,878 edges in 09:52 minutes (17.31s/it))\n",
    "class_kg = creates_knowledge_graph_edges(class_edges,\n",
    "                                         'class',\n",
    "                                         graph,\n",
    "                                         ont_kg + 'PheKnowVec_v2_ClassInstancesOnly_BioKG.owl',\n",
    "                                         kg_class_iri_map={})\n"
   ]
  },
  {
   "cell_type": "markdown",
   "metadata": {},
   "source": [
    "_Create Instance-Instance and Class-Class Edges_"
   ]
  },
  {
   "cell_type": "code",
   "execution_count": null,
   "metadata": {},
   "outputs": [],
   "source": [
    "# create instance-instance and class-class edges (n= 16,094,427 edges in 00:26 minutes (4.88 s/it))\n",
    "class_inst_kg = creates_knowledge_graph_edges(other_edges,\n",
    "                                              'other',\n",
    "                                              class_kg,\n",
    "                                              ont_kg + 'PheKnowVec_v2_Full_BioKG.owl')\n"
   ]
  },
  {
   "cell_type": "markdown",
   "metadata": {},
   "source": [
    "_Remove Disjointness Axioms_"
   ]
  },
  {
   "cell_type": "code",
   "execution_count": 8,
   "metadata": {},
   "outputs": [
    {
     "name": "stdout",
     "output_type": "stream",
     "text": [
      "\n",
      "KG ended with 7524543, 16094081 nodes/edges\n",
      "\n"
     ]
    }
   ],
   "source": [
    "# identified and removed 333 disjointness axioms\n",
    "removes_disointness_axioms(class_inst_kg, ont_kg + 'PheKnowVec_v2_Full_BioKG_NoDisjointness.owl')\n"
   ]
  },
  {
   "cell_type": "markdown",
   "metadata": {},
   "source": [
    "_Deductively Close Graph_"
   ]
  },
  {
   "cell_type": "code",
   "execution_count": null,
   "metadata": {},
   "outputs": [],
   "source": [
    "# closes_knowledge_graph(ont_kg + 'PheKnowVec_v2_Full_BioKG_NoDisjointness.owl',\n",
    "#                        'elk',\n",
    "#                        ont_kg + 'PheKnowVec_v2_Full_BioKG_NoDisjointness_Closed.owl')\n",
    "\n",
    "graph = Graph().parse(ont_kg + 'PheKnowVec_v2_Full_BioKG_NoDisjointness_Closed.owl')\n",
    "edge_count = len(graph)\n",
    "node_count = len(set([str(node) for edge in list(graph) for node in edge[0::2]]))\n",
    "print('\\nKG ended with {e}, {e} nodes/edges\\n'.format(e=node_count, n=edge_count))\n"
   ]
  },
  {
   "cell_type": "markdown",
   "metadata": {},
   "source": [
    "_Save Edge List_"
   ]
  },
  {
   "cell_type": "code",
   "execution_count": null,
   "metadata": {},
   "outputs": [],
   "source": [
    "# save version with labels\n",
    "creates_knowledge_graph_triples_list(ont_kg + 'PheKnowVec_v2_Full_BioKG_NoDisjointness_Closed.owl',\n",
    "             ont_kg + 'PheKnowVec_v2_Full_BioKG_NoDisjointness_ELK_Closed_Triples_Labels.txt',\n",
    "             ont_kg + 'PheKnowVec_v2_ClassInstancesOnly_BioKG_ClassInstanceMap.json')\n",
    "\n",
    "# save version witn with integers\n",
    "maps_knowledge_graph_triples_list_labels_to_ints(ont_kg + 'PheKnowVec_v2_Full_BioKG_NoDisjointness_ELK_Closed_Triples_Labels.txt',\n",
    "                                                 ont_kg + 'PheKnowVec_v2_Full_BioKG_NoDisjointness_ELK_Closed_Triples_Integers.txt',\n",
    "                                                 ont_kg + 'PheKnowVec_v2_Full_BioKG_Triples_Integer_Labels_Map.json')\n"
   ]
  },
  {
   "cell_type": "markdown",
   "metadata": {},
   "source": [
    "***\n",
    "### Translational Knowledge Graph<a class=\"anchor\" id=\"transl-kg\"></a>  \n"
   ]
  },
  {
   "cell_type": "markdown",
   "metadata": {},
   "source": [
    "_Merge Ontologies_  \n",
    "\n",
    "In order to enable the integration of clinical concepts (e.g. diagnosis codes, medications, lab tests) with biological concepts from ontologies, we have created and verified mappings between over 40,000 clinical terminology codes and ontology concepts. The next step is to convert tthe mappings into new ontology concepts.\n",
    "\n",
    "The table below provides some examples of how clinical terminology concepts were mapped to ontology concepts\n",
    "\n",
    "Domain | Terminology | Clinical Terminology Concept | Ontology | Mapping\n",
    ":--: |:--: | -- | :--: | --\n",
    "Condition | SNOMED CT | Acute osteomyelitis of hand | HP | **AND**(Acute, Osteomyelitis, Abnormality of the hand)\n",
    "Condition | SNOMED CT | Acute osteomyelitis of hand | DOID | Osteomyelitis\n",
    " | | |\n",
    "Drug | RxNorm | Ibandronic Acid | ChEBI | 1,1-bis(phosphonic acid)\n",
    "Drug |RxNorm | Acellular Pertussis Vaccine, Inactivated | VO | **AND**(acellular vaccine) bordetella pertussis vaccine, inactivated vaccine\n",
    "Drug |RxNorm | Agkistrodon Piscivorus Antivenin | ChEBI | antidote\n",
    "Drug |RxNorm | Abatacept | PRO, ChEBI | **AND**(Inhibitor, T-lymphocyte activation antigen CD80 (human))\n",
    " | | |\n",
    "Measurement | LOINC | 1-Methylhistidine/Creatinine [Ratio] in Urine (Below reference range) | HP | Decreased urinary 1-methylhistidine\n",
    "Measurement | LOINC | 1-Methylhistidine/Creatinine [Ratio] in Urine (Normal) | HP | **NOT**(Abnormal urinary methylhistidine concentration)\n",
    "Measurement | LOINC | 1-Methylhistidine/Creatinine [Ratio] in Urine (Above reference range) | HP | Increased urinary 1-methylhistine\n",
    "\n",
    "<br>\n"
   ]
  },
  {
   "cell_type": "code",
   "execution_count": null,
   "metadata": {},
   "outputs": [],
   "source": [
    "graph = Graph().parse(ont_file_merged + 'PheKnowVec_v2_MergedOntologies_BioKG_merged.owl')\n"
   ]
  },
  {
   "cell_type": "markdown",
   "metadata": {},
   "source": [
    "_Create Class-Instance Edges_"
   ]
  },
  {
   "cell_type": "code",
   "execution_count": null,
   "metadata": {},
   "outputs": [],
   "source": [
    "kg_transl = instance_edges(kg,\n",
    "                          master_edges.source_info,\n",
    "                          ont_file_processed + 'PheKnowVec_v2_Full_TranslKG.owl')\n"
   ]
  },
  {
   "cell_type": "markdown",
   "metadata": {},
   "source": [
    "_Remove Disjointness Axioms_"
   ]
  },
  {
   "cell_type": "code",
   "execution_count": null,
   "metadata": {},
   "outputs": [],
   "source": [
    "remove_disointness(kg_transl,\n",
    "                   ont_file_processed + 'PheKnowVec_v1_Full_KG_NoDisjointness_TranslKG.owl')\n"
   ]
  },
  {
   "cell_type": "markdown",
   "metadata": {},
   "source": [
    "_Deductively Close Graph_"
   ]
  },
  {
   "cell_type": "code",
   "execution_count": null,
   "metadata": {},
   "outputs": [],
   "source": [
    "close_graph(ont_file_processed + 'PheKnowVec_v1_Full_KG_NoDisjointness_TranslKG.owl',\n",
    "            'elk',\n",
    "            ont_file_processed + 'PheKnowVec_v1_Full_KG_NoDisjointness_Closed_TranslKG.owl')\n"
   ]
  },
  {
   "cell_type": "markdown",
   "metadata": {},
   "source": [
    "_Save Edge List_"
   ]
  },
  {
   "cell_type": "code",
   "execution_count": null,
   "metadata": {},
   "outputs": [],
   "source": [
    "# save version with labels\n",
    "kg_edge_list(ont_file_processed + 'PheKnowVec_v2_Full_KG_NoDisjointness_Closed_TranslKG.owl',\n",
    "             ont_file_processed + 'PheKnowVec_v2_Full_KG_NoDisjointness_ELK_Closed_Triples_Label_TranslKG.txt',\n",
    "             ont_file_processed + 'PheKnowVec_v2_MergedOntologies_KG_ClassInstanceMap.json')\n",
    "\n",
    "# save version witn with integers\n",
    "node_mapper(ont_file_processed + 'PheKnowVec_v2_Full_KG_NoDisjointness_ELK_Closed_Triples_Label_TranslKG.txt',\n",
    "            ont_file_processed + 'PheKnowVec_v2_Full_KG_NoDisjointness_ELK_Closed_Triples_Ints_TranslKG.txt',\n",
    "            ont_file_processed + 'PheKnowVec_v2_MergedOntologies_KG_ClassInstanceMap_Ints_TranslKG.json')\n"
   ]
  },
  {
   "cell_type": "markdown",
   "metadata": {},
   "source": [
    "***\n",
    "***\n",
    "\n",
    "## Generate Mechanism Embeddings <a class=\"anchor\" id=\"generate-embeddings\"></a>\n"
   ]
  },
  {
   "cell_type": "code",
   "execution_count": null,
   "metadata": {},
   "outputs": [],
   "source": []
  },
  {
   "cell_type": "code",
   "execution_count": null,
   "metadata": {},
   "outputs": [],
   "source": []
  },
  {
   "cell_type": "code",
   "execution_count": null,
   "metadata": {},
   "outputs": [],
   "source": []
  },
  {
   "cell_type": "code",
   "execution_count": null,
   "metadata": {},
   "outputs": [],
   "source": []
  },
  {
   "cell_type": "markdown",
   "metadata": {},
   "source": [
    "\n",
    "***\n",
    "***\n",
    "\n",
    "## t-SNE Plot <a class=\"anchor\" id=\"tsne-plot\"></a>\n",
    "To visualize the relationships between the embedded nodes, we first need to redduce the dimensions of the molecular mechanism embeddings. To this we use [t-SNE](). Once reduce, we can visualize the results in a scatter plot.\n"
   ]
  },
  {
   "cell_type": "code",
   "execution_count": null,
   "metadata": {},
   "outputs": [],
   "source": [
    "# CONVERT EMBEDDINGS INTO PANDAS DATAFRAME\n",
    "embedding_file = open('./resources/graphs/out.txt').readlines()[1:]\n",
    "node_labels = json.loads(open('./resources/graphs/KG_triples_ints_map.json').read())\n",
    "node_label_dict = {val: key for (key, val) in node_labels.items()}\n",
    "node_list = ['HP', 'CHEBI', 'VO', 'DOID', 'R-HSA', 'GO', 'geneid']\n"
   ]
  },
  {
   "cell_type": "code",
   "execution_count": null,
   "metadata": {},
   "outputs": [],
   "source": [
    "# DIMENSIONALITY REDUCTION\n",
    "x_reduced = TruncatedSVD(n_components=50, random_state=1).fit_transform(list(embedding_data['embeddings']))\n",
    "x_embedded = TSNE(n_components=2, random_state=1, verbose=True, perplexity=50.0).fit_transform(x_reduced)\n",
    "np.save('./resources/graphs/ALL_KG_res_tsne', x_embedded)\n",
    "\n",
    "# convert embeddings to df\n",
    "embeddings = processes_integer_labeled_embeddings(embedding_file, node_label_dict, node_list)\n",
    "embedding_data = pd.DataFrame(embeddings, columns=['node_type', 'node', 'embedding'])\n",
    "embedding_data.to_pickle('./resources/embeddings/PheKnowLator_embedding_dataframe')\n"
   ]
  },
  {
   "cell_type": "code",
   "execution_count": null,
   "metadata": {},
   "outputs": [],
   "source": [
    "# set-up plot arguments\n",
    "# set up colors and legend labels\n",
    "colors = {'Diseases': '#009EFA',\n",
    "          'Chemicals': 'indigo',\n",
    "          'GO Concepts': '#F79862',\n",
    "          'Genes': '#4fb783',\n",
    "          'Pathways': 'orchid',\n",
    "          'Phenotypes': '#A3B14B'}\n",
    "\n",
    "names = {key: key for key in colors.keys()}\n",
    "\n",
    "# create data frame to use for plotting data by node type\n",
    "df = pd.DataFrame(dict(x=x_embedded[:, 0], y=x_embedded[:, 1], group=list(embedding_data['node_type'])))\n",
    "groups = df.groupby('group')\n",
    "\n",
    "# create legend arguments\n",
    "dis = mpatches.Patch(color='#009EFA', label='Diseases')\n",
    "drg = mpatches.Patch(color='indigo', label='Drugs')\n",
    "go = mpatches.Patch(color='#F79862', label='GO Concepts')\n",
    "ge = mpatches.Patch(color='#4fb783', label='Genes')\n",
    "pat = mpatches.Patch(color='orchid', label='Pathways')\n",
    "phe = mpatches.Patch(color='#A3B14B', label='Phenotypes')\n",
    "\n",
    "legend_args = [[dis, drg, go, ge, pat, phe], 14, 'lower center', 3]\n",
    "title = 't-SNE: Biological Knowledge Graph'\n",
    "\n",
    "plots_embeddings(colors, names, groups, legend_args, 16, 100, title, 20)\n"
   ]
  }
 ],
 "metadata": {
  "kernelspec": {
   "display_name": "PyCharm (PheKnowLator)",
   "language": "python",
   "name": "pycharm-5f7498df"
  },
  "language_info": {
   "codemirror_mode": {
    "name": "ipython",
    "version": 3
   },
   "file_extension": ".py",
   "mimetype": "text/x-python",
   "name": "python",
   "nbconvert_exporter": "python",
   "pygments_lexer": "ipython3",
   "version": "3.6.2"
  },
  "latex_envs": {
   "LaTeX_envs_menu_present": true,
   "autoclose": false,
   "autocomplete": true,
   "bibliofile": "biblio.bib",
   "cite_by": "apalike",
   "current_citInitial": 1,
   "eqLabelWithNumbers": true,
   "eqNumInitial": 1,
   "hotkeys": {
    "equation": "Ctrl-E",
    "itemize": "Ctrl-I"
   },
   "labels_anchors": false,
   "latex_user_defs": false,
   "report_style_numbering": false,
   "user_envs_cfg": false
  },
  "toc": {
   "base_numbering": 1,
   "nav_menu": {},
   "number_sections": false,
   "sideBar": false,
   "skip_h1_title": false,
   "title_cell": "Table of Contents",
   "title_sidebar": "Contents",
   "toc_cell": false,
   "toc_position": {},
   "toc_section_display": false,
   "toc_window_display": false
  }
 },
 "nbformat": 4,
 "nbformat_minor": 1
}
