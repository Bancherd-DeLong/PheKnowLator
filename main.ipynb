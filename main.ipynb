{
 "cells": [
  {
   "cell_type": "markdown",
   "metadata": {},
   "source": [
    "\n",
    "# PheKnowLator  \n",
    "\n",
    "\n",
    "***\n",
    "***\n",
    "\n",
    "**Author:** [TJCallahan](https://mail.google.com/mail/u/0/?view=cm&fs=1&tf=1&to=callahantiff@gmail.com)  \n",
    "**GitHub Repository:** [PheKnowLator](https://github.com/callahantiff/PheKnowLator/wiki)  \n",
    "\n",
    "**Purpose:** This notebook serves as a `main` file for the PheKnowLator project. This scripts walks through this program step-by-step and generates the knowledge graph shown below. Several steps must be run before this notebook can be successfully run:\n",
    "- Make sure that the [master resource file](https://www.dropbox.com/s/4qu4ev96h5q6bdx/resource_info.txt?dl=0) is complete.  \n",
    "- Make sure that the files specifying the [ontologies](https://www.dropbox.com/s/bmmaavyd499d7px/ontology_source_list.txt?dl=0), [class](https://www.dropbox.com/s/cpxrj1to55syhzi/class_source_list.txt?dl=0), and [instance](https://www.dropbox.com/s/71b07b1g86roz3d/instance_source_list.txt?dl=0) data sources are completed  \n",
    "- Run `.scripts/NCBO_rest_api.py` to obtain mappings between onttology identifiers.\n",
    "\n",
    "\n",
    "***\n",
    "\n",
    "### Table of Contents\n",
    "* [Data Sources](#data-source)  \n",
    "* [Create Edge Lists](#create-edges)  \n",
    "* [Build Knowledge Graph](#build-kg)  \n",
    "* [Generate Mechanism Embeddings](#generate-embeddings)  \n",
    "* [t-SNE Plot](#tsne-plot)  \n",
    "\n",
    "***\n",
    "***\n",
    "\n",
    "<img src=\"https://user-images.githubusercontent.com/8030363/65094681-3383ef00-d97b-11e9-989d-94b1c3ad73b8.png\" \n",
    "width=\"900\" height=\"400\">\n",
    "\n",
    "\n",
    "**_NOTE._** _There is also a script version of this file (`./main.py`). Please see the [README](https://github.com/callahantiff/PheKnowLator/blob/master/README.md) for more information._\n"
   ]
  },
  {
   "cell_type": "markdown",
   "metadata": {
    "collapsed": true,
    "pycharm": {
     "is_executing": false
    }
   },
   "source": [
    "**Install Dependencies**"
   ]
  },
  {
   "cell_type": "code",
   "execution_count": 1,
   "metadata": {},
   "outputs": [],
   "source": [
    "# import needed libraries\n",
    "import glob\n",
    "import json\n",
    "import pandas as pd\n",
    "\n",
    "from rdflib import Graph\n",
    "\n",
    "# import scripts\n",
    "import scripts.python.DataSources\n",
    "import scripts.python.EdgeDictionary\n",
    "from scripts.python.KnowledgeGraph import *\n",
    "from scripts.python.KnowledgeGraphEmbedder import *\n",
    "from scripts.python.KGEmbeddingVisualizer import *\n"
   ]
  },
  {
   "cell_type": "markdown",
   "metadata": {},
   "source": [
    "***\n",
    "***\n",
    "\n",
    "## Download Data Sources <a class=\"anchor\" id=\"data-source\"></a>\n",
    "\n",
    "First, we need to download all sources that will be used to construct our knowledge graph. This portion of the script has three steps  \n",
    "1. Download Ontology Data  \n",
    "2. Download Class Data  \n",
    "3. Download Instance Data\n",
    "\n",
    "\n",
    "**Note.** When running the cells below for the class and instance data sources, you will be prompted to enter a file name for each source. Please use the correct formatting as described in the [Dependencies](https://github.com/callahantiff/PheKnowLator/wiki/Dependencies) section of the project Wiki.   \n"
   ]
  },
  {
   "cell_type": "markdown",
   "metadata": {},
   "source": [
    "***\n",
    "**Step 1: Download Ontology Data**\n"
   ]
  },
  {
   "cell_type": "code",
   "execution_count": null,
   "metadata": {},
   "outputs": [],
   "source": [
    "ont = scripts.python.DataSources.OntData('resources/ontology_source_list.txt')\n",
    "ont.parses_resource_file()\n",
    "ont.downloads_data_from_url('imports')\n",
    "    "
   ]
  },
  {
   "cell_type": "code",
   "execution_count": null,
   "metadata": {},
   "outputs": [],
   "source": [
    "ont.generates_source_metadata()\n",
    "ont.writes_source_metadata_locally()\n"
   ]
  },
  {
   "cell_type": "markdown",
   "metadata": {},
   "source": [
    "***\n",
    "**Step 2: Download Class Data**\n"
   ]
  },
  {
   "cell_type": "code",
   "execution_count": null,
   "metadata": {},
   "outputs": [],
   "source": [
    "cls = scripts.python.DataSources.Data('resources/class_source_list.txt')\n",
    "cls.parses_resource_file()\n",
    "cls.downloads_data_from_url('')\n",
    "    "
   ]
  },
  {
   "cell_type": "code",
   "execution_count": null,
   "metadata": {},
   "outputs": [],
   "source": [
    "cls.generates_source_metadata()\n",
    "cls.writes_source_metadata_locally()\n"
   ]
  },
  {
   "cell_type": "markdown",
   "metadata": {},
   "source": [
    "***\n",
    "**Step 3: Download Instance Data**\n"
   ]
  },
  {
   "cell_type": "code",
   "execution_count": null,
   "metadata": {},
   "outputs": [],
   "source": [
    "inst = scripts.python.DataSources.Data('resources/instance_source_list.txt')\n",
    "inst.parses_resource_file()\n",
    "inst.downloads_data_from_url('')\n",
    "    "
   ]
  },
  {
   "cell_type": "code",
   "execution_count": null,
   "metadata": {},
   "outputs": [],
   "source": [
    "inst.generates_source_metadata()\n",
    "inst.writes_source_metadata_locally()\n"
   ]
  },
  {
   "cell_type": "markdown",
   "metadata": {},
   "source": [
    "***\n",
    "***\n",
    "\n",
    "## Create Edge Lists <a class=\"anchor\" id=\"create-edges\"></a>\n",
    "\n",
    "In order to create the edge lists, you will need to do the following (assuming you don't want to use the [data from the current release](https://github.com/callahantiff/PheKnowLator/wiki/v2.0.0):\n",
    " - Run `python/NCBO_rest_api.py` script.  \n",
    "   - Note, that this script will require you to create an account with [BioPortal](http://basic-formal-ontology.org/) and place your API key in `resources/bioportal_api_key.txt`. \n",
    "   - When run from the command line, you will be asked to enter two ontologies (`source1=MESH`, `source2=CHEBI`).\n",
    "   - This will generate a text file that contains mappings between identifiers from two ontologies specified and write the results to `resources/data_maps/source1_source2_map.txt`.  \n",
    "   \n",
    "<br>   \n",
    "\n",
    "The code below will take the dictionaries of processed data described above and use them to create edge lists for each of the edge types specificed in the [`resource_info.txt`](https://github.com/callahantiff/PheKnowLator/blob/development/resources/resource_info.txt). Each edge list will be appended to a nested dictionary (see details below).\n",
    "\n",
    "<br>\n",
    "\n",
    "**Master Edge Dictionary**\n",
    "Below is an example of what the `Master Edge Dictionary` contains for each processed resource:  \n",
    "```python\n",
    "\n",
    "master_edges = {'chemical-disease'  :\n",
    "                {'source_labels'    : ';MESH_;',\n",
    "                 'data_type'        : 'class-class',\n",
    "                 'edge_relation'    : 'RO_0002606',\n",
    "                 'uri'              : ('http://purl.obolibrary.org/obo/',\n",
    "                                       'http://purl.obolibrary.org/obo/'),\n",
    "                 'row_splitter'     : '#',\n",
    "                 'col_splitter'     : 't',\n",
    "                 'column_indicies'  : '1;4',\n",
    "                 'identifier_maps'  : '0:./MESH_CHEBI_MAP.txt;1:disease-dbxref-map',\n",
    "                 'evidence_criteria': \"5;!=;' \",\n",
    "                 'filter_criteria'  : 'None',\n",
    "                 'edge_list'        : []}\n",
    "```\n"
   ]
  },
  {
   "cell_type": "code",
   "execution_count": null,
   "metadata": {},
   "outputs": [],
   "source": [
    "# combine data sources\n",
    "combined_edges = dict(dict(cls.data_files, **inst.data_files), **ont.data_files)\n",
    "\n",
    "\n",
    "# initialize edge dictionary class\n",
    "master_edges = scripts.python.EdgeDictionary.EdgeList(combined_edges, './resources/resource_info.txt')\n",
    "\n",
    "master_edges.creates_knowledge_graph_edges()\n"
   ]
  },
  {
   "cell_type": "code",
   "execution_count": 2,
   "metadata": {},
   "outputs": [],
   "source": [
    "# save nested edges locally\n",
    "# with open('./resources/kg_master_edge_dictionary.json', 'w') as filepath:\n",
    "#     json.dump(master_edges.source_info, filepath)\n",
    "\n",
    "# load existing master_edge dictionary\n",
    "with open('./resources/kg_master_edge_dictionary.json', 'r') as filepath:\n",
    "    master_edges = json.load(filepath)\n"
   ]
  },
  {
   "cell_type": "code",
   "execution_count": 3,
   "metadata": {},
   "outputs": [
    {
     "data": {
      "text/html": [
       "<div>\n",
       "<style scoped>\n",
       "    .dataframe tbody tr th:only-of-type {\n",
       "        vertical-align: middle;\n",
       "    }\n",
       "\n",
       "    .dataframe tbody tr th {\n",
       "        vertical-align: top;\n",
       "    }\n",
       "\n",
       "    .dataframe thead th {\n",
       "        text-align: right;\n",
       "    }\n",
       "</style>\n",
       "<table border=\"1\" class=\"dataframe\">\n",
       "  <thead>\n",
       "    <tr style=\"text-align: right;\">\n",
       "      <th></th>\n",
       "      <th>edge</th>\n",
       "      <th>example_edge</th>\n",
       "      <th>edge_list_count</th>\n",
       "    </tr>\n",
       "  </thead>\n",
       "  <tbody>\n",
       "    <tr>\n",
       "      <th>0</th>\n",
       "      <td>chemical-gene</td>\n",
       "      <td>CHEBI_81395, 596</td>\n",
       "      <td>400288</td>\n",
       "    </tr>\n",
       "    <tr>\n",
       "      <th>1</th>\n",
       "      <td>chemical-go</td>\n",
       "      <td>CHEBI_81395, GO_0006309</td>\n",
       "      <td>41604</td>\n",
       "    </tr>\n",
       "    <tr>\n",
       "      <th>2</th>\n",
       "      <td>chemical-pathway</td>\n",
       "      <td>CHEBI_10033, R-HSA-1430728</td>\n",
       "      <td>28582</td>\n",
       "    </tr>\n",
       "    <tr>\n",
       "      <th>3</th>\n",
       "      <td>chemical-disease</td>\n",
       "      <td>CHEBI_81395, DOID_13677</td>\n",
       "      <td>2328410</td>\n",
       "    </tr>\n",
       "    <tr>\n",
       "      <th>4</th>\n",
       "      <td>disease-gobp</td>\n",
       "      <td>DOID_9667, GO_0009257</td>\n",
       "      <td>1223624</td>\n",
       "    </tr>\n",
       "    <tr>\n",
       "      <th>5</th>\n",
       "      <td>disease-gomf</td>\n",
       "      <td>DOID_3021, GO_0033885</td>\n",
       "      <td>138427</td>\n",
       "    </tr>\n",
       "    <tr>\n",
       "      <th>6</th>\n",
       "      <td>disease-gocc</td>\n",
       "      <td>DOID_12849, GO_1990393</td>\n",
       "      <td>85166</td>\n",
       "    </tr>\n",
       "    <tr>\n",
       "      <th>7</th>\n",
       "      <td>disease-phenotype</td>\n",
       "      <td>DOID_0110720, HP_0000006</td>\n",
       "      <td>120556</td>\n",
       "    </tr>\n",
       "    <tr>\n",
       "      <th>8</th>\n",
       "      <td>gene-gene</td>\n",
       "      <td>381, 6712</td>\n",
       "      <td>411868</td>\n",
       "    </tr>\n",
       "    <tr>\n",
       "      <th>9</th>\n",
       "      <td>gene-gobp</td>\n",
       "      <td>728945, GO_0000413</td>\n",
       "      <td>157344</td>\n",
       "    </tr>\n",
       "    <tr>\n",
       "      <th>10</th>\n",
       "      <td>gene-gomf</td>\n",
       "      <td>11163, GO_0003723</td>\n",
       "      <td>163504</td>\n",
       "    </tr>\n",
       "    <tr>\n",
       "      <th>11</th>\n",
       "      <td>gene-gocc</td>\n",
       "      <td>11163, GO_0005829</td>\n",
       "      <td>158801</td>\n",
       "    </tr>\n",
       "    <tr>\n",
       "      <th>12</th>\n",
       "      <td>gene-phenotype</td>\n",
       "      <td>8192, HP_0004322</td>\n",
       "      <td>150653</td>\n",
       "    </tr>\n",
       "    <tr>\n",
       "      <th>13</th>\n",
       "      <td>gene-pathway</td>\n",
       "      <td>448835, R-HSA-1266738</td>\n",
       "      <td>121191</td>\n",
       "    </tr>\n",
       "    <tr>\n",
       "      <th>14</th>\n",
       "      <td>pathway-disease</td>\n",
       "      <td>R-HSA-749476, DOID_0050565</td>\n",
       "      <td>5767</td>\n",
       "    </tr>\n",
       "    <tr>\n",
       "      <th>15</th>\n",
       "      <td>pathway-gobp</td>\n",
       "      <td>R-HSA-2173782, GO_0006898</td>\n",
       "      <td>18990</td>\n",
       "    </tr>\n",
       "    <tr>\n",
       "      <th>16</th>\n",
       "      <td>pathway-gomf</td>\n",
       "      <td>R-HSA-8876283, GO_0015370</td>\n",
       "      <td>1800</td>\n",
       "    </tr>\n",
       "    <tr>\n",
       "      <th>17</th>\n",
       "      <td>pathway-gocc</td>\n",
       "      <td>R-HSA-166753, GO_0005576</td>\n",
       "      <td>75267</td>\n",
       "    </tr>\n",
       "  </tbody>\n",
       "</table>\n",
       "</div>"
      ],
      "text/plain": [
       "                 edge                example_edge  edge_list_count\n",
       "0       chemical-gene            CHEBI_81395, 596           400288\n",
       "1         chemical-go     CHEBI_81395, GO_0006309            41604\n",
       "2    chemical-pathway  CHEBI_10033, R-HSA-1430728            28582\n",
       "3    chemical-disease     CHEBI_81395, DOID_13677          2328410\n",
       "4        disease-gobp       DOID_9667, GO_0009257          1223624\n",
       "5        disease-gomf       DOID_3021, GO_0033885           138427\n",
       "6        disease-gocc      DOID_12849, GO_1990393            85166\n",
       "7   disease-phenotype    DOID_0110720, HP_0000006           120556\n",
       "8           gene-gene                   381, 6712           411868\n",
       "9           gene-gobp          728945, GO_0000413           157344\n",
       "10          gene-gomf           11163, GO_0003723           163504\n",
       "11          gene-gocc           11163, GO_0005829           158801\n",
       "12     gene-phenotype            8192, HP_0004322           150653\n",
       "13       gene-pathway       448835, R-HSA-1266738           121191\n",
       "14    pathway-disease  R-HSA-749476, DOID_0050565             5767\n",
       "15       pathway-gobp   R-HSA-2173782, GO_0006898            18990\n",
       "16       pathway-gomf   R-HSA-8876283, GO_0015370             1800\n",
       "17       pathway-gocc    R-HSA-166753, GO_0005576            75267"
      ]
     },
     "execution_count": 3,
     "metadata": {},
     "output_type": "execute_result"
    }
   ],
   "source": [
    "# print basic stats on each resource\n",
    "edge_data = [\n",
    "    [key,\n",
    "     ', '.join(master_edges[key]['edge_list'][0]),\n",
    "     len(master_edges[key]['edge_list'])]\n",
    "    \n",
    "    for key in master_edges.keys()]\n",
    "\n",
    "# convert dict to pandas df for nice printing\n",
    "df = pd.DataFrame(edge_data, columns = ['edge', 'example_edge', 'edge_list_count']) \n",
    "df\n",
    "                  "
   ]
  },
  {
   "cell_type": "markdown",
   "metadata": {},
   "source": [
    "\n",
    "***\n",
    "***\n",
    "\n",
    "## Build Knowledge Graph  <a class=\"anchor\" id=\"build-kg\"></a>\n",
    "\n",
    "Once the edge lists have been created, we can start building our knowledge graph. Since this process is somewhat time consuming, we break into the following steps:  \n",
    "\n",
    "1. Merge Ontologies   \n",
    "2. Create Class-Instance Edges    \n",
    "3. Create Instance-Instance and Class-Class Edges    \n",
    "4. Remove Disjointness Axioms   \n",
    " - [Disjointness axioms](https://go-protege-tutorial.readthedocs.io/en/latest/Disjointness.html) are created in order to restrict ontology classes such that no individual can be a member of more than one class. We remove these types of axioms from our graph before closing our ontology because these axioms often result in unexpected errors and inconsistencies during reasoning.    \n",
    "5. Deductively Close Graph using [ELK](https://protegewiki.stanford.edu/wiki/ELK) Reasoner   \n",
    "   - To run this from the command line and not through this program, enter the following from project directory root:   \n",
    "\n",
    "  ```bash\n",
    "./resources/lib/owltools ./resources/knowledge_graphs/[input_graph_filename.owl] --reasoner elk --run-reasoner --assert-implied -o resources/knowledge_graphs/[output_graph_name]_Closed_ELK.owl\n",
    "```\n",
    "6. Save Edge List    \n",
    " - Two versions of the knowledge graphs edges are saved as lists of triples one with: (1) node labels and (2) one with integer labels (the input requirement for the embedding algorithms)\n",
    "\n",
    "<br>\n",
    "\n",
    "**‼ IMPORTANT NOTE:** The file containing the merged ontologies is quite large and can take up to 30 minutes to read in.  This is not a limitation of the code directly, but rather a function of the [`RDFLib Library`](https://github.com/RDFLib). While there are other ways to read in this data, we maintain reliance on this library as it is the most user-friendly for non-RDF users.  \n",
    "\n",
    "***\n"
   ]
  },
  {
   "cell_type": "markdown",
   "metadata": {},
   "source": [
    "***\n",
    "### Biological Knowledge Graph<a class=\"anchor\" id=\"bio-kg\"></a>\n"
   ]
  },
  {
   "cell_type": "markdown",
   "metadata": {},
   "source": [
    "\n",
    "**Merge Ontologies**\n"
   ]
  },
  {
   "cell_type": "code",
   "execution_count": 2,
   "metadata": {},
   "outputs": [],
   "source": [
    "# set-up vars for file manipulation\n",
    "ont_files = './resources/ontologies/'\n",
    "merged_onts = ont_files + 'merged_ontologies/'\n",
    "ont_kg = './resources/knowledge_graphs/'\n"
   ]
  },
  {
   "cell_type": "code",
   "execution_count": null,
   "metadata": {},
   "outputs": [],
   "source": [
    "# create list of ontologies to merge\n",
    "ontology_list = [\n",
    "    [ont_files + 'go_with_imports.owl', ont_files + 'hp_with_imports.owl', merged_onts + 'hp_go_merged.owl'],\n",
    "    [merged_onts + 'hp_go_merged.owl', ont_files + 'chebi_lite.owl', merged_onts + 'hp_go_chebi_merged.owl'],\n",
    "    [merged_onts + 'hp_go_chebi_merged.owl', ont_files + 'vo_with_imports.owl', merged_onts +\n",
    "     'PheKnowLator_v2_MergedOntologies_BioKG.owl']\n",
    "]\n",
    "\n",
    "# merge ontologies\n",
    "merges_ontologies(ontology_list)\n",
    "  "
   ]
  },
  {
   "cell_type": "code",
   "execution_count": null,
   "metadata": {},
   "outputs": [],
   "source": [
    "# read in file and count edges (n=2277644 edges)\n",
    "print(len(Graph().parse(ont_file_merged + 'hp_go_merged.owl')))\n"
   ]
  },
  {
   "cell_type": "code",
   "execution_count": null,
   "metadata": {},
   "outputs": [],
   "source": [
    "# read in file and count edges (n=3524109 edges)\n",
    "print(len(Graph().parse(ont_file_merged + 'hp_go_chebi_merged.owl')))"
   ]
  },
  {
   "cell_type": "code",
   "execution_count": null,
   "metadata": {},
   "outputs": [],
   "source": [
    "# read in file and count edges (n=3,606,052 edges)\n",
    "print(len(Graph().parse(ont_file_merged + 'PheKnowVec_v2_MergedOntologies_BioKG.owl')))\n"
   ]
  },
  {
   "cell_type": "markdown",
   "metadata": {},
   "source": [
    "\n",
    "**Create Edge Lists**\n"
   ]
  },
  {
   "cell_type": "code",
   "execution_count": 3,
   "metadata": {},
   "outputs": [],
   "source": [
    "# separate edge lists by data type\n",
    "master_edges = master_edges.source_info.copy()\n",
    "class_edges = {}\n",
    "other_edges = {}\n",
    "\n",
    "for edge in master_edges.keys():\n",
    "    if master_edges[edge]['data_type'] == 'class-instance' or master_edges[edge]['data_type'] == 'instance-class':\n",
    "        class_edges[edge] = master_edges[edge]\n",
    "    else:\n",
    "        other_edges[edge] = master_edges[edge]\n"
   ]
  },
  {
   "cell_type": "markdown",
   "metadata": {},
   "source": [
    "_Create Class-Instance Edges_   \n"
   ]
  },
  {
   "cell_type": "code",
   "execution_count": null,
   "metadata": {
    "code_folding": []
   },
   "outputs": [],
   "source": [
    "# create class-instance and instance-instance edges\n",
    "class_kg = creates_knowledge_graph_edges(class_edges,\n",
    "                                         'class',\n",
    "                                          Graph().parse(merged_onts + 'PheKnowLator_v2_MergedOntologies_BioKG.owl'),\n",
    "                                          ont_kg + 'PheKnowLator_v2_ClassInstancesOnly_BioKG.owl',\n",
    "                                          kg_class_iri_map={})\n"
   ]
  },
  {
   "cell_type": "markdown",
   "metadata": {},
   "source": [
    "_Create Instance-Instance and Class-Class Edges_"
   ]
  },
  {
   "cell_type": "code",
   "execution_count": null,
   "metadata": {},
   "outputs": [],
   "source": [
    "# create instance-instance and class-class edges (in 00:26 minutes (4.88 s/it))\n",
    "class_inst_kg = creates_knowledge_graph_edges(other_edges,\n",
    "                                              'other',\n",
    "                                              class_kg,\n",
    "                                              ont_kg + 'PheKnowLator_v2_Full_BioKG.owl')\n"
   ]
  },
  {
   "cell_type": "markdown",
   "metadata": {},
   "source": [
    "_Remove Disjointness Axioms_"
   ]
  },
  {
   "cell_type": "code",
   "execution_count": null,
   "metadata": {},
   "outputs": [],
   "source": [
    "# identified and removed 333 disjointness axioms\n",
    "removes_disointness_axioms(class_inst_kg, ont_kg + 'PheKnowLator_v2_Full_BioKG_NoDisjointness.owl')\n"
   ]
  },
  {
   "cell_type": "markdown",
   "metadata": {},
   "source": [
    "_Deductively Close Graph_"
   ]
  },
  {
   "cell_type": "code",
   "execution_count": null,
   "metadata": {},
   "outputs": [],
   "source": [
    "# close graph with ELK reasoner\n",
    "closes_knowledge_graph(ont_kg + 'PheKnowLator_v2_Full_BioKG_NoDisjointness.owl',\n",
    "                       'elk',\n",
    "                       ont_kg + 'PheKnowLator_v2_Full_BioKG_NoDisjointness_Closed_ELK.owl')\n"
   ]
  },
  {
   "cell_type": "markdown",
   "metadata": {},
   "source": [
    "_Remove Metadata Nodes_"
   ]
  },
  {
   "cell_type": "code",
   "execution_count": null,
   "metadata": {},
   "outputs": [],
   "source": [
    "# removes nodes that are not biologically meaningful\n",
    "removes_metadata_nodes(Graph().parse(ont_kg + 'PheKnowLator_v2_Full_BioKG_NoDisjointness_Closed_ELK.owl'),\n",
    "                       ont_kg + 'PheKnowLator_v2_Full_BioKG_NoDisjointness_ELK_Closed_NoMetadataNodes.owl',\n",
    "                       ont_kg + 'PheKnowLator_v2_ClassInstancesOnly_BioKG_ClassInstanceMap.json')\n"
   ]
  },
  {
   "cell_type": "markdown",
   "metadata": {},
   "source": [
    "_Save Edge List_"
   ]
  },
  {
   "cell_type": "code",
   "execution_count": null,
   "metadata": {},
   "outputs": [],
   "source": [
    "# convert triples to ints\n",
    "maps_str_to_int(Graph().parse(ont_kg + 'PheKnowLator_v2_Full_BioKG_NoDisjointness_ELK_Closed_NoMetadataNodes.owl'),\n",
    "                ont_kg + 'PheKnowLator_v2_Full_BioKG_NoDisjointness_Closed_ELK_Triples_Integers.txt',\n",
    "                ont_kg + 'PheKnowLator_v2_Full_BioKG_Triples_Integer_Labels_Map.json')\n",
    "    \n"
   ]
  },
  {
   "cell_type": "markdown",
   "metadata": {},
   "source": [
    "***\n",
    "***\n",
    "\n",
    "## Generate Mechanism Embeddings <a class=\"anchor\" id=\"generate-embeddings\"></a>  \n",
    "\n",
    "To create estimates of modlecular mechanisms, we embed knowledge graph information extracted by [DeepWalk](https://github.com/phanein/deepwalk). This repository contains code to run two different versions of the [original method](http://www.perozzi.net/publications/14_kdd_deepwalk.pdf) developed by [Bryan Perozzi](https://github.com/phanein):    \n",
    "\n",
    "***\n",
    "\n",
    " -  [`DeepWalk algorithm-C`](https://github.com/xgfs/deepwalk-c): an implementation of the original algorithm in C++ (with some improvements to speed up initialize the hierarchical softmax tree that was developed by [Anton Tsitsulin](https://github.com/xgfs).  \n",
    " \n",
    "     To run this from the command line and not through this program, enter the following from `./deepwalk-c-master/src`:   \n",
    "\n",
    "    ```bash\n",
    "    ./deepwalk -input ../PheKnowLator_v2_Full_BioKG_NoDisjointness_Full_Triples_Integers_.bcsr -output ../PheKnowLator_v2_Full_BioKG_NotClosed_128_100_20_10_100_003.out -threads 32 -dim 128 -nwalks 100 -walklen 20 -window 10 -nprwalks 100 -lr 0.03 -verbose 2\n",
    "   ```  \n",
    "\n",
    "***   \n",
    "    \n",
    " - [`DeepWalk-RDF`](https://github.com/bio-ontology-research-group/walking-rdf-and-owl): an extension of the original algorithm that also embeds graph edges; developed by [the Bio-Ontology Research Group](https://github.com/bio-ontology-research-group/walking-rdf-and-owl).  \n",
    "   - ‼ **Note:** This library depends on the [C++ Boost library](https://www.pyimagesearch.com/2015/04/27/installing\n",
    "   -boost-and-boost-python-on-osx-with-homebrew/) and [Boost Threadpool Header Files](http://threadpool.sourceforge\n",
    "   .net/). For the Headers, the sub-directory called `Boost` at the top-level of the `walking-rdf-and-owl-master\n",
    "   ` directory. In order to compile and run `Deepwalk-RDF` on OSX, there are a few important changes that will need\n",
    "    to be made:  \n",
    "      - Change `TIME_UTC` to `TIME_UTC_` in the `boost/threadpool/task_adaptors.hpp`.  \n",
    "      - Change the `-lboost_thread` argument to `-lboost_thread-mt` in the `walking-rdf-and-owl-master/Makefile` \n",
    "      - To troubleshoot incompatability issues between Deepwalk and Gensim, run the following in this order:  \n",
    "        - `pip uninstall gensim`  \n",
    "        - `pip uninstall deepwalk`  \n",
    "        - `pip install gensim==0.10.2` \n",
    "        - `pip install deepwalk`  \n",
    "\n",
    "    To run this from the command line and not through this program, enter the following from `./walking-rdf-and-owl-master/`:   \n",
    "\n",
    "    ```bash\n",
    "    deepwalk --workers 64 --representation-size 256 --format edgelist --input     applications/inputs/PheKnowLator_v2_Full_BioKG_NoDisjointness_Closed_ELK_Triples_Integers.txt  --output     applications/outputs/PheKnowLator_v2_Full_BioKG_NoDisjointness_Closed_ELK_Embedddings_256_10_50_40.txt --window-size 10 --number-walks 50 --walk-length 40\n",
    "    ```\n",
    "\n",
    "***\n",
    "\n",
    "**NOTE.** It's both faster and less taxing on your computer to run this code from the command line rather than from here.\n",
    "\n",
    "_The current analysis implemented DeepWalk-C as its runtime was nearly 10 times faster than DeepWalk-RDF_\n"
   ]
  },
  {
   "cell_type": "code",
   "execution_count": null,
   "metadata": {},
   "outputs": [],
   "source": [
    "# set file path\n",
    "embed_path = './resources/embeddings/'\n",
    "\n",
    "runs_deepwalk(input_file=ont_kg + 'PheKnowLator_v2_Full_BioKG_NoDisjointness_Closed_ELK_Triples_Integers.txt',\n",
    "              output_file=embed_path + 'PheKnowLator_v2_Full_BioKG_DeepWalk_Embeddings_128_10_50_20.txt',\n",
    "              threads=100,\n",
    "              dim=128,\n",
    "              nwalks=100,\n",
    "              walklen=20,\n",
    "              window=10,\n",
    "              nprwalks=100,\n",
    "              lr=0.01)\n"
   ]
  },
  {
   "cell_type": "markdown",
   "metadata": {},
   "source": [
    "**Process and Format Embeddings for Analysis**  \n",
    "Read in embeddings and replace integer node labels with their more meaningful biological knowledge graph identifiers.\n"
   ]
  },
  {
   "cell_type": "markdown",
   "metadata": {},
   "source": [
    "_Not Deductively Closed Knowledge Graph_"
   ]
  },
  {
   "cell_type": "code",
   "execution_count": null,
   "metadata": {},
   "outputs": [],
   "source": [
    "# not closed graphs\n",
    "processes_embedded_nodes(glob.glob('./resources/embeddings/*_NotClosed_*.out'),\n",
    "                         glob.glob('./resources/knowledge_graphs/kg_not_closed/*Triples_Integers.txt')[0],\n",
    "                         glob.glob('./resources/knowledge_graphs/kg_not_closed/*.json')[0])\n",
    "    "
   ]
  },
  {
   "cell_type": "markdown",
   "metadata": {},
   "source": [
    "_Deductively Closed Knowledge Graph_"
   ]
  },
  {
   "cell_type": "code",
   "execution_count": null,
   "metadata": {},
   "outputs": [],
   "source": [
    "# closed graphs\n",
    "processes_embedded_nodes(glob.glob('./resources/embeddings/*_Closed_*.out'),\n",
    "                         glob.glob('./resources/knowledge_graphs/kg_closed/*Triples_Integers.txt')[0],\n",
    "                         glob.glob('./resources/knowledge_graphs/kg_closed/*.json')[0])\n"
   ]
  },
  {
   "cell_type": "markdown",
   "metadata": {},
   "source": [
    "***\n",
    "\n",
    "**Preproess Embedding Data to Prepare for Analysis**"
   ]
  },
  {
   "cell_type": "code",
   "execution_count": 6,
   "metadata": {},
   "outputs": [],
   "source": [
    "# read in embedding file and re-generate node labels\n",
    "input_embedding = './resources/embeddings/PheKnowLator_v2_Full_BioKG_Closed_128_100_20_10_100_003_formatted.txt'\n",
    "embed_df_out = './resources/embeddings/PheKnowLator_v2_Full_BioKG2_Embedding_128_100_20_10_100_003_dataframe.csv'\n",
    "\n",
    "input_embeddings = glob.glob('./resources/embeddings/*_formatted.txt')\n",
    "\n",
    "for file in glob.glob('./resources/embeddings/*_formatted.txt'):\n",
    "\n",
    "    embedding_file = open(file).readlines()[1:]\n",
    "    node_list = ['HP', 'CHEBI', 'VO', 'DOID', 'R-HSA', 'GO', 'geneid']\n",
    "\n",
    "    # convert embeddings to df\n",
    "    embeddings = processes_integer_labeled_embeddings(embedding_file, node_list)\n",
    "    embedding_data = pd.DataFrame(embeddings, columns=['node_type', 'node_id', 'embedding'])\n",
    "\n",
    "    # update column names (128: (sigma 0.196289; KL@50 iterations 103.057411)\n",
    "    embedding_data['node_category'] = embedding_data['node_type'].map({'HP': 'Phenotypes',\n",
    "                                                                       'DOID': 'Diseases',\n",
    "                                                                       'VO': 'Vaccines',\n",
    "                                                                       'CHEBI': 'Chemicals',\n",
    "                                                                       'GO': 'Gene Ontology',\n",
    "                                                                       'geneid': 'Genes',\n",
    "                                                                       'R-HSA': 'Pathways'})\n",
    "\n",
    "    # save locally\n",
    "    embedding_data[['node_type', 'node_type', 'node_id', 'embedding']].to_csv(embed_df_out, index=None, header=True)\n"
   ]
  },
  {
   "cell_type": "code",
   "execution_count": 7,
   "metadata": {},
   "outputs": [
    {
     "data": {
      "text/html": [
       "<div>\n",
       "<style scoped>\n",
       "    .dataframe tbody tr th:only-of-type {\n",
       "        vertical-align: middle;\n",
       "    }\n",
       "\n",
       "    .dataframe tbody tr th {\n",
       "        vertical-align: top;\n",
       "    }\n",
       "\n",
       "    .dataframe thead th {\n",
       "        text-align: right;\n",
       "    }\n",
       "</style>\n",
       "<table border=\"1\" class=\"dataframe\">\n",
       "  <thead>\n",
       "    <tr style=\"text-align: right;\">\n",
       "      <th></th>\n",
       "      <th>node_type</th>\n",
       "      <th>node_id</th>\n",
       "      <th>embedding</th>\n",
       "      <th>node_category</th>\n",
       "    </tr>\n",
       "  </thead>\n",
       "  <tbody>\n",
       "    <tr>\n",
       "      <th>0</th>\n",
       "      <td>GO</td>\n",
       "      <td>http://purl.obolibrary.org/obo/GO_0002537</td>\n",
       "      <td>[-0.12789536, 0.026679337, 0.035235696, -0.104...</td>\n",
       "      <td>Gene Ontology</td>\n",
       "    </tr>\n",
       "    <tr>\n",
       "      <th>1</th>\n",
       "      <td>DOID</td>\n",
       "      <td>http://purl.obolibrary.org/obo/DOID_1588</td>\n",
       "      <td>[-0.11544607, 0.0658144, -0.0057145194, -0.102...</td>\n",
       "      <td>Diseases</td>\n",
       "    </tr>\n",
       "    <tr>\n",
       "      <th>2</th>\n",
       "      <td>GO</td>\n",
       "      <td>http://purl.obolibrary.org/obo/GO_0070269</td>\n",
       "      <td>[-0.14727426, 0.053809088, 0.04400345, -0.1364...</td>\n",
       "      <td>Gene Ontology</td>\n",
       "    </tr>\n",
       "    <tr>\n",
       "      <th>3</th>\n",
       "      <td>GO</td>\n",
       "      <td>http://purl.obolibrary.org/obo/GO_0035377</td>\n",
       "      <td>[-0.1670176, 0.097878315, -0.06523119, -0.0694...</td>\n",
       "      <td>Gene Ontology</td>\n",
       "    </tr>\n",
       "    <tr>\n",
       "      <th>4</th>\n",
       "      <td>GO</td>\n",
       "      <td>http://purl.obolibrary.org/obo/GO_0006833</td>\n",
       "      <td>[-0.08418379, 0.037013043, -0.0058968603, -0.1...</td>\n",
       "      <td>Gene Ontology</td>\n",
       "    </tr>\n",
       "    <tr>\n",
       "      <th>5</th>\n",
       "      <td>CHEBI</td>\n",
       "      <td>http://purl.obolibrary.org/obo/CHEBI_35455</td>\n",
       "      <td>[-0.08914226, 0.031103585, -0.03510634, -0.129...</td>\n",
       "      <td>Chemicals</td>\n",
       "    </tr>\n",
       "    <tr>\n",
       "      <th>6</th>\n",
       "      <td>DOID</td>\n",
       "      <td>http://purl.obolibrary.org/obo/DOID_2799</td>\n",
       "      <td>[-0.12489569, 0.080540515, 0.010497774, -0.100...</td>\n",
       "      <td>Diseases</td>\n",
       "    </tr>\n",
       "    <tr>\n",
       "      <th>7</th>\n",
       "      <td>CHEBI</td>\n",
       "      <td>http://purl.obolibrary.org/obo/CHEBI_15930</td>\n",
       "      <td>[-0.2005802, -0.012602089, -0.04713281, -0.052...</td>\n",
       "      <td>Chemicals</td>\n",
       "    </tr>\n",
       "    <tr>\n",
       "      <th>8</th>\n",
       "      <td>geneid</td>\n",
       "      <td>http://purl.uniprot.org/geneid/10640</td>\n",
       "      <td>[-0.33007488, -0.084811226, -0.026324524, -0.2...</td>\n",
       "      <td>Genes</td>\n",
       "    </tr>\n",
       "    <tr>\n",
       "      <th>9</th>\n",
       "      <td>GO</td>\n",
       "      <td>http://purl.obolibrary.org/obo/GO_0046982</td>\n",
       "      <td>[-0.11928611, 0.03227473, -0.061795298, -0.122...</td>\n",
       "      <td>Gene Ontology</td>\n",
       "    </tr>\n",
       "  </tbody>\n",
       "</table>\n",
       "</div>"
      ],
      "text/plain": [
       "  node_type                                     node_id  \\\n",
       "0        GO   http://purl.obolibrary.org/obo/GO_0002537   \n",
       "1      DOID    http://purl.obolibrary.org/obo/DOID_1588   \n",
       "2        GO   http://purl.obolibrary.org/obo/GO_0070269   \n",
       "3        GO   http://purl.obolibrary.org/obo/GO_0035377   \n",
       "4        GO   http://purl.obolibrary.org/obo/GO_0006833   \n",
       "5     CHEBI  http://purl.obolibrary.org/obo/CHEBI_35455   \n",
       "6      DOID    http://purl.obolibrary.org/obo/DOID_2799   \n",
       "7     CHEBI  http://purl.obolibrary.org/obo/CHEBI_15930   \n",
       "8    geneid        http://purl.uniprot.org/geneid/10640   \n",
       "9        GO   http://purl.obolibrary.org/obo/GO_0046982   \n",
       "\n",
       "                                           embedding  node_category  \n",
       "0  [-0.12789536, 0.026679337, 0.035235696, -0.104...  Gene Ontology  \n",
       "1  [-0.11544607, 0.0658144, -0.0057145194, -0.102...       Diseases  \n",
       "2  [-0.14727426, 0.053809088, 0.04400345, -0.1364...  Gene Ontology  \n",
       "3  [-0.1670176, 0.097878315, -0.06523119, -0.0694...  Gene Ontology  \n",
       "4  [-0.08418379, 0.037013043, -0.0058968603, -0.1...  Gene Ontology  \n",
       "5  [-0.08914226, 0.031103585, -0.03510634, -0.129...      Chemicals  \n",
       "6  [-0.12489569, 0.080540515, 0.010497774, -0.100...       Diseases  \n",
       "7  [-0.2005802, -0.012602089, -0.04713281, -0.052...      Chemicals  \n",
       "8  [-0.33007488, -0.084811226, -0.026324524, -0.2...          Genes  \n",
       "9  [-0.11928611, 0.03227473, -0.061795298, -0.122...  Gene Ontology  "
      ]
     },
     "execution_count": 7,
     "metadata": {},
     "output_type": "execute_result"
    }
   ],
   "source": [
    "# preview data\n",
    "embedding_data.head(n=10)\n"
   ]
  },
  {
   "cell_type": "markdown",
   "metadata": {},
   "source": [
    "\n",
    "***\n",
    "***\n",
    "\n",
    "## t-SNE Plot <a class=\"anchor\" id=\"tsne-plot\"></a>\n",
    "To visualize the relationships between the embedded nodes, we first need to redduce the dimensions of the molecular mechanism embeddings. To this we use [t-SNE](). Once reduce, we can visualize the results in a scatter plot.\n"
   ]
  },
  {
   "cell_type": "markdown",
   "metadata": {},
   "source": [
    "**Biological Knowledge Graph**"
   ]
  },
  {
   "cell_type": "markdown",
   "metadata": {},
   "source": [
    "_Process Embeddings_"
   ]
  },
  {
   "cell_type": "markdown",
   "metadata": {},
   "source": [
    "_Dimensionality Reduction with t-SNE_"
   ]
  },
  {
   "cell_type": "code",
   "execution_count": null,
   "metadata": {},
   "outputs": [],
   "source": [
    "x_reduced = TruncatedSVD(n_components=50, random_state=1).fit_transform(list(embedding_data['embeddings']))\n",
    "x_embedded = TSNE(n_components=2, random_state=1, verbose=True, n_iter=1000, learning_rate=20, perplexity=50.0)\\\n",
    "    .fit_transform(x_reduced)\n",
    "np.save('./resources/embeddings/PheKnowLator_v2_Full_BioKG_NoDisjointness_Closed_ELK_Embeddings_128_10_50_40_tsne', x_embedded)\n"
   ]
  },
  {
   "cell_type": "code",
   "execution_count": null,
   "metadata": {},
   "outputs": [],
   "source": [
    "# set-up plot arguments\n",
    "# set up colors and legend labels\n",
    "colors = {'Diseases': '#009EFA',\n",
    "          'Chemicals': 'indigo',\n",
    "          'GO Concepts': '#F79862',\n",
    "          'Genes': '#4fb783',\n",
    "          'Pathways': 'orchid',\n",
    "          'Phenotypes': '#A3B14B'}\n",
    "\n",
    "names = {key: key for key in colors.keys()}\n",
    "\n",
    "# create data frame to use for plotting data by node type\n",
    "df = pd.DataFrame(dict(x=x_embedded[:, 0], y=x_embedded[:, 1], group=list(embedding_data['node_type'])))\n",
    "groups = df.groupby('group')\n",
    "\n",
    "# create legend arguments\n",
    "dis = mpatches.Patch(color='#009EFA', label='Diseases')\n",
    "drg = mpatches.Patch(color='indigo', label='Drugs')\n",
    "go = mpatches.Patch(color='#F79862', label='GO Concepts')\n",
    "ge = mpatches.Patch(color='#4fb783', label='Genes')\n",
    "pat = mpatches.Patch(color='orchid', label='Pathways')\n",
    "phe = mpatches.Patch(color='#A3B14B', label='Phenotypes')\n",
    "\n",
    "legend_args = [[dis, drg, go, ge, pat, phe], 14, 'lower center', 3]\n",
    "title = 't-SNE: Biological Knowledge Graph'\n",
    "\n",
    "plots_embeddings(colors, names, groups, legend_args, 16, 100, title, 20)\n"
   ]
  },
  {
   "cell_type": "markdown",
   "metadata": {},
   "source": [
    "<br>\n",
    "***\n",
    "***\n",
    "\n",
    "```\n",
    "@misc{callahan_tj_2019_3401437,\n",
    "  author       = {Callahan, TJ},\n",
    "  title        = {PheKnowLator},\n",
    "  month        = mar,\n",
    "  year         = 2019,\n",
    "  doi          = {10.5281/zenodo.3401437},\n",
    "  url          = {https://doi.org/10.5281/zenodo.3401437}\n",
    "}\n",
    "```"
   ]
  },
  {
   "cell_type": "code",
   "execution_count": null,
   "metadata": {},
   "outputs": [],
   "source": []
  }
 ],
 "metadata": {
  "kernelspec": {
   "display_name": "PyCharm (PheKnowLator)",
   "language": "python",
   "name": "pycharm-5f7498df"
  },
  "language_info": {
   "codemirror_mode": {
    "name": "ipython",
    "version": 3
   },
   "file_extension": ".py",
   "mimetype": "text/x-python",
   "name": "python",
   "nbconvert_exporter": "python",
   "pygments_lexer": "ipython3",
   "version": "3.6.2"
  },
  "latex_envs": {
   "LaTeX_envs_menu_present": true,
   "autoclose": false,
   "autocomplete": true,
   "bibliofile": "biblio.bib",
   "cite_by": "apalike",
   "current_citInitial": 1,
   "eqLabelWithNumbers": true,
   "eqNumInitial": 1,
   "hotkeys": {
    "equation": "Ctrl-E",
    "itemize": "Ctrl-I"
   },
   "labels_anchors": false,
   "latex_user_defs": false,
   "report_style_numbering": false,
   "user_envs_cfg": false
  },
  "pycharm": {
   "stem_cell": {
    "cell_type": "raw",
    "metadata": {
     "collapsed": false
    },
    "source": []
   }
  },
  "toc": {
   "base_numbering": 1,
   "nav_menu": {},
   "number_sections": false,
   "sideBar": false,
   "skip_h1_title": false,
   "title_cell": "Table of Contents",
   "title_sidebar": "Contents",
   "toc_cell": false,
   "toc_position": {},
   "toc_section_display": false,
   "toc_window_display": false
  }
 },
 "nbformat": 4,
 "nbformat_minor": 1
}
