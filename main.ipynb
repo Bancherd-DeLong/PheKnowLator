{
 "cells": [
  {
   "cell_type": "markdown",
   "metadata": {},
   "source": [
    "_____\n",
    "***\n",
    "\n",
    "# PheKnowLator: Phenotype Knowledge Translator  \n",
    "***\n",
    "***\n",
    "\n",
    "**Author:** [TJCallahan](https://mail.google.com/mail/u/0/?view=cm&fs=1&tf=1&to=callahantiff@gmail.com)  \n",
    "**GitHub Repository:** [PheKnowLator](https://github.com/callahantiff/PheKnowLator/wiki)  \n",
    "**Current Release:** **[`v2.0.0`](https://github.com/callahantiff/PheKnowLator/wiki/v2.0.0)**\n",
    "\n",
    "<br>\n",
    "\n",
    "**Objective:** Knowledge graphs provide meaningful ways to integrate heterogeneous biological data and represent complex biological mechanisms. This work seeks to explore the utility of incorporating existing knowledge of molecular mechanism from ontologies, publicly available data, and the literature to construct a biomedical knowledge graph that models unbiased molecular mechanisms of human disease.\n",
    "\n",
    "<img src=\"https://user-images.githubusercontent.com/8030363/76589824-f3787180-64b0-11ea-8a07-6aca98ee6347.png\" width=\"1200\" height=\"1200\">\n",
    "\n",
    "<br>\n",
    "\n",
    "***\n",
    "***"
   ]
  },
  {
   "cell_type": "markdown",
   "metadata": {},
   "source": [
    "## Notebook Purpose\n",
    "**Wiki Page:** **[`Release v2.0.0`](https://github.com/callahantiff/PheKnowLator/wiki/v2.0.0)**\n",
    "\n",
    "<br>\n",
    "\n",
    "**Purpose:** This notebook serves as a `main` file for the PheKnowLator project. This scripts walks through this program step-by-step and generates the knowledge graph shown above. There is also a command line version of this file ([`Main.py`](https://github.com/callahantiff/PheKnowLator/blob/master/Main.py)). Please see the [README](https://github.com/callahantiff/PheKnowLator/blob/master/README.md) for more information.\n",
    "\n",
    "<br>\n",
    "\n",
    "**Assumptions:**\n",
    "1. Please download the [OWLTools](https://github.com/owlcollab/owltools) library to the `./resources/lib` directory    \n",
    "2. Make sure that the following input documents have been constructed (see the [Dependencies Wiki](https://github.com/callahantiff/PheKnowLator/wiki/Dependencies) for more information):  \n",
    "  - [`resource_info.txt`](https://github.com/callahantiff/PheKnowLator/blob/master/resources/resource_info.txt)\n",
    "  - [`ontology_source_list.txt`](https://github.com/callahantiff/PheKnowLator/blob/master/resources/ontology_source_list.txt)\n",
    "  - [`edge_source_list.txt`](https://github.com/callahantiff/PheKnowLator/blob/master/resources/edge_source_list.txt)   \n",
    "\n",
    "3. Prepare [relations](https://github.com/callahantiff/PheKnowLator/wiki/Dependencies#relations-data) and [node metadata](https://github.com/callahantiff/PheKnowLator/wiki/Dependencies#node-metadata) files prior to running the scripts.  \n",
    "\n",
    "4. Select a knowledge graph build type (for more information, see below)  \n",
    "\n",
    "<br>\n",
    "\n",
    "**Selecting a Build Type:**  \n",
    "The knowledge graph build algorithm has been designed to run from three different stages of development: `full`, `partial`, and `post-closure`.\n",
    "\n",
    "Build Type | Description | Use Cases  \n",
    ":--: | -- | --   \n",
    "`full` | Runs all build steps in the algorithm | You want to build a knowledge graph and will not use a reasoner  \n",
    "`partial` | Runs all of the build steps in the algorithm through adding the edges<br><br> If `node_data` is provided, it will not be added to the knowledge graph, but instead used to filter the edges such that only those edges with valid node metadata are added to the knowledge graph<br><br> Node metadata can always be added to a `partial` built knowledge graph by running the build as `post-closure` | You want to build a knowledge graph and plan to run a reasoner over it<br><br> You want to build a knowledge graph, but do not want to include node metadata, filter OWL semantics, or generate triple lists  \n",
    "`post-closure` | Assumes that a reasoner was run over a knowledge graph and that the remaining build steps should be applied to a closed knowledge graph. The remaining build steps include determining whether OWL semantics should be filtered and creating and writing triple lists | You have run the `partial` build, ran a reasoner over it, and now want to complete the algorithm<br><br> You want to use the algorithm to process metadata and owl semantics for an externally built knowledge graph\n",
    "\n",
    "<br>\n",
    "\n",
    "***\n",
    "### Table of Contents\n",
    "***\n",
    "The three primary steps involved in building a knowledge graph are `Downloading Data Sources`, `Creating Edge Lists`, and `Building the knowledge graphs`.\n",
    "\n",
    "* [Data Sources](#data-source)  \n",
    "* [Create Edge Lists](#create-edges)  \n",
    "* [Build Knowledge Graph](#build-kg)  \n",
    "\n",
    "***\n",
    "\n",
    "***"
   ]
  },
  {
   "cell_type": "markdown",
   "metadata": {
    "collapsed": true,
    "pycharm": {
     "is_executing": false
    }
   },
   "source": [
    "_____\n",
    "### Set-Up Environment"
   ]
  },
  {
   "cell_type": "code",
   "execution_count": 2,
   "metadata": {},
   "outputs": [],
   "source": [
    "# import needed libraries\n",
    "import glob\n",
    "import json\n",
    "import pandas\n",
    "import time\n",
    "\n",
    "# import module\n",
    "from pkt import downloads, edge_list, knowledge_graph"
   ]
  },
  {
   "cell_type": "markdown",
   "metadata": {},
   "source": [
    "***\n",
    "## Download Data Sources <a class=\"anchor\" id=\"data-source\"></a>\n",
    "***\n",
    "\n",
    "**Wiki Page:** **[`Dependencies`](https://github.com/callahantiff/PheKnowLator/wiki/Dependencies)**  \n",
    "\n",
    "**Purpose:**\n",
    "This portion of this portion of the algorithm is to download:\n",
    "1. [Download Ontology Data](#download-ontology-data)  \n",
    "2. [Download Edge Data](#download-edge-data)   \n",
    "\n",
    "<br>\n",
    "\n",
    "**Input Files:**\n",
    "- [`resource_info.txt`](https://www.dropbox.com/s/8pu6bbxpqrui8rq/resource_info.txt?dl=1)   \n",
    "- [`ontology_source_list.txt`](https://www.dropbox.com/s/bmmaavyd499d7px/ontology_source_list.txt?dl=1)  \n",
    "- [`edge_source_list.txt`](https://www.dropbox.com/s/mshkscxqzrp9u8a/edge_source_list.txt?dl=1) \n",
    "\n",
    "<br>\n",
    "\n",
    "**Assumptions:**  \n",
    "All sources used to construct our knowledge graph need to be preprocessed and ready to download prior to running this code. All mapping, filtering, and label data have been generated. For assistance with creating these datasets, see the [`Data_Preparation.ipynb`](https://github.com/callahantiff/PheKnowLator/blob/master/Data_Preparation.ipynb) Jupyter Notebook.\n"
   ]
  },
  {
   "cell_type": "markdown",
   "metadata": {},
   "source": [
    "<br>"
   ]
  },
  {
   "cell_type": "markdown",
   "metadata": {},
   "source": [
    "***\n",
    "***\n",
    "### Ontology Data  <a class=\"anchor\" id=\"download-ontology-data\"></a>\n",
    "Ontologies are the core data structure used when building PheKnowLator. In the figure above, ontology data are shown in yellow boxes."
   ]
  },
  {
   "cell_type": "code",
   "execution_count": null,
   "metadata": {},
   "outputs": [],
   "source": [
    "ont = pkt.OntData('resources/ontology_source_list.txt')\n",
    "ont.downloads_data_from_url('imports')\n",
    "ont.writes_source_metadata_locally()"
   ]
  },
  {
   "cell_type": "code",
   "execution_count": null,
   "metadata": {},
   "outputs": [],
   "source": [
    "# start = time.time()\n",
    "\n",
    "# ont = pkt.OntData('resources/ontology_source_list.txt')\n",
    "# ont.downloads_data_from_url('imports')\n",
    "# ont.writes_source_metadata_locally()\n",
    "\n",
    "# end = time.time()\n",
    "# print('Total time to run code: {} seconds'.format(end - start))"
   ]
  },
  {
   "cell_type": "markdown",
   "metadata": {},
   "source": [
    "<br>\n",
    "\n",
    "### Edge Data   <a class=\"anchor\" id=\"download-edge-data\"></a>\n",
    "In PheKnowLator, classes are nodes that originate from ontologies. Class data sources are Linked Data sources that are used to create edges in the knowledge graph and thus can connect to other class data sources. Sometimes we want to add data that is not already part of an ontology. In that case, data either be added as an `instance` of an existing ontology class or as its own `owl:class` by being added to the knowledge graph as a `subclass` of an existing `owl:class`."
   ]
  },
  {
   "cell_type": "code",
   "execution_count": null,
   "metadata": {},
   "outputs": [],
   "source": [
    "edges = pkt.LinkedData('resources/edge_source_list.txt')\n",
    "edges.downloads_data_from_url('')\n",
    "# edges.writes_source_metadata_locally()"
   ]
  },
  {
   "cell_type": "code",
   "execution_count": null,
   "metadata": {},
   "outputs": [],
   "source": [
    "# start = time.time()\n",
    "\n",
    "# edges = pkt.LinkedData('resources/edge_source_list.txt')\n",
    "# edges.downloads_data_from_url('')\n",
    "# edges.writes_source_metadata_locally()\n",
    "\n",
    "# end = time.time()\n",
    "# print('Total time to run code: {} seconds'.format(end - start))"
   ]
  },
  {
   "cell_type": "markdown",
   "metadata": {},
   "source": [
    "<br>"
   ]
  },
  {
   "cell_type": "markdown",
   "metadata": {},
   "source": [
    "***\n",
    "***\n",
    "\n",
    "## Create Edge Lists <a class=\"anchor\" id=\"create-edges\"></a>\n",
    "\n",
    "**Wiki Page:** **[`Data Sources`](https://github.com/callahantiff/PheKnowLator/wiki/v2-Data-Sources)**\n",
    "\n",
    "<br>\n",
    "\n",
    "**Purpose:** The code below will take the dictionaries of processed data described above and use them to create edge lists for each of the edge types specified in the [`resource_info.txt`](https://github.com/callahantiff/PheKnowLator/blob/master/resources/resource_info.txt). Each edge list will be appended to a nested dictionary (see details below).\n",
    "\n",
    "<br>\n",
    "\n",
    "**Assumptions:**  \n",
    "1. All `ontology` and `edge` data sources have been downloaded.   \n",
    "\n",
    "2. All code in the [`Data_Preparation.ipynb`](https://github.com/callahantiff/PheKnowLator/blob/master/Data_Preparation.ipynb) Jupyter Notebook has been run. This Notebook contains code needed to generate all mapping, filtering, and label data.\n",
    "\n",
    "<br>\n",
    "\n",
    "**Output:** [`Master_Edge_List_Dict.json`](https://www.dropbox.com/s/4j0vrwx26dh8hd1/Master_Edge_List_Dict.json?dl=1). Below is an example of what the `Master Edge Dictionary` contains for each processed resource:  \n",
    "```python\n",
    "master_edges = {'chemical-disease'  :\n",
    "                {'source_labels'    : ';MESH_;',\n",
    "                 'data_type'        : 'class-class',\n",
    "                 'edge_relation'    : 'RO_0002606',\n",
    "                 'uri'              : ('http://purl.obolibrary.org/obo/',\n",
    "                                       'http://purl.obolibrary.org/obo/'),\n",
    "                 'row_splitter'     : '#',\n",
    "                 'col_splitter'     : 't',\n",
    "                 'column_indicies'  : '1;4',\n",
    "                 'identifier_maps'  : '0:./MESH_CHEBI_MAP.txt;1:disease-dbxref-map',\n",
    "                 'evidence_criteria': \"5;!=;' \",\n",
    "                 'filter_criteria'  : 'None',\n",
    "                 'edge_list'        : ['...']}\n",
    "```\n",
    "\n",
    "***"
   ]
  },
  {
   "cell_type": "code",
   "execution_count": null,
   "metadata": {},
   "outputs": [],
   "source": [
    "# combine data sources\n",
    "combined_edges = dict(dict(cls.data_files, **inst.data_files), **ont.data_files)\n",
    "\n",
    "# initialize edge dictionary class\n",
    "master_edges = pkt.CreatesEdgeList(combined_edges, './resources/resource_info.txt')\n",
    "master_edges.creates_knowledge_graph_edges()"
   ]
  },
  {
   "cell_type": "code",
   "execution_count": null,
   "metadata": {},
   "outputs": [],
   "source": [
    "# start = time.time()\n",
    "\n",
    "# # combine data sources\n",
    "# combined_edges = dict(dict(cls.data_files, **inst.data_files), **ont.data_files)\n",
    "\n",
    "# # initialize edge dictionary class\n",
    "# master_edges = pkt.CreatesEdgeList(combined_edges, './resources/resource_info.txt')\n",
    "# master_edges.creates_knowledge_graph_edges()\n",
    "\n",
    "# end = time.time()\n",
    "# print('Total time to run code: {} seconds'.format(end - start))"
   ]
  },
  {
   "cell_type": "markdown",
   "metadata": {},
   "source": [
    "**Preview Master Edge Data**  \n",
    "Generate a table that includes each `edge-type`, its primary `relation`, example identifiers, and count of unique edges."
   ]
  },
  {
   "cell_type": "code",
   "execution_count": null,
   "metadata": {},
   "outputs": [],
   "source": [
    "# # read in master edge dictionary\n",
    "# master_edges = json.load(open('resources/Master_Edge_List_Dict.json', 'r'))\n",
    "\n",
    "# read in relation data\n",
    "relation_data = open('./resources/relations_data/RELATIONS_LABELS.txt').readlines()\n",
    "relation_dict = {x.split('\\t')[0]: x.split('\\t')[1].strip('\\n') for x in relation_data}\n",
    "\n",
    "# print basic stats on each resource\n",
    "edge_data = [[key,\n",
    "              relation_dict[master_edges.source_info[key]['edge_relation']],\n",
    "              ', '.join(master_edges.source_info[key]['edge_list'][0]),\n",
    "              len(master_edges.source_info[key]['edge_list'])]\n",
    "             for key in master_edges.source_info.keys()]\n",
    "\n",
    "# convert dict to pandas df for nice printing\n",
    "df = pandas.DataFrame(edge_data, columns = ['Edge Type', 'Relation', 'Example Edge', 'Unique Edges']) \n",
    "df                "
   ]
  },
  {
   "cell_type": "markdown",
   "metadata": {},
   "source": [
    "<br><br>"
   ]
  },
  {
   "cell_type": "markdown",
   "metadata": {},
   "source": [
    "\n",
    "***\n",
    "***\n",
    "\n",
    "## Build Knowledge Graph  <a class=\"anchor\" id=\"build-kg\"></a>\n",
    "**Wiki Pages:**  \n",
    "- **[`KG-Construction`](https://github.com/callahantiff/PheKnowLator/wiki/KG-Construction)**  \n",
    "- **[`relations-data`](https://github.com/callahantiff/PheKnowLator/wiki/Dependencies#relations-data)**  \n",
    "- **[`node-metadata`](https://github.com/callahantiff/PheKnowLator/wiki/Dependencies#node-metadata)**\n",
    "\n",
    "<br>\n",
    "\n",
    "**Assumptions:** That if relation and/or node metadata is going to be used to build the knowledge graph, that it has been generated and added to the `./resources/relations_data` and the `./resources/node_metadata` directories. Please see the [`Data_Preparation.ipynb`](https://github.com/callahantiff/PheKnowLator/blob/master/Data_Preparation.ipynb) Jupyter Notebook for details on how to create these data.  \n",
    "\n",
    "<br>\n",
    "\n",
    "**Input:** \n",
    "- [`Master_Edge_List_Dict.json`](https://www.dropbox.com/s/4j0vrwx26dh8hd1/Master_Edge_List_Dict.json?dl=1)  \n",
    "- Directory of relations data sources - see [here](https://github.com/callahantiff/PheKnowLator/wiki/Dependencies#relations-data) for more information\n",
    "- Directory of node data sources - see [here](https://github.com/callahantiff/PheKnowLator/wiki/Dependencies#node-metadata) for more information\n",
    "\n",
    "<br>\n",
    "\n",
    "**Output:** Please see [`Release v2.0.0 Wiki`](https://github.com/callahantiff/PheKnowLator/wiki/v2.0.0) for access to all generated output files.   \n",
    "- `Knowledge Graph`  \n",
    "- `Class Instance URI-UUID Map`  \n",
    "- `Triple List - Integer`  \n",
    "- `Triple List - Identifier`  \n",
    "- `Node Integer-Identifier Map`  \n",
    "- `Node Attribute Data`  \n",
    "\n",
    "<br>\n",
    "\n",
    "The process to build the knowledge graph is somewhat time consuming and can be broken into the following steps:  \n",
    "\n",
    "1. Merge Ontologies  \n",
    "\n",
    "2. Create `Class-Instance`, `Instance-Instance` and `Class-Class` Edges \n",
    "\n",
    "3. Add Inverse Relations and Node Data. See the [Dependencies](https://github.com/callahantiff/PheKnowLator/wiki/Dependencies) Wiki page for details on how to construct these resources.  \n",
    "\n",
    "4. Deductively Close Graph using [ELK](https://protegewiki.stanford.edu/wiki/ELK) Reasoner   \n",
    "   - We recommend running this through the command line using [OWLTools](https://github.com/owlcollab/owltools). The code snippet below assumes that it has been downloaded to `./resources/lib` and demonstrates how the [ELK](https://www.cs.ox.ac.uk/isg/tools/ELK/) reasoner can be called and run over a knowledge graph saved in an `.owl` file.    \n",
    "\n",
    "  ```bash\n",
    "./resources/lib/owltools ./resources/knowledge_graphs/[input_graph_filename.owl] --reasoner elk --run-reasoner --assert-implied -o resources/knowledge_graphs/[output_graph_name]_Closed_ELK.owl\n",
    "```\n",
    "\n",
    "5. Filter OWL Semantics \n",
    " - Filters the knowledge graph with the goal of removing all edges that contain entities that are needed to support owl semantics, but are not biologically meaningful. For example:\n",
    "    - REMOVE - edge needed to support owl semantics that are not biologically meaningful:\n",
    "      - subject: `http://purl.obolibrary.org/obo/CLO_0037294`\n",
    "      - predicate: `owl:AnnotationProperty`\n",
    "      - object: `rdf:about=\"http://purl.obolibrary.org/obo/CLO_0037294\"`\n",
    "\n",
    "    - KEEP - biologically meaningful edges:\n",
    "      - subject: `http://purl.obolibrary.org/obo/CHEBI_16130`\n",
    "      - predicate: `http://purl.obolibrary.org/obo/RO_0002606`\n",
    "      - object: `http://purl.obolibrary.org/obo/HP_0000832`\n",
    "\n",
    "\n",
    "6. Save Edge List    \n",
    " - Two versions of the knowledge graphs edges are saved as lists of triples one with: (1) node labels and (2) one with integer labels (the input requirement for the embedding algorithms), for example:\n",
    "\n",
    "<br>\n",
    "\n",
    "**‼ IMPORTANT:**  \n",
    "- The file containing the merged ontologies is quite large and can take up to 30 minutes to read in.  This is not a limitation of the code directly, but rather a function of the [`RDFLib Library`](https://github.com/RDFLib). While there are other ways to read in this data, we maintain reliance on this library as it is the most user-friendly for non-RDF users.   \n",
    "- If you'd like to include [node metadata](https://github.com/callahantiff/PheKnowLator/wiki/Dependencies#node-metadata) when building the knowledge graph, please hold off on building the knowledge graph until you have generated the node data. For details on how to do this see the [node metadata](https://github.com/callahantiff/PheKnowLator/wiki/Dependencies#node-metadata) section of the `Dependencies` Wiki Page or help for help with generating the data, please see the []() section of the [`Data_Preparation.ipynb`](https://github.com/callahantiff/PheKnowLator/blob/master/Data_Preparation.ipynb) Jupyter Notebook.\n",
    "\n",
    "***\n"
   ]
  },
  {
   "cell_type": "markdown",
   "metadata": {},
   "source": [
    "NEED TO ADD A DESCRIPTION HERE OF WHAT THE ARGUMENTS ARE"
   ]
  },
  {
   "cell_type": "code",
   "execution_count": null,
   "metadata": {},
   "outputs": [],
   "source": [
    "# specify build type\n",
    "build = 'full'\n",
    "\n",
    "if build == 'partial':\n",
    "    kg = pkt.PartialBuild(kg_version='v2.0.0',\n",
    "                          write_location=args.out,\n",
    "                          edge_data='./resources/Master_Edge_List_Dict.json',\n",
    "                          node_data=args.nde,\n",
    "                          inverse_relations=args.rel,\n",
    "                          decode_owl_semantics=args.owl)\n",
    "elif build == 'post-closure':\n",
    "    kg = pkt.PostClosureBuild(kg_version='v2.0.0',\n",
    "                              write_location=args.out,\n",
    "                              edge_data='./resources/Master_Edge_List_Dict.json',\n",
    "                              node_data=args.nde,\n",
    "                              inverse_relations=args.rel,\n",
    "                              remove_owl_semantics=args.owl)\n",
    "else:\n",
    "    kg = pkt.FullBuild(kg_version='v2.0.0',\n",
    "                       write_location=args.out,\n",
    "                       edge_data='./resources/Master_Edge_List_Dict.json',\n",
    "                       node_data=args.nde,\n",
    "                       inverse_relations=args.rel,\n",
    "                       remove_owl_semantics=args.owl)"
   ]
  },
  {
   "cell_type": "markdown",
   "metadata": {},
   "source": [
    "<br>\n",
    "\n",
    "***\n",
    "***\n",
    "\n",
    "**TESTING:**\n",
    "\n",
    "Only run chunks that do not remove OWL Semantics!"
   ]
  },
  {
   "cell_type": "markdown",
   "metadata": {},
   "source": [
    "***\n",
    "**RESULTS:** `Partial Node Metadata Relations Only OWL Semantics`\n",
    "***\n",
    "\n",
    "**Total Edges:** 20,565,453  \n",
    "**Total Nodes:** 3,956,852  \n",
    "**Run Time:** 4,007.616 seconds"
   ]
  },
  {
   "cell_type": "code",
   "execution_count": null,
   "metadata": {},
   "outputs": [],
   "source": [
    "start = time.time()\n",
    "\n",
    "kg = pkt.PartialBuild(kg_version='v2.0.0',\n",
    "                          write_location=args.out,\n",
    "                          edge_data='./resources/Master_Edge_List_Dict.json',\n",
    "                          node_data=args.nde,\n",
    "                          inverse_relations=args.rel,\n",
    "                          decode_owl_semantics=args.owl)\n",
    "\n",
    "kg.construct_knowledge_graph()\n",
    "\n",
    "end = time.time()\n",
    "print('Total time to run code: {} seconds'.format(end - start))"
   ]
  },
  {
   "cell_type": "markdown",
   "metadata": {},
   "source": [
    "***\n",
    "**RESULTS:** `Post-Closure Relations Only OWL Semantics`\n",
    "***\n",
    "\n",
    "**Total Edges:** xxx  \n",
    "**Total Nodes:** xxx  \n",
    "**Run Time:** xxx seconds"
   ]
  },
  {
   "cell_type": "code",
   "execution_count": null,
   "metadata": {},
   "outputs": [],
   "source": [
    "start = time.time()\n",
    "\n",
    "kg = pkt.PostClosureBuild(kg_version='v2.0.0',\n",
    "                              write_location=args.out,\n",
    "                              edge_data='./resources/Master_Edge_List_Dict.json',\n",
    "                              node_data=args.nde,\n",
    "                              inverse_relations=args.rel,\n",
    "                              remove_owl_semantics=args.owl)\n",
    "\n",
    "kg.construct_knowledge_graph()\n",
    "\n",
    "end = time.time()\n",
    "print('Total time to run code: {} seconds'.format(end - start))"
   ]
  },
  {
   "cell_type": "markdown",
   "metadata": {},
   "source": [
    "***\n",
    "**RESULTS:** `Post-Closure Relations Only No OWL Semantics`\n",
    "***\n",
    "\n",
    "**Total Edges:** xxx  \n",
    "**Total Nodes:** xxx  \n",
    "**Run Time:** xxx seconds"
   ]
  },
  {
   "cell_type": "code",
   "execution_count": null,
   "metadata": {},
   "outputs": [],
   "source": [
    "start = time.time()\n",
    "\n",
    "kg = pkt.PostClosureBuild(kg_version='v2.0.0',\n",
    "                              write_location=args.out,\n",
    "                              edge_data='./resources/Master_Edge_List_Dict.json',\n",
    "                              node_data=args.nde,\n",
    "                              inverse_relations=args.rel,\n",
    "                              remove_owl_semantics=args.owl)\n",
    "\n",
    "kg.construct_knowledge_graph()\n",
    "\n",
    "end = time.time()\n",
    "print('Total time to run code: {} seconds'.format(end - start))"
   ]
  },
  {
   "cell_type": "markdown",
   "metadata": {},
   "source": [
    "<br><br><br><br>"
   ]
  },
  {
   "cell_type": "markdown",
   "metadata": {},
   "source": [
    "***\n",
    "**RESULTS:** `Partial Node Metadata Inverse Relations OWL Semantics`\n",
    "***\n",
    "\n",
    "**Total Edges:** 30,415,030  \n",
    "**Total Nodes:** 3,956,852  \n",
    "**Run Time:** 6,346.555 seconds"
   ]
  },
  {
   "cell_type": "code",
   "execution_count": null,
   "metadata": {},
   "outputs": [],
   "source": [
    "start = time.time()\n",
    "\n",
    "kg = pkt.PartialBuild(kg_version='v2.0.0',\n",
    "                          write_location=args.out,\n",
    "                          edge_data='./resources/Master_Edge_List_Dict.json',\n",
    "                          node_data=args.nde,\n",
    "                          inverse_relations=args.rel,\n",
    "                          decode_owl_semantics=args.owl)\n",
    "\n",
    "kg.construct_knowledge_graph()\n",
    "\n",
    "end = time.time()\n",
    "print('Total time to run code: {} seconds'.format(end - start))"
   ]
  },
  {
   "cell_type": "markdown",
   "metadata": {},
   "source": [
    "***\n",
    "**RESULTS:** `Post-Closure Inverse Relations OWL Semantics`\n",
    "***\n",
    "\n",
    "**Total Edges:** xxx  \n",
    "**Total Nodes:** xxx  \n",
    "**Run Time:** xxx seconds"
   ]
  },
  {
   "cell_type": "code",
   "execution_count": null,
   "metadata": {},
   "outputs": [],
   "source": [
    "start = time.time()\n",
    "\n",
    "kg = pkt.PostClosureBuild(kg_version='v2.0.0',\n",
    "                              write_location=args.out,\n",
    "                              edge_data='./resources/Master_Edge_List_Dict.json',\n",
    "                              node_data=args.nde,\n",
    "                              inverse_relations=args.rel,\n",
    "                              remove_owl_semantics=args.owl)\n",
    "\n",
    "kg.construct_knowledge_graph()\n",
    "\n",
    "end = time.time()\n",
    "print('Total time to run code: {} seconds'.format(end - start))"
   ]
  },
  {
   "cell_type": "markdown",
   "metadata": {},
   "source": [
    "***\n",
    "**RESULTS:** `Post-Closure Inverse Relations No OWL Semantics`\n",
    "***\n",
    "\n",
    "**Total Edges:** xxx  \n",
    "**Total Nodes:** xxx  \n",
    "**Run Time:** xxx seconds"
   ]
  },
  {
   "cell_type": "code",
   "execution_count": null,
   "metadata": {},
   "outputs": [],
   "source": [
    "start = time.time()\n",
    "\n",
    "kg = pkt.PostClosureBuild(kg_version='v2.0.0',\n",
    "                              write_location=args.out,\n",
    "                              edge_data='./resources/Master_Edge_List_Dict.json',\n",
    "                              node_data=args.nde,\n",
    "                              inverse_relations=args.rel,\n",
    "                              remove_owl_semantics=args.owl)\n",
    "\n",
    "kg.construct_knowledge_graph()\n",
    "\n",
    "end = time.time()\n",
    "print('Total time to run code: {} seconds'.format(end - start))"
   ]
  },
  {
   "cell_type": "markdown",
   "metadata": {},
   "source": [
    "<br><br><br><br>"
   ]
  },
  {
   "cell_type": "markdown",
   "metadata": {},
   "source": [
    "***\n",
    "**RESULTS:** `Full - Relations Only OWL Semantics`\n",
    "***\n",
    "\n",
    "**Total Edges:** 21,856,388   \n",
    "**Total Nodes:** 5,155,679   \n",
    "**Run Time:** 7,398.384 seconds"
   ]
  },
  {
   "cell_type": "code",
   "execution_count": null,
   "metadata": {},
   "outputs": [],
   "source": [
    "start = time.time()\n",
    "\n",
    "kg = pkt.FullBuild(kg_version='v2.0.0',\n",
    "                       write_location=args.out,\n",
    "                       edge_data='./resources/Master_Edge_List_Dict.json',\n",
    "                       node_data=args.nde,\n",
    "                       inverse_relations=args.rel,\n",
    "                       remove_owl_semantics=args.owl)\n",
    "\n",
    "kg.construct_knowledge_graph()\n",
    "\n",
    "end = time.time()\n",
    "print('Total time to run code: {} seconds'.format(end - start))"
   ]
  },
  {
   "cell_type": "markdown",
   "metadata": {},
   "source": [
    "***\n",
    "**RESULTS:** `Full - Relations Only No OWL Semantics`\n",
    "***\n",
    "\n",
    "**Total Edges:** xxxx   \n",
    "**Total Nodes:** xxxxx   \n",
    "**Run Time:** xxxxx seconds"
   ]
  },
  {
   "cell_type": "code",
   "execution_count": null,
   "metadata": {},
   "outputs": [],
   "source": [
    "start = time.time()\n",
    "\n",
    "kg = pkt.FullBuild(kg_version='v2.0.0',\n",
    "                       write_location=args.out,\n",
    "                       edge_data='./resources/Master_Edge_List_Dict.json',\n",
    "                       node_data=args.nde,\n",
    "                       inverse_relations=args.rel,\n",
    "                       remove_owl_semantics=args.owl)\n",
    "\n",
    "kg.construct_knowledge_graph()\n",
    "\n",
    "end = time.time()\n",
    "print('Total time to run code: {} seconds'.format(end - start))"
   ]
  },
  {
   "cell_type": "markdown",
   "metadata": {},
   "source": [
    "***\n",
    "**RESULTS:** `Full - Inverse Relations OWL Semantics`\n",
    "***\n",
    "\n",
    "**Total Edges:** 31,705,965   \n",
    "**Total Nodes:** 5,155,679   \n",
    "**Run Time:** 11,667.708 seconds"
   ]
  },
  {
   "cell_type": "code",
   "execution_count": null,
   "metadata": {},
   "outputs": [],
   "source": [
    "start = time.time()\n",
    "\n",
    "kg = pkt.FullBuild(kg_version='v2.0.0',\n",
    "                       write_location=args.out,\n",
    "                       edge_data='./resources/Master_Edge_List_Dict.json',\n",
    "                       node_data=args.nde,\n",
    "                       inverse_relations=args.rel,\n",
    "                       remove_owl_semantics=args.owl)\n",
    "\n",
    "kg.construct_knowledge_graph()\n",
    "\n",
    "end = time.time()\n",
    "print('Total time to run code: {} seconds'.format(end - start))"
   ]
  },
  {
   "cell_type": "markdown",
   "metadata": {},
   "source": [
    "***\n",
    "**RESULTS:** `Full - Inverse Relations No OWL Semantics`\n",
    "***\n",
    "\n",
    "**Total Edges:** xxxx   \n",
    "**Total Nodes:** xxxxx   \n",
    "**Run Time:** xxxxx seconds"
   ]
  },
  {
   "cell_type": "code",
   "execution_count": null,
   "metadata": {},
   "outputs": [],
   "source": [
    "start = time.time()\n",
    "\n",
    "kg = pkt.FullBuild(kg_version='v2.0.0',\n",
    "                       write_location=args.out,\n",
    "                       edge_data='./resources/Master_Edge_List_Dict.json',\n",
    "                       node_data=args.nde,\n",
    "                       inverse_relations=args.rel,\n",
    "                       remove_owl_semantics=args.owl)\n",
    "\n",
    "kg.construct_knowledge_graph()\n",
    "\n",
    "end = time.time()\n",
    "print('Total time to run code: {} seconds'.format(end - start))"
   ]
  },
  {
   "cell_type": "markdown",
   "metadata": {},
   "source": [
    "<br>\n",
    "\n",
    "***\n",
    "***\n",
    "\n",
    "```\n",
    "@misc{callahan_tj_2019_3401437,\n",
    "  author       = {Callahan, TJ},\n",
    "  title        = {PheKnowLator},\n",
    "  month        = mar,\n",
    "  year         = 2019,\n",
    "  doi          = {10.5281/zenodo.3401437},\n",
    "  url          = {https://doi.org/10.5281/zenodo.3401437}\n",
    "}\n",
    "```"
   ]
  }
 ],
 "metadata": {
  "kernelspec": {
   "display_name": "PyCharm (PheKnowLator)",
   "language": "python",
   "name": "pycharm-5f7498df"
  },
  "language_info": {
   "codemirror_mode": {
    "name": "ipython",
    "version": 3
   },
   "file_extension": ".py",
   "mimetype": "text/x-python",
   "name": "python",
   "nbconvert_exporter": "python",
   "pygments_lexer": "ipython3",
   "version": "3.6.2"
  },
  "latex_envs": {
   "LaTeX_envs_menu_present": true,
   "autoclose": false,
   "autocomplete": true,
   "bibliofile": "biblio.bib",
   "cite_by": "apalike",
   "current_citInitial": 1,
   "eqLabelWithNumbers": true,
   "eqNumInitial": 1,
   "hotkeys": {
    "equation": "Ctrl-E",
    "itemize": "Ctrl-I"
   },
   "labels_anchors": false,
   "latex_user_defs": false,
   "report_style_numbering": false,
   "user_envs_cfg": false
  },
  "pycharm": {
   "stem_cell": {
    "cell_type": "raw",
    "metadata": {
     "collapsed": false
    },
    "source": []
   }
  },
  "toc": {
   "base_numbering": 1,
   "nav_menu": {},
   "number_sections": false,
   "sideBar": false,
   "skip_h1_title": false,
   "title_cell": "Table of Contents",
   "title_sidebar": "Contents",
   "toc_cell": false,
   "toc_position": {},
   "toc_section_display": false,
   "toc_window_display": false
  }
 },
 "nbformat": 4,
 "nbformat_minor": 1
}
