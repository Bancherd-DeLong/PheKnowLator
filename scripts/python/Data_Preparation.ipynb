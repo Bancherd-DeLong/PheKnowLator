{
 "cells": [
  {
   "cell_type": "markdown",
   "metadata": {
    "collapsed": true
   },
   "source": [
    "\n",
    "# PheKnowLator - Data Preparation\n",
    "\n",
    "\n",
    "***\n",
    "***\n",
    "\n",
    "**Author:** [TJCallahan](https://mail.google.com/mail/u/0/?view=cm&fs=1&tf=1&to=callahantiff@gmail.com)  \n",
    "**GitHub Repository:** [PheKnowLator](https://github.com/callahantiff/PheKnowLator/wiki)  \n",
    "\n",
    "**Purpose:** This notebook serves as a script to preprocess data and/or generate mapping and filtering data for the PheKnowLator project. The script creates each of the mapping and/or filtering data sources described on the [Data Sources](https://github.com/callahantiff/PheKnowLator/wiki/v2-Data-Sources) Wiki page. \n",
    "\n",
    "**Assumptions:** The script assumes that there are files, which need further processing and are located in the `./resources/processed_data/unprocessed_data/` directory.\n",
    "\n",
    "\n",
    "***\n",
    "\n",
    "## Table of Contents\n",
    "### Create Mapping Data    \n",
    "* [MESH-ChEBI](#mesh-chebi)  \n",
    "* [Ensembl Gene - Ensembl Transcript](#ensemblgene-ensembltranscript)  \n",
    "* [Ensembl Gene - Entrez Gene](#ensemblgene-entrezgene)  \n",
    "* [Ensembl Gene - Uniprot Accession](#ensemblgene-uniprot)  \n",
    "* [Ensembl Protein - Uniprot Accession](#ensemblprotein-uniprot)  \n",
    "* [Uniprot Accession - Protein Ontology](#uniprot-pro)  \n",
    "* [Ensembl Protein - Protein Ontology](#ensemblprotein-pro) \n",
    "* [HPA Tissue/Cells - UBERON + Cell Ontology](#hpa-uberon) \n",
    "* [Disease Identifiers](#disease-identifiers) \n",
    "* [Phenotype Identifiers](#phenotype-identifiers)  \n",
    "\n",
    "### Process Edge Data\n",
    "**Ontologies**\n",
    "* [Protein Ontology](#protein-ontology)  \n",
    "\n",
    "**Linked Data**\n",
    "* [Reactome: Protein-Complex Data](#reactome-protein-complex)  \n",
    "* [Reactome: Complex-Complex Data](#reactome-complex-complex)  \n",
    "* [Reactome: Chemical-Complex Data](#reactome-chemical-complex)  \n",
    "* [Uniprot: Protein-Cofactor and Protein-Catalyst](#uniprot-protein-cofactorcatalyst)  \n",
    "* [Uniprot: Protein-Coding Genes](#uniprot-protein-coding-genes)    \n",
    "\n",
    "***\n",
    "***"
   ]
  },
  {
   "cell_type": "markdown",
   "metadata": {},
   "source": [
    "#### Set-Up Enviornment\n"
   ]
  },
  {
   "cell_type": "code",
   "execution_count": 38,
   "metadata": {},
   "outputs": [],
   "source": [
    "# import needed libraries\n",
    "import ftplib\n",
    "import glob\n",
    "import gzip\n",
    "import os\n",
    "import pandas\n",
    "import re\n",
    "import requests\n",
    "import shutil\n",
    "\n",
    "import networkx as nx\n",
    "import urllib.request as request\n",
    "\n",
    "from contextlib import closing\n",
    "from io import BytesIO\n",
    "from rdflib import Graph, Namespace, URIRef, extras\n",
    "from rdflib.extras.external_graph_libs import *\n",
    "from rdflib.namespace import RDF\n",
    "from tqdm import tqdm\n",
    "from zipfile import ZipFile"
   ]
  },
  {
   "cell_type": "markdown",
   "metadata": {},
   "source": [
    "**Define Global Variables**"
   ]
  },
  {
   "cell_type": "code",
   "execution_count": 3,
   "metadata": {},
   "outputs": [],
   "source": [
    "# directory to read unprocessed data files from\n",
    "unprocessed_data_location = '../../resources/processed_data/unprocessed_data/'\n",
    "\n",
    "# directory to write processed data files to\n",
    "processed_data_location = '../../resources/processed_data/'"
   ]
  },
  {
   "cell_type": "markdown",
   "metadata": {},
   "source": [
    "**Create Helper Functions**"
   ]
  },
  {
   "cell_type": "markdown",
   "metadata": {},
   "source": [
    "_Download Data Files_"
   ]
  },
  {
   "cell_type": "code",
   "execution_count": 4,
   "metadata": {},
   "outputs": [],
   "source": [
    "def url_download(url: str, filename: str):\n",
    "    \"\"\"Downloads a file from a URL.\n",
    "    \n",
    "    Args:\n",
    "        url: A string that points to the location of a temp mapping file that needs to be processed.\n",
    "        filename: A string containing a filepath for where to write data to.\n",
    "\n",
    "    Return:\n",
    "        None.\n",
    "    \"\"\"\n",
    "    print('Downloading data file')\n",
    "        \n",
    "    r = requests.get(url, allow_redirects=True)\n",
    "\n",
    "    # save results\n",
    "    open(unprocessed_data_location + '{filename}'.format(filename=filename), 'wb').write(r.content)"
   ]
  },
  {
   "cell_type": "code",
   "execution_count": 5,
   "metadata": {},
   "outputs": [],
   "source": [
    "def ftp_url_download(url: str, filename: str):\n",
    "    \"\"\"Downloads a file from an ftp server.\n",
    "    \n",
    "    Args:\n",
    "        url: A string that points to the location of a temp mapping file that needs to be processed.\n",
    "        filename: A string containing a filepath for where to write data to.\n",
    "\n",
    "    Return:\n",
    "        None.\n",
    "    \"\"\"\n",
    "    print('Downloading data from ftp server')\n",
    "\n",
    "    with closing(request.urlopen(url)) as r:\n",
    "        with open(unprocessed_data_location + '{filename}'.format(filename=filename), 'wb') as f:\n",
    "            shutil.copyfileobj(r, f)"
   ]
  },
  {
   "cell_type": "code",
   "execution_count": 6,
   "metadata": {},
   "outputs": [],
   "source": [
    "def gzipped_ftp_url_download(url: str):\n",
    "    \"\"\"Downloads a gzipped file from an ftp server.\n",
    "    \n",
    "    Args:\n",
    "        url: A string that points to the location of a temp mapping file that needs to be processed.\n",
    "\n",
    "    Return:\n",
    "        None.\n",
    "    \"\"\"\n",
    "    \n",
    "    # get ftp server info\n",
    "    server = url.replace('ftp://', '').split('/')[0]\n",
    "    directory = '/'.join(url.replace('ftp://', '').split('/')[1:-1])\n",
    "    file = url.replace('ftp://', '').split('/')[-1]\n",
    "    write_loc = unprocessed_data_location + '{filename}'.format(filename=file)\n",
    "\n",
    "    # download ftp gzipped file\n",
    "    print('Downloading gzipped data from ftp server')\n",
    "    with closing(ftplib.FTP(server)) as ftp, open(write_loc, 'wb') as fid:\n",
    "        ftp.login()\n",
    "        ftp.cwd(directory)\n",
    "        ftp.retrbinary('RETR {}'.format(file), fid.write)\n",
    "\n",
    "    # read in gzipped file,uncompress, and write to directory\n",
    "    print('Uncompressing and writing gzipped data')\n",
    "    with gzip.open(write_loc, 'rb') as fid_in:\n",
    "        with open(write_loc.replace('.gz', ''), 'wb') as f:\n",
    "            f.write(fid_in.read())\n",
    "\n",
    "    # remove gzipped file\n",
    "    os.remove(write_loc)"
   ]
  },
  {
   "cell_type": "code",
   "execution_count": 7,
   "metadata": {},
   "outputs": [],
   "source": [
    "def zipped_url_download(url: str, filename: str):\n",
    "    \"\"\"Downloads a zipped file from a URL.\n",
    "    \n",
    "    Args:\n",
    "        url: A string that points to the location of a temp mapping file that needs to be processed.\n",
    "        filename: A string containing a filepath for where to write data to.\n",
    "\n",
    "    Return:\n",
    "        None.\n",
    "    \"\"\"\n",
    "    print('Downloading zipped data file')\n",
    "    \n",
    "    with urlopen(zipurl) as zipresp:\n",
    "        with ZipFile(BytesIO(zipresp.read())) as zfile:\n",
    "            zfile.extractall(unprocessed_data_location[:-1])"
   ]
  },
  {
   "cell_type": "code",
   "execution_count": 8,
   "metadata": {},
   "outputs": [],
   "source": [
    "def gzipped_url_download(url: str, filename: str):\n",
    "    \"\"\"Downloads a gzipped file from a URL.\n",
    "    \n",
    "    Args:\n",
    "        url: A string that points to the location of a temp mapping file that needs to be processed.\n",
    "        filename: A string containing a filepath for where to write data to.\n",
    "\n",
    "    Return:\n",
    "        None.\n",
    "    \"\"\"\n",
    "    print('Downloading gzipped data file')\n",
    "    \n",
    "    with open(unprocessed_data_location + '{filename}'.format(filename=filename), 'wb') as outfile:\n",
    "        outfile.write(gzip.decompress(request.urlopen(url).read()))"
   ]
  },
  {
   "cell_type": "code",
   "execution_count": 9,
   "metadata": {},
   "outputs": [],
   "source": [
    "# function to download data from a URL\n",
    "def data_downloader(url: str, filename: str = ''):\n",
    "    \"\"\"Downloads data from a URL and saves the file to the `/resources/processed_data/unprocessed_data' directory.\n",
    "\n",
    "    Args:\n",
    "        url: A string that points to the location of a temp mapping file that needs to be processed.\n",
    "        filename: A string containing a filepath for where to write data to.\n",
    "\n",
    "    Return:\n",
    "        None.\n",
    "    \"\"\"\n",
    "\n",
    "    # get filename from url\n",
    "    file =  filename if filename != '' else re.sub('.gz|.zip', '', url.split('/')[-1])\n",
    "    \n",
    "    # zipped data\n",
    "    if '.zip' in url:\n",
    "        zipped_url_download(url, file)\n",
    "        \n",
    "    elif '.gz' in url:\n",
    "        if 'ftp' in url:\n",
    "            gzipped_ftp_url_download(url)\n",
    "        else:\n",
    "            gzipped_url_download(url, file)\n",
    "        \n",
    "    # not zipped data\n",
    "    else:\n",
    "        # download and write data\n",
    "        if 'ftp' in url:\n",
    "            ftp_url_download(url, file)\n",
    "        else:\n",
    "            # download data from URL\n",
    "            url_download(url, file)"
   ]
  },
  {
   "cell_type": "markdown",
   "metadata": {},
   "source": [
    "_Reformat Data Files_"
   ]
  },
  {
   "cell_type": "code",
   "execution_count": 10,
   "metadata": {},
   "outputs": [],
   "source": [
    "# function to format data files\n",
    "def data_processor(filepath: str, row_splitter: str, column_list: list, output_name: str, line_splitter: str = ''):\n",
    "    \"\"\"Reads in a file using input file path and reduces the file to only include specific columns specified by the\n",
    "    input var. The reduced file is then saved as a text file and written to the `/resources/processed_data' directory.\n",
    "\n",
    "    Args:\n",
    "        filepath: A string that points to the location of a temp mapping file that needs to be processed.\n",
    "        row_splitter: A string that contains a character used to split rows.\n",
    "        column_list: A list that contains two numbers, which correspond to indices in the input data file and\n",
    "                            which appear in the order of write preference.\n",
    "        output_name: A string naming the processed data file.\n",
    "        line_splitter: A character used to separate multiple data points from a string. Defaults to an empty\n",
    "                       string which is used to indicate the string contains a single value.\n",
    "\n",
    "    Return:\n",
    "        None.\n",
    "    \"\"\"\n",
    "\n",
    "    # read in data\n",
    "    data = open(filepath).readlines()\n",
    "\n",
    "    # process and write out data\n",
    "    with open(unprocessed_data_location + '{filename}'.format(filename=output_name), 'w') as outfile:\n",
    "\n",
    "        for line in data:\n",
    "            subj = line.split(row_splitter)[column_list[0]]\n",
    "            obj = line.split(row_splitter)[column_list[1]]\n",
    "\n",
    "            if subj != '' and obj != '':\n",
    "                for i in [subj.split(line_splitter) if line_splitter != '' else [subj]][0]:\n",
    "                    for j in [obj.split(line_splitter) if line_splitter != '' else [obj]][0]:\n",
    "                        outfile.write(i.strip() + '\\t' + j.strip() + '\\n')\n",
    "\n",
    "    outfile.close()"
   ]
  },
  {
   "cell_type": "markdown",
   "metadata": {},
   "source": [
    "***\n",
    "***\n",
    "\n",
    "### CREATE MAPPING DATA  <a class=\"anchor\" id=\"mapping-data\"></a>\n"
   ]
  },
  {
   "cell_type": "markdown",
   "metadata": {},
   "source": [
    "### MESH - ChEBI <a class=\"anchor\" id=\"mesh-chebi\"></a>\n",
    "\n",
    "**Wiki Page:** [mapping-mesh-to-chebi](https://github.com/callahantiff/PheKnowLator/wiki/v2-Data-Sources/#mapping-mesh-to-chebi)  \n",
    "\n",
    "**Purpose:** This script assumes that the `NCBO_rest_api.py` script was run and the data generated from this file was written to `./resources/processed_data/temp`.\n"
   ]
  },
  {
   "cell_type": "code",
   "execution_count": 455,
   "metadata": {},
   "outputs": [],
   "source": [
    "with open(processed_data_location + 'MESH_CHEBI_MAP.txt', 'w') as out:\n",
    "    for filename in glob.glob(processed_data_location + 'temp/*.txt'):\n",
    "        for row in list(filter(None, open(filename, 'r').read().split('\\n'))):\n",
    "            mesh = '_'.join(row.split('\\t')[0].split('/')[-2:])\n",
    "            chebi = row.split('\\t')[1].split('/')[-1]\n",
    "            out.write(mesh + '\\t' + chebi + '\\n')\n",
    "\n",
    "out.close()"
   ]
  },
  {
   "cell_type": "code",
   "execution_count": 456,
   "metadata": {},
   "outputs": [
    {
     "name": "stdout",
     "output_type": "stream",
     "text": [
      "There are 11434 MESH-ChEBI edges\n"
     ]
    }
   ],
   "source": [
    "# preview data\n",
    "data = pandas.read_csv(processed_data_location + 'MESH_CHEBI_MAP.txt',\n",
    "                       header = None,\n",
    "                       delimiter = '\\t')\n",
    "\n",
    "print('There are {edge_count} MESH-ChEBI edges'.format(edge_count=len(data)))"
   ]
  },
  {
   "cell_type": "code",
   "execution_count": 457,
   "metadata": {},
   "outputs": [
    {
     "data": {
      "text/html": [
       "<div>\n",
       "<style scoped>\n",
       "    .dataframe tbody tr th:only-of-type {\n",
       "        vertical-align: middle;\n",
       "    }\n",
       "\n",
       "    .dataframe tbody tr th {\n",
       "        vertical-align: top;\n",
       "    }\n",
       "\n",
       "    .dataframe thead th {\n",
       "        text-align: right;\n",
       "    }\n",
       "</style>\n",
       "<table border=\"1\" class=\"dataframe\">\n",
       "  <thead>\n",
       "    <tr style=\"text-align: right;\">\n",
       "      <th></th>\n",
       "      <th>0</th>\n",
       "      <th>1</th>\n",
       "    </tr>\n",
       "  </thead>\n",
       "  <tbody>\n",
       "    <tr>\n",
       "      <th>0</th>\n",
       "      <td>MESH_C535085</td>\n",
       "      <td>CHEBI_133814</td>\n",
       "    </tr>\n",
       "    <tr>\n",
       "      <th>1</th>\n",
       "      <td>MESH_C008574</td>\n",
       "      <td>CHEBI_17221</td>\n",
       "    </tr>\n",
       "    <tr>\n",
       "      <th>2</th>\n",
       "      <td>MESH_C492482</td>\n",
       "      <td>CHEBI_34581</td>\n",
       "    </tr>\n",
       "    <tr>\n",
       "      <th>3</th>\n",
       "      <td>MESH_C007556</td>\n",
       "      <td>CHEBI_135978</td>\n",
       "    </tr>\n",
       "    <tr>\n",
       "      <th>4</th>\n",
       "      <td>MESH_C500395</td>\n",
       "      <td>CHEBI_29138</td>\n",
       "    </tr>\n",
       "    <tr>\n",
       "      <th>5</th>\n",
       "      <td>MESH_C028026</td>\n",
       "      <td>CHEBI_15439</td>\n",
       "    </tr>\n",
       "    <tr>\n",
       "      <th>6</th>\n",
       "      <td>MESH_C560044</td>\n",
       "      <td>CHEBI_68089</td>\n",
       "    </tr>\n",
       "    <tr>\n",
       "      <th>7</th>\n",
       "      <td>MESH_C035745</td>\n",
       "      <td>CHEBI_138829</td>\n",
       "    </tr>\n",
       "    <tr>\n",
       "      <th>8</th>\n",
       "      <td>MESH_C511148</td>\n",
       "      <td>CHEBI_6566</td>\n",
       "    </tr>\n",
       "    <tr>\n",
       "      <th>9</th>\n",
       "      <td>MESH_C050445</td>\n",
       "      <td>CHEBI_28160</td>\n",
       "    </tr>\n",
       "  </tbody>\n",
       "</table>\n",
       "</div>"
      ],
      "text/plain": [
       "              0             1\n",
       "0  MESH_C535085  CHEBI_133814\n",
       "1  MESH_C008574   CHEBI_17221\n",
       "2  MESH_C492482   CHEBI_34581\n",
       "3  MESH_C007556  CHEBI_135978\n",
       "4  MESH_C500395   CHEBI_29138\n",
       "5  MESH_C028026   CHEBI_15439\n",
       "6  MESH_C560044   CHEBI_68089\n",
       "7  MESH_C035745  CHEBI_138829\n",
       "8  MESH_C511148    CHEBI_6566\n",
       "9  MESH_C050445   CHEBI_28160"
      ]
     },
     "execution_count": 457,
     "metadata": {},
     "output_type": "execute_result"
    }
   ],
   "source": [
    "data.head(n=10)"
   ]
  },
  {
   "cell_type": "markdown",
   "metadata": {},
   "source": [
    "<br>\n",
    "\n",
    "***\n",
    "***\n",
    "\n",
    "### Ensembl Gene - Ensembl Transcript <a class=\"anchor\" id=\"ensemblgene-ensembltranscript\"></a>\n",
    "\n",
    "**Wiki Page:** [mapping-transcript-protein-and-gene-identifiers](https://github.com/callahantiff/PheKnowLator/wiki/v2-Data-Sources/#mapping-transcript-protein-and-gene-identifiers)  \n",
    "\n",
    "**Purpose:** This script downloads the [HUMAN_9606_idmapping_selected.tab.gz](ftp://ftp.uniprot.org/pub/databases/uniprot/current_release/knowledgebase/idmapping/by_organism/HUMAN_9606_idmapping_selected.tab.gz) file from the [Uniprot Knolwedge Base](https://www.uniprot.org/) and saves it to the `./resources/processed_data/unprocessed_data/` directory.\n"
   ]
  },
  {
   "cell_type": "code",
   "execution_count": 458,
   "metadata": {},
   "outputs": [
    {
     "name": "stdout",
     "output_type": "stream",
     "text": [
      "Downloading gzipped data from ftp server\n",
      "Uncompressing and writing gzipped data\n"
     ]
    }
   ],
   "source": [
    "# download data\n",
    "url = 'ftp://ftp.uniprot.org/pub/databases/uniprot/current_release/knowledgebase/idmapping/by_organism/HUMAN_9606_idmapping_selected.tab.gz'\n",
    "data_downloader(url)"
   ]
  },
  {
   "cell_type": "code",
   "execution_count": 459,
   "metadata": {},
   "outputs": [],
   "source": [
    "data_processor(filepath=unprocessed_data_location + 'HUMAN_9606_idmapping_selected.tab',\n",
    "                   row_splitter='\\t',\n",
    "                   column_list=[18, 19],\n",
    "                   output_name='ENSEMBL_GENE_ENSEMBL_TRANSCRIPT_MAP',\n",
    "                   line_splitter=';')"
   ]
  },
  {
   "cell_type": "code",
   "execution_count": 460,
   "metadata": {},
   "outputs": [
    {
     "name": "stdout",
     "output_type": "stream",
     "text": [
      "There are 144643 ensembl gene-ensembl transcript edges\n"
     ]
    }
   ],
   "source": [
    "# preview data\n",
    "data = pandas.read_csv(processed_data_location + 'ENSEMBL_GENE_ENSEMBL_TRANSCRIPT_MAP.txt',\n",
    "                       header = None,\n",
    "                       delimiter = '\\t')\n",
    "\n",
    "print('There are {edge_count} ensembl gene-ensembl transcript edges'.format(edge_count=len(data)))"
   ]
  },
  {
   "cell_type": "code",
   "execution_count": 461,
   "metadata": {},
   "outputs": [
    {
     "data": {
      "text/html": [
       "<div>\n",
       "<style scoped>\n",
       "    .dataframe tbody tr th:only-of-type {\n",
       "        vertical-align: middle;\n",
       "    }\n",
       "\n",
       "    .dataframe tbody tr th {\n",
       "        vertical-align: top;\n",
       "    }\n",
       "\n",
       "    .dataframe thead th {\n",
       "        text-align: right;\n",
       "    }\n",
       "</style>\n",
       "<table border=\"1\" class=\"dataframe\">\n",
       "  <thead>\n",
       "    <tr style=\"text-align: right;\">\n",
       "      <th></th>\n",
       "      <th>0</th>\n",
       "      <th>1</th>\n",
       "    </tr>\n",
       "  </thead>\n",
       "  <tbody>\n",
       "    <tr>\n",
       "      <th>0</th>\n",
       "      <td>ENSG00000166913</td>\n",
       "      <td>ENST00000353703</td>\n",
       "    </tr>\n",
       "    <tr>\n",
       "      <th>1</th>\n",
       "      <td>ENSG00000166913</td>\n",
       "      <td>ENST00000372839</td>\n",
       "    </tr>\n",
       "    <tr>\n",
       "      <th>2</th>\n",
       "      <td>ENSG00000108953</td>\n",
       "      <td>ENST00000264335</td>\n",
       "    </tr>\n",
       "    <tr>\n",
       "      <th>3</th>\n",
       "      <td>ENSG00000108953</td>\n",
       "      <td>ENST00000571732</td>\n",
       "    </tr>\n",
       "    <tr>\n",
       "      <th>4</th>\n",
       "      <td>ENSG00000108953</td>\n",
       "      <td>ENST00000616643</td>\n",
       "    </tr>\n",
       "    <tr>\n",
       "      <th>5</th>\n",
       "      <td>ENSG00000108953</td>\n",
       "      <td>ENST00000627231</td>\n",
       "    </tr>\n",
       "    <tr>\n",
       "      <th>6</th>\n",
       "      <td>ENSG00000274474</td>\n",
       "      <td>ENST00000264335</td>\n",
       "    </tr>\n",
       "    <tr>\n",
       "      <th>7</th>\n",
       "      <td>ENSG00000274474</td>\n",
       "      <td>ENST00000571732</td>\n",
       "    </tr>\n",
       "    <tr>\n",
       "      <th>8</th>\n",
       "      <td>ENSG00000274474</td>\n",
       "      <td>ENST00000616643</td>\n",
       "    </tr>\n",
       "    <tr>\n",
       "      <th>9</th>\n",
       "      <td>ENSG00000274474</td>\n",
       "      <td>ENST00000627231</td>\n",
       "    </tr>\n",
       "  </tbody>\n",
       "</table>\n",
       "</div>"
      ],
      "text/plain": [
       "                 0                1\n",
       "0  ENSG00000166913  ENST00000353703\n",
       "1  ENSG00000166913  ENST00000372839\n",
       "2  ENSG00000108953  ENST00000264335\n",
       "3  ENSG00000108953  ENST00000571732\n",
       "4  ENSG00000108953  ENST00000616643\n",
       "5  ENSG00000108953  ENST00000627231\n",
       "6  ENSG00000274474  ENST00000264335\n",
       "7  ENSG00000274474  ENST00000571732\n",
       "8  ENSG00000274474  ENST00000616643\n",
       "9  ENSG00000274474  ENST00000627231"
      ]
     },
     "execution_count": 461,
     "metadata": {},
     "output_type": "execute_result"
    }
   ],
   "source": [
    "data.head(n=10)"
   ]
  },
  {
   "cell_type": "markdown",
   "metadata": {},
   "source": [
    "<br>\n",
    "\n",
    "***\n",
    "***\n",
    "\n",
    "### Ensembl Gene - Entrez Gene <a class=\"anchor\" id=\"ensemblgene-entrezgene\"></a>\n",
    "\n",
    "**Wiki Page:** [mapping-transcript-protein-and-gene-identifiers](https://github.com/callahantiff/PheKnowLator/wiki/v2-Data-Sources/#mapping-transcript-protein-and-gene-identifiers)  \n",
    "\n",
    "**Purpose:** This script downloads the [HUMAN_9606_idmapping_selected.tab.gz](ftp://ftp.uniprot.org/pub/databases/uniprot/current_release/knowledgebase/idmapping/by_organism/HUMAN_9606_idmapping_selected.tab.gz) file from the [Uniprot Knolwedge Base](https://www.uniprot.org/) and saves it to the `./resources/processed_data/unprocessed_data/` directory.\n"
   ]
  },
  {
   "cell_type": "code",
   "execution_count": 462,
   "metadata": {},
   "outputs": [],
   "source": [
    "data_processor(filepath=unprocessed_data_location + 'HUMAN_9606_idmapping_selected.tab',\n",
    "               row_splitter='\\t',\n",
    "               column_list=[18, 2],\n",
    "               output_name='ENSEMBL_GENE_ENTREZ_GENE_MAP',\n",
    "               line_splitter=';')"
   ]
  },
  {
   "cell_type": "code",
   "execution_count": 463,
   "metadata": {},
   "outputs": [
    {
     "name": "stdout",
     "output_type": "stream",
     "text": [
      "There are 25605 ensembl gene-entrez gene edges\n"
     ]
    }
   ],
   "source": [
    "# preview data\n",
    "data = pandas.read_csv(processed_data_location + 'ENSEMBL_GENE_ENTREZ_GENE_MAP.txt',\n",
    "                       header = None,\n",
    "                       delimiter = '\\t')\n",
    "\n",
    "print('There are {edge_count} ensembl gene-entrez gene edges'.format(edge_count=len(data)))"
   ]
  },
  {
   "cell_type": "code",
   "execution_count": 464,
   "metadata": {},
   "outputs": [
    {
     "data": {
      "text/html": [
       "<div>\n",
       "<style scoped>\n",
       "    .dataframe tbody tr th:only-of-type {\n",
       "        vertical-align: middle;\n",
       "    }\n",
       "\n",
       "    .dataframe tbody tr th {\n",
       "        vertical-align: top;\n",
       "    }\n",
       "\n",
       "    .dataframe thead th {\n",
       "        text-align: right;\n",
       "    }\n",
       "</style>\n",
       "<table border=\"1\" class=\"dataframe\">\n",
       "  <thead>\n",
       "    <tr style=\"text-align: right;\">\n",
       "      <th></th>\n",
       "      <th>0</th>\n",
       "      <th>1</th>\n",
       "    </tr>\n",
       "  </thead>\n",
       "  <tbody>\n",
       "    <tr>\n",
       "      <th>0</th>\n",
       "      <td>ENSG00000166913</td>\n",
       "      <td>7529</td>\n",
       "    </tr>\n",
       "    <tr>\n",
       "      <th>1</th>\n",
       "      <td>ENSG00000108953</td>\n",
       "      <td>7531</td>\n",
       "    </tr>\n",
       "    <tr>\n",
       "      <th>2</th>\n",
       "      <td>ENSG00000274474</td>\n",
       "      <td>7531</td>\n",
       "    </tr>\n",
       "    <tr>\n",
       "      <th>3</th>\n",
       "      <td>ENSG00000128245</td>\n",
       "      <td>7533</td>\n",
       "    </tr>\n",
       "    <tr>\n",
       "      <th>4</th>\n",
       "      <td>ENSG00000170027</td>\n",
       "      <td>7532</td>\n",
       "    </tr>\n",
       "    <tr>\n",
       "      <th>5</th>\n",
       "      <td>ENSG00000175793</td>\n",
       "      <td>2810</td>\n",
       "    </tr>\n",
       "    <tr>\n",
       "      <th>6</th>\n",
       "      <td>ENSG00000134308</td>\n",
       "      <td>10971</td>\n",
       "    </tr>\n",
       "    <tr>\n",
       "      <th>7</th>\n",
       "      <td>ENSG00000164924</td>\n",
       "      <td>7534</td>\n",
       "    </tr>\n",
       "    <tr>\n",
       "      <th>8</th>\n",
       "      <td>ENSG00000110455</td>\n",
       "      <td>84680</td>\n",
       "    </tr>\n",
       "    <tr>\n",
       "      <th>9</th>\n",
       "      <td>ENSG00000205126</td>\n",
       "      <td>390110</td>\n",
       "    </tr>\n",
       "  </tbody>\n",
       "</table>\n",
       "</div>"
      ],
      "text/plain": [
       "                 0       1\n",
       "0  ENSG00000166913    7529\n",
       "1  ENSG00000108953    7531\n",
       "2  ENSG00000274474    7531\n",
       "3  ENSG00000128245    7533\n",
       "4  ENSG00000170027    7532\n",
       "5  ENSG00000175793    2810\n",
       "6  ENSG00000134308   10971\n",
       "7  ENSG00000164924    7534\n",
       "8  ENSG00000110455   84680\n",
       "9  ENSG00000205126  390110"
      ]
     },
     "execution_count": 464,
     "metadata": {},
     "output_type": "execute_result"
    }
   ],
   "source": [
    "data.head(n=10)"
   ]
  },
  {
   "cell_type": "markdown",
   "metadata": {},
   "source": [
    "<br>\n",
    "\n",
    "***\n",
    "***\n",
    "\n",
    "### Ensembl Gene - Uniprot Accession <a class=\"anchor\" id=\"ensemblgene-uniprot\"></a>\n",
    "\n",
    "**Wiki Page:** [mapping-transcript-protein-and-gene-identifiers](https://github.com/callahantiff/PheKnowLator/wiki/v2-Data-Sources/#mapping-transcript-protein-and-gene-identifiers)  \n",
    "\n",
    "**Purpose:** This script downloads the [HUMAN_9606_idmapping_selected.tab.gz](ftp://ftp.uniprot.org/pub/databases/uniprot/current_release/knowledgebase/idmapping/by_organism/HUMAN_9606_idmapping_selected.tab.gz) file from the [Uniprot Knolwedge Base](https://www.uniprot.org/) and saves it to the `./resources/processed_data/unprocessed_data/` directory.\n"
   ]
  },
  {
   "cell_type": "code",
   "execution_count": 465,
   "metadata": {},
   "outputs": [],
   "source": [
    "data_processor(filepath=unprocessed_data_location + 'HUMAN_9606_idmapping_selected.tab',\n",
    "               row_splitter='\\t',\n",
    "               column_list=[18, 0],\n",
    "               output_name='ENSEMBL_GENE_UNIPROT_ACCESSION_MAP',\n",
    "               line_splitter=';')"
   ]
  },
  {
   "cell_type": "code",
   "execution_count": 466,
   "metadata": {},
   "outputs": [
    {
     "name": "stdout",
     "output_type": "stream",
     "text": [
      "There are 78437 ensembl gene-uniprot accession edges\n"
     ]
    }
   ],
   "source": [
    "# preview data\n",
    "data = pandas.read_csv(processed_data_location + 'ENSEMBL_GENE_UNIPROT_ACCESSION_MAP.txt',\n",
    "                       header = None,\n",
    "                       delimiter = '\\t')\n",
    "\n",
    "print('There are {edge_count} ensembl gene-uniprot accession edges'.format(edge_count=len(data)))"
   ]
  },
  {
   "cell_type": "code",
   "execution_count": 467,
   "metadata": {},
   "outputs": [
    {
     "data": {
      "text/html": [
       "<div>\n",
       "<style scoped>\n",
       "    .dataframe tbody tr th:only-of-type {\n",
       "        vertical-align: middle;\n",
       "    }\n",
       "\n",
       "    .dataframe tbody tr th {\n",
       "        vertical-align: top;\n",
       "    }\n",
       "\n",
       "    .dataframe thead th {\n",
       "        text-align: right;\n",
       "    }\n",
       "</style>\n",
       "<table border=\"1\" class=\"dataframe\">\n",
       "  <thead>\n",
       "    <tr style=\"text-align: right;\">\n",
       "      <th></th>\n",
       "      <th>0</th>\n",
       "      <th>1</th>\n",
       "    </tr>\n",
       "  </thead>\n",
       "  <tbody>\n",
       "    <tr>\n",
       "      <th>0</th>\n",
       "      <td>ENSG00000166913</td>\n",
       "      <td>P31946</td>\n",
       "    </tr>\n",
       "    <tr>\n",
       "      <th>1</th>\n",
       "      <td>ENSG00000108953</td>\n",
       "      <td>P62258</td>\n",
       "    </tr>\n",
       "    <tr>\n",
       "      <th>2</th>\n",
       "      <td>ENSG00000274474</td>\n",
       "      <td>P62258</td>\n",
       "    </tr>\n",
       "    <tr>\n",
       "      <th>3</th>\n",
       "      <td>ENSG00000128245</td>\n",
       "      <td>Q04917</td>\n",
       "    </tr>\n",
       "    <tr>\n",
       "      <th>4</th>\n",
       "      <td>ENSG00000170027</td>\n",
       "      <td>P61981</td>\n",
       "    </tr>\n",
       "    <tr>\n",
       "      <th>5</th>\n",
       "      <td>ENSG00000175793</td>\n",
       "      <td>P31947</td>\n",
       "    </tr>\n",
       "    <tr>\n",
       "      <th>6</th>\n",
       "      <td>ENSG00000134308</td>\n",
       "      <td>P27348</td>\n",
       "    </tr>\n",
       "    <tr>\n",
       "      <th>7</th>\n",
       "      <td>ENSG00000164924</td>\n",
       "      <td>P63104</td>\n",
       "    </tr>\n",
       "    <tr>\n",
       "      <th>8</th>\n",
       "      <td>ENSG00000110455</td>\n",
       "      <td>Q96QU6</td>\n",
       "    </tr>\n",
       "    <tr>\n",
       "      <th>9</th>\n",
       "      <td>ENSG00000205126</td>\n",
       "      <td>Q4AC99</td>\n",
       "    </tr>\n",
       "  </tbody>\n",
       "</table>\n",
       "</div>"
      ],
      "text/plain": [
       "                 0       1\n",
       "0  ENSG00000166913  P31946\n",
       "1  ENSG00000108953  P62258\n",
       "2  ENSG00000274474  P62258\n",
       "3  ENSG00000128245  Q04917\n",
       "4  ENSG00000170027  P61981\n",
       "5  ENSG00000175793  P31947\n",
       "6  ENSG00000134308  P27348\n",
       "7  ENSG00000164924  P63104\n",
       "8  ENSG00000110455  Q96QU6\n",
       "9  ENSG00000205126  Q4AC99"
      ]
     },
     "execution_count": 467,
     "metadata": {},
     "output_type": "execute_result"
    }
   ],
   "source": [
    "data.head(n=10)"
   ]
  },
  {
   "cell_type": "markdown",
   "metadata": {},
   "source": [
    "<br>\n",
    "\n",
    "***\n",
    "***\n",
    "\n",
    "### Ensembl Protein - Uniprot Accession <a class=\"anchor\" id=\"ensemblprotein-uniprot\"></a>\n",
    "\n",
    "**Wiki Page:** [mapping-transcript-protein-and-gene-identifiers](https://github.com/callahantiff/PheKnowLator/wiki/v2-Data-Sources/#mapping-transcript-protein-and-gene-identifiers)  \n",
    "\n",
    "**Purpose:** This script downloads the [HUMAN_9606_idmapping_selected.tab.gz](ftp://ftp.uniprot.org/pub/databases/uniprot/current_release/knowledgebase/idmapping/by_organism/HUMAN_9606_idmapping_selected.tab.gz) file from the [Uniprot Knolwedge Base](https://www.uniprot.org/) and saves it to the `./resources/processed_data/unprocessed_data/` directory.\n"
   ]
  },
  {
   "cell_type": "code",
   "execution_count": 468,
   "metadata": {},
   "outputs": [],
   "source": [
    "data_processor(filepath=unprocessed_data_location + 'HUMAN_9606_idmapping_selected.tab',\n",
    "               row_splitter='\\t',\n",
    "               column_list=[20, 0],\n",
    "               output_name='ENSEMBL_PROTEIN_UNIPROT_ACCESSION_MAP',\n",
    "               line_splitter=';')"
   ]
  },
  {
   "cell_type": "code",
   "execution_count": 469,
   "metadata": {},
   "outputs": [
    {
     "name": "stdout",
     "output_type": "stream",
     "text": [
      "There are 107976 ensembl protein-uniprot accession edges\n"
     ]
    }
   ],
   "source": [
    "# preview data\n",
    "data = pandas.read_csv(processed_data_location + 'ENSEMBL_PROTEIN_UNIPROT_ACCESSION_MAP.txt',\n",
    "                       header = None,\n",
    "                       delimiter = '\\t')\n",
    "\n",
    "print('There are {edge_count} ensembl protein-uniprot accession edges'.format(edge_count=len(data)))"
   ]
  },
  {
   "cell_type": "code",
   "execution_count": 470,
   "metadata": {},
   "outputs": [
    {
     "data": {
      "text/html": [
       "<div>\n",
       "<style scoped>\n",
       "    .dataframe tbody tr th:only-of-type {\n",
       "        vertical-align: middle;\n",
       "    }\n",
       "\n",
       "    .dataframe tbody tr th {\n",
       "        vertical-align: top;\n",
       "    }\n",
       "\n",
       "    .dataframe thead th {\n",
       "        text-align: right;\n",
       "    }\n",
       "</style>\n",
       "<table border=\"1\" class=\"dataframe\">\n",
       "  <thead>\n",
       "    <tr style=\"text-align: right;\">\n",
       "      <th></th>\n",
       "      <th>0</th>\n",
       "      <th>1</th>\n",
       "    </tr>\n",
       "  </thead>\n",
       "  <tbody>\n",
       "    <tr>\n",
       "      <th>0</th>\n",
       "      <td>ENSP00000300161</td>\n",
       "      <td>P31946</td>\n",
       "    </tr>\n",
       "    <tr>\n",
       "      <th>1</th>\n",
       "      <td>ENSP00000361930</td>\n",
       "      <td>P31946</td>\n",
       "    </tr>\n",
       "    <tr>\n",
       "      <th>2</th>\n",
       "      <td>ENSP00000264335</td>\n",
       "      <td>P62258</td>\n",
       "    </tr>\n",
       "    <tr>\n",
       "      <th>3</th>\n",
       "      <td>ENSP00000461762</td>\n",
       "      <td>P62258</td>\n",
       "    </tr>\n",
       "    <tr>\n",
       "      <th>4</th>\n",
       "      <td>ENSP00000481059</td>\n",
       "      <td>P62258</td>\n",
       "    </tr>\n",
       "    <tr>\n",
       "      <th>5</th>\n",
       "      <td>ENSP00000487356</td>\n",
       "      <td>P62258</td>\n",
       "    </tr>\n",
       "    <tr>\n",
       "      <th>6</th>\n",
       "      <td>ENSP00000248975</td>\n",
       "      <td>Q04917</td>\n",
       "    </tr>\n",
       "    <tr>\n",
       "      <th>7</th>\n",
       "      <td>ENSP00000306330</td>\n",
       "      <td>P61981</td>\n",
       "    </tr>\n",
       "    <tr>\n",
       "      <th>8</th>\n",
       "      <td>ENSP00000340989</td>\n",
       "      <td>P31947</td>\n",
       "    </tr>\n",
       "    <tr>\n",
       "      <th>9</th>\n",
       "      <td>ENSP00000238081</td>\n",
       "      <td>P27348</td>\n",
       "    </tr>\n",
       "  </tbody>\n",
       "</table>\n",
       "</div>"
      ],
      "text/plain": [
       "                 0       1\n",
       "0  ENSP00000300161  P31946\n",
       "1  ENSP00000361930  P31946\n",
       "2  ENSP00000264335  P62258\n",
       "3  ENSP00000461762  P62258\n",
       "4  ENSP00000481059  P62258\n",
       "5  ENSP00000487356  P62258\n",
       "6  ENSP00000248975  Q04917\n",
       "7  ENSP00000306330  P61981\n",
       "8  ENSP00000340989  P31947\n",
       "9  ENSP00000238081  P27348"
      ]
     },
     "execution_count": 470,
     "metadata": {},
     "output_type": "execute_result"
    }
   ],
   "source": [
    "data.head(n=10)"
   ]
  },
  {
   "cell_type": "markdown",
   "metadata": {},
   "source": [
    "<br>\n",
    "\n",
    "***\n",
    "***\n",
    "\n",
    "### Uniprot Accession - Protein Ontology <a class=\"anchor\" id=\"uniprot-pro\"></a>\n",
    "\n",
    "**Wiki Page:** [mapping-protein-identifiers](https://github.com/callahantiff/PheKnowLator/wiki/v2-Data-Sources/#mapping-protein-identifiers)  \n",
    "\n",
    "**Purpose:** This script downloads the [promapping.txt](https://proconsortium.org/download/current/promapping.txt) file from the [Pro Consortium](https://proconsortium.org/download/current/) and saves to the `./resources/processed_data/unprocessed_data/` directory.\n"
   ]
  },
  {
   "cell_type": "code",
   "execution_count": 471,
   "metadata": {},
   "outputs": [
    {
     "name": "stdout",
     "output_type": "stream",
     "text": [
      "Downloading data file\n"
     ]
    }
   ],
   "source": [
    "# download data\n",
    "url = 'https://proconsortium.org/download/current/promapping.txt'\n",
    "data_downloader(url)"
   ]
  },
  {
   "cell_type": "code",
   "execution_count": 472,
   "metadata": {},
   "outputs": [],
   "source": [
    "data = open(unprocessed_data_location + 'promapping.txt').readlines()\n",
    "\n",
    "# reformat data and write it out\n",
    "with open(processed_data_location + 'UNIPROT_ACCESSION_PRO_MAP.txt', 'w') as outfile:\n",
    "    for line in data:\n",
    "        row = line.split('\\t')\n",
    "\n",
    "        if row[1].startswith('UniProtKB'):\n",
    "            outfile.write(row[0].strip().replace(':', '_') + '\\t' + row[1].strip().split(':')[-1] + '\\n')\n",
    "\n",
    "outfile.close()"
   ]
  },
  {
   "cell_type": "code",
   "execution_count": 473,
   "metadata": {},
   "outputs": [
    {
     "name": "stdout",
     "output_type": "stream",
     "text": [
      "There are 314714 uniprot accession-protein ontology edges\n"
     ]
    }
   ],
   "source": [
    "# preview data\n",
    "data = pandas.read_csv(processed_data_location + 'UNIPROT_ACCESSION_PRO_MAP.txt',\n",
    "                       header = None,\n",
    "                       delimiter = '\\t')\n",
    "\n",
    "print('There are {edge_count} uniprot accession-protein ontology edges'.format(edge_count=len(data)))"
   ]
  },
  {
   "cell_type": "code",
   "execution_count": 474,
   "metadata": {},
   "outputs": [
    {
     "data": {
      "text/html": [
       "<div>\n",
       "<style scoped>\n",
       "    .dataframe tbody tr th:only-of-type {\n",
       "        vertical-align: middle;\n",
       "    }\n",
       "\n",
       "    .dataframe tbody tr th {\n",
       "        vertical-align: top;\n",
       "    }\n",
       "\n",
       "    .dataframe thead th {\n",
       "        text-align: right;\n",
       "    }\n",
       "</style>\n",
       "<table border=\"1\" class=\"dataframe\">\n",
       "  <thead>\n",
       "    <tr style=\"text-align: right;\">\n",
       "      <th></th>\n",
       "      <th>0</th>\n",
       "      <th>1</th>\n",
       "    </tr>\n",
       "  </thead>\n",
       "  <tbody>\n",
       "    <tr>\n",
       "      <th>0</th>\n",
       "      <td>PR_000000005</td>\n",
       "      <td>P37173</td>\n",
       "    </tr>\n",
       "    <tr>\n",
       "      <th>1</th>\n",
       "      <td>PR_000000005</td>\n",
       "      <td>P38438</td>\n",
       "    </tr>\n",
       "    <tr>\n",
       "      <th>2</th>\n",
       "      <td>PR_000000005</td>\n",
       "      <td>Q62312</td>\n",
       "    </tr>\n",
       "    <tr>\n",
       "      <th>3</th>\n",
       "      <td>PR_000000005</td>\n",
       "      <td>Q90999</td>\n",
       "    </tr>\n",
       "    <tr>\n",
       "      <th>4</th>\n",
       "      <td>PR_000000007</td>\n",
       "      <td>F1R709</td>\n",
       "    </tr>\n",
       "    <tr>\n",
       "      <th>5</th>\n",
       "      <td>PR_000000009</td>\n",
       "      <td>Q16671</td>\n",
       "    </tr>\n",
       "    <tr>\n",
       "      <th>6</th>\n",
       "      <td>PR_000000009</td>\n",
       "      <td>Q62893</td>\n",
       "    </tr>\n",
       "    <tr>\n",
       "      <th>7</th>\n",
       "      <td>PR_000000009</td>\n",
       "      <td>Q8K592</td>\n",
       "    </tr>\n",
       "    <tr>\n",
       "      <th>8</th>\n",
       "      <td>PR_000000010</td>\n",
       "      <td>O57472</td>\n",
       "    </tr>\n",
       "    <tr>\n",
       "      <th>9</th>\n",
       "      <td>PR_000000010</td>\n",
       "      <td>Q24025</td>\n",
       "    </tr>\n",
       "  </tbody>\n",
       "</table>\n",
       "</div>"
      ],
      "text/plain": [
       "              0       1\n",
       "0  PR_000000005  P37173\n",
       "1  PR_000000005  P38438\n",
       "2  PR_000000005  Q62312\n",
       "3  PR_000000005  Q90999\n",
       "4  PR_000000007  F1R709\n",
       "5  PR_000000009  Q16671\n",
       "6  PR_000000009  Q62893\n",
       "7  PR_000000009  Q8K592\n",
       "8  PR_000000010  O57472\n",
       "9  PR_000000010  Q24025"
      ]
     },
     "execution_count": 474,
     "metadata": {},
     "output_type": "execute_result"
    }
   ],
   "source": [
    "data.head(n=10)"
   ]
  },
  {
   "cell_type": "markdown",
   "metadata": {},
   "source": [
    "<br>\n",
    "\n",
    "***\n",
    "***\n",
    "\n",
    "### Ensembl Protein - Protein Ontology <a class=\"anchor\" id=\"ensemblprotein-pro\"></a>\n",
    "\n",
    "**Wiki Page:** [mapping-protein-identifiers](https://github.com/callahantiff/PheKnowLator/wiki/v2-Data-Sources/#mapping-protein-identifiers)  \n",
    "\n",
    "**Purpose:** This script assumes that the `UNIPROT_ACCESSION_PRO_MAP.txt` and the `ENSEMBL_PROTEIN_UNIPROT_ACCESSION_MAP.txt` files were created and saved to the `./resources/processed_data/unprocessed_data/` directory.\n"
   ]
  },
  {
   "cell_type": "code",
   "execution_count": 476,
   "metadata": {},
   "outputs": [],
   "source": [
    "pro_kb = pandas.read_csv(processed_data_location + 'UNIPROT_ACCESSION_PRO_MAP.txt',\n",
    "                         header = None,\n",
    "                         delimiter = '\\t')\n",
    "\n",
    "# convert to dictionary\n",
    "pro_dict = {}\n",
    "\n",
    "for idx, row in pro_kb.iterrows():\n",
    "    if row[1] in pro_dict.keys():\n",
    "        pro_dict[row[1]].append(row[0]) \n",
    "    else:\n",
    "        pro_dict[row[1]] = [row[0]]"
   ]
  },
  {
   "cell_type": "code",
   "execution_count": 477,
   "metadata": {},
   "outputs": [],
   "source": [
    "ens_uni = pandas.read_csv(processed_data_location + 'ENSEMBL_PROTEIN_UNIPROT_ACCESSION_MAP.txt',\n",
    "                       header = None,\n",
    "                       delimiter = '\\t')\n",
    "\n",
    "# write out data\n",
    "with open(processed_data_location + 'ENSEMBL_PROTEIN_PRO_MAP.txt', 'w') as outfile:\n",
    "    for idx, row in ens_uni.iterrows():        \n",
    "        if row[1] in pro_dict.keys():\n",
    "            for x in pro_dict[row[1]]: \n",
    "                outfile.write(row[0] + '\\t' + x + '\\n')\n",
    "\n",
    "outfile.close()"
   ]
  },
  {
   "cell_type": "code",
   "execution_count": 478,
   "metadata": {},
   "outputs": [
    {
     "name": "stdout",
     "output_type": "stream",
     "text": [
      "There are 92199 ensembl protein-protein ontology edges\n"
     ]
    }
   ],
   "source": [
    "# preview data\n",
    "data = pandas.read_csv(processed_data_location + 'ENSEMBL_PROTEIN_PRO_MAP.txt',\n",
    "                       header = None,\n",
    "                       delimiter = '\\t')\n",
    "\n",
    "print('There are {edge_count} ensembl protein-protein ontology edges'.format(edge_count=len(data)))"
   ]
  },
  {
   "cell_type": "code",
   "execution_count": 479,
   "metadata": {},
   "outputs": [
    {
     "data": {
      "text/html": [
       "<div>\n",
       "<style scoped>\n",
       "    .dataframe tbody tr th:only-of-type {\n",
       "        vertical-align: middle;\n",
       "    }\n",
       "\n",
       "    .dataframe tbody tr th {\n",
       "        vertical-align: top;\n",
       "    }\n",
       "\n",
       "    .dataframe thead th {\n",
       "        text-align: right;\n",
       "    }\n",
       "</style>\n",
       "<table border=\"1\" class=\"dataframe\">\n",
       "  <thead>\n",
       "    <tr style=\"text-align: right;\">\n",
       "      <th></th>\n",
       "      <th>0</th>\n",
       "      <th>1</th>\n",
       "    </tr>\n",
       "  </thead>\n",
       "  <tbody>\n",
       "    <tr>\n",
       "      <th>0</th>\n",
       "      <td>ENSP00000300161</td>\n",
       "      <td>PR_000002175</td>\n",
       "    </tr>\n",
       "    <tr>\n",
       "      <th>1</th>\n",
       "      <td>ENSP00000300161</td>\n",
       "      <td>PR_P31946</td>\n",
       "    </tr>\n",
       "    <tr>\n",
       "      <th>2</th>\n",
       "      <td>ENSP00000361930</td>\n",
       "      <td>PR_000002175</td>\n",
       "    </tr>\n",
       "    <tr>\n",
       "      <th>3</th>\n",
       "      <td>ENSP00000361930</td>\n",
       "      <td>PR_P31946</td>\n",
       "    </tr>\n",
       "    <tr>\n",
       "      <th>4</th>\n",
       "      <td>ENSP00000264335</td>\n",
       "      <td>PR_000003104</td>\n",
       "    </tr>\n",
       "    <tr>\n",
       "      <th>5</th>\n",
       "      <td>ENSP00000264335</td>\n",
       "      <td>PR_P62258</td>\n",
       "    </tr>\n",
       "    <tr>\n",
       "      <th>6</th>\n",
       "      <td>ENSP00000461762</td>\n",
       "      <td>PR_000003104</td>\n",
       "    </tr>\n",
       "    <tr>\n",
       "      <th>7</th>\n",
       "      <td>ENSP00000461762</td>\n",
       "      <td>PR_P62258</td>\n",
       "    </tr>\n",
       "    <tr>\n",
       "      <th>8</th>\n",
       "      <td>ENSP00000481059</td>\n",
       "      <td>PR_000003104</td>\n",
       "    </tr>\n",
       "    <tr>\n",
       "      <th>9</th>\n",
       "      <td>ENSP00000481059</td>\n",
       "      <td>PR_P62258</td>\n",
       "    </tr>\n",
       "  </tbody>\n",
       "</table>\n",
       "</div>"
      ],
      "text/plain": [
       "                 0             1\n",
       "0  ENSP00000300161  PR_000002175\n",
       "1  ENSP00000300161     PR_P31946\n",
       "2  ENSP00000361930  PR_000002175\n",
       "3  ENSP00000361930     PR_P31946\n",
       "4  ENSP00000264335  PR_000003104\n",
       "5  ENSP00000264335     PR_P62258\n",
       "6  ENSP00000461762  PR_000003104\n",
       "7  ENSP00000461762     PR_P62258\n",
       "8  ENSP00000481059  PR_000003104\n",
       "9  ENSP00000481059     PR_P62258"
      ]
     },
     "execution_count": 479,
     "metadata": {},
     "output_type": "execute_result"
    }
   ],
   "source": [
    "data.head(n=10)"
   ]
  },
  {
   "cell_type": "markdown",
   "metadata": {},
   "source": [
    "<br>\n",
    "\n",
    "***\n",
    "***\n",
    "\n",
    "### HPA Tissue/Cells - UBERON + Cell Ontology <a class=\"anchor\" id=\"hpa-uberon\"></a>\n",
    "\n",
    "**Wiki Page:** [mapping-human-protein-atlas-tissues-and-cell-types](https://github.com/callahantiff/PheKnowLator/wiki/v2-Data-Sources/#mapping-human-protein-atlas-tissues-and-cell-types)  \n",
    "\n",
    "**Purpose:** This script downloads the [rna_tissue_consensus.tsv](https://www.proteinatlas.org/download/rna_tissue_consensus.tsv.zip) and [normal_tissue.tsv](https://www.proteinatlas.org/download/normal_tissue.tsv.zip) files from the [Human Protein Atlas](https://www.proteinatlas.org) and saves them to the `./resources/processed_data/unprocessed_data/` directory.\n"
   ]
  },
  {
   "cell_type": "code",
   "execution_count": 480,
   "metadata": {},
   "outputs": [
    {
     "name": "stdout",
     "output_type": "stream",
     "text": [
      "Downloading zipped data file\n",
      "Downloading zipped data file\n"
     ]
    }
   ],
   "source": [
    "# download data\n",
    "url1 = 'https://www.proteinatlas.org/download/normal_tissue.tsv.zip'\n",
    "data_downloader(url1)\n",
    "\n",
    "url2 = 'https://www.proteinatlas.org/download/rna_tissue_consensus.tsv.zip'\n",
    "data_downloader(url2)"
   ]
  },
  {
   "cell_type": "code",
   "execution_count": 481,
   "metadata": {},
   "outputs": [],
   "source": [
    "# abnormal tissue\n",
    "abnormal_tissue = []\n",
    "for line in open(unprocessed_data_location + 'rna_tissue_consensus.tsv').readlines():\n",
    "    abnormal_tissue.append(line.split('\\t')[2].strip())\n",
    "\n",
    "# normal tissue\n",
    "normal_tissue = []\n",
    "\n",
    "for line in open(unprocessed_data_location + 'normal_tissue.tsv').readlines():\n",
    "    normal_tissue.append(line.split('\\t')[2].strip() + ' - ' + line.split('\\t')[3].strip())\n",
    "\n",
    "# combine normal and abnormal tissue and cells into single list\n",
    "combo = set(abnormal_tissue + normal_tissue)\n",
    "\n",
    "# write results\n",
    "with open(unprocessed_data_location + 'HPA_tissues.txt', 'w') as outfile:\n",
    "    for x in combo:\n",
    "        outfile.write(x.strip() + '\\n')\n",
    "\n",
    "outfile.close()"
   ]
  },
  {
   "cell_type": "code",
   "execution_count": 482,
   "metadata": {},
   "outputs": [
    {
     "data": {
      "text/html": [
       "<div>\n",
       "<style scoped>\n",
       "    .dataframe tbody tr th:only-of-type {\n",
       "        vertical-align: middle;\n",
       "    }\n",
       "\n",
       "    .dataframe tbody tr th {\n",
       "        vertical-align: top;\n",
       "    }\n",
       "\n",
       "    .dataframe thead th {\n",
       "        text-align: right;\n",
       "    }\n",
       "</style>\n",
       "<table border=\"1\" class=\"dataframe\">\n",
       "  <thead>\n",
       "    <tr style=\"text-align: right;\">\n",
       "      <th></th>\n",
       "      <th>TISSUE</th>\n",
       "      <th>CELL TYPE</th>\n",
       "      <th>ONTOLOGY</th>\n",
       "      <th>ONTOLOGY ID</th>\n",
       "      <th>ONTOLOGY LABEL</th>\n",
       "      <th>MAPPING</th>\n",
       "    </tr>\n",
       "  </thead>\n",
       "  <tbody>\n",
       "    <tr>\n",
       "      <th>0</th>\n",
       "      <td>adipose tissue</td>\n",
       "      <td>None</td>\n",
       "      <td>UBERON</td>\n",
       "      <td>http://purl.obolibrary.org/obo/UBERON_0001013</td>\n",
       "      <td>adipose tissue</td>\n",
       "      <td>ZOOMA</td>\n",
       "    </tr>\n",
       "    <tr>\n",
       "      <th>1</th>\n",
       "      <td>adipose tissue</td>\n",
       "      <td>adipocytes</td>\n",
       "      <td>UBERON</td>\n",
       "      <td>http://purl.obolibrary.org/obo/UBERON_0001013</td>\n",
       "      <td>adipose tissue</td>\n",
       "      <td>ZOOMA</td>\n",
       "    </tr>\n",
       "    <tr>\n",
       "      <th>2</th>\n",
       "      <td>adipose tissue</td>\n",
       "      <td>adipocytes</td>\n",
       "      <td>CL</td>\n",
       "      <td>http://purl.obolibrary.org/obo/CL_0001070</td>\n",
       "      <td>fat cell</td>\n",
       "      <td>Manual</td>\n",
       "    </tr>\n",
       "    <tr>\n",
       "      <th>3</th>\n",
       "      <td>adrenal gland</td>\n",
       "      <td>None</td>\n",
       "      <td>UBERON</td>\n",
       "      <td>http://purl.obolibrary.org/obo/UBERON_0002369</td>\n",
       "      <td>adrenal gland</td>\n",
       "      <td>ZOOMA</td>\n",
       "    </tr>\n",
       "    <tr>\n",
       "      <th>4</th>\n",
       "      <td>adrenal gland</td>\n",
       "      <td>cells in zona fasciculata</td>\n",
       "      <td>UBERON</td>\n",
       "      <td>http://purl.obolibrary.org/obo/UBERON_0002054</td>\n",
       "      <td>zona fasciculata of adrenal gland</td>\n",
       "      <td>ZOOMA</td>\n",
       "    </tr>\n",
       "  </tbody>\n",
       "</table>\n",
       "</div>"
      ],
      "text/plain": [
       "            TISSUE                   CELL TYPE ONTOLOGY  \\\n",
       "0   adipose tissue                        None   UBERON   \n",
       "1  adipose tissue                   adipocytes   UBERON   \n",
       "2  adipose tissue                   adipocytes       CL   \n",
       "3    adrenal gland                        None   UBERON   \n",
       "4   adrenal gland    cells in zona fasciculata   UBERON   \n",
       "\n",
       "                                     ONTOLOGY ID  \\\n",
       "0  http://purl.obolibrary.org/obo/UBERON_0001013   \n",
       "1  http://purl.obolibrary.org/obo/UBERON_0001013   \n",
       "2      http://purl.obolibrary.org/obo/CL_0001070   \n",
       "3  http://purl.obolibrary.org/obo/UBERON_0002369   \n",
       "4  http://purl.obolibrary.org/obo/UBERON_0002054   \n",
       "\n",
       "                      ONTOLOGY LABEL MAPPING  \n",
       "0                     adipose tissue   ZOOMA  \n",
       "1                     adipose tissue   ZOOMA  \n",
       "2                           fat cell  Manual  \n",
       "3                      adrenal gland   ZOOMA  \n",
       "4  zona fasciculata of adrenal gland   ZOOMA  "
      ]
     },
     "execution_count": 482,
     "metadata": {},
     "output_type": "execute_result"
    }
   ],
   "source": [
    "# read back in mapped tissue/cell data\n",
    "data = pandas.read_excel(open(unprocessed_data_location + 'zooma_tissue_cell_mapping_04DEC2019.xlsx',\n",
    "                              'rb'),\n",
    "                         sheet_name='zooma_tissue_cell_mapping_04DEC',\n",
    "                         header=0)\n",
    "\n",
    "data.fillna('None', inplace=True)\n",
    "\n",
    "# prerview data\n",
    "data.head(n=5)"
   ]
  },
  {
   "cell_type": "code",
   "execution_count": 483,
   "metadata": {},
   "outputs": [],
   "source": [
    "# reformat data and write it out\n",
    "with open(processed_data_location + 'HPA_TISSUE_CELL_MAP.txt', 'w') as outfile:\n",
    "    for idx, row in data.iterrows():\n",
    "\n",
    "        if row['TISSUE'] != 'None':\n",
    "            outfile.write(str(row['TISSUE']).strip() + '\\t' + str(row['ONTOLOGY ID']).strip() + '\\n')\n",
    "\n",
    "        if row['CELL TYPE'] != 'None':\n",
    "            outfile.write(str(row['CELL TYPE']).strip() + '\\t' + str(row['ONTOLOGY ID']).strip() + '\\n')\n",
    "\n",
    "outfile.close()"
   ]
  },
  {
   "cell_type": "code",
   "execution_count": 484,
   "metadata": {},
   "outputs": [
    {
     "name": "stdout",
     "output_type": "stream",
     "text": [
      "There are 622 edges\n"
     ]
    }
   ],
   "source": [
    "# preview data\n",
    "data = pandas.read_csv(processed_data_location + 'HPA_TISSUE_CELL_MAP.txt',\n",
    "                       header = None,\n",
    "                       delimiter = '\\t')\n",
    "\n",
    "print('There are {edge_count} edges'.format(edge_count=len(data)))"
   ]
  },
  {
   "cell_type": "code",
   "execution_count": 485,
   "metadata": {},
   "outputs": [
    {
     "data": {
      "text/html": [
       "<div>\n",
       "<style scoped>\n",
       "    .dataframe tbody tr th:only-of-type {\n",
       "        vertical-align: middle;\n",
       "    }\n",
       "\n",
       "    .dataframe tbody tr th {\n",
       "        vertical-align: top;\n",
       "    }\n",
       "\n",
       "    .dataframe thead th {\n",
       "        text-align: right;\n",
       "    }\n",
       "</style>\n",
       "<table border=\"1\" class=\"dataframe\">\n",
       "  <thead>\n",
       "    <tr style=\"text-align: right;\">\n",
       "      <th></th>\n",
       "      <th>0</th>\n",
       "      <th>1</th>\n",
       "    </tr>\n",
       "  </thead>\n",
       "  <tbody>\n",
       "    <tr>\n",
       "      <th>0</th>\n",
       "      <td>adipose tissue</td>\n",
       "      <td>http://purl.obolibrary.org/obo/UBERON_0001013</td>\n",
       "    </tr>\n",
       "    <tr>\n",
       "      <th>1</th>\n",
       "      <td>adipose tissue</td>\n",
       "      <td>http://purl.obolibrary.org/obo/UBERON_0001013</td>\n",
       "    </tr>\n",
       "    <tr>\n",
       "      <th>2</th>\n",
       "      <td>adipocytes</td>\n",
       "      <td>http://purl.obolibrary.org/obo/UBERON_0001013</td>\n",
       "    </tr>\n",
       "    <tr>\n",
       "      <th>3</th>\n",
       "      <td>adipose tissue</td>\n",
       "      <td>http://purl.obolibrary.org/obo/CL_0001070</td>\n",
       "    </tr>\n",
       "    <tr>\n",
       "      <th>4</th>\n",
       "      <td>adipocytes</td>\n",
       "      <td>http://purl.obolibrary.org/obo/CL_0001070</td>\n",
       "    </tr>\n",
       "    <tr>\n",
       "      <th>5</th>\n",
       "      <td>adrenal gland</td>\n",
       "      <td>http://purl.obolibrary.org/obo/UBERON_0002369</td>\n",
       "    </tr>\n",
       "    <tr>\n",
       "      <th>6</th>\n",
       "      <td>adrenal gland</td>\n",
       "      <td>http://purl.obolibrary.org/obo/UBERON_0002054</td>\n",
       "    </tr>\n",
       "    <tr>\n",
       "      <th>7</th>\n",
       "      <td>cells in zona fasciculata</td>\n",
       "      <td>http://purl.obolibrary.org/obo/UBERON_0002054</td>\n",
       "    </tr>\n",
       "    <tr>\n",
       "      <th>8</th>\n",
       "      <td>adrenal gland</td>\n",
       "      <td>http://purl.obolibrary.org/obo/CL_0002136</td>\n",
       "    </tr>\n",
       "    <tr>\n",
       "      <th>9</th>\n",
       "      <td>cells in zona fasciculata</td>\n",
       "      <td>http://purl.obolibrary.org/obo/CL_0002136</td>\n",
       "    </tr>\n",
       "  </tbody>\n",
       "</table>\n",
       "</div>"
      ],
      "text/plain": [
       "                           0                                              1\n",
       "0             adipose tissue  http://purl.obolibrary.org/obo/UBERON_0001013\n",
       "1             adipose tissue  http://purl.obolibrary.org/obo/UBERON_0001013\n",
       "2                 adipocytes  http://purl.obolibrary.org/obo/UBERON_0001013\n",
       "3             adipose tissue      http://purl.obolibrary.org/obo/CL_0001070\n",
       "4                 adipocytes      http://purl.obolibrary.org/obo/CL_0001070\n",
       "5              adrenal gland  http://purl.obolibrary.org/obo/UBERON_0002369\n",
       "6              adrenal gland  http://purl.obolibrary.org/obo/UBERON_0002054\n",
       "7  cells in zona fasciculata  http://purl.obolibrary.org/obo/UBERON_0002054\n",
       "8              adrenal gland      http://purl.obolibrary.org/obo/CL_0002136\n",
       "9  cells in zona fasciculata      http://purl.obolibrary.org/obo/CL_0002136"
      ]
     },
     "execution_count": 485,
     "metadata": {},
     "output_type": "execute_result"
    }
   ],
   "source": [
    "data.head(n=10)"
   ]
  },
  {
   "cell_type": "markdown",
   "metadata": {},
   "source": [
    "<br>\n",
    "\n",
    "***\n",
    "***\n",
    "\n",
    "### Disease and Phenotype Identifiers <a class=\"anchor\" id=\"disease-identifiers\"></a>\n",
    "\n",
    "**Wiki Page:** [mapping-disease-phenotype-identifiers](https://github.com/callahantiff/PheKnowLator/wiki/v2-Data-Sources/#mapping-disease-identifiers)  \n",
    "\n",
    "**Purpose:** This script downloads the [disease_mappings.tsv](https://www.disgenet.org/static/disgenet_ap1/files/downloads/disease_mappings.tsv.gz) file from [DisGeNET](https://www.disgenet.org) and saves it to the `./resources/processed_data/unprocessed_data/` directory.\n"
   ]
  },
  {
   "cell_type": "code",
   "execution_count": 486,
   "metadata": {},
   "outputs": [
    {
     "name": "stdout",
     "output_type": "stream",
     "text": [
      "Downloading gzipped data file\n"
     ]
    }
   ],
   "source": [
    "# download data\n",
    "url = 'https://www.disgenet.org/static/disgenet_ap1/files/downloads/disease_mappings.tsv.gz'\n",
    "data_downloader(url)"
   ]
  },
  {
   "cell_type": "code",
   "execution_count": 487,
   "metadata": {},
   "outputs": [],
   "source": [
    "data = pandas.read_csv(unprocessed_data_location + 'disease_mappings.tsv',\n",
    "                       header = 0,\n",
    "                       delimiter = '|')\n",
    "\n",
    "# convert to dictionary\n",
    "disease_dict = {}\n",
    "\n",
    "for idx, row in data.iterrows():\n",
    "    \n",
    "    if row['diseaseId'] in disease_dict.keys():\n",
    "        if row['vocabulary'] == 'DO':\n",
    "            disease_dict[row['diseaseId']].append('DOID_' + row['code']) \n",
    "        \n",
    "        if row['vocabulary'] == 'HPO':\n",
    "            disease_dict[row['diseaseId']].append(row['code'].replace('HP:', 'HP_')) \n",
    "    \n",
    "    else:\n",
    "        if row['vocabulary'] == 'DO':\n",
    "            disease_dict[row['diseaseId']] = ['DOID_' + row['code']] \n",
    "        \n",
    "        if row['vocabulary'] == 'HPO':\n",
    "            disease_dict[row['diseaseId']] = [row['code'].replace('HP:', 'HP_')] "
   ]
  },
  {
   "cell_type": "code",
   "execution_count": 488,
   "metadata": {},
   "outputs": [],
   "source": [
    "# reformat data and write it out\n",
    "with open(processed_data_location + 'DISEASE_DOID_MAP.txt', 'w') as outfile1, open('../../resources/processed_data/PHENOTYPE_HPO_MAP.txt', 'w') as outfile2:\n",
    "    \n",
    "    for key, value in disease_dict.items():\n",
    "        for i in value:\n",
    "            # get diseases\n",
    "            if i.startswith('DOID_'): \n",
    "                outfile1.write(key + '\\t' + i + '\\n')\n",
    "\n",
    "            # get phenotypes\n",
    "            if i.startswith('HP_'): \n",
    "                outfile2.write(key + '\\t' + i + '\\n')\n",
    "\n",
    "outfile1.close()\n",
    "outfile2.close()"
   ]
  },
  {
   "cell_type": "code",
   "execution_count": 489,
   "metadata": {},
   "outputs": [
    {
     "name": "stdout",
     "output_type": "stream",
     "text": [
      "There are 15675 disease-DOID edges\n"
     ]
    }
   ],
   "source": [
    "# preview cofactor data\n",
    "data = pandas.read_csv(processed_data_location + 'DISEASE_DOID_MAP.txt',\n",
    "                       header = None,\n",
    "                       delimiter = '\\t')\n",
    "\n",
    "print('There are {} disease-DOID edges'.format(len(data)))"
   ]
  },
  {
   "cell_type": "code",
   "execution_count": 490,
   "metadata": {},
   "outputs": [
    {
     "data": {
      "text/html": [
       "<div>\n",
       "<style scoped>\n",
       "    .dataframe tbody tr th:only-of-type {\n",
       "        vertical-align: middle;\n",
       "    }\n",
       "\n",
       "    .dataframe tbody tr th {\n",
       "        vertical-align: top;\n",
       "    }\n",
       "\n",
       "    .dataframe thead th {\n",
       "        text-align: right;\n",
       "    }\n",
       "</style>\n",
       "<table border=\"1\" class=\"dataframe\">\n",
       "  <thead>\n",
       "    <tr style=\"text-align: right;\">\n",
       "      <th></th>\n",
       "      <th>0</th>\n",
       "      <th>1</th>\n",
       "    </tr>\n",
       "  </thead>\n",
       "  <tbody>\n",
       "    <tr>\n",
       "      <th>0</th>\n",
       "      <td>C0018923</td>\n",
       "      <td>DOID_0001816</td>\n",
       "    </tr>\n",
       "    <tr>\n",
       "      <th>1</th>\n",
       "      <td>C0854893</td>\n",
       "      <td>DOID_0001816</td>\n",
       "    </tr>\n",
       "    <tr>\n",
       "      <th>2</th>\n",
       "      <td>C0033999</td>\n",
       "      <td>DOID_0002116</td>\n",
       "    </tr>\n",
       "    <tr>\n",
       "      <th>3</th>\n",
       "      <td>C4520843</td>\n",
       "      <td>DOID_0002116</td>\n",
       "    </tr>\n",
       "    <tr>\n",
       "      <th>4</th>\n",
       "      <td>C0024814</td>\n",
       "      <td>DOID_0014667</td>\n",
       "    </tr>\n",
       "    <tr>\n",
       "      <th>5</th>\n",
       "      <td>C0024814</td>\n",
       "      <td>DOID_0080195</td>\n",
       "    </tr>\n",
       "    <tr>\n",
       "      <th>6</th>\n",
       "      <td>C0024814</td>\n",
       "      <td>DOID_9277</td>\n",
       "    </tr>\n",
       "    <tr>\n",
       "      <th>7</th>\n",
       "      <td>C0025517</td>\n",
       "      <td>DOID_0014667</td>\n",
       "    </tr>\n",
       "    <tr>\n",
       "      <th>8</th>\n",
       "      <td>C0024291</td>\n",
       "      <td>DOID_0050120</td>\n",
       "    </tr>\n",
       "    <tr>\n",
       "      <th>9</th>\n",
       "      <td>C0272199</td>\n",
       "      <td>DOID_0050120</td>\n",
       "    </tr>\n",
       "  </tbody>\n",
       "</table>\n",
       "</div>"
      ],
      "text/plain": [
       "          0             1\n",
       "0  C0018923  DOID_0001816\n",
       "1  C0854893  DOID_0001816\n",
       "2  C0033999  DOID_0002116\n",
       "3  C4520843  DOID_0002116\n",
       "4  C0024814  DOID_0014667\n",
       "5  C0024814  DOID_0080195\n",
       "6  C0024814     DOID_9277\n",
       "7  C0025517  DOID_0014667\n",
       "8  C0024291  DOID_0050120\n",
       "9  C0272199  DOID_0050120"
      ]
     },
     "execution_count": 490,
     "metadata": {},
     "output_type": "execute_result"
    }
   ],
   "source": [
    "data.head(n=10)"
   ]
  },
  {
   "cell_type": "code",
   "execution_count": 491,
   "metadata": {},
   "outputs": [
    {
     "name": "stdout",
     "output_type": "stream",
     "text": [
      "There are 8289 phenotype-HPO edges\n"
     ]
    }
   ],
   "source": [
    "# preview catalyst data\n",
    "data = pandas.read_csv(processed_data_location + 'PHENOTYPE_HPO_MAP.txt',\n",
    "                       header = None,\n",
    "                       delimiter = '\\t')\n",
    "\n",
    "print('There are {} phenotype-HPO edges'.format(len(data)))"
   ]
  },
  {
   "cell_type": "code",
   "execution_count": 492,
   "metadata": {},
   "outputs": [
    {
     "data": {
      "text/html": [
       "<div>\n",
       "<style scoped>\n",
       "    .dataframe tbody tr th:only-of-type {\n",
       "        vertical-align: middle;\n",
       "    }\n",
       "\n",
       "    .dataframe tbody tr th {\n",
       "        vertical-align: top;\n",
       "    }\n",
       "\n",
       "    .dataframe thead th {\n",
       "        text-align: right;\n",
       "    }\n",
       "</style>\n",
       "<table border=\"1\" class=\"dataframe\">\n",
       "  <thead>\n",
       "    <tr style=\"text-align: right;\">\n",
       "      <th></th>\n",
       "      <th>0</th>\n",
       "      <th>1</th>\n",
       "    </tr>\n",
       "  </thead>\n",
       "  <tbody>\n",
       "    <tr>\n",
       "      <th>0</th>\n",
       "      <td>C0018923</td>\n",
       "      <td>HP_0200058</td>\n",
       "    </tr>\n",
       "    <tr>\n",
       "      <th>1</th>\n",
       "      <td>C0033999</td>\n",
       "      <td>HP_0001059</td>\n",
       "    </tr>\n",
       "    <tr>\n",
       "      <th>2</th>\n",
       "      <td>C4520843</td>\n",
       "      <td>HP_0001059</td>\n",
       "    </tr>\n",
       "    <tr>\n",
       "      <th>3</th>\n",
       "      <td>C0037199</td>\n",
       "      <td>HP_0000246</td>\n",
       "    </tr>\n",
       "    <tr>\n",
       "      <th>4</th>\n",
       "      <td>C0008780</td>\n",
       "      <td>HP_0012265</td>\n",
       "    </tr>\n",
       "    <tr>\n",
       "      <th>5</th>\n",
       "      <td>C0032290</td>\n",
       "      <td>HP_0011951</td>\n",
       "    </tr>\n",
       "    <tr>\n",
       "      <th>6</th>\n",
       "      <td>C0242770</td>\n",
       "      <td>HP_0011945</td>\n",
       "    </tr>\n",
       "    <tr>\n",
       "      <th>7</th>\n",
       "      <td>C0238378</td>\n",
       "      <td>HP_0005942</td>\n",
       "    </tr>\n",
       "    <tr>\n",
       "      <th>8</th>\n",
       "      <td>C0030469</td>\n",
       "      <td>HP_0000246</td>\n",
       "    </tr>\n",
       "    <tr>\n",
       "      <th>9</th>\n",
       "      <td>C0151516</td>\n",
       "      <td>HP_0005990</td>\n",
       "    </tr>\n",
       "  </tbody>\n",
       "</table>\n",
       "</div>"
      ],
      "text/plain": [
       "          0           1\n",
       "0  C0018923  HP_0200058\n",
       "1  C0033999  HP_0001059\n",
       "2  C4520843  HP_0001059\n",
       "3  C0037199  HP_0000246\n",
       "4  C0008780  HP_0012265\n",
       "5  C0032290  HP_0011951\n",
       "6  C0242770  HP_0011945\n",
       "7  C0238378  HP_0005942\n",
       "8  C0030469  HP_0000246\n",
       "9  C0151516  HP_0005990"
      ]
     },
     "execution_count": 492,
     "metadata": {},
     "output_type": "execute_result"
    }
   ],
   "source": [
    "data.head(n=10)"
   ]
  },
  {
   "cell_type": "markdown",
   "metadata": {},
   "source": [
    "***\n",
    "***\n",
    "\n",
    "### PROCESS EDGE DATA: ONTOLOGIES\n"
   ]
  },
  {
   "cell_type": "markdown",
   "metadata": {},
   "source": [
    "### Protein Ontology <a class=\"anchor\" id=\"protein-ontology\"></a>\n",
    "\n",
    "**Wiki Page:** [PRO](https://github.com/callahantiff/PheKnowLator/wiki/v2-Data-Sources#human-phenotype-ontology)  \n",
    "\n",
    "**Purpose:** This script downloads the [pr.owl](http://purl.obolibrary.org/obo/pr.owl) file from [ProConsortium.org](https://proconsortium.org/) and saves it to the `./resources/processed_data/unprocessed_data/` directory. The file is then read back in and filtered to contain only human proteins by performing forward and reverse breadth first search over all proteins which are `owl:subClassOf` [Homo sapiens protein](https://proconsortium.org/app/entry/PR%3A000029067/).\n"
   ]
  },
  {
   "cell_type": "code",
   "execution_count": 11,
   "metadata": {},
   "outputs": [
    {
     "name": "stdout",
     "output_type": "stream",
     "text": [
      "Downloading data file\n"
     ]
    }
   ],
   "source": [
    "# download data\n",
    "url = 'http://purl.obolibrary.org/obo/pr.owl'\n",
    "data_downloader(url)"
   ]
  },
  {
   "cell_type": "code",
   "execution_count": 12,
   "metadata": {},
   "outputs": [
    {
     "name": "stdout",
     "output_type": "stream",
     "text": [
      "There are 11757623 edges in the ontology\n"
     ]
    }
   ],
   "source": [
    "# read in ontology as graph (the ontology is large so this takes ~60 minutes)\n",
    "graph = Graph()\n",
    "graph.parse(unprocessed_data_location + 'pr.owl')\n",
    "\n",
    "print('There are {} edges in the ontology'.format(len(graph))) #11757623 edges on 12/12/2019\n"
   ]
  },
  {
   "cell_type": "markdown",
   "metadata": {},
   "source": [
    "**Filter Ontology:**  \n",
    "The first step is to remove specific properties we know will cause errors when running breadth first search. All edges containing the following properties are removed:  \n",
    "\n",
    "**`http://purl.obolibrary.org/obo/pr#lacks_part`**  \n",
    ">The meaning of C lacks-part D is that all instances of C have no instance of D as part (C subClassOf: not (has-part some D)). [Ontology definition](https://www.ebi.ac.uk/ols/ontologies/pr/properties?iri=http%3A%2F%2Fpurl.obolibrary.org%2Fobo%2Fpr%23lacks_part); [PMID:20807438](https://www.ncbi.nlm.nih.gov/pmc/articles/PMC2942855/)\n",
    "\n",
    "<br>\n",
    "\n",
    "**`http://www.w3.org/2002/07/owl#disjointWith`**\n",
    ">The disjointness of a set of classes can be expressed using the owl:disjointWith constructor. It guarantees that an individual that is a member of one class cannot simultaneously be an instance of a specified other class. [W3C Definition](https://www.w3.org/TR/owl-guide/)\n",
    "\n",
    "<br>\n",
    "\n",
    "**`http://purl.obolibrary.org/obo/pr#1to1_ortholog_of`**\n",
    ">If a and b are genes, a 1to1_ortholog_of b iff neither a nor b was duplicated after the speciation event that created them. If a and b are proteins, then a 1to1_ortholog_of b iff a has_gene_template some gene A and b has_gene_template some gene B and A 1to1_ortholog_of B. [Ontology Definition](https://www.ebi.ac.uk/ols/search?q=1to1_ortholog_of)\n",
    "\n",
    "\n",
    "There is good evidence from the literature to support the removal of `lacks_part` and `owl#disjointWith` edges. For more information, see the following articles: [PMID:20807438](https://www.ncbi.nlm.nih.gov/pmc/articles/PMC2942855/), [PMID:17925014](https://www.ncbi.nlm.nih.gov/pubmed/17925014/), [PMID:17108603](https://www.ncbi.nlm.nih.gov/pubmed/17108603/)."
   ]
  },
  {
   "cell_type": "code",
   "execution_count": 13,
   "metadata": {},
   "outputs": [
    {
     "name": "stdout",
     "output_type": "stream",
     "text": [
      "There are 11745277 edges after removing axioms containing \"lacks_part\", \"disjointWith\", and \"1to1_ortholog_of\"\n"
     ]
    }
   ],
   "source": [
    "# remove edges that contain certain properties (removed 12346 edges on 12/12/2019)\n",
    "\n",
    "# lacks_part\n",
    "graph.remove((None, None, URIRef(str(Namespace('http://purl.obolibrary.org/obo/pr#')) + 'lacks_part')))\n",
    "graph.remove((None, URIRef(str(Namespace('http://purl.obolibrary.org/obo/pr#')) + 'lacks_part'), None))\n",
    "graph.remove((URIRef(str(Namespace('http://purl.obolibrary.org/obo/pr#')) + 'lacks_part'), None, None))\n",
    "\n",
    "# lacks_part\n",
    "graph.remove((None, None, URIRef(str(Namespace('http://www.w3.org/2002/07/owl#')) + 'disjointWith')))\n",
    "graph.remove((None, URIRef(str(Namespace('http://www.w3.org/2002/07/owl#')) + 'disjointWith'), None))\n",
    "graph.remove((URIRef(str(Namespace('http://www.w3.org/2002/07/owl#')) + 'disjointWith'), None, None))\n",
    "\n",
    "# 1to1_ortholog_of\n",
    "graph.remove((None, None, URIRef(str(Namespace('http://purl.obolibrary.org/obo/pr#')) + '1to1_ortholog_of')))\n",
    "graph.remove((None, URIRef(str(Namespace('http://purl.obolibrary.org/obo/pr#')) + '1to1_ortholog_of'), None))\n",
    "graph.remove((URIRef(str(Namespace('http://purl.obolibrary.org/obo/pr#')) + '1to1_ortholog_of'), None, None))\n",
    "\n",
    "print('There are {edge_count} edges after removing axioms containing \"lacks_part\", \"disjointWith\", and \"1to1_ortholog_of\"'.format(edge_count=len(graph)))\n"
   ]
  },
  {
   "cell_type": "markdown",
   "metadata": {},
   "source": [
    "**Query Ontology:**   \n",
    "A list of human proteins is obtained by querying the ontology to return all proteins that are `OWL:subClassOf` the [Homo sapiens protein](https://proconsortium.org/app/entry/PR%3A000029067/) class. \n"
   ]
  },
  {
   "cell_type": "code",
   "execution_count": 14,
   "metadata": {},
   "outputs": [],
   "source": [
    "# query graph for all human proteins (19,732 human proteins on 12/12/2019)\n",
    "results = graph.query(\n",
    "    \"\"\"SELECT DISTINCT ?c\n",
    "       WHERE {\n",
    "          ?c rdf:type owl:Class .\n",
    "          ?c rdfs:subClassOf obo:PR_000029067.}\n",
    "       \"\"\", initNs={'rdf': 'http://www.w3.org/1999/02/22-rdf-syntax-ns#',\n",
    "                    'rdfs': 'http://www.w3.org/2000/01/rdf-schema#',\n",
    "                    'owl': 'http://www.w3.org/2002/07/owl#',\n",
    "                    'obo': 'http://purl.obolibrary.org/obo/'})\n"
   ]
  },
  {
   "cell_type": "code",
   "execution_count": 15,
   "metadata": {},
   "outputs": [
    {
     "name": "stdout",
     "output_type": "stream",
     "text": [
      "There are 19732 human proteins in the ontology\n"
     ]
    }
   ],
   "source": [
    "print('There are {protein_count} human proteins in the ontology'.format(protein_count=len(results)))"
   ]
  },
  {
   "cell_type": "markdown",
   "metadata": {},
   "source": [
    "**Convert Ontology to Directed MulitGraph:**  \n",
    "In order to create a verison of the ontology which includes all relevant human edges, we need to first convert the KG to a [directed multigraph](https://networkx.github.io/documentation/stable/reference/classes/multidigraph.html). Once converted, we can obtain all the relevant edges of the ontogoloy by running breadth first search over each of the human proteins obtained from the prior step."
   ]
  },
  {
   "cell_type": "code",
   "execution_count": 16,
   "metadata": {},
   "outputs": [],
   "source": [
    "# convert RDF grpah to multidigraph (the ontology is large so this takes ~6xx minutes; start: 14:07:20)\n",
    "mdg = rdflib_to_networkx_multidigraph(graph)"
   ]
  },
  {
   "cell_type": "code",
   "execution_count": 19,
   "metadata": {},
   "outputs": [
    {
     "name": "stderr",
     "output_type": "stream",
     "text": [
      "100%|██████████| 19732/19732 [09:40<00:00, 33.98it/s]  \n"
     ]
    }
   ],
   "source": [
    "# store paths\n",
    "bfs_paths = []\n",
    "\n",
    "for node in tqdm(list(results)):\n",
    "    \n",
    "    forward = list(nx.edge_bfs(mdg, node, orientation='original'))\n",
    "    reverse = list(nx.edge_bfs(mdg, node, orientation='reverse'))\n",
    "    \n",
    "    bfs_paths.append(forward + reverse)"
   ]
  },
  {
   "cell_type": "code",
   "execution_count": 21,
   "metadata": {},
   "outputs": [
    {
     "name": "stdout",
     "output_type": "stream",
     "text": [
      "There are 6263797 human edges\n"
     ]
    }
   ],
   "source": [
    "# unnest paths from lists of edges to a single edge list\n",
    "bfs_edges = [x for y in bfs_paths for x in y]\n",
    "\n",
    "print('There are {edge_count} human edges'.format(edge_count=len(bfs_edges)))\n",
    "      "
   ]
  },
  {
   "cell_type": "markdown",
   "metadata": {},
   "source": [
    "**Construct Human PRO:**   \n",
    "Now that we have all of the paths from the original graph that are relevant to humans, we can construct a new graph."
   ]
  },
  {
   "cell_type": "code",
   "execution_count": 35,
   "metadata": {},
   "outputs": [
    {
     "name": "stderr",
     "output_type": "stream",
     "text": [
      "100%|██████████| 6263797/6263797 [02:58<00:00, 35080.84it/s]\n"
     ]
    }
   ],
   "source": [
    "# create a new graph using bfs paths\n",
    "human_pro_graph = Graph()\n",
    "\n",
    "# add edges from path\n",
    "for path in tqdm(bfs_edges):\n",
    "    \n",
    "    if path[3] == 'forward':\n",
    "        human_pro_graph.add((path[0], path[2], path[1]))\n",
    "    \n",
    "    # adding reverse path graph edges in the correct order     \n",
    "    else:\n",
    "        human_pro_graph.add((path[1], path[2], path[0]))"
   ]
  },
  {
   "cell_type": "code",
   "execution_count": 37,
   "metadata": {},
   "outputs": [
    {
     "name": "stdout",
     "output_type": "stream",
     "text": [
      "\n",
      " Human PRO contains 851909 nodes and 1394498 edges\n",
      "\n"
     ]
    }
   ],
   "source": [
    "# get node and edge count\n",
    "edge_count = len(human_pro_graph)\n",
    "node_count = len(set([str(node) for edge in list(human_pro_graph) for node in edge[0::2]]))\n",
    "print('\\n Human PRO contains {node} nodes and {edge} edges\\n'.format(node=node_count, edge=edge_count))\n",
    "\n",
    "# serialize graph\n",
    "human_pro_graph.serialize(destination=processed_data_location + 'human_pro.owl', format='xml')"
   ]
  },
  {
   "cell_type": "code",
   "execution_count": 41,
   "metadata": {},
   "outputs": [
    {
     "data": {
      "text/plain": [
       "1"
      ]
     },
     "execution_count": 41,
     "metadata": {},
     "output_type": "execute_result"
    }
   ],
   "source": [
    "# convert back to graph and count connected components\n",
    "mdg2 = rdflib_to_networkx_multidigraph(human_pro_graph)\n",
    "nx.number_connected_components(mdg2.to_undirected())"
   ]
  },
  {
   "cell_type": "markdown",
   "metadata": {},
   "source": [
    "***\n",
    "***\n",
    "\n",
    "### PROCESS EDGE DATA: LINKED DATA\n"
   ]
  },
  {
   "cell_type": "markdown",
   "metadata": {},
   "source": [
    "### Reactome: Protein-Complex Data <a class=\"anchor\" id=\"reactome-protein-complex\"></a>\n",
    "\n",
    "**Wiki Page:** [Reactome](https://github.com/callahantiff/PheKnowLator/wiki/v2-Data-Sources/#reactome-pathway-database)  \n",
    "\n",
    "**Purpose:** This script downloads the [ComplexParticipantsPubMedIdentifiers_human.txt](https://reactome.org/download/current/ComplexParticipantsPubMedIdentifiers_human.txt) file from [Reactome](https://reactome.org) and saves it to the `./resources/processed_data/unprocessed_data/` directory.\n"
   ]
  },
  {
   "cell_type": "code",
   "execution_count": 218,
   "metadata": {},
   "outputs": [
    {
     "name": "stdout",
     "output_type": "stream",
     "text": [
      "Downloading data file\n"
     ]
    }
   ],
   "source": [
    "# download data\n",
    "url = 'https://reactome.org/download/current/ComplexParticipantsPubMedIdentifiers_human.txt'\n",
    "data_downloader(url)"
   ]
  },
  {
   "cell_type": "code",
   "execution_count": 24,
   "metadata": {},
   "outputs": [],
   "source": [
    "data = open(unprocessed_data_location + 'ComplexParticipantsPubMedIdentifiers_human.txt').readlines()\n",
    "\n",
    "# reformat data and write it out\n",
    "with open(processed_data_location + 'REACTOME_PROTEIN_COMPLEX.txt', 'w') as outfile:\n",
    "    for line in data:\n",
    "        row = line.split('\\t')\n",
    "        \n",
    "        # find all proteins in a complex\n",
    "        for x in row[2].split('|'):\n",
    "            if x.startswith('uniprot:'):            \n",
    "                outfile.write(row[0].strip() + '\\t' + x.split(':')[-1].strip() + '\\n')\n",
    "\n",
    "outfile.close()"
   ]
  },
  {
   "cell_type": "code",
   "execution_count": 25,
   "metadata": {},
   "outputs": [
    {
     "name": "stdout",
     "output_type": "stream",
     "text": [
      "There are 91985 protein-complex edges\n"
     ]
    }
   ],
   "source": [
    "# preview data\n",
    "data = pandas.read_csv(processed_data_location + 'REACTOME_PROTEIN_COMPLEX.txt',\n",
    "                       header = None,\n",
    "                       delimiter = '\\t')\n",
    "\n",
    "print('There are {edge_count} protein-complex edges'.format(edge_count=len(data)))"
   ]
  },
  {
   "cell_type": "code",
   "execution_count": 26,
   "metadata": {},
   "outputs": [
    {
     "data": {
      "text/html": [
       "<div>\n",
       "<style scoped>\n",
       "    .dataframe tbody tr th:only-of-type {\n",
       "        vertical-align: middle;\n",
       "    }\n",
       "\n",
       "    .dataframe tbody tr th {\n",
       "        vertical-align: top;\n",
       "    }\n",
       "\n",
       "    .dataframe thead th {\n",
       "        text-align: right;\n",
       "    }\n",
       "</style>\n",
       "<table border=\"1\" class=\"dataframe\">\n",
       "  <thead>\n",
       "    <tr style=\"text-align: right;\">\n",
       "      <th></th>\n",
       "      <th>0</th>\n",
       "      <th>1</th>\n",
       "    </tr>\n",
       "  </thead>\n",
       "  <tbody>\n",
       "    <tr>\n",
       "      <th>0</th>\n",
       "      <td>R-HSA-1006173</td>\n",
       "      <td>P08603</td>\n",
       "    </tr>\n",
       "    <tr>\n",
       "      <th>1</th>\n",
       "      <td>R-HSA-1008206</td>\n",
       "      <td>Q16621</td>\n",
       "    </tr>\n",
       "    <tr>\n",
       "      <th>2</th>\n",
       "      <td>R-HSA-1008206</td>\n",
       "      <td>Q9ULX9</td>\n",
       "    </tr>\n",
       "    <tr>\n",
       "      <th>3</th>\n",
       "      <td>R-HSA-1008206</td>\n",
       "      <td>O15525</td>\n",
       "    </tr>\n",
       "    <tr>\n",
       "      <th>4</th>\n",
       "      <td>R-HSA-1008206</td>\n",
       "      <td>O60675</td>\n",
       "    </tr>\n",
       "    <tr>\n",
       "      <th>5</th>\n",
       "      <td>R-HSA-1008229</td>\n",
       "      <td>Q16621</td>\n",
       "    </tr>\n",
       "    <tr>\n",
       "      <th>6</th>\n",
       "      <td>R-HSA-1008229</td>\n",
       "      <td>Q9ULX9</td>\n",
       "    </tr>\n",
       "    <tr>\n",
       "      <th>7</th>\n",
       "      <td>R-HSA-1008229</td>\n",
       "      <td>O15525</td>\n",
       "    </tr>\n",
       "    <tr>\n",
       "      <th>8</th>\n",
       "      <td>R-HSA-1008229</td>\n",
       "      <td>O60675</td>\n",
       "    </tr>\n",
       "    <tr>\n",
       "      <th>9</th>\n",
       "      <td>R-HSA-1008252</td>\n",
       "      <td>P10914</td>\n",
       "    </tr>\n",
       "  </tbody>\n",
       "</table>\n",
       "</div>"
      ],
      "text/plain": [
       "               0       1\n",
       "0  R-HSA-1006173  P08603\n",
       "1  R-HSA-1008206  Q16621\n",
       "2  R-HSA-1008206  Q9ULX9\n",
       "3  R-HSA-1008206  O15525\n",
       "4  R-HSA-1008206  O60675\n",
       "5  R-HSA-1008229  Q16621\n",
       "6  R-HSA-1008229  Q9ULX9\n",
       "7  R-HSA-1008229  O15525\n",
       "8  R-HSA-1008229  O60675\n",
       "9  R-HSA-1008252  P10914"
      ]
     },
     "execution_count": 26,
     "metadata": {},
     "output_type": "execute_result"
    }
   ],
   "source": [
    "data.head(n=10)"
   ]
  },
  {
   "cell_type": "markdown",
   "metadata": {},
   "source": [
    "### Reactome: Complex-Complex Data <a class=\"anchor\" id=\"reactome-complex-complex\"></a>\n",
    "\n",
    "**Wiki Page:** [Reactome](https://github.com/callahantiff/PheKnowLator/wiki/v2-Data-Sources/#reactome-pathway-database)  \n",
    "\n",
    "**Purpose:** This script downloads the [ComplexParticipantsPubMedIdentifiers_human.txt](https://reactome.org/download/current/ComplexParticipantsPubMedIdentifiers_human.txt) file from [Reactome](https://reactome.orgt) and saves it to the `./resources/processed_data/unprocessed_data/` directory.\n"
   ]
  },
  {
   "cell_type": "code",
   "execution_count": 222,
   "metadata": {},
   "outputs": [],
   "source": [
    "data = open(unprocessed_data_location + 'ComplexParticipantsPubMedIdentifiers_human.txt').readlines()\n",
    "\n",
    "# reformat data and write it out\n",
    "with open(processed_data_location + 'REACTOME_COMPLEX_COMPLEX.txt', 'w') as outfile:\n",
    "    for line in data:\n",
    "        row = line.split('\\t')\n",
    "        \n",
    "        # find all proteins in a complex\n",
    "        for x in row[3].split('|'):\n",
    "            if x.startswith('R-HSA-'):            \n",
    "                outfile.write(row[0].strip() + '\\t' + x.strip() + '\\n')\n",
    "\n",
    "outfile.close()"
   ]
  },
  {
   "cell_type": "code",
   "execution_count": 223,
   "metadata": {},
   "outputs": [
    {
     "name": "stdout",
     "output_type": "stream",
     "text": [
      "There are 13746 complex-complex edges\n"
     ]
    }
   ],
   "source": [
    "# preview data\n",
    "data = pandas.read_csv(processed_data_location + 'REACTOME_COMPLEX_COMPLEX.txt',\n",
    "                       header = None,\n",
    "                       delimiter = '\\t')\n",
    "\n",
    "print('There are {edge_count} complex-complex edges'.format(edge_count=len(data)))"
   ]
  },
  {
   "cell_type": "code",
   "execution_count": 224,
   "metadata": {},
   "outputs": [
    {
     "data": {
      "text/html": [
       "<div>\n",
       "<style scoped>\n",
       "    .dataframe tbody tr th:only-of-type {\n",
       "        vertical-align: middle;\n",
       "    }\n",
       "\n",
       "    .dataframe tbody tr th {\n",
       "        vertical-align: top;\n",
       "    }\n",
       "\n",
       "    .dataframe thead th {\n",
       "        text-align: right;\n",
       "    }\n",
       "</style>\n",
       "<table border=\"1\" class=\"dataframe\">\n",
       "  <thead>\n",
       "    <tr style=\"text-align: right;\">\n",
       "      <th></th>\n",
       "      <th>0</th>\n",
       "      <th>1</th>\n",
       "    </tr>\n",
       "  </thead>\n",
       "  <tbody>\n",
       "    <tr>\n",
       "      <th>0</th>\n",
       "      <td>R-HSA-1008206</td>\n",
       "      <td>R-HSA-1008229</td>\n",
       "    </tr>\n",
       "    <tr>\n",
       "      <th>1</th>\n",
       "      <td>R-HSA-1013011</td>\n",
       "      <td>R-HSA-1013017</td>\n",
       "    </tr>\n",
       "    <tr>\n",
       "      <th>2</th>\n",
       "      <td>R-HSA-1013011</td>\n",
       "      <td>R-HSA-1013019</td>\n",
       "    </tr>\n",
       "    <tr>\n",
       "      <th>3</th>\n",
       "      <td>R-HSA-1013011</td>\n",
       "      <td>R-HSA-420698</td>\n",
       "    </tr>\n",
       "    <tr>\n",
       "      <th>4</th>\n",
       "      <td>R-HSA-1013011</td>\n",
       "      <td>R-HSA-420748</td>\n",
       "    </tr>\n",
       "    <tr>\n",
       "      <th>5</th>\n",
       "      <td>R-HSA-1013017</td>\n",
       "      <td>R-HSA-1013019</td>\n",
       "    </tr>\n",
       "    <tr>\n",
       "      <th>6</th>\n",
       "      <td>R-HSA-1013017</td>\n",
       "      <td>R-HSA-420698</td>\n",
       "    </tr>\n",
       "    <tr>\n",
       "      <th>7</th>\n",
       "      <td>R-HSA-1013017</td>\n",
       "      <td>R-HSA-420748</td>\n",
       "    </tr>\n",
       "    <tr>\n",
       "      <th>8</th>\n",
       "      <td>R-HSA-1015697</td>\n",
       "      <td>R-HSA-913527</td>\n",
       "    </tr>\n",
       "    <tr>\n",
       "      <th>9</th>\n",
       "      <td>R-HSA-1015697</td>\n",
       "      <td>R-HSA-909693</td>\n",
       "    </tr>\n",
       "  </tbody>\n",
       "</table>\n",
       "</div>"
      ],
      "text/plain": [
       "               0              1\n",
       "0  R-HSA-1008206  R-HSA-1008229\n",
       "1  R-HSA-1013011  R-HSA-1013017\n",
       "2  R-HSA-1013011  R-HSA-1013019\n",
       "3  R-HSA-1013011   R-HSA-420698\n",
       "4  R-HSA-1013011   R-HSA-420748\n",
       "5  R-HSA-1013017  R-HSA-1013019\n",
       "6  R-HSA-1013017   R-HSA-420698\n",
       "7  R-HSA-1013017   R-HSA-420748\n",
       "8  R-HSA-1015697   R-HSA-913527\n",
       "9  R-HSA-1015697   R-HSA-909693"
      ]
     },
     "execution_count": 224,
     "metadata": {},
     "output_type": "execute_result"
    }
   ],
   "source": [
    "data.head(n=10)"
   ]
  },
  {
   "cell_type": "markdown",
   "metadata": {},
   "source": [
    "### Reactome: Chemical-Complex Data <a class=\"anchor\" id=\"reactome-chemical-complex\"></a>\n",
    "\n",
    "**Wiki Page:** [Reactome](https://github.com/callahantiff/PheKnowLator/wiki/v2-Data-Sources/#reactome-pathway-database)  \n",
    "\n",
    "**Purpose:** This script downloads the [ComplexParticipantsPubMedIdentifiers_human.txt](https://reactome.org/download/current/ComplexParticipantsPubMedIdentifiers_human.txt) file from [Reactome](https://reactome.orgt) and saves it to the `./resources/processed_data/unprocessed_data/` directory.\n"
   ]
  },
  {
   "cell_type": "code",
   "execution_count": 225,
   "metadata": {},
   "outputs": [],
   "source": [
    "data = open(unprocessed_data_location + 'ComplexParticipantsPubMedIdentifiers_human.txt').readlines()\n",
    "\n",
    "# reformat data and write it out\n",
    "with open(processed_data_location + 'REACTOME_CHEMICAL_COMPLEX.txt', 'w') as outfile:\n",
    "    for line in data:\n",
    "        row = line.split('\\t')\n",
    "        \n",
    "        # find all proteins in a complex\n",
    "        for x in row[2].split('|'):\n",
    "            if x.startswith('chebi:'):            \n",
    "                outfile.write(row[0].strip() + '\\t' + x.replace('chebi:', 'CHEBI_') + '\\n')\n",
    "\n",
    "outfile.close()"
   ]
  },
  {
   "cell_type": "code",
   "execution_count": 226,
   "metadata": {},
   "outputs": [
    {
     "name": "stdout",
     "output_type": "stream",
     "text": [
      "There are 5608 chemical-complex edges\n"
     ]
    }
   ],
   "source": [
    "# preview data\n",
    "data = pandas.read_csv(processed_data_location + 'REACTOME_CHEMICAL_COMPLEX.txt',\n",
    "                       header = None,\n",
    "                       delimiter = '\\t')\n",
    "\n",
    "print('There are {edge_count} chemical-complex edges'.format(edge_count=len(data)))"
   ]
  },
  {
   "cell_type": "code",
   "execution_count": 227,
   "metadata": {},
   "outputs": [
    {
     "data": {
      "text/html": [
       "<div>\n",
       "<style scoped>\n",
       "    .dataframe tbody tr th:only-of-type {\n",
       "        vertical-align: middle;\n",
       "    }\n",
       "\n",
       "    .dataframe tbody tr th {\n",
       "        vertical-align: top;\n",
       "    }\n",
       "\n",
       "    .dataframe thead th {\n",
       "        text-align: right;\n",
       "    }\n",
       "</style>\n",
       "<table border=\"1\" class=\"dataframe\">\n",
       "  <thead>\n",
       "    <tr style=\"text-align: right;\">\n",
       "      <th></th>\n",
       "      <th>0</th>\n",
       "      <th>1</th>\n",
       "    </tr>\n",
       "  </thead>\n",
       "  <tbody>\n",
       "    <tr>\n",
       "      <th>0</th>\n",
       "      <td>R-HSA-1006173</td>\n",
       "      <td>CHEBI_24505</td>\n",
       "    </tr>\n",
       "    <tr>\n",
       "      <th>1</th>\n",
       "      <td>R-HSA-1006173</td>\n",
       "      <td>CHEBI_28879</td>\n",
       "    </tr>\n",
       "    <tr>\n",
       "      <th>2</th>\n",
       "      <td>R-HSA-1013011</td>\n",
       "      <td>CHEBI_59888</td>\n",
       "    </tr>\n",
       "    <tr>\n",
       "      <th>3</th>\n",
       "      <td>R-HSA-1013017</td>\n",
       "      <td>CHEBI_59888</td>\n",
       "    </tr>\n",
       "    <tr>\n",
       "      <th>4</th>\n",
       "      <td>R-HSA-109266</td>\n",
       "      <td>CHEBI_29105</td>\n",
       "    </tr>\n",
       "    <tr>\n",
       "      <th>5</th>\n",
       "      <td>R-HSA-109318</td>\n",
       "      <td>CHEBI_18420</td>\n",
       "    </tr>\n",
       "    <tr>\n",
       "      <th>6</th>\n",
       "      <td>R-HSA-109363</td>\n",
       "      <td>CHEBI_18420</td>\n",
       "    </tr>\n",
       "    <tr>\n",
       "      <th>7</th>\n",
       "      <td>R-HSA-109433</td>\n",
       "      <td>CHEBI_18420</td>\n",
       "    </tr>\n",
       "    <tr>\n",
       "      <th>8</th>\n",
       "      <td>R-HSA-109468</td>\n",
       "      <td>CHEBI_18420</td>\n",
       "    </tr>\n",
       "    <tr>\n",
       "      <th>9</th>\n",
       "      <td>R-HSA-109497</td>\n",
       "      <td>CHEBI_18420</td>\n",
       "    </tr>\n",
       "  </tbody>\n",
       "</table>\n",
       "</div>"
      ],
      "text/plain": [
       "               0            1\n",
       "0  R-HSA-1006173  CHEBI_24505\n",
       "1  R-HSA-1006173  CHEBI_28879\n",
       "2  R-HSA-1013011  CHEBI_59888\n",
       "3  R-HSA-1013017  CHEBI_59888\n",
       "4   R-HSA-109266  CHEBI_29105\n",
       "5   R-HSA-109318  CHEBI_18420\n",
       "6   R-HSA-109363  CHEBI_18420\n",
       "7   R-HSA-109433  CHEBI_18420\n",
       "8   R-HSA-109468  CHEBI_18420\n",
       "9   R-HSA-109497  CHEBI_18420"
      ]
     },
     "execution_count": 227,
     "metadata": {},
     "output_type": "execute_result"
    }
   ],
   "source": [
    "data.head(n=10)"
   ]
  },
  {
   "cell_type": "markdown",
   "metadata": {},
   "source": [
    "<br>\n",
    "\n",
    "***\n",
    "***\n",
    "\n",
    "### Uniprot:  Protein-Cofactor and Protein-Catalyst <a class=\"anchor\" id=\"uniprot-protein-cofactorcatalyst\"></a>\n",
    "\n",
    "**Wiki Page:** [Uniprot](https://github.com/callahantiff/PheKnowLator/wiki/v2-Data-Sources/#uniprot-knowledgebase)  \n",
    "\n",
    "**Purpose:** This script downloads the [uniprot-cofactor-catalyst.tab](https://github.com/callahantiff/PheKnowLator/wiki/v2-Data-Sources/#uniprot-knowledgebase) file from the [Uniprot Knowledge Base](https://www.uniprot.org) and saves it to the `./resources/processed_data/unprocessed_data/` directory.\n"
   ]
  },
  {
   "cell_type": "code",
   "execution_count": 259,
   "metadata": {},
   "outputs": [
    {
     "name": "stdout",
     "output_type": "stream",
     "text": [
      "Downloading data file\n"
     ]
    }
   ],
   "source": [
    "# download data\n",
    "url = 'https://www.uniprot.org/uniprot/?query=&fil=organism%3A%22Homo%20sapiens%20(Human)%20%5B9606%5D%22&columns=id%2Centry%20name%2Creviewed%2Cgenes%2Cchebi(Cofactor)%2Cchebi(Catalytic%20activity)%2Cprotein%20names&format=tab'\n",
    "data_downloader(url, 'uniprot-cofactor-catalyst.tab')\n"
   ]
  },
  {
   "cell_type": "code",
   "execution_count": 264,
   "metadata": {},
   "outputs": [],
   "source": [
    "data = open(unprocessed_data_location + 'uniprot-cofactor-catalyst.tab').readlines()\n",
    "\n",
    "# reformat data and write it out\n",
    "with open(processed_data_location + 'UNIPROT_PROTEIN_COFACTOR.txt', 'w') as outfile1, open(processed_data_location + 'UNIPROT_PROTEIN_CATALYST.txt', 'w') as outfile2:\n",
    "    for line in data:\n",
    "\n",
    "        # get cofactors\n",
    "        if 'CHEBI' in line.split('\\t')[4]: \n",
    "            for i in line.split('\\t')[4].split(';'):\n",
    "                chebi = i.split('[')[-1].replace(']', '').replace(':', '_')\n",
    "                outfile1.write(row[0].strip() + '\\t' + chebi + '\\n')\n",
    "        \n",
    "        # get catalysts\n",
    "        if 'CHEBI' in line.split('\\t')[5]:       \n",
    "            for i in line.split('\\t')[5].split(';'):\n",
    "                chebi = i.split('[')[-1].replace(']', '').replace(':', '_')\n",
    "                outfile2.write(row[0].strip() + '\\t' + chebi + '\\n')\n",
    "\n",
    "outfile1.close()\n",
    "outfile2.close()"
   ]
  },
  {
   "cell_type": "code",
   "execution_count": 265,
   "metadata": {},
   "outputs": [
    {
     "name": "stdout",
     "output_type": "stream",
     "text": [
      "There are 5541 protein-cofactor edges\n"
     ]
    }
   ],
   "source": [
    "# preview cofactor data\n",
    "data = pandas.read_csv(processed_data_location + 'UNIPROT_PROTEIN_COFACTOR.txt',\n",
    "                       header = None,\n",
    "                       delimiter = '\\t')\n",
    "\n",
    "print('There are {edge_count} protein-cofactor edges'.format(edge_count=len(data)))"
   ]
  },
  {
   "cell_type": "code",
   "execution_count": 266,
   "metadata": {},
   "outputs": [
    {
     "data": {
      "text/html": [
       "<div>\n",
       "<style scoped>\n",
       "    .dataframe tbody tr th:only-of-type {\n",
       "        vertical-align: middle;\n",
       "    }\n",
       "\n",
       "    .dataframe tbody tr th {\n",
       "        vertical-align: top;\n",
       "    }\n",
       "\n",
       "    .dataframe thead th {\n",
       "        text-align: right;\n",
       "    }\n",
       "</style>\n",
       "<table border=\"1\" class=\"dataframe\">\n",
       "  <thead>\n",
       "    <tr style=\"text-align: right;\">\n",
       "      <th></th>\n",
       "      <th>0</th>\n",
       "      <th>1</th>\n",
       "    </tr>\n",
       "  </thead>\n",
       "  <tbody>\n",
       "    <tr>\n",
       "      <th>0</th>\n",
       "      <td>R-NUL-997399</td>\n",
       "      <td>CHEBI_29105</td>\n",
       "    </tr>\n",
       "    <tr>\n",
       "      <th>1</th>\n",
       "      <td>R-NUL-997399</td>\n",
       "      <td>CHEBI_18420</td>\n",
       "    </tr>\n",
       "    <tr>\n",
       "      <th>2</th>\n",
       "      <td>R-NUL-997399</td>\n",
       "      <td>CHEBI_29035</td>\n",
       "    </tr>\n",
       "    <tr>\n",
       "      <th>3</th>\n",
       "      <td>R-NUL-997399</td>\n",
       "      <td>CHEBI_29105</td>\n",
       "    </tr>\n",
       "    <tr>\n",
       "      <th>4</th>\n",
       "      <td>R-NUL-997399</td>\n",
       "      <td>CHEBI_18420</td>\n",
       "    </tr>\n",
       "    <tr>\n",
       "      <th>5</th>\n",
       "      <td>R-NUL-997399</td>\n",
       "      <td>CHEBI_597326</td>\n",
       "    </tr>\n",
       "    <tr>\n",
       "      <th>6</th>\n",
       "      <td>R-NUL-997399</td>\n",
       "      <td>CHEBI_29105</td>\n",
       "    </tr>\n",
       "    <tr>\n",
       "      <th>7</th>\n",
       "      <td>R-NUL-997399</td>\n",
       "      <td>CHEBI_29103</td>\n",
       "    </tr>\n",
       "    <tr>\n",
       "      <th>8</th>\n",
       "      <td>R-NUL-997399</td>\n",
       "      <td>CHEBI_29035</td>\n",
       "    </tr>\n",
       "    <tr>\n",
       "      <th>9</th>\n",
       "      <td>R-NUL-997399</td>\n",
       "      <td>CHEBI_49883</td>\n",
       "    </tr>\n",
       "  </tbody>\n",
       "</table>\n",
       "</div>"
      ],
      "text/plain": [
       "              0             1\n",
       "0  R-NUL-997399   CHEBI_29105\n",
       "1  R-NUL-997399   CHEBI_18420\n",
       "2  R-NUL-997399   CHEBI_29035\n",
       "3  R-NUL-997399   CHEBI_29105\n",
       "4  R-NUL-997399   CHEBI_18420\n",
       "5  R-NUL-997399  CHEBI_597326\n",
       "6  R-NUL-997399   CHEBI_29105\n",
       "7  R-NUL-997399   CHEBI_29103\n",
       "8  R-NUL-997399   CHEBI_29035\n",
       "9  R-NUL-997399   CHEBI_49883"
      ]
     },
     "execution_count": 266,
     "metadata": {},
     "output_type": "execute_result"
    }
   ],
   "source": [
    "data.head(n=10)"
   ]
  },
  {
   "cell_type": "code",
   "execution_count": 267,
   "metadata": {},
   "outputs": [
    {
     "name": "stdout",
     "output_type": "stream",
     "text": [
      "There are 59645 protein-catalyst edges\n"
     ]
    }
   ],
   "source": [
    "# preview catalyst data\n",
    "data = pandas.read_csv(processed_data_location + 'UNIPROT_PROTEIN_CATALYST.txt',\n",
    "                       header = None,\n",
    "                       delimiter = '\\t')\n",
    "\n",
    "print('There are {edge_count} protein-catalyst edges'.format(edge_count=len(data)))"
   ]
  },
  {
   "cell_type": "code",
   "execution_count": 268,
   "metadata": {},
   "outputs": [
    {
     "data": {
      "text/html": [
       "<div>\n",
       "<style scoped>\n",
       "    .dataframe tbody tr th:only-of-type {\n",
       "        vertical-align: middle;\n",
       "    }\n",
       "\n",
       "    .dataframe tbody tr th {\n",
       "        vertical-align: top;\n",
       "    }\n",
       "\n",
       "    .dataframe thead th {\n",
       "        text-align: right;\n",
       "    }\n",
       "</style>\n",
       "<table border=\"1\" class=\"dataframe\">\n",
       "  <thead>\n",
       "    <tr style=\"text-align: right;\">\n",
       "      <th></th>\n",
       "      <th>0</th>\n",
       "      <th>1</th>\n",
       "    </tr>\n",
       "  </thead>\n",
       "  <tbody>\n",
       "    <tr>\n",
       "      <th>0</th>\n",
       "      <td>R-NUL-997399</td>\n",
       "      <td>CHEBI_15378</td>\n",
       "    </tr>\n",
       "    <tr>\n",
       "      <th>1</th>\n",
       "      <td>R-NUL-997399</td>\n",
       "      <td>CHEBI_43474</td>\n",
       "    </tr>\n",
       "    <tr>\n",
       "      <th>2</th>\n",
       "      <td>R-NUL-997399</td>\n",
       "      <td>CHEBI_58228</td>\n",
       "    </tr>\n",
       "    <tr>\n",
       "      <th>3</th>\n",
       "      <td>R-NUL-997399</td>\n",
       "      <td>CHEBI_30616</td>\n",
       "    </tr>\n",
       "    <tr>\n",
       "      <th>4</th>\n",
       "      <td>R-NUL-997399</td>\n",
       "      <td>CHEBI_17544</td>\n",
       "    </tr>\n",
       "    <tr>\n",
       "      <th>5</th>\n",
       "      <td>R-NUL-997399</td>\n",
       "      <td>CHEBI_28938</td>\n",
       "    </tr>\n",
       "    <tr>\n",
       "      <th>6</th>\n",
       "      <td>R-NUL-997399</td>\n",
       "      <td>CHEBI_456216</td>\n",
       "    </tr>\n",
       "    <tr>\n",
       "      <th>7</th>\n",
       "      <td>R-NUL-997399</td>\n",
       "      <td>CHEBI_15378</td>\n",
       "    </tr>\n",
       "    <tr>\n",
       "      <th>8</th>\n",
       "      <td>R-NUL-997399</td>\n",
       "      <td>CHEBI_30616</td>\n",
       "    </tr>\n",
       "    <tr>\n",
       "      <th>9</th>\n",
       "      <td>R-NUL-997399</td>\n",
       "      <td>CHEBI_61977</td>\n",
       "    </tr>\n",
       "  </tbody>\n",
       "</table>\n",
       "</div>"
      ],
      "text/plain": [
       "              0             1\n",
       "0  R-NUL-997399   CHEBI_15378\n",
       "1  R-NUL-997399   CHEBI_43474\n",
       "2  R-NUL-997399   CHEBI_58228\n",
       "3  R-NUL-997399   CHEBI_30616\n",
       "4  R-NUL-997399   CHEBI_17544\n",
       "5  R-NUL-997399   CHEBI_28938\n",
       "6  R-NUL-997399  CHEBI_456216\n",
       "7  R-NUL-997399   CHEBI_15378\n",
       "8  R-NUL-997399   CHEBI_30616\n",
       "9  R-NUL-997399   CHEBI_61977"
      ]
     },
     "execution_count": 268,
     "metadata": {},
     "output_type": "execute_result"
    }
   ],
   "source": [
    "data.head(n=10)"
   ]
  },
  {
   "cell_type": "markdown",
   "metadata": {},
   "source": [
    "<br>\n",
    "\n",
    "***\n",
    "***\n",
    "\n",
    "### Uniprot:  Protein-Coding Genes <a class=\"anchor\" id=\"uniprot-protein-coding-genes\"></a>\n",
    "\n",
    "**Wiki Page:** [Uniprot](https://github.com/callahantiff/PheKnowLator/wiki/v2-Data-Sources/_edit#uniprot-knowledgebase)  \n",
    "\n",
    "**Purpose:** This script downloads the [uniprot-protein-coding-genes.tab](https://github.com/callahantiff/PheKnowLator/wiki/v2-Data-Sources/#uniprot-knowledgebase) file from the [Uniprot Knowledge Base](https://www.uniprot.org) and saves it to the `./resources/processed_data/unprocessed_data/` directory.\n"
   ]
  },
  {
   "cell_type": "code",
   "execution_count": 260,
   "metadata": {},
   "outputs": [
    {
     "name": "stdout",
     "output_type": "stream",
     "text": [
      "Downloading data file\n"
     ]
    }
   ],
   "source": [
    "# download data\n",
    "url = 'https://www.uniprot.org/uniprot/?query=keyword%3A%22Complete%20proteome%20%5BKW-0181%5D%22&fil=organism%3A%22Homo%20sapiens%20(Human)%20%5B9606%5D%22%20AND%20proteome%3Aup000005640&columns=id%2Centry%20name%2Creviewed%2Cprotein%20names%2Cgenes%2Cproteome%2Cdatabase(GeneID)%2Cdatabase(Ensembl)&format=tab'\n",
    "data_downloader(url, 'uniprot-protein-coding-genes.tab')\n"
   ]
  },
  {
   "cell_type": "code",
   "execution_count": 261,
   "metadata": {},
   "outputs": [],
   "source": [
    "data = open(unprocessed_data_location + 'uniprot-protein-coding-genes.tab').readlines()\n",
    "\n",
    "# reformat data and write it out\n",
    "with open(processed_data_location + 'UNIPROT_PROTEIN_CODING_GENES.txt', 'w') as outfile:\n",
    "    for line in data[1:]:\n",
    "        for i in line.split('\\t')[6].split(';'):\n",
    "            if i != '':\n",
    "                outfile.write(line.split('\\t')[0].strip() + '\\t' + i.strip() + '\\n')\n",
    "\n",
    "outfile.close()"
   ]
  },
  {
   "cell_type": "code",
   "execution_count": 262,
   "metadata": {},
   "outputs": [
    {
     "name": "stdout",
     "output_type": "stream",
     "text": [
      "There are 23005 protein-coding gene edges\n"
     ]
    }
   ],
   "source": [
    "# preview data\n",
    "data = pandas.read_csv(processed_data_location + 'UNIPROT_PROTEIN_CODING_GENES.txt',\n",
    "                       header = None,\n",
    "                       delimiter = '\\t')\n",
    "\n",
    "\n",
    "print('There are {edge_count} protein-coding gene edges'.format(edge_count=len(data)))"
   ]
  },
  {
   "cell_type": "code",
   "execution_count": 263,
   "metadata": {},
   "outputs": [
    {
     "data": {
      "text/html": [
       "<div>\n",
       "<style scoped>\n",
       "    .dataframe tbody tr th:only-of-type {\n",
       "        vertical-align: middle;\n",
       "    }\n",
       "\n",
       "    .dataframe tbody tr th {\n",
       "        vertical-align: top;\n",
       "    }\n",
       "\n",
       "    .dataframe thead th {\n",
       "        text-align: right;\n",
       "    }\n",
       "</style>\n",
       "<table border=\"1\" class=\"dataframe\">\n",
       "  <thead>\n",
       "    <tr style=\"text-align: right;\">\n",
       "      <th></th>\n",
       "      <th>0</th>\n",
       "      <th>1</th>\n",
       "    </tr>\n",
       "  </thead>\n",
       "  <tbody>\n",
       "    <tr>\n",
       "      <th>0</th>\n",
       "      <td>Q96IY4</td>\n",
       "      <td>1361</td>\n",
       "    </tr>\n",
       "    <tr>\n",
       "      <th>1</th>\n",
       "      <td>P22362</td>\n",
       "      <td>6346</td>\n",
       "    </tr>\n",
       "    <tr>\n",
       "      <th>2</th>\n",
       "      <td>Q8NCR9</td>\n",
       "      <td>119467</td>\n",
       "    </tr>\n",
       "    <tr>\n",
       "      <th>3</th>\n",
       "      <td>Q8IUK8</td>\n",
       "      <td>147381</td>\n",
       "    </tr>\n",
       "    <tr>\n",
       "      <th>4</th>\n",
       "      <td>Q9BX69</td>\n",
       "      <td>84674</td>\n",
       "    </tr>\n",
       "    <tr>\n",
       "      <th>5</th>\n",
       "      <td>Q8N7E2</td>\n",
       "      <td>158506</td>\n",
       "    </tr>\n",
       "    <tr>\n",
       "      <th>6</th>\n",
       "      <td>Q8NEA5</td>\n",
       "      <td>147685</td>\n",
       "    </tr>\n",
       "    <tr>\n",
       "      <th>7</th>\n",
       "      <td>P31327</td>\n",
       "      <td>1373</td>\n",
       "    </tr>\n",
       "    <tr>\n",
       "      <th>8</th>\n",
       "      <td>Q3B7T3</td>\n",
       "      <td>146227</td>\n",
       "    </tr>\n",
       "    <tr>\n",
       "      <th>9</th>\n",
       "      <td>Q99933</td>\n",
       "      <td>573</td>\n",
       "    </tr>\n",
       "  </tbody>\n",
       "</table>\n",
       "</div>"
      ],
      "text/plain": [
       "        0       1\n",
       "0  Q96IY4    1361\n",
       "1  P22362    6346\n",
       "2  Q8NCR9  119467\n",
       "3  Q8IUK8  147381\n",
       "4  Q9BX69   84674\n",
       "5  Q8N7E2  158506\n",
       "6  Q8NEA5  147685\n",
       "7  P31327    1373\n",
       "8  Q3B7T3  146227\n",
       "9  Q99933     573"
      ]
     },
     "execution_count": 263,
     "metadata": {},
     "output_type": "execute_result"
    }
   ],
   "source": [
    "data.head(n=10)"
   ]
  }
 ],
 "metadata": {
  "kernelspec": {
   "display_name": "Python 3",
   "language": "python",
   "name": "python3"
  },
  "language_info": {
   "codemirror_mode": {
    "name": "ipython",
    "version": 3
   },
   "file_extension": ".py",
   "mimetype": "text/x-python",
   "name": "python",
   "nbconvert_exporter": "python",
   "pygments_lexer": "ipython3",
   "version": "3.6.2"
  },
  "latex_envs": {
   "LaTeX_envs_menu_present": true,
   "autoclose": false,
   "autocomplete": true,
   "bibliofile": "biblio.bib",
   "cite_by": "apalike",
   "current_citInitial": 1,
   "eqLabelWithNumbers": true,
   "eqNumInitial": 1,
   "hotkeys": {
    "equation": "Ctrl-E",
    "itemize": "Ctrl-I"
   },
   "labels_anchors": false,
   "latex_user_defs": false,
   "report_style_numbering": false,
   "user_envs_cfg": false
  }
 },
 "nbformat": 4,
 "nbformat_minor": 1
}
