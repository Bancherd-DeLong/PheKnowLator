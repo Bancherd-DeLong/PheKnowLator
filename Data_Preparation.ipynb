{
 "cells": [
  {
   "cell_type": "markdown",
   "metadata": {
    "collapsed": true
   },
   "source": [
    "***\n",
    "# PheKnowLator - Data Preparation\n",
    "***\n",
    "***\n",
    "\n",
    "**Author:** [TJCallahan](https://mail.google.com/mail/u/0/?view=cm&fs=1&tf=1&to=callahantiff@gmail.com)  \n",
    "**GitHub Repository:** [PheKnowLator](https://github.com/callahantiff/PheKnowLator/wiki)  \n",
    "**Release:** **[v2.0.0](https://github.com/callahantiff/PheKnowLator/wiki/v2.0.0)**\n",
    "  \n",
    "<br>  \n",
    "  \n",
    "**Purpose:** This notebook serves as a script to download and process data in order to generate mapping and filtering data needed to build edges for the PheKnowLator knowledge graph. For more information on the data sources utilize within this script, please see the [Data Sources](https://github.com/callahantiff/PheKnowLator/wiki/v2-Data-Sources) Wiki page.\n",
    "\n",
    "<br>\n",
    "\n",
    "**Assumptions:**   \n",
    "- Raw data downloads ➞ `./resources/processed_data/unprocessed_data`    \n",
    "- Processed data write location ➞ `./resources/processed_data`  \n",
    "\n",
    "<br>\n",
    "\n",
    "**Dependencies:** This notebook utilizes several helper functions, which are stored in the [`data_preparation_helper_functions.py`](https://github.com/callahantiff/PheKnowLator/blob/master/scripts/python/data_preparation_helper_functions.py) script. Hyperlinks to all downloaded and generated data sources are provided on the [Data Sources](https://github.com/callahantiff/PheKnowLator/wiki/v2-Data-Sources) Wiki page as well as within each source subsection of this notebook. All generated data is freely available for download from DropBox. \n",
    "\n",
    "_____\n",
    "***"
   ]
  },
  {
   "cell_type": "markdown",
   "metadata": {},
   "source": [
    "## Table of Contents\n",
    "***\n",
    "\n",
    "### [Create Identifier Maps ](#create-identifier-maps)  \n",
    "- [HUMAN TRANSCRIPT, GENE, AND PROTEIN IDENTIFIER MAPPING](#human-transcript,-gene,-and-protein-identifier-mapping)\n",
    "  - [Entrez Gene-Ensembl Transcript](#entrezgene-ensembltranscript)  \n",
    "  - [Entrez Gene-Protein Ontology](#entrezgene-proteinontology)  \n",
    "  - [Ensembl Gene-Entrez Gene](#ensemblgene-entrezgene)\n",
    "  - [Gene Symbol-Ensembl Transcript](#genesymbol-ensembltranscript)  \n",
    "  - [STRING-Protein Ontology](#string-proteinontology)  \n",
    "  - [Uniprot Accession-Protein Ontology](#uniprotaccession-proteinontology)\n",
    "  \n",
    "\n",
    "- [OTHER IDENTIFIER MAPPING](#other-identifier-mapping) \n",
    "  - [ChEBI Identifiers](#mesh-chebi) \n",
    "  - [Human Disease and Phenotype Identifiers](#disease-identifiers)\n",
    "  - [Human Protein Atlas Tissue and Cell Types](#hpa-uberon)  \n",
    "  - [Reactome Pathways - Pathway Ontology](#reactome-pw)  \n",
    "  - [Genomic Identifiers - Sequence Ontology](#genomic-soo)  \n",
    "\n",
    "<br>\n",
    "\n",
    "### [Create Edge Datasets](#create-edge-datasets)\n",
    "- [ONTOLOGIES](#ontologies)  \n",
    "  - [Protein Ontology](#protein-ontology)  \n",
    "  - [Relations Ontology](#relations-ontology)  \n",
    "\n",
    "\n",
    "- [LINKED DATA](#linked-data)  \n",
    "  - [Clinvar Variant-Diseases and Phenotypes](#clinvar-variant)\n",
    "  - [Uniprot Protein-Cofactor and Protein-Catalyst](#uniprot-protein-cofactorcatalyst)  \n",
    "\n",
    "<br>\n",
    "\n",
    "### [Create Instance Data and/or Subclass Metadata](#create-instance-metadata)  \n",
    "- [Genes/RNA](#gene-and-rna-metadata)\n",
    "- [Pathways](#pathway-metadata)\n",
    "- [Variants](#variant-metadata) \n",
    "\n",
    "____"
   ]
  },
  {
   "cell_type": "markdown",
   "metadata": {},
   "source": [
    "<br>"
   ]
  },
  {
   "cell_type": "markdown",
   "metadata": {},
   "source": [
    "### Set-Up Environment\n",
    "_____"
   ]
  },
  {
   "cell_type": "code",
   "execution_count": 1,
   "metadata": {},
   "outputs": [],
   "source": [
    "# import needed libraries\n",
    "import datetime\n",
    "import glob\n",
    "import ijson\n",
    "import itertools\n",
    "import networkx\n",
    "import numpy\n",
    "import pandas\n",
    "import pickle\n",
    "import requests\n",
    "\n",
    "from collections import Counter\n",
    "from functools import reduce\n",
    "from owlready2 import subprocess\n",
    "from rdflib import Graph, Namespace, URIRef, BNode, Literal\n",
    "from reactome2py import content\n",
    "from tqdm import tqdm\n",
    "\n",
    "# import script containing helper functions\n",
    "from pkt_kg.utils import *"
   ]
  },
  {
   "cell_type": "markdown",
   "metadata": {},
   "source": [
    "**Define Global Variables**"
   ]
  },
  {
   "cell_type": "code",
   "execution_count": 2,
   "metadata": {},
   "outputs": [],
   "source": [
    "# directory to read unprocessed data files from\n",
    "unprocessed_data_location = 'resources/processed_data/unprocessed_data/'\n",
    "\n",
    "# directory to write processed data files to\n",
    "processed_data_location = 'resources/processed_data/'\n",
    "\n",
    "# directory to write relations data to\n",
    "relations_data_location = 'resources/relations_data/'\n",
    "\n",
    "# directory to write node metadata to\n",
    "node_data_location = 'resources/node_data/'"
   ]
  },
  {
   "cell_type": "markdown",
   "metadata": {},
   "source": [
    "<br>"
   ]
  },
  {
   "cell_type": "markdown",
   "metadata": {},
   "source": [
    "***\n",
    "***\n",
    "### CREATE MAPPING DATASETS  <a class=\"anchor\" id=\"create-identifier-maps\"></a>\n",
    "***\n",
    "***"
   ]
  },
  {
   "cell_type": "markdown",
   "metadata": {},
   "source": [
    "### Human Transcript, Gene, and Protein Identifier Mapping  <a class=\"anchor\" id=\"human-transcript,-gene,-and-protein-identifier-mapping\"></a>\n",
    "***\n",
    "\n",
    "**Data Source Wiki Pages:**   \n",
    "- [Ensembl](https://uswest.ensembl.org/)  \n",
    "- [Uniprot Knowledgebase](https://github.com/callahantiff/PheKnowLator/wiki/v2-Data-Sources/#uniprot-knowledgebase)  \n",
    "- [HGNC](ftp://ftp.ebi.ac.uk/pub/databases/genenames/new/tsv/hgnc_complete_set.txt) \n",
    "- [NCBI Gene](https://github.com/callahantiff/PheKnowLator/wiki/v2-Data-Sources/#ncbi-gene) \n",
    "- [Protein Ontology](https://github.com/callahantiff/PheKnowLator/wiki/v2-Data-Sources/#protein-ontology)\n",
    "\n",
    "<br>\n",
    "\n",
    "**Purpose:** To map create protein-coding gene-protein relations and mappings between the identifiers listed below. The edges types produced from each of these mappings will be further described within each identifier mapping section:  \n",
    "- [Entrez Gene-Ensembl Transcript](#entrezgene-ensembltranscript)  \n",
    "- [Entrez Gene-Protein Ontology](#entrezgene-proteinontology)  \n",
    "- [Ensembl Gene-Entrez Gene](#ensemblgene-entrezgene)\n",
    "- [Gene Symbol-Ensembl Transcript](#genesymbol-ensembltranscript)  \n",
    "- [STRING-Protein Ontology](#string-proteinontology)  \n",
    "- [Uniprot Accession-Protein Ontology](#uniprotaccession-proteinontology)\n",
    "\n",
    "<br>\n",
    "\n",
    "**Gene and Trainscript Types:** The transcript and gene/locus types were reviewed by a PhD Molecular biologist to confirm whether or not they should be treated as `protein-coding` or not, which is useful for creating `genomic-rna`, `genomic-protein`, and `rna-protein` edges in the knowledge graph. For more information on this classification, please see the table below. Definitions of concepts in the table have been taken from [HGNC](https://www.genenames.org/help/symbol-report/), [Ensembl](https://uswest.ensembl.org/info/genome/genebuild/biotypes.html), [NCBI](https://www.ncbi.nlm.nih.gov/IEB/ToolBox/CPP_DOC/lxr/source/src/objects/entrezgene/entrezgene.asn), and Wikipedia.\n",
    "\n",
    "<table>\n",
    "<th align=\"center\">Gene and Transcript Type</th>  \n",
    "<th align=\"center\">Definition</th>\n",
    "<th align=\"center\">Type</th>\n",
    "<th align=\"center\">Genomic material <i>transcribed_to</i> RNA</th>\n",
    "<th align=\"center\">RNA <i>translated_to</i> Protein</th>\n",
    "<th align=\"center\">Genomic material <i>has_gene_product</i> Protein</th>\n",
    "<tr>\n",
    "  <td rowspan=\"2\">biological-region</td> \n",
    "  <td rowspan=\"2\">Biological_region (SO:0001411; Special note: This is a parental feature spanning all other feature annotation on each RefSeq Functional Element record. It is a 'misc_feature' in GenBank flat files but a 'Region' feature in ASN.1 and GFF3 formats</td>\n",
    "  <td>gene</td> \n",
    "  <td>yes</td> \n",
    "  <td>no</td> \n",
    "  <td>no</td>\n",
    "</tr>\n",
    "<tr>\n",
    "  <td>transcript</td> \n",
    "  <td> --- </td> \n",
    "  <td> --- </td> \n",
    "  <td> --- </td> \n",
    "</tr>\n",
    "<tr>\n",
    "  <td rowspan=\"2\">IG_C_gene</td> \n",
    "  <td rowspan=\"2\">Constant chain immunoglobulin gene that undergoes somatic recombination before transcription</td>\n",
    "  <td>gene</td> \n",
    "  <td>yes</td> \n",
    "  <td>no</td> \n",
    "  <td>no</td>\n",
    "</tr>\n",
    "<tr>\n",
    "  <td>transcript</td> \n",
    "  <td>yes</td> \n",
    "  <td>yes</td> \n",
    "  <td>no</td> \n",
    "</tr>\n",
    "<tr>\n",
    "  <td rowspan=\"2\">IG_C_pseudogene</td> \n",
    "  <td rowspan=\"2\">Inactivated immunoglobulin gene. Immunoglobulin gene segments that are inactivated due to frameshift mutations and/or stop codons in the open reading frame</td>\n",
    "  <td>gene</td> \n",
    "  <td>yes</td> \n",
    "  <td>no</td> \n",
    "  <td>no</td>\n",
    "</tr>\n",
    "<tr>\n",
    "<td>transcript</td> \n",
    "  <td>yes</td> \n",
    "  <td>yes</td> \n",
    "  <td>no</td> \n",
    "</tr>\t \t \n",
    "<tr>\n",
    "  <td rowspan=\"2\">IG_D_gene</td> \n",
    "  <td rowspan=\"2\">Diversity chain immunoglobulin gene that undergoes somatic recombination before transcription</td>\n",
    "  <td>gene</td> \n",
    "  <td>yes</td> \n",
    "  <td>no</td> \n",
    "  <td>no</td>\n",
    "</tr>\n",
    "<tr>\n",
    "<td>transcript</td> \n",
    "  <td>yes</td> \n",
    "  <td>yes</td> \n",
    "  <td>no</td> \n",
    "</tr>\n",
    "<tr>\n",
    "  <td rowspan=\"2\">IG_J_gene</td> \n",
    "  <td rowspan=\"2\">IG J gene: Joining chain immunoglobulin gene that undergoes somatic recombination before transcription</td>\n",
    "  <td>gene</td> \n",
    "  <td>yes</td> \n",
    "  <td>no</td> \n",
    "  <td>no</td>\n",
    "</tr>\n",
    "<tr>\n",
    "<td>transcript</td> \n",
    "  <td>yes</td> \n",
    "  <td>yes</td> \n",
    "  <td>no</td> \n",
    "</tr>\n",
    "<tr>\n",
    "  <td rowspan=\"2\">IG_J_pseudogene</td> \n",
    "  <td rowspan=\"2\">Inactivated immunoglobulin gene. Immunoglobulin gene segments that are inactivated due to frameshift mutations and/or stop codons in the open reading frame</td>\n",
    "  <td>gene</td> \n",
    "  <td>yes</td> \n",
    "  <td>no</td> \n",
    "  <td>no</td>\n",
    "</tr>\n",
    "<tr>\n",
    "<td>transcript</td> \n",
    "  <td>yes</td> \n",
    "  <td>yes</td> \n",
    "  <td>no</td> \n",
    "</tr>\n",
    "<tr>\n",
    "  <td rowspan=\"2\">IG_pseudogene</td> \n",
    "  <td rowspan=\"2\">Inactivated immunoglobulin gene. Immunoglobulin gene segments that are inactivated due to frameshift mutations and/or stop codons in the open reading frame</td>\n",
    "  <td>gene</td> \n",
    "  <td>yes</td> \n",
    "  <td>no</td> \n",
    "  <td>no</td>\n",
    "</tr>\n",
    "<tr>\n",
    "<td>transcript</td> \n",
    "  <td>yes</td> \n",
    "  <td>yes</td> \n",
    "  <td>no</td> \n",
    "</tr>\n",
    "<tr>\n",
    "  <td rowspan=\"2\">IG_V_gene</td> \n",
    "  <td rowspan=\"2\">Variable chain immunoglobulin gene that undergoes somatic recombination before transcription</td>\n",
    "  <td>gene</td> \n",
    "  <td>yes</td> \n",
    "  <td>no</td> \n",
    "  <td>no</td>\n",
    "</tr>\n",
    "<tr>\n",
    "<td>transcript</td> \n",
    "  <td>yes</td> \n",
    "  <td>yes</td> \n",
    "  <td>no</td> \n",
    "</tr>\n",
    "<tr>\n",
    "  <td rowspan=\"2\">IG_V_pseudogene</td> \n",
    "  <td rowspan=\"2\">Inactivated immunoglobulin gene. Immunoglobulin gene segments that are inactivated due to frameshift mutations and/or stop codons in the open reading frame</td>\n",
    "  <td>gene</td> \n",
    "  <td>yes</td> \n",
    "  <td>no</td> \n",
    "  <td>no</td>\n",
    "</tr>\n",
    "<tr>\n",
    "<td>transcript</td> \n",
    "  <td>yes</td> \n",
    "  <td>yes</td> \n",
    "  <td>no</td> \n",
    "</tr>\n",
    "<tr>\n",
    "  <td rowspan=\"2\">lncRNA</td> \n",
    "  <td rowspan=\"2\">RNA, long non-coding - non-protein coding genes that encode long non-coding RNAs (lncRNAs) (SO:0001877); these are at least 200 nt in length. Subtypes include intergenic (SO:0001463), intronic (SO:0001903) and antisense (SO:0001904)</td>\n",
    "  <td>gene</td> \n",
    "  <td>yes</td> \n",
    "  <td>no</td> \n",
    "  <td>no</td>\n",
    "</tr>\n",
    "<tr>\n",
    "<td>transcript</td> \n",
    "  <td>yes</td> \n",
    "  <td>no</td> \n",
    "  <td>no</td> \n",
    "</tr>\n",
    "<tr>\n",
    "  <td rowspan=\"2\">miRNA</td> \n",
    "  <td rowspan=\"2\">RNA, micro - non-protein coding genes that encode microRNAs (miRNAs) (SO:0001265)</td>\n",
    "  <td>gene</td> \n",
    "  <td>yes</td> \n",
    "  <td>no</td> \n",
    "  <td>no</td>\n",
    "</tr>\n",
    "<tr>\n",
    "<td>transcript</td> \n",
    "  <td>yes</td> \n",
    "  <td>no</td> \n",
    "  <td>no</td> \n",
    "</tr>\n",
    "<tr>\n",
    "  <td rowspan=\"2\">misc_RNA</td> \n",
    "  <td rowspan=\"2\">Non-protein coding genes that encode miscellaneous types of small ncRNAs, such as vault (SO:0000404) and Y (SO:0000405) RNA genes</td>\n",
    "  <td>gene</td> \n",
    "  <td>yes</td> \n",
    "  <td>no</td> \n",
    "  <td>no</td>\n",
    "</tr>\n",
    "<tr>\n",
    "<td>transcript</td> \n",
    "  <td>yes</td> \n",
    "  <td>no</td> \n",
    "  <td>no</td> \n",
    "</tr>\n",
    "<tr>\n",
    "  <td rowspan=\"2\">Mt_rRNA</td> \n",
    "  <td rowspan=\"2\">Mitochondrial rRNA</td>\n",
    "  <td>gene</td> \n",
    "  <td>yes</td> \n",
    "  <td>no</td> \n",
    "  <td>no</td>\n",
    "</tr>\n",
    "<tr>\n",
    "<td>transcript</td> \n",
    "  <td>yes</td> \n",
    "  <td>no</td> \n",
    "  <td>no</td> \n",
    "</tr>\n",
    "<tr>\n",
    "  <td rowspan=\"2\">Mt_tRNA</td> \n",
    "  <td rowspan=\"2\">Mitochondrial tRNA</td>\n",
    "  <td>gene</td> \n",
    "  <td>yes</td> \n",
    "  <td>no</td> \n",
    "  <td>no</td>\n",
    "</tr>\n",
    "<tr>\n",
    "<td>transcript</td> \n",
    "  <td>yes</td> \n",
    "  <td>no</td> \n",
    "  <td>no</td> \n",
    "</tr>\n",
    "<tr>\n",
    "  <td rowspan=\"2\">ncRNA</td> \n",
    "  <td rowspan=\"2\">Noncoding RNA</td>\n",
    "  <td>gene</td> \n",
    "  <td>yes</td> \n",
    "  <td>no</td> \n",
    "  <td>no</td>\n",
    "</tr>\n",
    "<tr>\n",
    "<td>transcript</td> \n",
    "  <td> --- </td> \n",
    "  <td> --- </td> \n",
    "  <td> --- </td> \n",
    "</tr>\n",
    "<tr>\n",
    "  <td rowspan=\"2\">non_stop_decay</td> \n",
    "  <td rowspan=\"2\">Transcripts that have polyA features (including signal) without a prior stop codon in the CDS, i.e. a non-genomic polyA tail attached directly to the CDS without 3' UTR. These transcripts are subject to degradation</td>\n",
    "  <td>gene</td> \n",
    "  <td> --- </td> \n",
    "  <td> --- </td> \n",
    "  <td> --- </td>\n",
    "</tr>\n",
    "<tr>\n",
    "<td>transcript</td> \n",
    "  <td>yes</td> \n",
    "  <td>no</td> \n",
    "  <td>no</td> \n",
    "</tr>\n",
    "<tr>\n",
    "  <td rowspan=\"2\">nonsense_mediated_decay</td> \n",
    "  <td rowspan=\"2\">If the coding sequence (following the appropriate reference) of a transcript finishes >50bp from a downstream splice site then it is tagged as NMD. If the variant does not cover the full reference coding sequence then it is annotated as NMD if NMD is unavoidable i.e. no matter what the exon structure of the missing portion is the transcript will be subject to NMD</td>\n",
    "  <td>gene</td> \n",
    "  <td> --- </td> \n",
    "  <td> --- </td> \n",
    "  <td> --- </td>\n",
    "</tr>\n",
    "<tr>\n",
    "<td>transcript</td> \n",
    "  <td>yes</td> \n",
    "  <td>yes</td> \n",
    "  <td>no</td> \n",
    "</tr>\n",
    "<tr>\n",
    "  <td rowspan=\"2\">other</td> \n",
    "  <td rowspan=\"2\">other</td>\n",
    "  <td>gene</td> \n",
    "  <td>yes</td> \n",
    "  <td>no</td> \n",
    "  <td>no</td>\n",
    "</tr>\n",
    "<tr>\n",
    "<td>transcript</td> \n",
    "  <td>yes</td> \n",
    "  <td>no</td> \n",
    "  <td>no</td> \n",
    "</tr>\n",
    "<tr>\n",
    "  <td rowspan=\"2\">phenotype</td> \n",
    "  <td rowspan=\"2\"> Mapped phenotypes where the causative gene has not been identified (SO:0001500) </td>\n",
    "  <td>gene</td> \n",
    "  <td>yes</td> \n",
    "  <td>no</td> \n",
    "  <td>no</td>\n",
    "</tr>\n",
    "<tr>\n",
    "<td>transcript</td> \n",
    "  <td> --- </td> \n",
    "  <td> --- </td> \n",
    "  <td> --- </td> \n",
    "</tr>\n",
    "<tr>\n",
    "  <td rowspan=\"2\">polymorphic_pseudogene</td> \n",
    "  <td rowspan=\"2\">Pseudogene owing to a SNP/DIP but in other individuals/haplotypes/strains the gene is translated</td>\n",
    "  <td>gene</td> \n",
    "  <td>yes</td> \n",
    "  <td>no</td> \n",
    "  <td>no</td>\n",
    "</tr>\n",
    "<tr>\n",
    "<td>transcript</td> \n",
    "  <td>yes</td> \n",
    "  <td>yes</td> \n",
    "  <td>no</td> \n",
    "</tr>\n",
    "<tr>\n",
    "  <td rowspan=\"2\">processed_pseudogene</td> \n",
    "  <td rowspan=\"2\">Pseudogene that lack introns and is thought to arise from reverse transcription of mRNA followed by reinsertion of DNA into the genome</td>\n",
    "  <td>gene</td> \n",
    "  <td>yes</td> \n",
    "  <td>no</td> \n",
    "  <td>no</td>\n",
    "</tr>\n",
    "<tr>\n",
    "<td>transcript</td> \n",
    "  <td>yes</td> \n",
    "  <td>yes</td> \n",
    "  <td>no</td> \n",
    "</tr>\n",
    "<tr>\n",
    "  <td rowspan=\"2\">processed_transcript</td> \n",
    "  <td rowspan=\"2\">Gene/transcript that doesn't contain an open reading frame</td>\n",
    "  <td>gene</td> \n",
    "  <td> --- </td> \n",
    "  <td> --- </td> \n",
    "  <td> --- </td>\n",
    "</tr>\n",
    "<tr>\n",
    "<td>transcript</td> \n",
    "  <td>yes</td> \n",
    "  <td>yes</td> \n",
    "  <td>no</td> \n",
    "</tr>\n",
    "<tr>\n",
    "  <td rowspan=\"2\">protein_coding</td> \n",
    "  <td rowspan=\"2\">Contains an open reading frame (ORF)</td>\n",
    "  <td>gene</td> \n",
    "  <td>yes</td> \n",
    "  <td>yes</td> \n",
    "  <td>yes</td>\n",
    "</tr>\n",
    "<tr>\n",
    "<td>transcript</td> \n",
    "  <td>yes</td> \n",
    "  <td>no</td> \n",
    "  <td>yes</td> \n",
    "</tr>\n",
    "<tr>\n",
    "  <td rowspan=\"2\">pseudogene</td> \n",
    "  <td rowspan=\"2\">Have homology to proteins but generally suffer from a disrupted coding sequence and an active homologous gene can be found at another locus. Sometimes these entries have an intact coding sequence or an open but truncated ORF, in which case there is other evidence used (for example genomic polyA stretches at the 3' end) to classify them as a pseudogene</td>\n",
    "  <td>gene</td> \n",
    "  <td>yes</td> \n",
    "  <td>no</td> \n",
    "  <td>no</td>\n",
    "</tr>\n",
    "<tr>\n",
    "<td>transcript</td> \n",
    "  <td>yes</td> \n",
    "  <td>yes</td> \n",
    "  <td>no</td> \n",
    "</tr>\n",
    "<tr>\n",
    "  <td rowspan=\"2\">retained_intron</td> \n",
    "  <td rowspan=\"2\">Has an alternatively spliced transcript believed to contain intronic sequence relative to other, coding, variants</td>\n",
    "  <td>gene</td> \n",
    "  <td> --- </td> \n",
    "  <td> --- </td> \n",
    "  <td> --- </td>\n",
    "</tr>\n",
    "<tr>\n",
    "<td>transcript</td> \n",
    "  <td>yes</td> \n",
    "  <td>yes</td> \n",
    "  <td>no</td> \n",
    "</tr>\n",
    "<tr>\n",
    "  <td rowspan=\"2\">ribozyme</td> \n",
    "  <td rowspan=\"2\">Ribozymes are RNA molecules that have the ability to catalyze specific biochemical reactions, including RNA splicing in gene expression, similar to the action of protein enzymes</td>\n",
    "  <td>gene</td> \n",
    "  <td>yes</td> \n",
    "  <td>no</td> \n",
    "  <td>no</td>\n",
    "</tr>\n",
    "<tr>\n",
    "<td>transcript</td> \n",
    "  <td>yes</td> \n",
    "  <td>yes</td> \n",
    "  <td>no</td> \n",
    "</tr>\n",
    "<tr>\n",
    "  <td rowspan=\"2\">rRNA</td> \n",
    "  <td rowspan=\"2\">RNA, ribosomal - non-protein coding genes that encode ribosomal RNAs (rRNAs) (SO:0001637)</td>\n",
    "  <td>gene</td> \n",
    "  <td>yes</td> \n",
    "  <td>no</td> \n",
    "  <td>no</td>\n",
    "</tr>\n",
    "<tr>\n",
    "<td>transcript</td> \n",
    "  <td>yes</td> \n",
    "  <td>no</td> \n",
    "  <td>no</td> \n",
    "</tr>\n",
    "<tr>\n",
    "  <td rowspan=\"2\">rRNA_pseudogene</td> \n",
    "  <td rowspan=\"2\">A gene that has homology to known protein-coding genes but contain a frameshift and/or stop codon(s) which disrupts the ORF. Thought to have arisen through duplication followed by loss of function</td>\n",
    "  <td>gene</td> \n",
    "  <td>yes</td> \n",
    "  <td>no</td> \n",
    "  <td>no</td>\n",
    "</tr>\n",
    "<tr>\n",
    "<td>transcript</td> \n",
    "  <td>yes</td> \n",
    "  <td>yes</td> \n",
    "  <td>no</td> \n",
    "</tr>\n",
    "<tr>\n",
    "  <td rowspan=\"2\">scaRNA</td> \n",
    "  <td rowspan=\"2\">Small Cajal body-specific RNAs are a class of small nucleolar RNAs that specifically localise to the Cajal body, a nuclear organelle involved in the biogenesis of small nuclear ribonucleoproteins/td>\n",
    "  <td>gene</td> \n",
    "  <td>yes</td> \n",
    "  <td>no</td> \n",
    "  <td>no</td>\n",
    "</tr>\n",
    "<tr>\n",
    "<td>transcript</td> \n",
    "  <td>yes</td> \n",
    "  <td>no</td> \n",
    "  <td>no</td> \n",
    "</tr>\n",
    "<tr>\n",
    "  <td rowspan=\"2\">scRNA</td> \n",
    "  <td rowspan=\"2\">RNA, small cytoplasmic - non-protein coding genes that encode small cytoplasmic RNAs (scRNAs) (SO:0001266)</td>\n",
    "  <td>gene</td> \n",
    "  <td>yes</td> \n",
    "  <td>no</td> \n",
    "  <td>no</td>\n",
    "</tr>\n",
    "<tr>\n",
    "<td>transcript</td> \n",
    "  <td>yes</td> \n",
    "  <td>no</td> \n",
    "  <td>no</td> \n",
    "</tr>\n",
    "<tr>\n",
    "  <td rowspan=\"2\">snoRNA</td> \n",
    "  <td rowspan=\"2\">RNA, small nucleolar - non-protein coding genes that encode small nucleolar RNAs (snoRNAs) containing C/D or H/ACA box domains (SO:0001267)</td>\n",
    "  <td>gene</td> \n",
    "  <td>yes</td> \n",
    "  <td>no</td> \n",
    "  <td>no</td>\n",
    "</tr>\n",
    "  <td>transcript</td> \n",
    "  <td>yes</td> \n",
    "  <td>no</td> \n",
    "  <td>no</td> \n",
    "</tr>\n",
    "<tr>\n",
    "  <td rowspan=\"2\">snRNA</td> \n",
    "  <td rowspan=\"2\">RNA, small nuclear - non-protein coding genes that encode small nuclear RNAs (snRNAs) (SO:0001268)</td>\n",
    "  <td>gene</td> \n",
    "  <td>yes</td> \n",
    "  <td>no</td> \n",
    "  <td>no</td>\n",
    "</tr>\n",
    "<tr>\n",
    "<td>transcript</td> \n",
    "  <td>yes</td> \n",
    "  <td>no</td> \n",
    "  <td>no</td> \n",
    "</tr>\n",
    "<tr>\n",
    "  <td rowspan=\"2\">sRNA</td> \n",
    "  <td rowspan=\"2\">Bacterial small RNAs (sRNA) are small RNAs produced by bacteria; they are 50- to 500-nucleotide non-coding RNA molecules, highly structured and containing several stem-loops</td>\n",
    "  <td>gene</td> \n",
    "  <td>yes</td> \n",
    "  <td>no</td> \n",
    "  <td>no</td>\n",
    "</tr>\n",
    "<tr>\n",
    "<td>transcript</td> \n",
    "  <td>yes</td> \n",
    "  <td>no</td> \n",
    "  <td>no</td> \n",
    "</tr>\n",
    "<tr>\n",
    "  <td rowspan=\"2\">TEC</td> \n",
    "  <td rowspan=\"2\">TEC (To be Experimentally Confirmed). This is used for non-spliced EST clusters that have polyA features. This category has been specifically created for the ENCODE project to highlight regions that could indicate the presence of protein coding genes that require experimental validation, either by 5' RACE or RT-PCR to extend the transcripts, or by confirming expression of the putatively-encoded peptide with specific antibodies</td>\n",
    "  <td>gene</td> \n",
    "  <td>yes</td> \n",
    "  <td>no</td> \n",
    "  <td>yes</td>\n",
    "</tr>\n",
    "<tr>\n",
    "<td>transcript</td> \n",
    "  <td>yes</td> \n",
    "  <td>yes</td> \n",
    "  <td>no</td> \n",
    "</tr>\n",
    "<tr>\n",
    "  <td rowspan=\"2\">TR_C_gene</td> \n",
    "  <td rowspan=\"2\">Constant chain T cell receptor gene that undergoes somatic recombination before transcription/td>\n",
    "  <td>gene</td> \n",
    "  <td>yes</td> \n",
    "  <td>no</td> \n",
    "  <td>no</td>\n",
    "</tr>\n",
    "<tr>\n",
    "<td>transcript</td> \n",
    "  <td>yes</td> \n",
    "  <td>yes</td> \n",
    "  <td>no</td> \n",
    "</tr>\n",
    "<tr>\n",
    "  <td rowspan=\"2\">TR_D_gene</td> \n",
    "  <td rowspan=\"2\">Diversity chain T cell receptor gene that undergoes somatic recombination before transcription/td>\n",
    "  <td>gene</td> \n",
    "  <td>yes</td> \n",
    "  <td>no</td> \n",
    "  <td>no</td>\n",
    "</tr>\n",
    "  <td>transcript</td> \n",
    "  <td>yes</td> \n",
    "  <td>yes</td> \n",
    "  <td>no</td> \n",
    "</tr>\n",
    "<tr>\n",
    "  <td rowspan=\"2\">TR_J_gene</td> \n",
    "  <td rowspan=\"2\">Joining chain T cell receptor gene that undergoes somatic recombination before transcription</td>\n",
    "  <td>gene</td> \n",
    "  <td>yes</td> \n",
    "  <td>no</td> \n",
    "  <td>no</td>\n",
    "</tr>\n",
    "<tr>\n",
    "<td>transcript</td> \n",
    "  <td>yes</td> \n",
    "  <td>yes</td> \n",
    "  <td>no</td> \n",
    "</tr>\n",
    "<tr>\n",
    "  <td rowspan=\"2\">TR_J_pseudogene</td> \n",
    "  <td rowspan=\"2\">T cell receptor pseudogene - T cell receptor gene segments that are inactivated due to frameshift mutations and/or stop codons in the open reading frame</td>\n",
    "  <td>gene</td> \n",
    "  <td>yes</td> \n",
    "  <td>no</td> \n",
    "  <td>no</td>\n",
    "</tr>\n",
    "<tr>\n",
    "<td>transcript</td> \n",
    "  <td>yes</td> \n",
    "  <td>yes</td> \n",
    "  <td>no</td> \n",
    "</tr>\n",
    "<tr>\n",
    "  <td rowspan=\"2\">TR_V_gene</td> \n",
    "  <td rowspan=\"2\">Variable chain T cell receptor gene that undergoes somatic recombination before transcription</td>\n",
    "  <td>gene</td> \n",
    "  <td>yes</td> \n",
    "  <td>no</td> \n",
    "  <td>no</td>\n",
    "</tr>\n",
    "<tr>\n",
    "<td>transcript</td> \n",
    "  <td>yes</td> \n",
    "  <td>yes</td> \n",
    "  <td>no</td> \n",
    "</tr>\n",
    "<tr>\n",
    "  <td rowspan=\"2\">TR_V_pseudogene</td> \n",
    "  <td rowspan=\"2\">T cell receptor pseudogene - T cell receptor gene segments that are inactivated due to frameshift mutations and/or stop codons in the open reading frame</td>\n",
    "  <td>gene</td> \n",
    "  <td>yes</td> \n",
    "  <td>no</td> \n",
    "  <td>no</td>\n",
    "</tr>\n",
    "<tr>\n",
    "<td>transcript</td> \n",
    "  <td>yes</td> \n",
    "  <td>yes</td> \n",
    "  <td>no</td> \n",
    "</tr>\n",
    "<tr>\n",
    "  <td rowspan=\"2\">transcribed_processed_pseudogene</td> \n",
    "  <td rowspan=\"2\">Pseudogene where protein homology or genomic structure indicates a pseudogene, but the presence of locus-specific transcripts indicates expression. These can be classified into 'Processed', 'Unprocessed' and 'Unitary'</td>\n",
    "  <td>gene</td> \n",
    "  <td>yes</td> \n",
    "  <td>no</td> \n",
    "  <td>no</td>\n",
    "</tr>\n",
    "<tr>\n",
    "<td>transcript</td> \n",
    "  <td>yes</td> \n",
    "  <td>no</td> \n",
    "  <td>no</td> \n",
    "</tr>\n",
    "<tr>\n",
    "  <td rowspan=\"2\">transcribed_unitary_pseudogene</td> \n",
    "  <td rowspan=\"2\">Pseudogene where protein homology or genomic structure indicates a pseudogene, but the presence of locus-specific transcripts indicates expression. These can be classified into 'Processed', 'Unprocessed' and 'Unitary'</td>\n",
    "  <td>gene</td> \n",
    "  <td>yes</td> \n",
    "  <td>no</td> \n",
    "  <td>no</td>\n",
    "</tr>\n",
    "<tr>\n",
    "<td>transcript</td> \n",
    "  <td>yes</td> \n",
    "  <td>no</td> \n",
    "  <td>no</td> \n",
    "</tr>\n",
    "<tr>\n",
    "  <td rowspan=\"2\">transcribed_unprocessed_pseudogene</td> \n",
    "  <td rowspan=\"2\">Pseudogene where protein homology or genomic structure indicates a pseudogene, but the presence of locus-specific transcripts indicates expression. These can be classified into 'Processed', 'Unprocessed' and 'Unitary'</td>\n",
    "  <td>gene</td> \n",
    "  <td>yes</td> \n",
    "  <td>no</td> \n",
    "  <td>no</td>\n",
    "</tr>\n",
    "<tr>\n",
    "<td>transcript</td> \n",
    "  <td>yes</td> \n",
    "  <td>no</td> \n",
    "  <td>no</td> \n",
    "</tr>\n",
    "<tr>\n",
    "  <td rowspan=\"2\">translated_processed_pseudogene</td> \n",
    "  <td rowspan=\"2\">Pseudogenes that have mass spec data suggesting that they are also translated. These can be classified into 'Processed', 'Unprocessed'</td>\n",
    "  <td>gene</td> \n",
    "  <td>yes</td> \n",
    "  <td>no</td> \n",
    "  <td>no</td>\n",
    "</tr>\n",
    "  <td>transcript</td> \n",
    "  <td>yes</td> \n",
    "  <td>yes</td> \n",
    "  <td>no</td> \n",
    "</tr>\n",
    "<tr>\n",
    "  <td rowspan=\"2\">translated_unprocessed_pseudogene</td> \n",
    "  <td rowspan=\"2\">Inactivated immunoglobulin gene. Immunoglobulin gene segments that are inactivated due to frameshift mutations and/or stop codons in the open reading frame</td>\n",
    "  <td>gene</td> \n",
    "  <td>yes</td> \n",
    "  <td>no</td> \n",
    "  <td>no</td>\n",
    "</tr>\n",
    "  <td>transcript</td> \n",
    "  <td>yes</td> \n",
    "  <td>yes</td> \n",
    "  <td>no</td> \n",
    "</tr>\n",
    "<tr>\n",
    "  <td rowspan=\"2\">tRNA</td> \n",
    "  <td rowspan=\"2\">Transfer RNA</td>\n",
    "  <td>gene</td> \n",
    "  <td>yes</td> \n",
    "  <td>no</td> \n",
    "  <td>no</td>\n",
    "</tr>\n",
    "  <td>transcript</td> \n",
    "  <td> --- </td> \n",
    "  <td> --- </td> \n",
    "  <td> --- </td> \n",
    "</tr>\n",
    "<tr>\n",
    "  <td rowspan=\"2\">unitary_pseudogene</td> \n",
    "  <td rowspan=\"2\">A species specific unprocessed pseudogene without a parent gene, as it has an active orthologue in another species</td>\n",
    "  <td>gene</td> \n",
    "  <td>yes</td> \n",
    "  <td>no</td> \n",
    "  <td>no</td>\n",
    "</tr>\n",
    "  <td>transcript</td> \n",
    "  <td>yes</td> \n",
    "  <td>yes</td> \n",
    "  <td>no</td> \n",
    "</tr>\n",
    "<tr>\n",
    "  <td rowspan=\"2\">unknown</td> \n",
    "  <td rowspan=\"2\">Entries where the locus type is currently unknown</td>\n",
    "  <td>gene</td> \n",
    "  <td>yes</td> \n",
    "  <td>no</td> \n",
    "  <td>no</td>\n",
    "</tr>\n",
    "  <td>transcript</td> \n",
    "  <td> --- </td> \n",
    "  <td> --- </td> \n",
    "  <td> --- </td> \n",
    "</tr>\n",
    "<tr>\n",
    "  <td rowspan=\"2\">unprocessed_pseudogene</td> \n",
    "  <td rowspan=\"2\">Pseudogene that can contain introns since produced by gene duplication</td>\n",
    "  <td>gene</td> \n",
    "  <td>yes</td> \n",
    "  <td>no</td> \n",
    "  <td>no</td>\n",
    "</tr>\n",
    "  <td>transcript</td> \n",
    "  <td>yes</td> \n",
    "  <td>yes</td> \n",
    "  <td>no</td> \n",
    "</tr>\n",
    "<tr>\n",
    "  <td rowspan=\"2\" align=\"center\">VvaultRNA</td> \n",
    "  <td rowspan=\"2\" align=\"center\">Short non coding RNA genes that form part of the vault ribonucleoprotein complex</td>\n",
    "  <td>gene</td> \n",
    "  <td>yes</td> \n",
    "  <td>no</td> \n",
    "  <td>no</td>\n",
    "</tr>\n",
    "  <td>transcript</td> \n",
    "  <td>yes</td> \n",
    "  <td>no</td> \n",
    "  <td>no</td> \n",
    "</tr>\n",
    "</table> \n",
    "\n",
    "\n",
    "<br>\n",
    "\n",
    "**Output:** This script downloads and saves the following data:  \n",
    "- Human Ensembl Gene Set ➞ [`Homo_sapiens.GRCh38.99.gtf`](ftp://ftp.ensembl.org/pub/release-99/gtf/homo_sapiens/Homo_sapiens.GRCh38.99.gtf.gz)\n",
    "- Human Ensembl-UniProt Identifiers ➞ [`Homo_sapiens.GRCh38.98.uniprot.tsv`](ftp://ftp.ensembl.org/pub/release-99/tsv/homo_sapiens/Homo_sapiens.GRCh38.99.entrez.tsv.gzv) \n",
    "- Human Ensembl-Entrez Identifiers ➞ [`Homo_sapiens.GRCh38.98.entrez.tsv`](ftp://ftp.ensembl.org/pub/release-98/tsv/homo_sapiens/Homo_sapiens.GRCh38.98.entrez.tsv.gz) \n",
    "- Human Gene Identifiers ➞ [`Homo_sapiens.gene_info`](ftp://ftp.ncbi.nih.gov/gene/DATA/GENE_INFO/Mammalia/Homo_sapiens.gene_info.gz), [`hgnc_complete_set.txt`](ftp://ftp.ebi.ac.uk/pub/databases/genenames/new/tsv/hgnc_complete_set.txt)  \n",
    "- Human Protein Identifiers ➞ [`promapping.txt`](https://proconsortium.org/download/current/promapping.txt)  \n",
    "- UniProt Identifiers ➞ [`uniprot_identifier_mapping.tab`](https://www.uniprot.org/uniprot/?query=&fil=organism%3A%22Homo%20sapiens%20(Human)%20%5B9606%5D%22&columns=id%2Cdatabase(GeneID)%2Cdatabase(Ensembl)%2Cdatabase(HGNC)%2Cgenes(PREFERRED)%2Cgenes(ALTERNATIVE))\n",
    "\n",
    "_All Merged Data Sets:  \n",
    "- [`Merged_Human_Ensembl_Entrez_HGNC_Uniprot_Identifiers.txt`](https://www.dropbox.com/s/qnxqnm88rqcerh9/Merged_Human_Ensembl_Entrez_HGNC_Uniprot_Identifiers.txt?dl=1)  \n",
    "- [`Merged_gene_rna_protein_identifiers.pkl`](https://www.dropbox.com/s/6idnt7b3i322hlh/Merged_gene_rna_protein_identifiers.pkl?dl=1)  \n",
    "\n",
    "***"
   ]
  },
  {
   "cell_type": "markdown",
   "metadata": {},
   "source": [
    "<br>"
   ]
  },
  {
   "cell_type": "markdown",
   "metadata": {},
   "source": [
    "***\n",
    "**HGNC Data** \n",
    "\n",
    "_Human Gene Set Data_ - `hgnc_complete_set.txt`"
   ]
  },
  {
   "cell_type": "code",
   "execution_count": 3,
   "metadata": {},
   "outputs": [
    {
     "name": "stdout",
     "output_type": "stream",
     "text": [
      "Downloading Data from FTP Server: ftp://ftp.ebi.ac.uk/pub/databases/genenames/new/tsv/hgnc_complete_set.txt\n"
     ]
    }
   ],
   "source": [
    "url = 'ftp://ftp.ebi.ac.uk/pub/databases/genenames/new/tsv/hgnc_complete_set.txt'\n",
    "data_downloader(url, unprocessed_data_location)"
   ]
  },
  {
   "cell_type": "code",
   "execution_count": 4,
   "metadata": {},
   "outputs": [],
   "source": [
    "hgnc = pandas.read_csv(unprocessed_data_location + 'hgnc_complete_set.txt',\n",
    "                       header=0,\n",
    "                       delimiter='\\t',\n",
    "                       low_memory=False)"
   ]
  },
  {
   "cell_type": "markdown",
   "metadata": {},
   "source": [
    "_Preprocess Data_  \n",
    "Data file needs to be lightly cleaned before it can be merged with other data. This light cleaning includes renaming columns, replacing `NaN` with `None`, updating data types (i.e. making all columns type `str`), and unnesting `|` delimited data. The final step is to update the gene_type variable such that each of the variable values is re-grouped to be protein-coding, other or ncRNA."
   ]
  },
  {
   "cell_type": "code",
   "execution_count": 5,
   "metadata": {},
   "outputs": [
    {
     "data": {
      "text/html": [
       "<div>\n",
       "<style scoped>\n",
       "    .dataframe tbody tr th:only-of-type {\n",
       "        vertical-align: middle;\n",
       "    }\n",
       "\n",
       "    .dataframe tbody tr th {\n",
       "        vertical-align: top;\n",
       "    }\n",
       "\n",
       "    .dataframe thead th {\n",
       "        text-align: right;\n",
       "    }\n",
       "</style>\n",
       "<table border=\"1\" class=\"dataframe\">\n",
       "  <thead>\n",
       "    <tr style=\"text-align: right;\">\n",
       "      <th></th>\n",
       "      <th>hgnc_id</th>\n",
       "      <th>entrez_id</th>\n",
       "      <th>ensembl_gene_id</th>\n",
       "      <th>uniprot_id</th>\n",
       "      <th>symbol</th>\n",
       "      <th>hgnc_gene_type</th>\n",
       "      <th>name</th>\n",
       "      <th>map_location</th>\n",
       "      <th>synonyms</th>\n",
       "      <th>master_gene_type</th>\n",
       "    </tr>\n",
       "  </thead>\n",
       "  <tbody>\n",
       "    <tr>\n",
       "      <th>0</th>\n",
       "      <td>5</td>\n",
       "      <td>1</td>\n",
       "      <td>ENSG00000121410</td>\n",
       "      <td>P04217</td>\n",
       "      <td>A1BG</td>\n",
       "      <td>protein-coding</td>\n",
       "      <td>None</td>\n",
       "      <td>19q13.43</td>\n",
       "      <td>None</td>\n",
       "      <td>protein-coding</td>\n",
       "    </tr>\n",
       "    <tr>\n",
       "      <th>1</th>\n",
       "      <td>37133</td>\n",
       "      <td>503538</td>\n",
       "      <td>ENSG00000268895</td>\n",
       "      <td>None</td>\n",
       "      <td>A1BG-AS1</td>\n",
       "      <td>lncRNA</td>\n",
       "      <td>None</td>\n",
       "      <td>19q13.43</td>\n",
       "      <td>None</td>\n",
       "      <td>ncRNA</td>\n",
       "    </tr>\n",
       "    <tr>\n",
       "      <th>2</th>\n",
       "      <td>24086</td>\n",
       "      <td>29974</td>\n",
       "      <td>ENSG00000148584</td>\n",
       "      <td>Q9NQ94</td>\n",
       "      <td>A1CF</td>\n",
       "      <td>protein-coding</td>\n",
       "      <td>None</td>\n",
       "      <td>10q11.23</td>\n",
       "      <td>None</td>\n",
       "      <td>protein-coding</td>\n",
       "    </tr>\n",
       "  </tbody>\n",
       "</table>\n",
       "</div>"
      ],
      "text/plain": [
       "  hgnc_id entrez_id  ensembl_gene_id uniprot_id    symbol  hgnc_gene_type  \\\n",
       "0       5         1  ENSG00000121410     P04217      A1BG  protein-coding   \n",
       "1   37133    503538  ENSG00000268895       None  A1BG-AS1          lncRNA   \n",
       "2   24086     29974  ENSG00000148584     Q9NQ94      A1CF  protein-coding   \n",
       "\n",
       "   name map_location synonyms master_gene_type  \n",
       "0  None     19q13.43     None   protein-coding  \n",
       "1  None     19q13.43     None            ncRNA  \n",
       "2  None     10q11.23     None   protein-coding  "
      ]
     },
     "execution_count": 5,
     "metadata": {},
     "output_type": "execute_result"
    }
   ],
   "source": [
    "# remove all rows thave don't have 'approved' status\n",
    "hgnc = hgnc.loc[hgnc['status'].apply(lambda x: x == 'Approved')]\n",
    "\n",
    "# drop uneeded columns\n",
    "hgnc = hgnc[['hgnc_id', 'entrez_id', 'ensembl_gene_id', 'uniprot_ids', 'symbol', 'locus_type',\n",
    "             'alias_symbol', 'name', 'location', 'alias_name']]\n",
    "\n",
    "# rename columns\n",
    "hgnc.rename(columns={'uniprot_ids': 'uniprot_id', 'location': 'map_location', 'locus_type': 'hgnc_gene_type'}, inplace=True)\n",
    "\n",
    "# strip 'HGNC' off of the identifiers\n",
    "hgnc['hgnc_id'].replace('.*\\:','', inplace=True, regex=True)\n",
    "\n",
    "# combine certain columns into single column\n",
    "hgnc['name'] = hgnc['name'] + '|' + hgnc['alias_name']\n",
    "hgnc['synonyms'] = hgnc['alias_symbol'] + '|' + hgnc['alias_name']\n",
    "\n",
    "# replace NaN with 'None'\n",
    "hgnc.fillna('None', inplace=True)\n",
    "\n",
    "# make data columns of type string\n",
    "hgnc['entrez_id'] = hgnc['entrez_id'].apply(lambda x: str(int(x)) if x != 'None' else 'None')\n",
    "\n",
    "# explode nested data\n",
    "explode_df_hgnc = explodes_data(hgnc.copy(), ['ensembl_gene_id', 'uniprot_id', 'symbol', 'name'], '|')\n",
    "\n",
    "# reformat hgnc gene type\n",
    "explode_df_hgnc['hgnc_gene_type'].replace('region', 'biological region', inplace=True, regex=False)\n",
    "explode_df_hgnc['hgnc_gene_type'].replace('complex locus constituent', 'complex locus constituent', inplace=True, regex=False)\n",
    "explode_df_hgnc['hgnc_gene_type'].replace('endogenous retrovirus', 'endogenous retrovirus', inplace=True, regex=False)\n",
    "explode_df_hgnc['hgnc_gene_type'].replace('fragile site', 'fragile site', inplace=True, regex=False)\n",
    "explode_df_hgnc['hgnc_gene_type'].replace('immunoglobulin gene', 'IG_gene', inplace=True, regex=False)\n",
    "explode_df_hgnc['hgnc_gene_type'].replace('immunoglobulin pseudogene', 'IG_pseudogene', inplace=True, regex=False)\n",
    "explode_df_hgnc['hgnc_gene_type'].replace('RNA, long non-coding', 'lncRNA', inplace=True, regex=False)\n",
    "explode_df_hgnc['hgnc_gene_type'].replace('RNA, micro', 'miRNA', inplace=True, regex=False)\n",
    "explode_df_hgnc['hgnc_gene_type'].replace('RNA, misc', 'miscRNA', inplace=True, regex=False)\n",
    "explode_df_hgnc['hgnc_gene_type'].replace('phenotype only', 'phenotype only', inplace=True, regex=False)\n",
    "explode_df_hgnc['hgnc_gene_type'].replace('gene with protein product', 'protein-coding', inplace=True, regex=False)\n",
    "explode_df_hgnc['hgnc_gene_type'].replace('protocadherin', 'protocadherin', inplace=True, regex=False)\n",
    "explode_df_hgnc['hgnc_gene_type'].replace('pseudogene', 'pseudogene', inplace=True, regex=False)\n",
    "explode_df_hgnc['hgnc_gene_type'].replace('readthrough', 'readthrough', inplace=True, regex=False)\n",
    "explode_df_hgnc['hgnc_gene_type'].replace('RNA, ribosomal', 'rRNA', inplace=True, regex=False)\n",
    "explode_df_hgnc['hgnc_gene_type'].replace('RNA, small nucleolar', 'snoRNA', inplace=True, regex=False)\n",
    "explode_df_hgnc['hgnc_gene_type'].replace('RNA, small nuclear', 'snRNA', inplace=True, regex=False)\n",
    "explode_df_hgnc['hgnc_gene_type'].replace('RNA, cluster', 'sRNA', inplace=True, regex=False)\n",
    "explode_df_hgnc['hgnc_gene_type'].replace('T cell receptor gene', 'TR_gene', inplace=True, regex=False)\n",
    "explode_df_hgnc['hgnc_gene_type'].replace('T cell receptor pseudogene', 'TR_pseudogene', inplace=True, regex=False)\n",
    "explode_df_hgnc['hgnc_gene_type'].replace('transposable element', 'transposable element', inplace=True, regex=False)\n",
    "explode_df_hgnc['hgnc_gene_type'].replace('RNA, transfer', 'tRNA', inplace=True, regex=False)\n",
    "explode_df_hgnc['hgnc_gene_type'].replace('unknown', 'unknown', inplace=True, regex=False)\n",
    "explode_df_hgnc['hgnc_gene_type'].replace('RNA, vault', 'vaultRNA', inplace=True, regex=False)\n",
    "explode_df_hgnc['hgnc_gene_type'].replace('virus integration site', 'virus integration site', inplace=True, regex=False)\n",
    "explode_df_hgnc['hgnc_gene_type'].replace('RNA, Y', 'Y RNA', inplace=True, regex=False)\n",
    "\n",
    "# master gene type\n",
    "explode_df_hgnc['master_gene_type'] = explode_df_hgnc['hgnc_gene_type']\n",
    "explode_df_hgnc['master_gene_type'].replace('biological region', 'other', inplace=True, regex=False)\n",
    "explode_df_hgnc['master_gene_type'].replace('complex locus constituent', 'other', inplace=True, regex=False)\n",
    "explode_df_hgnc['master_gene_type'].replace('endogenous retrovirus', 'other', inplace=True, regex=False)\n",
    "explode_df_hgnc['master_gene_type'].replace('fragile site', 'other', inplace=True, regex=False)\n",
    "explode_df_hgnc['master_gene_type'].replace('IG_gene', 'other', inplace=True, regex=False)\n",
    "explode_df_hgnc['master_gene_type'].replace('IG_pseudogene', 'pseudogene', inplace=True, regex=False)\n",
    "explode_df_hgnc['master_gene_type'].replace('lncRNA', 'ncRNA', inplace=True, regex=False)\n",
    "explode_df_hgnc['master_gene_type'].replace('miRNA', 'ncRNA', inplace=True, regex=False)\n",
    "explode_df_hgnc['master_gene_type'].replace('miscRNA', 'ncRNA', inplace=True, regex=False)\n",
    "explode_df_hgnc['master_gene_type'].replace('phenotype only', 'other', inplace=True, regex=False)\n",
    "explode_df_hgnc['master_gene_type'].replace('protocadherin', 'other', inplace=True, regex=False)\n",
    "explode_df_hgnc['master_gene_type'].replace('readthrough', 'other', inplace=True, regex=False)\n",
    "explode_df_hgnc['master_gene_type'].replace('snoRNA', 'ncRNA', inplace=True, regex=False)\n",
    "explode_df_hgnc['master_gene_type'].replace('snRNA', 'ncRNA', inplace=True, regex=False)\n",
    "explode_df_hgnc['master_gene_type'].replace('sRNA', 'ncRNA', inplace=True, regex=False)\n",
    "explode_df_hgnc['master_gene_type'].replace('TR_gene', 'other', inplace=True, regex=False)\n",
    "explode_df_hgnc['master_gene_type'].replace('TR_pseudogene', 'pseudogene', inplace=True, regex=False)\n",
    "explode_df_hgnc['master_gene_type'].replace('transposable element', 'other', inplace=True, regex=False)\n",
    "explode_df_hgnc['master_gene_type'].replace('tRNA', 'tRNA', inplace=True, regex=False)\n",
    "explode_df_hgnc['master_gene_type'].replace('vaultRNA', 'ncRNA', inplace=True, regex=False)\n",
    "explode_df_hgnc['master_gene_type'].replace('virus integration site', 'other', inplace=True, regex=False)\n",
    "explode_df_hgnc['master_gene_type'].replace('Y RNA', 'ncRNA', inplace=True, regex=False)\n",
    "\n",
    "# remove original gene type column\n",
    "explode_df_hgnc.drop(['alias_symbol', 'alias_name'], axis=1, inplace=True)\n",
    "\n",
    "# remove duplicates\n",
    "explode_df_hgnc.drop_duplicates(subset=None, keep='first', inplace=True)\n",
    "\n",
    "# preview data\n",
    "explode_df_hgnc.head(n=3)"
   ]
  },
  {
   "cell_type": "markdown",
   "metadata": {},
   "source": [
    "<br>"
   ]
  },
  {
   "cell_type": "markdown",
   "metadata": {},
   "source": [
    "***\n",
    "***\n",
    "**Ensembl Data**"
   ]
  },
  {
   "cell_type": "markdown",
   "metadata": {},
   "source": [
    "_Human Gene Set Data_ - `Homo_sapiens.GRCh38.99.gtf.gz`"
   ]
  },
  {
   "cell_type": "code",
   "execution_count": 6,
   "metadata": {},
   "outputs": [
    {
     "name": "stdout",
     "output_type": "stream",
     "text": [
      "Downloading Gzipped data from FTP Server: ftp://ftp.ensembl.org/pub/release-99/gtf/homo_sapiens/Homo_sapiens.GRCh38.99.gtf.gz\n",
      "Decompressing and Writing Gzipped Data to File\n"
     ]
    }
   ],
   "source": [
    "url = 'ftp://ftp.ensembl.org/pub/release-99/gtf/homo_sapiens/Homo_sapiens.GRCh38.99.gtf.gz'\n",
    "data_downloader(url, unprocessed_data_location)"
   ]
  },
  {
   "cell_type": "code",
   "execution_count": 7,
   "metadata": {},
   "outputs": [],
   "source": [
    "ensembl_geneset = pandas.read_csv(unprocessed_data_location + 'Homo_sapiens.GRCh38.99.gtf',\n",
    "                                  header = None,\n",
    "                                  delimiter='\\t',\n",
    "                                  skiprows=5,\n",
    "                                  low_memory=False)"
   ]
  },
  {
   "cell_type": "markdown",
   "metadata": {},
   "source": [
    "_Preprocess Data_  \n",
    "Data file needs to be reformatted in order for it to be able to be merged with the other gene, RNA, and protein identifier data. To do this, we iterate over each row of the data and extract the fields shown below in `column_names`, making each of these extracted fields their own column. The final step is to update the gene_type variable such that each of the variable values is re-grouped to be `protein-coding`, `other` or `ncRNA`."
   ]
  },
  {
   "cell_type": "code",
   "execution_count": 8,
   "metadata": {},
   "outputs": [
    {
     "name": "stderr",
     "output_type": "stream",
     "text": [
      "100%|██████████| 2905054/2905054 [03:02<00:00, 15887.25it/s]\n"
     ]
    },
    {
     "data": {
      "text/html": [
       "<div>\n",
       "<style scoped>\n",
       "    .dataframe tbody tr th:only-of-type {\n",
       "        vertical-align: middle;\n",
       "    }\n",
       "\n",
       "    .dataframe tbody tr th {\n",
       "        vertical-align: top;\n",
       "    }\n",
       "\n",
       "    .dataframe thead th {\n",
       "        text-align: right;\n",
       "    }\n",
       "</style>\n",
       "<table border=\"1\" class=\"dataframe\">\n",
       "  <thead>\n",
       "    <tr style=\"text-align: right;\">\n",
       "      <th></th>\n",
       "      <th>ensembl_gene_id</th>\n",
       "      <th>transcript_stable_id</th>\n",
       "      <th>symbol</th>\n",
       "      <th>ensembl_gene_type</th>\n",
       "      <th>transcript_name</th>\n",
       "      <th>ensembl_transcript_type</th>\n",
       "      <th>master_gene_type</th>\n",
       "      <th>master_transcript_type</th>\n",
       "    </tr>\n",
       "  </thead>\n",
       "  <tbody>\n",
       "    <tr>\n",
       "      <th>0</th>\n",
       "      <td>ENSG00000223972</td>\n",
       "      <td>None</td>\n",
       "      <td>DDX11L1</td>\n",
       "      <td>transcribed_unprocessed_pseudogene</td>\n",
       "      <td>None</td>\n",
       "      <td>None</td>\n",
       "      <td>pseudogene</td>\n",
       "      <td>not protein-coding</td>\n",
       "    </tr>\n",
       "    <tr>\n",
       "      <th>1</th>\n",
       "      <td>ENSG00000223972</td>\n",
       "      <td>ENST00000456328</td>\n",
       "      <td>DDX11L1</td>\n",
       "      <td>transcribed_unprocessed_pseudogene</td>\n",
       "      <td>DDX11L1-202</td>\n",
       "      <td>processed_transcript</td>\n",
       "      <td>pseudogene</td>\n",
       "      <td>protein-coding</td>\n",
       "    </tr>\n",
       "    <tr>\n",
       "      <th>5</th>\n",
       "      <td>ENSG00000223972</td>\n",
       "      <td>ENST00000450305</td>\n",
       "      <td>DDX11L1</td>\n",
       "      <td>transcribed_unprocessed_pseudogene</td>\n",
       "      <td>DDX11L1-201</td>\n",
       "      <td>transcribed_unprocessed_pseudogene</td>\n",
       "      <td>pseudogene</td>\n",
       "      <td>not protein-coding</td>\n",
       "    </tr>\n",
       "  </tbody>\n",
       "</table>\n",
       "</div>"
      ],
      "text/plain": [
       "   ensembl_gene_id transcript_stable_id   symbol  \\\n",
       "0  ENSG00000223972                 None  DDX11L1   \n",
       "1  ENSG00000223972      ENST00000456328  DDX11L1   \n",
       "5  ENSG00000223972      ENST00000450305  DDX11L1   \n",
       "\n",
       "                    ensembl_gene_type transcript_name  \\\n",
       "0  transcribed_unprocessed_pseudogene            None   \n",
       "1  transcribed_unprocessed_pseudogene     DDX11L1-202   \n",
       "5  transcribed_unprocessed_pseudogene     DDX11L1-201   \n",
       "\n",
       "              ensembl_transcript_type master_gene_type master_transcript_type  \n",
       "0                                None       pseudogene     not protein-coding  \n",
       "1                processed_transcript       pseudogene         protein-coding  \n",
       "5  transcribed_unprocessed_pseudogene       pseudogene     not protein-coding  "
      ]
     },
     "execution_count": 8,
     "metadata": {},
     "output_type": "execute_result"
    }
   ],
   "source": [
    "# set list of data items to extract from column string\n",
    "data_cols = ['gene_id', 'transcript_id', 'gene_name', 'gene_biotype', 'transcript_name', 'transcript_biotype']\n",
    "\n",
    "# loop over items contained in the string of column 8\n",
    "cleaned_column = []\n",
    "\n",
    "for data_list in tqdm(list(ensembl_geneset[8])):\n",
    "    data_list = data_list if not data_list.endswith(';') else data_list[:-1]\n",
    "    temp_data = [data_list.split('; ')[[x.split(' ')[0] for x in data_list.split('; ')].index(col)] if col in data_list else col + ' None' for col in data_cols]\n",
    "    cleaned_column.append(temp_data) \n",
    "\n",
    "# update columns\n",
    "ensembl_geneset['ensembl_gene_id'] = [x[0].split(' ')[-1].replace('\"', '') for x in cleaned_column]\n",
    "ensembl_geneset['transcript_stable_id'] = [x[1].split(' ')[-1].replace('\"', '') for x in cleaned_column]\n",
    "ensembl_geneset['symbol'] = [x[2].split(' ')[-1].replace('\"', '') for x in cleaned_column]\n",
    "ensembl_geneset['ensembl_gene_type'] = [x[3].split(' ')[-1].replace('\"', '') for x in cleaned_column]\n",
    "ensembl_geneset['transcript_name'] = [x[4].split(' ')[-1].replace('\"', '') for x in cleaned_column]\n",
    "ensembl_geneset['ensembl_transcript_type'] = [x[5].split(' ')[-1].replace('\"', '') for x in cleaned_column]\n",
    "\n",
    "# replace NaN with 'None'\n",
    "ensembl_geneset.fillna('None', inplace=True)\n",
    "\n",
    "# reformat ensembl gene type\n",
    "ensembl_geneset['ensembl_gene_type'].replace('misc_RNA', 'miscRNA', inplace=True, regex=False)\n",
    "ensembl_geneset['ensembl_gene_type'].replace('TEC', 'protein-coding', inplace=True, regex=False)\n",
    "ensembl_geneset['ensembl_gene_type'].replace('protein_coding', 'protein-coding', inplace=True, regex=False)\n",
    "\n",
    "# reformat master gene type\n",
    "ensembl_geneset['master_gene_type'] = ensembl_geneset['ensembl_gene_type']\n",
    "ensembl_geneset['master_gene_type'].replace('IG_C_gene', 'other', inplace=True, regex=False)\n",
    "ensembl_geneset['master_gene_type'].replace('IG_C_pseudogene', 'pseudogene', inplace=True, regex=False)\n",
    "ensembl_geneset['master_gene_type'].replace('IG_D_gene', 'other', inplace=True, regex=False)\n",
    "ensembl_geneset['master_gene_type'].replace('IG_J_gene', 'other', inplace=True, regex=False)\n",
    "ensembl_geneset['master_gene_type'].replace('IG_J_pseudogene', 'pseudogene', inplace=True, regex=False)\n",
    "ensembl_geneset['master_gene_type'].replace('IG_pseudogene', 'pseudogene', inplace=True, regex=False)\n",
    "ensembl_geneset['master_gene_type'].replace('IG_V_gene', 'other', inplace=True, regex=False)\n",
    "ensembl_geneset['master_gene_type'].replace('IG_V_pseudogene', 'pseudogene', inplace=True, regex=False)\n",
    "ensembl_geneset['master_gene_type'].replace('lncRNA', 'ncRNA', inplace=True, regex=False)\n",
    "ensembl_geneset['master_gene_type'].replace('miRNA', 'ncRNA', inplace=True, regex=False)\n",
    "ensembl_geneset['master_gene_type'].replace('miscRNA', 'ncRNA', inplace=True, regex=False)\n",
    "ensembl_geneset['master_gene_type'].replace('Mt_rRNA', 'rRNA', inplace=True, regex=False)\n",
    "ensembl_geneset['master_gene_type'].replace('Mt_tRNA', 'tRNA', inplace=True, regex=False)\n",
    "ensembl_geneset['master_gene_type'].replace('polymorphic_pseudogene', 'pseudogene', inplace=True, regex=False)\n",
    "ensembl_geneset['master_gene_type'].replace('processed_pseudogene', 'pseudogene', inplace=True, regex=False)\n",
    "ensembl_geneset['master_gene_type'].replace('ribozyme', 'other', inplace=True, regex=False)\n",
    "ensembl_geneset['master_gene_type'].replace('rRNA_pseudogene', 'pseudogene', inplace=True, regex=False)\n",
    "ensembl_geneset['master_gene_type'].replace('scaRNA', 'ncRNA', inplace=True, regex=False)\n",
    "ensembl_geneset['master_gene_type'].replace('scRNA', 'ncRNA', inplace=True, regex=False)\n",
    "ensembl_geneset['master_gene_type'].replace('snoRNA', 'ncRNA', inplace=True, regex=False)\n",
    "ensembl_geneset['master_gene_type'].replace('snRNA', 'ncRNA', inplace=True, regex=False)\n",
    "ensembl_geneset['master_gene_type'].replace('sRNA', 'ncRNA', inplace=True, regex=False)\n",
    "ensembl_geneset['master_gene_type'].replace('TR_C_gene', 'other', inplace=True, regex=False)\n",
    "ensembl_geneset['master_gene_type'].replace('TR_D_gene', 'other', inplace=True, regex=False)\n",
    "ensembl_geneset['master_gene_type'].replace('TR_J_gene', 'other', inplace=True, regex=False)\n",
    "ensembl_geneset['master_gene_type'].replace('TR_J_pseudogene', 'pseudogene', inplace=True, regex=False)\n",
    "ensembl_geneset['master_gene_type'].replace('TR_V_gene', 'other', inplace=True, regex=False)\n",
    "ensembl_geneset['master_gene_type'].replace('TR_V_pseudogene', 'pseudogene', inplace=True, regex=False)\n",
    "ensembl_geneset['master_gene_type'].replace('transcribed_processed_pseudogene', 'pseudogene', inplace=True, regex=False)\n",
    "ensembl_geneset['master_gene_type'].replace('transcribed_unitary_pseudogene', 'pseudogene', inplace=True, regex=False)\n",
    "ensembl_geneset['master_gene_type'].replace('transcribed_unprocessed_pseudogene', 'pseudogene', inplace=True, regex=False)\n",
    "ensembl_geneset['master_gene_type'].replace('translated_processed_pseudogene', 'pseudogene', inplace=True, regex=False)\n",
    "ensembl_geneset['master_gene_type'].replace('translated_unprocessed_pseudogene', 'pseudogene', inplace=True, regex=False)\n",
    "ensembl_geneset['master_gene_type'].replace('unitary_pseudogene', 'pseudogene', inplace=True, regex=False)\n",
    "ensembl_geneset['master_gene_type'].replace('unprocessed_pseudogene', 'pseudogene', inplace=True, regex=False)\n",
    "ensembl_geneset['master_gene_type'].replace('vaultRNA', 'ncRNA', inplace=True, regex=False)\n",
    "\n",
    "# reformat master transcript type\n",
    "ensembl_geneset['master_transcript_type'] = ensembl_geneset['ensembl_transcript_type']\n",
    "ensembl_geneset['master_transcript_type'].replace('IG_C_gene', 'protein-coding', inplace=True, regex=False)\n",
    "ensembl_geneset['master_transcript_type'].replace('IG_C_pseudogene', 'protein-coding', inplace=True, regex=False)\n",
    "ensembl_geneset['master_transcript_type'].replace('IG_D_gene', 'protein-coding', inplace=True, regex=False)\n",
    "ensembl_geneset['master_transcript_type'].replace('IG_J_gene', 'protein-coding', inplace=True, regex=False)\n",
    "ensembl_geneset['master_transcript_type'].replace('IG_J_pseudogene', 'protein-coding', inplace=True, regex=False)\n",
    "ensembl_geneset['master_transcript_type'].replace('IG_pseudogene', 'protein-coding', inplace=True, regex=False)\n",
    "ensembl_geneset['master_transcript_type'].replace('IG_V_gene', 'protein-coding', inplace=True, regex=False)\n",
    "ensembl_geneset['master_transcript_type'].replace('IG_V_pseudogene', 'protein-coding', inplace=True, regex=False)\n",
    "ensembl_geneset['master_transcript_type'].replace('lncRNA', 'not protein-coding', inplace=True, regex=False)\n",
    "ensembl_geneset['master_transcript_type'].replace('miRNA', 'not protein-coding', inplace=True, regex=False)\n",
    "ensembl_geneset['master_transcript_type'].replace('misc_RNA', 'not protein-coding', inplace=True, regex=False)\n",
    "ensembl_geneset['master_transcript_type'].replace('Mt_rRNA', 'not protein-coding', inplace=True, regex=False)\n",
    "ensembl_geneset['master_transcript_type'].replace('Mt_tRNA', 'not protein-coding', inplace=True, regex=False)\n",
    "ensembl_geneset['master_transcript_type'].replace('non_stop_decay', 'not protein-coding', inplace=True, regex=False)\n",
    "ensembl_geneset['master_transcript_type'].replace('None', 'not protein-coding', inplace=True, regex=False)\n",
    "ensembl_geneset['master_transcript_type'].replace('nonsense_mediated_decay', 'protein-coding', inplace=True, regex=False)\n",
    "ensembl_geneset['master_transcript_type'].replace('polymorphic_pseudogene', 'protein-coding', inplace=True, regex=False)\n",
    "ensembl_geneset['master_transcript_type'].replace('processed_pseudogene', 'protein-coding', inplace=True, regex=False)\n",
    "ensembl_geneset['master_transcript_type'].replace('processed_transcript', 'protein-coding', inplace=True, regex=False)\n",
    "ensembl_geneset['master_transcript_type'].replace('protein_coding', 'protein-coding', inplace=True, regex=False)\n",
    "ensembl_geneset['master_transcript_type'].replace('pseudogene', 'protein-coding', inplace=True, regex=False)\n",
    "ensembl_geneset['master_transcript_type'].replace('retained_intron', 'protein-coding', inplace=True, regex=False)\n",
    "ensembl_geneset['master_transcript_type'].replace('ribozyme', 'protein-coding', inplace=True, regex=False)\n",
    "ensembl_geneset['master_transcript_type'].replace('rRNA', 'not protein-coding', inplace=True, regex=False)\n",
    "ensembl_geneset['master_transcript_type'].replace('rRNA_pseudogene', 'protein-coding', inplace=True, regex=False)\n",
    "ensembl_geneset['master_transcript_type'].replace('scaRNA', 'not protein-coding', inplace=True, regex=False)\n",
    "ensembl_geneset['master_transcript_type'].replace('scRNA', 'not protein-coding', inplace=True, regex=False)\n",
    "ensembl_geneset['master_transcript_type'].replace('snoRNA', 'not protein-coding', inplace=True, regex=False)\n",
    "ensembl_geneset['master_transcript_type'].replace('snRNA', 'not protein-coding', inplace=True, regex=False)\n",
    "ensembl_geneset['master_transcript_type'].replace('sRNA', 'not protein-coding', inplace=True, regex=False)\n",
    "ensembl_geneset['master_transcript_type'].replace('TEC', 'protein-coding', inplace=True, regex=False)\n",
    "ensembl_geneset['master_transcript_type'].replace('TR_C_gene', 'protein-coding', inplace=True, regex=False)\n",
    "ensembl_geneset['master_transcript_type'].replace('TR_D_gene', 'protein-coding', inplace=True, regex=False)\n",
    "ensembl_geneset['master_transcript_type'].replace('TR_J_gene', 'protein-coding', inplace=True, regex=False)\n",
    "ensembl_geneset['master_transcript_type'].replace('TR_J_pseudogene', 'protein-coding', inplace=True, regex=False)\n",
    "ensembl_geneset['master_transcript_type'].replace('TR_V_gene', 'protein-coding', inplace=True, regex=False)\n",
    "ensembl_geneset['master_transcript_type'].replace('TR_V_pseudogene', 'protein-coding', inplace=True, regex=False)\n",
    "ensembl_geneset['master_transcript_type'].replace('transcribed_processed_pseudogene', 'not protein-coding', inplace=True, regex=False)\n",
    "ensembl_geneset['master_transcript_type'].replace('transcribed_unitary_pseudogene', 'not protein-coding', inplace=True, regex=False)\n",
    "ensembl_geneset['master_transcript_type'].replace('transcribed_unprocessed_pseudogene', 'not protein-coding', inplace=True, regex=False)\n",
    "ensembl_geneset['master_transcript_type'].replace('translated_processed_pseudogene', 'protein-coding', inplace=True, regex=False)\n",
    "ensembl_geneset['master_transcript_type'].replace('translated_unprocessed_pseudogene', 'protein-coding', inplace=True, regex=False)\n",
    "ensembl_geneset['master_transcript_type'].replace('unitary_pseudogene', 'protein-coding', inplace=True, regex=False)\n",
    "ensembl_geneset['master_transcript_type'].replace('unprocessed_pseudogene', 'protein-coding', inplace=True, regex=False)\n",
    "ensembl_geneset['master_transcript_type'].replace('vaultRNA', 'not protein-coding', inplace=True, regex=False)\n",
    "ensembl_geneset['master_transcript_type'].replace('unknown', 'not protein-coding', inplace=True, regex=False)\n",
    "\n",
    "# remove uneeded columns\n",
    "ensembl_geneset.drop(list(range(9)), axis=1, inplace=True)\n",
    "\n",
    "# remove duplicates\n",
    "ensembl_geneset.drop_duplicates(subset=None, keep='first', inplace=True)\n",
    "\n",
    "# preview data\n",
    "ensembl_geneset.head(n=3)"
   ]
  },
  {
   "cell_type": "markdown",
   "metadata": {},
   "source": [
    "<br>"
   ]
  },
  {
   "cell_type": "markdown",
   "metadata": {},
   "source": [
    "***\n",
    "**Ensembl Annotation Data**"
   ]
  },
  {
   "cell_type": "markdown",
   "metadata": {},
   "source": [
    "_Ensembl-UniProt_ - `Homo_sapiens.GRCh38.98.uniprot.tsv`  \n",
    "Once the main ensembl gene set has been read in, the next step is to read in the `ensembl-uniprot` mapping file. These files are vital for successfully merging the ensembl identifiers with the uniprot data set."
   ]
  },
  {
   "cell_type": "code",
   "execution_count": 9,
   "metadata": {},
   "outputs": [
    {
     "name": "stdout",
     "output_type": "stream",
     "text": [
      "Downloading Gzipped data from FTP Server: ftp://ftp.ensembl.org/pub/release-99/tsv/homo_sapiens/Homo_sapiens.GRCh38.99.uniprot.tsv.gz\n",
      "Decompressing and Writing Gzipped Data to File\n"
     ]
    }
   ],
   "source": [
    "url_uniprot = 'ftp://ftp.ensembl.org/pub/release-99/tsv/homo_sapiens/Homo_sapiens.GRCh38.99.uniprot.tsv.gz'\n",
    "data_downloader(url_uniprot, unprocessed_data_location)"
   ]
  },
  {
   "cell_type": "code",
   "execution_count": 10,
   "metadata": {},
   "outputs": [],
   "source": [
    "ensembl_uniprot = pandas.read_csv(unprocessed_data_location + 'Homo_sapiens.GRCh38.99.uniprot.tsv',\n",
    "                                  header=0,\n",
    "                                  delimiter='\\t',\n",
    "                                  low_memory=False)\n",
    "\n",
    "# rename columns\n",
    "ensembl_uniprot.rename(columns={'xref': 'uniprot_id', 'gene_stable_id': 'ensembl_gene_id'}, inplace=True)\n",
    "\n",
    "# replace \"-\"\n",
    "ensembl_uniprot.replace('-', 'None', inplace=True)\n",
    "\n",
    "# replace NaN with 'None'\n",
    "ensembl_uniprot.fillna('None', inplace=True)\n",
    "\n",
    "# remove uneeded columns\n",
    "ensembl_uniprot.drop(['db_name', 'info_type', 'source_identity', 'xref_identity', 'linkage_type'], axis=1, inplace=True)\n",
    "\n",
    "# remove duplicates\n",
    "ensembl_uniprot.drop_duplicates(subset=None, keep='first', inplace=True)"
   ]
  },
  {
   "cell_type": "markdown",
   "metadata": {},
   "source": [
    "<br>"
   ]
  },
  {
   "cell_type": "markdown",
   "metadata": {},
   "source": [
    "_Ensembl-Entrez_ - `Homo_sapiens.GRCh38.98.entrez.tsv`  \n",
    "Once the main ensembl gene set has been read in, the next step is to read in the `ensembl-entrez` mapping file. These files are vital for successfully merging the ensembl identifiers with the entrez data set."
   ]
  },
  {
   "cell_type": "code",
   "execution_count": 11,
   "metadata": {},
   "outputs": [
    {
     "name": "stdout",
     "output_type": "stream",
     "text": [
      "Downloading Gzipped data from FTP Server: ftp://ftp.ensembl.org/pub/release-99/tsv/homo_sapiens/Homo_sapiens.GRCh38.99.entrez.tsv.gz\n",
      "Decompressing and Writing Gzipped Data to File\n"
     ]
    }
   ],
   "source": [
    "url_entrez = 'ftp://ftp.ensembl.org/pub/release-99/tsv/homo_sapiens/Homo_sapiens.GRCh38.99.entrez.tsv.gz'\n",
    "data_downloader(url_entrez, unprocessed_data_location)"
   ]
  },
  {
   "cell_type": "code",
   "execution_count": 12,
   "metadata": {},
   "outputs": [],
   "source": [
    "# read in ensembl-entrez data\n",
    "ensembl_entrez = pandas.read_csv(unprocessed_data_location + 'Homo_sapiens.GRCh38.99.entrez.tsv',\n",
    "                                 header=0,\n",
    "                                 delimiter='\\t',\n",
    "                                 low_memory=False)\n",
    "\n",
    "# rename columns\n",
    "ensembl_entrez.rename(columns={'xref': 'entrez_id', 'gene_stable_id': 'ensembl_gene_id'}, inplace=True)\n",
    "\n",
    "# remove all rows that are not dbname \"EntrezGene\"\n",
    "ensembl_entrez = ensembl_entrez.loc[ensembl_entrez['db_name'].apply(lambda x: x == 'EntrezGene')]\n",
    "\n",
    "# replace \"-\"\n",
    "ensembl_entrez.replace('-', 'None', inplace=True)\n",
    "\n",
    "# replace NaN with 'None'\n",
    "ensembl_entrez.fillna('None', inplace=True)\n",
    "\n",
    "# remove uneeded columns\n",
    "ensembl_entrez.drop(['db_name', 'info_type', 'source_identity', 'xref_identity', 'linkage_type'], axis=1, inplace=True)\n",
    "\n",
    "# remove duplicates\n",
    "ensembl_entrez.drop_duplicates(subset=None, keep='first', inplace=True)"
   ]
  },
  {
   "cell_type": "markdown",
   "metadata": {},
   "source": [
    "<br>"
   ]
  },
  {
   "cell_type": "markdown",
   "metadata": {},
   "source": [
    "_Merge Annotation Data_ - `ensembl_uniprot` + `ensembl_entrez`"
   ]
  },
  {
   "cell_type": "code",
   "execution_count": 13,
   "metadata": {},
   "outputs": [
    {
     "data": {
      "text/html": [
       "<div>\n",
       "<style scoped>\n",
       "    .dataframe tbody tr th:only-of-type {\n",
       "        vertical-align: middle;\n",
       "    }\n",
       "\n",
       "    .dataframe tbody tr th {\n",
       "        vertical-align: top;\n",
       "    }\n",
       "\n",
       "    .dataframe thead th {\n",
       "        text-align: right;\n",
       "    }\n",
       "</style>\n",
       "<table border=\"1\" class=\"dataframe\">\n",
       "  <thead>\n",
       "    <tr style=\"text-align: right;\">\n",
       "      <th></th>\n",
       "      <th>ensembl_gene_id</th>\n",
       "      <th>transcript_stable_id</th>\n",
       "      <th>protein_stable_id</th>\n",
       "      <th>uniprot_id</th>\n",
       "      <th>entrez_id</th>\n",
       "    </tr>\n",
       "  </thead>\n",
       "  <tbody>\n",
       "    <tr>\n",
       "      <th>0</th>\n",
       "      <td>ENSG00000186092</td>\n",
       "      <td>ENST00000641515</td>\n",
       "      <td>ENSP00000493376</td>\n",
       "      <td>A0A2U3U0J3</td>\n",
       "      <td>79501</td>\n",
       "    </tr>\n",
       "    <tr>\n",
       "      <th>1</th>\n",
       "      <td>ENSG00000186092</td>\n",
       "      <td>ENST00000335137</td>\n",
       "      <td>ENSP00000334393</td>\n",
       "      <td>Q8NH21</td>\n",
       "      <td>79501</td>\n",
       "    </tr>\n",
       "    <tr>\n",
       "      <th>2</th>\n",
       "      <td>ENSG00000284733</td>\n",
       "      <td>ENST00000426406</td>\n",
       "      <td>ENSP00000409316</td>\n",
       "      <td>Q6IEY1</td>\n",
       "      <td>729759</td>\n",
       "    </tr>\n",
       "  </tbody>\n",
       "</table>\n",
       "</div>"
      ],
      "text/plain": [
       "   ensembl_gene_id transcript_stable_id protein_stable_id  uniprot_id  \\\n",
       "0  ENSG00000186092      ENST00000641515   ENSP00000493376  A0A2U3U0J3   \n",
       "1  ENSG00000186092      ENST00000335137   ENSP00000334393      Q8NH21   \n",
       "2  ENSG00000284733      ENST00000426406   ENSP00000409316      Q6IEY1   \n",
       "\n",
       "  entrez_id  \n",
       "0     79501  \n",
       "1     79501  \n",
       "2    729759  "
      ]
     },
     "execution_count": 13,
     "metadata": {},
     "output_type": "execute_result"
    }
   ],
   "source": [
    "ensembl_annot = pandas.merge(ensembl_uniprot,\n",
    "                             ensembl_entrez,\n",
    "                             left_on=['ensembl_gene_id', 'transcript_stable_id', 'protein_stable_id'],\n",
    "                             right_on=['ensembl_gene_id', 'transcript_stable_id', 'protein_stable_id'],\n",
    "                             how='outer')\n",
    "\n",
    "# replace NaN with 'None'\n",
    "ensembl_annot.fillna('None', inplace=True)\n",
    "\n",
    "# preview data\n",
    "ensembl_annot.head(n=3)"
   ]
  },
  {
   "cell_type": "markdown",
   "metadata": {},
   "source": [
    "<br>"
   ]
  },
  {
   "cell_type": "markdown",
   "metadata": {},
   "source": [
    "_Merge Ensembl Annotation and Gene Set Data_ - `ensembl_geneset` + `ensembl_annot`"
   ]
  },
  {
   "cell_type": "code",
   "execution_count": 14,
   "metadata": {},
   "outputs": [
    {
     "data": {
      "text/html": [
       "<div>\n",
       "<style scoped>\n",
       "    .dataframe tbody tr th:only-of-type {\n",
       "        vertical-align: middle;\n",
       "    }\n",
       "\n",
       "    .dataframe tbody tr th {\n",
       "        vertical-align: top;\n",
       "    }\n",
       "\n",
       "    .dataframe thead th {\n",
       "        text-align: right;\n",
       "    }\n",
       "</style>\n",
       "<table border=\"1\" class=\"dataframe\">\n",
       "  <thead>\n",
       "    <tr style=\"text-align: right;\">\n",
       "      <th></th>\n",
       "      <th>ensembl_gene_id</th>\n",
       "      <th>transcript_stable_id</th>\n",
       "      <th>symbol</th>\n",
       "      <th>ensembl_gene_type</th>\n",
       "      <th>transcript_name</th>\n",
       "      <th>ensembl_transcript_type</th>\n",
       "      <th>master_gene_type</th>\n",
       "      <th>master_transcript_type</th>\n",
       "      <th>protein_stable_id</th>\n",
       "      <th>uniprot_id</th>\n",
       "      <th>entrez_id</th>\n",
       "    </tr>\n",
       "  </thead>\n",
       "  <tbody>\n",
       "    <tr>\n",
       "      <th>0</th>\n",
       "      <td>ENSG00000223972</td>\n",
       "      <td>None</td>\n",
       "      <td>DDX11L1</td>\n",
       "      <td>transcribed_unprocessed_pseudogene</td>\n",
       "      <td>None</td>\n",
       "      <td>None</td>\n",
       "      <td>pseudogene</td>\n",
       "      <td>not protein-coding</td>\n",
       "      <td>None</td>\n",
       "      <td>None</td>\n",
       "      <td>None</td>\n",
       "    </tr>\n",
       "    <tr>\n",
       "      <th>1</th>\n",
       "      <td>ENSG00000223972</td>\n",
       "      <td>ENST00000456328</td>\n",
       "      <td>DDX11L1</td>\n",
       "      <td>transcribed_unprocessed_pseudogene</td>\n",
       "      <td>DDX11L1-202</td>\n",
       "      <td>processed_transcript</td>\n",
       "      <td>pseudogene</td>\n",
       "      <td>protein-coding</td>\n",
       "      <td>None</td>\n",
       "      <td>None</td>\n",
       "      <td>None</td>\n",
       "    </tr>\n",
       "    <tr>\n",
       "      <th>2</th>\n",
       "      <td>ENSG00000223972</td>\n",
       "      <td>ENST00000450305</td>\n",
       "      <td>DDX11L1</td>\n",
       "      <td>transcribed_unprocessed_pseudogene</td>\n",
       "      <td>DDX11L1-201</td>\n",
       "      <td>transcribed_unprocessed_pseudogene</td>\n",
       "      <td>pseudogene</td>\n",
       "      <td>not protein-coding</td>\n",
       "      <td>None</td>\n",
       "      <td>None</td>\n",
       "      <td>None</td>\n",
       "    </tr>\n",
       "  </tbody>\n",
       "</table>\n",
       "</div>"
      ],
      "text/plain": [
       "   ensembl_gene_id transcript_stable_id   symbol  \\\n",
       "0  ENSG00000223972                 None  DDX11L1   \n",
       "1  ENSG00000223972      ENST00000456328  DDX11L1   \n",
       "2  ENSG00000223972      ENST00000450305  DDX11L1   \n",
       "\n",
       "                    ensembl_gene_type transcript_name  \\\n",
       "0  transcribed_unprocessed_pseudogene            None   \n",
       "1  transcribed_unprocessed_pseudogene     DDX11L1-202   \n",
       "2  transcribed_unprocessed_pseudogene     DDX11L1-201   \n",
       "\n",
       "              ensembl_transcript_type master_gene_type master_transcript_type  \\\n",
       "0                                None       pseudogene     not protein-coding   \n",
       "1                processed_transcript       pseudogene         protein-coding   \n",
       "2  transcribed_unprocessed_pseudogene       pseudogene     not protein-coding   \n",
       "\n",
       "  protein_stable_id uniprot_id entrez_id  \n",
       "0              None       None      None  \n",
       "1              None       None      None  \n",
       "2              None       None      None  "
      ]
     },
     "execution_count": 14,
     "metadata": {},
     "output_type": "execute_result"
    }
   ],
   "source": [
    "ensembl = pandas.merge(ensembl_geneset,\n",
    "                       ensembl_annot,\n",
    "                       left_on = ['ensembl_gene_id', 'transcript_stable_id'],\n",
    "                       right_on = ['ensembl_gene_id', 'transcript_stable_id'],\n",
    "                       how='outer')\n",
    "\n",
    "# replace NaN with 'None'\n",
    "ensembl.fillna('None', inplace=True)\n",
    "ensembl.replace('NA','None', inplace=True, regex=False)\n",
    "\n",
    "# preview data\n",
    "ensembl.head(n=3)"
   ]
  },
  {
   "cell_type": "markdown",
   "metadata": {},
   "source": [
    "_Save Cleaned Ensembl Data_  \n",
    "Save the cleaned Ensembl data so that it can be used when generating node metadata for transcript identifiers."
   ]
  },
  {
   "cell_type": "code",
   "execution_count": 15,
   "metadata": {},
   "outputs": [],
   "source": [
    "ensembl.to_csv(processed_data_location + 'ensembl_identifier_data_cleaned.txt',\n",
    "               header=True,\n",
    "               sep='\\t',\n",
    "               index=False)"
   ]
  },
  {
   "cell_type": "markdown",
   "metadata": {},
   "source": [
    "<br>"
   ]
  },
  {
   "cell_type": "markdown",
   "metadata": {},
   "source": [
    "***\n",
    "**UniProt Data**   \n",
    "_Human Gene Set Data_ - `uniprot_identifier_mapping.tab`"
   ]
  },
  {
   "cell_type": "code",
   "execution_count": 16,
   "metadata": {},
   "outputs": [
    {
     "name": "stdout",
     "output_type": "stream",
     "text": [
      "Downloading Data from https://www.uniprot.org/uniprot/?query=&fil=organism%3A%22Homo%20sapiens%20(Human)%20%5B9606%5D%22&columns=id%2Cdatabase(GeneID)%2Cdatabase(Ensembl)%2Cdatabase(HGNC)%2Cgenes(PREFERRED)%2Cgenes(ALTERNATIVE)&format=tab\n"
     ]
    }
   ],
   "source": [
    "url = 'https://www.uniprot.org/uniprot/?query=&fil=organism%3A%22Homo%20sapiens%20(Human)%20%5B9606%5D%22&columns=id%2Cdatabase(GeneID)%2Cdatabase(Ensembl)%2Cdatabase(HGNC)%2Cgenes(PREFERRED)%2Cgenes(ALTERNATIVE)&format=tab'\n",
    "data_downloader(url, unprocessed_data_location, 'uniprot_identifier_mapping.tab')"
   ]
  },
  {
   "cell_type": "code",
   "execution_count": 17,
   "metadata": {},
   "outputs": [],
   "source": [
    "uniprot = pandas.read_csv(unprocessed_data_location + 'uniprot_identifier_mapping.tab',\n",
    "                          header=0,\n",
    "                          delimiter='\\t')"
   ]
  },
  {
   "cell_type": "markdown",
   "metadata": {},
   "source": [
    "_Preprocess Data_  \n",
    "Data file needs to be lightly cleaned before it can be merged with other data. This light cleaning includes renaming columns, replacing `NaN` with `None`, and unnesting `;` and `\" \"` delimited data."
   ]
  },
  {
   "cell_type": "code",
   "execution_count": 18,
   "metadata": {},
   "outputs": [
    {
     "data": {
      "text/html": [
       "<div>\n",
       "<style scoped>\n",
       "    .dataframe tbody tr th:only-of-type {\n",
       "        vertical-align: middle;\n",
       "    }\n",
       "\n",
       "    .dataframe tbody tr th {\n",
       "        vertical-align: top;\n",
       "    }\n",
       "\n",
       "    .dataframe thead th {\n",
       "        text-align: right;\n",
       "    }\n",
       "</style>\n",
       "<table border=\"1\" class=\"dataframe\">\n",
       "  <thead>\n",
       "    <tr style=\"text-align: right;\">\n",
       "      <th></th>\n",
       "      <th>uniprot_id</th>\n",
       "      <th>entrez_id</th>\n",
       "      <th>transcript_stable_id</th>\n",
       "      <th>hgnc_id</th>\n",
       "      <th>symbol</th>\n",
       "      <th>synonyms</th>\n",
       "    </tr>\n",
       "  </thead>\n",
       "  <tbody>\n",
       "    <tr>\n",
       "      <th>0</th>\n",
       "      <td>Q8NF67</td>\n",
       "      <td>None</td>\n",
       "      <td>None</td>\n",
       "      <td>43603</td>\n",
       "      <td>ANKRD20A12P</td>\n",
       "      <td>None</td>\n",
       "    </tr>\n",
       "    <tr>\n",
       "      <th>1</th>\n",
       "      <td>Q9NPB9</td>\n",
       "      <td>51554</td>\n",
       "      <td>ENST00000249887</td>\n",
       "      <td>1611</td>\n",
       "      <td>ACKR4</td>\n",
       "      <td>CCBP2|CCR11|CCRL1|VSHK1</td>\n",
       "    </tr>\n",
       "    <tr>\n",
       "      <th>2</th>\n",
       "      <td>P31937</td>\n",
       "      <td>11112</td>\n",
       "      <td>ENST00000265395</td>\n",
       "      <td>4907</td>\n",
       "      <td>HIBADH</td>\n",
       "      <td>None</td>\n",
       "    </tr>\n",
       "  </tbody>\n",
       "</table>\n",
       "</div>"
      ],
      "text/plain": [
       "  uniprot_id entrez_id transcript_stable_id hgnc_id       symbol  \\\n",
       "0     Q8NF67      None                 None   43603  ANKRD20A12P   \n",
       "1     Q9NPB9     51554      ENST00000249887    1611        ACKR4   \n",
       "2     P31937     11112      ENST00000265395    4907       HIBADH   \n",
       "\n",
       "                  synonyms  \n",
       "0                     None  \n",
       "1  CCBP2|CCR11|CCRL1|VSHK1  \n",
       "2                     None  "
      ]
     },
     "execution_count": 18,
     "metadata": {},
     "output_type": "execute_result"
    }
   ],
   "source": [
    "# replace NaN with 'None'\n",
    "uniprot.fillna('None', inplace=True)\n",
    "\n",
    "# rename columns\n",
    "uniprot.rename(columns={'Entry': 'uniprot_id',\n",
    "                        'Cross-reference (GeneID)': 'entrez_id',\n",
    "                        'Ensembl transcript': 'transcript_stable_id',\n",
    "                        'Cross-reference (HGNC)': 'hgnc_id',\n",
    "                        'Gene names  (synonym )': 'synonyms',\n",
    "                        'Gene names  (primary )' :'symbol'}, inplace=True)\n",
    "\n",
    "# update space-delimited synonyms to a '|'\n",
    "uniprot['synonyms'] = uniprot['synonyms'].apply(lambda x: '|'.join(x.split()) if x.isupper() else x)\n",
    "\n",
    "# explode nested data\n",
    "explode_df_uniprot = explodes_data(uniprot.copy(), ['transcript_stable_id', 'entrez_id', 'hgnc_id'], ';')\n",
    "explode_df_uniprot = explodes_data(explode_df_uniprot.copy(), ['symbol'], '|')\n",
    "\n",
    "\n",
    "# strip out uniprot names\n",
    "explode_df_uniprot['transcript_stable_id'].replace('\\s.*','', inplace=True, regex=True)\n",
    "\n",
    "# remove duplicates\n",
    "explode_df_uniprot.drop_duplicates(subset=None, keep='first', inplace=True)\n",
    "\n",
    "# preview data\n",
    "explode_df_uniprot.head(n=3)"
   ]
  },
  {
   "cell_type": "markdown",
   "metadata": {},
   "source": [
    "<br>"
   ]
  },
  {
   "cell_type": "markdown",
   "metadata": {},
   "source": [
    "***\n",
    "**NCBI Data**   \n",
    "_Human Gene Set Data_ - `Homo_sapiens.gene_info`"
   ]
  },
  {
   "cell_type": "code",
   "execution_count": 19,
   "metadata": {},
   "outputs": [
    {
     "name": "stdout",
     "output_type": "stream",
     "text": [
      "Downloading Gzipped data from FTP Server: ftp://ftp.ncbi.nih.gov/gene/DATA/GENE_INFO/Mammalia/Homo_sapiens.gene_info.gz\n",
      "Decompressing and Writing Gzipped Data to File\n"
     ]
    }
   ],
   "source": [
    "url = 'ftp://ftp.ncbi.nih.gov/gene/DATA/GENE_INFO/Mammalia/Homo_sapiens.gene_info.gz'\n",
    "data_downloader(url, unprocessed_data_location)"
   ]
  },
  {
   "cell_type": "code",
   "execution_count": 20,
   "metadata": {},
   "outputs": [
    {
     "name": "stderr",
     "output_type": "stream",
     "text": [
      "/Library/Frameworks/Python.framework/Versions/3.6/lib/python3.6/site-packages/IPython/core/interactiveshell.py:3049: DtypeWarning: Columns (14) have mixed types.Specify dtype option on import or set low_memory=False.\n",
      "  interactivity=interactivity, compiler=compiler, result=result)\n"
     ]
    }
   ],
   "source": [
    "ncbi_gene = pandas.read_csv(unprocessed_data_location + 'Homo_sapiens.gene_info',\n",
    "                            header=0,\n",
    "                            delimiter='\\t')"
   ]
  },
  {
   "cell_type": "markdown",
   "metadata": {},
   "source": [
    "_Preprocess Data_  \n",
    "Data file needs to be lightly cleaned before it can be merged with other data. This light cleaning includes renaming columns, replacing `NaN` with `None`, updating data types (i.e. making all columns type `str`), and unnesting `|` delimited data. Then, the `gene_type` variable is cleaned such that each of the variable's values are re-grouped to be `protein-coding`, `other` or `ncRNA`."
   ]
  },
  {
   "cell_type": "code",
   "execution_count": 21,
   "metadata": {},
   "outputs": [
    {
     "data": {
      "text/html": [
       "<div>\n",
       "<style scoped>\n",
       "    .dataframe tbody tr th:only-of-type {\n",
       "        vertical-align: middle;\n",
       "    }\n",
       "\n",
       "    .dataframe tbody tr th {\n",
       "        vertical-align: top;\n",
       "    }\n",
       "\n",
       "    .dataframe thead th {\n",
       "        text-align: right;\n",
       "    }\n",
       "</style>\n",
       "<table border=\"1\" class=\"dataframe\">\n",
       "  <thead>\n",
       "    <tr style=\"text-align: right;\">\n",
       "      <th></th>\n",
       "      <th>entrez_id</th>\n",
       "      <th>symbol</th>\n",
       "      <th>synonyms</th>\n",
       "      <th>chromosome</th>\n",
       "      <th>map_location</th>\n",
       "      <th>Other_designations</th>\n",
       "      <th>name</th>\n",
       "      <th>entrez_gene_type</th>\n",
       "      <th>master_gene_type</th>\n",
       "    </tr>\n",
       "  </thead>\n",
       "  <tbody>\n",
       "    <tr>\n",
       "      <th>0</th>\n",
       "      <td>1</td>\n",
       "      <td>A1BG</td>\n",
       "      <td>A1B|ABG|GAB|HYST2477</td>\n",
       "      <td>19</td>\n",
       "      <td>19q13.43</td>\n",
       "      <td>alpha-1B-glycoprotein|HEL-S-163pA|epididymis s...</td>\n",
       "      <td>alpha-1-B glycoprotein</td>\n",
       "      <td>protein-coding</td>\n",
       "      <td>protein-coding</td>\n",
       "    </tr>\n",
       "    <tr>\n",
       "      <th>4</th>\n",
       "      <td>2</td>\n",
       "      <td>A2M</td>\n",
       "      <td>A2MD|CPAMD5|FWP007|S863-7</td>\n",
       "      <td>12</td>\n",
       "      <td>12p13.31</td>\n",
       "      <td>alpha-2-macroglobulin|C3 and PZP-like alpha-2-...</td>\n",
       "      <td>alpha-2-macroglobulin</td>\n",
       "      <td>protein-coding</td>\n",
       "      <td>protein-coding</td>\n",
       "    </tr>\n",
       "    <tr>\n",
       "      <th>8</th>\n",
       "      <td>3</td>\n",
       "      <td>A2MP1</td>\n",
       "      <td>A2MP</td>\n",
       "      <td>12</td>\n",
       "      <td>12p13.31</td>\n",
       "      <td>pregnancy-zone protein pseudogene</td>\n",
       "      <td>alpha-2-macroglobulin pseudogene 1</td>\n",
       "      <td>pseudogene</td>\n",
       "      <td>pseudogene</td>\n",
       "    </tr>\n",
       "  </tbody>\n",
       "</table>\n",
       "</div>"
      ],
      "text/plain": [
       "  entrez_id symbol                   synonyms chromosome map_location  \\\n",
       "0         1   A1BG       A1B|ABG|GAB|HYST2477         19     19q13.43   \n",
       "4         2    A2M  A2MD|CPAMD5|FWP007|S863-7         12     12p13.31   \n",
       "8         3  A2MP1                       A2MP         12     12p13.31   \n",
       "\n",
       "                                  Other_designations  \\\n",
       "0  alpha-1B-glycoprotein|HEL-S-163pA|epididymis s...   \n",
       "4  alpha-2-macroglobulin|C3 and PZP-like alpha-2-...   \n",
       "8                  pregnancy-zone protein pseudogene   \n",
       "\n",
       "                                 name entrez_gene_type master_gene_type  \n",
       "0              alpha-1-B glycoprotein   protein-coding   protein-coding  \n",
       "4               alpha-2-macroglobulin   protein-coding   protein-coding  \n",
       "8  alpha-2-macroglobulin pseudogene 1       pseudogene       pseudogene  "
      ]
     },
     "execution_count": 21,
     "metadata": {},
     "output_type": "execute_result"
    }
   ],
   "source": [
    "# remove all rows that are not human\n",
    "ncbi_gene = ncbi_gene.loc[ncbi_gene['#tax_id'].apply(lambda x: x == 9606)]\n",
    "\n",
    "# replace \"-\" with \"None\"\n",
    "ncbi_gene.replace('-','None', inplace=True)\n",
    "\n",
    "# rename columns before merging\n",
    "ncbi_gene.rename(columns={'GeneID': 'entrez_id', 'Symbol': 'symbol', 'Synonyms': 'synonyms'}, inplace=True)\n",
    "\n",
    "# combine symbol columns into single column\n",
    "ncbi_gene['symbol'] = ncbi_gene['Symbol_from_nomenclature_authority'] + '|' + ncbi_gene['symbol']\n",
    "ncbi_gene['name'] = ncbi_gene['Full_name_from_nomenclature_authority'] + '|' + ncbi_gene['description']\n",
    "\n",
    "# explode nested data\n",
    "explode_df_ncbi_gene = explodes_data(ncbi_gene.copy(), ['symbol', 'name'], '|')\n",
    "\n",
    "# make sure that merge columns are of same type\n",
    "explode_df_ncbi_gene['entrez_id'] = explode_df_ncbi_gene['entrez_id'].astype(str)\n",
    "\n",
    "# reformat entrez gene type\n",
    "explode_df_ncbi_gene['entrez_gene_type'] = explode_df_ncbi_gene['type_of_gene']\n",
    "explode_df_ncbi_gene['entrez_gene_type'].replace('None', 'unknown', inplace=True, regex=False)\n",
    "explode_df_ncbi_gene['entrez_gene_type'].replace('pseudo', 'pseudogene', inplace=True, regex=False)\n",
    "explode_df_ncbi_gene['entrez_gene_type'].replace('biological-region', 'biological region', inplace=True, regex=False)\n",
    "\n",
    "# reformat master gene type\n",
    "explode_df_ncbi_gene['master_gene_type'] = explode_df_ncbi_gene['entrez_gene_type']\n",
    "explode_df_ncbi_gene['master_gene_type'].replace('biological region', 'other', inplace=True, regex=False)\n",
    "explode_df_ncbi_gene['master_gene_type'].replace('scRNA', 'ncRNA', inplace=True, regex=False)\n",
    "explode_df_ncbi_gene['master_gene_type'].replace('snoRNA', 'ncRNA', inplace=True, regex=False)\n",
    "explode_df_ncbi_gene['master_gene_type'].replace('snRNA', 'ncRNA', inplace=True, regex=False)\n",
    "\n",
    "# remove uneeded columns\n",
    "explode_df_ncbi_gene.drop(['type_of_gene', 'dbXrefs', 'description', 'Nomenclature_status', 'Modification_date',\n",
    "                           'LocusTag', '#tax_id', 'Full_name_from_nomenclature_authority', 'Feature_type',\n",
    "                           'Symbol_from_nomenclature_authority'], axis=1, inplace=True)\n",
    "\n",
    "# remove duplicates\n",
    "explode_df_ncbi_gene.drop_duplicates(subset=None, keep='first', inplace=True)\n",
    "\n",
    "# preview data\n",
    "explode_df_ncbi_gene.head(n=3)"
   ]
  },
  {
   "cell_type": "markdown",
   "metadata": {},
   "source": [
    "<br>"
   ]
  },
  {
   "cell_type": "markdown",
   "metadata": {},
   "source": [
    "***\n",
    "**Protein Ontology Identifier Mapping Data**   \n",
    "_Protein Ontology Identifier Data_ - `promapping.txt`"
   ]
  },
  {
   "cell_type": "code",
   "execution_count": 22,
   "metadata": {},
   "outputs": [
    {
     "name": "stdout",
     "output_type": "stream",
     "text": [
      "Downloading Data from https://proconsortium.org/download/current/promapping.txt\n"
     ]
    }
   ],
   "source": [
    "url = 'https://proconsortium.org/download/current/promapping.txt'\n",
    "data_downloader(url, unprocessed_data_location)"
   ]
  },
  {
   "cell_type": "code",
   "execution_count": 23,
   "metadata": {
    "scrolled": true
   },
   "outputs": [],
   "source": [
    "pro_mapping = pandas.read_csv(unprocessed_data_location + 'promapping.txt',\n",
    "                              header=None,\n",
    "                              names=['pro_id', 'Entry', 'pro_mapping'],\n",
    "                              delimiter='\\t')"
   ]
  },
  {
   "cell_type": "markdown",
   "metadata": {},
   "source": [
    "_Preprocess Data_  \n",
    "Basic filtering to to include `Protein Ontology` mappings to `Uniprot` identifiers and cleaning to update formatting of accession values in order to remove `UniProtKB:` is performed."
   ]
  },
  {
   "cell_type": "code",
   "execution_count": 24,
   "metadata": {},
   "outputs": [
    {
     "data": {
      "text/html": [
       "<div>\n",
       "<style scoped>\n",
       "    .dataframe tbody tr th:only-of-type {\n",
       "        vertical-align: middle;\n",
       "    }\n",
       "\n",
       "    .dataframe tbody tr th {\n",
       "        vertical-align: top;\n",
       "    }\n",
       "\n",
       "    .dataframe thead th {\n",
       "        text-align: right;\n",
       "    }\n",
       "</style>\n",
       "<table border=\"1\" class=\"dataframe\">\n",
       "  <thead>\n",
       "    <tr style=\"text-align: right;\">\n",
       "      <th></th>\n",
       "      <th>pro_id</th>\n",
       "      <th>uniprot_id</th>\n",
       "    </tr>\n",
       "  </thead>\n",
       "  <tbody>\n",
       "    <tr>\n",
       "      <th>6</th>\n",
       "      <td>PR_000000005</td>\n",
       "      <td>P37173</td>\n",
       "    </tr>\n",
       "    <tr>\n",
       "      <th>7</th>\n",
       "      <td>PR_000000005</td>\n",
       "      <td>P38438</td>\n",
       "    </tr>\n",
       "    <tr>\n",
       "      <th>8</th>\n",
       "      <td>PR_000000005</td>\n",
       "      <td>Q62312</td>\n",
       "    </tr>\n",
       "  </tbody>\n",
       "</table>\n",
       "</div>"
      ],
      "text/plain": [
       "         pro_id uniprot_id\n",
       "6  PR_000000005     P37173\n",
       "7  PR_000000005     P38438\n",
       "8  PR_000000005     Q62312"
      ]
     },
     "execution_count": 24,
     "metadata": {},
     "output_type": "execute_result"
    }
   ],
   "source": [
    "# remove rows without 'UniProtKB'\n",
    "pro_mapping = pro_mapping.loc[pro_mapping['Entry'].apply(lambda x: x.startswith('UniProtKB:'))] \n",
    "\n",
    "# replace PR: with PR_\n",
    "pro_mapping['pro_id'].replace('PR:','PR_', inplace=True, regex=True)\n",
    "\n",
    "# remove identifier type, which appears before ':'\n",
    "pro_mapping['Entry'].replace('(^\\w*\\:)','', inplace=True, regex=True)\n",
    "\n",
    "# rename columns before merging\n",
    "pro_mapping.rename(columns={'Entry': 'uniprot_id'}, inplace=True)\n",
    "\n",
    "# remove uneeded columns\n",
    "pro_mapping.drop(['pro_mapping'], axis=1, inplace=True)\n",
    "\n",
    "# remove duplicates\n",
    "pro_mapping.drop_duplicates(subset=None, keep='first', inplace=True)\n",
    "\n",
    "# preview data\n",
    "pro_mapping.head(n=3)"
   ]
  },
  {
   "cell_type": "markdown",
   "metadata": {},
   "source": [
    "<br>"
   ]
  },
  {
   "cell_type": "markdown",
   "metadata": {},
   "source": [
    "***\n",
    "\n",
    "**Merge Processed Data:** `hgnc` + `ensembl`"
   ]
  },
  {
   "cell_type": "code",
   "execution_count": 25,
   "metadata": {},
   "outputs": [
    {
     "data": {
      "text/html": [
       "<div>\n",
       "<style scoped>\n",
       "    .dataframe tbody tr th:only-of-type {\n",
       "        vertical-align: middle;\n",
       "    }\n",
       "\n",
       "    .dataframe tbody tr th {\n",
       "        vertical-align: top;\n",
       "    }\n",
       "\n",
       "    .dataframe thead th {\n",
       "        text-align: right;\n",
       "    }\n",
       "</style>\n",
       "<table border=\"1\" class=\"dataframe\">\n",
       "  <thead>\n",
       "    <tr style=\"text-align: right;\">\n",
       "      <th></th>\n",
       "      <th>ensembl_gene_id</th>\n",
       "      <th>transcript_stable_id</th>\n",
       "      <th>symbol</th>\n",
       "      <th>ensembl_gene_type</th>\n",
       "      <th>transcript_name</th>\n",
       "      <th>ensembl_transcript_type</th>\n",
       "      <th>master_gene_type</th>\n",
       "      <th>master_transcript_type</th>\n",
       "      <th>protein_stable_id</th>\n",
       "      <th>uniprot_id</th>\n",
       "      <th>entrez_id</th>\n",
       "      <th>hgnc_id</th>\n",
       "      <th>hgnc_gene_type</th>\n",
       "      <th>name</th>\n",
       "      <th>map_location</th>\n",
       "      <th>synonyms</th>\n",
       "    </tr>\n",
       "  </thead>\n",
       "  <tbody>\n",
       "    <tr>\n",
       "      <th>0</th>\n",
       "      <td>ENSG00000223972</td>\n",
       "      <td>None</td>\n",
       "      <td>DDX11L1</td>\n",
       "      <td>transcribed_unprocessed_pseudogene</td>\n",
       "      <td>None</td>\n",
       "      <td>None</td>\n",
       "      <td>pseudogene</td>\n",
       "      <td>not protein-coding</td>\n",
       "      <td>None</td>\n",
       "      <td>None</td>\n",
       "      <td>None</td>\n",
       "      <td>None</td>\n",
       "      <td>None</td>\n",
       "      <td>None</td>\n",
       "      <td>None</td>\n",
       "      <td>None</td>\n",
       "    </tr>\n",
       "    <tr>\n",
       "      <th>1</th>\n",
       "      <td>ENSG00000223972</td>\n",
       "      <td>ENST00000456328</td>\n",
       "      <td>DDX11L1</td>\n",
       "      <td>transcribed_unprocessed_pseudogene</td>\n",
       "      <td>DDX11L1-202</td>\n",
       "      <td>processed_transcript</td>\n",
       "      <td>pseudogene</td>\n",
       "      <td>protein-coding</td>\n",
       "      <td>None</td>\n",
       "      <td>None</td>\n",
       "      <td>None</td>\n",
       "      <td>None</td>\n",
       "      <td>None</td>\n",
       "      <td>None</td>\n",
       "      <td>None</td>\n",
       "      <td>None</td>\n",
       "    </tr>\n",
       "    <tr>\n",
       "      <th>2</th>\n",
       "      <td>ENSG00000223972</td>\n",
       "      <td>ENST00000450305</td>\n",
       "      <td>DDX11L1</td>\n",
       "      <td>transcribed_unprocessed_pseudogene</td>\n",
       "      <td>DDX11L1-201</td>\n",
       "      <td>transcribed_unprocessed_pseudogene</td>\n",
       "      <td>pseudogene</td>\n",
       "      <td>not protein-coding</td>\n",
       "      <td>None</td>\n",
       "      <td>None</td>\n",
       "      <td>None</td>\n",
       "      <td>None</td>\n",
       "      <td>None</td>\n",
       "      <td>None</td>\n",
       "      <td>None</td>\n",
       "      <td>None</td>\n",
       "    </tr>\n",
       "  </tbody>\n",
       "</table>\n",
       "</div>"
      ],
      "text/plain": [
       "   ensembl_gene_id transcript_stable_id   symbol  \\\n",
       "0  ENSG00000223972                 None  DDX11L1   \n",
       "1  ENSG00000223972      ENST00000456328  DDX11L1   \n",
       "2  ENSG00000223972      ENST00000450305  DDX11L1   \n",
       "\n",
       "                    ensembl_gene_type transcript_name  \\\n",
       "0  transcribed_unprocessed_pseudogene            None   \n",
       "1  transcribed_unprocessed_pseudogene     DDX11L1-202   \n",
       "2  transcribed_unprocessed_pseudogene     DDX11L1-201   \n",
       "\n",
       "              ensembl_transcript_type master_gene_type master_transcript_type  \\\n",
       "0                                None       pseudogene     not protein-coding   \n",
       "1                processed_transcript       pseudogene         protein-coding   \n",
       "2  transcribed_unprocessed_pseudogene       pseudogene     not protein-coding   \n",
       "\n",
       "  protein_stable_id uniprot_id entrez_id hgnc_id hgnc_gene_type  name  \\\n",
       "0              None       None      None    None           None  None   \n",
       "1              None       None      None    None           None  None   \n",
       "2              None       None      None    None           None  None   \n",
       "\n",
       "  map_location synonyms  \n",
       "0         None     None  \n",
       "1         None     None  \n",
       "2         None     None  "
      ]
     },
     "execution_count": 25,
     "metadata": {},
     "output_type": "execute_result"
    }
   ],
   "source": [
    "# merge uniprot and ncbi data\n",
    "ensembl_hgnc_merged_data = pandas.merge(ensembl, explode_df_hgnc,\n",
    "                                        left_on=['ensembl_gene_id', 'entrez_id', 'uniprot_id',\n",
    "                                                 'master_gene_type', 'symbol'],\n",
    "                                        right_on=['ensembl_gene_id', 'entrez_id', 'uniprot_id',\n",
    "                                                  'master_gene_type', 'symbol'],\n",
    "                                        how='outer')\n",
    "\n",
    "# replace NaN with 'None'\n",
    "ensembl_hgnc_merged_data.fillna('None', inplace=True)\n",
    "\n",
    "# remove duplicates\n",
    "ensembl_hgnc_merged_data.drop_duplicates(subset=None, keep='first', inplace=True)\n",
    "\n",
    "# preview data\n",
    "ensembl_hgnc_merged_data.head(n=3)"
   ]
  },
  {
   "cell_type": "markdown",
   "metadata": {},
   "source": [
    "<br>"
   ]
  },
  {
   "cell_type": "markdown",
   "metadata": {},
   "source": [
    "***\n",
    "**Merge Processed Data:** `ensembl_hgnc_merged_data` + `explode_df_uniprot`"
   ]
  },
  {
   "cell_type": "code",
   "execution_count": 26,
   "metadata": {},
   "outputs": [
    {
     "data": {
      "text/html": [
       "<div>\n",
       "<style scoped>\n",
       "    .dataframe tbody tr th:only-of-type {\n",
       "        vertical-align: middle;\n",
       "    }\n",
       "\n",
       "    .dataframe tbody tr th {\n",
       "        vertical-align: top;\n",
       "    }\n",
       "\n",
       "    .dataframe thead th {\n",
       "        text-align: right;\n",
       "    }\n",
       "</style>\n",
       "<table border=\"1\" class=\"dataframe\">\n",
       "  <thead>\n",
       "    <tr style=\"text-align: right;\">\n",
       "      <th></th>\n",
       "      <th>ensembl_gene_id</th>\n",
       "      <th>transcript_stable_id</th>\n",
       "      <th>symbol</th>\n",
       "      <th>ensembl_gene_type</th>\n",
       "      <th>transcript_name</th>\n",
       "      <th>ensembl_transcript_type</th>\n",
       "      <th>master_gene_type</th>\n",
       "      <th>master_transcript_type</th>\n",
       "      <th>protein_stable_id</th>\n",
       "      <th>uniprot_id</th>\n",
       "      <th>entrez_id</th>\n",
       "      <th>hgnc_id</th>\n",
       "      <th>hgnc_gene_type</th>\n",
       "      <th>name</th>\n",
       "      <th>map_location</th>\n",
       "      <th>synonyms</th>\n",
       "    </tr>\n",
       "  </thead>\n",
       "  <tbody>\n",
       "    <tr>\n",
       "      <th>0</th>\n",
       "      <td>ENSG00000223972</td>\n",
       "      <td>None</td>\n",
       "      <td>DDX11L1</td>\n",
       "      <td>transcribed_unprocessed_pseudogene</td>\n",
       "      <td>None</td>\n",
       "      <td>None</td>\n",
       "      <td>pseudogene</td>\n",
       "      <td>not protein-coding</td>\n",
       "      <td>None</td>\n",
       "      <td>None</td>\n",
       "      <td>None</td>\n",
       "      <td>None</td>\n",
       "      <td>None</td>\n",
       "      <td>None</td>\n",
       "      <td>None</td>\n",
       "      <td>None</td>\n",
       "    </tr>\n",
       "    <tr>\n",
       "      <th>1</th>\n",
       "      <td>ENSG00000223972</td>\n",
       "      <td>ENST00000456328</td>\n",
       "      <td>DDX11L1</td>\n",
       "      <td>transcribed_unprocessed_pseudogene</td>\n",
       "      <td>DDX11L1-202</td>\n",
       "      <td>processed_transcript</td>\n",
       "      <td>pseudogene</td>\n",
       "      <td>protein-coding</td>\n",
       "      <td>None</td>\n",
       "      <td>None</td>\n",
       "      <td>None</td>\n",
       "      <td>None</td>\n",
       "      <td>None</td>\n",
       "      <td>None</td>\n",
       "      <td>None</td>\n",
       "      <td>None</td>\n",
       "    </tr>\n",
       "    <tr>\n",
       "      <th>2</th>\n",
       "      <td>ENSG00000223972</td>\n",
       "      <td>ENST00000450305</td>\n",
       "      <td>DDX11L1</td>\n",
       "      <td>transcribed_unprocessed_pseudogene</td>\n",
       "      <td>DDX11L1-201</td>\n",
       "      <td>transcribed_unprocessed_pseudogene</td>\n",
       "      <td>pseudogene</td>\n",
       "      <td>not protein-coding</td>\n",
       "      <td>None</td>\n",
       "      <td>None</td>\n",
       "      <td>None</td>\n",
       "      <td>None</td>\n",
       "      <td>None</td>\n",
       "      <td>None</td>\n",
       "      <td>None</td>\n",
       "      <td>None</td>\n",
       "    </tr>\n",
       "  </tbody>\n",
       "</table>\n",
       "</div>"
      ],
      "text/plain": [
       "   ensembl_gene_id transcript_stable_id   symbol  \\\n",
       "0  ENSG00000223972                 None  DDX11L1   \n",
       "1  ENSG00000223972      ENST00000456328  DDX11L1   \n",
       "2  ENSG00000223972      ENST00000450305  DDX11L1   \n",
       "\n",
       "                    ensembl_gene_type transcript_name  \\\n",
       "0  transcribed_unprocessed_pseudogene            None   \n",
       "1  transcribed_unprocessed_pseudogene     DDX11L1-202   \n",
       "2  transcribed_unprocessed_pseudogene     DDX11L1-201   \n",
       "\n",
       "              ensembl_transcript_type master_gene_type master_transcript_type  \\\n",
       "0                                None       pseudogene     not protein-coding   \n",
       "1                processed_transcript       pseudogene         protein-coding   \n",
       "2  transcribed_unprocessed_pseudogene       pseudogene     not protein-coding   \n",
       "\n",
       "  protein_stable_id uniprot_id entrez_id hgnc_id hgnc_gene_type  name  \\\n",
       "0              None       None      None    None           None  None   \n",
       "1              None       None      None    None           None  None   \n",
       "2              None       None      None    None           None  None   \n",
       "\n",
       "  map_location synonyms  \n",
       "0         None     None  \n",
       "1         None     None  \n",
       "2         None     None  "
      ]
     },
     "execution_count": 26,
     "metadata": {},
     "output_type": "execute_result"
    }
   ],
   "source": [
    "# merge uniprot and ncbi data\n",
    "ensembl_hgnc_uniprot_merged_data = pandas.merge(ensembl_hgnc_merged_data, explode_df_uniprot,\n",
    "                                                left_on=['entrez_id', 'hgnc_id', 'uniprot_id', 'transcript_stable_id', 'symbol','synonyms'],\n",
    "                                                right_on=['entrez_id', 'hgnc_id', 'uniprot_id', 'transcript_stable_id', 'symbol','synonyms'],\n",
    "                                                how='outer')\n",
    "\n",
    "# replace NaN with 'None'\n",
    "ensembl_hgnc_uniprot_merged_data.fillna('None', inplace=True)\n",
    "\n",
    "# remove duplicates\n",
    "ensembl_hgnc_uniprot_merged_data.drop_duplicates(subset=None, keep='first', inplace=True)\n",
    "\n",
    "# preview data\n",
    "ensembl_hgnc_uniprot_merged_data.head(n=3)"
   ]
  },
  {
   "cell_type": "markdown",
   "metadata": {},
   "source": [
    "<br>"
   ]
  },
  {
   "cell_type": "markdown",
   "metadata": {},
   "source": [
    "***\n",
    "**Merge Processed Data:** `ensembl_hgnc_uniprot_merged_data` + `Homo_sapiens.gene_info`"
   ]
  },
  {
   "cell_type": "code",
   "execution_count": 27,
   "metadata": {
    "code_folding": []
   },
   "outputs": [
    {
     "data": {
      "text/html": [
       "<div>\n",
       "<style scoped>\n",
       "    .dataframe tbody tr th:only-of-type {\n",
       "        vertical-align: middle;\n",
       "    }\n",
       "\n",
       "    .dataframe tbody tr th {\n",
       "        vertical-align: top;\n",
       "    }\n",
       "\n",
       "    .dataframe thead th {\n",
       "        text-align: right;\n",
       "    }\n",
       "</style>\n",
       "<table border=\"1\" class=\"dataframe\">\n",
       "  <thead>\n",
       "    <tr style=\"text-align: right;\">\n",
       "      <th></th>\n",
       "      <th>ensembl_gene_id</th>\n",
       "      <th>transcript_stable_id</th>\n",
       "      <th>symbol</th>\n",
       "      <th>ensembl_gene_type</th>\n",
       "      <th>transcript_name</th>\n",
       "      <th>ensembl_transcript_type</th>\n",
       "      <th>master_gene_type</th>\n",
       "      <th>master_transcript_type</th>\n",
       "      <th>protein_stable_id</th>\n",
       "      <th>uniprot_id</th>\n",
       "      <th>entrez_id</th>\n",
       "      <th>hgnc_id</th>\n",
       "      <th>hgnc_gene_type</th>\n",
       "      <th>name</th>\n",
       "      <th>map_location</th>\n",
       "      <th>synonyms</th>\n",
       "      <th>chromosome</th>\n",
       "      <th>Other_designations</th>\n",
       "      <th>entrez_gene_type</th>\n",
       "    </tr>\n",
       "  </thead>\n",
       "  <tbody>\n",
       "    <tr>\n",
       "      <th>0</th>\n",
       "      <td>ENSG00000223972</td>\n",
       "      <td>None</td>\n",
       "      <td>DDX11L1</td>\n",
       "      <td>transcribed_unprocessed_pseudogene</td>\n",
       "      <td>None</td>\n",
       "      <td>None</td>\n",
       "      <td>pseudogene</td>\n",
       "      <td>not protein-coding</td>\n",
       "      <td>None</td>\n",
       "      <td>None</td>\n",
       "      <td>None</td>\n",
       "      <td>None</td>\n",
       "      <td>None</td>\n",
       "      <td>None</td>\n",
       "      <td>None</td>\n",
       "      <td>None</td>\n",
       "      <td>None</td>\n",
       "      <td>None</td>\n",
       "      <td>None</td>\n",
       "    </tr>\n",
       "    <tr>\n",
       "      <th>1</th>\n",
       "      <td>ENSG00000223972</td>\n",
       "      <td>ENST00000456328</td>\n",
       "      <td>DDX11L1</td>\n",
       "      <td>transcribed_unprocessed_pseudogene</td>\n",
       "      <td>DDX11L1-202</td>\n",
       "      <td>processed_transcript</td>\n",
       "      <td>pseudogene</td>\n",
       "      <td>protein-coding</td>\n",
       "      <td>None</td>\n",
       "      <td>None</td>\n",
       "      <td>None</td>\n",
       "      <td>None</td>\n",
       "      <td>None</td>\n",
       "      <td>None</td>\n",
       "      <td>None</td>\n",
       "      <td>None</td>\n",
       "      <td>None</td>\n",
       "      <td>None</td>\n",
       "      <td>None</td>\n",
       "    </tr>\n",
       "    <tr>\n",
       "      <th>2</th>\n",
       "      <td>ENSG00000223972</td>\n",
       "      <td>ENST00000450305</td>\n",
       "      <td>DDX11L1</td>\n",
       "      <td>transcribed_unprocessed_pseudogene</td>\n",
       "      <td>DDX11L1-201</td>\n",
       "      <td>transcribed_unprocessed_pseudogene</td>\n",
       "      <td>pseudogene</td>\n",
       "      <td>not protein-coding</td>\n",
       "      <td>None</td>\n",
       "      <td>None</td>\n",
       "      <td>None</td>\n",
       "      <td>None</td>\n",
       "      <td>None</td>\n",
       "      <td>None</td>\n",
       "      <td>None</td>\n",
       "      <td>None</td>\n",
       "      <td>None</td>\n",
       "      <td>None</td>\n",
       "      <td>None</td>\n",
       "    </tr>\n",
       "  </tbody>\n",
       "</table>\n",
       "</div>"
      ],
      "text/plain": [
       "   ensembl_gene_id transcript_stable_id   symbol  \\\n",
       "0  ENSG00000223972                 None  DDX11L1   \n",
       "1  ENSG00000223972      ENST00000456328  DDX11L1   \n",
       "2  ENSG00000223972      ENST00000450305  DDX11L1   \n",
       "\n",
       "                    ensembl_gene_type transcript_name  \\\n",
       "0  transcribed_unprocessed_pseudogene            None   \n",
       "1  transcribed_unprocessed_pseudogene     DDX11L1-202   \n",
       "2  transcribed_unprocessed_pseudogene     DDX11L1-201   \n",
       "\n",
       "              ensembl_transcript_type master_gene_type master_transcript_type  \\\n",
       "0                                None       pseudogene     not protein-coding   \n",
       "1                processed_transcript       pseudogene         protein-coding   \n",
       "2  transcribed_unprocessed_pseudogene       pseudogene     not protein-coding   \n",
       "\n",
       "  protein_stable_id uniprot_id entrez_id hgnc_id hgnc_gene_type  name  \\\n",
       "0              None       None      None    None           None  None   \n",
       "1              None       None      None    None           None  None   \n",
       "2              None       None      None    None           None  None   \n",
       "\n",
       "  map_location synonyms chromosome Other_designations entrez_gene_type  \n",
       "0         None     None       None               None             None  \n",
       "1         None     None       None               None             None  \n",
       "2         None     None       None               None             None  "
      ]
     },
     "execution_count": 27,
     "metadata": {},
     "output_type": "execute_result"
    }
   ],
   "source": [
    "ensembl_hgnc_uniprot_ncbi_merged_data = pandas.merge(ensembl_hgnc_uniprot_merged_data, explode_df_ncbi_gene,\n",
    "                                                     left_on=['entrez_id', 'master_gene_type', 'symbol', 'synonyms', 'name', 'map_location'],\n",
    "                                                     right_on=['entrez_id', 'master_gene_type', 'symbol', 'synonyms', 'name', 'map_location'],\n",
    "                                                     how='outer')\n",
    "\n",
    "# replace NaN with 'None'\n",
    "ensembl_hgnc_uniprot_ncbi_merged_data.fillna('None', inplace=True)\n",
    "\n",
    "# remove duplicates\n",
    "ensembl_hgnc_uniprot_ncbi_merged_data.drop_duplicates(subset=None, keep='first', inplace=True)\n",
    "\n",
    "# preview data\n",
    "ensembl_hgnc_uniprot_ncbi_merged_data.head(n=3)"
   ]
  },
  {
   "cell_type": "markdown",
   "metadata": {},
   "source": [
    "<br>"
   ]
  },
  {
   "cell_type": "markdown",
   "metadata": {},
   "source": [
    "***\n",
    "**Merge Processed Data:** `ensembl_hgnc_uniprot_ncbi_merged_data` + `promapping.txt`  "
   ]
  },
  {
   "cell_type": "code",
   "execution_count": 28,
   "metadata": {
    "code_folding": []
   },
   "outputs": [
    {
     "data": {
      "text/html": [
       "<div>\n",
       "<style scoped>\n",
       "    .dataframe tbody tr th:only-of-type {\n",
       "        vertical-align: middle;\n",
       "    }\n",
       "\n",
       "    .dataframe tbody tr th {\n",
       "        vertical-align: top;\n",
       "    }\n",
       "\n",
       "    .dataframe thead th {\n",
       "        text-align: right;\n",
       "    }\n",
       "</style>\n",
       "<table border=\"1\" class=\"dataframe\">\n",
       "  <thead>\n",
       "    <tr style=\"text-align: right;\">\n",
       "      <th></th>\n",
       "      <th>ensembl_gene_id</th>\n",
       "      <th>transcript_stable_id</th>\n",
       "      <th>symbol</th>\n",
       "      <th>ensembl_gene_type</th>\n",
       "      <th>transcript_name</th>\n",
       "      <th>ensembl_transcript_type</th>\n",
       "      <th>master_gene_type</th>\n",
       "      <th>master_transcript_type</th>\n",
       "      <th>protein_stable_id</th>\n",
       "      <th>uniprot_id</th>\n",
       "      <th>entrez_id</th>\n",
       "      <th>hgnc_id</th>\n",
       "      <th>hgnc_gene_type</th>\n",
       "      <th>name</th>\n",
       "      <th>map_location</th>\n",
       "      <th>synonyms</th>\n",
       "      <th>chromosome</th>\n",
       "      <th>Other_designations</th>\n",
       "      <th>entrez_gene_type</th>\n",
       "      <th>pro_id</th>\n",
       "    </tr>\n",
       "  </thead>\n",
       "  <tbody>\n",
       "    <tr>\n",
       "      <th>0</th>\n",
       "      <td>ENSG00000223972</td>\n",
       "      <td>None</td>\n",
       "      <td>DDX11L1</td>\n",
       "      <td>transcribed_unprocessed_pseudogene</td>\n",
       "      <td>None</td>\n",
       "      <td>None</td>\n",
       "      <td>pseudogene</td>\n",
       "      <td>not protein-coding</td>\n",
       "      <td>None</td>\n",
       "      <td>None</td>\n",
       "      <td>None</td>\n",
       "      <td>None</td>\n",
       "      <td>None</td>\n",
       "      <td>None</td>\n",
       "      <td>None</td>\n",
       "      <td>None</td>\n",
       "      <td>None</td>\n",
       "      <td>None</td>\n",
       "      <td>None</td>\n",
       "      <td>None</td>\n",
       "    </tr>\n",
       "    <tr>\n",
       "      <th>1</th>\n",
       "      <td>ENSG00000223972</td>\n",
       "      <td>ENST00000456328</td>\n",
       "      <td>DDX11L1</td>\n",
       "      <td>transcribed_unprocessed_pseudogene</td>\n",
       "      <td>DDX11L1-202</td>\n",
       "      <td>processed_transcript</td>\n",
       "      <td>pseudogene</td>\n",
       "      <td>protein-coding</td>\n",
       "      <td>None</td>\n",
       "      <td>None</td>\n",
       "      <td>None</td>\n",
       "      <td>None</td>\n",
       "      <td>None</td>\n",
       "      <td>None</td>\n",
       "      <td>None</td>\n",
       "      <td>None</td>\n",
       "      <td>None</td>\n",
       "      <td>None</td>\n",
       "      <td>None</td>\n",
       "      <td>None</td>\n",
       "    </tr>\n",
       "    <tr>\n",
       "      <th>2</th>\n",
       "      <td>ENSG00000223972</td>\n",
       "      <td>ENST00000450305</td>\n",
       "      <td>DDX11L1</td>\n",
       "      <td>transcribed_unprocessed_pseudogene</td>\n",
       "      <td>DDX11L1-201</td>\n",
       "      <td>transcribed_unprocessed_pseudogene</td>\n",
       "      <td>pseudogene</td>\n",
       "      <td>not protein-coding</td>\n",
       "      <td>None</td>\n",
       "      <td>None</td>\n",
       "      <td>None</td>\n",
       "      <td>None</td>\n",
       "      <td>None</td>\n",
       "      <td>None</td>\n",
       "      <td>None</td>\n",
       "      <td>None</td>\n",
       "      <td>None</td>\n",
       "      <td>None</td>\n",
       "      <td>None</td>\n",
       "      <td>None</td>\n",
       "    </tr>\n",
       "  </tbody>\n",
       "</table>\n",
       "</div>"
      ],
      "text/plain": [
       "   ensembl_gene_id transcript_stable_id   symbol  \\\n",
       "0  ENSG00000223972                 None  DDX11L1   \n",
       "1  ENSG00000223972      ENST00000456328  DDX11L1   \n",
       "2  ENSG00000223972      ENST00000450305  DDX11L1   \n",
       "\n",
       "                    ensembl_gene_type transcript_name  \\\n",
       "0  transcribed_unprocessed_pseudogene            None   \n",
       "1  transcribed_unprocessed_pseudogene     DDX11L1-202   \n",
       "2  transcribed_unprocessed_pseudogene     DDX11L1-201   \n",
       "\n",
       "              ensembl_transcript_type master_gene_type master_transcript_type  \\\n",
       "0                                None       pseudogene     not protein-coding   \n",
       "1                processed_transcript       pseudogene         protein-coding   \n",
       "2  transcribed_unprocessed_pseudogene       pseudogene     not protein-coding   \n",
       "\n",
       "  protein_stable_id uniprot_id entrez_id hgnc_id hgnc_gene_type  name  \\\n",
       "0              None       None      None    None           None  None   \n",
       "1              None       None      None    None           None  None   \n",
       "2              None       None      None    None           None  None   \n",
       "\n",
       "  map_location synonyms chromosome Other_designations entrez_gene_type pro_id  \n",
       "0         None     None       None               None             None   None  \n",
       "1         None     None       None               None             None   None  \n",
       "2         None     None       None               None             None   None  "
      ]
     },
     "execution_count": 28,
     "metadata": {},
     "output_type": "execute_result"
    }
   ],
   "source": [
    "merged_data = pandas.merge(ensembl_hgnc_uniprot_ncbi_merged_data,\n",
    "                           pro_mapping,\n",
    "                           left_on='uniprot_id',\n",
    "                           right_on='uniprot_id',\n",
    "                           how='outer')\n",
    "\n",
    "# replace NaN with 'None'\n",
    "merged_data.fillna('None', inplace=True)\n",
    "\n",
    "# remove duplicates\n",
    "merged_data.drop_duplicates(subset=None, keep='first', inplace=True)\n",
    "\n",
    "# preview data\n",
    "merged_data.head(n=3)"
   ]
  },
  {
   "cell_type": "markdown",
   "metadata": {},
   "source": [
    "<br>"
   ]
  },
  {
   "cell_type": "markdown",
   "metadata": {},
   "source": [
    "_Fix Symbol Formatting_  \n",
    "some genes are formatted similarly to dates (e.g. `DEC1`), which can be erroneously re-formatted during input as a date value (i.e. `1-DEC`). In order for the data to be successfully merged with other data sources, all date-formatted genes need to be resolved."
   ]
  },
  {
   "cell_type": "code",
   "execution_count": 29,
   "metadata": {},
   "outputs": [
    {
     "name": "stderr",
     "output_type": "stream",
     "text": [
      "100%|██████████| 1083723/1083723 [00:00<00:00, 1619827.27it/s]\n"
     ]
    },
    {
     "data": {
      "text/html": [
       "<div>\n",
       "<style scoped>\n",
       "    .dataframe tbody tr th:only-of-type {\n",
       "        vertical-align: middle;\n",
       "    }\n",
       "\n",
       "    .dataframe tbody tr th {\n",
       "        vertical-align: top;\n",
       "    }\n",
       "\n",
       "    .dataframe thead th {\n",
       "        text-align: right;\n",
       "    }\n",
       "</style>\n",
       "<table border=\"1\" class=\"dataframe\">\n",
       "  <thead>\n",
       "    <tr style=\"text-align: right;\">\n",
       "      <th></th>\n",
       "      <th>ensembl_gene_id</th>\n",
       "      <th>transcript_stable_id</th>\n",
       "      <th>symbol</th>\n",
       "      <th>ensembl_gene_type</th>\n",
       "      <th>transcript_name</th>\n",
       "      <th>ensembl_transcript_type</th>\n",
       "      <th>master_gene_type</th>\n",
       "      <th>master_transcript_type</th>\n",
       "      <th>protein_stable_id</th>\n",
       "      <th>uniprot_id</th>\n",
       "      <th>entrez_id</th>\n",
       "      <th>hgnc_id</th>\n",
       "      <th>hgnc_gene_type</th>\n",
       "      <th>name</th>\n",
       "      <th>map_location</th>\n",
       "      <th>synonyms</th>\n",
       "      <th>chromosome</th>\n",
       "      <th>Other_designations</th>\n",
       "      <th>entrez_gene_type</th>\n",
       "      <th>pro_id</th>\n",
       "    </tr>\n",
       "  </thead>\n",
       "  <tbody>\n",
       "    <tr>\n",
       "      <th>0</th>\n",
       "      <td>ENSG00000223972</td>\n",
       "      <td>None</td>\n",
       "      <td>DDX11L1</td>\n",
       "      <td>transcribed_unprocessed_pseudogene</td>\n",
       "      <td>None</td>\n",
       "      <td>unknown</td>\n",
       "      <td>pseudogene</td>\n",
       "      <td>not protein-coding</td>\n",
       "      <td>None</td>\n",
       "      <td>None</td>\n",
       "      <td>None</td>\n",
       "      <td>None</td>\n",
       "      <td>unknown</td>\n",
       "      <td>None</td>\n",
       "      <td>None</td>\n",
       "      <td>None</td>\n",
       "      <td>None</td>\n",
       "      <td>None</td>\n",
       "      <td>unknown</td>\n",
       "      <td>None</td>\n",
       "    </tr>\n",
       "    <tr>\n",
       "      <th>1</th>\n",
       "      <td>ENSG00000223972</td>\n",
       "      <td>ENST00000456328</td>\n",
       "      <td>DDX11L1</td>\n",
       "      <td>transcribed_unprocessed_pseudogene</td>\n",
       "      <td>DDX11L1-202</td>\n",
       "      <td>processed_transcript</td>\n",
       "      <td>pseudogene</td>\n",
       "      <td>protein-coding</td>\n",
       "      <td>None</td>\n",
       "      <td>None</td>\n",
       "      <td>None</td>\n",
       "      <td>None</td>\n",
       "      <td>unknown</td>\n",
       "      <td>None</td>\n",
       "      <td>None</td>\n",
       "      <td>None</td>\n",
       "      <td>None</td>\n",
       "      <td>None</td>\n",
       "      <td>unknown</td>\n",
       "      <td>None</td>\n",
       "    </tr>\n",
       "    <tr>\n",
       "      <th>2</th>\n",
       "      <td>ENSG00000223972</td>\n",
       "      <td>ENST00000450305</td>\n",
       "      <td>DDX11L1</td>\n",
       "      <td>transcribed_unprocessed_pseudogene</td>\n",
       "      <td>DDX11L1-201</td>\n",
       "      <td>transcribed_unprocessed_pseudogene</td>\n",
       "      <td>pseudogene</td>\n",
       "      <td>not protein-coding</td>\n",
       "      <td>None</td>\n",
       "      <td>None</td>\n",
       "      <td>None</td>\n",
       "      <td>None</td>\n",
       "      <td>unknown</td>\n",
       "      <td>None</td>\n",
       "      <td>None</td>\n",
       "      <td>None</td>\n",
       "      <td>None</td>\n",
       "      <td>None</td>\n",
       "      <td>unknown</td>\n",
       "      <td>None</td>\n",
       "    </tr>\n",
       "  </tbody>\n",
       "</table>\n",
       "</div>"
      ],
      "text/plain": [
       "   ensembl_gene_id transcript_stable_id   symbol  \\\n",
       "0  ENSG00000223972                 None  DDX11L1   \n",
       "1  ENSG00000223972      ENST00000456328  DDX11L1   \n",
       "2  ENSG00000223972      ENST00000450305  DDX11L1   \n",
       "\n",
       "                    ensembl_gene_type transcript_name  \\\n",
       "0  transcribed_unprocessed_pseudogene            None   \n",
       "1  transcribed_unprocessed_pseudogene     DDX11L1-202   \n",
       "2  transcribed_unprocessed_pseudogene     DDX11L1-201   \n",
       "\n",
       "              ensembl_transcript_type master_gene_type master_transcript_type  \\\n",
       "0                             unknown       pseudogene     not protein-coding   \n",
       "1                processed_transcript       pseudogene         protein-coding   \n",
       "2  transcribed_unprocessed_pseudogene       pseudogene     not protein-coding   \n",
       "\n",
       "  protein_stable_id uniprot_id entrez_id hgnc_id hgnc_gene_type  name  \\\n",
       "0              None       None      None    None        unknown  None   \n",
       "1              None       None      None    None        unknown  None   \n",
       "2              None       None      None    None        unknown  None   \n",
       "\n",
       "  map_location synonyms chromosome Other_designations entrez_gene_type pro_id  \n",
       "0         None     None       None               None          unknown   None  \n",
       "1         None     None       None               None          unknown   None  \n",
       "2         None     None       None               None          unknown   None  "
      ]
     },
     "execution_count": 29,
     "metadata": {},
     "output_type": "execute_result"
    }
   ],
   "source": [
    "clean_dates = []\n",
    "\n",
    "for x in tqdm(list(merged_data['symbol'])):\n",
    "    if '-' in x and len(x.split('-')[0]) < 3 and len(x.split('-')[1]) == 3:\n",
    "        clean_dates.append(x.split('-')[1].upper() + x.split('-')[0])\n",
    "    else:\n",
    "        clean_dates.append(x)\n",
    "\n",
    "# add cleaned date var back to data set\n",
    "merged_data['symbol'] = clean_dates\n",
    "\n",
    "# remove duplicates\n",
    "merged_data.drop_duplicates(subset=None, keep='first', inplace=True)\n",
    "\n",
    "# make sure that all gene and transcript type colunmns have none recoded to unknown or not protein-coding\n",
    "merged_data['hgnc_gene_type'].replace('None', 'unknown', inplace=True, regex=False)\n",
    "merged_data['ensembl_gene_type'].replace('None', 'unknown', inplace=True, regex=False)\n",
    "merged_data['entrez_gene_type'].replace('None', 'unknown', inplace=True, regex=False)\n",
    "merged_data['master_gene_type'].replace('None', 'unknown', inplace=True, regex=False)\n",
    "merged_data['master_transcript_type'].replace('None', 'not protein-coding', inplace=True, regex=False)\n",
    "merged_data['ensembl_transcript_type'].replace('None', 'unknown', inplace=True, regex=False)\n",
    "\n",
    "# remove duplicates\n",
    "merged_data_clean = merged_data.drop_duplicates(subset=None, keep='first')\n",
    "\n",
    "# write data\n",
    "merged_data_clean.to_csv(processed_data_location + 'Merged_Human_Ensembl_Entrez_HGNC_Uniprot_Identifiers.txt',\n",
    "                         header=True,\n",
    "                         sep='\\t',\n",
    "                         index=False)\n",
    "    \n",
    "# preview data\n",
    "merged_data_clean.head(n=3)"
   ]
  },
  {
   "cell_type": "markdown",
   "metadata": {},
   "source": [
    "***\n",
    "**Create a Master Mapping Dictionary**  \n",
    "Although the above steps result in a `pandas.Dataframe` of the merged identifiers, there is still work needed in order to be able to obtain a complete mapping between the identifiers. For example, if you were to search for entrez identifier `entrez_259234` you would find the following mappings: `entrez_259234-ENSG00000233316`, `entrez_259234-DSCR10`. If you only had `ENSG00000233316`, from the current data you would be unable to obtain the gene symbol without first mapping to the Entrez gene identifier. \n",
    "\n",
    "To solve this problem, we build a master dictionary where the keys are `ensembl_gene_id`, `transcript_stable_id`, `symbol`, `protein_stable_id`, `uniprot_id`, `entrez_id`, `hgnc_id`, and `pro_id` identifiers and values are the list of identifiers that match to each identifier. It's important to note that there are several labeling identifiers (i.e. `name`, `chromosome`, `map_location`, `Other_designations`, `synonyms`, `transcript_name`, `*_gene_types`, and `trasnscript_type_update`), which will only be mapped when clustered against one of the primary identifier types (i.e. the keys described above).\n",
    "\n",
    "_Note_. The next chunk takes approximately ~45-90 minutes to run."
   ]
  },
  {
   "cell_type": "code",
   "execution_count": 35,
   "metadata": {},
   "outputs": [
    {
     "name": "stderr",
     "output_type": "stream",
     "text": [
      "  0%|          | 0/152 [00:00<?, ?it/s]\n",
      "  0%|          | 0/63746 [00:00<?, ?it/s]\u001b[A\n",
      "100%|██████████| 63746/63746 [00:00<00:00, 483034.28it/s]\u001b[A\n",
      "  1%|          | 1/152 [00:15<38:05, 15.14s/it]\n",
      "  0%|          | 0/63746 [00:00<?, ?it/s]\u001b[A\n",
      "100%|██████████| 63746/63746 [00:00<00:00, 384918.41it/s]\u001b[A\n",
      "  1%|▏         | 2/152 [00:30<37:53, 15.16s/it]\n",
      "  0%|          | 0/63746 [00:00<?, ?it/s]\u001b[A\n",
      "100%|██████████| 63746/63746 [00:00<00:00, 488834.72it/s]\u001b[A\n",
      "  2%|▏         | 3/152 [00:46<38:12, 15.39s/it]\n",
      "  0%|          | 0/63746 [00:00<?, ?it/s]\u001b[A\n",
      "100%|██████████| 63746/63746 [00:00<00:00, 453869.70it/s]\u001b[A\n",
      "  3%|▎         | 4/152 [01:02<38:26, 15.58s/it]\n",
      "  0%|          | 0/63746 [00:00<?, ?it/s]\u001b[A\n",
      "100%|██████████| 63746/63746 [00:00<00:00, 505920.93it/s]\u001b[A\n",
      "  3%|▎         | 5/152 [01:18<38:29, 15.71s/it]\n",
      "  0%|          | 0/63746 [00:00<?, ?it/s]\u001b[A\n",
      "100%|██████████| 63746/63746 [00:00<00:00, 490267.10it/s]\u001b[A\n",
      "  4%|▍         | 6/152 [01:34<38:14, 15.71s/it]\n",
      "  0%|          | 0/63746 [00:00<?, ?it/s]\u001b[A\n",
      "100%|██████████| 63746/63746 [00:00<00:00, 489940.08it/s]\u001b[A\n",
      "  5%|▍         | 7/152 [01:49<37:57, 15.71s/it]\n",
      "  0%|          | 0/63746 [00:00<?, ?it/s]\u001b[A\n",
      "100%|██████████| 63746/63746 [00:00<00:00, 508045.46it/s]\u001b[A\n",
      "  5%|▌         | 8/152 [02:04<37:19, 15.55s/it]\n",
      "  0%|          | 0/63746 [00:00<?, ?it/s]\u001b[A\n",
      "100%|██████████| 63746/63746 [00:00<00:00, 484369.64it/s]\u001b[A\n",
      "  6%|▌         | 9/152 [02:19<36:33, 15.34s/it]\n",
      "  0%|          | 0/63746 [00:00<?, ?it/s]\u001b[A\n",
      "100%|██████████| 63746/63746 [00:00<00:00, 584476.85it/s]\u001b[A\n",
      "  7%|▋         | 10/152 [02:34<35:56, 15.19s/it]\n",
      "  0%|          | 0/63746 [00:00<?, ?it/s]\u001b[A\n",
      "100%|██████████| 63746/63746 [00:00<00:00, 441650.08it/s]\u001b[A\n",
      "  7%|▋         | 11/152 [02:49<35:14, 15.00s/it]\n",
      "  0%|          | 0/63746 [00:00<?, ?it/s]\u001b[A\n",
      "100%|██████████| 63746/63746 [00:00<00:00, 515852.77it/s]\u001b[A\n",
      "  8%|▊         | 12/152 [03:03<34:39, 14.86s/it]\n",
      "  0%|          | 0/63746 [00:00<?, ?it/s]\u001b[A\n",
      "100%|██████████| 63746/63746 [00:00<00:00, 470780.86it/s]\u001b[A\n",
      "  9%|▊         | 13/152 [03:18<34:16, 14.80s/it]\n",
      "  0%|          | 0/63746 [00:00<?, ?it/s]\u001b[A\n",
      "100%|██████████| 63746/63746 [00:00<00:00, 509084.39it/s]\u001b[A\n",
      "  9%|▉         | 14/152 [03:32<33:50, 14.71s/it]\n",
      "  0%|          | 0/63746 [00:00<?, ?it/s]\u001b[A\n",
      "100%|██████████| 63746/63746 [00:00<00:00, 594439.79it/s]\u001b[A\n",
      " 10%|▉         | 15/152 [03:47<33:23, 14.62s/it]\n",
      "  0%|          | 0/63746 [00:00<?, ?it/s]\u001b[A\n",
      "100%|██████████| 63746/63746 [00:00<00:00, 499851.57it/s]\u001b[A\n",
      " 11%|█         | 16/152 [04:01<32:59, 14.56s/it]\n",
      "  0%|          | 0/63746 [00:00<?, ?it/s]\u001b[A\n",
      "100%|██████████| 63746/63746 [00:00<00:00, 520201.61it/s]\u001b[A\n",
      " 11%|█         | 17/152 [04:17<33:17, 14.80s/it]\n",
      "  0%|          | 0/63746 [00:00<?, ?it/s]\u001b[A\n",
      "100%|██████████| 63746/63746 [00:00<00:00, 511645.55it/s]\u001b[A\n",
      " 12%|█▏        | 18/152 [04:31<32:51, 14.71s/it]\n",
      "  0%|          | 0/63746 [00:00<?, ?it/s]\u001b[A\n",
      "100%|██████████| 63746/63746 [00:00<00:00, 470850.50it/s]\u001b[A\n",
      " 12%|█▎        | 19/152 [04:46<32:32, 14.68s/it]\n",
      "  0%|          | 0/243817 [00:00<?, ?it/s]\u001b[A\n",
      " 21%|██        | 50589/243817 [00:00<00:00, 505889.28it/s]\u001b[A\n",
      " 41%|████      | 99790/243817 [00:00<00:00, 501642.65it/s]\u001b[A\n",
      " 60%|█████▉    | 146125/243817 [00:00<00:00, 489506.14it/s]\u001b[A\n",
      "100%|██████████| 243817/243817 [00:00<00:00, 500338.63it/s]\u001b[A\n",
      " 13%|█▎        | 20/152 [05:39<58:04, 26.40s/it]\n",
      "  0%|          | 0/243817 [00:00<?, ?it/s]\u001b[A\n",
      " 20%|██        | 48791/243817 [00:00<00:00, 487900.00it/s]\u001b[A\n",
      " 40%|████      | 98228/243817 [00:00<00:00, 489818.77it/s]\u001b[A\n",
      " 60%|██████    | 146828/243817 [00:00<00:00, 488665.24it/s]\u001b[A\n",
      "100%|██████████| 243817/243817 [00:00<00:00, 511655.16it/s]\u001b[A\n",
      " 14%|█▍        | 21/152 [06:35<1:17:01, 35.28s/it]\n",
      "  0%|          | 0/243817 [00:00<?, ?it/s]\u001b[A\n",
      " 20%|██        | 49686/243817 [00:00<00:00, 496849.81it/s]\u001b[A\n",
      " 41%|████▏     | 101041/243817 [00:00<00:00, 501743.09it/s]\u001b[A\n",
      " 62%|██████▏   | 150615/243817 [00:00<00:00, 499923.85it/s]\u001b[A\n",
      "100%|██████████| 243817/243817 [00:00<00:00, 500392.00it/s]\u001b[A\n",
      " 14%|█▍        | 22/152 [07:33<1:30:53, 41.95s/it]\n",
      "  0%|          | 0/243817 [00:00<?, ?it/s]\u001b[A\n",
      " 21%|██▏       | 52020/243817 [00:00<00:00, 520189.33it/s]\u001b[A\n",
      " 40%|███▉      | 96388/243817 [00:00<00:00, 494598.80it/s]\u001b[A\n",
      " 60%|██████    | 146459/243817 [00:00<00:00, 496414.82it/s]\u001b[A\n",
      "100%|██████████| 243817/243817 [00:00<00:00, 504556.97it/s]\u001b[A\n",
      " 15%|█▌        | 23/152 [08:28<1:38:33, 45.84s/it]\n",
      "  0%|          | 0/243817 [00:00<?, ?it/s]\u001b[A\n",
      " 23%|██▎       | 55055/243817 [00:00<00:00, 550540.02it/s]\u001b[A\n",
      " 46%|████▌     | 111989/243817 [00:00<00:00, 556046.95it/s]\u001b[A\n",
      " 68%|██████▊   | 166774/243817 [00:00<00:00, 553561.98it/s]\u001b[A\n",
      "100%|██████████| 243817/243817 [00:00<00:00, 548858.28it/s]\u001b[A\n",
      " 16%|█▌        | 24/152 [09:23<1:43:59, 48.74s/it]\n",
      "  0%|          | 0/243817 [00:00<?, ?it/s]\u001b[A\n",
      " 20%|█▉        | 47835/243817 [00:00<00:00, 478344.75it/s]\u001b[A\n",
      " 39%|███▉      | 95849/243817 [00:00<00:00, 478881.71it/s]\u001b[A\n",
      " 59%|█████▉    | 144952/243817 [00:00<00:00, 482460.03it/s]\u001b[A\n",
      " 79%|███████▉  | 193794/243817 [00:00<00:00, 484231.46it/s]\u001b[A\n",
      "100%|██████████| 243817/243817 [00:00<00:00, 482150.94it/s]\u001b[A\n",
      " 16%|█▋        | 25/152 [10:20<1:47:58, 51.02s/it]\n",
      "  0%|          | 0/243817 [00:00<?, ?it/s]\u001b[A\n",
      " 20%|██        | 49023/243817 [00:00<00:00, 490215.27it/s]\u001b[A\n",
      " 39%|███▉      | 95873/243817 [00:00<00:00, 483489.51it/s]\u001b[A\n",
      " 59%|█████▉    | 144240/243817 [00:00<00:00, 483540.67it/s]\u001b[A\n",
      " 78%|███████▊  | 191194/243817 [00:00<00:00, 479250.57it/s]\u001b[A\n",
      "100%|██████████| 243817/243817 [00:00<00:00, 473617.78it/s]\u001b[A\n",
      " 17%|█▋        | 26/152 [11:17<1:50:51, 52.79s/it]\n",
      "  0%|          | 0/243817 [00:00<?, ?it/s]\u001b[A\n",
      " 20%|█▉        | 48504/243817 [00:00<00:00, 485034.68it/s]\u001b[A\n",
      " 41%|████      | 99259/243817 [00:00<00:00, 491575.47it/s]\u001b[A\n",
      " 61%|██████▏   | 149850/243817 [00:00<00:00, 495789.60it/s]\u001b[A\n",
      "100%|██████████| 243817/243817 [00:00<00:00, 499804.32it/s]\u001b[A\n",
      " 18%|█▊        | 27/152 [12:12<1:51:52, 53.70s/it]\n",
      "  0%|          | 0/243817 [00:00<?, ?it/s]\u001b[A\n",
      " 19%|█▉        | 47283/243817 [00:00<00:00, 472824.81it/s]\u001b[A\n",
      " 39%|███▊      | 94396/243817 [00:00<00:00, 472312.18it/s]\u001b[A\n",
      " 59%|█████▊    | 143079/243817 [00:00<00:00, 476574.59it/s]\u001b[A\n",
      " 78%|███████▊  | 191338/243817 [00:00<00:00, 478360.49it/s]\u001b[A\n",
      "100%|██████████| 243817/243817 [00:00<00:00, 475186.91it/s]\u001b[A\n",
      " 18%|█▊        | 28/152 [13:08<1:52:17, 54.33s/it]\n",
      "  0%|          | 0/243817 [00:00<?, ?it/s]\u001b[A\n",
      " 19%|█▉        | 47210/243817 [00:00<00:00, 472090.32it/s]\u001b[A\n",
      " 39%|███▉      | 95207/243817 [00:00<00:00, 474423.03it/s]\u001b[A\n",
      " 58%|█████▊    | 141028/243817 [00:00<00:00, 469438.68it/s]\u001b[A\n",
      " 77%|███████▋  | 187181/243817 [00:00<00:00, 467037.56it/s]\u001b[A\n",
      "100%|██████████| 243817/243817 [00:00<00:00, 466652.62it/s]\u001b[A\n",
      " 19%|█▉        | 29/152 [14:05<1:52:47, 55.02s/it]\n",
      "  0%|          | 0/243817 [00:00<?, ?it/s]\u001b[A\n",
      " 20%|█▉        | 47781/243817 [00:00<00:00, 477809.32it/s]\u001b[A\n",
      " 39%|███▉      | 95834/243817 [00:00<00:00, 478619.69it/s]\u001b[A\n",
      " 59%|█████▉    | 144467/243817 [00:00<00:00, 480904.06it/s]\u001b[A\n",
      " 79%|███████▊  | 191621/243817 [00:00<00:00, 478054.43it/s]\u001b[A\n",
      "100%|██████████| 243817/243817 [00:00<00:00, 472445.86it/s]\u001b[A\n",
      " 20%|█▉        | 30/152 [15:01<1:52:16, 55.22s/it]\n",
      "  0%|          | 0/243817 [00:00<?, ?it/s]\u001b[A\n",
      " 20%|██        | 49263/243817 [00:00<00:00, 492626.95it/s]\u001b[A\n",
      " 40%|███▉      | 96360/243817 [00:00<00:00, 485921.93it/s]\u001b[A\n",
      " 59%|█████▉    | 143861/243817 [00:00<00:00, 482593.05it/s]\u001b[A\n",
      " 79%|███████▊  | 191493/243817 [00:00<00:00, 480692.26it/s]\u001b[A\n",
      "100%|██████████| 243817/243817 [00:00<00:00, 477060.49it/s]\u001b[A\n",
      " 20%|██        | 31/152 [15:56<1:51:17, 55.19s/it]\n",
      "  0%|          | 0/243817 [00:00<?, ?it/s]\u001b[A\n",
      " 19%|█▉        | 45903/243817 [00:00<00:00, 459024.97it/s]\u001b[A\n",
      " 37%|███▋      | 91422/243817 [00:00<00:00, 457866.19it/s]\u001b[A\n",
      " 57%|█████▋    | 138114/243817 [00:00<00:00, 460542.78it/s]\u001b[A\n",
      " 76%|███████▌  | 184261/243817 [00:00<00:00, 460817.73it/s]\u001b[A\n",
      "100%|██████████| 243817/243817 [00:00<00:00, 457381.81it/s]\u001b[A\n",
      " 21%|██        | 32/152 [16:53<1:51:42, 55.85s/it]\n",
      "  0%|          | 0/243817 [00:00<?, ?it/s]\u001b[A\n",
      " 21%|██        | 50571/243817 [00:00<00:00, 505709.28it/s]\u001b[A\n",
      " 38%|███▊      | 93669/243817 [00:00<00:00, 480702.18it/s]\u001b[A\n",
      " 58%|█████▊    | 141069/243817 [00:00<00:00, 478667.35it/s]\u001b[A\n"
     ]
    },
    {
     "name": "stderr",
     "output_type": "stream",
     "text": [
      " 77%|███████▋  | 187896/243817 [00:00<00:00, 475498.40it/s]\u001b[A\n",
      "100%|██████████| 243817/243817 [00:00<00:00, 473475.91it/s]\u001b[A\n",
      " 22%|██▏       | 33/152 [17:50<1:51:09, 56.05s/it]\n",
      "  0%|          | 0/243817 [00:00<?, ?it/s]\u001b[A\n",
      " 21%|██        | 50532/243817 [00:00<00:00, 505289.16it/s]\u001b[A\n",
      " 41%|████      | 98954/243817 [00:00<00:00, 498775.21it/s]\u001b[A\n",
      " 61%|██████    | 148589/243817 [00:00<00:00, 498043.88it/s]\u001b[A\n",
      "100%|██████████| 243817/243817 [00:00<00:00, 490954.79it/s]\u001b[A\n",
      " 22%|██▏       | 34/152 [18:46<1:50:21, 56.11s/it]\n",
      "  0%|          | 0/243817 [00:00<?, ?it/s]\u001b[A\n",
      " 21%|██        | 50737/243817 [00:00<00:00, 507369.27it/s]\u001b[A\n",
      " 41%|████▏     | 100625/243817 [00:00<00:00, 504790.99it/s]\u001b[A\n",
      " 62%|██████▏   | 150198/243817 [00:00<00:00, 502036.43it/s]\u001b[A\n",
      "100%|██████████| 243817/243817 [00:00<00:00, 516684.23it/s]\u001b[A\n",
      " 23%|██▎       | 35/152 [19:42<1:49:40, 56.24s/it]\n",
      "  0%|          | 0/243817 [00:00<?, ?it/s]\u001b[A\n",
      " 21%|██        | 50871/243817 [00:00<00:00, 508709.27it/s]\u001b[A\n",
      " 42%|████▏     | 101425/243817 [00:00<00:00, 507753.01it/s]\u001b[A\n",
      " 62%|██████▏   | 150503/243817 [00:00<00:00, 502538.89it/s]\u001b[A\n",
      "100%|██████████| 243817/243817 [00:00<00:00, 500482.36it/s]\u001b[A\n",
      " 24%|██▎       | 36/152 [20:37<1:48:04, 55.90s/it]\n",
      "  0%|          | 0/243817 [00:00<?, ?it/s]\u001b[A\n",
      " 21%|██▏       | 52088/243817 [00:00<00:00, 520879.25it/s]\u001b[A\n",
      " 42%|████▏     | 102387/243817 [00:00<00:00, 515377.03it/s]\u001b[A\n",
      " 62%|██████▏   | 150191/243817 [00:00<00:00, 503574.66it/s]\u001b[A\n",
      "100%|██████████| 243817/243817 [00:00<00:00, 500688.93it/s]\u001b[A\n",
      " 24%|██▍       | 37/152 [21:42<1:51:56, 58.41s/it]\n",
      "  0%|          | 0/243817 [00:00<?, ?it/s]\u001b[A\n",
      " 20%|██        | 49189/243817 [00:00<00:00, 491885.78it/s]\u001b[A\n",
      " 40%|████      | 98653/243817 [00:00<00:00, 492708.61it/s]\u001b[A\n",
      " 59%|█████▊    | 142727/243817 [00:00<00:00, 475872.01it/s]\u001b[A\n",
      " 76%|███████▌  | 185677/243817 [00:00<00:00, 460937.53it/s]\u001b[A\n",
      "100%|██████████| 243817/243817 [00:00<00:00, 455216.35it/s]\u001b[A\n",
      " 25%|██▌       | 38/152 [22:39<1:50:24, 58.11s/it]\n",
      "  0%|          | 0/110629 [00:00<?, ?it/s]\u001b[A\n",
      " 44%|████▎     | 48243/110629 [00:00<00:00, 482425.86it/s]\u001b[A\n",
      "100%|██████████| 110629/110629 [00:00<00:00, 529252.63it/s]\u001b[A\n",
      " 26%|██▌       | 39/152 [23:06<1:31:46, 48.73s/it]\n",
      "  0%|          | 0/110629 [00:00<?, ?it/s]\u001b[A\n",
      " 48%|████▊     | 53072/110629 [00:00<00:00, 530715.44it/s]\u001b[A\n",
      "100%|██████████| 110629/110629 [00:00<00:00, 511740.12it/s]\u001b[A\n",
      " 26%|██▋       | 40/152 [23:34<1:19:30, 42.60s/it]\n",
      "  0%|          | 0/110629 [00:00<?, ?it/s]\u001b[A\n",
      " 43%|████▎     | 47844/110629 [00:00<00:00, 478434.75it/s]\u001b[A\n",
      "100%|██████████| 110629/110629 [00:00<00:00, 455761.91it/s][A\n",
      " 27%|██▋       | 41/152 [24:02<1:10:40, 38.20s/it]\n",
      "  0%|          | 0/110629 [00:00<?, ?it/s]\u001b[A\n",
      " 43%|████▎     | 47436/110629 [00:00<00:00, 474354.80it/s]\u001b[A\n",
      "100%|██████████| 110629/110629 [00:00<00:00, 385178.04it/s][A\n",
      " 28%|██▊       | 42/152 [24:28<1:03:04, 34.40s/it]\n",
      "  0%|          | 0/110629 [00:00<?, ?it/s]\u001b[A\n",
      " 43%|████▎     | 47025/110629 [00:00<00:00, 470236.99it/s]\u001b[A\n",
      "100%|██████████| 110629/110629 [00:00<00:00, 479863.47it/s][A\n",
      " 28%|██▊       | 43/152 [24:53<57:27, 31.63s/it]  \n",
      "  0%|          | 0/110629 [00:00<?, ?it/s]\u001b[A\n",
      " 45%|████▍     | 49238/110629 [00:00<00:00, 492374.60it/s]\u001b[A\n",
      "100%|██████████| 110629/110629 [00:00<00:00, 480669.75it/s][A\n",
      " 29%|██▉       | 44/152 [25:18<53:25, 29.68s/it]\n",
      "  0%|          | 0/110629 [00:00<?, ?it/s]\u001b[A\n",
      " 43%|████▎     | 47555/110629 [00:00<00:00, 475540.25it/s]\u001b[A\n",
      "100%|██████████| 110629/110629 [00:00<00:00, 470729.44it/s][A\n",
      " 30%|██▉       | 45/152 [25:44<51:05, 28.65s/it]\n",
      "  0%|          | 0/110629 [00:00<?, ?it/s]\u001b[A\n",
      " 46%|████▌     | 50395/110629 [00:00<00:00, 503939.67it/s]\u001b[A\n",
      "100%|██████████| 110629/110629 [00:00<00:00, 489300.67it/s][A\n",
      " 30%|███       | 46/152 [26:09<48:43, 27.58s/it]\n",
      "  0%|          | 0/110629 [00:00<?, ?it/s]\u001b[A\n",
      " 41%|████      | 45460/110629 [00:00<00:00, 454599.35it/s]\u001b[A\n",
      "100%|██████████| 110629/110629 [00:00<00:00, 450245.84it/s][A\n",
      " 31%|███       | 47/152 [26:35<47:21, 27.07s/it]\n",
      "  0%|          | 0/110629 [00:00<?, ?it/s]\u001b[A\n",
      " 43%|████▎     | 47301/110629 [00:00<00:00, 472995.79it/s]\u001b[A\n",
      "100%|██████████| 110629/110629 [00:00<00:00, 460491.66it/s][A\n",
      " 32%|███▏      | 48/152 [27:01<46:17, 26.71s/it]\n",
      "  0%|          | 0/110629 [00:00<?, ?it/s]\u001b[A\n",
      " 45%|████▌     | 50126/110629 [00:00<00:00, 501259.28it/s]\u001b[A\n",
      "100%|██████████| 110629/110629 [00:00<00:00, 487876.63it/s][A\n",
      " 32%|███▏      | 49/152 [27:27<45:27, 26.48s/it]\n",
      "  0%|          | 0/110629 [00:00<?, ?it/s]\u001b[A\n",
      " 43%|████▎     | 47601/110629 [00:00<00:00, 476005.91it/s]\u001b[A\n",
      "100%|██████████| 110629/110629 [00:00<00:00, 449841.65it/s][A\n",
      " 33%|███▎      | 50/152 [27:54<45:13, 26.60s/it]\n",
      "  0%|          | 0/110629 [00:00<?, ?it/s]\u001b[A\n",
      " 43%|████▎     | 47174/110629 [00:00<00:00, 471737.08it/s]\u001b[A\n",
      "100%|██████████| 110629/110629 [00:00<00:00, 454202.25it/s][A\n",
      " 34%|███▎      | 51/152 [28:20<44:43, 26.57s/it]\n",
      "  0%|          | 0/110629 [00:00<?, ?it/s]\u001b[A\n",
      " 43%|████▎     | 47732/110629 [00:00<00:00, 477305.66it/s]\u001b[A\n",
      "100%|██████████| 110629/110629 [00:00<00:00, 471319.47it/s][A\n",
      " 34%|███▍      | 52/152 [28:47<44:18, 26.59s/it]\n",
      "  0%|          | 0/110629 [00:00<?, ?it/s]\u001b[A\n",
      " 38%|███▊      | 42156/110629 [00:00<00:00, 421559.40it/s]\u001b[A\n",
      " 52%|█████▏    | 57948/110629 [00:00<00:00, 275277.72it/s]\u001b[A\n",
      "100%|██████████| 110629/110629 [00:00<00:00, 276418.22it/s][A\n",
      " 35%|███▍      | 53/152 [29:15<44:31, 26.99s/it]\n",
      "  0%|          | 0/110629 [00:00<?, ?it/s]\u001b[A\n",
      " 38%|███▊      | 41708/110629 [00:00<00:00, 417075.43it/s]\u001b[A\n",
      "100%|██████████| 110629/110629 [00:00<00:00, 421009.34it/s][A\n",
      " 36%|███▌      | 54/152 [29:45<45:44, 28.00s/it]\n",
      "  0%|          | 0/110629 [00:00<?, ?it/s]\u001b[A\n",
      " 47%|████▋     | 52319/110629 [00:00<00:00, 523185.51it/s]\u001b[A\n",
      "100%|██████████| 110629/110629 [00:00<00:00, 491933.82it/s][A\n",
      " 36%|███▌      | 55/152 [30:14<45:30, 28.15s/it]\n",
      "  0%|          | 0/110629 [00:00<?, ?it/s]\u001b[A\n",
      " 45%|████▍     | 49320/110629 [00:00<00:00, 493194.59it/s]\u001b[A\n",
      "100%|██████████| 110629/110629 [00:00<00:00, 482211.28it/s][A\n",
      " 37%|███▋      | 56/152 [30:45<46:42, 29.19s/it]\n",
      "  0%|          | 0/110629 [00:00<?, ?it/s]\u001b[A\n",
      " 37%|███▋      | 41432/110629 [00:00<00:00, 414311.50it/s]\u001b[A\n",
      "100%|██████████| 110629/110629 [00:00<00:00, 445488.26it/s][A\n",
      " 38%|███▊      | 57/152 [31:15<46:13, 29.19s/it]\n",
      "  0%|          | 0/343180 [00:00<?, ?it/s]\u001b[A\n",
      " 11%|█         | 37424/343180 [00:00<00:00, 374236.79it/s]\u001b[A\n",
      " 26%|██▌       | 88103/343180 [00:00<00:00, 406101.07it/s]\u001b[A\n",
      " 40%|████      | 138848/343180 [00:00<00:00, 431981.83it/s]\u001b[A\n",
      " 55%|█████▍    | 187975/343180 [00:00<00:00, 448207.04it/s]\u001b[A\n",
      " 69%|██████▉   | 238328/343180 [00:00<00:00, 463482.56it/s]\u001b[A\n",
      " 82%|████████▏ | 280859/343180 [00:00<00:00, 407703.90it/s]\u001b[A\n",
      "100%|██████████| 343180/343180 [00:00<00:00, 452652.15it/s]\u001b[A\n",
      " 38%|███▊      | 58/152 [32:48<1:15:39, 48.29s/it]\n",
      "  0%|          | 0/343180 [00:00<?, ?it/s]\u001b[A\n",
      " 15%|█▍        | 51408/343180 [00:00<00:00, 514075.59it/s]\u001b[A\n",
      " 29%|██▉       | 100946/343180 [00:00<00:00, 508320.18it/s]\u001b[A\n",
      " 44%|████▎     | 149385/343180 [00:00<00:00, 500893.30it/s]\u001b[A\n",
      " 58%|█████▊    | 199940/343180 [00:00<00:00, 502279.63it/s]\u001b[A\n",
      " 73%|███████▎  | 249858/343180 [00:00<00:00, 501342.61it/s]\u001b[A\n",
      "100%|██████████| 343180/343180 [00:00<00:00, 502322.02it/s]\u001b[A\n",
      " 39%|███▉      | 59/152 [34:13<1:32:02, 59.38s/it]\n",
      "  0%|          | 0/343180 [00:00<?, ?it/s]\u001b[A\n",
      " 15%|█▍        | 50748/343180 [00:00<00:00, 507475.64it/s]\u001b[A\n",
      " 28%|██▊       | 96569/343180 [00:00<00:00, 491615.11it/s]\u001b[A\n",
      " 43%|████▎     | 147559/343180 [00:00<00:00, 496960.14it/s]\u001b[A\n",
      " 57%|█████▋    | 196450/343180 [00:00<00:00, 494517.18it/s]\u001b[A\n",
      " 71%|███████   | 242170/343180 [00:00<00:00, 482694.55it/s]\u001b[A\n",
      " 86%|████████▌ | 293860/343180 [00:00<00:00, 492470.01it/s]\u001b[A\n",
      "100%|██████████| 343180/343180 [00:00<00:00, 487231.34it/s]\u001b[A\n",
      " 39%|███▉      | 60/152 [35:34<1:41:07, 65.95s/it]\n",
      "  0%|          | 0/343180 [00:00<?, ?it/s]\u001b[A\n",
      " 15%|█▍        | 51004/343180 [00:00<00:00, 510039.27it/s]\u001b[A\n",
      " 29%|██▉       | 99851/343180 [00:00<00:00, 503369.76it/s]\u001b[A\n",
      " 43%|████▎     | 146488/343180 [00:00<00:00, 491667.50it/s]\u001b[A\n",
      " 55%|█████▌    | 189926/343180 [00:00<00:00, 472954.07it/s]\u001b[A\n",
      " 70%|██████▉   | 238975/343180 [00:00<00:00, 478080.23it/s]\u001b[A\n",
      " 82%|████████▏ | 281012/343180 [00:00<00:00, 459166.12it/s]\u001b[A\n"
     ]
    },
    {
     "name": "stderr",
     "output_type": "stream",
     "text": [
      "100%|██████████| 343180/343180 [00:00<00:00, 468088.38it/s]\u001b[A\n",
      " 40%|████      | 61/152 [36:54<1:46:31, 70.23s/it]\n",
      "  0%|          | 0/343180 [00:00<?, ?it/s]\u001b[A\n",
      " 11%|█         | 37845/343180 [00:00<00:00, 378442.24it/s]\u001b[A\n",
      " 23%|██▎       | 80105/343180 [00:00<00:00, 390687.03it/s]\u001b[A\n",
      " 36%|███▌      | 123792/343180 [00:00<00:00, 403463.21it/s]\u001b[A\n",
      " 50%|█████     | 172965/343180 [00:00<00:00, 426426.45it/s]\u001b[A\n",
      " 64%|██████▎   | 218717/343180 [00:00<00:00, 435298.97it/s]\u001b[A\n",
      " 77%|███████▋  | 265226/343180 [00:00<00:00, 443825.09it/s]\u001b[A\n",
      "100%|██████████| 343180/343180 [00:00<00:00, 446832.66it/s]\u001b[A\n",
      " 41%|████      | 62/152 [38:27<1:55:33, 77.04s/it]\n",
      "  0%|          | 0/343180 [00:00<?, ?it/s]\u001b[A\n",
      " 11%|█         | 38017/343180 [00:00<00:00, 380165.83it/s]\u001b[A\n",
      " 23%|██▎       | 78771/343180 [00:00<00:00, 387970.91it/s]\u001b[A\n",
      " 37%|███▋      | 125380/343180 [00:00<00:00, 408501.87it/s]\u001b[A\n",
      " 50%|████▉     | 170000/343180 [00:00<00:00, 419122.64it/s]\u001b[A\n",
      " 61%|██████▏   | 210271/343180 [00:00<00:00, 414057.46it/s]\u001b[A\n",
      " 74%|███████▍  | 254826/343180 [00:00<00:00, 423026.61it/s]\u001b[A\n",
      " 87%|████████▋ | 298036/343180 [00:00<00:00, 425706.98it/s]\u001b[A\n",
      "100%|██████████| 343180/343180 [00:00<00:00, 426770.10it/s]\u001b[A\n",
      " 41%|████▏     | 63/152 [39:56<1:59:41, 80.69s/it]\n",
      "  0%|          | 0/343180 [00:00<?, ?it/s]\u001b[A\n",
      " 13%|█▎        | 44315/343180 [00:00<00:00, 443145.14it/s]\u001b[A\n",
      " 28%|██▊       | 95729/343180 [00:00<00:00, 462293.68it/s]\u001b[A\n",
      " 43%|████▎     | 148891/343180 [00:00<00:00, 481111.84it/s]\u001b[A\n",
      " 58%|█████▊    | 200014/343180 [00:00<00:00, 489766.42it/s]\u001b[A\n",
      " 73%|███████▎  | 248891/343180 [00:00<00:00, 489465.81it/s]\u001b[A\n",
      "100%|██████████| 343180/343180 [00:00<00:00, 488507.57it/s]\u001b[A\n",
      " 42%|████▏     | 64/152 [41:15<1:57:27, 80.09s/it]\n",
      "  0%|          | 0/343180 [00:00<?, ?it/s]\u001b[A\n",
      " 15%|█▌        | 52565/343180 [00:00<00:00, 525634.21it/s]\u001b[A\n",
      " 30%|███       | 103304/343180 [00:00<00:00, 520021.38it/s]\u001b[A\n",
      " 45%|████▍     | 153639/343180 [00:00<00:00, 514902.29it/s]\u001b[A\n",
      " 59%|█████▉    | 202894/343180 [00:00<00:00, 507986.22it/s]\u001b[A\n",
      " 73%|███████▎  | 251789/343180 [00:00<00:00, 502120.18it/s]\u001b[A\n",
      "100%|██████████| 343180/343180 [00:00<00:00, 504046.57it/s]\u001b[A\n",
      " 43%|████▎     | 65/152 [42:45<2:00:17, 82.96s/it]\n",
      "  0%|          | 0/343180 [00:00<?, ?it/s]\u001b[A\n",
      " 14%|█▍        | 47295/343180 [00:00<00:00, 472944.81it/s]\u001b[A\n",
      " 26%|██▋       | 90380/343180 [00:00<00:00, 459477.08it/s]\u001b[A\n",
      " 41%|████      | 139215/343180 [00:00<00:00, 467771.24it/s]\u001b[A\n",
      " 55%|█████▍    | 187172/343180 [00:00<00:00, 471248.26it/s]\u001b[A\n",
      " 68%|██████▊   | 234814/343180 [00:00<00:00, 472786.41it/s]\u001b[A\n",
      " 82%|████████▏ | 282293/343180 [00:00<00:00, 473384.16it/s]\u001b[A\n",
      "100%|██████████| 343180/343180 [00:00<00:00, 469114.15it/s]\u001b[A\n",
      " 43%|████▎     | 66/152 [44:08<1:59:04, 83.08s/it]\n",
      "  0%|          | 0/343180 [00:00<?, ?it/s]\u001b[A\n",
      " 15%|█▌        | 51866/343180 [00:00<00:00, 518650.60it/s]\u001b[A\n",
      " 30%|██▉       | 101622/343180 [00:00<00:00, 512133.29it/s]\u001b[A\n",
      " 44%|████▎     | 149673/343180 [00:00<00:00, 502217.49it/s]\u001b[A\n",
      " 58%|█████▊    | 199808/343180 [00:00<00:00, 501955.63it/s]\u001b[A\n",
      " 73%|███████▎  | 249656/343180 [00:00<00:00, 500907.65it/s]\u001b[A\n",
      "100%|██████████| 343180/343180 [00:00<00:00, 504015.33it/s]\u001b[A\n",
      " 44%|████▍     | 67/152 [45:28<1:56:22, 82.15s/it]\n",
      "  0%|          | 0/343180 [00:00<?, ?it/s]\u001b[A\n",
      " 14%|█▍        | 48613/343180 [00:00<00:00, 486120.03it/s]\u001b[A\n",
      " 28%|██▊       | 96538/343180 [00:00<00:00, 484035.77it/s]\u001b[A\n",
      " 42%|████▏     | 145680/343180 [00:00<00:00, 486226.05it/s]\u001b[A\n",
      " 57%|█████▋    | 194897/343180 [00:00<00:00, 487991.13it/s]\u001b[A\n",
      " 70%|███████   | 240323/343180 [00:00<00:00, 477354.18it/s]\u001b[A\n",
      " 84%|████████▍ | 289483/343180 [00:00<00:00, 481537.57it/s]\u001b[A\n",
      "100%|██████████| 343180/343180 [00:00<00:00, 480336.31it/s]\u001b[A\n",
      " 45%|████▍     | 68/152 [46:57<1:57:56, 84.24s/it]\n",
      "  0%|          | 0/343180 [00:00<?, ?it/s]\u001b[A\n",
      " 13%|█▎        | 45201/343180 [00:00<00:00, 452005.04it/s]\u001b[A\n",
      " 27%|██▋       | 92604/343180 [00:00<00:00, 458393.13it/s]\u001b[A\n",
      " 42%|████▏     | 142711/343180 [00:00<00:00, 470410.14it/s]\u001b[A\n",
      " 56%|█████▌    | 190786/343180 [00:00<00:00, 473463.89it/s]\u001b[A\n",
      " 70%|███████   | 240575/343180 [00:00<00:00, 480536.12it/s]\u001b[A\n",
      " 84%|████████▎ | 287332/343180 [00:00<00:00, 476568.76it/s]\u001b[A\n",
      "100%|██████████| 343180/343180 [00:00<00:00, 478115.70it/s]\u001b[A\n",
      " 45%|████▌     | 69/152 [48:22<1:56:55, 84.53s/it]\n",
      "  0%|          | 0/343180 [00:00<?, ?it/s]\u001b[A\n",
      " 14%|█▍        | 47920/343180 [00:00<00:00, 479199.31it/s]\u001b[A\n",
      " 28%|██▊       | 95296/343180 [00:00<00:00, 477551.49it/s]\u001b[A\n",
      " 41%|████      | 140793/343180 [00:00<00:00, 470544.92it/s]\u001b[A\n",
      " 54%|█████▍    | 185336/343180 [00:00<00:00, 462715.40it/s]\u001b[A\n",
      " 68%|██████▊   | 232559/343180 [00:00<00:00, 465526.79it/s]\u001b[A\n",
      " 81%|████████  | 277296/343180 [00:00<00:00, 459922.60it/s]\u001b[A\n",
      "100%|██████████| 343180/343180 [00:00<00:00, 453971.70it/s]\u001b[A\n",
      " 46%|████▌     | 70/152 [49:49<1:56:30, 85.25s/it]\n",
      "  0%|          | 0/343180 [00:00<?, ?it/s]\u001b[A\n",
      " 15%|█▍        | 49799/343180 [00:00<00:00, 497984.54it/s]\u001b[A\n",
      " 28%|██▊       | 95671/343180 [00:00<00:00, 485510.96it/s]\u001b[A\n",
      " 42%|████▏     | 142645/343180 [00:00<00:00, 480667.97it/s]\u001b[A\n",
      " 57%|█████▋    | 196569/343180 [00:00<00:00, 496857.36it/s]\u001b[A\n",
      " 71%|███████   | 243571/343180 [00:00<00:00, 488485.20it/s]\u001b[A\n",
      " 85%|████████▍ | 290964/343180 [00:00<00:00, 484024.00it/s]\u001b[A\n",
      "100%|██████████| 343180/343180 [00:00<00:00, 485547.19it/s]\u001b[A\n",
      " 47%|████▋     | 71/152 [51:10<1:53:21, 83.97s/it]\n",
      "  0%|          | 0/343180 [00:00<?, ?it/s]\u001b[A\n",
      " 15%|█▍        | 50194/343180 [00:00<00:00, 501859.11it/s]\u001b[A\n",
      " 29%|██▉       | 98987/343180 [00:00<00:00, 497596.28it/s]\u001b[A\n",
      " 43%|████▎     | 148693/343180 [00:00<00:00, 497432.21it/s]\u001b[A\n",
      " 56%|█████▌    | 191770/343180 [00:00<00:00, 475361.56it/s]\u001b[A\n",
      " 69%|██████▉   | 237496/343180 [00:00<00:00, 469779.41it/s]\u001b[A\n",
      " 83%|████████▎ | 285146/343180 [00:00<00:00, 471772.72it/s]\u001b[A\n",
      "100%|██████████| 343180/343180 [00:00<00:00, 463098.91it/s]\u001b[A\n",
      " 47%|████▋     | 72/152 [52:32<1:51:05, 83.31s/it]\n",
      "  0%|          | 0/343180 [00:00<?, ?it/s]\u001b[A\n",
      " 14%|█▍        | 49396/343180 [00:00<00:00, 493954.58it/s]\u001b[A\n",
      " 29%|██▉       | 99714/343180 [00:00<00:00, 496686.28it/s]\u001b[A\n",
      " 43%|████▎     | 148972/343180 [00:00<00:00, 495443.09it/s]\u001b[A\n",
      " 57%|█████▋    | 196820/343180 [00:00<00:00, 490228.63it/s]\u001b[A\n",
      " 72%|███████▏  | 246430/343180 [00:00<00:00, 491973.09it/s]\u001b[A\n",
      "100%|██████████| 343180/343180 [00:00<00:00, 493118.56it/s]\u001b[A\n",
      " 48%|████▊     | 73/152 [53:52<1:48:24, 82.34s/it]\n",
      "  0%|          | 0/343180 [00:00<?, ?it/s]\u001b[A\n",
      " 15%|█▌        | 52408/343180 [00:00<00:00, 524069.25it/s]\u001b[A\n",
      " 30%|███       | 104373/343180 [00:00<00:00, 522732.37it/s]\u001b[A\n",
      " 45%|████▍     | 153549/343180 [00:00<00:00, 513035.70it/s]\u001b[A\n",
      " 59%|█████▉    | 203892/343180 [00:00<00:00, 510111.06it/s]\u001b[A\n",
      " 74%|███████▍  | 254157/343180 [00:00<00:00, 507847.90it/s]\u001b[A\n",
      "100%|██████████| 343180/343180 [00:00<00:00, 497780.75it/s]\u001b[A\n",
      " 49%|████▊     | 74/152 [55:14<1:46:55, 82.25s/it]\n",
      "  0%|          | 0/343180 [00:00<?, ?it/s]\u001b[A\n",
      " 14%|█▍        | 49220/343180 [00:00<00:00, 492199.30it/s]\u001b[A\n",
      " 28%|██▊       | 96627/343180 [00:00<00:00, 486614.92it/s]\u001b[A\n",
      " 42%|████▏     | 143387/343180 [00:00<00:00, 480748.75it/s]\u001b[A\n",
      " 56%|█████▌    | 192417/343180 [00:00<00:00, 483571.89it/s]\u001b[A\n",
      " 68%|██████▊   | 234694/343180 [00:00<00:00, 463570.00it/s]\u001b[A\n",
      " 83%|████████▎ | 286103/343180 [00:00<00:00, 477651.25it/s]\u001b[A\n",
      "100%|██████████| 343180/343180 [00:00<00:00, 487563.57it/s]\u001b[A\n",
      " 49%|████▉     | 75/152 [56:35<1:44:52, 81.72s/it]\n",
      "  0%|          | 0/343180 [00:00<?, ?it/s]\u001b[A\n",
      " 14%|█▍        | 47577/343180 [00:00<00:00, 475769.32it/s]\u001b[A\n",
      " 28%|██▊       | 94661/343180 [00:00<00:00, 474278.49it/s]\u001b[A\n",
      " 40%|████      | 138424/343180 [00:00<00:00, 462653.98it/s]\u001b[A\n",
      " 54%|█████▍    | 186557/343180 [00:00<00:00, 468101.32it/s]\u001b[A\n",
      " 68%|██████▊   | 233805/343180 [00:00<00:00, 469403.51it/s]\u001b[A\n",
      " 82%|████████▏ | 281214/343180 [00:00<00:00, 470796.82it/s]\u001b[A\n",
      "100%|██████████| 343180/343180 [00:00<00:00, 467310.91it/s]\u001b[A\n",
      " 50%|█████     | 76/152 [58:00<1:45:00, 82.90s/it]\n",
      "  0%|          | 0/61586 [00:00<?, ?it/s]\u001b[A\n",
      "100%|██████████| 61586/61586 [00:00<00:00, 502763.64it/s]\u001b[A\n",
      " 51%|█████     | 77/152 [58:16<1:18:19, 62.66s/it]\n",
      "  0%|          | 0/61586 [00:00<?, ?it/s]\u001b[A\n",
      "100%|██████████| 61586/61586 [00:00<00:00, 493773.89it/s]\u001b[A\n"
     ]
    },
    {
     "name": "stderr",
     "output_type": "stream",
     "text": [
      " 51%|█████▏    | 78/152 [58:30<59:29, 48.23s/it]  \n",
      "  0%|          | 0/61586 [00:00<?, ?it/s]\u001b[A\n",
      "100%|██████████| 61586/61586 [00:00<00:00, 465474.48it/s]\u001b[A\n",
      " 52%|█████▏    | 79/152 [58:45<46:26, 38.18s/it]\n",
      "  0%|          | 0/61586 [00:00<?, ?it/s]\u001b[A\n",
      "100%|██████████| 61586/61586 [00:00<00:00, 458813.11it/s]\u001b[A\n",
      " 53%|█████▎    | 80/152 [59:00<37:17, 31.08s/it]\n",
      "  0%|          | 0/61586 [00:00<?, ?it/s]\u001b[A\n",
      "100%|██████████| 61586/61586 [00:00<00:00, 525227.18it/s]\u001b[A\n",
      " 53%|█████▎    | 81/152 [59:14<30:57, 26.17s/it]\n",
      "  0%|          | 0/61586 [00:00<?, ?it/s]\u001b[A\n",
      "100%|██████████| 61586/61586 [00:00<00:00, 474219.87it/s]\u001b[A\n",
      " 54%|█████▍    | 82/152 [59:29<26:32, 22.75s/it]\n",
      "  0%|          | 0/61586 [00:00<?, ?it/s]\u001b[A\n",
      "100%|██████████| 61586/61586 [00:00<00:00, 483421.37it/s]\u001b[A\n",
      " 55%|█████▍    | 83/152 [59:45<23:56, 20.81s/it]\n",
      "  0%|          | 0/61586 [00:00<?, ?it/s]\u001b[A\n",
      "100%|██████████| 61586/61586 [00:00<00:00, 472637.19it/s]\u001b[A\n",
      " 55%|█████▌    | 84/152 [1:00:01<21:56, 19.36s/it]\n",
      "  0%|          | 0/61586 [00:00<?, ?it/s]\u001b[A\n",
      " 34%|███▍      | 21046/61586 [00:00<00:00, 210441.13it/s]\u001b[A\n",
      "100%|██████████| 61586/61586 [00:00<00:00, 272795.29it/s]\u001b[A\n",
      " 56%|█████▌    | 85/152 [1:00:21<21:43, 19.45s/it]\n",
      "  0%|          | 0/61586 [00:00<?, ?it/s]\u001b[A\n",
      "100%|██████████| 61586/61586 [00:00<00:00, 353033.54it/s]\u001b[A\n",
      " 57%|█████▋    | 86/152 [1:00:37<20:16, 18.43s/it]\n",
      "  0%|          | 0/61586 [00:00<?, ?it/s]\u001b[A\n",
      "100%|██████████| 61586/61586 [00:00<00:00, 505577.98it/s]\u001b[A\n",
      " 57%|█████▋    | 87/152 [1:00:52<18:46, 17.32s/it]\n",
      "  0%|          | 0/61586 [00:00<?, ?it/s]\u001b[A\n",
      "100%|██████████| 61586/61586 [00:00<00:00, 449369.13it/s]\u001b[A\n",
      " 58%|█████▊    | 88/152 [1:01:07<17:41, 16.58s/it]\n",
      "  0%|          | 0/61586 [00:00<?, ?it/s]\u001b[A\n",
      "100%|██████████| 61586/61586 [00:00<00:00, 468939.94it/s]\u001b[A\n",
      " 59%|█████▊    | 89/152 [1:01:22<17:03, 16.25s/it]\n",
      "  0%|          | 0/61586 [00:00<?, ?it/s]\u001b[A\n",
      "100%|██████████| 61586/61586 [00:00<00:00, 505408.82it/s]\u001b[A\n",
      " 59%|█████▉    | 90/152 [1:01:37<16:26, 15.91s/it]\n",
      "  0%|          | 0/61586 [00:00<?, ?it/s]\u001b[A\n",
      "100%|██████████| 61586/61586 [00:00<00:00, 355218.68it/s]\u001b[A\n",
      " 60%|█████▉    | 91/152 [1:01:52<15:52, 15.61s/it]\n",
      "  0%|          | 0/61586 [00:00<?, ?it/s]\u001b[A\n",
      "100%|██████████| 61586/61586 [00:00<00:00, 464719.12it/s]\u001b[A\n",
      " 61%|██████    | 92/152 [1:02:08<15:35, 15.59s/it]\n",
      "  0%|          | 0/61586 [00:00<?, ?it/s]\u001b[A\n",
      "100%|██████████| 61586/61586 [00:00<00:00, 488742.92it/s]\u001b[A\n",
      " 61%|██████    | 93/152 [1:02:22<14:59, 15.25s/it]\n",
      "  0%|          | 0/61586 [00:00<?, ?it/s]\u001b[A\n",
      "100%|██████████| 61586/61586 [00:00<00:00, 428896.12it/s]\u001b[A\n",
      " 62%|██████▏   | 94/152 [1:02:38<14:52, 15.39s/it]\n",
      "  0%|          | 0/61586 [00:00<?, ?it/s]\u001b[A\n",
      "100%|██████████| 61586/61586 [00:00<00:00, 378076.27it/s]\u001b[A\n",
      " 62%|██████▎   | 95/152 [1:02:55<15:11, 15.99s/it]\n",
      "100%|██████████| 42078/42078 [00:00<00:00, 509147.76it/s]\n",
      " 63%|██████▎   | 96/152 [1:03:07<13:38, 14.62s/it]\n",
      "100%|██████████| 42078/42078 [00:00<00:00, 421970.57it/s]\n",
      " 64%|██████▍   | 97/152 [1:03:20<13:01, 14.22s/it]\n",
      "100%|██████████| 42078/42078 [00:00<00:00, 488292.42it/s]\n",
      " 64%|██████▍   | 98/152 [1:03:31<12:00, 13.35s/it]\n",
      "  0%|          | 0/42078 [00:00<?, ?it/s]\u001b[A\n",
      "100%|██████████| 42078/42078 [00:00<00:00, 401395.37it/s]\u001b[A\n",
      " 65%|██████▌   | 99/152 [1:03:42<11:08, 12.62s/it]\n",
      "100%|██████████| 42078/42078 [00:00<00:00, 491951.03it/s]\n",
      " 66%|██████▌   | 100/152 [1:03:53<10:24, 12.01s/it]\n",
      "  0%|          | 0/42078 [00:00<?, ?it/s]\u001b[A\n",
      "100%|██████████| 42078/42078 [00:00<00:00, 332083.79it/s]\u001b[A\n",
      " 66%|██████▋   | 101/152 [1:04:12<11:58, 14.08s/it]\n",
      "100%|██████████| 42078/42078 [00:00<00:00, 469605.09it/s]\n",
      " 67%|██████▋   | 102/152 [1:04:23<11:08, 13.36s/it]\n",
      "  0%|          | 0/42078 [00:00<?, ?it/s]\u001b[A\n",
      "100%|██████████| 42078/42078 [00:00<00:00, 376702.05it/s]\u001b[A\n",
      " 68%|██████▊   | 103/152 [1:04:34<10:18, 12.62s/it]\n",
      "100%|██████████| 42078/42078 [00:00<00:00, 447844.55it/s]\n",
      " 68%|██████▊   | 104/152 [1:04:45<09:45, 12.20s/it]\n",
      "  0%|          | 0/42078 [00:00<?, ?it/s]\u001b[A\n",
      "100%|██████████| 42078/42078 [00:00<00:00, 400537.24it/s]\u001b[A\n",
      " 69%|██████▉   | 105/152 [1:04:57<09:19, 11.90s/it]\n",
      "100%|██████████| 42078/42078 [00:00<00:00, 421193.13it/s]\n",
      " 70%|██████▉   | 106/152 [1:05:08<08:52, 11.58s/it]\n",
      "100%|██████████| 42078/42078 [00:00<00:00, 464735.42it/s]\n",
      " 70%|███████   | 107/152 [1:05:19<08:41, 11.58s/it]\n",
      "100%|██████████| 42078/42078 [00:00<00:00, 486636.36it/s]\n",
      " 71%|███████   | 108/152 [1:05:30<08:18, 11.33s/it]\n",
      "100%|██████████| 42078/42078 [00:00<00:00, 481469.45it/s]\n",
      " 72%|███████▏  | 109/152 [1:05:40<07:53, 11.01s/it]\n",
      "100%|██████████| 42078/42078 [00:00<00:00, 483614.68it/s]\n",
      " 72%|███████▏  | 110/152 [1:05:50<07:29, 10.69s/it]\n",
      "  0%|          | 0/42078 [00:00<?, ?it/s]\u001b[A\n",
      "100%|██████████| 42078/42078 [00:00<00:00, 399559.72it/s]\u001b[A\n",
      " 73%|███████▎  | 111/152 [1:06:00<07:09, 10.48s/it]\n",
      "  0%|          | 0/42078 [00:00<?, ?it/s]\u001b[A\n",
      "100%|██████████| 42078/42078 [00:00<00:00, 377686.35it/s]\u001b[A\n",
      " 74%|███████▎  | 112/152 [1:06:10<06:57, 10.44s/it]\n",
      "100%|██████████| 42078/42078 [00:00<00:00, 501389.00it/s]\n",
      " 74%|███████▍  | 113/152 [1:06:22<06:55, 10.65s/it]\n",
      "100%|██████████| 42078/42078 [00:00<00:00, 449440.07it/s]\n",
      " 75%|███████▌  | 114/152 [1:06:32<06:42, 10.58s/it]\n",
      "  0%|          | 0/204568 [00:00<?, ?it/s]\u001b[A\n",
      " 25%|██▍       | 50403/204568 [00:00<00:00, 504024.47it/s]\u001b[A\n",
      " 49%|████▉     | 99935/204568 [00:00<00:00, 501378.42it/s]\u001b[A\n",
      " 73%|███████▎  | 150313/204568 [00:00<00:00, 502094.84it/s]\u001b[A\n",
      "100%|██████████| 204568/204568 [00:00<00:00, 494743.26it/s]\u001b[A\n",
      " 76%|███████▌  | 115/152 [1:07:26<14:29, 23.50s/it]\n",
      "  0%|          | 0/204568 [00:00<?, ?it/s]\u001b[A\n",
      " 23%|██▎       | 47303/204568 [00:00<00:00, 473024.81it/s]\u001b[A\n",
      " 46%|████▋     | 94834/204568 [00:00<00:00, 473706.50it/s]\u001b[A\n",
      " 69%|██████▉   | 141683/204568 [00:00<00:00, 472125.11it/s]\u001b[A\n",
      "100%|██████████| 204568/204568 [00:00<00:00, 449880.60it/s]\u001b[A\n",
      " 76%|███████▋  | 116/152 [1:08:16<18:55, 31.55s/it]\n",
      "  0%|          | 0/204568 [00:00<?, ?it/s]\u001b[A\n",
      " 20%|█▉        | 40165/204568 [00:00<00:00, 401641.76it/s]\u001b[A\n",
      " 45%|████▌     | 92985/204568 [00:00<00:00, 432746.90it/s]\u001b[A\n",
      " 72%|███████▏  | 146959/204568 [00:00<00:00, 460109.08it/s]\u001b[A\n",
      "100%|██████████| 204568/204568 [00:00<00:00, 500940.19it/s]\u001b[A\n",
      " 77%|███████▋  | 117/152 [1:09:09<22:11, 38.05s/it]\n",
      "  0%|          | 0/204568 [00:00<?, ?it/s]\u001b[A\n",
      " 22%|██▏       | 45279/204568 [00:00<00:00, 452786.11it/s]\u001b[A\n",
      " 46%|████▌     | 93237/204568 [00:00<00:00, 460504.37it/s]\u001b[A\n",
      " 69%|██████▉   | 141013/204568 [00:00<00:00, 465545.96it/s]\u001b[A\n",
      "100%|██████████| 204568/204568 [00:00<00:00, 451387.74it/s]\u001b[A\n",
      " 78%|███████▊  | 118/152 [1:10:01<23:57, 42.27s/it]\n",
      "  0%|          | 0/204568 [00:00<?, ?it/s]\u001b[A\n",
      " 21%|██▏       | 43713/204568 [00:00<00:00, 437125.21it/s]\u001b[A\n",
      " 48%|████▊     | 98437/204568 [00:00<00:00, 465205.29it/s]\u001b[A\n",
      " 74%|███████▍  | 151607/204568 [00:00<00:00, 483337.85it/s]\u001b[A\n",
      "100%|██████████| 204568/204568 [00:00<00:00, 505934.49it/s]\u001b[A\n",
      " 78%|███████▊  | 119/152 [1:10:52<24:37, 44.77s/it]\n",
      "  0%|          | 0/204568 [00:00<?, ?it/s]\u001b[A\n",
      " 23%|██▎       | 46483/204568 [00:00<00:00, 464820.47it/s]\u001b[A\n",
      " 47%|████▋     | 95864/204568 [00:00<00:00, 473153.34it/s]\u001b[A\n",
      " 71%|███████▏  | 146116/204568 [00:00<00:00, 481594.00it/s]\u001b[A\n",
      "100%|██████████| 204568/204568 [00:00<00:00, 484790.42it/s]\u001b[A\n",
      " 79%|███████▉  | 120/152 [1:11:43<24:51, 46.61s/it]\n",
      "  0%|          | 0/204568 [00:00<?, ?it/s]\u001b[A\n",
      " 23%|██▎       | 47714/204568 [00:00<00:00, 477137.04it/s]\u001b[A\n",
      " 47%|████▋     | 95408/204568 [00:00<00:00, 477077.71it/s]\u001b[A\n",
      " 72%|███████▏  | 146588/204568 [00:00<00:00, 486986.57it/s]\u001b[A\n",
      "100%|██████████| 204568/204568 [00:00<00:00, 487112.20it/s]\u001b[A\n",
      " 80%|███████▉  | 121/152 [1:12:34<24:49, 48.04s/it]\n",
      "  0%|          | 0/204568 [00:00<?, ?it/s]\u001b[A\n",
      " 22%|██▏       | 45717/204568 [00:00<00:00, 457166.08it/s]\u001b[A\n",
      " 46%|████▌     | 94064/204568 [00:00<00:00, 464748.99it/s]\u001b[A\n",
      " 69%|██████▊   | 140414/204568 [00:00<00:00, 464371.06it/s]\u001b[A\n",
      "100%|██████████| 204568/204568 [00:00<00:00, 465911.04it/s]\u001b[A\n",
      " 80%|████████  | 122/152 [1:13:34<25:45, 51.52s/it]\n",
      "  0%|          | 0/204568 [00:00<?, ?it/s]\u001b[A\n",
      " 23%|██▎       | 47248/204568 [00:00<00:00, 472474.82it/s]\u001b[A\n",
      " 45%|████▌     | 92466/204568 [00:00<00:00, 466196.39it/s]\u001b[A\n",
      " 68%|██████▊   | 138894/204568 [00:00<00:00, 465618.61it/s]\u001b[A\n"
     ]
    },
    {
     "name": "stderr",
     "output_type": "stream",
     "text": [
      "100%|██████████| 204568/204568 [00:00<00:00, 469377.86it/s]\u001b[A\n",
      " 81%|████████  | 123/152 [1:14:25<24:51, 51.43s/it]\n",
      "  0%|          | 0/204568 [00:00<?, ?it/s]\u001b[A\n",
      " 23%|██▎       | 47948/204568 [00:00<00:00, 479475.88it/s]\u001b[A\n",
      " 48%|████▊     | 97552/204568 [00:00<00:00, 484326.57it/s]\u001b[A\n",
      " 72%|███████▏  | 146473/204568 [00:00<00:00, 485779.74it/s]\u001b[A\n",
      "100%|██████████| 204568/204568 [00:00<00:00, 489589.27it/s]\u001b[A\n",
      " 82%|████████▏ | 124/152 [1:15:14<23:37, 50.64s/it]\n",
      "  0%|          | 0/204568 [00:00<?, ?it/s]\u001b[A\n",
      " 23%|██▎       | 46636/204568 [00:00<00:00, 466350.44it/s]\u001b[A\n",
      " 46%|████▌     | 93844/204568 [00:00<00:00, 468053.12it/s]\u001b[A\n",
      " 69%|██████▉   | 141856/204568 [00:00<00:00, 471607.82it/s]\u001b[A\n",
      "100%|██████████| 204568/204568 [00:00<00:00, 469071.99it/s]\u001b[A\n",
      " 82%|████████▏ | 125/152 [1:16:04<22:44, 50.52s/it]\n",
      "  0%|          | 0/204568 [00:00<?, ?it/s]\u001b[A\n",
      " 23%|██▎       | 47708/204568 [00:00<00:00, 477075.91it/s]\u001b[A\n",
      " 47%|████▋     | 96230/204568 [00:00<00:00, 479488.72it/s]\u001b[A\n",
      " 72%|███████▏  | 146360/204568 [00:00<00:00, 485827.29it/s]\u001b[A\n",
      "100%|██████████| 204568/204568 [00:00<00:00, 483853.54it/s]\u001b[A\n",
      " 83%|████████▎ | 126/152 [1:16:55<21:59, 50.75s/it]\n",
      "  0%|          | 0/204568 [00:00<?, ?it/s]\u001b[A\n",
      " 17%|█▋        | 34880/204568 [00:00<00:00, 348796.17it/s]\u001b[A\n",
      " 38%|███▊      | 77423/204568 [00:00<00:00, 368721.00it/s]\u001b[A\n",
      " 61%|██████    | 124214/204568 [00:00<00:00, 393761.19it/s]\u001b[A\n",
      "100%|██████████| 204568/204568 [00:00<00:00, 430080.88it/s]\u001b[A\n",
      " 84%|████████▎ | 127/152 [1:17:53<21:58, 52.74s/it]\n",
      "  0%|          | 0/204568 [00:00<?, ?it/s]\u001b[A\n",
      " 24%|██▎       | 48378/204568 [00:00<00:00, 483770.08it/s]\u001b[A\n",
      " 49%|████▉     | 100662/204568 [00:00<00:00, 494861.34it/s]\u001b[A\n",
      " 73%|███████▎  | 149330/204568 [00:00<00:00, 492375.14it/s]\u001b[A\n",
      "100%|██████████| 204568/204568 [00:00<00:00, 491151.68it/s]\u001b[A\n",
      " 84%|████████▍ | 128/152 [1:18:49<21:29, 53.73s/it]\n",
      "  0%|          | 0/204568 [00:00<?, ?it/s]\u001b[A\n",
      " 24%|██▍       | 49269/204568 [00:00<00:00, 492684.60it/s]\u001b[A\n",
      " 49%|████▉     | 100090/204568 [00:00<00:00, 497240.44it/s]\u001b[A\n",
      " 73%|███████▎  | 149624/204568 [00:00<00:00, 496668.57it/s]\u001b[A\n",
      "100%|██████████| 204568/204568 [00:00<00:00, 497769.02it/s]\u001b[A\n",
      " 85%|████████▍ | 129/152 [1:19:41<20:22, 53.16s/it]\n",
      "  0%|          | 0/204568 [00:00<?, ?it/s]\u001b[A\n",
      " 22%|██▏       | 44201/204568 [00:00<00:00, 442000.94it/s]\u001b[A\n",
      " 45%|████▍     | 91804/204568 [00:00<00:00, 451684.98it/s]\u001b[A\n",
      " 69%|██████▊   | 140565/204568 [00:00<00:00, 461891.72it/s]\u001b[A\n",
      "100%|██████████| 204568/204568 [00:00<00:00, 463733.14it/s]\u001b[A\n",
      " 86%|████████▌ | 130/152 [1:20:31<19:10, 52.28s/it]\n",
      "  0%|          | 0/204568 [00:00<?, ?it/s]\u001b[A\n",
      " 21%|██▏       | 43933/204568 [00:00<00:00, 439325.18it/s]\u001b[A\n",
      " 46%|████▋     | 95065/204568 [00:00<00:00, 458699.62it/s]\u001b[A\n",
      " 72%|███████▏  | 146683/204568 [00:00<00:00, 474550.41it/s]\u001b[A\n",
      "100%|██████████| 204568/204568 [00:00<00:00, 490385.91it/s]\u001b[A\n",
      " 86%|████████▌ | 131/152 [1:21:21<18:04, 51.66s/it]\n",
      "  0%|          | 0/204568 [00:00<?, ?it/s]\u001b[A\n",
      " 15%|█▌        | 31429/204568 [00:00<00:00, 314283.56it/s]\u001b[A\n",
      " 38%|███▊      | 78732/204568 [00:00<00:00, 349451.96it/s]\u001b[A\n",
      " 60%|██████    | 123299/204568 [00:00<00:00, 373652.79it/s]\u001b[A\n",
      "100%|██████████| 204568/204568 [00:00<00:00, 431873.29it/s]\u001b[A\n",
      " 87%|████████▋ | 132/152 [1:22:11<17:03, 51.19s/it]\n",
      "  0%|          | 0/204568 [00:00<?, ?it/s]\u001b[A\n",
      " 20%|█▉        | 40634/204568 [00:00<00:00, 406336.51it/s]\u001b[A\n",
      " 42%|████▏     | 84977/204568 [00:00<00:00, 416796.00it/s]\u001b[A\n",
      " 63%|██████▎   | 128302/204568 [00:00<00:00, 421598.11it/s]\u001b[A\n",
      "100%|██████████| 204568/204568 [00:00<00:00, 443361.81it/s]\u001b[A\n",
      " 88%|████████▊ | 133/152 [1:23:10<16:58, 53.58s/it]\n",
      "  0%|          | 0/90524 [00:00<?, ?it/s]\u001b[A\n",
      "100%|██████████| 90524/90524 [00:00<00:00, 484767.81it/s]\u001b[A\n",
      " 88%|████████▊ | 134/152 [1:23:33<13:17, 44.29s/it]\n",
      "  0%|          | 0/90524 [00:00<?, ?it/s]\u001b[A\n",
      " 50%|█████     | 45645/90524 [00:00<00:00, 456448.26it/s]\u001b[A\n",
      "100%|██████████| 90524/90524 [00:00<00:00, 440654.07it/s]\u001b[A\n",
      " 89%|████████▉ | 135/152 [1:23:56<10:45, 37.96s/it]\n",
      "  0%|          | 0/90524 [00:00<?, ?it/s]\u001b[A\n",
      "100%|██████████| 90524/90524 [00:00<00:00, 480690.20it/s]\u001b[A\n",
      " 89%|████████▉ | 136/152 [1:24:19<08:53, 33.35s/it]\n",
      "  0%|          | 0/90524 [00:00<?, ?it/s]\u001b[A\n",
      " 42%|████▏     | 37568/90524 [00:00<00:00, 372998.24it/s]\u001b[A\n",
      "100%|██████████| 90524/90524 [00:00<00:00, 419486.93it/s]\u001b[A\n",
      " 90%|█████████ | 137/152 [1:24:41<07:29, 29.97s/it]\n",
      "  0%|          | 0/90524 [00:00<?, ?it/s]\u001b[A\n",
      " 49%|████▉     | 44760/90524 [00:00<00:00, 447595.09it/s]\u001b[A\n",
      "100%|██████████| 90524/90524 [00:00<00:00, 443612.90it/s]\u001b[A\n",
      " 91%|█████████ | 138/152 [1:25:03<06:25, 27.56s/it]\n",
      "  0%|          | 0/90524 [00:00<?, ?it/s]\u001b[A\n",
      "100%|██████████| 90524/90524 [00:00<00:00, 456829.52it/s]\u001b[A\n",
      " 91%|█████████▏| 139/152 [1:25:25<05:38, 26.01s/it]\n",
      "  0%|          | 0/90524 [00:00<?, ?it/s]\u001b[A\n",
      "100%|██████████| 90524/90524 [00:00<00:00, 465043.43it/s]\u001b[A\n",
      " 92%|█████████▏| 140/152 [1:25:48<05:01, 25.13s/it]\n",
      "  0%|          | 0/90524 [00:00<?, ?it/s]\u001b[A\n",
      " 42%|████▏     | 37726/90524 [00:00<00:00, 377252.26it/s]\u001b[A\n",
      "100%|██████████| 90524/90524 [00:00<00:00, 393228.76it/s]\u001b[A\n",
      " 93%|█████████▎| 141/152 [1:26:15<04:41, 25.61s/it]\n",
      "  0%|          | 0/90524 [00:00<?, ?it/s]\u001b[A\n",
      " 48%|████▊     | 43224/90524 [00:00<00:00, 432231.14it/s]\u001b[A\n",
      "100%|██████████| 90524/90524 [00:00<00:00, 431619.34it/s]\u001b[A\n",
      " 93%|█████████▎| 142/152 [1:26:41<04:17, 25.77s/it]\n",
      "  0%|          | 0/90524 [00:00<?, ?it/s]\u001b[A\n",
      " 47%|████▋     | 42544/90524 [00:00<00:00, 425435.33it/s]\u001b[A\n",
      "100%|██████████| 90524/90524 [00:00<00:00, 417405.25it/s]\u001b[A\n",
      " 94%|█████████▍| 143/152 [1:27:06<03:49, 25.48s/it]\n",
      "  0%|          | 0/90524 [00:00<?, ?it/s]\u001b[A\n",
      " 48%|████▊     | 43675/90524 [00:00<00:00, 436745.21it/s]\u001b[A\n",
      "100%|██████████| 90524/90524 [00:00<00:00, 420021.99it/s]\u001b[A\n",
      " 95%|█████████▍| 144/152 [1:27:30<03:20, 25.04s/it]\n",
      "  0%|          | 0/90524 [00:00<?, ?it/s]\u001b[A\n",
      " 50%|████▉     | 44929/90524 [00:00<00:00, 449285.07it/s]\u001b[A\n",
      "100%|██████████| 90524/90524 [00:00<00:00, 440845.42it/s]\u001b[A\n",
      " 95%|█████████▌| 145/152 [1:27:59<03:03, 26.19s/it]\n",
      "  0%|          | 0/90524 [00:00<?, ?it/s]\u001b[A\n",
      "100%|██████████| 90524/90524 [00:00<00:00, 474742.36it/s]\u001b[A\n",
      " 96%|█████████▌| 146/152 [1:28:20<02:28, 24.82s/it]\n",
      "  0%|          | 0/90524 [00:00<?, ?it/s]\u001b[A\n",
      "100%|██████████| 90524/90524 [00:00<00:00, 461910.85it/s]\u001b[A\n",
      " 97%|█████████▋| 147/152 [1:28:42<01:59, 23.88s/it]\n",
      "  0%|          | 0/90524 [00:00<?, ?it/s]\u001b[A\n",
      " 50%|█████     | 45290/90524 [00:00<00:00, 452876.68it/s]\u001b[A\n",
      "100%|██████████| 90524/90524 [00:00<00:00, 421235.42it/s]\u001b[A\n",
      " 97%|█████████▋| 148/152 [1:29:03<01:32, 23.01s/it]\n",
      "  0%|          | 0/90524 [00:00<?, ?it/s]\u001b[A\n",
      " 47%|████▋     | 42527/90524 [00:00<00:00, 425265.34it/s]\u001b[A\n",
      "100%|██████████| 90524/90524 [00:00<00:00, 432334.43it/s]\u001b[A\n",
      " 98%|█████████▊| 149/152 [1:29:24<01:07, 22.51s/it]\n",
      "  0%|          | 0/90524 [00:00<?, ?it/s]\u001b[A\n",
      " 50%|████▉     | 45049/90524 [00:00<00:00, 450489.36it/s]\u001b[A\n",
      "100%|██████████| 90524/90524 [00:00<00:00, 429246.88it/s]\u001b[A\n",
      " 99%|█████████▊| 150/152 [1:29:46<00:44, 22.20s/it]\n",
      "  0%|          | 0/90524 [00:00<?, ?it/s]\u001b[A\n",
      "100%|██████████| 90524/90524 [00:00<00:00, 453379.79it/s]\u001b[A\n",
      " 99%|█████████▉| 151/152 [1:30:08<00:22, 22.19s/it]\n",
      "  0%|          | 0/90524 [00:00<?, ?it/s]\u001b[A\n",
      " 44%|████▍     | 39905/90524 [00:00<00:00, 399045.62it/s]\u001b[A\n",
      "100%|██████████| 90524/90524 [00:00<00:00, 414001.78it/s]\u001b[A\n",
      "100%|██████████| 152/152 [1:30:30<00:00, 35.73s/it]\n"
     ]
    }
   ],
   "source": [
    "# get all permutations of identifiers (e.g. ['entrez_id', 'ensembl_gene_id'])\n",
    "identifiers = ['ensembl_gene_id', 'transcript_stable_id', 'protein_stable_id', 'uniprot_id', 'entrez_id',\n",
    "               'hgnc_id', 'pro_id', 'symbol', 'synonyms', 'ensembl_gene_type', 'transcript_name',\n",
    "               'ensembl_transcript_type', 'master_gene_type', 'master_transcript_type', 'hgnc_gene_type',\n",
    "               'name', 'map_location', 'chromosome', 'Other_designations', 'entrez_gene_type']\n",
    "\n",
    "stop_point = 8\n",
    "\n",
    "# get list of data types that ignores subjects of a permutation pair that are metadata\n",
    "identifier_list = [x for x in list(itertools.permutations(identifiers, 2)) if x[0] not in identifiers[stop_point:]]\n",
    "\n",
    "# create master dictionary of all identifiers\n",
    "master_dict = {}\n",
    "\n",
    "for ids in tqdm(identifier_list):\n",
    "    maps = {k: [ids[1] + '_' + x for x in set(g[ids[1]].tolist()) if x != 'None'] for k,g in merged_data.groupby(ids[0])}\n",
    "\n",
    "    for key in tqdm(maps.keys()):\n",
    "        if ids[0] + '_' + key in master_dict.keys():\n",
    "            master_dict[ids[0] + '_' + key] += maps[key]\n",
    "        else:\n",
    "            master_dict[ids[0] + '_' + key] = maps[key]\n"
   ]
  },
  {
   "cell_type": "markdown",
   "metadata": {},
   "source": [
    "_Condensing Master Mapping Dictionary_  \n",
    "Once we have all pairwise mapping data between all of the identifiers, the next step is to condense all information by identifier, into a format that can easily be used downstream."
   ]
  },
  {
   "cell_type": "code",
   "execution_count": 36,
   "metadata": {},
   "outputs": [
    {
     "name": "stderr",
     "output_type": "stream",
     "text": [
      "100%|██████████| 1160128/1160128 [08:38<00:00, 2237.50it/s] \n"
     ]
    }
   ],
   "source": [
    "reformatted_mapped_identifiers = {}\n",
    "\n",
    "# set globals\n",
    "gene_type_var = 'master_gene_type'\n",
    "transcript_type_var = 'master_transcript_type'\n",
    "\n",
    "for ident in tqdm(master_dict.keys()):\n",
    "    identifier_info = set()\n",
    "    \n",
    "    for x_id in master_dict[ident]:\n",
    "        # get all identifying information for all linked identifiers\n",
    "        if not any(x for x in identifiers[stop_point:] if x_id.startswith(x)) and x_id in master_dict.keys():\n",
    "            identifier_info |= set(master_dict[x_id])\n",
    "        else:\n",
    "            continue\n",
    "\n",
    "    # clean gene and transcript types mapped to multiple types\n",
    "    gene_types = [x.split('_')[-1] for x in identifier_info if x.startswith(gene_type_var)]\n",
    "    trans_types = [x.split('_')[-1] for x in identifier_info if x.startswith(transcript_type_var)]\n",
    "    type_updates = []\n",
    "\n",
    "    for types in [gene_types if len(gene_types) > 0 else ['None'], trans_types if len(trans_types) > 0 else ['None']]:\n",
    "        if 'protein-coding' in set(types):\n",
    "            type_updates.append('protein-coding')\n",
    "        else:\n",
    "            type_updates.append('not protein-coding')\n",
    "\n",
    "    # update identifier set information\n",
    "    identifier_info = [x for x in identifier_info if not x.startswith(gene_type_var) and not x.startswith(transcript_type_var)]\n",
    "    identifier_info += ['gene_type_update_' + type_updates[0], 'transcript_type_update_' + type_updates[1]]\n",
    "    reformatted_mapped_identifiers[ident] = identifier_info\n",
    "\n",
    "# save a copy of the dictionary\n",
    "pickle.dump(reformatted_mapped_identifiers,\n",
    "            open(processed_data_location + 'Merged_gene_rna_protein_identifiers.pkl', 'wb'), protocol=4)\n"
   ]
  },
  {
   "cell_type": "code",
   "execution_count": null,
   "metadata": {},
   "outputs": [],
   "source": [
    "# reformatted_mapped_identifiers = pickle.load(open(processed_data_location + 'Merged_gene_rna_protein_identifiers.pkl', 'rb'),\n",
    "#                                              encoding='bytes')\n"
   ]
  },
  {
   "cell_type": "markdown",
   "metadata": {},
   "source": [
    "<br>"
   ]
  },
  {
   "cell_type": "markdown",
   "metadata": {},
   "source": [
    "***"
   ]
  },
  {
   "cell_type": "markdown",
   "metadata": {},
   "source": [
    "### Ensembl Gene-Entrez Gene <a class=\"anchor\" id=\"ensemblgene-entrezgene\"></a>\n",
    "\n",
    "\n",
    "**Purpose:** To map Ensembl gene identifiers to Entrez gene identifiers when creating the following edges:   \n",
    "- gene-gene\n",
    "\n",
    "**Output:** [`ENSEMBL_GENE_ENTREZ_GENE_MAP.txt`](https://www.dropbox.com/s/ggnue4s5psvywn9/ENSEMBL_GENE_ENTREZ_GENE_MAP.txt?dl=1)"
   ]
  },
  {
   "cell_type": "code",
   "execution_count": 41,
   "metadata": {},
   "outputs": [
    {
     "name": "stderr",
     "output_type": "stream",
     "text": [
      "100%|██████████| 1160128/1160128 [01:44<00:00, 11098.09it/s] \n"
     ]
    }
   ],
   "source": [
    "genomic_id_mapper(reformatted_mapped_identifiers,\n",
    "                  processed_data_location + 'ENSEMBL_GENE_ENTREZ_GENE_MAP.txt',\n",
    "                  'ensembl_gene_id', 'entrez_id',\n",
    "                  'gene_type_update', False, False)"
   ]
  },
  {
   "cell_type": "markdown",
   "metadata": {},
   "source": [
    "_Preview Processed Data_"
   ]
  },
  {
   "cell_type": "code",
   "execution_count": 42,
   "metadata": {},
   "outputs": [
    {
     "name": "stdout",
     "output_type": "stream",
     "text": [
      "There are 43803 ensembl gene-entrez gene edges\n"
     ]
    }
   ],
   "source": [
    "egeg_data = pandas.read_csv(processed_data_location + 'ENSEMBL_GENE_ENTREZ_GENE_MAP.txt',\n",
    "                            header=None,\n",
    "                            names=['Ensembl_Gene_IDs', 'Entrez_Gene_IDs', 'Gene_Type'],\n",
    "                            delimiter='\\t')\n",
    "\n",
    "print('There are {edge_count} ensembl gene-entrez gene edges'.format(edge_count=len(egeg_data.drop_duplicates())))"
   ]
  },
  {
   "cell_type": "code",
   "execution_count": 43,
   "metadata": {},
   "outputs": [
    {
     "data": {
      "text/html": [
       "<div>\n",
       "<style scoped>\n",
       "    .dataframe tbody tr th:only-of-type {\n",
       "        vertical-align: middle;\n",
       "    }\n",
       "\n",
       "    .dataframe tbody tr th {\n",
       "        vertical-align: top;\n",
       "    }\n",
       "\n",
       "    .dataframe thead th {\n",
       "        text-align: right;\n",
       "    }\n",
       "</style>\n",
       "<table border=\"1\" class=\"dataframe\">\n",
       "  <thead>\n",
       "    <tr style=\"text-align: right;\">\n",
       "      <th></th>\n",
       "      <th>Ensembl_Gene_IDs</th>\n",
       "      <th>Entrez_Gene_IDs</th>\n",
       "      <th>Gene_Type</th>\n",
       "    </tr>\n",
       "  </thead>\n",
       "  <tbody>\n",
       "    <tr>\n",
       "      <th>0</th>\n",
       "      <td>ENSG00000000003</td>\n",
       "      <td>7105</td>\n",
       "      <td>protein-coding</td>\n",
       "    </tr>\n",
       "    <tr>\n",
       "      <th>1</th>\n",
       "      <td>ENSG00000000005</td>\n",
       "      <td>64102</td>\n",
       "      <td>protein-coding</td>\n",
       "    </tr>\n",
       "    <tr>\n",
       "      <th>2</th>\n",
       "      <td>ENSG00000000419</td>\n",
       "      <td>8813</td>\n",
       "      <td>protein-coding</td>\n",
       "    </tr>\n",
       "    <tr>\n",
       "      <th>3</th>\n",
       "      <td>ENSG00000000457</td>\n",
       "      <td>57147</td>\n",
       "      <td>protein-coding</td>\n",
       "    </tr>\n",
       "    <tr>\n",
       "      <th>4</th>\n",
       "      <td>ENSG00000000460</td>\n",
       "      <td>55732</td>\n",
       "      <td>protein-coding</td>\n",
       "    </tr>\n",
       "  </tbody>\n",
       "</table>\n",
       "</div>"
      ],
      "text/plain": [
       "  Ensembl_Gene_IDs  Entrez_Gene_IDs       Gene_Type\n",
       "0  ENSG00000000003             7105  protein-coding\n",
       "1  ENSG00000000005            64102  protein-coding\n",
       "2  ENSG00000000419             8813  protein-coding\n",
       "3  ENSG00000000457            57147  protein-coding\n",
       "4  ENSG00000000460            55732  protein-coding"
      ]
     },
     "execution_count": 43,
     "metadata": {},
     "output_type": "execute_result"
    }
   ],
   "source": [
    "egeg_data.head(n=5)"
   ]
  },
  {
   "cell_type": "markdown",
   "metadata": {},
   "source": [
    "<br>"
   ]
  },
  {
   "cell_type": "markdown",
   "metadata": {},
   "source": [
    "***"
   ]
  },
  {
   "cell_type": "markdown",
   "metadata": {},
   "source": [
    "### Ensembl Transcript-Protein Ontology <a class=\"anchor\" id=\"ensembltranscript-proteinontology\"></a>\n",
    "\n",
    "**Purpose:** To map Ensembl transcript identifiers to Protein Ontology identifiers when creating the following edges: \n",
    "- rna-protein  \n",
    "\n",
    "**Output:** [`ENSEMBL_TRANSCRIPT_PROTEIN_ONTOLOGY_MAP.txt`](https://www.dropbox.com/s/9upjijohu0xzf13/ENSEMBL_TRANSCRIPT_PROTEIN_ONTOLOGY_MAP.txt?dl=1)\n"
   ]
  },
  {
   "cell_type": "code",
   "execution_count": 44,
   "metadata": {},
   "outputs": [
    {
     "name": "stderr",
     "output_type": "stream",
     "text": [
      "100%|██████████| 1160128/1160128 [01:40<00:00, 11577.20it/s] \n"
     ]
    }
   ],
   "source": [
    "genomic_id_mapper(reformatted_mapped_identifiers,\n",
    "                  processed_data_location + 'ENSEMBL_TRANSCRIPT_PROTEIN_ONTOLOGY_MAP.txt',\n",
    "                  'transcript_stable_id', 'pro_id',\n",
    "                  'transcript_type_update', False, True)"
   ]
  },
  {
   "cell_type": "markdown",
   "metadata": {},
   "source": [
    "_Preview Processed Data_"
   ]
  },
  {
   "cell_type": "code",
   "execution_count": 45,
   "metadata": {},
   "outputs": [
    {
     "name": "stdout",
     "output_type": "stream",
     "text": [
      "There are 323860 ensembl transcript-protein ontology edges\n"
     ]
    }
   ],
   "source": [
    "etpr_data = pandas.read_csv(processed_data_location + 'ENSEMBL_TRANSCRIPT_PROTEIN_ONTOLOGY_MAP.txt',\n",
    "                            header=None,\n",
    "                            names=['Ensembl_Transcript_IDs', 'Protein_Ontology_IDs', 'Transcript_Type'],\n",
    "                            delimiter='\\t',\n",
    "                            low_memory=False)\n",
    "\n",
    "print('There are {edge_count} ensembl transcript-protein ontology edges'.format(edge_count=len(etpr_data.drop_duplicates())))"
   ]
  },
  {
   "cell_type": "code",
   "execution_count": 46,
   "metadata": {},
   "outputs": [
    {
     "data": {
      "text/html": [
       "<div>\n",
       "<style scoped>\n",
       "    .dataframe tbody tr th:only-of-type {\n",
       "        vertical-align: middle;\n",
       "    }\n",
       "\n",
       "    .dataframe tbody tr th {\n",
       "        vertical-align: top;\n",
       "    }\n",
       "\n",
       "    .dataframe thead th {\n",
       "        text-align: right;\n",
       "    }\n",
       "</style>\n",
       "<table border=\"1\" class=\"dataframe\">\n",
       "  <thead>\n",
       "    <tr style=\"text-align: right;\">\n",
       "      <th></th>\n",
       "      <th>Ensembl_Transcript_IDs</th>\n",
       "      <th>Protein_Ontology_IDs</th>\n",
       "      <th>Transcript_Type</th>\n",
       "    </tr>\n",
       "  </thead>\n",
       "  <tbody>\n",
       "    <tr>\n",
       "      <th>0</th>\n",
       "      <td>ENST00000000233</td>\n",
       "      <td>PR_000004204</td>\n",
       "      <td>protein-coding</td>\n",
       "    </tr>\n",
       "    <tr>\n",
       "      <th>1</th>\n",
       "      <td>ENST00000000233</td>\n",
       "      <td>PR_P84085</td>\n",
       "      <td>protein-coding</td>\n",
       "    </tr>\n",
       "    <tr>\n",
       "      <th>2</th>\n",
       "      <td>ENST00000000412</td>\n",
       "      <td>PR_000010032</td>\n",
       "      <td>protein-coding</td>\n",
       "    </tr>\n",
       "    <tr>\n",
       "      <th>3</th>\n",
       "      <td>ENST00000000412</td>\n",
       "      <td>PR_P20645</td>\n",
       "      <td>protein-coding</td>\n",
       "    </tr>\n",
       "    <tr>\n",
       "      <th>4</th>\n",
       "      <td>ENST00000000442</td>\n",
       "      <td>PR_000007208</td>\n",
       "      <td>protein-coding</td>\n",
       "    </tr>\n",
       "  </tbody>\n",
       "</table>\n",
       "</div>"
      ],
      "text/plain": [
       "  Ensembl_Transcript_IDs Protein_Ontology_IDs Transcript_Type\n",
       "0        ENST00000000233         PR_000004204  protein-coding\n",
       "1        ENST00000000233            PR_P84085  protein-coding\n",
       "2        ENST00000000412         PR_000010032  protein-coding\n",
       "3        ENST00000000412            PR_P20645  protein-coding\n",
       "4        ENST00000000442         PR_000007208  protein-coding"
      ]
     },
     "execution_count": 46,
     "metadata": {},
     "output_type": "execute_result"
    }
   ],
   "source": [
    "etpr_data.head(n=5)"
   ]
  },
  {
   "cell_type": "markdown",
   "metadata": {},
   "source": [
    "<br>"
   ]
  },
  {
   "cell_type": "markdown",
   "metadata": {},
   "source": [
    "***\n",
    "***"
   ]
  },
  {
   "cell_type": "markdown",
   "metadata": {},
   "source": [
    "### Entrez Gene-Ensembl Transcript <a class=\"anchor\" id=\"entrezgene-ensembltranscript\"></a>\n",
    "\n",
    "**Purpose:** To map entrez gene identifiers to Ensembl transcript identifiers when creating the following edges: \n",
    "- gene-rna \n",
    "\n",
    "**Output:** [`ENTREZ_GENE_ENSEMBL_TRANSCRIPT_MAP.txt`](https://www.dropbox.com/s/jxm9v7qfwm2b6ot/ENTREZ_GENE_ENSEMBL_TRANSCRIPT_MAP.txt?dl=1)"
   ]
  },
  {
   "cell_type": "code",
   "execution_count": 47,
   "metadata": {},
   "outputs": [
    {
     "name": "stderr",
     "output_type": "stream",
     "text": [
      "100%|██████████| 1160128/1160128 [01:41<00:00, 11421.90it/s] \n"
     ]
    }
   ],
   "source": [
    "genomic_id_mapper(reformatted_mapped_identifiers,\n",
    "                  processed_data_location + 'ENTREZ_GENE_ENSEMBL_TRANSCRIPT_MAP.txt',\n",
    "                  'entrez_id', 'transcript_stable_id',\n",
    "                  'transcript_type_update', False, False)"
   ]
  },
  {
   "cell_type": "markdown",
   "metadata": {},
   "source": [
    "_Preview Processed Data_"
   ]
  },
  {
   "cell_type": "code",
   "execution_count": 48,
   "metadata": {},
   "outputs": [
    {
     "name": "stdout",
     "output_type": "stream",
     "text": [
      "There are 216982 entrez gene identifiers-ensembl transcript edges\n"
     ]
    }
   ],
   "source": [
    "eet_data = pandas.read_csv(processed_data_location + 'ENTREZ_GENE_ENSEMBL_TRANSCRIPT_MAP.txt',\n",
    "                           header=None,\n",
    "                           names=['Entrez_Gene_IDs', 'Ensembl_Transcript_IDs', 'Gene_Type', 'Transcript_Type'],\n",
    "                           delimiter='\\t',\n",
    "                           low_memory=False)\n",
    "\n",
    "print('There are {edge_count} entrez gene identifiers-ensembl transcript edges'.format(edge_count=len(eet_data.drop_duplicates())))"
   ]
  },
  {
   "cell_type": "code",
   "execution_count": 49,
   "metadata": {},
   "outputs": [
    {
     "data": {
      "text/html": [
       "<div>\n",
       "<style scoped>\n",
       "    .dataframe tbody tr th:only-of-type {\n",
       "        vertical-align: middle;\n",
       "    }\n",
       "\n",
       "    .dataframe tbody tr th {\n",
       "        vertical-align: top;\n",
       "    }\n",
       "\n",
       "    .dataframe thead th {\n",
       "        text-align: right;\n",
       "    }\n",
       "</style>\n",
       "<table border=\"1\" class=\"dataframe\">\n",
       "  <thead>\n",
       "    <tr style=\"text-align: right;\">\n",
       "      <th></th>\n",
       "      <th>Entrez_Gene_IDs</th>\n",
       "      <th>Ensembl_Transcript_IDs</th>\n",
       "      <th>Gene_Type</th>\n",
       "      <th>Transcript_Type</th>\n",
       "    </tr>\n",
       "  </thead>\n",
       "  <tbody>\n",
       "    <tr>\n",
       "      <th>0</th>\n",
       "      <td>381</td>\n",
       "      <td>ENST00000000233</td>\n",
       "      <td>protein-coding</td>\n",
       "      <td>NaN</td>\n",
       "    </tr>\n",
       "    <tr>\n",
       "      <th>1</th>\n",
       "      <td>4074</td>\n",
       "      <td>ENST00000000412</td>\n",
       "      <td>protein-coding</td>\n",
       "      <td>NaN</td>\n",
       "    </tr>\n",
       "    <tr>\n",
       "      <th>2</th>\n",
       "      <td>2101</td>\n",
       "      <td>ENST00000000442</td>\n",
       "      <td>protein-coding</td>\n",
       "      <td>NaN</td>\n",
       "    </tr>\n",
       "    <tr>\n",
       "      <th>3</th>\n",
       "      <td>2288</td>\n",
       "      <td>ENST00000001008</td>\n",
       "      <td>protein-coding</td>\n",
       "      <td>NaN</td>\n",
       "    </tr>\n",
       "    <tr>\n",
       "      <th>4</th>\n",
       "      <td>56603</td>\n",
       "      <td>ENST00000001146</td>\n",
       "      <td>protein-coding</td>\n",
       "      <td>NaN</td>\n",
       "    </tr>\n",
       "  </tbody>\n",
       "</table>\n",
       "</div>"
      ],
      "text/plain": [
       "   Entrez_Gene_IDs Ensembl_Transcript_IDs       Gene_Type  Transcript_Type\n",
       "0              381        ENST00000000233  protein-coding              NaN\n",
       "1             4074        ENST00000000412  protein-coding              NaN\n",
       "2             2101        ENST00000000442  protein-coding              NaN\n",
       "3             2288        ENST00000001008  protein-coding              NaN\n",
       "4            56603        ENST00000001146  protein-coding              NaN"
      ]
     },
     "execution_count": 49,
     "metadata": {},
     "output_type": "execute_result"
    }
   ],
   "source": [
    "eet_data.head(n=5)"
   ]
  },
  {
   "cell_type": "markdown",
   "metadata": {},
   "source": [
    "<br>"
   ]
  },
  {
   "cell_type": "markdown",
   "metadata": {},
   "source": [
    "***"
   ]
  },
  {
   "cell_type": "markdown",
   "metadata": {},
   "source": [
    "### Entrez Gene-Protein Ontology <a class=\"anchor\" id=\"entrezgene-proteinontology\"></a>\n",
    "\n",
    "**Purpose:** To map Protein Ontology identifiers to Ensembl transcript identifiers when creating the following edges:   \n",
    "- chemical-protein  \n",
    "- gene-protein\n",
    "\n",
    "**Output:** [`ENTREZ_GENE_PRO_ONTOLOGY_MAP.txt`](https://www.dropbox.com/s/e5x7rq4kc2kfq49/ENTREZ_GENE_PRO_ONTOLOGY_MAP.txt?dl=1)"
   ]
  },
  {
   "cell_type": "code",
   "execution_count": 50,
   "metadata": {},
   "outputs": [
    {
     "name": "stderr",
     "output_type": "stream",
     "text": [
      "100%|██████████| 1160128/1160128 [01:37<00:00, 11940.32it/s] \n"
     ]
    }
   ],
   "source": [
    "genomic_id_mapper(reformatted_mapped_identifiers,\n",
    "                  processed_data_location + 'ENTREZ_GENE_PRO_ONTOLOGY_MAP.txt',\n",
    "                  'entrez_id', 'pro_id',\n",
    "                  'gene_type_update', False, True)"
   ]
  },
  {
   "cell_type": "markdown",
   "metadata": {},
   "source": [
    "_Preview Processed Data_"
   ]
  },
  {
   "cell_type": "code",
   "execution_count": 51,
   "metadata": {},
   "outputs": [
    {
     "name": "stdout",
     "output_type": "stream",
     "text": [
      "There are 37471 entrez gene-protein ontology edges\n"
     ]
    }
   ],
   "source": [
    "egpr_data = pandas.read_csv(processed_data_location + 'ENTREZ_GENE_PRO_ONTOLOGY_MAP.txt',\n",
    "                            header=None,\n",
    "                            names=['Gene_IDs', 'Protein_Ontology_IDs', 'Gene_Type'],\n",
    "                            delimiter='\\t')\n",
    "\n",
    "print('There are {edge_count} entrez gene-protein ontology edges'.format(edge_count=len(egpr_data.drop_duplicates())))"
   ]
  },
  {
   "cell_type": "code",
   "execution_count": 52,
   "metadata": {},
   "outputs": [
    {
     "data": {
      "text/html": [
       "<div>\n",
       "<style scoped>\n",
       "    .dataframe tbody tr th:only-of-type {\n",
       "        vertical-align: middle;\n",
       "    }\n",
       "\n",
       "    .dataframe tbody tr th {\n",
       "        vertical-align: top;\n",
       "    }\n",
       "\n",
       "    .dataframe thead th {\n",
       "        text-align: right;\n",
       "    }\n",
       "</style>\n",
       "<table border=\"1\" class=\"dataframe\">\n",
       "  <thead>\n",
       "    <tr style=\"text-align: right;\">\n",
       "      <th></th>\n",
       "      <th>Gene_IDs</th>\n",
       "      <th>Protein_Ontology_IDs</th>\n",
       "      <th>Gene_Type</th>\n",
       "    </tr>\n",
       "  </thead>\n",
       "  <tbody>\n",
       "    <tr>\n",
       "      <th>0</th>\n",
       "      <td>1</td>\n",
       "      <td>PR_P04217</td>\n",
       "      <td>protein-coding</td>\n",
       "    </tr>\n",
       "    <tr>\n",
       "      <th>1</th>\n",
       "      <td>1</td>\n",
       "      <td>PR_000003511</td>\n",
       "      <td>protein-coding</td>\n",
       "    </tr>\n",
       "    <tr>\n",
       "      <th>2</th>\n",
       "      <td>10</td>\n",
       "      <td>PR_P11245</td>\n",
       "      <td>protein-coding</td>\n",
       "    </tr>\n",
       "    <tr>\n",
       "      <th>3</th>\n",
       "      <td>10</td>\n",
       "      <td>PR_000011001</td>\n",
       "      <td>protein-coding</td>\n",
       "    </tr>\n",
       "    <tr>\n",
       "      <th>4</th>\n",
       "      <td>100</td>\n",
       "      <td>PR_000003707</td>\n",
       "      <td>protein-coding</td>\n",
       "    </tr>\n",
       "  </tbody>\n",
       "</table>\n",
       "</div>"
      ],
      "text/plain": [
       "   Gene_IDs Protein_Ontology_IDs       Gene_Type\n",
       "0         1            PR_P04217  protein-coding\n",
       "1         1         PR_000003511  protein-coding\n",
       "2        10            PR_P11245  protein-coding\n",
       "3        10         PR_000011001  protein-coding\n",
       "4       100         PR_000003707  protein-coding"
      ]
     },
     "execution_count": 52,
     "metadata": {},
     "output_type": "execute_result"
    }
   ],
   "source": [
    "egpr_data.head(n=5)"
   ]
  },
  {
   "cell_type": "markdown",
   "metadata": {},
   "source": [
    "<br>"
   ]
  },
  {
   "cell_type": "markdown",
   "metadata": {},
   "source": [
    "***\n",
    "***"
   ]
  },
  {
   "cell_type": "markdown",
   "metadata": {},
   "source": [
    "### Gene Symbol-Ensembl Transcript <a class=\"anchor\" id=\"genesymbol-ensembltranscript\"></a>\n",
    "\n",
    "**Purpose:** To map gene symbols to Ensembl transcript identifiers when creating the following edges: \n",
    "- chemical-rna  \n",
    "- rna-anatomy  \n",
    "- rna-cell  \n",
    "\n",
    "**Output:** [`GENE_SYMBOL_ENSEMBL_TRANSCRIPT_MAP.txt`](https://www.dropbox.com/s/7wdrbpc79kj3sr7/GENE_SYMBOL_ENSEMBL_TRANSCRIPT_MAP.txt?dl=1)"
   ]
  },
  {
   "cell_type": "code",
   "execution_count": 53,
   "metadata": {},
   "outputs": [
    {
     "name": "stderr",
     "output_type": "stream",
     "text": [
      "100%|██████████| 1160128/1160128 [01:47<00:00, 10817.72it/s] \n"
     ]
    }
   ],
   "source": [
    "genomic_id_mapper(reformatted_mapped_identifiers,\n",
    "                  processed_data_location + 'GENE_SYMBOL_ENSEMBL_TRANSCRIPT_MAP.txt',\n",
    "                  'symbol', 'transcript_stable_id',\n",
    "                  'transcript_type_update', False, False)"
   ]
  },
  {
   "cell_type": "markdown",
   "metadata": {},
   "source": [
    "_Preview Processed Data_"
   ]
  },
  {
   "cell_type": "code",
   "execution_count": 54,
   "metadata": {},
   "outputs": [
    {
     "name": "stdout",
     "output_type": "stream",
     "text": [
      "There are 269322 gene symbol-ensembl transcript edges\n"
     ]
    }
   ],
   "source": [
    "set_data = pandas.read_csv(processed_data_location + 'GENE_SYMBOL_ENSEMBL_TRANSCRIPT_MAP.txt',\n",
    "                            header=None,\n",
    "                            names=['Gene_Symbols', 'Ensembl_Transcript_IDs', 'Transcript_Type'],\n",
    "                            delimiter='\\t')\n",
    "\n",
    "print('There are {edge_count} gene symbol-ensembl transcript edges'.format(edge_count=len(set_data.drop_duplicates())))"
   ]
  },
  {
   "cell_type": "code",
   "execution_count": 55,
   "metadata": {},
   "outputs": [
    {
     "data": {
      "text/html": [
       "<div>\n",
       "<style scoped>\n",
       "    .dataframe tbody tr th:only-of-type {\n",
       "        vertical-align: middle;\n",
       "    }\n",
       "\n",
       "    .dataframe tbody tr th {\n",
       "        vertical-align: top;\n",
       "    }\n",
       "\n",
       "    .dataframe thead th {\n",
       "        text-align: right;\n",
       "    }\n",
       "</style>\n",
       "<table border=\"1\" class=\"dataframe\">\n",
       "  <thead>\n",
       "    <tr style=\"text-align: right;\">\n",
       "      <th></th>\n",
       "      <th>Gene_Symbols</th>\n",
       "      <th>Ensembl_Transcript_IDs</th>\n",
       "      <th>Transcript_Type</th>\n",
       "    </tr>\n",
       "  </thead>\n",
       "  <tbody>\n",
       "    <tr>\n",
       "      <th>0</th>\n",
       "      <td>ARF5</td>\n",
       "      <td>ENST00000000233</td>\n",
       "      <td>protein-coding</td>\n",
       "    </tr>\n",
       "    <tr>\n",
       "      <th>1</th>\n",
       "      <td>M6PR</td>\n",
       "      <td>ENST00000000412</td>\n",
       "      <td>protein-coding</td>\n",
       "    </tr>\n",
       "    <tr>\n",
       "      <th>2</th>\n",
       "      <td>ESRRA</td>\n",
       "      <td>ENST00000000442</td>\n",
       "      <td>protein-coding</td>\n",
       "    </tr>\n",
       "    <tr>\n",
       "      <th>3</th>\n",
       "      <td>FKBP4</td>\n",
       "      <td>ENST00000001008</td>\n",
       "      <td>protein-coding</td>\n",
       "    </tr>\n",
       "    <tr>\n",
       "      <th>4</th>\n",
       "      <td>CYP26B1</td>\n",
       "      <td>ENST00000001146</td>\n",
       "      <td>protein-coding</td>\n",
       "    </tr>\n",
       "  </tbody>\n",
       "</table>\n",
       "</div>"
      ],
      "text/plain": [
       "  Gene_Symbols Ensembl_Transcript_IDs Transcript_Type\n",
       "0         ARF5        ENST00000000233  protein-coding\n",
       "1         M6PR        ENST00000000412  protein-coding\n",
       "2        ESRRA        ENST00000000442  protein-coding\n",
       "3        FKBP4        ENST00000001008  protein-coding\n",
       "4      CYP26B1        ENST00000001146  protein-coding"
      ]
     },
     "execution_count": 55,
     "metadata": {},
     "output_type": "execute_result"
    }
   ],
   "source": [
    "set_data.head(n=5)"
   ]
  },
  {
   "cell_type": "markdown",
   "metadata": {},
   "source": [
    "<BR>"
   ]
  },
  {
   "cell_type": "markdown",
   "metadata": {},
   "source": [
    "***"
   ]
  },
  {
   "cell_type": "markdown",
   "metadata": {},
   "source": [
    "### STRING-Protein Ontology <a class=\"anchor\" id=\"string-proteinontology\"></a>\n",
    "\n",
    "**Purpose:** To map STRING identifiers to Protein Ontology identifiers when creating the following edges:   \n",
    "- protein-protein  \n",
    "\n",
    "**Output:** [`STRING_PRO_ONTOLOGY_MAP.txt`](https://www.dropbox.com/s/mpv6rzum0c1lgxe/STRING_PRO_ONTOLOGY_MAP.txt?dl=0=1)"
   ]
  },
  {
   "cell_type": "code",
   "execution_count": 56,
   "metadata": {},
   "outputs": [
    {
     "name": "stderr",
     "output_type": "stream",
     "text": [
      "100%|██████████| 1160128/1160128 [00:46<00:00, 25051.90it/s] \n"
     ]
    }
   ],
   "source": [
    "genomic_id_mapper(reformatted_mapped_identifiers,\n",
    "                  processed_data_location + 'STRING_PRO_ONTOLOGY_MAP.txt',\n",
    "                  'protein_stable_id', 'pro_id',\n",
    "                  None, False, True)"
   ]
  },
  {
   "cell_type": "markdown",
   "metadata": {},
   "source": [
    "_Preview Processed Data_"
   ]
  },
  {
   "cell_type": "code",
   "execution_count": 57,
   "metadata": {},
   "outputs": [
    {
     "name": "stdout",
     "output_type": "stream",
     "text": [
      "There are 208038 string-protein ontology edges\n"
     ]
    }
   ],
   "source": [
    "stpr_data = pandas.read_csv(processed_data_location + 'STRING_PRO_ONTOLOGY_MAP.txt',\n",
    "                            header=None,\n",
    "                            names=['STRING_IDs', 'Protein_Ontology_IDs', 'Genomic_Type'],\n",
    "                            delimiter='\\t')\n",
    "\n",
    "print('There are {edge_count} string-protein ontology edges'.format(edge_count=len(stpr_data.drop_duplicates())))"
   ]
  },
  {
   "cell_type": "code",
   "execution_count": 58,
   "metadata": {},
   "outputs": [
    {
     "data": {
      "text/html": [
       "<div>\n",
       "<style scoped>\n",
       "    .dataframe tbody tr th:only-of-type {\n",
       "        vertical-align: middle;\n",
       "    }\n",
       "\n",
       "    .dataframe tbody tr th {\n",
       "        vertical-align: top;\n",
       "    }\n",
       "\n",
       "    .dataframe thead th {\n",
       "        text-align: right;\n",
       "    }\n",
       "</style>\n",
       "<table border=\"1\" class=\"dataframe\">\n",
       "  <thead>\n",
       "    <tr style=\"text-align: right;\">\n",
       "      <th></th>\n",
       "      <th>STRING_IDs</th>\n",
       "      <th>Protein_Ontology_IDs</th>\n",
       "      <th>Genomic_Type</th>\n",
       "    </tr>\n",
       "  </thead>\n",
       "  <tbody>\n",
       "    <tr>\n",
       "      <th>0</th>\n",
       "      <td>ENSP00000000233</td>\n",
       "      <td>PR_000004204</td>\n",
       "      <td>None</td>\n",
       "    </tr>\n",
       "    <tr>\n",
       "      <th>1</th>\n",
       "      <td>ENSP00000000233</td>\n",
       "      <td>PR_P84085</td>\n",
       "      <td>None</td>\n",
       "    </tr>\n",
       "    <tr>\n",
       "      <th>2</th>\n",
       "      <td>ENSP00000000412</td>\n",
       "      <td>PR_000010032</td>\n",
       "      <td>None</td>\n",
       "    </tr>\n",
       "    <tr>\n",
       "      <th>3</th>\n",
       "      <td>ENSP00000000412</td>\n",
       "      <td>PR_P20645</td>\n",
       "      <td>None</td>\n",
       "    </tr>\n",
       "    <tr>\n",
       "      <th>4</th>\n",
       "      <td>ENSP00000000442</td>\n",
       "      <td>PR_000007208</td>\n",
       "      <td>None</td>\n",
       "    </tr>\n",
       "  </tbody>\n",
       "</table>\n",
       "</div>"
      ],
      "text/plain": [
       "        STRING_IDs Protein_Ontology_IDs Genomic_Type\n",
       "0  ENSP00000000233         PR_000004204         None\n",
       "1  ENSP00000000233            PR_P84085         None\n",
       "2  ENSP00000000412         PR_000010032         None\n",
       "3  ENSP00000000412            PR_P20645         None\n",
       "4  ENSP00000000442         PR_000007208         None"
      ]
     },
     "execution_count": 58,
     "metadata": {},
     "output_type": "execute_result"
    }
   ],
   "source": [
    "stpr_data.head(n=5)"
   ]
  },
  {
   "cell_type": "markdown",
   "metadata": {},
   "source": [
    "<br>"
   ]
  },
  {
   "cell_type": "markdown",
   "metadata": {},
   "source": [
    "***"
   ]
  },
  {
   "cell_type": "markdown",
   "metadata": {},
   "source": [
    "### Uniprot Accession-Protein Ontology <a class=\"anchor\" id=\"uniprotaccession-proteinontology\"></a>\n",
    "\n",
    "**Purpose:** To map Uniprot accession identifiers to Protein Ontology identifiers when creating the following edges:  \n",
    "- protein-gobp  \n",
    "- protein-gomf  \n",
    "- protein-gocc  \n",
    "- protein-cofactor  \n",
    "- protein-catalyst \n",
    "- protein-pathway\n",
    "\n",
    "**Output:** [`UNIPROT_ACCESSION_PRO_ONTOLOGY_MAP.txt`](https://www.dropbox.com/s/wvk1yv28xb06mfr/UNIPROT_ACCESSION_PRO_ONTOLOGY_MAP.txt?dl=1)"
   ]
  },
  {
   "cell_type": "code",
   "execution_count": 59,
   "metadata": {},
   "outputs": [
    {
     "name": "stderr",
     "output_type": "stream",
     "text": [
      "100%|██████████| 1160128/1160128 [01:29<00:00, 12981.75it/s] \n"
     ]
    }
   ],
   "source": [
    "genomic_id_mapper(reformatted_mapped_identifiers,\n",
    "                  processed_data_location + 'UNIPROT_ACCESSION_PRO_ONTOLOGY_MAP.txt',\n",
    "                  'uniprot_id', 'pro_id',\n",
    "                  None, False, True)"
   ]
  },
  {
   "cell_type": "markdown",
   "metadata": {},
   "source": [
    "_Preview Processed Data_"
   ]
  },
  {
   "cell_type": "code",
   "execution_count": 60,
   "metadata": {},
   "outputs": [
    {
     "name": "stdout",
     "output_type": "stream",
     "text": [
      "There are 299074 uniprot accession-protein ontology edges\n"
     ]
    }
   ],
   "source": [
    "uapr_data = pandas.read_csv(processed_data_location + 'UNIPROT_ACCESSION_PRO_ONTOLOGY_MAP.txt',\n",
    "                            header=None,\n",
    "                            names=['Uniprot_Accession_IDs', 'Protein_Ontology_IDs', 'Genomic_Type'],\n",
    "                            delimiter='\\t')\n",
    "\n",
    "print('There are {edge_count} uniprot accession-protein ontology edges'.format(edge_count=len(uapr_data.drop_duplicates())))"
   ]
  },
  {
   "cell_type": "code",
   "execution_count": 61,
   "metadata": {},
   "outputs": [
    {
     "data": {
      "text/html": [
       "<div>\n",
       "<style scoped>\n",
       "    .dataframe tbody tr th:only-of-type {\n",
       "        vertical-align: middle;\n",
       "    }\n",
       "\n",
       "    .dataframe tbody tr th {\n",
       "        vertical-align: top;\n",
       "    }\n",
       "\n",
       "    .dataframe thead th {\n",
       "        text-align: right;\n",
       "    }\n",
       "</style>\n",
       "<table border=\"1\" class=\"dataframe\">\n",
       "  <thead>\n",
       "    <tr style=\"text-align: right;\">\n",
       "      <th></th>\n",
       "      <th>Uniprot_Accession_IDs</th>\n",
       "      <th>Protein_Ontology_IDs</th>\n",
       "      <th>Genomic_Type</th>\n",
       "    </tr>\n",
       "  </thead>\n",
       "  <tbody>\n",
       "    <tr>\n",
       "      <th>0</th>\n",
       "      <td>A0A023HJ61</td>\n",
       "      <td>PR_P20338</td>\n",
       "      <td>None</td>\n",
       "    </tr>\n",
       "    <tr>\n",
       "      <th>1</th>\n",
       "      <td>A0A023HJ61</td>\n",
       "      <td>PR_000013631</td>\n",
       "      <td>None</td>\n",
       "    </tr>\n",
       "    <tr>\n",
       "      <th>2</th>\n",
       "      <td>A0A023IP86</td>\n",
       "      <td>PR_P13612</td>\n",
       "      <td>None</td>\n",
       "    </tr>\n",
       "    <tr>\n",
       "      <th>3</th>\n",
       "      <td>A0A023IP86</td>\n",
       "      <td>PR_000009129</td>\n",
       "      <td>None</td>\n",
       "    </tr>\n",
       "    <tr>\n",
       "      <th>4</th>\n",
       "      <td>A0A023IP88</td>\n",
       "      <td>PR_P13612</td>\n",
       "      <td>None</td>\n",
       "    </tr>\n",
       "  </tbody>\n",
       "</table>\n",
       "</div>"
      ],
      "text/plain": [
       "  Uniprot_Accession_IDs Protein_Ontology_IDs Genomic_Type\n",
       "0            A0A023HJ61            PR_P20338         None\n",
       "1            A0A023HJ61         PR_000013631         None\n",
       "2            A0A023IP86            PR_P13612         None\n",
       "3            A0A023IP86         PR_000009129         None\n",
       "4            A0A023IP88            PR_P13612         None"
      ]
     },
     "execution_count": 61,
     "metadata": {},
     "output_type": "execute_result"
    }
   ],
   "source": [
    "uapr_data.head(n=5)"
   ]
  },
  {
   "cell_type": "markdown",
   "metadata": {},
   "source": [
    "<br><br>"
   ]
  },
  {
   "cell_type": "markdown",
   "metadata": {},
   "source": [
    "***\n",
    "***\n",
    "### Other Identifier Mapping <a class=\"anchor\" id=\"other-identifier-mapping\"></a>\n",
    "***\n",
    "* [ChEBI Identifiers](#mesh-chebi)  \n",
    "* [Human Protein Atlas Tissue and Cell Types](#hpa-uberon) \n",
    "* [Human Disease and Phenotype Identifiers](#disease-identifiers) \n",
    "* [Reactome Pathways and the Pathway Ontology](#reactome-pw)  \n",
    "* [Genomic Identifiers and the Sequence Ontology](#genomic-so)  \n",
    "\n",
    "***\n",
    "***"
   ]
  },
  {
   "cell_type": "markdown",
   "metadata": {},
   "source": [
    "***\n",
    "### ChEBI-MeSH Identifiers <a class=\"anchor\" id=\"mesh-chebi\"></a>\n",
    "\n",
    "**Data Source Wiki Page:** [mapping-mesh-to-chebi](https://github.com/callahantiff/PheKnowLator/wiki/v2-Data-Sources#mapping-mesh-identifiers-to-chebi-identifiers)  \n",
    "\n",
    "**Purpose:** Map MeSH identifiers to ChEBI identifiers when creating the following edges:  \n",
    "- chemical-gene  \n",
    "- chemical-disease\n",
    "\n",
    "**Dependencies:** This script assumes that the [`ncbo_rest_api.py`](https://gist.github.com/callahantiff/a28fb3160782f42f104e9ec41553af0d) script was run and the data generated from this file was written to `./resources/processed_data/temp`. \n",
    "\n",
    "**Output:** [`MESH_CHEBI_MAP.txt`](https://www.dropbox.com/s/1mbd6a12dmjslae/MESH_CHEBI_MAP.txt?dl=1)\n"
   ]
  },
  {
   "cell_type": "code",
   "execution_count": null,
   "metadata": {},
   "outputs": [],
   "source": [
    "with open(processed_data_location + 'MESH_CHEBI_MAP.txt', 'w') as out:\n",
    "    for filename in tqdm(glob.glob(processed_data_location + 'temp/*.txt')):\n",
    "        for row in list(filter(None, open(filename, 'r').read().split('\\n'))):\n",
    "            mesh = '_'.join(row.split('\\t')[0].split('/')[-2:])\n",
    "            chebi = row.split('\\t')[1].split('/')[-1]\n",
    "            out.write(mesh + '\\t' + chebi + '\\n')\n",
    "\n",
    "out.close()"
   ]
  },
  {
   "cell_type": "markdown",
   "metadata": {},
   "source": [
    "_Preview Processed Data_"
   ]
  },
  {
   "cell_type": "code",
   "execution_count": null,
   "metadata": {},
   "outputs": [],
   "source": [
    "mc_data = pandas.read_csv(processed_data_location + 'MESH_CHEBI_MAP.txt',\n",
    "                          delimiter='\\t',\n",
    "                          header=None,\n",
    "                          names=['MeSH_IDs', 'ChEBI_IDs'])\n",
    "\n",
    "print('There are {edge_count} MeSH-ChEBI edges'.format(edge_count=len(mc_data)))"
   ]
  },
  {
   "cell_type": "code",
   "execution_count": null,
   "metadata": {},
   "outputs": [],
   "source": [
    "mc_data.head(n=5)"
   ]
  },
  {
   "cell_type": "markdown",
   "metadata": {},
   "source": [
    "<br>"
   ]
  },
  {
   "cell_type": "markdown",
   "metadata": {},
   "source": [
    "***\n",
    "***"
   ]
  },
  {
   "cell_type": "markdown",
   "metadata": {},
   "source": [
    "### Disease and Phenotype Identifiers <a class=\"anchor\" id=\"disease-identifiers\"></a>\n",
    "\n",
    "**Data Source Wiki Page:** [DisGeNET](https://github.com/callahantiff/PheKnowLator/wiki/v2-Data-Sources#disgenet)  \n",
    "\n",
    "**Purpose:** This script downloads the [disease_mappings.tsv](https://www.disgenet.org/static/disgenet_ap1/files/downloads/disease_mappings.tsv.gz) to map UMLS identifiers to Human Disease and Human Phenotype identifiers when creating the following edges:  \n",
    "- chemical-disease  \n",
    "- disease-phenotype\n",
    "\n",
    "**Output:**   \n",
    "- Human Disease Ontology Mappings ➞ [`DISEASE_DOID_MAP.txt`](https://www.dropbox.com/s/ziv0glx4ph9jidc/DISEASE_DOID_MAP.txt?dl=1)  \n",
    "- Human Phenotype Ontology Mappings ➞ [`PHENOTYPE_HPO_MAP.txt`](https://www.dropbox.com/s/71ts7kw44vm70tg/PHENOTYPE_HPO_MAP.txt?dl=1)"
   ]
  },
  {
   "cell_type": "code",
   "execution_count": null,
   "metadata": {},
   "outputs": [],
   "source": [
    "url = 'https://www.disgenet.org/static/disgenet_ap1/files/downloads/disease_mappings.tsv.gz'\n",
    "data_downloader(url, unprocessed_data_location)"
   ]
  },
  {
   "cell_type": "code",
   "execution_count": null,
   "metadata": {},
   "outputs": [],
   "source": [
    "disease_data = pandas.read_csv(unprocessed_data_location + 'disease_mappings.tsv',\n",
    "                               header=0,\n",
    "                               delimiter='\\t')  # DisGeNET change delimiter from \"|\" to \"\\t\" in May 2020\n",
    "\n",
    "disease_data.head(n=3)"
   ]
  },
  {
   "cell_type": "markdown",
   "metadata": {},
   "source": [
    "_Build Disease Identifier Dictionary_  \n",
    "In order to improve efficiency when mapping different disease terminology identifiers to the [Human Disease Ontology](https://github.com/callahantiff/PheKnowLator/wiki/v2-Data-Sources#human-disease-ontology) and [Human Phenotype Ontology](https://github.com/callahantiff/PheKnowLator/wiki/v2-Data-Sources#human-phenotype-ontology), we create a dictionary of disease identifiers."
   ]
  },
  {
   "cell_type": "code",
   "execution_count": null,
   "metadata": {},
   "outputs": [],
   "source": [
    "# convert to dictionary\n",
    "disease_dict = {}\n",
    "\n",
    "for idx, row in tqdm(disease_data.iterrows(), total=disease_data.shape[0]):\n",
    "    if row['vocabulary'] == 'MSH':\n",
    "        mesh_finder(disease_data, row['code'], 'MESH:', disease_dict)\n",
    "        print(row['code'])\n",
    "    elif row['vocabulary'] == 'OMIM':\n",
    "        mesh_finder(disease_data, row['code'], 'OMIM:', disease_dict)\n",
    "        print(row['code'])\n",
    "    elif row['vocabulary'] == 'ORDO':\n",
    "        mesh_finder(disease_data, row['code'], 'ORPHA:', disease_dict)\n",
    "        print(row['code'])\n",
    "    elif row['diseaseId'] in disease_dict.keys():\n",
    "        if row['vocabulary'] == 'DO':\n",
    "            disease_dict[row['diseaseId']].append('DOID_' + row['code']) \n",
    "        if row['vocabulary'] == 'HPO':\n",
    "            disease_dict[row['diseaseId']].append(row['code'].replace('HP:', 'HP_'))\n",
    "    else:\n",
    "        if row['vocabulary'] == 'DO':\n",
    "            disease_dict[row['diseaseId']] = ['DOID_' + row['code']] \n",
    "        if row['vocabulary'] == 'HPO':\n",
    "            disease_dict[row['diseaseId']] = [row['code'].replace('HP:', 'HP_')] "
   ]
  },
  {
   "cell_type": "markdown",
   "metadata": {},
   "source": [
    "_Write Mapping Data_"
   ]
  },
  {
   "cell_type": "code",
   "execution_count": null,
   "metadata": {},
   "outputs": [],
   "source": [
    "with open(processed_data_location + 'DISEASE_DOID_MAP.txt', 'w') as outfile1,open(processed_data_location + 'PHENOTYPE_HPO_MAP.txt', 'w') as outfile2:\n",
    "    for key, value in tqdm(disease_dict.items()):\n",
    "        for i in value:\n",
    "            # get diseases\n",
    "            if i.startswith('DOID_'): \n",
    "                outfile1.write(key.split(':')[-1] + '\\t' + i + '\\n')\n",
    "\n",
    "            # get phenotypes\n",
    "            if i.startswith('HP_'): \n",
    "                outfile2.write(key.split(':')[-1] + '\\t' + i + '\\n')\n",
    "\n",
    "outfile1.close()\n",
    "outfile2.close()"
   ]
  },
  {
   "cell_type": "markdown",
   "metadata": {},
   "source": [
    "<br>"
   ]
  },
  {
   "cell_type": "markdown",
   "metadata": {},
   "source": [
    "_Preview Processed Human Disease Ontology Mappings_"
   ]
  },
  {
   "cell_type": "code",
   "execution_count": null,
   "metadata": {},
   "outputs": [],
   "source": [
    "dis_data = pandas.read_csv(processed_data_location + 'DISEASE_DOID_MAP.txt',\n",
    "                           header=None,\n",
    "                           names=['Disease_IDs', 'DOID_IDs'],\n",
    "                           delimiter='\\t')\n",
    "\n",
    "print('There are {} disease-DOID edges'.format(len(dis_data)))"
   ]
  },
  {
   "cell_type": "code",
   "execution_count": null,
   "metadata": {},
   "outputs": [],
   "source": [
    "dis_data.head(n=5)"
   ]
  },
  {
   "cell_type": "markdown",
   "metadata": {},
   "source": [
    "<br>"
   ]
  },
  {
   "cell_type": "markdown",
   "metadata": {},
   "source": [
    "_Preview Processed Human Phenotype Mappings_"
   ]
  },
  {
   "cell_type": "code",
   "execution_count": null,
   "metadata": {},
   "outputs": [],
   "source": [
    "hp_data = pandas.read_csv(processed_data_location + 'PHENOTYPE_HPO_MAP.txt',\n",
    "                          header=None,\n",
    "                          names=['Disease_IDs', 'HP_IDs'],\n",
    "                          delimiter='\\t')\n",
    "\n",
    "print('There are {} phenotype-HPO edges'.format(len(hp_data)))"
   ]
  },
  {
   "cell_type": "code",
   "execution_count": null,
   "metadata": {},
   "outputs": [],
   "source": [
    "hp_data.head(n=5)"
   ]
  },
  {
   "cell_type": "markdown",
   "metadata": {},
   "source": [
    "<br>"
   ]
  },
  {
   "cell_type": "markdown",
   "metadata": {},
   "source": [
    "***"
   ]
  },
  {
   "cell_type": "markdown",
   "metadata": {},
   "source": [
    "### Human Protein Atlas/GTEx Tissue/Cells - UBERON + Cell Ontology + Cell Line Ontology <a class=\"anchor\" id=\"hpa-uberon\"></a>\n",
    "\n",
    "**Data Source Wiki Page:**  \n",
    "- [human-protein-atlas](https://github.com/callahantiff/PheKnowLator/wiki/v2-Data-Sources/#human-protein-atlas) \n",
    "- [genotype-tissue-expression-project](https://github.com/callahantiff/PheKnowLator/wiki/v2-Data-Sources#the-genotype-tissue-expression-gtex-project)  \n",
    "\n",
    "<br>\n",
    "\n",
    "**Purpose:** Downloads a query for cell, tissue, and blood types with overexpressed protein-coding genes in the human proteome ([`proteinatlas_search.tsv`](https://www.proteinatlas.org/api/search_download.php?search=&columns=g,eg,up,pe,rnatsm,rnaclsm,rnacasm,rnabrsm,rnabcsm,rnablsm,scl,t_RNA_adipose_tissue,t_RNA_adrenal_gland,t_RNA_amygdala,t_RNA_appendix,t_RNA_basal_ganglia,t_RNA_bone_marrow,t_RNA_breast,t_RNA_cerebellum,t_RNA_cerebral_cortex,t_RNA_cervix,_uterine,t_RNA_colon,t_RNA_corpus_callosum,t_RNA_ductus_deferens,t_RNA_duodenum,t_RNA_endometrium_1,t_RNA_epididymis,t_RNA_esophagus,t_RNA_fallopian_tube,t_RNA_gallbladder,t_RNA_heart_muscle,t_RNA_hippocampal_formation,t_RNA_hypothalamus,t_RNA_kidney,t_RNA_liver,t_RNA_lung,t_RNA_lymph_node,t_RNA_midbrain,t_RNA_olfactory_region,t_RNA_ovary,t_RNA_pancreas,t_RNA_parathyroid_gland,t_RNA_pituitary_gland,t_RNA_placenta,t_RNA_pons_and_medulla,t_RNA_prostate,t_RNA_rectum,t_RNA_retina,t_RNA_salivary_gland,t_RNA_seminal_vesicle,t_RNA_skeletal_muscle,t_RNA_skin_1,t_RNA_small_intestine,t_RNA_smooth_muscle,t_RNA_spinal_cord,t_RNA_spleen,t_RNA_stomach_1,t_RNA_testis,t_RNA_thalamus,t_RNA_thymus,t_RNA_thyroid_gland,t_RNA_tongue,t_RNA_tonsil,t_RNA_urinary_bladder,t_RNA_vagina,t_RNA_B-cells,t_RNA_dendritic_cells,t_RNA_granulocytes,t_RNA_monocytes,t_RNA_NK-cells,t_RNA_T-cells,t_RNA_total_PBMC,cell_RNA_A-431,cell_RNA_A549,cell_RNA_AF22,cell_RNA_AN3-CA,cell_RNA_ASC_diff,cell_RNA_ASC_TERT1,cell_RNA_BEWO,cell_RNA_BJ,cell_RNA_BJ_hTERT+,cell_RNA_BJ_hTERT+_SV40_Large_T+,cell_RNA_BJ_hTERT+_SV40_Large_T+_RasG12V,cell_RNA_CACO-2,cell_RNA_CAPAN-2,cell_RNA_Daudi,cell_RNA_EFO-21,cell_RNA_fHDF/TERT166,cell_RNA_HaCaT,cell_RNA_HAP1,cell_RNA_HBEC3-KT,cell_RNA_HBF_TERT88,cell_RNA_HDLM-2,cell_RNA_HEK_293,cell_RNA_HEL,cell_RNA_HeLa,cell_RNA_Hep_G2,cell_RNA_HHSteC,cell_RNA_HL-60,cell_RNA_HMC-1,cell_RNA_HSkMC,cell_RNA_hTCEpi,cell_RNA_hTEC/SVTERT24-B,cell_RNA_hTERT-HME1,cell_RNA_HUVEC_TERT2,cell_RNA_K-562,cell_RNA_Karpas-707,cell_RNA_LHCN-M2,cell_RNA_MCF7,cell_RNA_MOLT-4,cell_RNA_NB-4,cell_RNA_NTERA-2,cell_RNA_PC-3,cell_RNA_REH,cell_RNA_RH-30,cell_RNA_RPMI-8226,cell_RNA_RPTEC_TERT1,cell_RNA_RT4,cell_RNA_SCLC-21H,cell_RNA_SH-SY5Y,cell_RNA_SiHa,cell_RNA_SK-BR-3,cell_RNA_SK-MEL-30,cell_RNA_T-47d,cell_RNA_THP-1,cell_RNA_TIME,cell_RNA_U-138_MG,cell_RNA_U-2_OS,cell_RNA_U-2197,cell_RNA_U-251_MG,cell_RNA_U-266/70,cell_RNA_U-266/84,cell_RNA_U-698,cell_RNA_U-87_MG,cell_RNA_U-937,cell_RNA_WM-115,blood_RNA_basophil,blood_RNA_classical_monocyte,blood_RNA_eosinophil,blood_RNA_gdT-cell,blood_RNA_intermediate_monocyte,blood_RNA_MAIT_T-cell,blood_RNA_memory_B-cell,blood_RNA_memory_CD4_T-cell,blood_RNA_memory_CD8_T-cell,blood_RNA_myeloid_DC,blood_RNA_naive_B-cell,blood_RNA_naive_CD4_T-cell,blood_RNA_naive_CD8_T-cell,blood_RNA_neutrophil,blood_RNA_NK-cell,blood_RNA_non-classical_monocyte,blood_RNA_plasmacytoid_DC,blood_RNA_T-reg,blood_RNA_total_PBMC,brain_RNA_amygdala,brain_RNA_basal_ganglia,brain_RNA_cerebellum,brain_RNA_cerebral_cortex,brain_RNA_hippocampal_formation,brain_RNA_hypothalamus,brain_RNA_midbrain,brain_RNA_olfactory_region,brain_RNA_pons_and_medulla,brain_RNA_thalamus&format=tsv)) and median gene-level TPM by tissue for all genes that are not protein-coding ([`GTEx_Analysis_2017-06-05_v8_RNASeQCv1.1.9_gene_median_tpm.gct`](https://storage.googleapis.com/gtex_analysis_v8/rna_seq_data/GTEx_Analysis_2017-06-05_v8_RNASeQCv1.1.9_gene_median_tpm.gct.gz)) in order to create mappings between cell and tissue type strings to the Uber-Anatomy, Cell Ontology, and Cell Line Ontology concepts (see [human-protein-atlas](https://github.com/callahantiff/PheKnowLator/wiki/v2-Data-Sources#human-protein-atlas) for details on the mapping process). The mappings are then used to create the following edge types:  \n",
    "- rna-cell line  \n",
    "- rna-tissue type   \n",
    "- protein-cell line  \n",
    "- protein-tissue type  \n",
    "\n",
    "<br>\n",
    "\n",
    "**Output:**  \n",
    "- All HPA tissue and cell type strings ➞ [`HPA_tissues.txt`](https://www.dropbox.com/s/0w6lbrit4mag92h/HPA_tissues.txt?dl=1)  \n",
    "- Mapping HPA strings to ontology concepts (documentation) ➞ [`zooma_tissue_cell_mapping_04JAN2020.xlsx`](https://www.dropbox.com/s/0dh8tg8g4yvrl06/zooma_tissue_cell_mapping_04JAN2020.xlsx?dl=1)  \n",
    "- Final HPA-ontology mappings ➞ [`HPA_GTEx_TISSUE_CELL_MAP.txt`](https://www.dropbox.com/s/at00xui224syzh8/HPA_GTEx_TISSUE_CELL_MAP.txt?dl=1)\n",
    "- HPA Edges ➞ [`HPA_GTEX_RNA_GENE_PROTEIN_EDGES.txt`](https://www.dropbox.com/s/us3u516e4vhkuco/HPA_GTEX_RNA_GENE_PROTEIN_EDGES.txt?dl=1)"
   ]
  },
  {
   "cell_type": "markdown",
   "metadata": {},
   "source": [
    "**Human Protein Atlas**"
   ]
  },
  {
   "cell_type": "markdown",
   "metadata": {},
   "source": [
    "_Download Data_"
   ]
  },
  {
   "cell_type": "code",
   "execution_count": null,
   "metadata": {},
   "outputs": [],
   "source": [
    "url = 'https://www.proteinatlas.org/api/search_download.php?search=&columns=g,eg,up,pe,rnatsm,rnaclsm,rnacasm,rnabrsm,rnabcsm,rnablsm,scl,t_RNA_adipose_tissue,t_RNA_adrenal_gland,t_RNA_amygdala,t_RNA_appendix,t_RNA_basal_ganglia,t_RNA_bone_marrow,t_RNA_breast,t_RNA_cerebellum,t_RNA_cerebral_cortex,t_RNA_cervix,_uterine,t_RNA_colon,t_RNA_corpus_callosum,t_RNA_ductus_deferens,t_RNA_duodenum,t_RNA_endometrium_1,t_RNA_epididymis,t_RNA_esophagus,t_RNA_fallopian_tube,t_RNA_gallbladder,t_RNA_heart_muscle,t_RNA_hippocampal_formation,t_RNA_hypothalamus,t_RNA_kidney,t_RNA_liver,t_RNA_lung,t_RNA_lymph_node,t_RNA_midbrain,t_RNA_olfactory_region,t_RNA_ovary,t_RNA_pancreas,t_RNA_parathyroid_gland,t_RNA_pituitary_gland,t_RNA_placenta,t_RNA_pons_and_medulla,t_RNA_prostate,t_RNA_rectum,t_RNA_retina,t_RNA_salivary_gland,t_RNA_seminal_vesicle,t_RNA_skeletal_muscle,t_RNA_skin_1,t_RNA_small_intestine,t_RNA_smooth_muscle,t_RNA_spinal_cord,t_RNA_spleen,t_RNA_stomach_1,t_RNA_testis,t_RNA_thalamus,t_RNA_thymus,t_RNA_thyroid_gland,t_RNA_tongue,t_RNA_tonsil,t_RNA_urinary_bladder,t_RNA_vagina,t_RNA_B-cells,t_RNA_dendritic_cells,t_RNA_granulocytes,t_RNA_monocytes,t_RNA_NK-cells,t_RNA_T-cells,t_RNA_total_PBMC,cell_RNA_A-431,cell_RNA_A549,cell_RNA_AF22,cell_RNA_AN3-CA,cell_RNA_ASC_diff,cell_RNA_ASC_TERT1,cell_RNA_BEWO,cell_RNA_BJ,cell_RNA_BJ_hTERT+,cell_RNA_BJ_hTERT+_SV40_Large_T+,cell_RNA_BJ_hTERT+_SV40_Large_T+_RasG12V,cell_RNA_CACO-2,cell_RNA_CAPAN-2,cell_RNA_Daudi,cell_RNA_EFO-21,cell_RNA_fHDF/TERT166,cell_RNA_HaCaT,cell_RNA_HAP1,cell_RNA_HBEC3-KT,cell_RNA_HBF_TERT88,cell_RNA_HDLM-2,cell_RNA_HEK_293,cell_RNA_HEL,cell_RNA_HeLa,cell_RNA_Hep_G2,cell_RNA_HHSteC,cell_RNA_HL-60,cell_RNA_HMC-1,cell_RNA_HSkMC,cell_RNA_hTCEpi,cell_RNA_hTEC/SVTERT24-B,cell_RNA_hTERT-HME1,cell_RNA_HUVEC_TERT2,cell_RNA_K-562,cell_RNA_Karpas-707,cell_RNA_LHCN-M2,cell_RNA_MCF7,cell_RNA_MOLT-4,cell_RNA_NB-4,cell_RNA_NTERA-2,cell_RNA_PC-3,cell_RNA_REH,cell_RNA_RH-30,cell_RNA_RPMI-8226,cell_RNA_RPTEC_TERT1,cell_RNA_RT4,cell_RNA_SCLC-21H,cell_RNA_SH-SY5Y,cell_RNA_SiHa,cell_RNA_SK-BR-3,cell_RNA_SK-MEL-30,cell_RNA_T-47d,cell_RNA_THP-1,cell_RNA_TIME,cell_RNA_U-138_MG,cell_RNA_U-2_OS,cell_RNA_U-2197,cell_RNA_U-251_MG,cell_RNA_U-266/70,cell_RNA_U-266/84,cell_RNA_U-698,cell_RNA_U-87_MG,cell_RNA_U-937,cell_RNA_WM-115,blood_RNA_basophil,blood_RNA_classical_monocyte,blood_RNA_eosinophil,blood_RNA_gdT-cell,blood_RNA_intermediate_monocyte,blood_RNA_MAIT_T-cell,blood_RNA_memory_B-cell,blood_RNA_memory_CD4_T-cell,blood_RNA_memory_CD8_T-cell,blood_RNA_myeloid_DC,blood_RNA_naive_B-cell,blood_RNA_naive_CD4_T-cell,blood_RNA_naive_CD8_T-cell,blood_RNA_neutrophil,blood_RNA_NK-cell,blood_RNA_non-classical_monocyte,blood_RNA_plasmacytoid_DC,blood_RNA_T-reg,blood_RNA_total_PBMC,brain_RNA_amygdala,brain_RNA_basal_ganglia,brain_RNA_cerebellum,brain_RNA_cerebral_cortex,brain_RNA_hippocampal_formation,brain_RNA_hypothalamus,brain_RNA_midbrain,brain_RNA_olfactory_region,brain_RNA_pons_and_medulla,brain_RNA_thalamus&format=tsv'\n",
    "data_downloader(url, unprocessed_data_location, 'proteinatlas_search.tsv.gz')"
   ]
  },
  {
   "cell_type": "markdown",
   "metadata": {},
   "source": [
    "_Load Data_"
   ]
  },
  {
   "cell_type": "code",
   "execution_count": null,
   "metadata": {},
   "outputs": [],
   "source": [
    "hpa = pandas.read_csv(unprocessed_data_location + 'proteinatlas_search.tsv',\n",
    "                      header=0,\n",
    "                      delimiter='\\t')\n",
    "\n",
    "# replace NaN with 'None'\n",
    "hpa.fillna('None', inplace=True)"
   ]
  },
  {
   "cell_type": "markdown",
   "metadata": {},
   "source": [
    "_Identify HPA Terms Needing Mapping_  \n",
    "To expedite the mapping process, all HPA tissues, cells, cell lines, and fluid types are extracted from the HPA data columns."
   ]
  },
  {
   "cell_type": "code",
   "execution_count": null,
   "metadata": {},
   "outputs": [],
   "source": [
    "# retrieve terms to map\n",
    "terms_to_map = list(hpa.columns)\n",
    "\n",
    "# write results\n",
    "with open(unprocessed_data_location + 'HPA_tissues.txt', 'w') as outfile:\n",
    "    for x in tqdm(terms_to_map):\n",
    "        if x.endswith('[NX]'):\n",
    "            term = x.split('RNA - ')[-1].split(' [NX]')[:-1][0]\n",
    "            outfile.write(term + '\\n')\n",
    "\n",
    "outfile.close()"
   ]
  },
  {
   "cell_type": "markdown",
   "metadata": {},
   "source": [
    "<br>"
   ]
  },
  {
   "cell_type": "markdown",
   "metadata": {},
   "source": [
    "**Genotype-Tissue Expression Project**"
   ]
  },
  {
   "cell_type": "markdown",
   "metadata": {},
   "source": [
    "_Download Data_"
   ]
  },
  {
   "cell_type": "code",
   "execution_count": null,
   "metadata": {},
   "outputs": [],
   "source": [
    "url='https://storage.googleapis.com/gtex_analysis_v8/rna_seq_data/GTEx_Analysis_2017-06-05_v8_RNASeQCv1.1.9_gene_median_tpm.gct.gz'\n",
    "data_downloader(url, unprocessed_data_location)"
   ]
  },
  {
   "cell_type": "markdown",
   "metadata": {},
   "source": [
    "_Load Data_"
   ]
  },
  {
   "cell_type": "code",
   "execution_count": null,
   "metadata": {},
   "outputs": [],
   "source": [
    "gtex = pandas.read_csv(unprocessed_data_location + 'GTEx_Analysis_2017-06-05_v8_RNASeQCv1.1.9_gene_median_tpm.gct',\n",
    "                       header=0,\n",
    "                       skiprows=2,\n",
    "                       delimiter='\\t')\n",
    "\n",
    "# replace NaN with 'None'\n",
    "gtex.fillna('None', inplace=True)\n",
    "\n",
    "# remove identifier type, which appears after '.'\n",
    "gtex['Name'].replace('(\\..*)','', inplace=True, regex=True)"
   ]
  },
  {
   "cell_type": "markdown",
   "metadata": {},
   "source": [
    "<br>"
   ]
  },
  {
   "cell_type": "markdown",
   "metadata": {},
   "source": [
    "**Get Mapping Data**   \n",
    "Import the tissues, cells, cell lines, and fluids that we externally mapped from HPA and GTEx data to [UBERON](https://github.com/callahantiff/PheKnowLator/wiki/v2-Data-Sources#uber-anatomy-ontology), the [Cell Ontology](https://github.com/callahantiff/PheKnowLator/wiki/v2-Data-Sources#cell-ontology), and the [Cell Line Ontology](https://github.com/callahantiff/PheKnowLator/wiki/v2-Data-Sources#cell-line-ontology)."
   ]
  },
  {
   "cell_type": "code",
   "execution_count": null,
   "metadata": {},
   "outputs": [],
   "source": [
    "mapping_data = pandas.read_excel(open(unprocessed_data_location + 'zooma_tissue_cell_mapping_04JAN2020.xlsx', 'rb'),\n",
    "                                 sheet_name='Concept_Mapping - 04JAN2020',\n",
    "                                 header=0)\n",
    "\n",
    "# convert NaN to None\n",
    "mapping_data.fillna('None', inplace=True)\n",
    "\n",
    "# preview data\n",
    "mapping_data.head(n=3)"
   ]
  },
  {
   "cell_type": "markdown",
   "metadata": {},
   "source": [
    "<br>"
   ]
  },
  {
   "cell_type": "markdown",
   "metadata": {},
   "source": [
    "_Write HPA and GTEx Mapping Data_  \n",
    "The HPA and GTEx mapping data is written locally so that it can be used by the `PheKnowLator` algorithm when creating the knowledge graph edge lists. "
   ]
  },
  {
   "cell_type": "code",
   "execution_count": null,
   "metadata": {},
   "outputs": [],
   "source": [
    "with open(processed_data_location + 'HPA_GTEx_TISSUE_CELL_MAP.txt', 'w') as outfile:\n",
    "    for idx, row in tqdm(mapping_data.iterrows(), total=mapping_data.shape[0]):\n",
    "        if row['UBERON ID'] != 'None':\n",
    "            outfile.write(str(row['ORIGINAL TERM']).strip() + '\\t' + str(row['UBERON ID']).strip() + '\\n')\n",
    "        if row['CL ID'] != 'None':\n",
    "            outfile.write(str(row['ORIGINAL TERM']).strip() + '\\t' + str(row['CL ID']).strip() + '\\n')\n",
    "        if row['CLO ID'] != 'None':\n",
    "            outfile.write(str(row['ORIGINAL TERM']).strip() + '\\t' + str(row['CLO ID']).strip() + '\\n')\n",
    "\n",
    "outfile.close()"
   ]
  },
  {
   "cell_type": "markdown",
   "metadata": {},
   "source": [
    "_Preview Processed Data_"
   ]
  },
  {
   "cell_type": "code",
   "execution_count": null,
   "metadata": {},
   "outputs": [],
   "source": [
    "mapping_data = pandas.read_csv(processed_data_location + 'HPA_GTEx_TISSUE_CELL_MAP.txt',\n",
    "                               header=None,\n",
    "                               names=['TISSUE_CELL_TERM', 'ONTOLOGY_IDs'],\n",
    "                               delimiter='\\t')"
   ]
  },
  {
   "cell_type": "code",
   "execution_count": null,
   "metadata": {},
   "outputs": [],
   "source": [
    "mapping_data.head(n=3)"
   ]
  },
  {
   "cell_type": "markdown",
   "metadata": {},
   "source": [
    "<br>"
   ]
  },
  {
   "cell_type": "markdown",
   "metadata": {},
   "source": [
    "**Create Edge Data Set**"
   ]
  },
  {
   "cell_type": "markdown",
   "metadata": {},
   "source": [
    "_Human Protein Atlas_  \n",
    "The `HPA` data looped over and reformatted such all all tissue, cell, cell lines, and fluid types are stored as a nested list. As shown in the code chunk, you will see that the anatomy type is specified as an item in the list according to its type. This is done in order to make mapping more efficient while building the knowledge graph edge list."
   ]
  },
  {
   "cell_type": "code",
   "execution_count": null,
   "metadata": {},
   "outputs": [],
   "source": [
    "hpa_results = []\n",
    "\n",
    "for idx, row in tqdm(hpa.iterrows(), total=hpa.shape[0]):\n",
    "    if row['RNA tissue specific NX'] != 'None':\n",
    "        for x in row['RNA tissue specific NX'].split(';'):\n",
    "            hpa_results += [[row['Ensembl'], row['Gene'], row['Uniprot'], row['Evidence'], 'anatomy', x.split(':')[0]]]\n",
    "\n",
    "    if row['RNA cell line specific NX'] != 'None':\n",
    "        for x in row['RNA cell line specific NX'].split(';'):\n",
    "            hpa_results += [[row['Ensembl'], row['Gene'], row['Uniprot'], row['Evidence'], 'cell line', x.split(':')[0]]]\n",
    "\n",
    "    if row['RNA brain regional specific NX'] != 'None':\n",
    "        for x in row['RNA brain regional specific NX'].split(';'):\n",
    "            hpa_results += [[row['Ensembl'], row['Gene'], row['Uniprot'], row['Evidence'], 'anatomy', x.split(':')[0]]]\n",
    "\n",
    "    if row['RNA blood cell specific NX'] != 'None':\n",
    "        for x in row['RNA blood cell specific NX'].split(';'):\n",
    "            hpa_results += [[row['Ensembl'], row['Gene'], row['Uniprot'], row['Evidence'], 'anatomy', x.split(':')[0]]]\n",
    "\n",
    "    if row['RNA blood lineage specific NX'] != 'None':\n",
    "        for x in row['RNA blood lineage specific NX'].split(';'):\n",
    "            hpa_results += [[row['Ensembl'], row['Gene'], row['Uniprot'], row['Evidence'], 'anatomy', x.split(':')[0]]]"
   ]
  },
  {
   "cell_type": "markdown",
   "metadata": {},
   "source": [
    "<br>"
   ]
  },
  {
   "cell_type": "markdown",
   "metadata": {},
   "source": [
    "_Genotype-Tissue Expression Project_  \n",
    "The `GTEx` edge data is created by first filtering out all _protein-coding_ genes that appear in the `HPA` cell transcriptome data set. Once filter so that we are only left noncoding genes, we perform an additional filtering step to only add genes and their corresponding tissue, cell, or fluid, if the median expression is `>= 1.0`. The `GTEx` is formatted such all all tissue, cell, and fluid types occur as their own column and all unique genes occur as a row, thus the expression filtering step is performed while also reformatting the file. The genes and tissues/cells/fluids that meet criteria are stored as a nested list."
   ]
  },
  {
   "cell_type": "code",
   "execution_count": null,
   "metadata": {},
   "outputs": [],
   "source": [
    "# get a list of hpa protein-coding genes\n",
    "hpa_genes = list(hpa['Ensembl'].drop_duplicates(keep='first', inplace=False))\n",
    "\n",
    "# remove rows that contain protein coding genes\n",
    "gtex = gtex.loc[gtex['Name'].apply(lambda x: x not in hpa_genes)]\n",
    "\n",
    "# loop over data and re-organize - only keep results with tpm >= 1 and if gene symbol is not a protein-coding gene\n",
    "gtex_results = []\n",
    "\n",
    "for idx, row in tqdm(gtex.iterrows(), total=gtex.shape[0]):    \n",
    "    for col in list(gtex.columns)[2:]:\n",
    "        if row[col] >= 1.0:           \n",
    "            gtex_results += [[row['Name'], row['Description'], 'None', 'Evidence at transcript level', 'cell line' if 'Cells' in col else 'anatomy', col]]"
   ]
  },
  {
   "cell_type": "markdown",
   "metadata": {},
   "source": [
    "_Write Results_"
   ]
  },
  {
   "cell_type": "code",
   "execution_count": null,
   "metadata": {},
   "outputs": [],
   "source": [
    "with open(processed_data_location + 'HPA_GTEX_RNA_GENE_PROTEIN_EDGES.txt', 'w') as outfile:\n",
    "    for res in tqdm(hpa_results + gtex_results):\n",
    "        outfile.write(str(res[0]) + '\\t' + str(res[1]) + '\\t' + str(res[2]) + '\\t' + str(res[3]) + '\\t' + str(res[4]) + '\\t' + str(res[5]) + '\\n')\n",
    "\n",
    "outfile.close()"
   ]
  },
  {
   "cell_type": "markdown",
   "metadata": {},
   "source": [
    "_Preview Processed Data_"
   ]
  },
  {
   "cell_type": "code",
   "execution_count": null,
   "metadata": {},
   "outputs": [],
   "source": [
    "hpa_edges = pandas.read_csv(processed_data_location + 'HPA_GTEX_RNA_GENE_PROTEIN_EDGES.txt',\n",
    "                           header=None,\n",
    "                           names=['Ensembl_IDs', 'Gene_Symbols', 'Uniport_IDs', 'Evidence', 'Anatomy_Type', 'Anatomy'],\n",
    "                           low_memory=False,\n",
    "                           sep='\\t')\n",
    "\n",
    "print('There are {edge_count} edges'.format(edge_count=len(hpa_edges)))"
   ]
  },
  {
   "cell_type": "code",
   "execution_count": null,
   "metadata": {},
   "outputs": [],
   "source": [
    "hpa_edges.head(n=5)"
   ]
  },
  {
   "cell_type": "markdown",
   "metadata": {},
   "source": [
    "<br>"
   ]
  },
  {
   "cell_type": "markdown",
   "metadata": {},
   "source": [
    "***\n",
    "\n",
    "### Mapping Reactome Pathways to the Pathway Ontology <a class=\"anchor\" id=\"reactome-pw\"></a>\n",
    "\n",
    "**Data Source Wiki Page:** [Pathway Ontology](https://github.com/callahantiff/PheKnowLator/wiki/v2-Data-Sources/#pathway-ontology)  \n",
    "\n",
    "**Purpose:** This script downloads the [canonical pathways](http://compath.scai.fraunhofer.de/export_mappings) and [kegg-reactome pathway mappings](https://github.com/ComPath/resources/blob/master/mappings/kegg_reactome.csv) files from the [ComPath Ecosystem](https://github.com/ComPath) in order to create the following identifier mappings:  \n",
    "- `Reactome Pathway Identifiers`  ➞ `KEGG Pathway Identifiers` ➞ `Pathway Ontology Identifiers` \n",
    "\n",
    "**Output:**  \n",
    "- [`REACTOME_PW_GO_MAPPINGS.txt`](https://www.dropbox.com/s/6752jvjt5p3qf2e/REACTOME_PW_GO_MAPPINGS.txt?dl=1)\n"
   ]
  },
  {
   "cell_type": "markdown",
   "metadata": {},
   "source": [
    "**Download the Pathway Ontology**   \n",
    "Use [OWL Tools](https://github.com/owlcollab/owltools/wiki) to download the [Pathway Ontology](http://www.obofoundry.org/ontology/pw.html). Once downloaded, we read the ontology in as a `RDFLib` graph object so that we can query it to obtain all `DbXRefs`."
   ]
  },
  {
   "cell_type": "code",
   "execution_count": null,
   "metadata": {},
   "outputs": [],
   "source": [
    "# download ontology using subprocess and OWLTOOLS in order to get the ontology and its imported ontologies\n",
    "subprocess.check_call(['./pkt_kg/libs/owltools',\n",
    "                       'http://purl.obolibrary.org/obo/pw.owl',\n",
    "                       '--merge-import-closure',\n",
    "                       '-o',\n",
    "                       unprocessed_data_location + 'pw_with_imports.owl'])"
   ]
  },
  {
   "cell_type": "code",
   "execution_count": null,
   "metadata": {},
   "outputs": [],
   "source": [
    "pw_graph = Graph()\n",
    "pw_graph.parse(unprocessed_data_location + 'pw_with_imports.owl')\n",
    "\n",
    "print('There are {} axioms in the ontology (date: {})'.format(len(pw_graph), datetime.datetime.now().strftime('%m/%d/%Y')))"
   ]
  },
  {
   "cell_type": "code",
   "execution_count": null,
   "metadata": {},
   "outputs": [],
   "source": [
    "results = pw_graph.query(\n",
    "    \"\"\"SELECT DISTINCT ?c ?xref ?rel_syns ?exc_syns\n",
    "           WHERE {\n",
    "              ?c rdf:type owl:Class .\n",
    "              ?c rdfs:label ?c_label .\n",
    "              ?c_annot owl:annotatedSource ?c .\n",
    "              ?c_annot oboInOwl:hasDbXref ?xref .\n",
    "              ?c oboInOwl:hasRelatedSynonym ?rel_syns . \n",
    "              ?c oboInOwl:hasExactSynonym ?exc_syns .}\n",
    "           \"\"\", initNs={\"rdf\": 'http://www.w3.org/1999/02/22-rdf-syntax-ns#',\n",
    "                        \"rdfs\": 'http://www.w3.org/2000/01/rdf-schema#',\n",
    "                        \"owl\": 'http://www.w3.org/2002/07/owl#',\n",
    "                        \"oboInOwl\": 'http://www.geneontology.org/formats/oboInOwl#'}) "
   ]
  },
  {
   "cell_type": "markdown",
   "metadata": {},
   "source": [
    "_Reformat Mapping Results_  \n",
    "Create a dictionary of mapping results where pathway ontology identifiers are values and the keys are `DbXRef` identifiers.\n"
   ]
  },
  {
   "cell_type": "code",
   "execution_count": null,
   "metadata": {},
   "outputs": [],
   "source": [
    "id_mappings = {}\n",
    "\n",
    "for res in tqdm(results):\n",
    "    for x in res:\n",
    "        if 'http' not in x and 'PMID' not in x:\n",
    "            if str(x) in id_mappings.keys():\n",
    "                id_mappings[str(x)] |= set([str(res[0])])\n",
    "            else:\n",
    "                id_mappings[str(x)] = set([str(res[0])])\n",
    "\n",
    "print('There are {} results (date: {})'.format(len(id_mappings), datetime.datetime.now().strftime('%m/%d/%Y')))"
   ]
  },
  {
   "cell_type": "markdown",
   "metadata": {},
   "source": [
    "**Download Human Reactome Pathways**  \n",
    "Download a file of all [Reactome Pathways](https://reactome.org/download/current/ReactomePathways.txt), [Reactome's GO Annotations]('https://reactome.org/download/current/gene_association.reactome.gz'), and [Reactome's mappings to CHEBI](https://reactome.org/download/current/ChEBI2Reactome_All_Levels.txt). This file will be filtered to only include human pathways."
   ]
  },
  {
   "cell_type": "markdown",
   "metadata": {},
   "source": [
    "_Reactome Pathway Stable Identifiers_"
   ]
  },
  {
   "cell_type": "code",
   "execution_count": null,
   "metadata": {},
   "outputs": [],
   "source": [
    "url = 'https://reactome.org/download/current/ReactomePathways.txt'\n",
    "data_downloader(url, unprocessed_data_location)"
   ]
  },
  {
   "cell_type": "code",
   "execution_count": null,
   "metadata": {},
   "outputs": [],
   "source": [
    "reactome_pathways = pandas.read_csv(unprocessed_data_location + 'ReactomePathways.txt',\n",
    "                                    header=None,\n",
    "                                    delimiter='\\t',\n",
    "                                    low_memory=False)\n",
    "\n",
    "# remove all non-human pathways\n",
    "reactome_pathways = reactome_pathways.loc[reactome_pathways[2].apply(lambda x: x == 'Homo sapiens')] \n",
    "\n",
    "# save as list\n",
    "mapped_reactome_identifiers = {x:set(['PW_0000001']) for x in set(list(reactome_pathways[0]))}     \n"
   ]
  },
  {
   "cell_type": "markdown",
   "metadata": {},
   "source": [
    "_Reactome's Mappings to GO Annotations_"
   ]
  },
  {
   "cell_type": "code",
   "execution_count": null,
   "metadata": {},
   "outputs": [],
   "source": [
    "url = 'https://reactome.org/download/current/gene_association.reactome.gz'\n",
    "data_downloader(url, unprocessed_data_location)"
   ]
  },
  {
   "cell_type": "code",
   "execution_count": null,
   "metadata": {},
   "outputs": [],
   "source": [
    "reactome_pathways2 = pandas.read_csv(unprocessed_data_location + 'gene_association.reactome',\n",
    "                                     header=None,\n",
    "                                     delimiter='\\t',\n",
    "                                     skiprows=1,\n",
    "                                     low_memory=False)\n",
    "\n",
    "# remove all non-human pathways\n",
    "reactome_pathways2 = reactome_pathways2.loc[reactome_pathways2[12].apply(lambda x: x == 'taxon:9606')] \n",
    "\n",
    "# save as list\n",
    "mapped_reactome_identifiers.update({x.split(':')[-1]:set(['PW_0000001']) for x in set(list(reactome_pathways2[5]))})     \n"
   ]
  },
  {
   "cell_type": "markdown",
   "metadata": {},
   "source": [
    "_Reactome's Mappings to ChEBI_"
   ]
  },
  {
   "cell_type": "code",
   "execution_count": null,
   "metadata": {},
   "outputs": [],
   "source": [
    "url = 'https://reactome.org/download/current/ChEBI2Reactome_All_Levels.txt'\n",
    "data_downloader(url, unprocessed_data_location)"
   ]
  },
  {
   "cell_type": "code",
   "execution_count": null,
   "metadata": {},
   "outputs": [],
   "source": [
    "reactome_pathways3 = pandas.read_csv(unprocessed_data_location + 'ChEBI2Reactome_All_Levels.txt',\n",
    "                                     header=None,\n",
    "                                     delimiter='\\t',\n",
    "                                     low_memory=False)\n",
    "\n",
    "# remove all non-human pathways\n",
    "reactome_pathways3 = reactome_pathways3.loc[reactome_pathways3[5].apply(lambda x: x == 'Homo sapiens')] \n",
    "\n",
    "# save as list\n",
    "mapped_reactome_identifiers.update({x:set(['PW_0000001']) for x in set(list(reactome_pathways3[1]))})     \n"
   ]
  },
  {
   "cell_type": "markdown",
   "metadata": {},
   "source": [
    "**ComPath Reactome Pathway Mappings**  \n",
    "Use [ComPath Mappings](https://github.com/ComPath/resources/tree/master/mappings) to obtain the following mappings:  \n",
    "- `Reactome Pathway Identifiers`  ➞ `KEGG Pathway Identifiers` ➞ `Pathway Ontology Identifiers` "
   ]
  },
  {
   "cell_type": "markdown",
   "metadata": {},
   "source": [
    "_Canonical Pathways_"
   ]
  },
  {
   "cell_type": "code",
   "execution_count": null,
   "metadata": {},
   "outputs": [],
   "source": [
    "url1 = 'http://compath.scai.fraunhofer.de/export_mappings'\n",
    "data_downloader(url1, unprocessed_data_location, 'compath_canonical_pathway_mappings.txt')"
   ]
  },
  {
   "cell_type": "code",
   "execution_count": null,
   "metadata": {},
   "outputs": [],
   "source": [
    "compath_cannonical = pandas.read_csv(unprocessed_data_location + 'compath_canonical_pathway_mappings.txt',\n",
    "                               header=None,\n",
    "                               delimiter='\\t',\n",
    "                               low_memory=False)\n",
    "\n",
    "# replace NaN with 'None'\n",
    "compath_cannonical.fillna('None', inplace=True)"
   ]
  },
  {
   "cell_type": "code",
   "execution_count": null,
   "metadata": {},
   "outputs": [],
   "source": [
    "for idx, row in tqdm(compath_cannonical.iterrows(), total=compath_cannonical.shape[0]):\n",
    "    if row[6] == 'kegg' and 'KEGG:' + row[5].strip('path:hsa') in id_mappings.keys() and row[2] == 'reactome':\n",
    "        for x in id_mappings['KEGG:' + row[5].strip('path:hsa')]:\n",
    "            if row[1] in mapped_reactome_identifiers.keys():\n",
    "                mapped_reactome_identifiers[row[1]] |= set([x.split('/')[-1]])\n",
    "            else:\n",
    "                mapped_reactome_identifiers[row[1]] = set([x.split('/')[-1]])\n",
    "    \n",
    "    if (row[2] == 'kegg' and 'KEGG:' + row[1].strip('path:hsa') in id_mappings.keys()) and row[6] == 'reactome':\n",
    "        for x in id_mappings['KEGG:' + row[1].strip('path:hsa')]:\n",
    "            if row[5] in mapped_reactome_identifiers.keys():\n",
    "                mapped_reactome_identifiers[row[5]] |= set([x.split('/')[-1]])\n",
    "            else:\n",
    "                mapped_reactome_identifiers[row[5]] = set([x.split('/')[-1]])         "
   ]
  },
  {
   "cell_type": "markdown",
   "metadata": {},
   "source": [
    "_KEGG - Reactome Mappings_"
   ]
  },
  {
   "cell_type": "code",
   "execution_count": null,
   "metadata": {},
   "outputs": [],
   "source": [
    "url2 = 'https://raw.githubusercontent.com/ComPath/resources/master/mappings/kegg_reactome.csv'\n",
    "data_downloader(url2, unprocessed_data_location, 'kegg_reactome.csv')"
   ]
  },
  {
   "cell_type": "code",
   "execution_count": null,
   "metadata": {},
   "outputs": [],
   "source": [
    "kegg_reactome_map = pandas.read_csv(unprocessed_data_location + 'kegg_reactome.csv',\n",
    "                                    header=0,\n",
    "                                    delimiter=',',\n",
    "                                    low_memory=False)"
   ]
  },
  {
   "cell_type": "code",
   "execution_count": null,
   "metadata": {},
   "outputs": [],
   "source": [
    "for idx, row in tqdm(kegg_reactome_map.iterrows(), total=kegg_reactome_map.shape[0]):\n",
    "    if row['Source Resource'] == 'reactome' and 'KEGG:' + row['Target ID'].strip('path:hsa') in id_mappings.keys():\n",
    "        for x in id_mappings['KEGG:' + row['Target ID'].strip('path:hsa')]:\n",
    "            if row['Source ID'] in mapped_reactome_identifiers.keys():\n",
    "                mapped_reactome_identifiers[row['Source ID']] |= set([x.split('/')[-1]])\n",
    "            else:\n",
    "                mapped_reactome_identifiers[row['Source ID']] = set([x.split('/')[-1]])\n",
    "    \n",
    "    if row['Target Resource'] == 'reactome' and 'KEGG:' + row['Source Resource'].strip('path:hsa') in id_mappings.keys():\n",
    "        for x in id_mappings['KEGG:' + row['Source ID'].strip('path:hsa')]:\n",
    "            if row['Target ID'] in mapped_reactome_identifiers.keys():\n",
    "                mapped_reactome_identifiers[row['Target ID']] |= set([x.split('/')[-1]])\n",
    "            else:\n",
    "                mapped_reactome_identifiers[row['Target ID']] = set([x.split('/')[-1]])\n",
    "    "
   ]
  },
  {
   "cell_type": "markdown",
   "metadata": {},
   "source": [
    "**Reactome Pathway GO Annotation Mappings**  \n",
    "Use Reactome's [API](https://reactome.org/dev/content-service) to obtain the following mappings:  \n",
    "- `Reactome Pathway Identifiers`  ➞ `Gene Ontology Identifiers`\n"
   ]
  },
  {
   "cell_type": "code",
   "execution_count": null,
   "metadata": {},
   "outputs": [],
   "source": [
    "for request_ids in tqdm(list(chunks(list(mapped_reactome_identifiers.keys()), 20))):\n",
    "    for res in content.query_ids(ids=','.join(request_ids)):\n",
    "        for key in res.keys(): \n",
    "            if key == 'goBiologicalProcess':\n",
    "                for x in res[key]:\n",
    "                    if res['stId'] in mapped_reactome_identifiers.keys():\n",
    "                        mapped_reactome_identifiers[res['stId']] |= set(['GO_' + res[key]['accession']])\n",
    "                    else:\n",
    "                        mapped_reactome_identifiers[res['stId']] = set(['GO_' + res[key]['accession']])"
   ]
  },
  {
   "cell_type": "markdown",
   "metadata": {},
   "source": [
    "**Write Mappings**"
   ]
  },
  {
   "cell_type": "code",
   "execution_count": null,
   "metadata": {},
   "outputs": [],
   "source": [
    "# reformat data and write it out\n",
    "with open(processed_data_location + 'REACTOME_PW_GO_MAPPINGS.txt', 'w') as outfile:\n",
    "    for key in tqdm(mapped_reactome_identifiers.keys()):\n",
    "        for mapping in mapped_reactome_identifiers[key]:\n",
    "            outfile.write(key + '\\t' + mapping + '\\n')\n",
    "\n",
    "outfile.close()"
   ]
  },
  {
   "cell_type": "code",
   "execution_count": null,
   "metadata": {},
   "outputs": [],
   "source": [
    "pw_data = pandas.read_csv(processed_data_location + 'REACTOME_PW_GO_MAPPINGS.txt',\n",
    "                           header=None,\n",
    "                           names=['Pathway_IDs', 'Mapping_IDs'],\n",
    "                           delimiter='\\t')\n",
    "\n",
    "print('There are {edge_count} pathway ontology mappings'.format(edge_count=len(pw_data)))"
   ]
  },
  {
   "cell_type": "code",
   "execution_count": null,
   "metadata": {},
   "outputs": [],
   "source": [
    "pw_data.head(n=5)"
   ]
  },
  {
   "cell_type": "markdown",
   "metadata": {},
   "source": [
    "<br>"
   ]
  },
  {
   "cell_type": "markdown",
   "metadata": {},
   "source": [
    "***\n",
    "\n",
    "### Mapping Genomic Identifiers to the Sequence Ontology <a class=\"anchor\" id=\"genomic-soo\"></a>\n",
    "\n",
    "**Data Source Wiki Page:** [Sequence Ontology](https://github.com/callahantiff/PheKnowLator/wiki/v2-Data-Sources/_edit#sequence-ontology)  \n",
    "\n",
    "**Purpose:** This script downloads the [genomic identifier mapping](https://www.dropbox.com/s/g0blo27qc8ogvk2/genomic_sequence_ontology_mappings.xlsx?dl=1) file in order to create the following identifier mappings:  \n",
    "- `Gene BioTypes`  ➞ `Sequence Ontology Identifiers`  \n",
    "- `RNA BioTypes`  ➞ `Sequence Ontology Identifiers`  \n",
    "- `variant Types`  ➞ `Sequence Ontology Identifiers`\n",
    "\n",
    "**Output:**  \n",
    "- [`SO_GENE_TRANSCRIPT_VARIANT_TYPE_MAPPING.txt`](https://www.dropbox.com/s/6dl73a3470u1hcr/SO_GENE_TRANSCRIPT_VARIANT_TYPE_MAPPING.txt?dl=1)\n"
   ]
  },
  {
   "cell_type": "code",
   "execution_count": null,
   "metadata": {},
   "outputs": [],
   "source": [
    "mapping_data = pandas.read_excel(open(unprocessed_data_location + 'genomic_sequence_ontology_mappings.xlsx', 'rb'),\n",
    "                                 sheet_name='GenomicType_SO_Map_09Mar2020',\n",
    "                                 header=0)\n",
    "\n",
    "# convert data to dictionary\n",
    "genomic_type_so_map = {}\n",
    "\n",
    "for idx, row in tqdm(mapping_data.iterrows(), total=mapping_data.shape[0]):\n",
    "    genomic_type_so_map[row['source_*_type'] + '_' + row['Genomic']] = row['SO ID']\n"
   ]
  },
  {
   "cell_type": "markdown",
   "metadata": {},
   "source": [
    "**Genes**"
   ]
  },
  {
   "cell_type": "code",
   "execution_count": null,
   "metadata": {},
   "outputs": [],
   "source": [
    "# read in genomic mapping data\n",
    "genomic_mapped_ids = pickle.load(open(processed_data_location + 'Merged_gene_rna_protein_identifiers.pkl', 'rb'),\n",
    "                                 encoding='bytes')\n"
   ]
  },
  {
   "cell_type": "code",
   "execution_count": null,
   "metadata": {},
   "outputs": [],
   "source": [
    "sequence_map = {}\n",
    "\n",
    "for identifier in tqdm(genomic_mapped_ids.keys()):    \n",
    "    if identifier.startswith('entrez_id_') and identifier.replace('entrez_id_', '') != 'None':\n",
    "        id_clean = identifier.replace('entrez_id_', '')\n",
    "        \n",
    "        # get identifier types\n",
    "        ensembl = [x.replace('ensembl_gene_type_', '') for x in genomic_mapped_ids[identifier] if x.startswith('ensembl_gene_type') and x != 'ensembl_gene_type_unknown']\n",
    "        hgnc = [x.replace('hgnc_gene_type_', '')  for x in genomic_mapped_ids[identifier] if x.startswith('hgnc_gene_type') and x != 'hgnc_gene_type_unknown']\n",
    "        entrez = [x.replace('entrez_gene_type_', '')  for x in genomic_mapped_ids[identifier] if x.startswith('entrez_gene_type') and x != 'entrez_gene_type_unknown']\n",
    "        \n",
    "        # determine gene type\n",
    "        if len(ensembl) > 0:\n",
    "            gene_type = genomic_type_so_map[ensembl[0].replace('ensembl_gene_type_', '') + '_Gene']\n",
    "        elif len(hgnc) > 0:\n",
    "            gene_type = genomic_type_so_map[hgnc[0].replace('hgnc_gene_type_', '') + '_Gene']\n",
    "        elif len(entrez) > 0:\n",
    "            gene_type = genomic_type_so_map[entrez[0].replace('entrez_gene_type_', '') + '_Gene']\n",
    "        else:\n",
    "            gene_type = 'SO_0000704'\n",
    "        \n",
    "        # update sequence map\n",
    "        if id_clean in sequence_map.keys():\n",
    "            sequence_map[id_clean] += [gene_type]\n",
    "        else:\n",
    "            sequence_map[id_clean] = [gene_type]\n",
    "    "
   ]
  },
  {
   "cell_type": "markdown",
   "metadata": {},
   "source": [
    "**Transcripts**"
   ]
  },
  {
   "cell_type": "code",
   "execution_count": null,
   "metadata": {},
   "outputs": [],
   "source": [
    "# read in processed Ensembl Transcript data \n",
    "transcript_data = pandas.read_csv(processed_data_location + 'ensembl_identifier_data_cleaned.txt',\n",
    "                                  header=0,\n",
    "                                  delimiter='\\t',\n",
    "                                  low_memory=False)\n",
    "\n",
    "# convert to dictionary\n",
    "transcripts = {}\n",
    "\n",
    "for idx, row in tqdm(transcript_data.iterrows(), total=transcript_data.shape[0]):\n",
    "    if row['transcript_stable_id'] != 'None':\n",
    "        if row['transcript_stable_id'].replace('transcript_stable_id_', '') in transcripts.keys():\n",
    "            transcripts[row['transcript_stable_id'].replace('transcript_stable_id_', '')] += [row['ensembl_transcript_type']]\n",
    "        else:\n",
    "            transcripts[row['transcript_stable_id'].replace('transcript_stable_id_', '')] = [row['ensembl_transcript_type']]\n"
   ]
  },
  {
   "cell_type": "code",
   "execution_count": null,
   "metadata": {},
   "outputs": [],
   "source": [
    "# update SO map dictionary\n",
    "for identifier in tqdm(transcripts.keys()):\n",
    "    \n",
    "    # map transcript type\n",
    "    if transcripts[identifier][0] == 'protein_coding':\n",
    "        trans_type = genomic_type_so_map['protein-coding_Transcript']\n",
    "    elif transcripts[identifier][0] == 'misc_RNA':\n",
    "        trans_type = genomic_type_so_map['miscRNA_Transcript']\n",
    "    else:\n",
    "        trans_type = genomic_type_so_map[list(set(transcripts[identifier]))[0] + '_Transcript']\n",
    "\n",
    "    sequence_map[identifier] = [trans_type, 'SO_0000673']\n",
    "        "
   ]
  },
  {
   "cell_type": "markdown",
   "metadata": {},
   "source": [
    "**Variants**"
   ]
  },
  {
   "cell_type": "code",
   "execution_count": null,
   "metadata": {
    "code_folding": []
   },
   "outputs": [],
   "source": [
    "# read in variant summary data \n",
    "# (assumes that is was already downloaded from 'ftp://ftp.ncbi.nlm.nih.gov/pub/clinvar/tab_delimited/variant_summary.txt.gz')\n",
    "variant_data = pandas.read_csv(unprocessed_data_location + 'variant_summary.txt',\n",
    "                               header=0,\n",
    "                               delimiter='\\t',\n",
    "                               low_memory=False)\n",
    "\n",
    "# convert to dictionary\n",
    "variants = {}\n",
    "\n",
    "for idx, row in tqdm(variant_data.iterrows(), total=variant_data.shape[0]):\n",
    "    if row['Assembly'] == 'GRCh38' and row['RS# (dbSNP)'] != -1:\n",
    "        if 'rs' + str(row['RS# (dbSNP)']) in variants.keys():\n",
    "                variants['rs' + str(row['RS# (dbSNP)'])] |= set([row['Type']])\n",
    "        else:\n",
    "            variants['rs' + str(row['RS# (dbSNP)'])] = set([row['Type']])\n"
   ]
  },
  {
   "cell_type": "code",
   "execution_count": null,
   "metadata": {},
   "outputs": [],
   "source": [
    "# update SO map dictionary\n",
    "for identifier in tqdm(variants.keys()):\n",
    "    for typ in variants[identifier]:\n",
    "    \n",
    "        # map variant type\n",
    "        var_type = genomic_type_so_map[typ + '_Variant']\n",
    "\n",
    "        if identifier in sequence_map.keys():\n",
    "            sequence_map[identifier] += [var_type]\n",
    "        else:\n",
    "            sequence_map[identifier] = [var_type]\n"
   ]
  },
  {
   "cell_type": "markdown",
   "metadata": {},
   "source": [
    "**Write Data**"
   ]
  },
  {
   "cell_type": "code",
   "execution_count": null,
   "metadata": {},
   "outputs": [],
   "source": [
    "# reformat data and write it out\n",
    "with open(processed_data_location + 'SO_GENE_TRANSCRIPT_VARIANT_TYPE_MAPPING.txt', 'w') as outfile:\n",
    "    for key in tqdm(sequence_map.keys()):\n",
    "        for map_type in sequence_map[key]:\n",
    "            outfile.write(key + '\\t' + map_type + '\\n')\n",
    "\n",
    "outfile.close()"
   ]
  },
  {
   "cell_type": "code",
   "execution_count": null,
   "metadata": {},
   "outputs": [],
   "source": [
    "so_data = pandas.read_csv(processed_data_location + 'SO_GENE_TRANSCRIPT_VARIANT_TYPE_MAPPING.txt',\n",
    "                           header=None,\n",
    "                           names=['Identifier', 'Sequence_Ontology_ID'],\n",
    "                           delimiter='\\t')\n",
    "\n",
    "print('There are {edge_count} sequence ontology mappings'.format(edge_count=len(so_data)))"
   ]
  },
  {
   "cell_type": "code",
   "execution_count": null,
   "metadata": {},
   "outputs": [],
   "source": [
    "so_data.head(n=5)"
   ]
  },
  {
   "cell_type": "markdown",
   "metadata": {},
   "source": [
    "<br>"
   ]
  },
  {
   "cell_type": "markdown",
   "metadata": {},
   "source": [
    "**Combine Pathway and Sequence Ontology Mapping Data in Dictionary**  \n",
    "Combine the pathway and sequence mapping data into a dictionary and output it."
   ]
  },
  {
   "cell_type": "code",
   "execution_count": null,
   "metadata": {},
   "outputs": [],
   "source": [
    "subclass_mapping = {}  \n",
    "\n",
    "# combine genomic and pathway maps\n",
    "sequence_map.update(mapped_reactome_identifiers)\n",
    "\n",
    "# iterate over pathway lists and combine them\n",
    "for key in tqdm(sequence_map.keys()):\n",
    "    subclass_mapping[key] = sequence_map[key]\n"
   ]
  },
  {
   "cell_type": "code",
   "execution_count": null,
   "metadata": {},
   "outputs": [],
   "source": [
    "# save a copy of the dictionary\n",
    "pickle.dump(subclass_mapping, open(processed_data_location + 'subclass_construction_map.pkl', 'wb'), protocol=4)\n"
   ]
  },
  {
   "cell_type": "markdown",
   "metadata": {},
   "source": [
    "<br>"
   ]
  },
  {
   "cell_type": "markdown",
   "metadata": {},
   "source": [
    "***\n",
    "***\n",
    "### CREATE EDGE DATASETS  <a class=\"anchor\" id=\"create-edge-datasets\"></a>\n",
    "***\n",
    "***\n",
    "\n",
    "### Ontologies  <a class=\"anchor\" id=\"ontologies\"></a>\n",
    "***\n",
    "- [Protein Ontology](#protein-ontology)  \n",
    "- [Relations Ontology](#relations-ontology)  \n",
    "\n",
    "***\n",
    "***"
   ]
  },
  {
   "cell_type": "markdown",
   "metadata": {},
   "source": [
    "***\n",
    "### Protein Ontology <a class=\"anchor\" id=\"protein-ontology\"></a>\n",
    "\n",
    "**Data Source Wiki Page:** [protein-ontology](https://github.com/callahantiff/PheKnowLator/wiki/v2-Data-Sources#human-phenotype-ontology)  \n",
    "\n",
    "**Purpose:** This script uses OWlTools to download the [pr.owl](http://purl.obolibrary.org/obo/pr.owl) (with imports) file from [ProConsortium.org](https://proconsortium.org/) in order to create a version of the ontology that contains only human proteins. This is achieved by performing forward and reverse breadth first search over all proteins which are `owl:subClassOf` [Homo sapiens protein](https://proconsortium.org/app/entry/PR%3A000029067/).\n",
    "\n",
    "<br>\n",
    "\n",
    "**Output:**  \n",
    "- Human Protein Ontology ➞ [`human_pro.owl`](https://www.dropbox.com/s/t7sq1dshu2usmkj/human_pro.owl?dl=1)\n",
    "- Classified Human Protein Ontology (Hermit) ➞ [`human_pro_closed.owl`](https://www.dropbox.com/s/khtyja0zw14rp32/human_pro_closed.owl?dl=1)\n"
   ]
  },
  {
   "cell_type": "code",
   "execution_count": null,
   "metadata": {},
   "outputs": [],
   "source": [
    "# download ontology using subprocess and OWLTOOLS in order to get the ontology and its imported ontologies\n",
    "subprocess.check_call(['./pkt_kg/libs/owltools',\n",
    "                       'http://purl.obolibrary.org/obo/pr.owl',\n",
    "                       '--merge-import-closure',\n",
    "                       '-o',\n",
    "                       unprocessed_data_location + 'pw_with_imports.owl'])"
   ]
  },
  {
   "cell_type": "code",
   "execution_count": null,
   "metadata": {},
   "outputs": [],
   "source": [
    "# read in ontology as graph (the ontology is large so this takes ~60 minutes) - 11,799,102 edges on 06/08/2020\n",
    "graph = Graph()\n",
    "graph.parse(unprocessed_data_location + 'pw_with_imports.owl')\n",
    "\n",
    "print('There are {} axioms in the ontology (date: {})'.format(len(graph), datetime.datetime.now().strftime('%m/%d/%Y')))"
   ]
  },
  {
   "cell_type": "markdown",
   "metadata": {},
   "source": [
    "_Convert Ontology to Directed MulitGraph_  \n",
    "In order to create a version of the ontology which includes all relevant human edges, we need to first convert the KG to a [directed multigraph](https://networkx.github.io/documentation/stable/reference/classes/multidigraph.html)."
   ]
  },
  {
   "cell_type": "code",
   "execution_count": null,
   "metadata": {},
   "outputs": [],
   "source": [
    "# convert RDF graph to multidigraph\n",
    "networkx_mdg: networkx.MultiDiGraph = networkx.MultiDiGraph()\n",
    "    \n",
    "for s, p, o in tqdm(graph):\n",
    "    networkx_mdg.add_edge(s, o, **{'key': p})"
   ]
  },
  {
   "cell_type": "markdown",
   "metadata": {},
   "source": [
    "_Identify Human Proteins_   \n",
    "A list of human proteins is obtained by querying the ontology to return all ontology classes `only_in_taxon some Homo sapiens`. To expedite the query time, the following SPARQL query is run from the [ProConsortium](https://proconsortium.org/pro_sparql.shtml) SPARQL endpoint: \n",
    "\n",
    "```SPARQL\n",
    "PREFIX obo: <http://purl.obolibrary.org/obo/>\n",
    "\n",
    "SELECT ?PRO_term\n",
    "FROM <http://purl.obolibrary.org/obo/pr>\n",
    "WHERE {\n",
    "       ?PRO_term rdf:type owl:Class .\n",
    "       ?PRO_term rdfs:subClassOf ?restriction .\n",
    "       ?restriction owl:onProperty obo:RO_0002160 .\n",
    "       ?restriction owl:someValuesFrom obo:NCBITaxon_9606 .\n",
    "\n",
    "       # use this to filter-out things like hgnc ids\n",
    "       FILTER (regex(?PRO_term,\"http://purl.obolibrary.org/obo/*\")) .\n",
    "}\n",
    "\n",
    "```\n"
   ]
  },
  {
   "cell_type": "code",
   "execution_count": null,
   "metadata": {},
   "outputs": [],
   "source": [
    "# download data - pro classes only_in_taxon some Homo sapiens (61,025 classes on 06/08/2020)\n",
    "url = 'https://sparql.proconsortium.org/virtuoso/sparql?default-graph-uri=&query=PREFIX+obo%3A+%3Chttp%3A%2F%2Fpurl.obolibrary.org%2Fobo%2F%3E%0D%0A%0D%0ASELECT+%3FPRO_term%0D%0AFROM+%3Chttp%3A%2F%2Fpurl.obolibrary.org%2Fobo%2Fpr%3E%0D%0AWHERE+%7B%0D%0A+++++++%3FPRO_term+rdf%3Atype+owl%3AClass+.%0D%0A+++++++%3FPRO_term+rdfs%3AsubClassOf+%3Frestriction+.%0D%0A+++++++%3Frestriction+owl%3AonProperty+obo%3ARO_0002160+.%0D%0A+++++++%3Frestriction+owl%3AsomeValuesFrom+obo%3ANCBITaxon_9606+.%0D%0A%0D%0A+++++++%23+use+this+to+filter-out+things+like+hgnc+ids%0D%0A+++++++FILTER+%28regex%28%3FPRO_term%2C%22http%3A%2F%2Fpurl.obolibrary.org%2Fobo%2F*%22%29%29+.%0D%0A%7D&format=text%2Fhtml&timeout=5000&debug=on'\n",
    "html = requests.get(url, allow_redirects=True).content\n",
    "\n",
    "# extract data from html table\n",
    "df_list = pandas.read_html(html)\n",
    "human_pro_classes = list(df_list[-1]['PRO_term'])\n",
    "\n",
    "print('There are {} edges in the ontology (date:{})'.format(len(human_pro_classes), datetime.datetime.now().strftime('%m/%d/%Y')))\n"
   ]
  },
  {
   "cell_type": "markdown",
   "metadata": {},
   "source": [
    "<br>"
   ]
  },
  {
   "cell_type": "markdown",
   "metadata": {},
   "source": [
    "_Construct Human PRO_   \n",
    "Now that we have all of the paths from the original graph that are relevant to humans, we can construct a human-only version of the PRotein ontology."
   ]
  },
  {
   "cell_type": "code",
   "execution_count": null,
   "metadata": {},
   "outputs": [],
   "source": [
    "# create a new graph using bfs paths\n",
    "human_pro_graph = Graph()\n",
    "human_networkx_mdg = networkx.MultiDiGraph()\n",
    "\n",
    "for node in tqdm(human_pro_classes):\n",
    "    forward = list(networkx.edge_bfs(networkx_mdg, URIRef(node), orientation='original'))\n",
    "    reverse = list(networkx.edge_bfs(networkx_mdg, URIRef(node), orientation='reverse'))\n",
    "    \n",
    "    # add edges from forward and reverse bfs paths\n",
    "    for path in forward + reverse:\n",
    "        human_pro_graph.add((path[0], path[2], path[1]))\n",
    "        human_networkx_mdg.add_edge(path[0], path[1], path[2])"
   ]
  },
  {
   "cell_type": "code",
   "execution_count": null,
   "metadata": {},
   "outputs": [],
   "source": [
    "# verify that the constructed ontology only has 1 component\n",
    "networkx.number_connected_components(human_networkx_mdg.to_undirected())"
   ]
  },
  {
   "cell_type": "code",
   "execution_count": null,
   "metadata": {},
   "outputs": [],
   "source": [
    "# save filtered ontology\n",
    "human_pro_graph.serialize(destination=unprocessed_data_location + 'human_pro.owl', format='xml')"
   ]
  },
  {
   "cell_type": "markdown",
   "metadata": {},
   "source": [
    "<br>"
   ]
  },
  {
   "cell_type": "markdown",
   "metadata": {},
   "source": [
    "_Classify Ontology_  \n",
    "To ensure that we have correclty built the new ontology, we run the hermit reasoner over it to ensure that there are no incomplete triples or inconsistent classes. In order to do this, we will call the reasoner using [OWLTools](https://github.com/owlcollab/owltools), which this script assumes has already been downloaded to the `./resources/lib` directory. The following arguments are then called to run the reasoner (from the command line):  \n",
    "\n",
    "```bash\n",
    "./resources/lib/owltools ./resources/processed_data/unprocessed_data/human_pro.owl --reasoner hermit --run-reasoner --assert-implied -o ./resources/processed_data/human_pro_closed.owl\n",
    "```\n",
    "\n",
    "_**Note.** This step takes around 30 minutes to run. When run from the command line the reasoner determined that the ontology was consistent and 12 new axioms were inferred (06/08/2020)._"
   ]
  },
  {
   "cell_type": "code",
   "execution_count": null,
   "metadata": {},
   "outputs": [],
   "source": [
    "# # run reasoner -- RUN FROM COMMAND LINE NOT HERE\n",
    "subprocess.run(['./pkt_kg/libs/owltools',\n",
    "                './resources/unprocessed_data/human_pro_filtered.owl',\n",
    "                '--reasoner hermit',\n",
    "                '--run-reasoner',\n",
    "                '--assert-implied',\n",
    "                '--list-unsatisfiable',\n",
    "                '-o ./resources/processed_data/human_pro_closed.owl'])"
   ]
  },
  {
   "cell_type": "markdown",
   "metadata": {},
   "source": [
    "_Examine Cleaned Human PRO_  \n",
    "Once we have cleaned the ontology we can get counts of components, nodes, edges, and then write the cleaned graph to the `../../resources/processed_data` repository."
   ]
  },
  {
   "cell_type": "code",
   "execution_count": null,
   "metadata": {},
   "outputs": [],
   "source": [
    "gets_ontology_statistics(processed_data_location + 'human_pro_closed.owl')"
   ]
  },
  {
   "cell_type": "markdown",
   "metadata": {},
   "source": [
    "***\n"
   ]
  },
  {
   "cell_type": "markdown",
   "metadata": {},
   "source": [
    "### Relations Ontology <a class=\"anchor\" id=\"relations-ontology\"></a>\n",
    "\n",
    "**Data Source Wiki Page:** [RO](https://github.com/callahantiff/PheKnowLator/wiki/v2-Data-Sources#relation-ontology)  \n",
    "\n",
    "**Purpose:** This script downloads the [ro.owl](http://purl.obolibrary.org/obo/ro.owl) file from [obofoundry.org](http://www.obofoundry.org/) in order to obtain all `ObjectProperties` and their inverse relations.  \n",
    "\n",
    "**Output:** \n",
    "- Relations and Inverse Relations ➞ [`INVERSE_RELATIONS.txt`](https://www.dropbox.com/s/4gq1iebdxta7qr8/INVERSE_RELATIONS.txt?dl=1)\n",
    "- Relations and Labels ➞ [`RELATIONS_LABELS.txt`](https://www.dropbox.com/s/vr0tj22am192ubw/RELATIONS_LABELS.txt?dl=1)"
   ]
  },
  {
   "cell_type": "markdown",
   "metadata": {},
   "source": [
    "_Download Ontology_"
   ]
  },
  {
   "cell_type": "code",
   "execution_count": null,
   "metadata": {},
   "outputs": [],
   "source": [
    "# download ontology using subprocess and OWLTOOLS in order to get the ontology and its imported ontologies\n",
    "subprocess.run(['./resources/lib/owltools',\n",
    "                'http://purl.obolibrary.org/obo/ro.owl',\n",
    "                '--merge-import-closure',\n",
    "                '-o',\n",
    "                unprocessed_data_location + 'ro_with_imports.owl'])"
   ]
  },
  {
   "cell_type": "markdown",
   "metadata": {},
   "source": [
    "_Load Ontology to RDFLib Graph_"
   ]
  },
  {
   "cell_type": "code",
   "execution_count": null,
   "metadata": {},
   "outputs": [],
   "source": [
    "ro_graph = Graph()\n",
    "ro_graph.parse(unprocessed_data_location + 'ro_with_imports.owl')\n",
    "\n",
    "print('There are {} edges in the ontology (date:{})'.format(len(ro_graph), datetime.datetime.now().strftime('%m/%d/%Y')))"
   ]
  },
  {
   "cell_type": "markdown",
   "metadata": {},
   "source": [
    "**Identify Relations and Inverse Relations**  \n",
    "Identify all relations and their inverse relations using the `owl:inverseOf` property. To make it easier to look up the inverse relations, each pair is listed twice, for example:  \n",
    "- [location of](http://www.ontobee.org/ontology/RO?iri=http://purl.obolibrary.org/obo/RO_0001015) `owl:inverseOf` [located in](http://www.ontobee.org/ontology/RO?iri=http://purl.obolibrary.org/obo/RO_0001025)  \n",
    "- [located in](http://www.ontobee.org/ontology/RO?iri=http://purl.obolibrary.org/obo/RO_0001025) `owl:inverseOf` [location of](http://www.ontobee.org/ontology/RO?iri=http://purl.obolibrary.org/obo/RO_0001015)"
   ]
  },
  {
   "cell_type": "code",
   "execution_count": null,
   "metadata": {},
   "outputs": [],
   "source": [
    "with open(relations_data_location + 'INVERSE_RELATIONS.txt', 'w') as outfile:\n",
    "    \n",
    "    # write column names\n",
    "    outfile.write('Relation' + '\\t' + 'Inverse_Relation' + '\\n')\n",
    "\n",
    "    # find inverse relations\n",
    "    for s, p, o in tqdm(ro_graph):\n",
    "        if 'owl#inverseOf' in str(p):\n",
    "            if 'RO' in str(s) and 'RO' in str(o):\n",
    "                outfile.write(str(s.split('/')[-1]) + '\\t' + str(o.split('/')[-1]) + '\\n')\n",
    "                outfile.write(str(o.split('/')[-1]) + '\\t' + str(s.split('/')[-1]) + '\\n')\n",
    "\n",
    "outfile.close()"
   ]
  },
  {
   "cell_type": "markdown",
   "metadata": {},
   "source": [
    "_Preview Processed Data_"
   ]
  },
  {
   "cell_type": "code",
   "execution_count": null,
   "metadata": {},
   "outputs": [],
   "source": [
    "ro_data = pandas.read_csv(relations_data_location + 'INVERSE_RELATIONS.txt',\n",
    "                          header=0,\n",
    "                          delimiter='\\t')\n",
    "\n",
    "print('There are {edge_count} RO Relations and Inverse Relations'.format(edge_count=len(ro_data)))"
   ]
  },
  {
   "cell_type": "code",
   "execution_count": null,
   "metadata": {},
   "outputs": [],
   "source": [
    "ro_data.head(n=5)"
   ]
  },
  {
   "cell_type": "markdown",
   "metadata": {},
   "source": [
    "<br>"
   ]
  },
  {
   "cell_type": "markdown",
   "metadata": {},
   "source": [
    "**Get Relations Labels**  \n",
    "Identify all relations and their labels for use when building the knowledge graph."
   ]
  },
  {
   "cell_type": "code",
   "execution_count": null,
   "metadata": {},
   "outputs": [],
   "source": [
    "results = ro_graph.query(\n",
    "    \"\"\"SELECT DISTINCT ?p ?p_label\n",
    "           WHERE {\n",
    "              ?p rdf:type owl:ObjectProperty .\n",
    "              ?p rdfs:label ?p_label . }\n",
    "           \"\"\", initNs={\"rdf\": 'http://www.w3.org/1999/02/22-rdf-syntax-ns#',\n",
    "                        \"rdfs\": 'http://www.w3.org/2000/01/rdf-schema#',\n",
    "                        \"owl\": 'http://www.w3.org/2002/07/owl#'})    "
   ]
  },
  {
   "cell_type": "code",
   "execution_count": null,
   "metadata": {},
   "outputs": [],
   "source": [
    "# write data to file\n",
    "with open(relations_data_location + 'RELATIONS_LABELS.txt', 'w') as outfile:\n",
    "    \n",
    "    # write column names\n",
    "    outfile.write('Relation' + '\\t' + 'Label' + '\\n')\n",
    "\n",
    "    for p, p_label in list(results):\n",
    "        outfile.write(str(p).split('/')[-1] + '\\t' + str(p_label) + '\\n')"
   ]
  },
  {
   "cell_type": "markdown",
   "metadata": {},
   "source": [
    "_Preview Processed Data_"
   ]
  },
  {
   "cell_type": "code",
   "execution_count": null,
   "metadata": {},
   "outputs": [],
   "source": [
    "ro_data_label = pandas.read_csv(relations_data_location + 'RELATIONS_LABELS.txt',\n",
    "                                header=0,\n",
    "                                delimiter='\\t')\n",
    "\n",
    "print('There are {edge_count} RO Relations and Labels'.format(edge_count=len(ro_data_label)))"
   ]
  },
  {
   "cell_type": "code",
   "execution_count": null,
   "metadata": {},
   "outputs": [],
   "source": [
    "ro_data_label.head(n=5)"
   ]
  },
  {
   "cell_type": "markdown",
   "metadata": {},
   "source": [
    "<br><br>"
   ]
  },
  {
   "cell_type": "markdown",
   "metadata": {},
   "source": [
    "***\n",
    "***\n",
    "### Linked Data <a class=\"anchor\" id=\"linked-data\"></a>\n",
    "***\n",
    "* [Clinvar Variant-Diseases and Phenotypes](#clinvar-variant) \n",
    "* [Uniprot Protein-Cofactor and Protein-Catalyst](#uniprot-protein-cofactorcatalyst)  \n",
    "\n",
    "***"
   ]
  },
  {
   "cell_type": "markdown",
   "metadata": {},
   "source": [
    "***\n",
    "***\n",
    "### Clinvar Variant-Diseases and Phenotypes <a class=\"anchor\" id=\"clinvar-variant\"></a>\n",
    "\n",
    "**Data Source Wiki Page:** [Clinvar](https://github.com/callahantiff/PheKnowLator/wiki/v2-Data-Sources#clinvar)  \n",
    "\n",
    "**Purpose:** This script downloads the [variant_summary.txt](ftp://ftp.ncbi.nlm.nih.gov/pub/clinvar/tab_delimited/variant_summary.txt.gz) file from [CLinVar](https://www.ncbi.nlm.nih.gov/clinvar/) in order to create the following edges:  \n",
    "- gene-variant  \n",
    "- variant-disease  \n",
    "- variant-phenotype  \n",
    "\n",
    "**Output:** [`CLINVAR_VARIANT_GENE_DISEASE_PHENOTYPE_EDGES.txt`](https://www.dropbox.com/s/px3dlywz0q6gb6d/CLINVAR_VARIANT_GENE_DISEASE_PHENOTYPE_EDGES.txt?dl=1)\n"
   ]
  },
  {
   "cell_type": "code",
   "execution_count": null,
   "metadata": {},
   "outputs": [],
   "source": [
    "url = 'ftp://ftp.ncbi.nlm.nih.gov/pub/clinvar/tab_delimited/variant_summary.txt.gz'\n",
    "data_downloader(url, unprocessed_data_location)"
   ]
  },
  {
   "cell_type": "code",
   "execution_count": null,
   "metadata": {},
   "outputs": [],
   "source": [
    "clinvar_data = pandas.read_csv(unprocessed_data_location + 'variant_summary.txt',\n",
    "                               header=0,\n",
    "                               delimiter='\\t',\n",
    "                               low_memory=False)"
   ]
  },
  {
   "cell_type": "markdown",
   "metadata": {},
   "source": [
    "_Preprocess Data_"
   ]
  },
  {
   "cell_type": "code",
   "execution_count": null,
   "metadata": {},
   "outputs": [],
   "source": [
    "# replace NaN with 'None'\n",
    "clinvar_data.fillna('None', inplace=True)\n",
    "\n",
    "# explode nested data\n",
    "explode_df_clinvar = explodes_data(clinvar_data.copy(), ['PhenotypeIDS'], ';')\n",
    "explode_df_clinvar = explodes_dataexplode_df_clinvar.copy(), ['PhenotypeIDS'], ',')\n",
    "\n",
    "# edit column formatting\n",
    "explode_df_clinvar['PhenotypeIDS'].replace('Orphanet:ORPHA','ORPHA:', inplace=True, regex=True)\n",
    "explode_df_clinvar['PhenotypeIDS'].replace('Human Phenotype Ontology:HP:','HP_', inplace=True, regex=True)\n",
    "\n",
    "# write data\n",
    "explode_df_clinvar.to_csv(processed_data_location + 'CLINVAR_VARIANT_GENE_DISEASE_PHENOTYPE_EDGES.txt',\n",
    "                          header=True,\n",
    "                          sep='\\t',\n",
    "                          encoding='utf-8',\n",
    "                          index=False)"
   ]
  },
  {
   "cell_type": "markdown",
   "metadata": {},
   "source": [
    "_Preview Processed Data_"
   ]
  },
  {
   "cell_type": "code",
   "execution_count": null,
   "metadata": {},
   "outputs": [],
   "source": [
    "print('There are {edge_count} variant edges'.format(edge_count=len(explode_df_clinvar)))"
   ]
  },
  {
   "cell_type": "code",
   "execution_count": null,
   "metadata": {},
   "outputs": [],
   "source": [
    "# preview data\n",
    "explode_df_clinvar.head(n=5)"
   ]
  },
  {
   "cell_type": "markdown",
   "metadata": {},
   "source": [
    "<br>"
   ]
  },
  {
   "cell_type": "markdown",
   "metadata": {},
   "source": [
    "\n",
    "***"
   ]
  },
  {
   "cell_type": "markdown",
   "metadata": {},
   "source": [
    "### Uniprot  Protein-Cofactor and Protein-Catalyst <a class=\"anchor\" id=\"uniprot-protein-cofactorcatalyst\"></a>\n",
    "\n",
    "**Data Source Wiki Page:** [Uniprot](https://github.com/callahantiff/PheKnowLator/wiki/v2-Data-Sources/#uniprot-knowledgebase)  \n",
    "\n",
    "**Purpose:** This script downloads the [uniprot-cofactor-catalyst.tab](https://github.com/callahantiff/PheKnowLator/wiki/v2-Data-Sources/#uniprot-knowledgebase) file from the [Uniprot Knowledge Base](https://www.uniprot.org) in order to create the following edges:  \n",
    "- protein-cofactor  \n",
    "- protein-catalyst  \n",
    "\n",
    "**Output:**  \n",
    "- protein-cofactor ➞ [`UNIPROT_PROTEIN_COFACTOR.txt`](https://www.dropbox.com/s/xjtljf21eqign73/UNIPROT_PROTEIN_COFACTOR.txt?dl=1)\n",
    "- protein-catalyst ➞ [`UNIPROT_PROTEIN_CATALYST.txt`](https://www.dropbox.com/s/w4lh6k9wbo5qkw0/UNIPROT_PROTEIN_CATALYST.txt?dl=1)\n"
   ]
  },
  {
   "cell_type": "code",
   "execution_count": null,
   "metadata": {},
   "outputs": [],
   "source": [
    "url = 'https://www.uniprot.org/uniprot/?query=&fil=organism%3A%22Homo%20sapiens%20(Human)%20%5B9606%5D%22&columns=id%2Centry%20name%2Creviewed%2Cdatabase(PRO)%2Cchebi(Cofactor)%2Cchebi(Catalytic%20activity)&format=tab'\n",
    "data_downloader(url, unprocessed_data_location, 'uniprot-cofactor-catalyst.tab')"
   ]
  },
  {
   "cell_type": "code",
   "execution_count": null,
   "metadata": {},
   "outputs": [],
   "source": [
    "data = open(unprocessed_data_location + 'uniprot-cofactor-catalyst.tab').readlines()\n",
    "\n",
    "# reformat data and write it out\n",
    "with open(processed_data_location + 'UNIPROT_PROTEIN_COFACTOR.txt', 'w') as outfile1, open(processed_data_location + 'UNIPROT_PROTEIN_CATALYST.txt', 'w') as outfile2:\n",
    "    for line in tqdm(data):\n",
    "\n",
    "        # get cofactors\n",
    "        if 'CHEBI' in line.split('\\t')[4]: \n",
    "            for i in line.split('\\t')[4].split(';'):\n",
    "                chebi = i.split('[')[-1].replace(']', '').replace(':', '_')\n",
    "                outfile1.write('PR_' + line.split('\\t')[3].strip(';') + '\\t' + chebi + '\\n')\n",
    "        \n",
    "        # get catalysts\n",
    "        if 'CHEBI' in line.split('\\t')[5]:       \n",
    "            for i in line.split('\\t')[5].split(';'):\n",
    "                chebi = i.split('[')[-1].replace(']', '').replace(':', '_')\n",
    "                outfile2.write('PR_' + line.split('\\t')[3].strip(';') + '\\t' + chebi + '\\n')\n",
    "\n",
    "outfile1.close()\n",
    "outfile2.close()"
   ]
  },
  {
   "cell_type": "markdown",
   "metadata": {},
   "source": [
    "<br>"
   ]
  },
  {
   "cell_type": "markdown",
   "metadata": {},
   "source": [
    "_Preview Cofactor Data_"
   ]
  },
  {
   "cell_type": "code",
   "execution_count": null,
   "metadata": {},
   "outputs": [],
   "source": [
    "pcp1_data = pandas.read_csv(processed_data_location + 'UNIPROT_PROTEIN_COFACTOR.txt',\n",
    "                            header=None,\n",
    "                            names=['Protein_Ontology_IDs', 'CHEBI_IDs'],\n",
    "                            delimiter='\\t')\n",
    "\n",
    "print('There are {edge_count} protein-cofactor edges'.format(edge_count=len(pcp1_data)))"
   ]
  },
  {
   "cell_type": "code",
   "execution_count": null,
   "metadata": {},
   "outputs": [],
   "source": [
    "pcp1_data.head(n=5)"
   ]
  },
  {
   "cell_type": "markdown",
   "metadata": {},
   "source": [
    "<br>"
   ]
  },
  {
   "cell_type": "markdown",
   "metadata": {},
   "source": [
    "_Preview Catalyst Data_"
   ]
  },
  {
   "cell_type": "code",
   "execution_count": null,
   "metadata": {},
   "outputs": [],
   "source": [
    "pcp2_data = pandas.read_csv(processed_data_location + 'UNIPROT_PROTEIN_CATALYST.txt',\n",
    "                            header=None,\n",
    "                            names=['Protein_Ontology_IDs', 'CHEBI_IDs'],\n",
    "                            delimiter='\\t')\n",
    "\n",
    "print('There are {edge_count} protein-catalyst edges'.format(edge_count=len(pcp2_data)))"
   ]
  },
  {
   "cell_type": "code",
   "execution_count": null,
   "metadata": {},
   "outputs": [],
   "source": [
    "pcp2_data.head(n=5)"
   ]
  },
  {
   "cell_type": "markdown",
   "metadata": {},
   "source": [
    "<br>"
   ]
  },
  {
   "cell_type": "markdown",
   "metadata": {},
   "source": [
    "***\n",
    "***\n",
    "### INSTANCE AND/OR SUBCLASS METADATA <a class=\"anchor\" id=\"create-instance-metadata\"></a>\n",
    "***\n",
    "\n",
    "**Data Source Wiki Page:** [Dependencies](https://github.com/callahantiff/PheKnowLator/wiki/Dependencies/#node-metadata) \n",
    "\n",
    "<br>\n",
    "\n",
    "**Purpose:** The goal of this section is to obtain metadata for each instance and/or subclass data source used in the knowledge graph. To determine which of the edges contains instance and/or subclass data, the [`Master_Edge_List_Dict.json`](https://www.dropbox.com/s/w4l9yffnn4tyk2e/Master_Edge_List_Dict.json?dl=1) file is parsed and saved to a nested dictionary (see example below). \n",
    "\n",
    "```python\n",
    "{\n",
    "  'complex': {\n",
    "              'chemical-complex': [[node_1, node_2]...[node_n, node_m]],\n",
    "              'complex-complex':  [[node_1, node_2]...[node_n, node_m]],\n",
    "              'complex-pathway':  [[node_1, node_2]...[node_n, node_m]],\n",
    "              },\n",
    "     'gene': {\n",
    "                'chemical-gene':  [[node_1, node_2]...[node_n, node_m]],\n",
    "                 'gene-disease':  [[node_1, node_2]...[node_n, node_m]],\n",
    "              }\n",
    "}\n",
    "```\n",
    "\n",
    "<br>\n",
    "\n",
    "Once this dictionary is created, each major data type (examples shown in the list below) will be processed. For **[`Release V2.0.0`](https://github.com/callahantiff/PheKnowLator/wiki/v2.0.0)**, the following are instance and/or subclass data and require the compiling of metadata:\n",
    "- [Genes](#gene-metadata)\n",
    "- [RNA](#rna-metadata)\n",
    "- [Pathways](#pathway-metadata)\n",
    "- [Variants](#variant-metadata)\n",
    "\n",
    "\n",
    "<br>\n",
    "\n",
    "____\n",
    "\n",
    "**Metadata:** The <u>metadata</u> we will gather includes:  \n",
    "\n",
    "| **Metadata Type** | **Definition** | **Example Node**  | **Example Node Metadata** | \n",
    "| :---: | :---: | :---: | :---: | \n",
    "| Label | The primary label or name for the node | `R-HSA-1006173` | \"CFH:Host cell surface\" |       \n",
    "| Description | A definition or other useful details about the node | `rs794727058` | This `germline` `single nucleotide variant (allele alteration: C➞T)` located on chromosome `5 (GRCh38: NC_000005.10, start/stop positions (126555930/126555930))` with `pathogenic` clinical significance and a last review date of `2/23/2015` (review status: `criteria provided, single submitter`). |        \n",
    "| Synonym | Alternative terms used for a node | `81399` | \"OR1-1, OR7-21\" |           \n",
    "\n",
    "<br>\n",
    "\n",
    "The metadata information will be used to create the following edges in the knowledge graph:  \n",
    "- **Label** ➞ node `rdfs:label`  \n",
    "- **Description** ➞ node `obo:IAO_0000115` description \n",
    "- **Synonyms** ➞ node `oboInOwl:hasExactSynonym` synonym \n",
    "\n",
    "<br>\n",
    "\n",
    "*<b>NOTE.</b> All node metadata datasets are written to the `node_data` directory. The algorithm will look for data in this directory and if it is not there, then no node metadata will be created.*\n",
    "\n",
    "_____"
   ]
  },
  {
   "cell_type": "markdown",
   "metadata": {},
   "source": [
    "<br>"
   ]
  },
  {
   "cell_type": "markdown",
   "metadata": {},
   "source": [
    "### Prepare Metadata Dictionaries\n",
    "***\n",
    "\n",
    "**Purpose:** To create the resources needed in order to create metadata dictionaries, which are in turn used to obtain metadata for instance and/or subclass data nodes. This process has the following steps:\n",
    "\n",
    "**1. [Identify Instance and/or Subclass Data Nodes](#identify-instance-or-subclass-data-nodes):** In order to automatically obtain the list of edges that include an instance data source and their corresponding edge lists, the `Master_Edge_List_Dict.json` is read in and processed.  \n",
    "  - <u>Input Data</u>: [`Master_Edge_List_Dict.json`](https://www.dropbox.com/s/w4l9yffnn4tyk2e/Master_Edge_List_Dict.json?dl=1)  \n",
    "\n",
    "<br>\n",
    "\n",
    "**2. [Generate Metadata Dictionaries](#generate-metadata-dictionaries):** In order to efficiently obtain metadata for the instance and/or subclass data nodes identified in _Step 1_, we first read in the data for each node type (i.e. genes, rna, pathways, and variants) and convert it into a dictionary. Then, each metadata dictionary is saved to a `master_metadata_dictionary`, keyed by node type.\n",
    "  - <u>Input Datasets</u>:  \n",
    "    - Genes ➞ [`Homo_sapiens.gene_info`](https://www.dropbox.com/s/95jmr5bqkjcft8k/Homo_sapiens.gene_info?dl=1)    \n",
    "    - RNA ➞ [`ensembl_identifier_data_cleaned.txt`](https://www.dropbox.com/s/gcq8157cqcdz2d0/ensembl_identifier_data_cleaned.txt?dl=1) \n",
    "    - Pathways ➞ [`reactome2py API`](https://github.com/reactome/reactome2py)   \n",
    "    - Variants ➞ [`variant_summary.txt.gz`](https://www.dropbox.com/s/nqsgf92jhu7690e/variant_summary.txt?dl=1)  \n",
    "\n",
    "<br>\n",
    "\n",
    "**3. [Write Metadata Files](#write-metadata-files):** The Instance and/or subclass data node dictionary from _Step 1_ and metadata dictionaries from _Step 2_ are used to write `.txt` files for all `edge-type` data included in the instance and/or subclass node dictionary.\n",
    "\n",
    "<br>\n",
    "\n",
    "***"
   ]
  },
  {
   "cell_type": "markdown",
   "metadata": {},
   "source": [
    "### Identify Instance and/or Subclass Data Nodes  <a class=\"anchor\" id=\"identify-instance-or-subclass-data-nodes\"></a>"
   ]
  },
  {
   "cell_type": "code",
   "execution_count": null,
   "metadata": {},
   "outputs": [],
   "source": [
    "# read in data files for each edge type\n",
    "edge_data = json.load(open('./resources/Master_Edge_List_Dict.json', 'r'))\n",
    "edge_dict = {key:[edge_data[key]['data_type'], edge_data[key]['edge_list']] for key in edge_data.keys()}\n"
   ]
  },
  {
   "cell_type": "markdown",
   "metadata": {},
   "source": [
    "**Sort Data**  \n",
    "For all edges in the `edge_dict()` that include instance and/or subclass data, we create a new dictionary where each edge type is further organized by node from the edge type that references the instance data (e.g. from the `chemical-gene` edge type, the `gene` node references instance data)."
   ]
  },
  {
   "cell_type": "code",
   "execution_count": null,
   "metadata": {},
   "outputs": [],
   "source": [
    "# sort data files\n",
    "metadata_file_info = {}\n",
    "\n",
    "for edge in tqdm(edge_dict.keys()): \n",
    "    if 'entity' in edge_dict[edge][0]:\n",
    "        \n",
    "        # get instance type\n",
    "        inst_type = edge.split('-')[edge_dict[edge][0].split('-').index('entity')]\n",
    "        \n",
    "        # read in data\n",
    "        if inst_type in metadata_file_info.keys(): \n",
    "            metadata_file_info[inst_type][edge] = {}\n",
    "            metadata_file_info[inst_type][edge]['data'] = edge_dict[edge][1]\n",
    "            metadata_file_info[inst_type][edge]['inst_sbc_idx'] = edge_dict[edge][0]\n",
    "        else:\n",
    "            metadata_file_info[inst_type] = {}\n",
    "            metadata_file_info[inst_type][edge] =  {}\n",
    "            metadata_file_info[inst_type][edge]['data'] =  edge_dict[edge][1]\n",
    "            metadata_file_info[inst_type][edge]['inst_sbc_idx'] = edge_dict[edge][0]\n"
   ]
  },
  {
   "cell_type": "markdown",
   "metadata": {},
   "source": [
    "<br>"
   ]
  },
  {
   "cell_type": "markdown",
   "metadata": {},
   "source": [
    "***"
   ]
  },
  {
   "cell_type": "markdown",
   "metadata": {},
   "source": [
    "### Generate Metadata Dictionaries  <a class=\"anchor\" id=\"generate-metadata-dictionaries\"></a>\n",
    "In this step, the goal is to create a metadata dictionary for each node type that does not rely on API data. In this case, only the **Gene**, **RNA**, and **Variant** nodes require data that is not from an API.\n"
   ]
  },
  {
   "cell_type": "markdown",
   "metadata": {},
   "source": [
    "<br>"
   ]
  },
  {
   "cell_type": "markdown",
   "metadata": {},
   "source": [
    "**Genes Metadata Dictionary**"
   ]
  },
  {
   "cell_type": "code",
   "execution_count": null,
   "metadata": {},
   "outputs": [],
   "source": [
    "# entrez gene data\n",
    "entrez_gene_data = pandas.read_csv(unprocessed_data_location + 'Homo_sapiens.gene_info',\n",
    "                                   header=0,\n",
    "                                   delimiter='\\t',\n",
    "                                   low_memory=False)\n",
    "\n",
    "# remove all rows that are not human\n",
    "entrez_gene_data = entrez_gene_data.loc[entrez_gene_data['#tax_id'].apply(lambda x: x == 9606)]\n",
    "\n",
    "# replace NaN and '-' with 'None'\n",
    "entrez_gene_data.fillna('None', inplace=True)\n",
    "entrez_gene_data.replace('-','None', inplace=True, regex=False)\n"
   ]
  },
  {
   "cell_type": "markdown",
   "metadata": {},
   "source": [
    "_Create Gene Metadata Dictionary_  \n",
    "The nested dictionary of gene metadata is created by looping over the merged data described in the prior column. The `keys` of the dictionary are `Entrez gene identifiers` and the `values` are dictionaries for each metadata type: `symbol`, `description`, and `name`."
   ]
  },
  {
   "cell_type": "code",
   "execution_count": null,
   "metadata": {},
   "outputs": [],
   "source": [
    "# create metadata\n",
    "genes, label, description, synonym = [], [], [], []\n",
    "\n",
    "for idx, row in tqdm(entrez_gene_data.iterrows(), total=entrez_gene_data.shape[0]):\n",
    "    # node \n",
    "    if row['GeneID'] != 'None':\n",
    "        genes.append(row['GeneID'])\n",
    "    \n",
    "    # label -- only want metadata if there is a label\n",
    "    if row['Symbol'] != 'None' or row['Symbol'] != '':       \n",
    "        label.append(row['Symbol'])\n",
    "    else:\n",
    "        label.append('Entrez_ID:' + row['GeneID'])\n",
    "\n",
    "    # description        \n",
    "    if row['Full_name_from_nomenclature_authority'] != 'None' and row['type_of_gene'] != 'None' and row['chromosome'] != 'None' and row['map_location'] != 'None':\n",
    "\n",
    "        description.append(\"{desc} has locus group '{gene}' and is located on chromosome {chrom} (map_location: {map_loc}).\".format(desc=row['Symbol'],\n",
    "                                                                                                                             gene=row['type_of_gene'],\n",
    "                                                                                                                             chrom=row['chromosome'],\n",
    "                                                                                                                             map_loc=row['map_location']))\n",
    "\n",
    "    else:\n",
    "        description.append(\"{desc} locus group '{gene}'.\".format(desc=row['Symbol'], gene=row['type_of_gene']))\n",
    "\n",
    "    # synonym        \n",
    "    if row['Synonyms'] != 'None' and row['Other_designations'] != 'None':\n",
    "        syns = '|'.join(set([x for x in (row['Synonyms'] + row['Other_designations']).split('|') if x != 'None' or x != '']))\n",
    "        synonym.append(syns)\n",
    "    elif row['Synonyms'] != 'None':\n",
    "        syns = '|'.join(set([x for x in (row['Synonyms']).split('|') if x != 'None' or x != '']))\n",
    "        synonym.append(syns)\n",
    "    elif row['Other_designations'] != 'None':\n",
    "        syns = '|'.join(set([x for x in (row['Other_designations']).split('|') if x != 'None' or x != '']))\n",
    "        synonym.append(syns)\n",
    "    else:\n",
    "        synonym.append('None')\n",
    "            \n",
    "    \n",
    "# combine into new data frame        \n",
    "gene_metadata_final = pandas.DataFrame(list(zip(genes, label, description, synonym)), columns =['ID', 'Label', 'Description', 'Synonym'])\n",
    "\n",
    "# make all variables string\n",
    "gene_metadata_final = gene_metadata_final.astype(str)\n",
    "\n",
    "# dedup\n",
    "gene_metadata_final.drop_duplicates(subset='ID', keep='first', inplace=True)\n",
    "\n",
    "# convert df to dictionary\n",
    "gene_metadata_final.set_index('ID', inplace=True)\n",
    "gene_metadata_dict = gene_metadata_final.to_dict('index')\n"
   ]
  },
  {
   "cell_type": "markdown",
   "metadata": {},
   "source": [
    "<br>"
   ]
  },
  {
   "cell_type": "markdown",
   "metadata": {},
   "source": [
    "**RNA Metadata Dictionary**"
   ]
  },
  {
   "cell_type": "code",
   "execution_count": null,
   "metadata": {},
   "outputs": [],
   "source": [
    "rna_gene_data = pandas.read_csv(processed_data_location + 'ensembl_identifier_data_cleaned.txt',\n",
    "                                header=0,\n",
    "                                delimiter='\\t',\n",
    "                                low_memory=False)\n"
   ]
  },
  {
   "cell_type": "markdown",
   "metadata": {},
   "source": [
    "_Preprocess Data_  \n",
    "Normal data preprocess and filtering steps are performed in order to prepare the data for the next step, which converts it to a metadata dictionary."
   ]
  },
  {
   "cell_type": "code",
   "execution_count": null,
   "metadata": {},
   "outputs": [],
   "source": [
    "# remove rows without identifiers\n",
    "rna_gene_data = rna_gene_data.loc[rna_gene_data['transcript_stable_id'].apply(lambda x: x != 'None')]\n",
    "\n",
    "# remove unneede columns\n",
    "rna_gene_data.drop(['ensembl_gene_id', 'symbol', 'protein_stable_id', 'uniprot_id', 'master_transcript_type',\n",
    "                    'entrez_id', 'ensembl_gene_type', 'master_gene_type', 'symbol'], axis=1, inplace=True)\n",
    "\n",
    "# remove duplicates\n",
    "rna_gene_data.drop_duplicates(subset=['transcript_stable_id', 'transcript_name', 'ensembl_transcript_type'], keep='first', inplace=True)\n",
    "\n",
    "# replace NaN with 'None'\n",
    "rna_gene_data.fillna('None', inplace=True)\n"
   ]
  },
  {
   "cell_type": "markdown",
   "metadata": {},
   "source": [
    "_Create RNA Metadata Dictionary_  \n",
    "The nested dictionary of rna metadata is created by looping over the cleaned human [Ensembl](https://github.com/callahantiff/PheKnowLator/wiki/v2-Data-Sources#ensembl) gene, RNA, and protein identifier data set ([`ensembl_identifier_data_cleaned.txt`](https://www.dropbox.com/s/gcq8157cqcdz2d0/ensembl_identifier_data_cleaned.txt?dl=1)). The `keys` of the dictionary are `Ensembl transcript identifiers` and the `values` are dictionaries for each metadata type: `symbol`, `description`, and `name`."
   ]
  },
  {
   "cell_type": "code",
   "execution_count": null,
   "metadata": {},
   "outputs": [],
   "source": [
    "# create metadata\n",
    "rna, label, description, synonym = [], [], [], []\n",
    "\n",
    "for idx, row in tqdm(rna_gene_data.iterrows(), total=rna_gene_data.shape[0]):\n",
    "    # node\n",
    "    rna.append(row['transcript_stable_id'])\n",
    "    \n",
    "    # label info\n",
    "    if row['transcript_name'] != 'None':\n",
    "        label.append(row['transcript_name'])\n",
    "    else:\n",
    "        rna_type = 'Ensembl_Transcript_ID:' + row['transcript_stable_id']\n",
    "    \n",
    "    # rna type info\n",
    "    rna_type = row['ensembl_transcript_type']\n",
    "\n",
    "    if rna_type != 'None':\n",
    "        # description\n",
    "        description.append(\"Transcript {desc} is classified as type '{typ}'.\".format(desc=row['transcript_name'], typ=rna_type))\n",
    "    else:\n",
    "        # description\n",
    "        description.append('None')\n",
    "\n",
    "    # synonym\n",
    "    synonym.append('None')\n",
    "    \n",
    "# combine into new data frame\n",
    "rna_metadata_final = pandas.DataFrame(list(zip(rna, label, description, synonym)),\n",
    "                                      columns =['ID', 'Label', 'Description', 'Synonym'])\n",
    "\n",
    "# convert df to dictionary\n",
    "rna_metadata_final.set_index('ID', inplace=True)\n",
    "rna_metadata_dict = rna_metadata_final.to_dict('index')\n"
   ]
  },
  {
   "cell_type": "markdown",
   "metadata": {},
   "source": [
    "<br>"
   ]
  },
  {
   "cell_type": "markdown",
   "metadata": {},
   "source": [
    "**Variant Metadata Dictionary**"
   ]
  },
  {
   "cell_type": "markdown",
   "metadata": {},
   "source": [
    "_Download Data_  \n",
    "Only run this code block if the `variant_summary.txt` has not already been downloaded."
   ]
  },
  {
   "cell_type": "code",
   "execution_count": null,
   "metadata": {},
   "outputs": [],
   "source": [
    "url = 'ftp://ftp.ncbi.nlm.nih.gov/pub/clinvar/tab_delimited/variant_summary.txt.gz'\n",
    "data_downloader(url, unprocessed_data_location)\n"
   ]
  },
  {
   "cell_type": "code",
   "execution_count": null,
   "metadata": {},
   "outputs": [],
   "source": [
    "var_data = pandas.read_csv(unprocessed_data_location + 'variant_summary.txt',\n",
    "                           header=0,\n",
    "                           delimiter='\\t',\n",
    "                           low_memory=False)\n"
   ]
  },
  {
   "cell_type": "markdown",
   "metadata": {},
   "source": [
    "_Preprocess Data_  \n",
    "Normal data preprocess and filtering steps are performed in order to prepare the data for the next step, which converts it to a metadata dictionary."
   ]
  },
  {
   "cell_type": "code",
   "execution_count": null,
   "metadata": {},
   "outputs": [],
   "source": [
    "# remove rows without identifiers\n",
    "var_data = var_data.loc[var_data['Assembly'].apply(lambda x: x == 'GRCh38')]\n",
    "var_data = var_data.loc[var_data['RS# (dbSNP)'].apply(lambda x: x != -1)]\n",
    "\n",
    "# de-dup data\n",
    "var_metadata = var_data[['#AlleleID', 'Type', 'Name', 'ClinicalSignificance', 'RS# (dbSNP)', 'Origin',\n",
    "                         'ChromosomeAccession', 'Chromosome', 'Start', 'Stop', 'ReferenceAllele',\n",
    "                         'Assembly', 'AlternateAllele','Cytogenetic', 'ReviewStatus', 'LastEvaluated']] \n",
    "\n",
    "# replace NaN with 'None'\n",
    "var_metadata.fillna('None', inplace=True)\n",
    "\n",
    "# remove duplicate dbSNP ids by choosing the most recent reviewed variant\n",
    "var_metadata.sort_values('LastEvaluated', ascending=False, inplace=True)\n",
    "var_metadata.drop_duplicates(subset='RS# (dbSNP)', keep='first', inplace=True)\n"
   ]
  },
  {
   "cell_type": "markdown",
   "metadata": {},
   "source": [
    "_Create Variant Metadata Dictionary_  \n",
    "The nested dictionary of rna metadata is created by looping over the human [ClinVar Variant](https://github.com/callahantiff/PheKnowLator/wiki/v2-Data-Sources#clinvar) identifier data set ([`variant_summary.txt`](https://www.dropbox.com/s/nqsgf92jhu7690e/variant_summary.txt?dl=1)). The `keys` of the dictionary are `dbSNP identifiers` and the `values` are dictionaries for each metadata type: `symbol`, `description`, and `name`."
   ]
  },
  {
   "cell_type": "code",
   "execution_count": null,
   "metadata": {},
   "outputs": [],
   "source": [
    "# create metadata\n",
    "variant, label, description = [], [], []\n",
    "\n",
    "for idx, row in tqdm(var_metadata.iterrows(), total=var_metadata.shape[0]):\n",
    "    # node\n",
    "    if row['RS# (dbSNP)'] != 'None':\n",
    "        variant.append('rs' + str(row['RS# (dbSNP)']))\n",
    "    \n",
    "    # label -- only want metadata if there is a label\n",
    "    if row['Name'] != 'None':\n",
    "        label.append(row['Name'])\n",
    "    else:\n",
    "        label.append('dbSNP_ID:rs' + str(row['RS# (dbSNP)']))\n",
    "    \n",
    "    # description\n",
    "    sent = \"This variant is a {Origin} {Type} that results when a {ReferenceAllele} allele is changed to {AlternateAllele} on chromosome {Chromosome} ({ChromosomeAccession}, start:{Start}/stop:{Stop} positions, cytogenetic location:{Cytogenetic}) and has clinical significance '{ClinicalSignificance}'. This entry is for the {Assembly} and was last reviewed on {LastEvaluated} with review status '{ReviewStatus}'.\"\n",
    "    description.append(sent.format(Origin=row['Origin'], Type=row['Type'], ReferenceAllele=row['ReferenceAllele'],\n",
    "                                   AlternateAllele=row['AlternateAllele'], Chromosome=row['Chromosome'],\n",
    "                                   ChromosomeAccession=row['ChromosomeAccession'], Start=row['Start'],\n",
    "                                   Stop=row['Stop'], Cytogenetic=row['Cytogenetic'], ClinicalSignificance=row['ClinicalSignificance'],\n",
    "                                   Assembly=row['Assembly'], LastEvaluated=row['LastEvaluated'], ReviewStatus=row['ReviewStatus']))\n",
    "\n",
    "# combine into new data frame\n",
    "var_metadata_final = pandas.DataFrame(list(zip(variant, label, description)), columns =['ID', 'Label', 'Description'])\n",
    "\n",
    "# drop duplicates\n",
    "var_metadata_final.drop_duplicates(subset=None, keep='first', inplace=True)\n",
    "\n",
    "# make all variables string\n",
    "var_metadata_final = var_metadata_final.astype(str)\n",
    "\n",
    "# convert df to dictionary\n",
    "var_metadata_final.set_index('ID', inplace=True)\n",
    "var_metadata_dict = var_metadata_final.to_dict('index') \n"
   ]
  },
  {
   "cell_type": "markdown",
   "metadata": {},
   "source": [
    "<br>"
   ]
  },
  {
   "cell_type": "markdown",
   "metadata": {},
   "source": [
    "**Create Master Metadata Dictionary**  \n",
    "To make it easier to navigate the mapping of each instance node in an edge, a master dictionary is created and keyed by node type. This is most useful when both nodes in an edge are instances, but of different data types (e.g. `gene-rna`).\n"
   ]
  },
  {
   "cell_type": "code",
   "execution_count": null,
   "metadata": {},
   "outputs": [],
   "source": [
    "master_metadata_dictionary = {'gene': gene_metadata_dict,\n",
    "                              'rna': rna_metadata_dict,\n",
    "                              'variant': var_metadata_dict}\n"
   ]
  },
  {
   "cell_type": "markdown",
   "metadata": {},
   "source": [
    "<br>"
   ]
  },
  {
   "cell_type": "markdown",
   "metadata": {},
   "source": [
    "***"
   ]
  },
  {
   "cell_type": "markdown",
   "metadata": {},
   "source": [
    "### Write Metadata Files  <a class=\"anchor\" id=\"write-metadata-files\"></a>   \n",
    "using the `Master Metadata Dictionary` created in the prior step, all of the `edge-type` data is processed and the resulting data written out `.txt` file to the `./resource/node_data` repository.\n",
    "\n",
    "- [Genes](#gene-metadata)\n",
    "- [RNA](#rna-metadata)\n",
    "- [Pathways](#pathway-metadata)\n",
    "- [Variants](#variant-metadata)\n",
    "\n",
    "***"
   ]
  },
  {
   "cell_type": "markdown",
   "metadata": {},
   "source": [
    "### Genes <a class=\"anchor\" id=\"gene-metadata\"></a>\n",
    "\n",
    "**Data Source Wiki Pages:** [NCBI Gene](https://github.com/callahantiff/PheKnowLator/wiki/v2-Data-Sources/#ncbi-gene) \n",
    "\n",
    "**Output:**  \n",
    "- chemical-gene ➞ [`chemical-gene_GENE_METADATA.txt`](https://www.dropbox.com/s/jc332b9vo8qc1rm/chemical-gene_GENE_METADATA.txt?dl=1) \n",
    "- gene-disease ➞ [`gene-disease_GENE_METADATA.txt`](https://www.dropbox.com/s/1gk34aoj28ze6r8/gene-disease_GENE_METADATA.txt?dl=1) \n",
    "- gene-gene ➞ [`gene-gene_GENE_METADATA.txt`](https://www.dropbox.com/s/vxlgc7iblh02frp/gene-gene_GENE_METADATA.txt?dl=1) \n",
    "- gene-pathway ➞ [`gene-pathway_GENE_METADATA.txt`](https://www.dropbox.com/s/vh5l5kwwxww1twc/gene-pathway_GENE_METADATA.txt?dl=1) \n",
    "- gene-phenotype ➞ [`gene-phenotype_GENE_METADATA.txt`](https://www.dropbox.com/s/t1e7l6xqu4c1q8s/gene-phenotype_GENE_METADATA.txt?dl=1) \n",
    "- gene-protein ➞ [`gene-protein_GENE_METADATA.txt`](https://www.dropbox.com/s/4t9inhmxw0mluh2/gene-protein_GENE_METADATA.txt?dl=1) \n",
    "- gene-rna ➞ [`gene-rna_GENE_METADATA.txt`](https://www.dropbox.com/s/eoii2ee0j6j64id/gene-rna_GENE_METADATA.txt?dl=1) "
   ]
  },
  {
   "cell_type": "code",
   "execution_count": null,
   "metadata": {},
   "outputs": [],
   "source": [
    "node_type = 'gene'\n",
    "\n",
    "for edge_type in tqdm(metadata_file_info[node_type]):\n",
    "    print('\\nPROCESSING EDGE TYPE: {}'.format(edge_type))\n",
    "\n",
    "    # gather vars for processing data\n",
    "    data = metadata_file_info[node_type][edge_type]['data']\n",
    "    edge_data_type = metadata_file_info[node_type][edge_type]['inst_sbc_idx']\n",
    "    if 'entity' in edge_data_type: inst_idx = edge_data_type.split('-').index('entity')\n",
    "\n",
    "    # get list of nodes to map and the dictionary to use\n",
    "    # when nodes are of the same type (i.e. gene-gene)\n",
    "    if (edge_type.split('-')[0] == edge_type.split('-')[1]):\n",
    "        nodes = set([x for y in data for x in y])\n",
    "        \n",
    "        if edge_type.split('-')[0] in master_metadata_dictionary.keys():\n",
    "            metadata_dictionaries = master_metadata_dictionary[edge_type.split('-')[0]]\n",
    "            results = metadata_dictionary_mapper(nodes, metadata_dictionaries)\n",
    "        else:\n",
    "            results = metadata_api_mapper(list(nodes))\n",
    "            \n",
    "    # when nodes are both instances, but different types (i.e. gene-rna)\n",
    "    elif edge_data_type.split('-')[0] == edge_data_type.split('-')[1]:\n",
    "        data_res = []\n",
    "\n",
    "        for node in edge_type.split('-'):\n",
    "            nodes = set([x[int(edge_type.split('-').index(node))] for x in data])\n",
    "            \n",
    "            if node in master_metadata_dictionary:\n",
    "                metadata_dictionaries = master_metadata_dictionary[node]\n",
    "                data_res.append(metadata_dictionary_mapper(nodes, metadata_dictionaries))\n",
    "            else:\n",
    "                data_res.append(metadata_api_mapper(list(nodes)))\n",
    "    \n",
    "        # combine data into single df\n",
    "        results = pandas.concat(data_res, ignore_index=True)\n",
    "                \n",
    "    # when only one node is an instance\n",
    "    else:\n",
    "        nodes = set([x[int(inst_idx)] for x in data])\n",
    "        \n",
    "        if edge_type.split('-')[int(inst_idx)] in master_metadata_dictionary.keys():\n",
    "            metadata_dictionaries = master_metadata_dictionary[edge_type.split('-')[int(inst_idx)]]\n",
    "            results = metadata_dictionary_mapper(nodes, metadata_dictionaries)\n",
    "        else:\n",
    "            results = metadata_api_mapper(list(nodes))\n",
    "\n",
    "    # write data\n",
    "    results.to_csv(node_data_location + edge_type + '_' + node_type.upper() + '_METADATA.txt',\n",
    "                   header=True,\n",
    "                   sep='\\t',\n",
    "                   index=False)\n",
    "    "
   ]
  },
  {
   "cell_type": "markdown",
   "metadata": {},
   "source": [
    "<br>"
   ]
  },
  {
   "cell_type": "markdown",
   "metadata": {},
   "source": [
    "***"
   ]
  },
  {
   "cell_type": "markdown",
   "metadata": {},
   "source": [
    "### RNA<a class=\"anchor\" id=\"rna-metadata\"></a>\n",
    "\n",
    "**Data Source Wiki Pages:**  \n",
    "- [Ensembl](https://github.com/callahantiff/PheKnowLator/wiki/v2-Data-Sources#clinvar)  \n",
    "- [NCBI Gene](https://github.com/callahantiff/PheKnowLator/wiki/v2-Data-Sources/#ncbi-gene) \n",
    "\n",
    "**Output:**  \n",
    "- chemical-rna ➞ [`chemical-rna_RNA_METADATA.txt`](https://www.dropbox.com/s/eu2ihol7xyxuhrg/chemical-rna_RNA_METADATA.txt?dl=1) \n",
    "- rna-anatomy ➞ [`rna-anatomy_RNA_METADATA.txt`](https://www.dropbox.com/s/dsktusrpeit9cpn/rna-anatomy_RNA_METADATA.txt?dl=1) \n",
    "- rna-cell ➞ [`rna-cell_RNA_METADATA.txt`](https://www.dropbox.com/s/nnqb7911hdhbw7q/rna-cell_RNA_METADATA.txt?dl=1) \n",
    "- rna-protein ➞ [`rna-protein_RNA_METADATA.txt`](https://www.dropbox.com/s/gjq1hydldyds4rz/rna-protein_RNA_METADATA.txt?dl=1) "
   ]
  },
  {
   "cell_type": "code",
   "execution_count": null,
   "metadata": {},
   "outputs": [],
   "source": [
    "node_type = 'rna'\n",
    "\n",
    "for edge_type in tqdm(metadata_file_info[node_type]):\n",
    "    print('\\nPROCESSING EDGE TYPE: {}'.format(edge_type))\n",
    "\n",
    "    # gather vars for processing data\n",
    "    data = metadata_file_info[node_type][edge_type]['data']\n",
    "    edge_data_type = metadata_file_info[node_type][edge_type]['inst_sbc_idx']\n",
    "    if 'entity' in edge_data_type: inst_idx = edge_data_type.split('-').index('entity')\n",
    "\n",
    "    # get list of nodes to map and the dictionary to use\n",
    "    # when nodes are of the same type (i.e. gene-gene)\n",
    "    if (edge_type.split('-')[0] == edge_type.split('-')[1]):\n",
    "        nodes = set([x for y in data for x in y])\n",
    "        \n",
    "        if edge_type.split('-')[0] in master_metadata_dictionary.keys():\n",
    "            metadata_dictionaries = master_metadata_dictionary[edge_type.split('-')[0]]\n",
    "            results = metadata_dictionary_mapper(nodes, metadata_dictionaries)\n",
    "        else:\n",
    "            results = metadata_api_mapper(list(nodes))\n",
    "            \n",
    "    # when nodes are both instances, but different types (i.e. gene-rna)\n",
    "    elif edge_data_type.split('-')[0] == edge_data_type.split('-')[1]:\n",
    "        data_res = []\n",
    "\n",
    "        for node in edge_type.split('-'):\n",
    "            nodes = set([x[int(edge_type.split('-').index(node))] for x in data])\n",
    "            \n",
    "            if node in master_metadata_dictionary:\n",
    "                metadata_dictionaries = master_metadata_dictionary[node]\n",
    "                data_res.append(metadata_dictionary_mapper(nodes, metadata_dictionaries))\n",
    "            else:\n",
    "                data_res.append(metadata_api_mapper(list(nodes)))\n",
    "    \n",
    "        # combine data into single df\n",
    "        results = pandas.concat(data_res, ignore_index=True)\n",
    "                \n",
    "    # when only one node is an instance\n",
    "    else:\n",
    "        nodes = set([x[int(inst_idx)] for x in data])\n",
    "        \n",
    "        if edge_type.split('-')[int(inst_idx)] in master_metadata_dictionary.keys():\n",
    "            metadata_dictionaries = master_metadata_dictionary[edge_type.split('-')[int(inst_idx)]]\n",
    "            results = metadata_dictionary_mapper(nodes, metadata_dictionaries)\n",
    "        else:\n",
    "            results = metadata_api_mapper(list(nodes))\n",
    "\n",
    "    # write data\n",
    "    results.to_csv(node_data_location + edge_type + '_' + node_type.upper() + '_METADATA.txt',\n",
    "                   header=True,\n",
    "                   sep='\\t',\n",
    "                   index=False)\n",
    "    "
   ]
  },
  {
   "cell_type": "markdown",
   "metadata": {},
   "source": [
    "<br>"
   ]
  },
  {
   "cell_type": "markdown",
   "metadata": {},
   "source": [
    "***"
   ]
  },
  {
   "cell_type": "markdown",
   "metadata": {},
   "source": [
    "### Pathways<a class=\"anchor\" id=\"pathway-metadata\"></a>\n",
    "\n",
    "**Data Source Wiki Page:** [Reactome](https://github.com/callahantiff/PheKnowLator/wiki/v2-Data-Sources#reactome-pathway-database)  \n",
    "\n",
    "**Output:**    \n",
    "- chemical-pathway ➞ [`chemical-pathway_PATHWAY_METADATA.txt`](https://www.dropbox.com/s/drs7av9ie5a6omr/chemical-pathway_PATHWAY_METADATA.txt?dl=1)\n",
    "- gobp-pathway ➞ [`gobp-pathway_PATHWAY_METADATA.txt`](https://www.dropbox.com/s/wkfd7qhlkndzjay/gobp-pathway_PATHWAY_METADATA.txt?dl=1)\n",
    "- pathway-gocc ➞ [`pathway-gocc_PATHWAY_METADATA.txt`](https://www.dropbox.com/s/tknn5uyobls9f4n/pathway-gocc_PATHWAY_METADATA.txt?dl=1)\n",
    "- pathway-gomf ➞ [`pathway-gomf_PATHWAY_METADATA.txt`](https://www.dropbox.com/s/zr6arq66qmz08ws/pathway-gomf_PATHWAY_METADATA.txt?dl=1)\n",
    "- protein-pathway ➞ [`protein-pathway_PATHWAY_METADATA.txt`](https://www.dropbox.com/s/cuvgwh2r8qtf08j/protein-pathway_PATHWAY_METADATA.txt?dl=1)"
   ]
  },
  {
   "cell_type": "code",
   "execution_count": null,
   "metadata": {},
   "outputs": [],
   "source": [
    "node_type = 'pathway'\n",
    "\n",
    "for edge_type in tqdm(metadata_file_info[node_type]):\n",
    "    print('\\nPROCESSING EDGE TYPE: {}'.format(edge_type))\n",
    "\n",
    "    # gather vars for processing data\n",
    "    data = metadata_file_info[node_type][edge_type]['data']\n",
    "    edge_data_type = metadata_file_info[node_type][edge_type]['inst_sbc_idx']\n",
    "    if 'entity' in edge_data_type: inst_idx = edge_data_type.split('-').index('entity')\n",
    "\n",
    "    # get list of nodes to map and the dictionary to use\n",
    "    # when nodes are of the same type (i.e. gene-gene)\n",
    "    if (edge_type.split('-')[0] == edge_type.split('-')[1]):\n",
    "        nodes = set([x for y in data for x in y])\n",
    "        \n",
    "        if edge_type.split('-')[0] in master_metadata_dictionary.keys():\n",
    "            metadata_dictionaries = master_metadata_dictionary[edge_type.split('-')[0]]\n",
    "            results = metadata_dictionary_mapper(nodes, metadata_dictionaries)\n",
    "        else:\n",
    "            results = metadata_api_mapper(list(nodes))\n",
    "            \n",
    "    # when nodes are both instances, but different types (i.e. gene-rna)\n",
    "    elif edge_data_type.split('-')[0] == edge_data_type.split('-')[1]:\n",
    "        data_res = []\n",
    "\n",
    "        for node in edge_type.split('-'):\n",
    "            nodes = set([x[int(edge_type.split('-').index(node))] for x in data])\n",
    "            \n",
    "            if node in master_metadata_dictionary:\n",
    "                metadata_dictionaries = master_metadata_dictionary[node]\n",
    "                data_res.append(metadata_dictionary_mapper(nodes, metadata_dictionaries))\n",
    "            else:\n",
    "                data_res.append(metadata_api_mapper(list(nodes)))\n",
    "    \n",
    "        # combine data into single df\n",
    "        results = pandas.concat(data_res, ignore_index=True)\n",
    "                \n",
    "    # when only one node is an instance\n",
    "    else:\n",
    "        nodes = set([x[int(inst_idx)] for x in data])\n",
    "        \n",
    "        if edge_type.split('-')[int(inst_idx)] in master_metadata_dictionary.keys():\n",
    "            metadata_dictionaries = master_metadata_dictionary[edge_type.split('-')[int(inst_idx)]]\n",
    "            results = metadata_dictionary_mapper(nodes, metadata_dictionaries)\n",
    "        else:\n",
    "            results = metadata_api_mapper(list(nodes))\n",
    "\n",
    "    # write data\n",
    "    results.to_csv(node_data_location + edge_type + '_' + node_type.upper() + '_METADATA.txt',\n",
    "                   header=True,\n",
    "                   sep='\\t',\n",
    "                   index=False)\n",
    "    "
   ]
  },
  {
   "cell_type": "markdown",
   "metadata": {},
   "source": [
    "<br>"
   ]
  },
  {
   "cell_type": "markdown",
   "metadata": {},
   "source": [
    "***"
   ]
  },
  {
   "cell_type": "markdown",
   "metadata": {},
   "source": [
    "### Variants<a class=\"anchor\" id=\"variant-metadata\"></a>\n",
    "\n",
    "**Data Source Wiki Page:** [ClinVar](https://github.com/callahantiff/PheKnowLator/wiki/v2-Data-Sources#clinvar)  \n",
    "\n",
    "**Output:**  \n",
    "- variant-disease ➞ [`variant-disease_VARIANT_METADATA.txt`](https://www.dropbox.com/s/eiyh1bc7lttdmut/variant-disease_VARIANT_METADATA.txt?dl=1)  \n",
    "- variant-gene ➞ [`variant-gene_VARIANT_METADATA.txt`](https://www.dropbox.com/s/luafq6fa07eljn9/variant-gene_VARIANT_METADATA.txt?dl=1)  \n",
    "- variant-phenotype ➞ [`variant-phenotype_VARIANT_METADATA.txt`](https://www.dropbox.com/s/fhphtuy6ecq1bkx/variant-phenotype_VARIANT_METADATA.txt?dl=1)  "
   ]
  },
  {
   "cell_type": "code",
   "execution_count": null,
   "metadata": {},
   "outputs": [],
   "source": [
    "node_type = 'variant'\n",
    "\n",
    "for edge_type in tqdm(metadata_file_info[node_type]):\n",
    "    print('\\nPROCESSING EDGE TYPE: {}'.format(edge_type))\n",
    "\n",
    "    # gather vars for processing data\n",
    "    data = metadata_file_info[node_type][edge_type]['data']\n",
    "    edge_data_type = metadata_file_info[node_type][edge_type]['inst_sbc_idx']\n",
    "    if 'entity' in edge_data_type: inst_idx = edge_data_type.split('-').index('entity')\n",
    "\n",
    "    # get list of nodes to map and the dictionary to use\n",
    "    # when nodes are of the same type (i.e. gene-gene)\n",
    "    if (edge_type.split('-')[0] == edge_type.split('-')[1]):\n",
    "        nodes = set([x for y in data for x in y])\n",
    "        \n",
    "        if edge_type.split('-')[0] in master_metadata_dictionary.keys():\n",
    "            metadata_dictionaries = master_metadata_dictionary[edge_type.split('-')[0]]\n",
    "            results = metadata_dictionary_mapper(nodes, metadata_dictionaries)\n",
    "        else:\n",
    "            results = hmetadata_api_mapper(list(nodes))\n",
    "            \n",
    "    # when nodes are both instances, but different types (i.e. gene-rna)\n",
    "    elif edge_data_type.split('-')[0] == edge_data_type.split('-')[1]:\n",
    "        data_res = []\n",
    "\n",
    "        for node in edge_type.split('-'):\n",
    "            nodes = set([x[int(edge_type.split('-').index(node))] for x in data])\n",
    "            \n",
    "            if node in master_metadata_dictionary:\n",
    "                metadata_dictionaries = master_metadata_dictionary[node]\n",
    "                data_res.append(metadata_dictionary_mapper(nodes, metadata_dictionaries))\n",
    "            else:\n",
    "                data_res.append(metadata_api_mapper(list(nodes)))\n",
    "    \n",
    "        # combine data into single df\n",
    "        results = pandas.concat(data_res, ignore_index=True)\n",
    "                \n",
    "    # when only one node is an instance\n",
    "    else:\n",
    "        nodes = set([x[int(inst_idx)] for x in data])\n",
    "        \n",
    "        if edge_type.split('-')[int(inst_idx)] in master_metadata_dictionary.keys():\n",
    "            metadata_dictionaries = master_metadata_dictionary[edge_type.split('-')[int(inst_idx)]]\n",
    "            results = metadata_dictionary_mapper(nodes, metadata_dictionaries)\n",
    "        else:\n",
    "            results = metadata_api_mapper(list(nodes))\n",
    "\n",
    "    # write data\n",
    "    results.to_csv(node_data_location + edge_type + '_' + node_type.upper() + '_METADATA.txt',\n",
    "                   header=True,\n",
    "                   sep='\\t',\n",
    "                   index=False)\n",
    "    "
   ]
  },
  {
   "cell_type": "markdown",
   "metadata": {},
   "source": [
    "\n",
    "<br>\n",
    "\n",
    "***\n",
    "***\n",
    "\n",
    "```\n",
    "@misc{callahan_tj_2019_3401437,\n",
    "  author       = {Callahan, TJ},\n",
    "  title        = {PheKnowLator},\n",
    "  month        = mar,\n",
    "  year         = 2019,\n",
    "  doi          = {10.5281/zenodo.3401437},\n",
    "  url          = {https://doi.org/10.5281/zenodo.3401437}\n",
    "}\n",
    "```"
   ]
  },
  {
   "cell_type": "code",
   "execution_count": null,
   "metadata": {},
   "outputs": [],
   "source": []
  }
 ],
 "metadata": {
  "kernelspec": {
   "display_name": "Python 3",
   "language": "python",
   "name": "python3"
  },
  "language_info": {
   "codemirror_mode": {
    "name": "ipython",
    "version": 3
   },
   "file_extension": ".py",
   "mimetype": "text/x-python",
   "name": "python",
   "nbconvert_exporter": "python",
   "pygments_lexer": "ipython3",
   "version": "3.6.2"
  },
  "latex_envs": {
   "LaTeX_envs_menu_present": true,
   "autoclose": false,
   "autocomplete": true,
   "bibliofile": "biblio.bib",
   "cite_by": "apalike",
   "current_citInitial": 1,
   "eqLabelWithNumbers": true,
   "eqNumInitial": 1,
   "hotkeys": {
    "equation": "Ctrl-E",
    "itemize": "Ctrl-I"
   },
   "labels_anchors": false,
   "latex_user_defs": false,
   "report_style_numbering": false,
   "user_envs_cfg": false
  },
  "pycharm": {
   "stem_cell": {
    "cell_type": "raw",
    "metadata": {
     "collapsed": false
    },
    "source": []
   }
  }
 },
 "nbformat": 4,
 "nbformat_minor": 1
}
