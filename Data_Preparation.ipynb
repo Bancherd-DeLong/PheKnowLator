{
 "cells": [
  {
   "cell_type": "markdown",
   "metadata": {
    "collapsed": true
   },
   "source": [
    "***\n",
    "***\n",
    "\n",
    "# PheKnowLator - Data Preparation\n",
    "\n",
    "***\n",
    "\n",
    "**Author:** [TJCallahan](https://mail.google.com/mail/u/0/?view=cm&fs=1&tf=1&to=callahantiff@gmail.com)  \n",
    "**GitHub Repository:** [PheKnowLator](https://github.com/callahantiff/PheKnowLator/wiki)  \n",
    "**Release:** **[v2.0.0](https://github.com/callahantiff/PheKnowLator/wiki/v2.0.0)**\n",
    "\n",
    "**Purpose:** This notebook serves as a script to download and process data in order to generate mapping and filtering data needed to build edges for the PheKnowLator knowledge graph. For more information on the data sources utilize within this script, please see the [Data Sources](https://github.com/callahantiff/PheKnowLator/wiki/v2-Data-Sources) Wiki page.\n",
    "\n",
    "**Assumptions:**   \n",
    "- Raw data downloads ➞ `./resources/processed_data/unprocessed_data`    \n",
    "- Processed data write location ➞ `./resources/processed_data`   \n",
    "\n",
    "**Dependencies:** This notebook utilizes several helper functions, which are stored in the [`DataPreparationHelperFunctions.py`](https://github.com/callahantiff/PheKnowLator/blob/master/scripts/python/DataPreparationHelperFunctions.py) script. Hyperlinks to all downloaded and generated data sources are provided on the [Data Sources](https://github.com/callahantiff/PheKnowLator/wiki/v2-Data-Sources) Wiki page as well as within each source subsection of this notebook. All generated data is freely available for download from DropBox. \n",
    "\n",
    "<br>\n",
    "\n",
    "## Table of Contents\n",
    "***\n",
    "### [Create Identifier Maps ](#create-identifier-maps)  \n",
    "- [HUMAN TRANSCRIPT, GENE, AND PROTEIN IDENTIFIER MAPPING](#human-transcript,-gene,-and-protein-identifier-mapping)\n",
    "  - [Ensembl Gene-Ensembl Transcript](#ensemblgene-ensembltranscript)  \n",
    "  - [Entrez Gene-Ensembl Transcript](#entrezgene-ensembltranscript)\n",
    "  - [Ensembl Gene-Entrez Gene](#ensemblgene-entrezgene)\n",
    "  - [Ensembl Gene-Protein Ontology](#ensemblgene-proteinontology)\n",
    "  - [Uniprot Accession-Protein Ontology](#uniprotaccession-proteinontology)\n",
    "  - [STRING-Protein Ontology](#string-proteinontology)  \n",
    "<br>\n",
    "- [OTHER IDENTIFIER MAPPING](#other-identifier-mapping) \n",
    "  - [ChEBI Identifiers](#mesh-chebi)  \n",
    "  - [Human Protein Atlas Tissue and Cell Types](#hpa-uberon)  \n",
    "  - [Human Disease and Phenotype Identifiers](#disease-identifiers)\n",
    "\n",
    "\n",
    "### [Create Edge Datasets](#create-edge-datasets)\n",
    "- [ONTOLOGIES](#ontologies)  \n",
    "  - [Protein Ontology](#protein-ontology)  \n",
    "  - [Relation Ontology](#relation-ontology)  \n",
    "<br>\n",
    "- [LINKED DATA](#linked-data)  \n",
    "  - [Reactome Protein-Complex Data](#reactome-protein-complex)\n",
    "  - [Reactome Complex-Complex Data](#reactome-complex-complex)\n",
    "  - [Reactome Chemical-Complex Data](#reactome-chemical-complex)  \n",
    "  - [Uniprot Protein-Cofactor and Protein-Catalyst](#uniprot-protein-cofactorcatalyst)  \n",
    "  - [NCBI Gene Protein-Coding Genes and Proteins](#ncbi-protein-coding-genes)\n",
    "\n",
    "\n",
    "### [Gather Instance Data Labels](#create-label-data)   \n"
   ]
  },
  {
   "cell_type": "markdown",
   "metadata": {},
   "source": [
    "\n",
    "***\n",
    "\n",
    "### Set-Up Environment\n",
    "\n",
    "***\n"
   ]
  },
  {
   "cell_type": "code",
   "execution_count": 1,
   "metadata": {},
   "outputs": [],
   "source": [
    "# import needed libraries\n",
    "import glob\n",
    "import networkx\n",
    "import numpy\n",
    "import pandas\n",
    "\n",
    "from owlready2 import subprocess\n",
    "from rdflib import Graph, Namespace, URIRef, BNode, extras, Literal\n",
    "from rdflib.extras.external_graph_libs import *\n",
    "from tqdm import tqdm\n",
    "\n",
    "# import script containing helper functions\n",
    "from scripts.python.DataPreparationHelperFunctions import *"
   ]
  },
  {
   "cell_type": "markdown",
   "metadata": {},
   "source": [
    "**Define Global Variables**"
   ]
  },
  {
   "cell_type": "code",
   "execution_count": 2,
   "metadata": {},
   "outputs": [],
   "source": [
    "# directory to read unprocessed data files from\n",
    "unprocessed_data_location = 'resources/processed_data/unprocessed_data/'\n",
    "\n",
    "# directory to write processed data files to\n",
    "processed_data_location = 'resources/processed_data/'"
   ]
  },
  {
   "cell_type": "markdown",
   "metadata": {},
   "source": [
    "***\n",
    "***\n",
    "### CREATE MAPPING DATASETS  <a class=\"anchor\" id=\"create-identifier-maps\"></a>\n",
    "***\n",
    "***"
   ]
  },
  {
   "cell_type": "markdown",
   "metadata": {},
   "source": [
    "### Human Transcript, Gene, and Protein Identifier Mapping  <a class=\"anchor\" id=\"human-transcript,-gene,-and-protein-identifier-mapping\"></a>\n",
    "\n",
    "**Data Source Wiki Pages:** \n",
    "- [Uniprot Knowledgebase](https://github.com/callahantiff/PheKnowLator/wiki/v2-Data-Sources/#uniprot-knowledgebase)   \n",
    "- [Protein Ontology](https://github.com/callahantiff/PheKnowLator/wiki/v2-Data-Sources/#protein-ontology)\n",
    "- [NCBI Gene](https://github.com/callahantiff/PheKnowLator/wiki/v2-Data-Sources/#ncbi-gene) \n",
    "\n",
    "**Purpose:** To map create protein-coding gene-protein relations and mappings between the identifiers listed below. The edges types produced from each of these mappings will be further described within each identifier mapping section: \n",
    "- [Ensembl Gene-Ensembl Transcript](#ensemblgene-ensembltranscript)  \n",
    "- [Entrez Gene-Ensembl Transcript](#entrezgene-ensembltranscript)  \n",
    "- [Ensembl Gene-Entrez Gene](#ensemblgene-entrezgene)\n",
    "- [Ensembl Gene-Protein Ontology](#ensemblgene-proteinontology) \n",
    "- [Uniprot Accession-Protein Ontology](#uniprotaccession-proteinontology)\n",
    "- [STRING-Protein Ontology](#string-proteinontology)\n",
    "\n",
    "**Output:** This script downloads and saves the following data:  \n",
    "- Human Ensembl Identifiers: [HUMAN_9606_idmapping_selected.tab.gz](ftp://ftp.uniprot.org/pub/databases/uniprot/current_release/knowledgebase/idmapping/by_organism/HUMAN_9606_idmapping_selected.tab.gz) ➞ [`HUMAN_9606_idmapping_selected.tab`](https://www.dropbox.com/s/afk12rtr1aya0za/HUMAN_9606_idmapping_selected.tab?dl=0) \n",
    "- Human Protein Identifiers: [promapping.txt](https://proconsortium.org/download/current/promapping.txt) ➞ [`promapping.txt`](https://www.dropbox.com/s/x7wdimv6ph6bl8k/promapping.txt?dl=0) \n",
    "- Human Gene Identifiers: [Homo_sapiens.gene_info.gz](ftp://ftp.ncbi.nih.gov/gene/DATA/GENE_INFO/Mammalia/Homo_sapiens.gene_info.gz) ➞ [`Homo_sapiens.gene_info`](https://www.dropbox.com/s/vazlmzxydgv6xzz/Homo_sapiens.gene_info?dl=0)  \n",
    "\n",
    "***"
   ]
  },
  {
   "cell_type": "markdown",
   "metadata": {},
   "source": [
    "**Process Data:** `HUMAN_9606_idmapping_selected.tab`"
   ]
  },
  {
   "cell_type": "code",
   "execution_count": 44,
   "metadata": {},
   "outputs": [
    {
     "name": "stdout",
     "output_type": "stream",
     "text": [
      "Downloading gzipped data from ftp server\n",
      "Decompressing and writing gzipped data\n"
     ]
    }
   ],
   "source": [
    "url = 'ftp://ftp.uniprot.org/pub/databases/uniprot/current_release/knowledgebase/idmapping/by_organism/HUMAN_9606_idmapping_selected.tab.gz'\n",
    "data_downloader(url, unprocessed_data_location)"
   ]
  },
  {
   "cell_type": "code",
   "execution_count": 76,
   "metadata": {},
   "outputs": [],
   "source": [
    "# read in data and provided labels (needed to unnest data)\n",
    "uniprot_ensembl = pandas.read_csv(unprocessed_data_location + 'HUMAN_9606_idmapping_selected.tab',\n",
    "                                  header = None,\n",
    "                                  delimiter = '\\t',\n",
    "                                  names = ['Entry', 'Entry name', 'GeneID (EntrezGene)', 'RefSeq', 'GI', 'PDB',\n",
    "                                           'GO', 'UniRef100', 'UniRef90', 'UniRef50', 'UniParc', 'PIR',\n",
    "                                           'NCBI-taxon', 'MIM', 'UniGene', 'PubMed', 'EMBL', 'EMBL-CDS',\n",
    "                                           'Ensembl', 'Ensembl_TRS', 'Ensembl_PRO', 'Additional PubMed'],\n",
    "                                  low_memory=False)\n",
    "\n",
    "# replace NaN with 'None'\n",
    "uniprot_ensembl.fillna('None', inplace=True)"
   ]
  },
  {
   "cell_type": "code",
   "execution_count": 77,
   "metadata": {},
   "outputs": [
    {
     "data": {
      "text/html": [
       "<div>\n",
       "<style scoped>\n",
       "    .dataframe tbody tr th:only-of-type {\n",
       "        vertical-align: middle;\n",
       "    }\n",
       "\n",
       "    .dataframe tbody tr th {\n",
       "        vertical-align: top;\n",
       "    }\n",
       "\n",
       "    .dataframe thead th {\n",
       "        text-align: right;\n",
       "    }\n",
       "</style>\n",
       "<table border=\"1\" class=\"dataframe\">\n",
       "  <thead>\n",
       "    <tr style=\"text-align: right;\">\n",
       "      <th></th>\n",
       "      <th>Entry</th>\n",
       "      <th>Entry name</th>\n",
       "      <th>GeneID (EntrezGene)</th>\n",
       "      <th>RefSeq</th>\n",
       "      <th>GI</th>\n",
       "      <th>PDB</th>\n",
       "      <th>GO</th>\n",
       "      <th>UniRef100</th>\n",
       "      <th>UniRef90</th>\n",
       "      <th>UniRef50</th>\n",
       "      <th>...</th>\n",
       "      <th>NCBI-taxon</th>\n",
       "      <th>MIM</th>\n",
       "      <th>UniGene</th>\n",
       "      <th>PubMed</th>\n",
       "      <th>EMBL</th>\n",
       "      <th>EMBL-CDS</th>\n",
       "      <th>Ensembl</th>\n",
       "      <th>Ensembl_TRS</th>\n",
       "      <th>Ensembl_PRO</th>\n",
       "      <th>Additional PubMed</th>\n",
       "    </tr>\n",
       "  </thead>\n",
       "  <tbody>\n",
       "    <tr>\n",
       "      <th>0</th>\n",
       "      <td>P31946</td>\n",
       "      <td>1433B_HUMAN</td>\n",
       "      <td>7529</td>\n",
       "      <td>NP_003395.1; NP_647539.1; XP_016883528.1</td>\n",
       "      <td>4507949; 377656702; 67464628; 1345590; 1034625...</td>\n",
       "      <td>2BQ0:A; 2BQ0:B; 2C23:A; 4DNK:A; 4DNK:B; 5N10:A...</td>\n",
       "      <td>GO:0005737; GO:0005829; GO:0070062; GO:0005925...</td>\n",
       "      <td>UniRef100_P31946</td>\n",
       "      <td>UniRef90_P31946</td>\n",
       "      <td>UniRef50_P31946</td>\n",
       "      <td>...</td>\n",
       "      <td>9606</td>\n",
       "      <td>601289</td>\n",
       "      <td>None</td>\n",
       "      <td>8515476; 14702039; 11780052; 15489334; 2357255...</td>\n",
       "      <td>X57346; AK292717; AL008725; CH471077; CH471077...</td>\n",
       "      <td>CAA40621.1; BAF85406.1; -; EAW75893.1; EAW7589...</td>\n",
       "      <td>ENSG00000166913</td>\n",
       "      <td>ENST00000353703</td>\n",
       "      <td>ENSP00000300161</td>\n",
       "      <td>11996670; 12364343; 12437930; 12468542; 124825...</td>\n",
       "    </tr>\n",
       "    <tr>\n",
       "      <th>1</th>\n",
       "      <td>P31946</td>\n",
       "      <td>1433B_HUMAN</td>\n",
       "      <td>7529</td>\n",
       "      <td>NP_003395.1; NP_647539.1; XP_016883528.1</td>\n",
       "      <td>4507949; 377656702; 67464628; 1345590; 1034625...</td>\n",
       "      <td>2BQ0:A; 2BQ0:B; 2C23:A; 4DNK:A; 4DNK:B; 5N10:A...</td>\n",
       "      <td>GO:0005737; GO:0005829; GO:0070062; GO:0005925...</td>\n",
       "      <td>UniRef100_P31946</td>\n",
       "      <td>UniRef90_P31946</td>\n",
       "      <td>UniRef50_P31946</td>\n",
       "      <td>...</td>\n",
       "      <td>9606</td>\n",
       "      <td>601289</td>\n",
       "      <td>None</td>\n",
       "      <td>8515476; 14702039; 11780052; 15489334; 2357255...</td>\n",
       "      <td>X57346; AK292717; AL008725; CH471077; CH471077...</td>\n",
       "      <td>CAA40621.1; BAF85406.1; -; EAW75893.1; EAW7589...</td>\n",
       "      <td>ENSG00000166913</td>\n",
       "      <td>ENST00000372839</td>\n",
       "      <td>ENSP00000300161</td>\n",
       "      <td>11996670; 12364343; 12437930; 12468542; 124825...</td>\n",
       "    </tr>\n",
       "    <tr>\n",
       "      <th>2</th>\n",
       "      <td>P31946</td>\n",
       "      <td>1433B_HUMAN</td>\n",
       "      <td>7529</td>\n",
       "      <td>NP_003395.1; NP_647539.1; XP_016883528.1</td>\n",
       "      <td>4507949; 377656702; 67464628; 1345590; 1034625...</td>\n",
       "      <td>2BQ0:A; 2BQ0:B; 2C23:A; 4DNK:A; 4DNK:B; 5N10:A...</td>\n",
       "      <td>GO:0005737; GO:0005829; GO:0070062; GO:0005925...</td>\n",
       "      <td>UniRef100_P31946</td>\n",
       "      <td>UniRef90_P31946</td>\n",
       "      <td>UniRef50_P31946</td>\n",
       "      <td>...</td>\n",
       "      <td>9606</td>\n",
       "      <td>601289</td>\n",
       "      <td>None</td>\n",
       "      <td>8515476; 14702039; 11780052; 15489334; 2357255...</td>\n",
       "      <td>X57346; AK292717; AL008725; CH471077; CH471077...</td>\n",
       "      <td>CAA40621.1; BAF85406.1; -; EAW75893.1; EAW7589...</td>\n",
       "      <td>ENSG00000166913</td>\n",
       "      <td>ENST00000353703</td>\n",
       "      <td>ENSP00000361930</td>\n",
       "      <td>11996670; 12364343; 12437930; 12468542; 124825...</td>\n",
       "    </tr>\n",
       "  </tbody>\n",
       "</table>\n",
       "<p>3 rows × 22 columns</p>\n",
       "</div>"
      ],
      "text/plain": [
       "    Entry   Entry name GeneID (EntrezGene)  \\\n",
       "0  P31946  1433B_HUMAN                7529   \n",
       "1  P31946  1433B_HUMAN                7529   \n",
       "2  P31946  1433B_HUMAN                7529   \n",
       "\n",
       "                                     RefSeq  \\\n",
       "0  NP_003395.1; NP_647539.1; XP_016883528.1   \n",
       "1  NP_003395.1; NP_647539.1; XP_016883528.1   \n",
       "2  NP_003395.1; NP_647539.1; XP_016883528.1   \n",
       "\n",
       "                                                  GI  \\\n",
       "0  4507949; 377656702; 67464628; 1345590; 1034625...   \n",
       "1  4507949; 377656702; 67464628; 1345590; 1034625...   \n",
       "2  4507949; 377656702; 67464628; 1345590; 1034625...   \n",
       "\n",
       "                                                 PDB  \\\n",
       "0  2BQ0:A; 2BQ0:B; 2C23:A; 4DNK:A; 4DNK:B; 5N10:A...   \n",
       "1  2BQ0:A; 2BQ0:B; 2C23:A; 4DNK:A; 4DNK:B; 5N10:A...   \n",
       "2  2BQ0:A; 2BQ0:B; 2C23:A; 4DNK:A; 4DNK:B; 5N10:A...   \n",
       "\n",
       "                                                  GO         UniRef100  \\\n",
       "0  GO:0005737; GO:0005829; GO:0070062; GO:0005925...  UniRef100_P31946   \n",
       "1  GO:0005737; GO:0005829; GO:0070062; GO:0005925...  UniRef100_P31946   \n",
       "2  GO:0005737; GO:0005829; GO:0070062; GO:0005925...  UniRef100_P31946   \n",
       "\n",
       "          UniRef90         UniRef50  ... NCBI-taxon     MIM  UniGene  \\\n",
       "0  UniRef90_P31946  UniRef50_P31946  ...       9606  601289     None   \n",
       "1  UniRef90_P31946  UniRef50_P31946  ...       9606  601289     None   \n",
       "2  UniRef90_P31946  UniRef50_P31946  ...       9606  601289     None   \n",
       "\n",
       "                                              PubMed  \\\n",
       "0  8515476; 14702039; 11780052; 15489334; 2357255...   \n",
       "1  8515476; 14702039; 11780052; 15489334; 2357255...   \n",
       "2  8515476; 14702039; 11780052; 15489334; 2357255...   \n",
       "\n",
       "                                                EMBL  \\\n",
       "0  X57346; AK292717; AL008725; CH471077; CH471077...   \n",
       "1  X57346; AK292717; AL008725; CH471077; CH471077...   \n",
       "2  X57346; AK292717; AL008725; CH471077; CH471077...   \n",
       "\n",
       "                                            EMBL-CDS          Ensembl  \\\n",
       "0  CAA40621.1; BAF85406.1; -; EAW75893.1; EAW7589...  ENSG00000166913   \n",
       "1  CAA40621.1; BAF85406.1; -; EAW75893.1; EAW7589...  ENSG00000166913   \n",
       "2  CAA40621.1; BAF85406.1; -; EAW75893.1; EAW7589...  ENSG00000166913   \n",
       "\n",
       "        Ensembl_TRS       Ensembl_PRO  \\\n",
       "0   ENST00000353703   ENSP00000300161   \n",
       "1   ENST00000372839   ENSP00000300161   \n",
       "2   ENST00000353703   ENSP00000361930   \n",
       "\n",
       "                                   Additional PubMed  \n",
       "0  11996670; 12364343; 12437930; 12468542; 124825...  \n",
       "1  11996670; 12364343; 12437930; 12468542; 124825...  \n",
       "2  11996670; 12364343; 12437930; 12468542; 124825...  \n",
       "\n",
       "[3 rows x 22 columns]"
      ]
     },
     "execution_count": 77,
     "metadata": {},
     "output_type": "execute_result"
    }
   ],
   "source": [
    "# explode nested data\n",
    "nest_cols = [list(uniprot_ensembl)[2]] + list(uniprot_ensembl)[18:21]\n",
    "explode_df_ensembl = explode(uniprot_ensembl.copy(), nested_cols, ';')\n",
    "\n",
    "# preview data\n",
    "explode_df_ensembl.head(n=3)"
   ]
  },
  {
   "cell_type": "markdown",
   "metadata": {},
   "source": [
    "***\n",
    "\n",
    "**Process Data:** `promapping.txt`"
   ]
  },
  {
   "cell_type": "code",
   "execution_count": 276,
   "metadata": {},
   "outputs": [
    {
     "name": "stdout",
     "output_type": "stream",
     "text": [
      "Downloading data file\n"
     ]
    }
   ],
   "source": [
    "url = 'https://proconsortium.org/download/current/promapping.txt'\n",
    "data_downloader(url, unprocessed_data_location)"
   ]
  },
  {
   "cell_type": "code",
   "execution_count": 294,
   "metadata": {
    "scrolled": true
   },
   "outputs": [
    {
     "data": {
      "text/html": [
       "<div>\n",
       "<style scoped>\n",
       "    .dataframe tbody tr th:only-of-type {\n",
       "        vertical-align: middle;\n",
       "    }\n",
       "\n",
       "    .dataframe tbody tr th {\n",
       "        vertical-align: top;\n",
       "    }\n",
       "\n",
       "    .dataframe thead th {\n",
       "        text-align: right;\n",
       "    }\n",
       "</style>\n",
       "<table border=\"1\" class=\"dataframe\">\n",
       "  <thead>\n",
       "    <tr style=\"text-align: right;\">\n",
       "      <th></th>\n",
       "      <th>pro_id</th>\n",
       "      <th>Entry</th>\n",
       "      <th>pro_mapping</th>\n",
       "    </tr>\n",
       "  </thead>\n",
       "  <tbody>\n",
       "    <tr>\n",
       "      <th>6</th>\n",
       "      <td>PR:000000005</td>\n",
       "      <td>P37173</td>\n",
       "      <td>is_a</td>\n",
       "    </tr>\n",
       "    <tr>\n",
       "      <th>7</th>\n",
       "      <td>PR:000000005</td>\n",
       "      <td>P38438</td>\n",
       "      <td>is_a</td>\n",
       "    </tr>\n",
       "    <tr>\n",
       "      <th>8</th>\n",
       "      <td>PR:000000005</td>\n",
       "      <td>Q62312</td>\n",
       "      <td>is_a</td>\n",
       "    </tr>\n",
       "  </tbody>\n",
       "</table>\n",
       "</div>"
      ],
      "text/plain": [
       "         pro_id   Entry pro_mapping\n",
       "6  PR:000000005  P37173        is_a\n",
       "7  PR:000000005  P38438        is_a\n",
       "8  PR:000000005  Q62312        is_a"
      ]
     },
     "execution_count": 294,
     "metadata": {},
     "output_type": "execute_result"
    }
   ],
   "source": [
    "pro_mapping = pandas.read_csv(unprocessed_data_location + 'promapping.txt',\n",
    "                              header = None,\n",
    "                              names = ['pro_id', 'Entry', 'pro_mapping'],\n",
    "                              delimiter = '\\t')\n",
    "\n",
    "# remove rows without 'UniProtKB'\n",
    "pro_mapping = pro_mapping.loc[pro_mapping['Entry'].apply(lambda x: x.startswith('UniProtKB:'))] \n",
    "\n",
    "\n",
    "# remove identifier type, which appears before ':'\n",
    "pro_mapping['Entry'].replace('(^\\w*\\:)','', inplace=True, regex=True)\n",
    "\n",
    "# preview data\n",
    "pro_mapping.head(n=3)"
   ]
  },
  {
   "cell_type": "markdown",
   "metadata": {},
   "source": [
    "***\n",
    "\n",
    "**Process Data:** `Homo_sapiens.gene_info`"
   ]
  },
  {
   "cell_type": "code",
   "execution_count": null,
   "metadata": {},
   "outputs": [],
   "source": [
    "url = 'ftp://ftp.ncbi.nih.gov/gene/DATA/GENE_INFO/Mammalia/Homo_sapiens.gene_info.gz'\n",
    "data_downloader(url, unprocessed_data_location)"
   ]
  },
  {
   "cell_type": "code",
   "execution_count": null,
   "metadata": {},
   "outputs": [],
   "source": [
    "ncbi_gene = pandas.read_csv(unprocessed_data_location + 'Homo_sapiens.gene_info', header = 0, delimiter = '\\t')\n",
    "\n",
    "# replace \"-\" with \"None\"\n",
    "ncbi_gene.replace('-','None', inplace=True)"
   ]
  },
  {
   "cell_type": "markdown",
   "metadata": {},
   "source": [
    "***\n",
    "\n",
    "**Merge Processed Data:** `HUMAN_9606_idmapping_selected.tab` + `promapping.txt`  "
   ]
  },
  {
   "cell_type": "code",
   "execution_count": 297,
   "metadata": {},
   "outputs": [
    {
     "data": {
      "text/html": [
       "<div>\n",
       "<style scoped>\n",
       "    .dataframe tbody tr th:only-of-type {\n",
       "        vertical-align: middle;\n",
       "    }\n",
       "\n",
       "    .dataframe tbody tr th {\n",
       "        vertical-align: top;\n",
       "    }\n",
       "\n",
       "    .dataframe thead th {\n",
       "        text-align: right;\n",
       "    }\n",
       "</style>\n",
       "<table border=\"1\" class=\"dataframe\">\n",
       "  <thead>\n",
       "    <tr style=\"text-align: right;\">\n",
       "      <th></th>\n",
       "      <th>Entry</th>\n",
       "      <th>Entry name</th>\n",
       "      <th>GeneID (EntrezGene)</th>\n",
       "      <th>RefSeq</th>\n",
       "      <th>GI</th>\n",
       "      <th>PDB</th>\n",
       "      <th>GO</th>\n",
       "      <th>UniRef100</th>\n",
       "      <th>UniRef90</th>\n",
       "      <th>UniRef50</th>\n",
       "      <th>...</th>\n",
       "      <th>UniGene</th>\n",
       "      <th>PubMed</th>\n",
       "      <th>EMBL</th>\n",
       "      <th>EMBL-CDS</th>\n",
       "      <th>Ensembl</th>\n",
       "      <th>Ensembl_TRS</th>\n",
       "      <th>Ensembl_PRO</th>\n",
       "      <th>Additional PubMed</th>\n",
       "      <th>pro_id</th>\n",
       "      <th>pro_mapping</th>\n",
       "    </tr>\n",
       "  </thead>\n",
       "  <tbody>\n",
       "    <tr>\n",
       "      <th>0</th>\n",
       "      <td>P31946</td>\n",
       "      <td>1433B_HUMAN</td>\n",
       "      <td>7529</td>\n",
       "      <td>NP_003395.1; NP_647539.1; XP_016883528.1</td>\n",
       "      <td>4507949; 377656702; 67464628; 1345590; 1034625...</td>\n",
       "      <td>2BQ0:A; 2BQ0:B; 2C23:A; 4DNK:A; 4DNK:B; 5N10:A...</td>\n",
       "      <td>GO:0005737; GO:0005829; GO:0070062; GO:0005925...</td>\n",
       "      <td>UniRef100_P31946</td>\n",
       "      <td>UniRef90_P31946</td>\n",
       "      <td>UniRef50_P31946</td>\n",
       "      <td>...</td>\n",
       "      <td>None</td>\n",
       "      <td>8515476; 14702039; 11780052; 15489334; 2357255...</td>\n",
       "      <td>X57346; AK292717; AL008725; CH471077; CH471077...</td>\n",
       "      <td>CAA40621.1; BAF85406.1; -; EAW75893.1; EAW7589...</td>\n",
       "      <td>ENSG00000166913</td>\n",
       "      <td>ENST00000353703</td>\n",
       "      <td>ENSP00000300161</td>\n",
       "      <td>11996670; 12364343; 12437930; 12468542; 124825...</td>\n",
       "      <td>PR:000002175</td>\n",
       "      <td>is_a</td>\n",
       "    </tr>\n",
       "    <tr>\n",
       "      <th>1</th>\n",
       "      <td>P31946</td>\n",
       "      <td>1433B_HUMAN</td>\n",
       "      <td>7529</td>\n",
       "      <td>NP_003395.1; NP_647539.1; XP_016883528.1</td>\n",
       "      <td>4507949; 377656702; 67464628; 1345590; 1034625...</td>\n",
       "      <td>2BQ0:A; 2BQ0:B; 2C23:A; 4DNK:A; 4DNK:B; 5N10:A...</td>\n",
       "      <td>GO:0005737; GO:0005829; GO:0070062; GO:0005925...</td>\n",
       "      <td>UniRef100_P31946</td>\n",
       "      <td>UniRef90_P31946</td>\n",
       "      <td>UniRef50_P31946</td>\n",
       "      <td>...</td>\n",
       "      <td>None</td>\n",
       "      <td>8515476; 14702039; 11780052; 15489334; 2357255...</td>\n",
       "      <td>X57346; AK292717; AL008725; CH471077; CH471077...</td>\n",
       "      <td>CAA40621.1; BAF85406.1; -; EAW75893.1; EAW7589...</td>\n",
       "      <td>ENSG00000166913</td>\n",
       "      <td>ENST00000353703</td>\n",
       "      <td>ENSP00000300161</td>\n",
       "      <td>11996670; 12364343; 12437930; 12468542; 124825...</td>\n",
       "      <td>PR:P31946</td>\n",
       "      <td>exact</td>\n",
       "    </tr>\n",
       "    <tr>\n",
       "      <th>2</th>\n",
       "      <td>P31946</td>\n",
       "      <td>1433B_HUMAN</td>\n",
       "      <td>7529</td>\n",
       "      <td>NP_003395.1; NP_647539.1; XP_016883528.1</td>\n",
       "      <td>4507949; 377656702; 67464628; 1345590; 1034625...</td>\n",
       "      <td>2BQ0:A; 2BQ0:B; 2C23:A; 4DNK:A; 4DNK:B; 5N10:A...</td>\n",
       "      <td>GO:0005737; GO:0005829; GO:0070062; GO:0005925...</td>\n",
       "      <td>UniRef100_P31946</td>\n",
       "      <td>UniRef90_P31946</td>\n",
       "      <td>UniRef50_P31946</td>\n",
       "      <td>...</td>\n",
       "      <td>None</td>\n",
       "      <td>8515476; 14702039; 11780052; 15489334; 2357255...</td>\n",
       "      <td>X57346; AK292717; AL008725; CH471077; CH471077...</td>\n",
       "      <td>CAA40621.1; BAF85406.1; -; EAW75893.1; EAW7589...</td>\n",
       "      <td>ENSG00000166913</td>\n",
       "      <td>ENST00000372839</td>\n",
       "      <td>ENSP00000300161</td>\n",
       "      <td>11996670; 12364343; 12437930; 12468542; 124825...</td>\n",
       "      <td>PR:000002175</td>\n",
       "      <td>is_a</td>\n",
       "    </tr>\n",
       "  </tbody>\n",
       "</table>\n",
       "<p>3 rows × 24 columns</p>\n",
       "</div>"
      ],
      "text/plain": [
       "    Entry   Entry name GeneID (EntrezGene)  \\\n",
       "0  P31946  1433B_HUMAN                7529   \n",
       "1  P31946  1433B_HUMAN                7529   \n",
       "2  P31946  1433B_HUMAN                7529   \n",
       "\n",
       "                                     RefSeq  \\\n",
       "0  NP_003395.1; NP_647539.1; XP_016883528.1   \n",
       "1  NP_003395.1; NP_647539.1; XP_016883528.1   \n",
       "2  NP_003395.1; NP_647539.1; XP_016883528.1   \n",
       "\n",
       "                                                  GI  \\\n",
       "0  4507949; 377656702; 67464628; 1345590; 1034625...   \n",
       "1  4507949; 377656702; 67464628; 1345590; 1034625...   \n",
       "2  4507949; 377656702; 67464628; 1345590; 1034625...   \n",
       "\n",
       "                                                 PDB  \\\n",
       "0  2BQ0:A; 2BQ0:B; 2C23:A; 4DNK:A; 4DNK:B; 5N10:A...   \n",
       "1  2BQ0:A; 2BQ0:B; 2C23:A; 4DNK:A; 4DNK:B; 5N10:A...   \n",
       "2  2BQ0:A; 2BQ0:B; 2C23:A; 4DNK:A; 4DNK:B; 5N10:A...   \n",
       "\n",
       "                                                  GO         UniRef100  \\\n",
       "0  GO:0005737; GO:0005829; GO:0070062; GO:0005925...  UniRef100_P31946   \n",
       "1  GO:0005737; GO:0005829; GO:0070062; GO:0005925...  UniRef100_P31946   \n",
       "2  GO:0005737; GO:0005829; GO:0070062; GO:0005925...  UniRef100_P31946   \n",
       "\n",
       "          UniRef90         UniRef50  ... UniGene  \\\n",
       "0  UniRef90_P31946  UniRef50_P31946  ...    None   \n",
       "1  UniRef90_P31946  UniRef50_P31946  ...    None   \n",
       "2  UniRef90_P31946  UniRef50_P31946  ...    None   \n",
       "\n",
       "                                              PubMed  \\\n",
       "0  8515476; 14702039; 11780052; 15489334; 2357255...   \n",
       "1  8515476; 14702039; 11780052; 15489334; 2357255...   \n",
       "2  8515476; 14702039; 11780052; 15489334; 2357255...   \n",
       "\n",
       "                                                EMBL  \\\n",
       "0  X57346; AK292717; AL008725; CH471077; CH471077...   \n",
       "1  X57346; AK292717; AL008725; CH471077; CH471077...   \n",
       "2  X57346; AK292717; AL008725; CH471077; CH471077...   \n",
       "\n",
       "                                            EMBL-CDS          Ensembl  \\\n",
       "0  CAA40621.1; BAF85406.1; -; EAW75893.1; EAW7589...  ENSG00000166913   \n",
       "1  CAA40621.1; BAF85406.1; -; EAW75893.1; EAW7589...  ENSG00000166913   \n",
       "2  CAA40621.1; BAF85406.1; -; EAW75893.1; EAW7589...  ENSG00000166913   \n",
       "\n",
       "        Ensembl_TRS      Ensembl_PRO  \\\n",
       "0   ENST00000353703  ENSP00000300161   \n",
       "1   ENST00000353703  ENSP00000300161   \n",
       "2   ENST00000372839  ENSP00000300161   \n",
       "\n",
       "                                   Additional PubMed        pro_id pro_mapping  \n",
       "0  11996670; 12364343; 12437930; 12468542; 124825...  PR:000002175        is_a  \n",
       "1  11996670; 12364343; 12437930; 12468542; 124825...     PR:P31946       exact  \n",
       "2  11996670; 12364343; 12437930; 12468542; 124825...  PR:000002175        is_a  \n",
       "\n",
       "[3 rows x 24 columns]"
      ]
     },
     "execution_count": 297,
     "metadata": {},
     "output_type": "execute_result"
    }
   ],
   "source": [
    "# merge uniprot and ncbi data\n",
    "uniprot_merged_data = pandas.merge(explode_df_ensembl,\n",
    "                           pro_mapping,\n",
    "                           left_on='Entry',\n",
    "                           right_on='Entry',\n",
    "                           how='outer')\n",
    "\n",
    "# replace NaN with 'None'\n",
    "uniprot_merged_data.fillna('None', inplace=True)\n",
    "\n",
    "# preview data\n",
    "uniprot_merged_data.head(n=3)"
   ]
  },
  {
   "cell_type": "markdown",
   "metadata": {},
   "source": [
    "***\n",
    "\n",
    "**Merge Processed Data:** `uniprot_merged_data` + `Homo_sapiens.gene_info`"
   ]
  },
  {
   "cell_type": "code",
   "execution_count": 298,
   "metadata": {},
   "outputs": [
    {
     "data": {
      "text/html": [
       "<div>\n",
       "<style scoped>\n",
       "    .dataframe tbody tr th:only-of-type {\n",
       "        vertical-align: middle;\n",
       "    }\n",
       "\n",
       "    .dataframe tbody tr th {\n",
       "        vertical-align: top;\n",
       "    }\n",
       "\n",
       "    .dataframe thead th {\n",
       "        text-align: right;\n",
       "    }\n",
       "</style>\n",
       "<table border=\"1\" class=\"dataframe\">\n",
       "  <thead>\n",
       "    <tr style=\"text-align: right;\">\n",
       "      <th></th>\n",
       "      <th>Entry</th>\n",
       "      <th>Entry name</th>\n",
       "      <th>GeneID (EntrezGene)</th>\n",
       "      <th>RefSeq</th>\n",
       "      <th>GI</th>\n",
       "      <th>PDB</th>\n",
       "      <th>GO</th>\n",
       "      <th>UniRef100</th>\n",
       "      <th>UniRef90</th>\n",
       "      <th>UniRef50</th>\n",
       "      <th>...</th>\n",
       "      <th>chromosome</th>\n",
       "      <th>map_location</th>\n",
       "      <th>description</th>\n",
       "      <th>type_of_gene</th>\n",
       "      <th>Symbol_from_nomenclature_authority</th>\n",
       "      <th>Full_name_from_nomenclature_authority</th>\n",
       "      <th>Nomenclature_status</th>\n",
       "      <th>Other_designations</th>\n",
       "      <th>Modification_date</th>\n",
       "      <th>Feature_type</th>\n",
       "    </tr>\n",
       "  </thead>\n",
       "  <tbody>\n",
       "    <tr>\n",
       "      <th>0</th>\n",
       "      <td>P31946</td>\n",
       "      <td>1433B_HUMAN</td>\n",
       "      <td>7529</td>\n",
       "      <td>NP_003395.1; NP_647539.1; XP_016883528.1</td>\n",
       "      <td>4507949; 377656702; 67464628; 1345590; 1034625...</td>\n",
       "      <td>2BQ0:A; 2BQ0:B; 2C23:A; 4DNK:A; 4DNK:B; 5N10:A...</td>\n",
       "      <td>GO:0005737; GO:0005829; GO:0070062; GO:0005925...</td>\n",
       "      <td>UniRef100_P31946</td>\n",
       "      <td>UniRef90_P31946</td>\n",
       "      <td>UniRef50_P31946</td>\n",
       "      <td>...</td>\n",
       "      <td>20</td>\n",
       "      <td>20q13.12</td>\n",
       "      <td>tyrosine 3-monooxygenase/tryptophan 5-monooxyg...</td>\n",
       "      <td>protein-coding</td>\n",
       "      <td>YWHAB</td>\n",
       "      <td>tyrosine 3-monooxygenase/tryptophan 5-monooxyg...</td>\n",
       "      <td>O</td>\n",
       "      <td>14-3-3 protein beta/alpha|14-3-3 alpha|brain p...</td>\n",
       "      <td>2.01912e+07</td>\n",
       "      <td>None</td>\n",
       "    </tr>\n",
       "    <tr>\n",
       "      <th>1</th>\n",
       "      <td>P31946</td>\n",
       "      <td>1433B_HUMAN</td>\n",
       "      <td>7529</td>\n",
       "      <td>NP_003395.1; NP_647539.1; XP_016883528.1</td>\n",
       "      <td>4507949; 377656702; 67464628; 1345590; 1034625...</td>\n",
       "      <td>2BQ0:A; 2BQ0:B; 2C23:A; 4DNK:A; 4DNK:B; 5N10:A...</td>\n",
       "      <td>GO:0005737; GO:0005829; GO:0070062; GO:0005925...</td>\n",
       "      <td>UniRef100_P31946</td>\n",
       "      <td>UniRef90_P31946</td>\n",
       "      <td>UniRef50_P31946</td>\n",
       "      <td>...</td>\n",
       "      <td>20</td>\n",
       "      <td>20q13.12</td>\n",
       "      <td>tyrosine 3-monooxygenase/tryptophan 5-monooxyg...</td>\n",
       "      <td>protein-coding</td>\n",
       "      <td>YWHAB</td>\n",
       "      <td>tyrosine 3-monooxygenase/tryptophan 5-monooxyg...</td>\n",
       "      <td>O</td>\n",
       "      <td>14-3-3 protein beta/alpha|14-3-3 alpha|brain p...</td>\n",
       "      <td>2.01912e+07</td>\n",
       "      <td>None</td>\n",
       "    </tr>\n",
       "    <tr>\n",
       "      <th>2</th>\n",
       "      <td>P31946</td>\n",
       "      <td>1433B_HUMAN</td>\n",
       "      <td>7529</td>\n",
       "      <td>NP_003395.1; NP_647539.1; XP_016883528.1</td>\n",
       "      <td>4507949; 377656702; 67464628; 1345590; 1034625...</td>\n",
       "      <td>2BQ0:A; 2BQ0:B; 2C23:A; 4DNK:A; 4DNK:B; 5N10:A...</td>\n",
       "      <td>GO:0005737; GO:0005829; GO:0070062; GO:0005925...</td>\n",
       "      <td>UniRef100_P31946</td>\n",
       "      <td>UniRef90_P31946</td>\n",
       "      <td>UniRef50_P31946</td>\n",
       "      <td>...</td>\n",
       "      <td>20</td>\n",
       "      <td>20q13.12</td>\n",
       "      <td>tyrosine 3-monooxygenase/tryptophan 5-monooxyg...</td>\n",
       "      <td>protein-coding</td>\n",
       "      <td>YWHAB</td>\n",
       "      <td>tyrosine 3-monooxygenase/tryptophan 5-monooxyg...</td>\n",
       "      <td>O</td>\n",
       "      <td>14-3-3 protein beta/alpha|14-3-3 alpha|brain p...</td>\n",
       "      <td>2.01912e+07</td>\n",
       "      <td>None</td>\n",
       "    </tr>\n",
       "  </tbody>\n",
       "</table>\n",
       "<p>3 rows × 40 columns</p>\n",
       "</div>"
      ],
      "text/plain": [
       "    Entry   Entry name GeneID (EntrezGene)  \\\n",
       "0  P31946  1433B_HUMAN                7529   \n",
       "1  P31946  1433B_HUMAN                7529   \n",
       "2  P31946  1433B_HUMAN                7529   \n",
       "\n",
       "                                     RefSeq  \\\n",
       "0  NP_003395.1; NP_647539.1; XP_016883528.1   \n",
       "1  NP_003395.1; NP_647539.1; XP_016883528.1   \n",
       "2  NP_003395.1; NP_647539.1; XP_016883528.1   \n",
       "\n",
       "                                                  GI  \\\n",
       "0  4507949; 377656702; 67464628; 1345590; 1034625...   \n",
       "1  4507949; 377656702; 67464628; 1345590; 1034625...   \n",
       "2  4507949; 377656702; 67464628; 1345590; 1034625...   \n",
       "\n",
       "                                                 PDB  \\\n",
       "0  2BQ0:A; 2BQ0:B; 2C23:A; 4DNK:A; 4DNK:B; 5N10:A...   \n",
       "1  2BQ0:A; 2BQ0:B; 2C23:A; 4DNK:A; 4DNK:B; 5N10:A...   \n",
       "2  2BQ0:A; 2BQ0:B; 2C23:A; 4DNK:A; 4DNK:B; 5N10:A...   \n",
       "\n",
       "                                                  GO         UniRef100  \\\n",
       "0  GO:0005737; GO:0005829; GO:0070062; GO:0005925...  UniRef100_P31946   \n",
       "1  GO:0005737; GO:0005829; GO:0070062; GO:0005925...  UniRef100_P31946   \n",
       "2  GO:0005737; GO:0005829; GO:0070062; GO:0005925...  UniRef100_P31946   \n",
       "\n",
       "          UniRef90         UniRef50  ... chromosome map_location  \\\n",
       "0  UniRef90_P31946  UniRef50_P31946  ...         20     20q13.12   \n",
       "1  UniRef90_P31946  UniRef50_P31946  ...         20     20q13.12   \n",
       "2  UniRef90_P31946  UniRef50_P31946  ...         20     20q13.12   \n",
       "\n",
       "                                         description    type_of_gene  \\\n",
       "0  tyrosine 3-monooxygenase/tryptophan 5-monooxyg...  protein-coding   \n",
       "1  tyrosine 3-monooxygenase/tryptophan 5-monooxyg...  protein-coding   \n",
       "2  tyrosine 3-monooxygenase/tryptophan 5-monooxyg...  protein-coding   \n",
       "\n",
       "  Symbol_from_nomenclature_authority  \\\n",
       "0                              YWHAB   \n",
       "1                              YWHAB   \n",
       "2                              YWHAB   \n",
       "\n",
       "               Full_name_from_nomenclature_authority Nomenclature_status  \\\n",
       "0  tyrosine 3-monooxygenase/tryptophan 5-monooxyg...                   O   \n",
       "1  tyrosine 3-monooxygenase/tryptophan 5-monooxyg...                   O   \n",
       "2  tyrosine 3-monooxygenase/tryptophan 5-monooxyg...                   O   \n",
       "\n",
       "                                  Other_designations Modification_date  \\\n",
       "0  14-3-3 protein beta/alpha|14-3-3 alpha|brain p...       2.01912e+07   \n",
       "1  14-3-3 protein beta/alpha|14-3-3 alpha|brain p...       2.01912e+07   \n",
       "2  14-3-3 protein beta/alpha|14-3-3 alpha|brain p...       2.01912e+07   \n",
       "\n",
       "  Feature_type  \n",
       "0         None  \n",
       "1         None  \n",
       "2         None  \n",
       "\n",
       "[3 rows x 40 columns]"
      ]
     },
     "execution_count": 298,
     "metadata": {},
     "output_type": "execute_result"
    }
   ],
   "source": [
    "# make sure merge columns are the same type\n",
    "ncbi_gene['GeneID'] = ncbi_gene['GeneID'].astype(str)\n",
    "\n",
    "# merge uniprot and ncbi data\n",
    "merged_data = pandas.merge(uniprot_merged_data,\n",
    "                           ncbi_gene,\n",
    "                           left_on='GeneID (EntrezGene)',\n",
    "                           right_on='GeneID',\n",
    "                           how='outer')\n",
    "\n",
    "# replace NaN with 'None'\n",
    "merged_data.fillna('None', inplace=True)\n",
    "\n",
    "# preview data\n",
    "merged_data.head(n=3)"
   ]
  },
  {
   "cell_type": "markdown",
   "metadata": {},
   "source": [
    "***\n",
    "\n",
    "### Ensembl Gene-Ensembl Transcript <a class=\"anchor\" id=\"ensemblgene-ensembltranscript\"></a>\n",
    "\n",
    "**Purpose:** To map Ensembl gene identifiers to Ensembl transcript identifiers when creating the following edges: \n",
    "- RNA-Cell   \n",
    "- RNA-Tissue Types  \n",
    "- RNA-Protein  \n",
    "\n",
    "**Output:** [`ENSEMBL_GENE_ENSEMBL_TRANSCRIPT_MAP.txt`](https://www.dropbox.com/s/8n1isqytlz2z1g6/ENSEMBL_GENE_ENSEMBL_TRANSCRIPT_MAP.txt?dl=0)"
   ]
  },
  {
   "cell_type": "code",
   "execution_count": null,
   "metadata": {},
   "outputs": [],
   "source": [
    "# de-dup data\n",
    "df_ens = merged_data.drop_duplicates(subset=['Ensembl', 'Ensembl_TRS', 'Symbol_from_nomenclature_authority', 'Synonyms', 'Full_name_from_nomenclature_authority'], keep='first', inplace=False) \n",
    "\n",
    "# reformat data and write it out\n",
    "with open(processed_data_location + 'ENSEMBL_GENE_ENSEMBL_TRANSCRIPT_MAP.txt', 'w') as outfile:\n",
    "    for idx, row in tqdm(df_ens.iterrows(), total=df_ens.shape[0]):\n",
    "        if row['Ensembl'] != 'None' and row['Ensembl_TRS'] != 'None': \n",
    "            outfile.write(row['Ensembl'] + '\\t' + row['Ensembl_TRS'] + '\\t' + row['Symbol_from_nomenclature_authority'] + '\\t' + row['Synonyms'] + '\\t' + row['Full_name_from_nomenclature_authority'] +  '\\n')\n",
    "\n",
    "outfile.close()"
   ]
  },
  {
   "cell_type": "markdown",
   "metadata": {},
   "source": [
    "**Preview Processed Data**"
   ]
  },
  {
   "cell_type": "code",
   "execution_count": 300,
   "metadata": {},
   "outputs": [
    {
     "name": "stdout",
     "output_type": "stream",
     "text": [
      "There are 147648 ensembl gene-ensembl transcript edges\n"
     ]
    }
   ],
   "source": [
    "eget_data = pandas.read_csv(processed_data_location + 'ENSEMBL_GENE_ENSEMBL_TRANSCRIPT_MAP.txt',\n",
    "                            header = None,\n",
    "                            names=['Ensembl_Gene_IDs', 'Ensembl_Transcript_IDs', 'Ensembl_Labels', 'Ensembl_Synonyms', 'Ensembl_Description'],\n",
    "                            delimiter = '\\t')\n",
    "\n",
    "print('There are {edge_count} ensembl gene-ensembl transcript edges'.format(edge_count=len(eget_data)))"
   ]
  },
  {
   "cell_type": "code",
   "execution_count": 301,
   "metadata": {},
   "outputs": [
    {
     "data": {
      "text/html": [
       "<div>\n",
       "<style scoped>\n",
       "    .dataframe tbody tr th:only-of-type {\n",
       "        vertical-align: middle;\n",
       "    }\n",
       "\n",
       "    .dataframe tbody tr th {\n",
       "        vertical-align: top;\n",
       "    }\n",
       "\n",
       "    .dataframe thead th {\n",
       "        text-align: right;\n",
       "    }\n",
       "</style>\n",
       "<table border=\"1\" class=\"dataframe\">\n",
       "  <thead>\n",
       "    <tr style=\"text-align: right;\">\n",
       "      <th></th>\n",
       "      <th>Ensembl_Gene_IDs</th>\n",
       "      <th>Ensembl_Transcript_IDs</th>\n",
       "      <th>Ensembl_Labels</th>\n",
       "      <th>Ensembl_Synonyms</th>\n",
       "      <th>Ensembl_Description</th>\n",
       "    </tr>\n",
       "  </thead>\n",
       "  <tbody>\n",
       "    <tr>\n",
       "      <th>0</th>\n",
       "      <td>ENSG00000166913</td>\n",
       "      <td>ENST00000353703</td>\n",
       "      <td>YWHAB</td>\n",
       "      <td>GW128|HEL-S-1|HS1|KCIP-1|YWHAA</td>\n",
       "      <td>tyrosine 3-monooxygenase/tryptophan 5-monooxyg...</td>\n",
       "    </tr>\n",
       "    <tr>\n",
       "      <th>1</th>\n",
       "      <td>ENSG00000166913</td>\n",
       "      <td>ENST00000372839</td>\n",
       "      <td>YWHAB</td>\n",
       "      <td>GW128|HEL-S-1|HS1|KCIP-1|YWHAA</td>\n",
       "      <td>tyrosine 3-monooxygenase/tryptophan 5-monooxyg...</td>\n",
       "    </tr>\n",
       "    <tr>\n",
       "      <th>2</th>\n",
       "      <td>ENSG00000108953</td>\n",
       "      <td>ENST00000264335</td>\n",
       "      <td>YWHAE</td>\n",
       "      <td>14-3-3E|HEL2|KCIP-1|MDCR|MDS</td>\n",
       "      <td>tyrosine 3-monooxygenase/tryptophan 5-monooxyg...</td>\n",
       "    </tr>\n",
       "    <tr>\n",
       "      <th>3</th>\n",
       "      <td>ENSG00000274474</td>\n",
       "      <td>ENST00000264335</td>\n",
       "      <td>YWHAE</td>\n",
       "      <td>14-3-3E|HEL2|KCIP-1|MDCR|MDS</td>\n",
       "      <td>tyrosine 3-monooxygenase/tryptophan 5-monooxyg...</td>\n",
       "    </tr>\n",
       "    <tr>\n",
       "      <th>4</th>\n",
       "      <td>ENSG00000108953</td>\n",
       "      <td>ENST00000571732</td>\n",
       "      <td>YWHAE</td>\n",
       "      <td>14-3-3E|HEL2|KCIP-1|MDCR|MDS</td>\n",
       "      <td>tyrosine 3-monooxygenase/tryptophan 5-monooxyg...</td>\n",
       "    </tr>\n",
       "  </tbody>\n",
       "</table>\n",
       "</div>"
      ],
      "text/plain": [
       "   Ensembl_Gene_IDs Ensembl_Transcript_IDs Ensembl_Labels  \\\n",
       "0   ENSG00000166913        ENST00000353703          YWHAB   \n",
       "1   ENSG00000166913        ENST00000372839          YWHAB   \n",
       "2   ENSG00000108953        ENST00000264335          YWHAE   \n",
       "3   ENSG00000274474        ENST00000264335          YWHAE   \n",
       "4   ENSG00000108953        ENST00000571732          YWHAE   \n",
       "\n",
       "                 Ensembl_Synonyms  \\\n",
       "0  GW128|HEL-S-1|HS1|KCIP-1|YWHAA   \n",
       "1  GW128|HEL-S-1|HS1|KCIP-1|YWHAA   \n",
       "2    14-3-3E|HEL2|KCIP-1|MDCR|MDS   \n",
       "3    14-3-3E|HEL2|KCIP-1|MDCR|MDS   \n",
       "4    14-3-3E|HEL2|KCIP-1|MDCR|MDS   \n",
       "\n",
       "                                 Ensembl_Description  \n",
       "0  tyrosine 3-monooxygenase/tryptophan 5-monooxyg...  \n",
       "1  tyrosine 3-monooxygenase/tryptophan 5-monooxyg...  \n",
       "2  tyrosine 3-monooxygenase/tryptophan 5-monooxyg...  \n",
       "3  tyrosine 3-monooxygenase/tryptophan 5-monooxyg...  \n",
       "4  tyrosine 3-monooxygenase/tryptophan 5-monooxyg...  "
      ]
     },
     "execution_count": 301,
     "metadata": {},
     "output_type": "execute_result"
    }
   ],
   "source": [
    "eget_data.head(n=5)"
   ]
  },
  {
   "cell_type": "markdown",
   "metadata": {},
   "source": [
    "  \n",
    "***\n",
    "\n",
    "### Entrez Gene-Ensembl Transcript <a class=\"anchor\" id=\"entrezgene-ensembltranscript\"></a>\n",
    "\n",
    "**Purpose:** To map Entrez gene identifiers to Ensembl transcript identifiers when creating the following edges: \n",
    "- gene-RNA \n",
    "\n",
    "**Output:** [`ENTREZ_GENE_ENSEMBL_TRANSCRIPT_MAP.txt`](https://www.dropbox.com/s/yqnofd8h90luygu/ENTREZ_GENE_ENSEMBL_TRANSCRIPT_MAP.txt?dl=0)"
   ]
  },
  {
   "cell_type": "code",
   "execution_count": null,
   "metadata": {},
   "outputs": [],
   "source": [
    "# de-dup data\n",
    "df_ens = merged_data.drop_duplicates(subset=['GeneID', 'Ensembl_TRS', 'Symbol_from_nomenclature_authority', 'Synonyms', 'Full_name_from_nomenclature_authority'], keep='first', inplace=False) \n",
    "\n",
    "# reformat data and write it out\n",
    "with open(processed_data_location + 'ENTREZ_GENE_ENSEMBL_TRANSCRIPT_MAP.txt', 'w') as outfile:\n",
    "    for idx, row in tqdm(df_ens.iterrows(), total=df_ens.shape[0]):\n",
    "        if row['GeneID'] != 'None' and row['Ensembl_TRS'] != 'None': \n",
    "            outfile.write(row['GeneID'] + '\\t' + row['Ensembl_TRS'] + '\\t' + row['Symbol_from_nomenclature_authority'] + '\\t' + row['Synonyms'] + '\\t' + row['Full_name_from_nomenclature_authority'] +  '\\n')\n",
    "\n",
    "outfile.close()"
   ]
  },
  {
   "cell_type": "markdown",
   "metadata": {},
   "source": [
    "**Preview Processed Data**"
   ]
  },
  {
   "cell_type": "code",
   "execution_count": 324,
   "metadata": {},
   "outputs": [
    {
     "name": "stdout",
     "output_type": "stream",
     "text": [
      "There are 51382 entrez gene-ensembl transcript edges\n"
     ]
    }
   ],
   "source": [
    "eet_data = pandas.read_csv(processed_data_location + 'ENTREZ_GENE_ENSEMBL_TRANSCRIPT_MAP.txt',\n",
    "                            header = None,\n",
    "                            names=['Entrez_Gene_IDs', 'Ensembl_Transcript_IDs', 'Ensembl_Symbols', 'Ensembl_Synonyms', 'Ensembl_Description'],\n",
    "                            delimiter = '\\t')\n",
    "\n",
    "print('There are {edge_count} entrez gene-ensembl transcript edges'.format(edge_count=len(eet_data)))"
   ]
  },
  {
   "cell_type": "code",
   "execution_count": 325,
   "metadata": {},
   "outputs": [
    {
     "data": {
      "text/html": [
       "<div>\n",
       "<style scoped>\n",
       "    .dataframe tbody tr th:only-of-type {\n",
       "        vertical-align: middle;\n",
       "    }\n",
       "\n",
       "    .dataframe tbody tr th {\n",
       "        vertical-align: top;\n",
       "    }\n",
       "\n",
       "    .dataframe thead th {\n",
       "        text-align: right;\n",
       "    }\n",
       "</style>\n",
       "<table border=\"1\" class=\"dataframe\">\n",
       "  <thead>\n",
       "    <tr style=\"text-align: right;\">\n",
       "      <th></th>\n",
       "      <th>Entrez_Gene_IDs</th>\n",
       "      <th>Ensembl_Transcript_IDs</th>\n",
       "      <th>Ensembl_Symbols</th>\n",
       "      <th>Ensembl_Synonyms</th>\n",
       "      <th>Ensembl_Description</th>\n",
       "    </tr>\n",
       "  </thead>\n",
       "  <tbody>\n",
       "    <tr>\n",
       "      <th>0</th>\n",
       "      <td>7529</td>\n",
       "      <td>ENST00000353703</td>\n",
       "      <td>YWHAB</td>\n",
       "      <td>GW128|HEL-S-1|HS1|KCIP-1|YWHAA</td>\n",
       "      <td>tyrosine 3-monooxygenase/tryptophan 5-monooxyg...</td>\n",
       "    </tr>\n",
       "    <tr>\n",
       "      <th>1</th>\n",
       "      <td>7529</td>\n",
       "      <td>ENST00000372839</td>\n",
       "      <td>YWHAB</td>\n",
       "      <td>GW128|HEL-S-1|HS1|KCIP-1|YWHAA</td>\n",
       "      <td>tyrosine 3-monooxygenase/tryptophan 5-monooxyg...</td>\n",
       "    </tr>\n",
       "    <tr>\n",
       "      <th>2</th>\n",
       "      <td>7531</td>\n",
       "      <td>ENST00000264335</td>\n",
       "      <td>YWHAE</td>\n",
       "      <td>14-3-3E|HEL2|KCIP-1|MDCR|MDS</td>\n",
       "      <td>tyrosine 3-monooxygenase/tryptophan 5-monooxyg...</td>\n",
       "    </tr>\n",
       "    <tr>\n",
       "      <th>3</th>\n",
       "      <td>7531</td>\n",
       "      <td>ENST00000571732</td>\n",
       "      <td>YWHAE</td>\n",
       "      <td>14-3-3E|HEL2|KCIP-1|MDCR|MDS</td>\n",
       "      <td>tyrosine 3-monooxygenase/tryptophan 5-monooxyg...</td>\n",
       "    </tr>\n",
       "    <tr>\n",
       "      <th>4</th>\n",
       "      <td>7531</td>\n",
       "      <td>ENST00000616643</td>\n",
       "      <td>YWHAE</td>\n",
       "      <td>14-3-3E|HEL2|KCIP-1|MDCR|MDS</td>\n",
       "      <td>tyrosine 3-monooxygenase/tryptophan 5-monooxyg...</td>\n",
       "    </tr>\n",
       "  </tbody>\n",
       "</table>\n",
       "</div>"
      ],
      "text/plain": [
       "   Entrez_Gene_IDs Ensembl_Transcript_IDs Ensembl_Symbols  \\\n",
       "0             7529        ENST00000353703           YWHAB   \n",
       "1             7529        ENST00000372839           YWHAB   \n",
       "2             7531        ENST00000264335           YWHAE   \n",
       "3             7531        ENST00000571732           YWHAE   \n",
       "4             7531        ENST00000616643           YWHAE   \n",
       "\n",
       "                 Ensembl_Synonyms  \\\n",
       "0  GW128|HEL-S-1|HS1|KCIP-1|YWHAA   \n",
       "1  GW128|HEL-S-1|HS1|KCIP-1|YWHAA   \n",
       "2    14-3-3E|HEL2|KCIP-1|MDCR|MDS   \n",
       "3    14-3-3E|HEL2|KCIP-1|MDCR|MDS   \n",
       "4    14-3-3E|HEL2|KCIP-1|MDCR|MDS   \n",
       "\n",
       "                                 Ensembl_Description  \n",
       "0  tyrosine 3-monooxygenase/tryptophan 5-monooxyg...  \n",
       "1  tyrosine 3-monooxygenase/tryptophan 5-monooxyg...  \n",
       "2  tyrosine 3-monooxygenase/tryptophan 5-monooxyg...  \n",
       "3  tyrosine 3-monooxygenase/tryptophan 5-monooxyg...  \n",
       "4  tyrosine 3-monooxygenase/tryptophan 5-monooxyg...  "
      ]
     },
     "execution_count": 325,
     "metadata": {},
     "output_type": "execute_result"
    }
   ],
   "source": [
    "eet_data.head(n=5)"
   ]
  },
  {
   "cell_type": "markdown",
   "metadata": {},
   "source": [
    "\n",
    "***\n",
    "\n",
    "### Ensembl Gene-Entrez Gene <a class=\"anchor\" id=\"ensemblgene-entrezgene\"></a>\n",
    "\n",
    "\n",
    "**Purpose:** To map Ensembl gene identifiers to Entrez gene identifiers when creating the following edges:   \n",
    "- gene-gene\n",
    "\n",
    "**Output:** [`ENSEMBL_GENE_ENTREZ_GENE_MAP.txt`](https://www.dropbox.com/s/crghjh2we5v7pws/ENSEMBL_GENE_ENTREZ_GENE_MAP.txt?dl=0)"
   ]
  },
  {
   "cell_type": "code",
   "execution_count": null,
   "metadata": {},
   "outputs": [],
   "source": [
    "# de-dup data\n",
    "df_ens = merged_data.drop_duplicates(subset=['Ensembl', 'GeneID', 'Symbol_from_nomenclature_authority', 'Synonyms', 'Full_name_from_nomenclature_authority'], keep='first', inplace=False) \n",
    "\n",
    "# reformat data and write it out\n",
    "with open(processed_data_location + 'ENSEMBL_GENE_ENTREZ_GENE_MAP.txt', 'w') as outfile:\n",
    "    for idx, row in tqdm(df_ens.iterrows(), total=df_ens.shape[0]):\n",
    "        if row['Ensembl'] != 'None' and row['GeneID'] != 'None': \n",
    "            outfile.write(row['Ensembl'] + '\\t' + row['GeneID'] + '\\t' + row['Symbol_from_nomenclature_authority'] + '\\t' + row['Synonyms'] + '\\t' + row['Full_name_from_nomenclature_authority'] +  '\\n')\n",
    "\n",
    "outfile.close()"
   ]
  },
  {
   "cell_type": "markdown",
   "metadata": {},
   "source": [
    "**Preview Processed Data**"
   ]
  },
  {
   "cell_type": "code",
   "execution_count": 326,
   "metadata": {},
   "outputs": [
    {
     "name": "stdout",
     "output_type": "stream",
     "text": [
      "There are 20972 ensembl gene-entrez gene edges\n"
     ]
    }
   ],
   "source": [
    "egeg_data = pandas.read_csv(processed_data_location + 'ENSEMBL_GENE_ENTREZ_GENE_MAP.txt',\n",
    "                            header = None,\n",
    "                            names=['Ensembl_Gene_IDs', 'Entrez_Gene_IDs', 'Ensembl_Symbols', 'Ensembl_Synonyms', 'Ensembl_Description'],\n",
    "                            delimiter = '\\t')\n",
    "\n",
    "print('There are {edge_count} ensembl gene-entrez gene edges'.format(edge_count=len(egeg_data)))"
   ]
  },
  {
   "cell_type": "code",
   "execution_count": 327,
   "metadata": {},
   "outputs": [
    {
     "data": {
      "text/html": [
       "<div>\n",
       "<style scoped>\n",
       "    .dataframe tbody tr th:only-of-type {\n",
       "        vertical-align: middle;\n",
       "    }\n",
       "\n",
       "    .dataframe tbody tr th {\n",
       "        vertical-align: top;\n",
       "    }\n",
       "\n",
       "    .dataframe thead th {\n",
       "        text-align: right;\n",
       "    }\n",
       "</style>\n",
       "<table border=\"1\" class=\"dataframe\">\n",
       "  <thead>\n",
       "    <tr style=\"text-align: right;\">\n",
       "      <th></th>\n",
       "      <th>Ensembl_Gene_IDs</th>\n",
       "      <th>Entrez_Gene_IDs</th>\n",
       "      <th>Ensembl_Symbols</th>\n",
       "      <th>Ensembl_Synonyms</th>\n",
       "      <th>Ensembl_Description</th>\n",
       "    </tr>\n",
       "  </thead>\n",
       "  <tbody>\n",
       "    <tr>\n",
       "      <th>0</th>\n",
       "      <td>ENSG00000166913</td>\n",
       "      <td>7529</td>\n",
       "      <td>YWHAB</td>\n",
       "      <td>GW128|HEL-S-1|HS1|KCIP-1|YWHAA</td>\n",
       "      <td>tyrosine 3-monooxygenase/tryptophan 5-monooxyg...</td>\n",
       "    </tr>\n",
       "    <tr>\n",
       "      <th>1</th>\n",
       "      <td>ENSG00000108953</td>\n",
       "      <td>7531</td>\n",
       "      <td>YWHAE</td>\n",
       "      <td>14-3-3E|HEL2|KCIP-1|MDCR|MDS</td>\n",
       "      <td>tyrosine 3-monooxygenase/tryptophan 5-monooxyg...</td>\n",
       "    </tr>\n",
       "    <tr>\n",
       "      <th>2</th>\n",
       "      <td>ENSG00000274474</td>\n",
       "      <td>7531</td>\n",
       "      <td>YWHAE</td>\n",
       "      <td>14-3-3E|HEL2|KCIP-1|MDCR|MDS</td>\n",
       "      <td>tyrosine 3-monooxygenase/tryptophan 5-monooxyg...</td>\n",
       "    </tr>\n",
       "    <tr>\n",
       "      <th>3</th>\n",
       "      <td>ENSG00000128245</td>\n",
       "      <td>7533</td>\n",
       "      <td>YWHAH</td>\n",
       "      <td>YWHA1</td>\n",
       "      <td>tyrosine 3-monooxygenase/tryptophan 5-monooxyg...</td>\n",
       "    </tr>\n",
       "    <tr>\n",
       "      <th>4</th>\n",
       "      <td>ENSG00000170027</td>\n",
       "      <td>7532</td>\n",
       "      <td>YWHAG</td>\n",
       "      <td>14-3-3GAMMA|EIEE56|PPP1R170</td>\n",
       "      <td>tyrosine 3-monooxygenase/tryptophan 5-monooxyg...</td>\n",
       "    </tr>\n",
       "  </tbody>\n",
       "</table>\n",
       "</div>"
      ],
      "text/plain": [
       "   Ensembl_Gene_IDs  Entrez_Gene_IDs Ensembl_Symbols  \\\n",
       "0   ENSG00000166913             7529           YWHAB   \n",
       "1   ENSG00000108953             7531           YWHAE   \n",
       "2   ENSG00000274474             7531           YWHAE   \n",
       "3   ENSG00000128245             7533           YWHAH   \n",
       "4   ENSG00000170027             7532           YWHAG   \n",
       "\n",
       "                 Ensembl_Synonyms  \\\n",
       "0  GW128|HEL-S-1|HS1|KCIP-1|YWHAA   \n",
       "1    14-3-3E|HEL2|KCIP-1|MDCR|MDS   \n",
       "2    14-3-3E|HEL2|KCIP-1|MDCR|MDS   \n",
       "3                           YWHA1   \n",
       "4     14-3-3GAMMA|EIEE56|PPP1R170   \n",
       "\n",
       "                                 Ensembl_Description  \n",
       "0  tyrosine 3-monooxygenase/tryptophan 5-monooxyg...  \n",
       "1  tyrosine 3-monooxygenase/tryptophan 5-monooxyg...  \n",
       "2  tyrosine 3-monooxygenase/tryptophan 5-monooxyg...  \n",
       "3  tyrosine 3-monooxygenase/tryptophan 5-monooxyg...  \n",
       "4  tyrosine 3-monooxygenase/tryptophan 5-monooxyg...  "
      ]
     },
     "execution_count": 327,
     "metadata": {},
     "output_type": "execute_result"
    }
   ],
   "source": [
    "egeg_data.head(n=5)"
   ]
  },
  {
   "cell_type": "markdown",
   "metadata": {},
   "source": [
    "\n",
    "***\n",
    "\n",
    "### Ensembl Gene - Protein Ontology <a class=\"anchor\" id=\"ensemblgene-proteinontology\"></a>\n",
    "\n",
    "**Purpose:** To map Ensembl gene identifiers to Protein Ontology identifiers when creating the following edges:   \n",
    "- RNA-protein\n",
    "- gene-protein\n",
    "\n",
    "**Output:** [`ENSEMBL_GENE_PRO_ONTOLOGY_MAP.txt`](https://www.dropbox.com/s/3rt17t81yqjuc62/ENSEMBL_PROTEIN_PRO_MAP.txt?dl=0)"
   ]
  },
  {
   "cell_type": "code",
   "execution_count": null,
   "metadata": {},
   "outputs": [],
   "source": [
    "# de-dup data\n",
    "df_ens = merged_data.drop_duplicates(subset=['Ensembl', 'pro_id'], keep='first', inplace=False) \n",
    "\n",
    "# reformat data and write it out\n",
    "with open(processed_data_location + 'ENSEMBL_GENE_PRO_ONTOLOGY_MAP.txt', 'w') as outfile:\n",
    "    for idx, row in tqdm(df_ens.iterrows(), total=df_ens.shape[0]):\n",
    "        if row['Ensembl'] != 'None' and row['pro_id'] != 'None': \n",
    "            outfile.write(row['Ensembl'] + '\\t' + row['pro_id'].replace(':', '_') + '\\t' + row['Symbol_from_nomenclature_authority'] + '\\t' + row['Synonyms'] + '\\t' + row['Full_name_from_nomenclature_authority'] +  '\\n')\n",
    "\n",
    "outfile.close()"
   ]
  },
  {
   "cell_type": "markdown",
   "metadata": {},
   "source": [
    "**Preview Processed Data**"
   ]
  },
  {
   "cell_type": "code",
   "execution_count": 330,
   "metadata": {},
   "outputs": [
    {
     "name": "stdout",
     "output_type": "stream",
     "text": [
      "There are 41208 ensembl gene-protein ontology edges\n"
     ]
    }
   ],
   "source": [
    "egpr_data = pandas.read_csv(processed_data_location + 'ENSEMBL_GENE_PRO_ONTOLOGY_MAP.txt',\n",
    "                            header = None,\n",
    "                            names=['Ensembl_Gene_IDs', 'Protein_Ontology_IDs', 'Ensembl_Symbols', 'Ensembl_Synonyms', 'Ensembl_Description'],\n",
    "                            delimiter = '\\t')\n",
    "\n",
    "print('There are {edge_count} ensembl gene-protein ontology edges'.format(edge_count=len(egpr_data)))"
   ]
  },
  {
   "cell_type": "code",
   "execution_count": 331,
   "metadata": {},
   "outputs": [
    {
     "data": {
      "text/html": [
       "<div>\n",
       "<style scoped>\n",
       "    .dataframe tbody tr th:only-of-type {\n",
       "        vertical-align: middle;\n",
       "    }\n",
       "\n",
       "    .dataframe tbody tr th {\n",
       "        vertical-align: top;\n",
       "    }\n",
       "\n",
       "    .dataframe thead th {\n",
       "        text-align: right;\n",
       "    }\n",
       "</style>\n",
       "<table border=\"1\" class=\"dataframe\">\n",
       "  <thead>\n",
       "    <tr style=\"text-align: right;\">\n",
       "      <th></th>\n",
       "      <th>Ensembl_Gene_IDs</th>\n",
       "      <th>Protein_Ontology_IDs</th>\n",
       "      <th>Ensembl_Symbols</th>\n",
       "      <th>Ensembl_Synonyms</th>\n",
       "      <th>Ensembl_Description</th>\n",
       "    </tr>\n",
       "  </thead>\n",
       "  <tbody>\n",
       "    <tr>\n",
       "      <th>0</th>\n",
       "      <td>ENSG00000166913</td>\n",
       "      <td>PR_000002175</td>\n",
       "      <td>YWHAB</td>\n",
       "      <td>GW128|HEL-S-1|HS1|KCIP-1|YWHAA</td>\n",
       "      <td>tyrosine 3-monooxygenase/tryptophan 5-monooxyg...</td>\n",
       "    </tr>\n",
       "    <tr>\n",
       "      <th>1</th>\n",
       "      <td>ENSG00000166913</td>\n",
       "      <td>PR_P31946</td>\n",
       "      <td>YWHAB</td>\n",
       "      <td>GW128|HEL-S-1|HS1|KCIP-1|YWHAA</td>\n",
       "      <td>tyrosine 3-monooxygenase/tryptophan 5-monooxyg...</td>\n",
       "    </tr>\n",
       "    <tr>\n",
       "      <th>2</th>\n",
       "      <td>ENSG00000108953</td>\n",
       "      <td>PR_000003104</td>\n",
       "      <td>YWHAE</td>\n",
       "      <td>14-3-3E|HEL2|KCIP-1|MDCR|MDS</td>\n",
       "      <td>tyrosine 3-monooxygenase/tryptophan 5-monooxyg...</td>\n",
       "    </tr>\n",
       "    <tr>\n",
       "      <th>3</th>\n",
       "      <td>ENSG00000108953</td>\n",
       "      <td>PR_P62258</td>\n",
       "      <td>YWHAE</td>\n",
       "      <td>14-3-3E|HEL2|KCIP-1|MDCR|MDS</td>\n",
       "      <td>tyrosine 3-monooxygenase/tryptophan 5-monooxyg...</td>\n",
       "    </tr>\n",
       "    <tr>\n",
       "      <th>4</th>\n",
       "      <td>ENSG00000274474</td>\n",
       "      <td>PR_000003104</td>\n",
       "      <td>YWHAE</td>\n",
       "      <td>14-3-3E|HEL2|KCIP-1|MDCR|MDS</td>\n",
       "      <td>tyrosine 3-monooxygenase/tryptophan 5-monooxyg...</td>\n",
       "    </tr>\n",
       "  </tbody>\n",
       "</table>\n",
       "</div>"
      ],
      "text/plain": [
       "   Ensembl_Gene_IDs Protein_Ontology_IDs Ensembl_Symbols  \\\n",
       "0   ENSG00000166913         PR_000002175           YWHAB   \n",
       "1   ENSG00000166913            PR_P31946           YWHAB   \n",
       "2   ENSG00000108953         PR_000003104           YWHAE   \n",
       "3   ENSG00000108953            PR_P62258           YWHAE   \n",
       "4   ENSG00000274474         PR_000003104           YWHAE   \n",
       "\n",
       "                 Ensembl_Synonyms  \\\n",
       "0  GW128|HEL-S-1|HS1|KCIP-1|YWHAA   \n",
       "1  GW128|HEL-S-1|HS1|KCIP-1|YWHAA   \n",
       "2    14-3-3E|HEL2|KCIP-1|MDCR|MDS   \n",
       "3    14-3-3E|HEL2|KCIP-1|MDCR|MDS   \n",
       "4    14-3-3E|HEL2|KCIP-1|MDCR|MDS   \n",
       "\n",
       "                                 Ensembl_Description  \n",
       "0  tyrosine 3-monooxygenase/tryptophan 5-monooxyg...  \n",
       "1  tyrosine 3-monooxygenase/tryptophan 5-monooxyg...  \n",
       "2  tyrosine 3-monooxygenase/tryptophan 5-monooxyg...  \n",
       "3  tyrosine 3-monooxygenase/tryptophan 5-monooxyg...  \n",
       "4  tyrosine 3-monooxygenase/tryptophan 5-monooxyg...  "
      ]
     },
     "execution_count": 331,
     "metadata": {},
     "output_type": "execute_result"
    }
   ],
   "source": [
    "egpr_data.head(n=5)"
   ]
  },
  {
   "cell_type": "markdown",
   "metadata": {},
   "source": [
    "\n",
    "***\n",
    "\n",
    "### Uniprot Accession-Protein Ontology <a class=\"anchor\" id=\"uniprotaccession-proteinontology\"></a>\n",
    "\n",
    "**Purpose:** To map Uniprot accession identifiers to Protein Ontology identifiers when creating the following edges:  \n",
    "- protein-gobp  \n",
    "- protein-gomf  \n",
    "- protein-gocc  \n",
    "- protein-complex  \n",
    "- protein-cofactor  \n",
    "- protein-catalyst \n",
    "- protein-reaction  \n",
    "- protein-pathway\n",
    "\n",
    "**Output:** [`UNIPROT_ACCESSION_PRO_ONTOLOGY_MAP.txt`](https://www.dropbox.com/s/txp8tqdipzwus9p/UNIPROT_ACCESSION_PRO_ONTOLOGY_MAP.txt?dl=0)"
   ]
  },
  {
   "cell_type": "code",
   "execution_count": null,
   "metadata": {},
   "outputs": [],
   "source": [
    "# de-dup data\n",
    "df_ens = merged_data.drop_duplicates(subset=['Entry', 'pro_id'], keep='first', inplace=False) \n",
    "\n",
    "# reformat data and write it out\n",
    "with open(processed_data_location + 'UNIPROT_ACCESSION_PRO_ONTOLOGY_MAP.txt', 'w') as outfile:\n",
    "    for idx, row in tqdm(df_ens.iterrows(), total=df_ens.shape[0]):\n",
    "        if row['Entry'] != 'None' and row['pro_id'] != 'None': \n",
    "            outfile.write(row['Entry'] + '\\t' + row['pro_id'].replace(':', '_') +  '\\n')\n",
    "\n",
    "outfile.close()"
   ]
  },
  {
   "cell_type": "markdown",
   "metadata": {},
   "source": [
    "**Preview Processed Data**"
   ]
  },
  {
   "cell_type": "code",
   "execution_count": 319,
   "metadata": {},
   "outputs": [
    {
     "name": "stdout",
     "output_type": "stream",
     "text": [
      "There are 313776 uniprot accession-protein ontology edges\n"
     ]
    }
   ],
   "source": [
    "uapr_data = pandas.read_csv(processed_data_location + 'UNIPROT_ACCESSION_PRO_ONTOLOGY_MAP.txt',\n",
    "                            header = None,\n",
    "                            names=['Uniprot_Accession_IDs', 'Protein_Ontology_IDs'],\n",
    "                            delimiter = '\\t')\n",
    "\n",
    "print('There are {edge_count} uniprot accession-protein ontology edges'.format(edge_count=len(uapr_data)))"
   ]
  },
  {
   "cell_type": "code",
   "execution_count": 320,
   "metadata": {},
   "outputs": [
    {
     "data": {
      "text/html": [
       "<div>\n",
       "<style scoped>\n",
       "    .dataframe tbody tr th:only-of-type {\n",
       "        vertical-align: middle;\n",
       "    }\n",
       "\n",
       "    .dataframe tbody tr th {\n",
       "        vertical-align: top;\n",
       "    }\n",
       "\n",
       "    .dataframe thead th {\n",
       "        text-align: right;\n",
       "    }\n",
       "</style>\n",
       "<table border=\"1\" class=\"dataframe\">\n",
       "  <thead>\n",
       "    <tr style=\"text-align: right;\">\n",
       "      <th></th>\n",
       "      <th>Uniprot_Accession_IDs</th>\n",
       "      <th>Protein_Ontology_IDs</th>\n",
       "    </tr>\n",
       "  </thead>\n",
       "  <tbody>\n",
       "    <tr>\n",
       "      <th>0</th>\n",
       "      <td>P31946</td>\n",
       "      <td>PR_000002175</td>\n",
       "    </tr>\n",
       "    <tr>\n",
       "      <th>1</th>\n",
       "      <td>P31946</td>\n",
       "      <td>PR_P31946</td>\n",
       "    </tr>\n",
       "    <tr>\n",
       "      <th>2</th>\n",
       "      <td>P62258</td>\n",
       "      <td>PR_000003104</td>\n",
       "    </tr>\n",
       "    <tr>\n",
       "      <th>3</th>\n",
       "      <td>P62258</td>\n",
       "      <td>PR_P62258</td>\n",
       "    </tr>\n",
       "    <tr>\n",
       "      <th>4</th>\n",
       "      <td>Q04917</td>\n",
       "      <td>PR_000017551</td>\n",
       "    </tr>\n",
       "  </tbody>\n",
       "</table>\n",
       "</div>"
      ],
      "text/plain": [
       "  Uniprot_Accession_IDs Protein_Ontology_IDs\n",
       "0                P31946         PR_000002175\n",
       "1                P31946            PR_P31946\n",
       "2                P62258         PR_000003104\n",
       "3                P62258            PR_P62258\n",
       "4                Q04917         PR_000017551"
      ]
     },
     "execution_count": 320,
     "metadata": {},
     "output_type": "execute_result"
    }
   ],
   "source": [
    "uapr_data.head(n=5)"
   ]
  },
  {
   "cell_type": "markdown",
   "metadata": {},
   "source": [
    "\n",
    "***\n",
    "\n",
    "### STRING-Protein Ontology <a class=\"anchor\" id=\"string-proteinontology\"></a>\n",
    "\n",
    "**Purpose:** To map STRING identifiers to Protein Ontology identifiers when creating the following edges:   \n",
    "- protein-protein  \n",
    "\n",
    "**Output:** [`STRING_PRO_ONTOLOGY_MAP.txt`](https://www.dropbox.com/s/mekh5lr3bxp7gvu/STRING_PRO_ONTOLOGY_MAP.txt?dl=0)"
   ]
  },
  {
   "cell_type": "code",
   "execution_count": null,
   "metadata": {},
   "outputs": [],
   "source": [
    "# de-dup data\n",
    "df_ens = merged_data.drop_duplicates(subset=['Ensembl_PRO', 'pro_id'], keep='first', inplace=False) \n",
    "\n",
    "# reformat data and write it out\n",
    "with open(processed_data_location + 'STRING_PRO_ONTOLOGY_MAP.txt', 'w') as outfile:\n",
    "    for idx, row in tqdm(df_ens.iterrows(), total=df_ens.shape[0]):\n",
    "        if row['Ensembl_PRO'] != 'None' and row['pro_id'] != 'None': \n",
    "            outfile.write('9606.' + row['Ensembl_PRO'] + '\\t' + row['pro_id'].replace(':', '_') +  '\\n')\n",
    "\n",
    "outfile.close()"
   ]
  },
  {
   "cell_type": "markdown",
   "metadata": {},
   "source": [
    "**Preview Processed Data**"
   ]
  },
  {
   "cell_type": "code",
   "execution_count": 322,
   "metadata": {},
   "outputs": [
    {
     "name": "stdout",
     "output_type": "stream",
     "text": [
      "There are 92755 string-protein ontology edges\n"
     ]
    }
   ],
   "source": [
    "stpr_data = pandas.read_csv(processed_data_location + 'STRING_PRO_ONTOLOGY_MAP.txt',\n",
    "                            header = None,\n",
    "                            names=['STRING_IDs', 'Protein_Ontology_IDs'],\n",
    "                            delimiter = '\\t')\n",
    "\n",
    "print('There are {edge_count} string-protein ontology edges'.format(edge_count=len(stpr_data)))"
   ]
  },
  {
   "cell_type": "code",
   "execution_count": 323,
   "metadata": {},
   "outputs": [
    {
     "data": {
      "text/html": [
       "<div>\n",
       "<style scoped>\n",
       "    .dataframe tbody tr th:only-of-type {\n",
       "        vertical-align: middle;\n",
       "    }\n",
       "\n",
       "    .dataframe tbody tr th {\n",
       "        vertical-align: top;\n",
       "    }\n",
       "\n",
       "    .dataframe thead th {\n",
       "        text-align: right;\n",
       "    }\n",
       "</style>\n",
       "<table border=\"1\" class=\"dataframe\">\n",
       "  <thead>\n",
       "    <tr style=\"text-align: right;\">\n",
       "      <th></th>\n",
       "      <th>STRING_IDs</th>\n",
       "      <th>Protein_Ontology_IDs</th>\n",
       "    </tr>\n",
       "  </thead>\n",
       "  <tbody>\n",
       "    <tr>\n",
       "      <th>0</th>\n",
       "      <td>9606.ENSP00000300161</td>\n",
       "      <td>PR_000002175</td>\n",
       "    </tr>\n",
       "    <tr>\n",
       "      <th>1</th>\n",
       "      <td>9606.ENSP00000300161</td>\n",
       "      <td>PR_P31946</td>\n",
       "    </tr>\n",
       "    <tr>\n",
       "      <th>2</th>\n",
       "      <td>9606. ENSP00000361930</td>\n",
       "      <td>PR_000002175</td>\n",
       "    </tr>\n",
       "    <tr>\n",
       "      <th>3</th>\n",
       "      <td>9606. ENSP00000361930</td>\n",
       "      <td>PR_P31946</td>\n",
       "    </tr>\n",
       "    <tr>\n",
       "      <th>4</th>\n",
       "      <td>9606.ENSP00000264335</td>\n",
       "      <td>PR_000003104</td>\n",
       "    </tr>\n",
       "  </tbody>\n",
       "</table>\n",
       "</div>"
      ],
      "text/plain": [
       "              STRING_IDs Protein_Ontology_IDs\n",
       "0   9606.ENSP00000300161         PR_000002175\n",
       "1   9606.ENSP00000300161            PR_P31946\n",
       "2  9606. ENSP00000361930         PR_000002175\n",
       "3  9606. ENSP00000361930            PR_P31946\n",
       "4   9606.ENSP00000264335         PR_000003104"
      ]
     },
     "execution_count": 323,
     "metadata": {},
     "output_type": "execute_result"
    }
   ],
   "source": [
    "stpr_data.head(n=5)"
   ]
  },
  {
   "cell_type": "markdown",
   "metadata": {},
   "source": [
    "***\n",
    "### Other Identifier Mapping <a class=\"anchor\" id=\"other-identifier-mapping\"></a>\n",
    "* [ChEBI Identifiers](#mesh-chebi)  \n",
    "* [Human Protein Atlas Tissue and Cell Types](#hpa-uberon) \n",
    "* [Human Disease and Phenotype Identifiers](#disease-identifiers) \n",
    "\n",
    "***"
   ]
  },
  {
   "cell_type": "markdown",
   "metadata": {},
   "source": [
    "### MESH - ChEBI <a class=\"anchor\" id=\"mesh-chebi\"></a>\n",
    "\n",
    "**Data Source Wiki Page:** [mapping-mesh-to-chebi](https://github.com/callahantiff/PheKnowLator/wiki/v2-Data-Sources#mapping-mesh-identifiers-to-chebi-identifiers)  \n",
    "\n",
    "**Purpose:** Map MeSH identifiers to ChEBI identifiers when creating the following edges:  \n",
    "- Chemical-Gene  \n",
    "- Chemical-Disease\n",
    "\n",
    "**Dependencies:** This script assumes that the `NCBO_rest_api.py` script was run and the data generated from this file was written to `./resources/processed_data/temp`. \n",
    "\n",
    "**Output:** [`MESH_CHEBI_MAP.txt`](https://www.dropbox.com/s/5nr87v5h6x8oc1b/MESH_CHEBI_MAP.txt?dl=0)\n"
   ]
  },
  {
   "cell_type": "code",
   "execution_count": null,
   "metadata": {},
   "outputs": [],
   "source": [
    "with open(processed_data_location + 'MESH_CHEBI_MAP.txt', 'w') as out:\n",
    "    for filename in tqdm(glob.glob(processed_data_location + 'temp/*.txt')):\n",
    "        for row in list(filter(None, open(filename, 'r').read().split('\\n'))):\n",
    "            mesh = '_'.join(row.split('\\t')[0].split('/')[-2:])\n",
    "            chebi = row.split('\\t')[1].split('/')[-1]\n",
    "            out.write(mesh + '\\t' + chebi + '\\n')\n",
    "\n",
    "out.close()"
   ]
  },
  {
   "cell_type": "markdown",
   "metadata": {},
   "source": [
    "**Preview Processed Data**"
   ]
  },
  {
   "cell_type": "code",
   "execution_count": 147,
   "metadata": {},
   "outputs": [
    {
     "name": "stdout",
     "output_type": "stream",
     "text": [
      "There are 11434 MeSH-ChEBI edges\n"
     ]
    }
   ],
   "source": [
    "mc_data = pandas.read_csv(processed_data_location + 'MESH_CHEBI_MAP.txt',\n",
    "                          delimiter = '\\t',\n",
    "                          header=None,\n",
    "                          names=['MeSH_IDs', 'ChEBI_IDs'])\n",
    "\n",
    "print('There are {edge_count} MeSH-ChEBI edges'.format(edge_count=len(mc_data)))"
   ]
  },
  {
   "cell_type": "code",
   "execution_count": 148,
   "metadata": {},
   "outputs": [
    {
     "data": {
      "text/html": [
       "<div>\n",
       "<style scoped>\n",
       "    .dataframe tbody tr th:only-of-type {\n",
       "        vertical-align: middle;\n",
       "    }\n",
       "\n",
       "    .dataframe tbody tr th {\n",
       "        vertical-align: top;\n",
       "    }\n",
       "\n",
       "    .dataframe thead th {\n",
       "        text-align: right;\n",
       "    }\n",
       "</style>\n",
       "<table border=\"1\" class=\"dataframe\">\n",
       "  <thead>\n",
       "    <tr style=\"text-align: right;\">\n",
       "      <th></th>\n",
       "      <th>MeSH_IDs</th>\n",
       "      <th>ChEBI_IDs</th>\n",
       "    </tr>\n",
       "  </thead>\n",
       "  <tbody>\n",
       "    <tr>\n",
       "      <th>0</th>\n",
       "      <td>MESH_C535085</td>\n",
       "      <td>CHEBI_133814</td>\n",
       "    </tr>\n",
       "    <tr>\n",
       "      <th>1</th>\n",
       "      <td>MESH_C008574</td>\n",
       "      <td>CHEBI_17221</td>\n",
       "    </tr>\n",
       "    <tr>\n",
       "      <th>2</th>\n",
       "      <td>MESH_C492482</td>\n",
       "      <td>CHEBI_34581</td>\n",
       "    </tr>\n",
       "    <tr>\n",
       "      <th>3</th>\n",
       "      <td>MESH_C007556</td>\n",
       "      <td>CHEBI_135978</td>\n",
       "    </tr>\n",
       "    <tr>\n",
       "      <th>4</th>\n",
       "      <td>MESH_C500395</td>\n",
       "      <td>CHEBI_29138</td>\n",
       "    </tr>\n",
       "  </tbody>\n",
       "</table>\n",
       "</div>"
      ],
      "text/plain": [
       "       MeSH_IDs     ChEBI_IDs\n",
       "0  MESH_C535085  CHEBI_133814\n",
       "1  MESH_C008574   CHEBI_17221\n",
       "2  MESH_C492482   CHEBI_34581\n",
       "3  MESH_C007556  CHEBI_135978\n",
       "4  MESH_C500395   CHEBI_29138"
      ]
     },
     "execution_count": 148,
     "metadata": {},
     "output_type": "execute_result"
    }
   ],
   "source": [
    "mc_data.head(n=5)"
   ]
  },
  {
   "cell_type": "markdown",
   "metadata": {},
   "source": [
    "\n",
    "***\n",
    "\n",
    "### Human Protein Atlas Tissue/Cells - UBERON + Cell Ontology <a class=\"anchor\" id=\"hpa-uberon\"></a>\n",
    "\n",
    "**Data Source Wiki Page:** [human-protein-atlas](https://github.com/callahantiff/PheKnowLator/wiki/v2-Data-Sources/#human-protein-atlas)  \n",
    "\n",
    "**Purpose:** Downloads the [`normal_tissue.tsv.zip`](https://www.proteinatlas.org/download/normal_tissue.tsv.zip) and [`rna_tissue_consensus.tsv.zip`](https://www.proteinatlas.org/download/rna_tissue_consensus.tsv.zip) files in order to create mappings between HPA cell and tissue type strings to Uber-Anatomy and Cell Ontology concepts (see [human-protein-atlas](https://github.com/callahantiff/PheKnowLator/wiki/v2-Data-Sources#human-protein-atlas) for details on the mapping process). This mapping is then used to create the following edge types:  \n",
    "- RNA-cell type  \n",
    "- RNA-tissue type  \n",
    "- RNA-protein  \n",
    "\n",
    "**Output:**  \n",
    "- All HPA tissue and cell type strings ➞ [`HPA_tissues.txt`](https://www.dropbox.com/s/m0spn8h1l8kxb61/HPA_tissues.txt?dl=0)  \n",
    "- Mapping HPA strings to ontology concepts (documentation) ➞ [`zooma_tissue_cell_mapping_04DEC2019.xlsx`](https://www.dropbox.com/s/9xjhc7aygecmtnm/zooma_tissue_cell_mapping_04DEC2019.xlsx?dl=0)  \n",
    "- Final HPA-ontology mappings ➞ [`HPA_TISSUE_CELL_MAP.txt`](https://www.dropbox.com/s/dsh1x88u6251w76/HPA_TISSUE_CELL_MAP.txt?dl=0)"
   ]
  },
  {
   "cell_type": "code",
   "execution_count": 3,
   "metadata": {},
   "outputs": [
    {
     "name": "stdout",
     "output_type": "stream",
     "text": [
      "Downloading zipped data file\n",
      "Downloading zipped data file\n"
     ]
    }
   ],
   "source": [
    "url_normal = 'https://www.proteinatlas.org/download/normal_tissue.tsv.zip'\n",
    "data_downloader(url_normal, unprocessed_data_location)\n",
    "\n",
    "url_abnormal = 'https://www.proteinatlas.org/download/rna_tissue_consensus.tsv.zip'\n",
    "data_downloader(url_abnormal, unprocessed_data_location)"
   ]
  },
  {
   "cell_type": "markdown",
   "metadata": {},
   "source": [
    "_Read in Data Files_"
   ]
  },
  {
   "cell_type": "code",
   "execution_count": 4,
   "metadata": {},
   "outputs": [
    {
     "name": "stderr",
     "output_type": "stream",
     "text": [
      "100%|██████████| 1193056/1193056 [00:01<00:00, 915078.26it/s]\n"
     ]
    }
   ],
   "source": [
    "abnormal_tissue = []\n",
    "\n",
    "for line in tqdm(open(unprocessed_data_location + 'rna_tissue_consensus.tsv').readlines()):\n",
    "    abnormal_tissue.append(line.split('\\t')[2].strip())"
   ]
  },
  {
   "cell_type": "code",
   "execution_count": 5,
   "metadata": {},
   "outputs": [
    {
     "name": "stderr",
     "output_type": "stream",
     "text": [
      "100%|██████████| 1056062/1056062 [00:02<00:00, 517483.38it/s]\n"
     ]
    }
   ],
   "source": [
    "normal_tissue = []\n",
    "\n",
    "for line in tqdm(open(unprocessed_data_location + 'normal_tissue.tsv').readlines()):\n",
    "    normal_tissue.append(line.split('\\t')[2].strip() + ' - ' + line.split('\\t')[3].strip())"
   ]
  },
  {
   "cell_type": "code",
   "execution_count": 6,
   "metadata": {},
   "outputs": [
    {
     "name": "stderr",
     "output_type": "stream",
     "text": [
      "100%|██████████| 208/208 [00:00<00:00, 276605.97it/s]\n"
     ]
    }
   ],
   "source": [
    "# combine normal and abnormal tissue and cell types into single list\n",
    "combo = set(abnormal_tissue + normal_tissue)\n",
    "\n",
    "# write results\n",
    "with open(unprocessed_data_location + 'HPA_tissues.txt', 'w') as outfile:\n",
    "    for x in tqdm(combo):\n",
    "        outfile.write(x.strip() + '\\n')\n",
    "\n",
    "outfile.close()"
   ]
  },
  {
   "cell_type": "code",
   "execution_count": 132,
   "metadata": {},
   "outputs": [
    {
     "data": {
      "text/html": [
       "<div>\n",
       "<style scoped>\n",
       "    .dataframe tbody tr th:only-of-type {\n",
       "        vertical-align: middle;\n",
       "    }\n",
       "\n",
       "    .dataframe tbody tr th {\n",
       "        vertical-align: top;\n",
       "    }\n",
       "\n",
       "    .dataframe thead th {\n",
       "        text-align: right;\n",
       "    }\n",
       "</style>\n",
       "<table border=\"1\" class=\"dataframe\">\n",
       "  <thead>\n",
       "    <tr style=\"text-align: right;\">\n",
       "      <th></th>\n",
       "      <th>TISSUE</th>\n",
       "      <th>CELL TYPE</th>\n",
       "      <th>ONTOLOGY</th>\n",
       "      <th>ONTOLOGY ID</th>\n",
       "      <th>ONTOLOGY LABEL</th>\n",
       "      <th>MAPPING</th>\n",
       "    </tr>\n",
       "  </thead>\n",
       "  <tbody>\n",
       "    <tr>\n",
       "      <th>0</th>\n",
       "      <td>adipose tissue</td>\n",
       "      <td>None</td>\n",
       "      <td>UBERON</td>\n",
       "      <td>http://purl.obolibrary.org/obo/UBERON_0001013</td>\n",
       "      <td>adipose tissue</td>\n",
       "      <td>ZOOMA</td>\n",
       "    </tr>\n",
       "    <tr>\n",
       "      <th>1</th>\n",
       "      <td>adipose tissue</td>\n",
       "      <td>adipocytes</td>\n",
       "      <td>UBERON</td>\n",
       "      <td>http://purl.obolibrary.org/obo/UBERON_0001013</td>\n",
       "      <td>adipose tissue</td>\n",
       "      <td>ZOOMA</td>\n",
       "    </tr>\n",
       "    <tr>\n",
       "      <th>2</th>\n",
       "      <td>adipose tissue</td>\n",
       "      <td>adipocytes</td>\n",
       "      <td>CL</td>\n",
       "      <td>http://purl.obolibrary.org/obo/CL_0001070</td>\n",
       "      <td>fat cell</td>\n",
       "      <td>Manual</td>\n",
       "    </tr>\n",
       "  </tbody>\n",
       "</table>\n",
       "</div>"
      ],
      "text/plain": [
       "            TISSUE    CELL TYPE ONTOLOGY  \\\n",
       "0   adipose tissue         None   UBERON   \n",
       "1  adipose tissue    adipocytes   UBERON   \n",
       "2  adipose tissue    adipocytes       CL   \n",
       "\n",
       "                                     ONTOLOGY ID  ONTOLOGY LABEL MAPPING  \n",
       "0  http://purl.obolibrary.org/obo/UBERON_0001013  adipose tissue   ZOOMA  \n",
       "1  http://purl.obolibrary.org/obo/UBERON_0001013  adipose tissue   ZOOMA  \n",
       "2      http://purl.obolibrary.org/obo/CL_0001070        fat cell  Manual  "
      ]
     },
     "execution_count": 132,
     "metadata": {},
     "output_type": "execute_result"
    }
   ],
   "source": [
    "# read back in mapped tissue/cell data\n",
    "hpa_mapping_data = pandas.read_excel(open(unprocessed_data_location + 'zooma_tissue_cell_mapping_04DEC2019.xlsx', 'rb'),\n",
    "                                     sheet_name='zooma_tissue_cell_mapping_04DEC',\n",
    "                                     header=0)\n",
    "\n",
    "hpa_mapping_data.fillna('None', inplace=True)\n",
    "\n",
    "# preview data\n",
    "hpa_mapping_data.head(n=3)"
   ]
  },
  {
   "cell_type": "code",
   "execution_count": 10,
   "metadata": {},
   "outputs": [
    {
     "name": "stderr",
     "output_type": "stream",
     "text": [
      "100%|██████████| 340/340 [00:00<00:00, 4113.13it/s]\n"
     ]
    }
   ],
   "source": [
    "# reformat data and write it out\n",
    "with open(processed_data_location + 'HPA_TISSUE_CELL_MAP.txt', 'w') as outfile:\n",
    "    for idx, row in tqdm(data.iterrows(), total=data.shape[0]):\n",
    "        if row['TISSUE'] != 'None':\n",
    "            outfile.write(str(row['TISSUE']).strip() + '\\t' + str(row['ONTOLOGY ID']).strip() + '\\n')\n",
    "\n",
    "        if row['CELL TYPE'] != 'None':\n",
    "            outfile.write(str(row['CELL TYPE']).strip() + '\\t' + str(row['ONTOLOGY ID']).strip() + '\\n')\n",
    "\n",
    "outfile.close()"
   ]
  },
  {
   "cell_type": "markdown",
   "metadata": {},
   "source": [
    "**Preview Processed Data**"
   ]
  },
  {
   "cell_type": "code",
   "execution_count": 25,
   "metadata": {},
   "outputs": [
    {
     "name": "stdout",
     "output_type": "stream",
     "text": [
      "There are 622 edges\n"
     ]
    }
   ],
   "source": [
    "hpa_data = pandas.read_csv(processed_data_location + 'HPA_TISSUE_CELL_MAP.txt',\n",
    "                           header = None,\n",
    "                           names=['Tissue/Cell', 'UBERON_CL_IDs'],\n",
    "                           delimiter = '\\t')\n",
    "\n",
    "print('There are {edge_count} edges'.format(edge_count=len(hpa_data)))"
   ]
  },
  {
   "cell_type": "code",
   "execution_count": 13,
   "metadata": {},
   "outputs": [
    {
     "data": {
      "text/html": [
       "<div>\n",
       "<style scoped>\n",
       "    .dataframe tbody tr th:only-of-type {\n",
       "        vertical-align: middle;\n",
       "    }\n",
       "\n",
       "    .dataframe tbody tr th {\n",
       "        vertical-align: top;\n",
       "    }\n",
       "\n",
       "    .dataframe thead th {\n",
       "        text-align: right;\n",
       "    }\n",
       "</style>\n",
       "<table border=\"1\" class=\"dataframe\">\n",
       "  <thead>\n",
       "    <tr style=\"text-align: right;\">\n",
       "      <th></th>\n",
       "      <th>Tissue/Cell</th>\n",
       "      <th>UBERON_CL_IDs</th>\n",
       "    </tr>\n",
       "  </thead>\n",
       "  <tbody>\n",
       "    <tr>\n",
       "      <th>0</th>\n",
       "      <td>adipose tissue</td>\n",
       "      <td>http://purl.obolibrary.org/obo/UBERON_0001013</td>\n",
       "    </tr>\n",
       "    <tr>\n",
       "      <th>1</th>\n",
       "      <td>adipose tissue</td>\n",
       "      <td>http://purl.obolibrary.org/obo/UBERON_0001013</td>\n",
       "    </tr>\n",
       "    <tr>\n",
       "      <th>2</th>\n",
       "      <td>adipocytes</td>\n",
       "      <td>http://purl.obolibrary.org/obo/UBERON_0001013</td>\n",
       "    </tr>\n",
       "    <tr>\n",
       "      <th>3</th>\n",
       "      <td>adipose tissue</td>\n",
       "      <td>http://purl.obolibrary.org/obo/CL_0001070</td>\n",
       "    </tr>\n",
       "    <tr>\n",
       "      <th>4</th>\n",
       "      <td>adipocytes</td>\n",
       "      <td>http://purl.obolibrary.org/obo/CL_0001070</td>\n",
       "    </tr>\n",
       "  </tbody>\n",
       "</table>\n",
       "</div>"
      ],
      "text/plain": [
       "      Tissue/Cell                                  UBERON_CL_IDs\n",
       "0  adipose tissue  http://purl.obolibrary.org/obo/UBERON_0001013\n",
       "1  adipose tissue  http://purl.obolibrary.org/obo/UBERON_0001013\n",
       "2      adipocytes  http://purl.obolibrary.org/obo/UBERON_0001013\n",
       "3  adipose tissue      http://purl.obolibrary.org/obo/CL_0001070\n",
       "4      adipocytes      http://purl.obolibrary.org/obo/CL_0001070"
      ]
     },
     "execution_count": 13,
     "metadata": {},
     "output_type": "execute_result"
    }
   ],
   "source": [
    "hpa_data.head(n=5)"
   ]
  },
  {
   "cell_type": "markdown",
   "metadata": {},
   "source": [
    "\n",
    "***\n",
    "\n",
    "### Disease and Phenotype Identifiers <a class=\"anchor\" id=\"disease-identifiers\"></a>\n",
    "\n",
    "**Data Source Wiki Page:** [disgenet](https://github.com/callahantiff/PheKnowLator/wiki/v2-Data-Sources#disgenet)  \n",
    "\n",
    "**Purpose:** This script downloads the [disease_mappings.tsv](https://www.disgenet.org/static/disgenet_ap1/files/downloads/disease_mappings.tsv.gz) to map UMLS identifiers to Human Disease and Human Phenotype identifiers when creating the following edges:  \n",
    "- chemical-disease  \n",
    "- disease-phenotype\n",
    "\n",
    "**Output:**   \n",
    "- Human Disease Ontology Mappings ➞ [`DISEASE_DOID_MAP.txt`](https://www.dropbox.com/s/q30ferujl7k574j/DISEASE_DOID_MAP.txt?dl=0)  \n",
    "- Human Phenotype Ontology Mappings ➞ [`PHENOTYPE_HPO_MAP.txt`](https://www.dropbox.com/s/5ayl0c5qm7r4tdm/PHENOTYPE_HPO_MAP.txt?dl=0)\n"
   ]
  },
  {
   "cell_type": "code",
   "execution_count": 14,
   "metadata": {},
   "outputs": [
    {
     "name": "stdout",
     "output_type": "stream",
     "text": [
      "Downloading gzipped data file\n"
     ]
    }
   ],
   "source": [
    "url = 'https://www.disgenet.org/static/disgenet_ap1/files/downloads/disease_mappings.tsv.gz'\n",
    "data_downloader(url, unprocessed_data_location)"
   ]
  },
  {
   "cell_type": "code",
   "execution_count": 161,
   "metadata": {},
   "outputs": [],
   "source": [
    "data = pandas.read_csv(unprocessed_data_location + 'disease_mappings.tsv',\n",
    "                       header = 0,\n",
    "                       delimiter = '|')"
   ]
  },
  {
   "cell_type": "code",
   "execution_count": 225,
   "metadata": {},
   "outputs": [
    {
     "data": {
      "text/html": [
       "<div>\n",
       "<style scoped>\n",
       "    .dataframe tbody tr th:only-of-type {\n",
       "        vertical-align: middle;\n",
       "    }\n",
       "\n",
       "    .dataframe tbody tr th {\n",
       "        vertical-align: top;\n",
       "    }\n",
       "\n",
       "    .dataframe thead th {\n",
       "        text-align: right;\n",
       "    }\n",
       "</style>\n",
       "<table border=\"1\" class=\"dataframe\">\n",
       "  <thead>\n",
       "    <tr style=\"text-align: right;\">\n",
       "      <th></th>\n",
       "      <th>diseaseId</th>\n",
       "      <th>name</th>\n",
       "      <th>vocabulary</th>\n",
       "      <th>code</th>\n",
       "      <th>vocabularyName</th>\n",
       "    </tr>\n",
       "  </thead>\n",
       "  <tbody>\n",
       "    <tr>\n",
       "      <th>0</th>\n",
       "      <td>C0018923</td>\n",
       "      <td>Hemangiosarcoma</td>\n",
       "      <td>DO</td>\n",
       "      <td>0001816</td>\n",
       "      <td>angiosarcoma</td>\n",
       "    </tr>\n",
       "    <tr>\n",
       "      <th>1</th>\n",
       "      <td>C0854893</td>\n",
       "      <td>Angiosarcoma non-metastatic</td>\n",
       "      <td>DO</td>\n",
       "      <td>0001816</td>\n",
       "      <td>angiosarcoma</td>\n",
       "    </tr>\n",
       "    <tr>\n",
       "      <th>2</th>\n",
       "      <td>C0033999</td>\n",
       "      <td>Pterygium</td>\n",
       "      <td>DO</td>\n",
       "      <td>0002116</td>\n",
       "      <td>pterygium</td>\n",
       "    </tr>\n",
       "  </tbody>\n",
       "</table>\n",
       "</div>"
      ],
      "text/plain": [
       "  diseaseId                         name vocabulary     code vocabularyName\n",
       "0  C0018923              Hemangiosarcoma         DO  0001816   angiosarcoma\n",
       "1  C0854893  Angiosarcoma non-metastatic         DO  0001816   angiosarcoma\n",
       "2  C0033999                    Pterygium         DO  0002116      pterygium"
      ]
     },
     "execution_count": 225,
     "metadata": {},
     "output_type": "execute_result"
    }
   ],
   "source": [
    "data.head(n=3)"
   ]
  },
  {
   "cell_type": "code",
   "execution_count": null,
   "metadata": {},
   "outputs": [],
   "source": [
    "# convert to dictionary\n",
    "disease_dict = {}\n",
    "\n",
    "for idx, row in tqdm(data.iterrows(), total=data.shape[0]):\n",
    "    \n",
    "    if row['vocabulary'] == 'MSH':\n",
    "        mesh_finder(data, row['code'], 'MESH:', disease_dict)\n",
    "        \n",
    "    elif row['vocabulary'] == 'OMIM':\n",
    "        mesh_finder(data, row['code'], 'OMIM:', disease_dict)\n",
    "        \n",
    "    elif row['vocabulary'] == 'ORDO':\n",
    "        mesh_finder(data, row['code'], 'ORPHA:', disease_dict)\n",
    "    \n",
    "    elif row['diseaseId'] in disease_dict.keys():\n",
    "        if row['vocabulary'] == 'DO':\n",
    "            disease_dict[row['diseaseId']].append('DOID_' + row['code']) \n",
    "        \n",
    "        if row['vocabulary'] == 'HPO':\n",
    "            disease_dict[row['diseaseId']].append(row['code'].replace('HP:', 'HP_'))\n",
    "    \n",
    "    else:\n",
    "        if row['vocabulary'] == 'DO':\n",
    "            disease_dict[row['diseaseId']] = ['DOID_' + row['code']] \n",
    "        \n",
    "        if row['vocabulary'] == 'HPO':\n",
    "            disease_dict[row['diseaseId']] = [row['code'].replace('HP:', 'HP_')] \n",
    "    "
   ]
  },
  {
   "cell_type": "code",
   "execution_count": null,
   "metadata": {},
   "outputs": [],
   "source": [
    "# reformat data and write it out\n",
    "with open(processed_data_location + 'DISEASE_DOID_MAP.txt', 'w') as outfile1,open(processed_data_location + 'PHENOTYPE_HPO_MAP.txt', 'w') as outfile2:\n",
    "    for key, value in tqdm(disease_dict.items()):\n",
    "        for i in value:\n",
    "            # get diseases\n",
    "            if i.startswith('DOID_'): \n",
    "                outfile1.write(key + '\\t' + i + '\\n')\n",
    "\n",
    "            # get phenotypes\n",
    "            if i.startswith('HP_'): \n",
    "                outfile2.write(key + '\\t' + i + '\\n')\n",
    "\n",
    "outfile1.close()\n",
    "outfile2.close()"
   ]
  },
  {
   "cell_type": "markdown",
   "metadata": {},
   "source": [
    "**Preview Processed Data**"
   ]
  },
  {
   "cell_type": "markdown",
   "metadata": {},
   "source": [
    "_Preview Disease (DOID) Mappings_"
   ]
  },
  {
   "cell_type": "code",
   "execution_count": 262,
   "metadata": {},
   "outputs": [
    {
     "name": "stdout",
     "output_type": "stream",
     "text": [
      "There are 46720 disease-DOID edges\n"
     ]
    }
   ],
   "source": [
    "dis_data = pandas.read_csv(processed_data_location + 'DISEASE_DOID_MAP.txt',\n",
    "                           header = None,\n",
    "                           names=['Disease_IDs', 'DOID_IDs'],\n",
    "                           delimiter = '\\t')\n",
    "\n",
    "print('There are {} disease-DOID edges'.format(len(dis_data)))"
   ]
  },
  {
   "cell_type": "code",
   "execution_count": 263,
   "metadata": {},
   "outputs": [
    {
     "data": {
      "text/html": [
       "<div>\n",
       "<style scoped>\n",
       "    .dataframe tbody tr th:only-of-type {\n",
       "        vertical-align: middle;\n",
       "    }\n",
       "\n",
       "    .dataframe tbody tr th {\n",
       "        vertical-align: top;\n",
       "    }\n",
       "\n",
       "    .dataframe thead th {\n",
       "        text-align: right;\n",
       "    }\n",
       "</style>\n",
       "<table border=\"1\" class=\"dataframe\">\n",
       "  <thead>\n",
       "    <tr style=\"text-align: right;\">\n",
       "      <th></th>\n",
       "      <th>Disease_IDs</th>\n",
       "      <th>DOID_IDs</th>\n",
       "    </tr>\n",
       "  </thead>\n",
       "  <tbody>\n",
       "    <tr>\n",
       "      <th>0</th>\n",
       "      <td>C0018923</td>\n",
       "      <td>DOID_0001816</td>\n",
       "    </tr>\n",
       "    <tr>\n",
       "      <th>1</th>\n",
       "      <td>C0854893</td>\n",
       "      <td>DOID_0001816</td>\n",
       "    </tr>\n",
       "    <tr>\n",
       "      <th>2</th>\n",
       "      <td>C0033999</td>\n",
       "      <td>DOID_0002116</td>\n",
       "    </tr>\n",
       "    <tr>\n",
       "      <th>3</th>\n",
       "      <td>C4520843</td>\n",
       "      <td>DOID_0002116</td>\n",
       "    </tr>\n",
       "    <tr>\n",
       "      <th>4</th>\n",
       "      <td>C0024814</td>\n",
       "      <td>DOID_0014667</td>\n",
       "    </tr>\n",
       "  </tbody>\n",
       "</table>\n",
       "</div>"
      ],
      "text/plain": [
       "  Disease_IDs      DOID_IDs\n",
       "0    C0018923  DOID_0001816\n",
       "1    C0854893  DOID_0001816\n",
       "2    C0033999  DOID_0002116\n",
       "3    C4520843  DOID_0002116\n",
       "4    C0024814  DOID_0014667"
      ]
     },
     "execution_count": 263,
     "metadata": {},
     "output_type": "execute_result"
    }
   ],
   "source": [
    "dis_data.head(n=5)"
   ]
  },
  {
   "cell_type": "markdown",
   "metadata": {},
   "source": [
    "_Preview Phenotype (HP) Mappings_"
   ]
  },
  {
   "cell_type": "code",
   "execution_count": 264,
   "metadata": {},
   "outputs": [
    {
     "name": "stdout",
     "output_type": "stream",
     "text": [
      "There are 21676 phenotype-HPO edges\n"
     ]
    }
   ],
   "source": [
    "hp_data = pandas.read_csv(processed_data_location + 'PHENOTYPE_HPO_MAP.txt',\n",
    "                          header = None,\n",
    "                          names=['Disease_IDs', 'HP_IDs'],\n",
    "                          delimiter = '\\t')\n",
    "\n",
    "print('There are {} phenotype-HPO edges'.format(len(hp_data)))"
   ]
  },
  {
   "cell_type": "code",
   "execution_count": 265,
   "metadata": {},
   "outputs": [
    {
     "data": {
      "text/html": [
       "<div>\n",
       "<style scoped>\n",
       "    .dataframe tbody tr th:only-of-type {\n",
       "        vertical-align: middle;\n",
       "    }\n",
       "\n",
       "    .dataframe tbody tr th {\n",
       "        vertical-align: top;\n",
       "    }\n",
       "\n",
       "    .dataframe thead th {\n",
       "        text-align: right;\n",
       "    }\n",
       "</style>\n",
       "<table border=\"1\" class=\"dataframe\">\n",
       "  <thead>\n",
       "    <tr style=\"text-align: right;\">\n",
       "      <th></th>\n",
       "      <th>Disease_IDs</th>\n",
       "      <th>HP_IDs</th>\n",
       "    </tr>\n",
       "  </thead>\n",
       "  <tbody>\n",
       "    <tr>\n",
       "      <th>0</th>\n",
       "      <td>C0018923</td>\n",
       "      <td>HP_0200058</td>\n",
       "    </tr>\n",
       "    <tr>\n",
       "      <th>1</th>\n",
       "      <td>C0033999</td>\n",
       "      <td>HP_0001059</td>\n",
       "    </tr>\n",
       "    <tr>\n",
       "      <th>2</th>\n",
       "      <td>C4520843</td>\n",
       "      <td>HP_0001059</td>\n",
       "    </tr>\n",
       "    <tr>\n",
       "      <th>3</th>\n",
       "      <td>C0037199</td>\n",
       "      <td>HP_0000246</td>\n",
       "    </tr>\n",
       "    <tr>\n",
       "      <th>4</th>\n",
       "      <td>C0008780</td>\n",
       "      <td>HP_0012265</td>\n",
       "    </tr>\n",
       "  </tbody>\n",
       "</table>\n",
       "</div>"
      ],
      "text/plain": [
       "  Disease_IDs      HP_IDs\n",
       "0    C0018923  HP_0200058\n",
       "1    C0033999  HP_0001059\n",
       "2    C4520843  HP_0001059\n",
       "3    C0037199  HP_0000246\n",
       "4    C0008780  HP_0012265"
      ]
     },
     "execution_count": 265,
     "metadata": {},
     "output_type": "execute_result"
    }
   ],
   "source": [
    "hp_data.head(n=5)"
   ]
  },
  {
   "cell_type": "markdown",
   "metadata": {},
   "source": [
    "***\n",
    "***\n",
    "### CREATE EDGE DATASETS  <a class=\"anchor\" id=\"create-edge-datasets\"></a>\n",
    "***  \n",
    "***\n",
    "***"
   ]
  },
  {
   "cell_type": "markdown",
   "metadata": {},
   "source": [
    "### Ontologies  <a class=\"anchor\" id=\"ontologies\"></a>\n",
    "- [Protein Ontology](#protein-ontology)  \n",
    "- [Relation Ontology](#relation-ontology)  \n",
    "\n",
    "***"
   ]
  },
  {
   "cell_type": "markdown",
   "metadata": {},
   "source": [
    "### Protein Ontology <a class=\"anchor\" id=\"protein-ontology\"></a>\n",
    "\n",
    "**Data Source Wiki Page:** [protein-ontology](https://github.com/callahantiff/PheKnowLator/wiki/v2-Data-Sources#human-phenotype-ontology)  \n",
    "\n",
    "**Purpose:** This script downloads the [pr.owl](http://purl.obolibrary.org/obo/pr.owl) file from [ProConsortium.org](https://proconsortium.org/) in order to create a version of the ontology that contains only human proteins. This is achieved by performing forward and reverse breadth first search over all proteins which are `owl:subClassOf` [Homo sapiens protein](https://proconsortium.org/app/entry/PR%3A000029067/).\n",
    "\n",
    "<br>\n",
    "**Output:**  \n",
    "- Human Protein Ontology ➞ [`human_pro.owl`](https://www.dropbox.com/s/jw8jksgnqbcz9sm/human_pro.owl?dl=0)\n",
    "- Classified Human Protein Ontology (Hermit) ➞ [`human_pro_closed.owl`](https://www.dropbox.com/s/6ux85agl95ja3wx/human_pro_closed.owl?dl=0)\n"
   ]
  },
  {
   "cell_type": "code",
   "execution_count": 120,
   "metadata": {},
   "outputs": [
    {
     "name": "stdout",
     "output_type": "stream",
     "text": [
      "Downloading data file\n"
     ]
    }
   ],
   "source": [
    "url = 'http://purl.obolibrary.org/obo/pr.owl'\n",
    "data_downloader(url, unprocessed_data_location)"
   ]
  },
  {
   "cell_type": "code",
   "execution_count": 12,
   "metadata": {},
   "outputs": [
    {
     "name": "stdout",
     "output_type": "stream",
     "text": [
      "There are 11757623 edges in the ontology\n"
     ]
    }
   ],
   "source": [
    "# read in ontology as graph (the ontology is large so this takes ~60 minutes) - 11,757,623 edges on 12/18/2019\n",
    "graph = Graph()\n",
    "graph.parse(unprocessed_data_location + 'pr.owl')\n",
    "\n",
    "print('There are {} edges in the ontology'.format(len(graph)))"
   ]
  },
  {
   "cell_type": "markdown",
   "metadata": {},
   "source": [
    "**Convert Ontology to Directed MulitGraph:**  \n",
    "In order to create a verison of the ontology which includes all relevant human edges, we need to first convert the KG to a [directed multigraph](https://networkx.github.io/documentation/stable/reference/classes/multidigraph.html)."
   ]
  },
  {
   "cell_type": "code",
   "execution_count": 122,
   "metadata": {},
   "outputs": [],
   "source": [
    "# convert RDF graph to multidigraph (the ontology is large so this takes ~45 minutes)\n",
    "networkx_mdg = rdflib_to_networkx_multidigraph(graph)"
   ]
  },
  {
   "cell_type": "markdown",
   "metadata": {},
   "source": [
    "**Identify Human Proteins:**   \n",
    "A list of human proteins is obtained by querying the ontology to return all ontology classes `only_in_taxon some Homo sapiens`. To expedite the query time, the following SPARQL query is run from the [ProConsortium](https://proconsortium.org/pro_sparql.shtml) SPARQL endpoint: \n",
    "\n",
    "```SPARQL\n",
    "PREFIX obo: <http://purl.obolibrary.org/obo/>\n",
    "\n",
    "SELECT ?PRO_term\n",
    "FROM <http://purl.obolibrary.org/obo/pr>\n",
    "WHERE {\n",
    "       ?PRO_term rdf:type owl:Class .\n",
    "       ?PRO_term rdfs:subClassOf ?restriction .\n",
    "       ?restriction owl:onProperty obo:RO_0002160 .\n",
    "       ?restriction owl:someValuesFrom obo:NCBITaxon_9606 .\n",
    "\n",
    "       # use this to filter-out things like hgnc ids\n",
    "       FILTER (regex(?PRO_term,\"http://purl.obolibrary.org/obo/*\")) .\n",
    "}\n",
    "\n",
    "```\n"
   ]
  },
  {
   "cell_type": "code",
   "execution_count": 123,
   "metadata": {},
   "outputs": [
    {
     "name": "stdout",
     "output_type": "stream",
     "text": [
      "There are 61064 human classes in the PRO ontology\n"
     ]
    }
   ],
   "source": [
    "# download data - pro classes only_in_taxon some Homo sapiens (61,064 classes on 12/18/2019)\n",
    "url = 'http://sparql.proconsortium.org/virtuoso/sparql?query=PREFIX+obo%3A+%3Chttp%3A%2F%2Fpurl.obolibrary.org%2Fobo%2F%3E%0D%0ASELECT+%3FPRO_term%0D%0AFROM+%3Chttp%3A%2F%2Fpurl.obolibrary.org%2Fobo%2Fpr%3E%0D%0AWHERE%0D%0A%7B%0D%0A+++%3FPRO_term+rdf%3Atype+owl%3AClass+.%0D%0A+++%3FPRO_term+rdfs%3AsubClassOf+%3Frestriction+.%0D%0A+++%3Frestriction+owl%3AonProperty+obo%3ARO_0002160+.%0D%0A+++%3Frestriction+owl%3AsomeValuesFrom+obo%3ANCBITaxon_9606+.%0D%0A%0D%0A+++FILTER+%28regex%28%3FPRO_term%2C%22http%3A%2F%2Fpurl.obolibrary.org%2Fobo%2F*%22%29%29+.%0D%0A%0D%0A%7D%0D%0A&format=text%2Fhtml&debug='\n",
    "html = requests.get(url, allow_redirects=True).content\n",
    "\n",
    "# extract data from html table\n",
    "df_list = pandas.read_html(html)\n",
    "human_pro_classes = list(df_list[-1]['PRO_term'])\n",
    "\n",
    "print('There are {protein_count} human classes in the PRO ontology'.format(protein_count=len(human_pro_classes)))"
   ]
  },
  {
   "cell_type": "markdown",
   "metadata": {},
   "source": [
    "**Construct Human PRO:**   \n",
    "Now that we have all of the paths from the original graph that are relevant to humans, we can construct a human-only version of the PRotein ontology."
   ]
  },
  {
   "cell_type": "code",
   "execution_count": 124,
   "metadata": {},
   "outputs": [
    {
     "name": "stderr",
     "output_type": "stream",
     "text": [
      "100%|██████████| 61064/61064 [36:49<00:00, 27.63it/s]    \n"
     ]
    }
   ],
   "source": [
    "# create a new graph using bfs paths\n",
    "human_pro_graph = Graph()\n",
    "human_networkx_mdg = networkx.MultiDiGraph()\n",
    "\n",
    "for node in tqdm(human_pro_classes):\n",
    "    forward = list(networkx.edge_bfs(networkx_mdg, URIRef(node), orientation='original'))\n",
    "    reverse = list(networkx.edge_bfs(networkx_mdg, URIRef(node), orientation='reverse'))\n",
    "    \n",
    "    # add edges from forward and reverse bfs paths\n",
    "    for path in forward + reverse:\n",
    "        human_pro_graph.add((path[0], path[2], path[1]))\n",
    "        human_networkx_mdg.add_edge(path[0], path[1], path[2])"
   ]
  },
  {
   "cell_type": "code",
   "execution_count": 125,
   "metadata": {},
   "outputs": [
    {
     "data": {
      "text/plain": [
       "1"
      ]
     },
     "execution_count": 125,
     "metadata": {},
     "output_type": "execute_result"
    }
   ],
   "source": [
    "# verify that the constructed ontology only has 1 component\n",
    "networkx.number_connected_components(human_networkx_mdg.to_undirected())"
   ]
  },
  {
   "cell_type": "code",
   "execution_count": 25,
   "metadata": {},
   "outputs": [],
   "source": [
    "# save filtered ontology\n",
    "human_pro_graph.serialize(destination=unprocessed_data_location + 'human_pro.owl', format='xml')"
   ]
  },
  {
   "cell_type": "markdown",
   "metadata": {},
   "source": [
    "**Classify Ontology:**  \n",
    "To ensure that we have correclty built the new ontology, we run the hermit reasoner over it to ensure that there are no incomplete triples or inconsistent classes. In order to do this, we will call the reasoner using [OWLTools](https://github.com/owlcollab/owltools), which this script assumes has already been downloaded to the `../resources/lib` directory. The following arguments are then called to run the reasoner (from the command line):  \n",
    "\n",
    "```bash\n",
    "./resources/lib/owltools ./resources/unprocessed_data/human_pro_filtered.owl --reasoner hermit --run-reasoner --assert-implied -o ./resources/processed_data/human_pro_closed.owl\n",
    "```\n",
    "\n",
    "_**Note.** This step takes around 30-45 minutes to run. When run from the command line the reasoner determined that the ontology was consistent and 174 new axioms were inferrred (12/18/2019)._"
   ]
  },
  {
   "cell_type": "code",
   "execution_count": null,
   "metadata": {},
   "outputs": [],
   "source": [
    "# run reasoner -- RUN FROM COMMAND LINE NOT HERE\n",
    "# subprocess.run(['../../resources/lib/owltools',\n",
    "#                 '../../resources/unprocessed_data/human_pro_filtered.owl',\n",
    "#                 '--reasoner hermit',\n",
    "#                 '--run-reasoner',\n",
    "#                 '--assert-implied',\n",
    "#                 '--list-unsatisfiable',\n",
    "#                 '-o ./resources/processed_data/human_pro_closed.owl'])"
   ]
  },
  {
   "cell_type": "markdown",
   "metadata": {},
   "source": [
    "**Examine Cleaned Human PRO:**  \n",
    "Once we have cleaned the ontology we can get counts of components, nodes, edges, and then write the cleaned graph to the `../../resources/processed_data` repository."
   ]
  },
  {
   "cell_type": "code",
   "execution_count": null,
   "metadata": {},
   "outputs": [],
   "source": [
    "# get count of connected components\n",
    "pro_human_graph = Graph()\n",
    "pro_human_graph.parse(processed_data_location + 'human_pro_closed.owl')\n",
    "\n",
    "# get node and edge count\n",
    "edge_count = len(human_pro_graph)\n",
    "node_count = len(set([str(node) for edge in list(human_pro_graph) for node in edge[0::2]]))\n",
    "\n",
    "print('\\n The classified, filtered Human version of PRO contains {node} nodes and {edge} edges\\n'.format(node=node_count, edge=edge_count))"
   ]
  },
  {
   "cell_type": "markdown",
   "metadata": {},
   "source": [
    "\n",
    "***\n",
    "\n",
    "### Relation Ontology <a class=\"anchor\" id=\"relation-ontology\"></a>\n",
    "\n",
    "**Data Source Wiki Page:** [RO](https://github.com/callahantiff/PheKnowLator/wiki/v2-Data-Sources#relation-ontology)  \n",
    "\n",
    "**Purpose:** This script downloads the [ro.owl](http://purl.obolibrary.org/obo/ro.owl) file from [obofoundry.org](http://www.obofoundry.org/) in order to obtain all `ObjectProperties` and their inverse relations.  \n",
    "\n",
    "**Output:** [`RO_INVERSE_RELATIONS.txt`](https://www.dropbox.com/s/osqk3c5cazncmni/RO_INVERSE_RELATIONS.txt?dl=0)"
   ]
  },
  {
   "cell_type": "code",
   "execution_count": 129,
   "metadata": {},
   "outputs": [
    {
     "name": "stdout",
     "output_type": "stream",
     "text": [
      "Downloading data file\n"
     ]
    }
   ],
   "source": [
    "url = 'http://purl.obolibrary.org/obo/ro.owl'\n",
    "data_downloader(url)"
   ]
  },
  {
   "cell_type": "code",
   "execution_count": 130,
   "metadata": {},
   "outputs": [
    {
     "name": "stdout",
     "output_type": "stream",
     "text": [
      "There are 5669 edges in the ontology\n"
     ]
    }
   ],
   "source": [
    "ro_graph = Graph()\n",
    "ro_graph.parse(unprocessed_data_location + 'ro.owl')\n",
    "\n",
    "print('There are {} edges in the ontology'.format(len(ro_graph))) #5,669 edges on 12/15/2019"
   ]
  },
  {
   "cell_type": "markdown",
   "metadata": {},
   "source": [
    "**Identify Relations and Inverse Relations:**  \n",
    "Identify all relations and their inverse relations using the `owl:inverseOf` property. To make it easier to look up the inverse relations, each pair is listed twice, for example:  \n",
    "- [location of](http://www.ontobee.org/ontology/RO?iri=http://purl.obolibrary.org/obo/RO_0001015) `owl:inverseOf` [located in](http://www.ontobee.org/ontology/RO?iri=http://purl.obolibrary.org/obo/RO_0001025)  \n",
    "- [located in](http://www.ontobee.org/ontology/RO?iri=http://purl.obolibrary.org/obo/RO_0001025) `owl:inverseOf` [location of](http://www.ontobee.org/ontology/RO?iri=http://purl.obolibrary.org/obo/RO_0001015)"
   ]
  },
  {
   "cell_type": "code",
   "execution_count": 131,
   "metadata": {},
   "outputs": [],
   "source": [
    "with open(processed_data_location + 'RO_INVERSE_RELATIONS.txt', 'w') as outfile:\n",
    "\n",
    "    # find inverse relations\n",
    "    for s, p, o in tqdm(ro_graph):\n",
    "        if 'owl#inverseOf' in str(p):\n",
    "            if 'RO' in str(s) and 'RO' in str(o):\n",
    "                outfile.write(str(s) + '\\t' + str(p) + '\\t' + str(o) + '\\n')\n",
    "                outfile.write(str(o) + '\\t' + str(p) + '\\t' + str(s) + '\\n')\n",
    "\n",
    "outfile.close()"
   ]
  },
  {
   "cell_type": "markdown",
   "metadata": {},
   "source": [
    "**Preview Processed Data**"
   ]
  },
  {
   "cell_type": "code",
   "execution_count": 33,
   "metadata": {},
   "outputs": [
    {
     "name": "stdout",
     "output_type": "stream",
     "text": [
      "There are 172 RO Relations and Inverse Relations\n"
     ]
    }
   ],
   "source": [
    "ro_data = pandas.read_csv(processed_data_location + 'RO_INVERSE_RELATIONS.txt',\n",
    "                          header = None,\n",
    "                          names=['RO_Edge', 'RO_ObjectProperty', 'RO_Inverse_Edge'],\n",
    "                          delimiter = '\\t')\n",
    "\n",
    "print('There are {edge_count} RO Relations and Inverse Relations'.format(edge_count=len(ro_data)))"
   ]
  },
  {
   "cell_type": "code",
   "execution_count": 34,
   "metadata": {},
   "outputs": [
    {
     "data": {
      "text/html": [
       "<div>\n",
       "<style scoped>\n",
       "    .dataframe tbody tr th:only-of-type {\n",
       "        vertical-align: middle;\n",
       "    }\n",
       "\n",
       "    .dataframe tbody tr th {\n",
       "        vertical-align: top;\n",
       "    }\n",
       "\n",
       "    .dataframe thead th {\n",
       "        text-align: right;\n",
       "    }\n",
       "</style>\n",
       "<table border=\"1\" class=\"dataframe\">\n",
       "  <thead>\n",
       "    <tr style=\"text-align: right;\">\n",
       "      <th></th>\n",
       "      <th>RO_Edge</th>\n",
       "      <th>RO_ObjectProperty</th>\n",
       "      <th>RO_Inverse_Edge</th>\n",
       "    </tr>\n",
       "  </thead>\n",
       "  <tbody>\n",
       "    <tr>\n",
       "      <th>0</th>\n",
       "      <td>http://purl.obolibrary.org/obo/RO_0003000</td>\n",
       "      <td>http://www.w3.org/2002/07/owl#inverseOf</td>\n",
       "      <td>http://purl.obolibrary.org/obo/RO_0003001</td>\n",
       "    </tr>\n",
       "    <tr>\n",
       "      <th>1</th>\n",
       "      <td>http://purl.obolibrary.org/obo/RO_0003001</td>\n",
       "      <td>http://www.w3.org/2002/07/owl#inverseOf</td>\n",
       "      <td>http://purl.obolibrary.org/obo/RO_0003000</td>\n",
       "    </tr>\n",
       "    <tr>\n",
       "      <th>2</th>\n",
       "      <td>http://purl.obolibrary.org/obo/RO_0002233</td>\n",
       "      <td>http://www.w3.org/2002/07/owl#inverseOf</td>\n",
       "      <td>http://purl.obolibrary.org/obo/RO_0002352</td>\n",
       "    </tr>\n",
       "    <tr>\n",
       "      <th>3</th>\n",
       "      <td>http://purl.obolibrary.org/obo/RO_0002352</td>\n",
       "      <td>http://www.w3.org/2002/07/owl#inverseOf</td>\n",
       "      <td>http://purl.obolibrary.org/obo/RO_0002233</td>\n",
       "    </tr>\n",
       "    <tr>\n",
       "      <th>4</th>\n",
       "      <td>http://purl.obolibrary.org/obo/RO_0002234</td>\n",
       "      <td>http://www.w3.org/2002/07/owl#inverseOf</td>\n",
       "      <td>http://purl.obolibrary.org/obo/RO_0002353</td>\n",
       "    </tr>\n",
       "  </tbody>\n",
       "</table>\n",
       "</div>"
      ],
      "text/plain": [
       "                                     RO_Edge  \\\n",
       "0  http://purl.obolibrary.org/obo/RO_0003000   \n",
       "1  http://purl.obolibrary.org/obo/RO_0003001   \n",
       "2  http://purl.obolibrary.org/obo/RO_0002233   \n",
       "3  http://purl.obolibrary.org/obo/RO_0002352   \n",
       "4  http://purl.obolibrary.org/obo/RO_0002234   \n",
       "\n",
       "                         RO_ObjectProperty  \\\n",
       "0  http://www.w3.org/2002/07/owl#inverseOf   \n",
       "1  http://www.w3.org/2002/07/owl#inverseOf   \n",
       "2  http://www.w3.org/2002/07/owl#inverseOf   \n",
       "3  http://www.w3.org/2002/07/owl#inverseOf   \n",
       "4  http://www.w3.org/2002/07/owl#inverseOf   \n",
       "\n",
       "                             RO_Inverse_Edge  \n",
       "0  http://purl.obolibrary.org/obo/RO_0003001  \n",
       "1  http://purl.obolibrary.org/obo/RO_0003000  \n",
       "2  http://purl.obolibrary.org/obo/RO_0002352  \n",
       "3  http://purl.obolibrary.org/obo/RO_0002233  \n",
       "4  http://purl.obolibrary.org/obo/RO_0002353  "
      ]
     },
     "execution_count": 34,
     "metadata": {},
     "output_type": "execute_result"
    }
   ],
   "source": [
    "ro_data.head(n=5)"
   ]
  },
  {
   "cell_type": "markdown",
   "metadata": {},
   "source": [
    "***\n",
    "### Linked Data <a class=\"anchor\" id=\"linked-data\"></a>\n",
    "* [Reactome Protein-Complex Data](#reactome-protein-complex)  \n",
    "* [Reactome Complex-Complex Data](#reactome-complex-complex)  \n",
    "* [Reactome Chemical-Complex Data](#reactome-chemical-complex)  \n",
    "* [Uniprot Protein-Cofactor and Protein-Catalyst](#uniprot-protein-cofactorcatalyst)  \n",
    "* [NCBI Gene Protein-Coding Genes and Proteins](#ncbi-protein-coding-genes)    \n",
    "\n",
    "\n",
    "***"
   ]
  },
  {
   "cell_type": "markdown",
   "metadata": {},
   "source": [
    "### Reactome Protein-Complex Data <a class=\"anchor\" id=\"reactome-protein-complex\"></a>\n",
    "\n",
    "**Data Source Wiki Page:** [Reactome](https://github.com/callahantiff/PheKnowLator/wiki/v2-Data-Sources/#reactome-pathway-database)  \n",
    "\n",
    "**Purpose:** This script downloads the [ComplexParticipantsPubMedIdentifiers_human.txt](https://reactome.org/download/current/ComplexParticipantsPubMedIdentifiers_human.txt) file from [Reactome](https://reactome.org) in order to create the following edges:  \n",
    "- protein-complex\n",
    "\n",
    "**Output:** [`REACTOME_PROTEIN_COMPLEX.txt`](https://www.dropbox.com/s/7meu0cdz1mrnsz7/REACTOME_PROTEIN_COMPLEX.txt?dl=0)\n"
   ]
  },
  {
   "cell_type": "code",
   "execution_count": 35,
   "metadata": {},
   "outputs": [
    {
     "name": "stdout",
     "output_type": "stream",
     "text": [
      "Downloading data file\n"
     ]
    }
   ],
   "source": [
    "url = 'https://reactome.org/download/current/ComplexParticipantsPubMedIdentifiers_human.txt'\n",
    "data_downloader(url, unprocessed_data_location)"
   ]
  },
  {
   "cell_type": "code",
   "execution_count": null,
   "metadata": {},
   "outputs": [],
   "source": [
    "# process data\n",
    "data = open(unprocessed_data_location + 'ComplexParticipantsPubMedIdentifiers_human.txt').readlines()\n",
    "\n",
    "# reformat data and write it out\n",
    "with open(processed_data_location + 'REACTOME_PROTEIN_COMPLEX.txt', 'w') as outfile:\n",
    "    for line in tqdm(data):\n",
    "        row = line.split('\\t')\n",
    "        \n",
    "        # find all proteins in a complex\n",
    "        for x in row[2].split('|'):\n",
    "            if x.startswith('uniprot:'):            \n",
    "                outfile.write(x.split(':')[-1].strip() + '\\t' + row[0].strip() + '\\t' + row[1].strip() + '\\n')\n",
    "\n",
    "outfile.close()"
   ]
  },
  {
   "cell_type": "markdown",
   "metadata": {},
   "source": [
    "**Preview Processed Data**"
   ]
  },
  {
   "cell_type": "code",
   "execution_count": 142,
   "metadata": {},
   "outputs": [
    {
     "name": "stdout",
     "output_type": "stream",
     "text": [
      "There are 91985 protein-complex edges\n"
     ]
    }
   ],
   "source": [
    "pc_data = pandas.read_csv(processed_data_location + 'REACTOME_PROTEIN_COMPLEX.txt',\n",
    "                       header = None,\n",
    "                       names=['Uniprot_Protein', 'Reactome_Complex', 'Reactome_Label'],\n",
    "                       delimiter = '\\t')\n",
    "\n",
    "print('There are {edge_count} protein-complex edges'.format(edge_count=len(pc_data)))"
   ]
  },
  {
   "cell_type": "code",
   "execution_count": 143,
   "metadata": {},
   "outputs": [
    {
     "data": {
      "text/html": [
       "<div>\n",
       "<style scoped>\n",
       "    .dataframe tbody tr th:only-of-type {\n",
       "        vertical-align: middle;\n",
       "    }\n",
       "\n",
       "    .dataframe tbody tr th {\n",
       "        vertical-align: top;\n",
       "    }\n",
       "\n",
       "    .dataframe thead th {\n",
       "        text-align: right;\n",
       "    }\n",
       "</style>\n",
       "<table border=\"1\" class=\"dataframe\">\n",
       "  <thead>\n",
       "    <tr style=\"text-align: right;\">\n",
       "      <th></th>\n",
       "      <th>Uniprot_Protein</th>\n",
       "      <th>Reactome_Complex</th>\n",
       "      <th>Reactome_Label</th>\n",
       "    </tr>\n",
       "  </thead>\n",
       "  <tbody>\n",
       "    <tr>\n",
       "      <th>0</th>\n",
       "      <td>P08603</td>\n",
       "      <td>R-HSA-1006173</td>\n",
       "      <td>CFH:Host cell surface [plasma membrane]</td>\n",
       "    </tr>\n",
       "    <tr>\n",
       "      <th>1</th>\n",
       "      <td>Q16621</td>\n",
       "      <td>R-HSA-1008206</td>\n",
       "      <td>NF-E2:Promoter region of beta-globin [nucleopl...</td>\n",
       "    </tr>\n",
       "    <tr>\n",
       "      <th>2</th>\n",
       "      <td>Q9ULX9</td>\n",
       "      <td>R-HSA-1008206</td>\n",
       "      <td>NF-E2:Promoter region of beta-globin [nucleopl...</td>\n",
       "    </tr>\n",
       "    <tr>\n",
       "      <th>3</th>\n",
       "      <td>O15525</td>\n",
       "      <td>R-HSA-1008206</td>\n",
       "      <td>NF-E2:Promoter region of beta-globin [nucleopl...</td>\n",
       "    </tr>\n",
       "    <tr>\n",
       "      <th>4</th>\n",
       "      <td>O60675</td>\n",
       "      <td>R-HSA-1008206</td>\n",
       "      <td>NF-E2:Promoter region of beta-globin [nucleopl...</td>\n",
       "    </tr>\n",
       "  </tbody>\n",
       "</table>\n",
       "</div>"
      ],
      "text/plain": [
       "  Uniprot_Protein Reactome_Complex  \\\n",
       "0          P08603    R-HSA-1006173   \n",
       "1          Q16621    R-HSA-1008206   \n",
       "2          Q9ULX9    R-HSA-1008206   \n",
       "3          O15525    R-HSA-1008206   \n",
       "4          O60675    R-HSA-1008206   \n",
       "\n",
       "                                      Reactome_Label  \n",
       "0            CFH:Host cell surface [plasma membrane]  \n",
       "1  NF-E2:Promoter region of beta-globin [nucleopl...  \n",
       "2  NF-E2:Promoter region of beta-globin [nucleopl...  \n",
       "3  NF-E2:Promoter region of beta-globin [nucleopl...  \n",
       "4  NF-E2:Promoter region of beta-globin [nucleopl...  "
      ]
     },
     "execution_count": 143,
     "metadata": {},
     "output_type": "execute_result"
    }
   ],
   "source": [
    "pc_data.head(n=5)"
   ]
  },
  {
   "cell_type": "markdown",
   "metadata": {},
   "source": [
    "\n",
    "***\n",
    "\n",
    "### Reactome Complex-Complex Data <a class=\"anchor\" id=\"reactome-complex-complex\"></a>\n",
    "\n",
    "**Data Source Wiki Page:** [Reactome](https://github.com/callahantiff/PheKnowLator/wiki/v2-Data-Sources/#reactome-pathway-database)  \n",
    "\n",
    "**Purpose:** This script downloads the [ComplexParticipantsPubMedIdentifiers_human.txt](https://reactome.org/download/current/ComplexParticipantsPubMedIdentifiers_human.txt) file from [Reactome](https://reactome.orgt) in order to create the following edges:  \n",
    "- complex-complex  \n",
    "\n",
    "**Output:** [`REACTOME_COMPLEX_COMPLEX.txt`](https://www.dropbox.com/s/sojaq8u3hwfw4jz/REACTOME_COMPLEX_COMPLEX.txt?dl=0)\n"
   ]
  },
  {
   "cell_type": "code",
   "execution_count": 333,
   "metadata": {},
   "outputs": [],
   "source": [
    "# create label dictionary\n",
    "labels = pandas.read_csv(unprocessed_data_location + 'ComplexParticipantsPubMedIdentifiers_human.txt',\n",
    "                         header = 0,\n",
    "                         delimiter = '\\t')\n",
    "\n",
    "# convert to dictionary\n",
    "label_dict = {row[0]:row[1] for idx, row in labels.iterrows()}"
   ]
  },
  {
   "cell_type": "code",
   "execution_count": null,
   "metadata": {},
   "outputs": [],
   "source": [
    "# process data\n",
    "data = open(unprocessed_data_location + 'ComplexParticipantsPubMedIdentifiers_human.txt').readlines()\n",
    "\n",
    "# reformat data and write it out\n",
    "with open(processed_data_location + 'REACTOME_COMPLEX_COMPLEX.txt', 'w') as outfile:\n",
    "    for line in tqdm(data[1:]):\n",
    "        row = line.split('\\t')\n",
    "        \n",
    "        # find all complexes\n",
    "        for x in row[3].split('|'):\n",
    "            if x.startswith('R-HSA-') and x.strip() in label_dict.keys():            \n",
    "                outfile.write(row[0].strip() + '\\t' + x.strip() + '\\t' + row[1].strip() + '\\t' + label_dict[x.strip()] + '\\n')\n",
    "\n",
    "outfile.close()"
   ]
  },
  {
   "cell_type": "markdown",
   "metadata": {},
   "source": [
    "**Preview Processed Data**"
   ]
  },
  {
   "cell_type": "code",
   "execution_count": 335,
   "metadata": {},
   "outputs": [
    {
     "name": "stdout",
     "output_type": "stream",
     "text": [
      "There are 13722 complex-complex edges\n"
     ]
    }
   ],
   "source": [
    "cc_data = pandas.read_csv(processed_data_location + 'REACTOME_COMPLEX_COMPLEX.txt',\n",
    "                          header = None,\n",
    "                          names=['Reactome_Complex_u', 'Reactome_Complex_v', 'Reactome Label_u', 'Reactome Label_v'],\n",
    "                          delimiter = '\\t')\n",
    "\n",
    "print('There are {edge_count} complex-complex edges'.format(edge_count=len(cc_data)))"
   ]
  },
  {
   "cell_type": "code",
   "execution_count": 336,
   "metadata": {},
   "outputs": [
    {
     "data": {
      "text/html": [
       "<div>\n",
       "<style scoped>\n",
       "    .dataframe tbody tr th:only-of-type {\n",
       "        vertical-align: middle;\n",
       "    }\n",
       "\n",
       "    .dataframe tbody tr th {\n",
       "        vertical-align: top;\n",
       "    }\n",
       "\n",
       "    .dataframe thead th {\n",
       "        text-align: right;\n",
       "    }\n",
       "</style>\n",
       "<table border=\"1\" class=\"dataframe\">\n",
       "  <thead>\n",
       "    <tr style=\"text-align: right;\">\n",
       "      <th></th>\n",
       "      <th>Reactome_Complex_u</th>\n",
       "      <th>Reactome_Complex_v</th>\n",
       "      <th>Reactome Label_u</th>\n",
       "      <th>Reactome Label_v</th>\n",
       "    </tr>\n",
       "  </thead>\n",
       "  <tbody>\n",
       "    <tr>\n",
       "      <th>0</th>\n",
       "      <td>R-HSA-1008206</td>\n",
       "      <td>R-HSA-1008229</td>\n",
       "      <td>NF-E2:Promoter region of beta-globin [nucleopl...</td>\n",
       "      <td>NF-E2 [nucleoplasm]</td>\n",
       "    </tr>\n",
       "    <tr>\n",
       "      <th>1</th>\n",
       "      <td>R-HSA-1013011</td>\n",
       "      <td>R-HSA-1013017</td>\n",
       "      <td>GABA B receptor G-protein beta-gamma and Kir3 ...</td>\n",
       "      <td>GABA B receptor G-protein beta-gamma complex [...</td>\n",
       "    </tr>\n",
       "    <tr>\n",
       "      <th>2</th>\n",
       "      <td>R-HSA-1013011</td>\n",
       "      <td>R-HSA-1013019</td>\n",
       "      <td>GABA B receptor G-protein beta-gamma and Kir3 ...</td>\n",
       "      <td>G-protein beta-gamma subunits [plasma membrane]</td>\n",
       "    </tr>\n",
       "    <tr>\n",
       "      <th>3</th>\n",
       "      <td>R-HSA-1013011</td>\n",
       "      <td>R-HSA-420698</td>\n",
       "      <td>GABA B receptor G-protein beta-gamma and Kir3 ...</td>\n",
       "      <td>GABAB receptor:GABA [plasma membrane]</td>\n",
       "    </tr>\n",
       "    <tr>\n",
       "      <th>4</th>\n",
       "      <td>R-HSA-1013011</td>\n",
       "      <td>R-HSA-420748</td>\n",
       "      <td>GABA B receptor G-protein beta-gamma and Kir3 ...</td>\n",
       "      <td>GABAB receptor [plasma membrane]</td>\n",
       "    </tr>\n",
       "  </tbody>\n",
       "</table>\n",
       "</div>"
      ],
      "text/plain": [
       "  Reactome_Complex_u Reactome_Complex_v  \\\n",
       "0      R-HSA-1008206      R-HSA-1008229   \n",
       "1      R-HSA-1013011      R-HSA-1013017   \n",
       "2      R-HSA-1013011      R-HSA-1013019   \n",
       "3      R-HSA-1013011       R-HSA-420698   \n",
       "4      R-HSA-1013011       R-HSA-420748   \n",
       "\n",
       "                                    Reactome Label_u  \\\n",
       "0  NF-E2:Promoter region of beta-globin [nucleopl...   \n",
       "1  GABA B receptor G-protein beta-gamma and Kir3 ...   \n",
       "2  GABA B receptor G-protein beta-gamma and Kir3 ...   \n",
       "3  GABA B receptor G-protein beta-gamma and Kir3 ...   \n",
       "4  GABA B receptor G-protein beta-gamma and Kir3 ...   \n",
       "\n",
       "                                    Reactome Label_v  \n",
       "0                                NF-E2 [nucleoplasm]  \n",
       "1  GABA B receptor G-protein beta-gamma complex [...  \n",
       "2    G-protein beta-gamma subunits [plasma membrane]  \n",
       "3              GABAB receptor:GABA [plasma membrane]  \n",
       "4                   GABAB receptor [plasma membrane]  "
      ]
     },
     "execution_count": 336,
     "metadata": {},
     "output_type": "execute_result"
    }
   ],
   "source": [
    "cc_data.head(n=5)"
   ]
  },
  {
   "cell_type": "markdown",
   "metadata": {},
   "source": [
    "\n",
    "***\n",
    "\n",
    "### Reactome Chemical-Complex Data <a class=\"anchor\" id=\"reactome-chemical-complex\"></a>\n",
    "\n",
    "**Data Souurce Wiki Page:** [Reactome](https://github.com/callahantiff/PheKnowLator/wiki/v2-Data-Sources/#reactome-pathway-database)  \n",
    "\n",
    "**Purpose:** This script downloads the [ComplexParticipantsPubMedIdentifiers_human.txt](https://reactome.org/download/current/ComplexParticipantsPubMedIdentifiers_human.txt) file from [Reactome](https://reactome.orgt) in order to create the following edges:  \n",
    "- chemical-complex  \n",
    "\n",
    "**Output:** [`REACTOME_CHEMICAL_COMPLEX.txt`](https://www.dropbox.com/s/qoetjt0vfy6qb3y/REACTOME_CHEMICAL_COMPLEX.txt?dl=0)\n"
   ]
  },
  {
   "cell_type": "code",
   "execution_count": null,
   "metadata": {},
   "outputs": [],
   "source": [
    "# process data\n",
    "data = open(unprocessed_data_location + 'ComplexParticipantsPubMedIdentifiers_human.txt').readlines()\n",
    "\n",
    "# reformat data and write it out\n",
    "with open(processed_data_location + 'REACTOME_CHEMICAL_COMPLEX.txt', 'w') as outfile:\n",
    "    for line in tqdm(data[1:]):\n",
    "        row = line.split('\\t')\n",
    "        \n",
    "        # find all proteins in a complex\n",
    "        for x in row[2].split('|'):\n",
    "            if x.startswith('chebi:'):            \n",
    "                outfile.write(x.replace('chebi:', 'CHEBI_') + '\\t' + row[0].strip() + '\\t' + row[1].strip() + '\\n')\n",
    "\n",
    "outfile.close()"
   ]
  },
  {
   "cell_type": "code",
   "execution_count": 159,
   "metadata": {},
   "outputs": [
    {
     "name": "stdout",
     "output_type": "stream",
     "text": [
      "There are 5608 chemical-complex edges\n"
     ]
    }
   ],
   "source": [
    "cc1_data = pandas.read_csv(processed_data_location + 'REACTOME_CHEMICAL_COMPLEX.txt',\n",
    "                           header = None,\n",
    "                           names=['CHEBI_IDs', 'Reactome_IDs', 'Reactome_Label'],\n",
    "                           delimiter = '\\t')\n",
    "\n",
    "print('There are {edge_count} chemical-complex edges'.format(edge_count=len(cc1_data)))"
   ]
  },
  {
   "cell_type": "code",
   "execution_count": 160,
   "metadata": {},
   "outputs": [
    {
     "data": {
      "text/html": [
       "<div>\n",
       "<style scoped>\n",
       "    .dataframe tbody tr th:only-of-type {\n",
       "        vertical-align: middle;\n",
       "    }\n",
       "\n",
       "    .dataframe tbody tr th {\n",
       "        vertical-align: top;\n",
       "    }\n",
       "\n",
       "    .dataframe thead th {\n",
       "        text-align: right;\n",
       "    }\n",
       "</style>\n",
       "<table border=\"1\" class=\"dataframe\">\n",
       "  <thead>\n",
       "    <tr style=\"text-align: right;\">\n",
       "      <th></th>\n",
       "      <th>CHEBI_IDs</th>\n",
       "      <th>Reactome_IDs</th>\n",
       "      <th>Reactome_Label</th>\n",
       "    </tr>\n",
       "  </thead>\n",
       "  <tbody>\n",
       "    <tr>\n",
       "      <th>0</th>\n",
       "      <td>CHEBI_24505</td>\n",
       "      <td>R-HSA-1006173</td>\n",
       "      <td>CFH:Host cell surface [plasma membrane]</td>\n",
       "    </tr>\n",
       "    <tr>\n",
       "      <th>1</th>\n",
       "      <td>CHEBI_28879</td>\n",
       "      <td>R-HSA-1006173</td>\n",
       "      <td>CFH:Host cell surface [plasma membrane]</td>\n",
       "    </tr>\n",
       "    <tr>\n",
       "      <th>2</th>\n",
       "      <td>CHEBI_59888</td>\n",
       "      <td>R-HSA-1013011</td>\n",
       "      <td>GABA B receptor G-protein beta-gamma and Kir3 ...</td>\n",
       "    </tr>\n",
       "    <tr>\n",
       "      <th>3</th>\n",
       "      <td>CHEBI_59888</td>\n",
       "      <td>R-HSA-1013017</td>\n",
       "      <td>GABA B receptor G-protein beta-gamma complex [...</td>\n",
       "    </tr>\n",
       "    <tr>\n",
       "      <th>4</th>\n",
       "      <td>CHEBI_29105</td>\n",
       "      <td>R-HSA-109266</td>\n",
       "      <td>NT5E:Zn2+ dimer [plasma membrane]</td>\n",
       "    </tr>\n",
       "  </tbody>\n",
       "</table>\n",
       "</div>"
      ],
      "text/plain": [
       "     CHEBI_IDs   Reactome_IDs  \\\n",
       "0  CHEBI_24505  R-HSA-1006173   \n",
       "1  CHEBI_28879  R-HSA-1006173   \n",
       "2  CHEBI_59888  R-HSA-1013011   \n",
       "3  CHEBI_59888  R-HSA-1013017   \n",
       "4  CHEBI_29105   R-HSA-109266   \n",
       "\n",
       "                                      Reactome_Label  \n",
       "0            CFH:Host cell surface [plasma membrane]  \n",
       "1            CFH:Host cell surface [plasma membrane]  \n",
       "2  GABA B receptor G-protein beta-gamma and Kir3 ...  \n",
       "3  GABA B receptor G-protein beta-gamma complex [...  \n",
       "4                  NT5E:Zn2+ dimer [plasma membrane]  "
      ]
     },
     "execution_count": 160,
     "metadata": {},
     "output_type": "execute_result"
    }
   ],
   "source": [
    "cc1_data.head(n=5)"
   ]
  },
  {
   "cell_type": "markdown",
   "metadata": {},
   "source": [
    "***\n",
    "***\n",
    "\n",
    "### Uniprot  Protein-Cofactor and Protein-Catalyst <a class=\"anchor\" id=\"uniprot-protein-cofactorcatalyst\"></a>\n",
    "\n",
    "**Data Source Wiki Page:** [Uniprot](https://github.com/callahantiff/PheKnowLator/wiki/v2-Data-Sources/#uniprot-knowledgebase)  \n",
    "\n",
    "**Purpose:** This script downloads the [uniprot-cofactor-catalyst.tab](https://github.com/callahantiff/PheKnowLator/wiki/v2-Data-Sources/#uniprot-knowledgebase) file from the [Uniprot Knowledge Base](https://www.uniprot.org) in order to create the following edges:  \n",
    "- protein-cofactor  \n",
    "- protein-catalyst  \n",
    "\n",
    "**Output:**  \n",
    "- protein-cofactor ➞ [`UNIPROT_PROTEIN_COFACTOR.txt`](https://www.dropbox.com/s/ij9t89botd8nmmj/UNIPROT_PROTEIN_COFACTOR.txt?dl=0)\n",
    "- protein-catalyst ➞ [`UNIPROT_PROTEIN_CATALYST.txt`](https://www.dropbox.com/s/pvopvs0iq8x3oq2/UNIPROT_PROTEIN_CATALYST.txt?dl=0)\n"
   ]
  },
  {
   "cell_type": "code",
   "execution_count": 48,
   "metadata": {},
   "outputs": [
    {
     "name": "stdout",
     "output_type": "stream",
     "text": [
      "Downloading data file\n"
     ]
    }
   ],
   "source": [
    "url = 'https://www.uniprot.org/uniprot/?query=&fil=organism%3A%22Homo%20sapiens%20(Human)%20%5B9606%5D%22&columns=id%2Centry%20name%2Creviewed%2Cdatabase(PRO)%2Cchebi(Cofactor)%2Cchebi(Catalytic%20activity)&format=tab'\n",
    "data_downloader(url, unprocessed_data_location, 'uniprot-cofactor-catalyst.tab')"
   ]
  },
  {
   "cell_type": "code",
   "execution_count": 49,
   "metadata": {},
   "outputs": [
    {
     "name": "stderr",
     "output_type": "stream",
     "text": [
      "100%|██████████| 188350/188350 [00:00<00:00, 405727.43it/s]\n"
     ]
    }
   ],
   "source": [
    "data = open(unprocessed_data_location + 'uniprot-cofactor-catalyst.tab').readlines()\n",
    "\n",
    "# reformat data and write it out\n",
    "with open(processed_data_location + 'UNIPROT_PROTEIN_COFACTOR.txt', 'w') as outfile1, open(processed_data_location + 'UNIPROT_PROTEIN_CATALYST.txt', 'w') as outfile2:\n",
    "    for line in tqdm(data):\n",
    "\n",
    "        # get cofactors\n",
    "        if 'CHEBI' in line.split('\\t')[4]: \n",
    "            for i in line.split('\\t')[4].split(';'):\n",
    "                chebi = i.split('[')[-1].replace(']', '').replace(':', '_')\n",
    "                outfile1.write('PR_' + line.split('\\t')[3].strip(';') + '\\t' + chebi + '\\n')\n",
    "        \n",
    "        # get catalysts\n",
    "        if 'CHEBI' in line.split('\\t')[5]:       \n",
    "            for i in line.split('\\t')[5].split(';'):\n",
    "                chebi = i.split('[')[-1].replace(']', '').replace(':', '_')\n",
    "                outfile2.write('PR_' + line.split('\\t')[3].strip(';') + '\\t' + chebi + '\\n')\n",
    "\n",
    "outfile1.close()\n",
    "outfile2.close()"
   ]
  },
  {
   "cell_type": "markdown",
   "metadata": {},
   "source": [
    "**Preview Processed Data**"
   ]
  },
  {
   "cell_type": "markdown",
   "metadata": {},
   "source": [
    "_Preview Cofactor Data_"
   ]
  },
  {
   "cell_type": "code",
   "execution_count": 50,
   "metadata": {},
   "outputs": [
    {
     "name": "stdout",
     "output_type": "stream",
     "text": [
      "There are 5577 protein-cofactor edges\n"
     ]
    }
   ],
   "source": [
    "pcp1_data = pandas.read_csv(processed_data_location + 'UNIPROT_PROTEIN_COFACTOR.txt',\n",
    "                            header = None,\n",
    "                            names=['Protein_Ontology_IDs', 'CHEBI_IDs'],\n",
    "                            delimiter = '\\t')\n",
    "\n",
    "print('There are {edge_count} protein-cofactor edges'.format(edge_count=len(pcp1_data)))"
   ]
  },
  {
   "cell_type": "code",
   "execution_count": 51,
   "metadata": {},
   "outputs": [
    {
     "data": {
      "text/html": [
       "<div>\n",
       "<style scoped>\n",
       "    .dataframe tbody tr th:only-of-type {\n",
       "        vertical-align: middle;\n",
       "    }\n",
       "\n",
       "    .dataframe tbody tr th {\n",
       "        vertical-align: top;\n",
       "    }\n",
       "\n",
       "    .dataframe thead th {\n",
       "        text-align: right;\n",
       "    }\n",
       "</style>\n",
       "<table border=\"1\" class=\"dataframe\">\n",
       "  <thead>\n",
       "    <tr style=\"text-align: right;\">\n",
       "      <th></th>\n",
       "      <th>Protein_Ontology_IDs</th>\n",
       "      <th>CHEBI_IDs</th>\n",
       "    </tr>\n",
       "  </thead>\n",
       "  <tbody>\n",
       "    <tr>\n",
       "      <th>0</th>\n",
       "      <td>PR_Q9BRS2</td>\n",
       "      <td>CHEBI_18420</td>\n",
       "    </tr>\n",
       "    <tr>\n",
       "      <th>1</th>\n",
       "      <td>PR_Q05823</td>\n",
       "      <td>CHEBI_18420</td>\n",
       "    </tr>\n",
       "    <tr>\n",
       "      <th>2</th>\n",
       "      <td>PR_Q05823</td>\n",
       "      <td>CHEBI_29035</td>\n",
       "    </tr>\n",
       "    <tr>\n",
       "      <th>3</th>\n",
       "      <td>PR_Q13472</td>\n",
       "      <td>CHEBI_18420</td>\n",
       "    </tr>\n",
       "    <tr>\n",
       "      <th>4</th>\n",
       "      <td>PR_Q9BXA7</td>\n",
       "      <td>CHEBI_18420</td>\n",
       "    </tr>\n",
       "  </tbody>\n",
       "</table>\n",
       "</div>"
      ],
      "text/plain": [
       "  Protein_Ontology_IDs    CHEBI_IDs\n",
       "0            PR_Q9BRS2  CHEBI_18420\n",
       "1            PR_Q05823  CHEBI_18420\n",
       "2            PR_Q05823  CHEBI_29035\n",
       "3            PR_Q13472  CHEBI_18420\n",
       "4            PR_Q9BXA7  CHEBI_18420"
      ]
     },
     "execution_count": 51,
     "metadata": {},
     "output_type": "execute_result"
    }
   ],
   "source": [
    "pcp1_data.head(n=5)"
   ]
  },
  {
   "cell_type": "markdown",
   "metadata": {},
   "source": [
    "_Preview Catalyst Data_"
   ]
  },
  {
   "cell_type": "code",
   "execution_count": 52,
   "metadata": {},
   "outputs": [
    {
     "name": "stdout",
     "output_type": "stream",
     "text": [
      "There are 59863 protein-catalyst edges\n"
     ]
    }
   ],
   "source": [
    "pcp2_data = pandas.read_csv(processed_data_location + 'UNIPROT_PROTEIN_CATALYST.txt',\n",
    "                            header = None,\n",
    "                            names=['Protein_Ontology_IDs', 'CHEBI_IDs'],\n",
    "                            delimiter = '\\t')\n",
    "\n",
    "print('There are {edge_count} protein-catalyst edges'.format(edge_count=len(pcp2_data)))"
   ]
  },
  {
   "cell_type": "code",
   "execution_count": 53,
   "metadata": {},
   "outputs": [
    {
     "data": {
      "text/html": [
       "<div>\n",
       "<style scoped>\n",
       "    .dataframe tbody tr th:only-of-type {\n",
       "        vertical-align: middle;\n",
       "    }\n",
       "\n",
       "    .dataframe tbody tr th {\n",
       "        vertical-align: top;\n",
       "    }\n",
       "\n",
       "    .dataframe thead th {\n",
       "        text-align: right;\n",
       "    }\n",
       "</style>\n",
       "<table border=\"1\" class=\"dataframe\">\n",
       "  <thead>\n",
       "    <tr style=\"text-align: right;\">\n",
       "      <th></th>\n",
       "      <th>Protein_Ontology_IDs</th>\n",
       "      <th>CHEBI_IDs</th>\n",
       "    </tr>\n",
       "  </thead>\n",
       "  <tbody>\n",
       "    <tr>\n",
       "      <th>0</th>\n",
       "      <td>PR_Q9NP80</td>\n",
       "      <td>CHEBI_15377</td>\n",
       "    </tr>\n",
       "    <tr>\n",
       "      <th>1</th>\n",
       "      <td>PR_Q9NP80</td>\n",
       "      <td>CHEBI_15378</td>\n",
       "    </tr>\n",
       "    <tr>\n",
       "      <th>2</th>\n",
       "      <td>PR_Q9NP80</td>\n",
       "      <td>CHEBI_28868</td>\n",
       "    </tr>\n",
       "    <tr>\n",
       "      <th>3</th>\n",
       "      <td>PR_Q9NP80</td>\n",
       "      <td>CHEBI_16870</td>\n",
       "    </tr>\n",
       "    <tr>\n",
       "      <th>4</th>\n",
       "      <td>PR_Q9NP80</td>\n",
       "      <td>CHEBI_58168</td>\n",
       "    </tr>\n",
       "  </tbody>\n",
       "</table>\n",
       "</div>"
      ],
      "text/plain": [
       "  Protein_Ontology_IDs    CHEBI_IDs\n",
       "0            PR_Q9NP80  CHEBI_15377\n",
       "1            PR_Q9NP80  CHEBI_15378\n",
       "2            PR_Q9NP80  CHEBI_28868\n",
       "3            PR_Q9NP80  CHEBI_16870\n",
       "4            PR_Q9NP80  CHEBI_58168"
      ]
     },
     "execution_count": 53,
     "metadata": {},
     "output_type": "execute_result"
    }
   ],
   "source": [
    "pcp2_data.head(n=5)"
   ]
  },
  {
   "cell_type": "markdown",
   "metadata": {},
   "source": [
    "\n",
    "***\n",
    "***\n",
    "\n",
    "### NCBI Gene Protein-Coding Gene-Protein <a class=\"anchor\" id=\"ncbi-protein-coding-genes\"></a>\n",
    "\n",
    "**Data Source Wiki Page:** [Uniprot](https://github.com/callahantiff/PheKnowLator/wiki/v2-Data-Sources/#uniprot-knowledgebase) \n",
    "\n",
    "**Purpose:** This script utilizes the merged data created in the [Human-Transcript, Gene, and Protein Identifier Mapping](#Human-Transcript,-Gene,-and-Protein-Identifier-Mapping) subsection in order to create the following edges:  \n",
    "- gene-protein\n",
    "\n",
    "**Output:** [`PROTEIN_CODING_GENES_PROTEINS.txt`](https://www.dropbox.com/s/79ce6oe68jt72ph/PROTEIN_CODING_GENES_PROTEINS.txt?dl=0)  \n"
   ]
  },
  {
   "cell_type": "code",
   "execution_count": null,
   "metadata": {},
   "outputs": [],
   "source": [
    "# de-dup data\n",
    "df_ens = merged_data.drop_duplicates(subset=['GeneID', 'type_of_gene', 'Cross-reference (PRO)', 'Symbol_from_nomenclature_authority', 'Full_name_from_nomenclature_authority', 'Synonyms'], keep='first', inplace=False) \n",
    "\n",
    "# reformat data and write it out\n",
    "with open(processed_data_location + 'PROTEIN_CODING_GENES_PROTEINS.txt', 'w') as outfile:\n",
    "    for idx, row in tqdm(df_ens.iterrows(), total=df_ens.shape[0]):\n",
    "        if row['type_of_gene'] == 'protein-coding' and row['Cross-reference (PRO)'] != 'None': \n",
    "            outfile.write(row['GeneID'] + '\\t' + 'PR_' + row['Cross-reference (PRO)'] + '\\t' + row['Symbol_from_nomenclature_authority'] + '\\t' + row['Synonyms'] + '\\t' + row['Full_name_from_nomenclature_authority'] + '\\n')\n",
    "\n",
    "outfile.close()"
   ]
  },
  {
   "cell_type": "markdown",
   "metadata": {},
   "source": [
    "**Preview Processed Data**"
   ]
  },
  {
   "cell_type": "code",
   "execution_count": 270,
   "metadata": {},
   "outputs": [
    {
     "name": "stdout",
     "output_type": "stream",
     "text": [
      "There are 18744 protein-coding gene edges\n"
     ]
    }
   ],
   "source": [
    "hpe_data = pandas.read_csv(processed_data_location + 'PROTEIN_CODING_GENES_PROTEINS.txt',\n",
    "                           header = None,\n",
    "                           names=['Entrez_Gene_IDs', 'Protein_Ontology_IDs', 'Gene_Name', 'Gene_Synonyms', 'Gene_Description'],\n",
    "                           delimiter = '\\t')\n",
    "\n",
    "print('There are {edge_count} protein-coding gene edges'.format(edge_count=len(hpe_data)))"
   ]
  },
  {
   "cell_type": "code",
   "execution_count": 271,
   "metadata": {},
   "outputs": [
    {
     "data": {
      "text/html": [
       "<div>\n",
       "<style scoped>\n",
       "    .dataframe tbody tr th:only-of-type {\n",
       "        vertical-align: middle;\n",
       "    }\n",
       "\n",
       "    .dataframe tbody tr th {\n",
       "        vertical-align: top;\n",
       "    }\n",
       "\n",
       "    .dataframe thead th {\n",
       "        text-align: right;\n",
       "    }\n",
       "</style>\n",
       "<table border=\"1\" class=\"dataframe\">\n",
       "  <thead>\n",
       "    <tr style=\"text-align: right;\">\n",
       "      <th></th>\n",
       "      <th>Entrez_Gene_IDs</th>\n",
       "      <th>Protein_Ontology_IDs</th>\n",
       "      <th>Gene_Name</th>\n",
       "      <th>Gene_Synonyms</th>\n",
       "      <th>Gene_Description</th>\n",
       "    </tr>\n",
       "  </thead>\n",
       "  <tbody>\n",
       "    <tr>\n",
       "      <th>0</th>\n",
       "      <td>7529</td>\n",
       "      <td>PR_P31946</td>\n",
       "      <td>YWHAB</td>\n",
       "      <td>GW128|HEL-S-1|HS1|KCIP-1|YWHAA</td>\n",
       "      <td>tyrosine 3-monooxygenase/tryptophan 5-monooxyg...</td>\n",
       "    </tr>\n",
       "    <tr>\n",
       "      <th>1</th>\n",
       "      <td>7531</td>\n",
       "      <td>PR_P62258</td>\n",
       "      <td>YWHAE</td>\n",
       "      <td>14-3-3E|HEL2|KCIP-1|MDCR|MDS</td>\n",
       "      <td>tyrosine 3-monooxygenase/tryptophan 5-monooxyg...</td>\n",
       "    </tr>\n",
       "    <tr>\n",
       "      <th>2</th>\n",
       "      <td>7533</td>\n",
       "      <td>PR_Q04917</td>\n",
       "      <td>YWHAH</td>\n",
       "      <td>YWHA1</td>\n",
       "      <td>tyrosine 3-monooxygenase/tryptophan 5-monooxyg...</td>\n",
       "    </tr>\n",
       "    <tr>\n",
       "      <th>3</th>\n",
       "      <td>7532</td>\n",
       "      <td>PR_P61981</td>\n",
       "      <td>YWHAG</td>\n",
       "      <td>14-3-3GAMMA|EIEE56|PPP1R170</td>\n",
       "      <td>tyrosine 3-monooxygenase/tryptophan 5-monooxyg...</td>\n",
       "    </tr>\n",
       "    <tr>\n",
       "      <th>4</th>\n",
       "      <td>2810</td>\n",
       "      <td>PR_P31947</td>\n",
       "      <td>SFN</td>\n",
       "      <td>YWHAS</td>\n",
       "      <td>stratifin</td>\n",
       "    </tr>\n",
       "  </tbody>\n",
       "</table>\n",
       "</div>"
      ],
      "text/plain": [
       "   Entrez_Gene_IDs Protein_Ontology_IDs Gene_Name  \\\n",
       "0             7529            PR_P31946     YWHAB   \n",
       "1             7531            PR_P62258     YWHAE   \n",
       "2             7533            PR_Q04917     YWHAH   \n",
       "3             7532            PR_P61981     YWHAG   \n",
       "4             2810            PR_P31947       SFN   \n",
       "\n",
       "                    Gene_Synonyms  \\\n",
       "0  GW128|HEL-S-1|HS1|KCIP-1|YWHAA   \n",
       "1    14-3-3E|HEL2|KCIP-1|MDCR|MDS   \n",
       "2                           YWHA1   \n",
       "3     14-3-3GAMMA|EIEE56|PPP1R170   \n",
       "4                           YWHAS   \n",
       "\n",
       "                                    Gene_Description  \n",
       "0  tyrosine 3-monooxygenase/tryptophan 5-monooxyg...  \n",
       "1  tyrosine 3-monooxygenase/tryptophan 5-monooxyg...  \n",
       "2  tyrosine 3-monooxygenase/tryptophan 5-monooxyg...  \n",
       "3  tyrosine 3-monooxygenase/tryptophan 5-monooxyg...  \n",
       "4                                          stratifin  "
      ]
     },
     "execution_count": 271,
     "metadata": {},
     "output_type": "execute_result"
    }
   ],
   "source": [
    "hpe_data.head(n=5)"
   ]
  },
  {
   "cell_type": "markdown",
   "metadata": {},
   "source": [
    "\n",
    "***\n",
    "***\n",
    "### GATHER INSTANCE DATA LABELS <a class=\"anchor\" id=\"create-label-data\"></a>\n",
    "***\n",
    "***\n",
    "\n",
    "\n",
    "**Data Source Wiki Pages:**  \n",
    "- [ClinVar](https://github.com/callahantiff/PheKnowLator/wiki/v2-Data-Sources#clinvar): Variant\n",
    "- [Uniprot](https://github.com/callahantiff/PheKnowLator/wiki/v2-Data-Sources/#uniprot-knowledgebase): RNA\n",
    "- [NCBI Gene](https://github.com/callahantiff/PheKnowLator/wiki/v2-Data-Sources/#ncbi-gene): Gene\n",
    "- [Reactome](https://github.com/callahantiff/PheKnowLator/wiki/v2-Data-Sources#reactome-pathway-database): Complex, Pathway, Reaction  \n",
    "\n",
    "\n",
    "<br>\n",
    "**Purpose:** Ontologies include identifier attributes like labels and synonyms. This section creates a file that contains labels for all data that is not from an ontology, which includes:\n",
    "- Variant (dbSNP Identifiers) ➞ [`tab_delimited/variant_summary.txt.gz`](ftp://ftp.ncbi.nlm.nih.gov/pub/clinvar/tab_delimited/variant_summary.txt.gz)  \n",
    "- RNA (Ensembl Transcripts) ➞ [`HUMAN_9606_idmapping_selected.tab`](https://www.dropbox.com/s/afk12rtr1aya0za/HUMAN_9606_idmapping_selected.tab?dl=0) + [`Homo_sapiens.gene_info`](https://www.dropbox.com/s/vazlmzxydgv6xzz/Homo_sapiens.gene_info?dl=0)\n",
    "- Gene (Entrez Gene Identifiers) ➞ [`Homo_sapiens.gene_info`](https://www.dropbox.com/s/vazlmzxydgv6xzz/Homo_sapiens.gene_info?dl=0)\n",
    "- Complex (Reactome Complex Identifiers) ➞ [`ComplexParticipantsPubMedIdentifiers_human.txt`](https://reactome.org/download/current/ComplexParticipantsPubMedIdentifiers_human.txt) \n",
    "- Pathway (Reactome Pathway Identifiers) ➞ [`ReactomePathways.txt`](https://reactome.org/download/current/ReactomePathways.txt)\n",
    "- Reaction (Reactome Reaction Identifiers) ➞ [`UniProt2ReactomeReactions.txt`](https://reactome.org/download/current/UniProt2ReactomeReactions.txt) + [`ChEBI2ReactomeReactions.txt`](https://reactome.org/download/current/ChEBI2ReactomeReactions.txt)\n",
    "  \n",
    "\n",
    "<br>\n",
    "**Output:** File contains the following columns: identifier, label, synonyms, descriptions  \n",
    "- [`instance_data_labels`]()   "
   ]
  },
  {
   "cell_type": "markdown",
   "metadata": {},
   "source": [
    "***\n",
    "**Variant:** `tab_delimited/variant_summary.txt.gz`"
   ]
  },
  {
   "cell_type": "code",
   "execution_count": 338,
   "metadata": {},
   "outputs": [
    {
     "name": "stdout",
     "output_type": "stream",
     "text": [
      "Downloading gzipped data from ftp server\n",
      "Decompressing and writing gzipped data\n"
     ]
    }
   ],
   "source": [
    "url = 'ftp://ftp.ncbi.nlm.nih.gov/pub/clinvar/tab_delimited/variant_summary.txt.gz'\n",
    "data_downloader(url, unprocessed_data_location)"
   ]
  },
  {
   "cell_type": "code",
   "execution_count": 413,
   "metadata": {},
   "outputs": [],
   "source": [
    "var_data = pandas.read_csv(unprocessed_data_location + 'variant_summary.txt',\n",
    "                           header = 0,\n",
    "                           delimiter = '\\t',\n",
    "                           low_memory=False)"
   ]
  },
  {
   "cell_type": "code",
   "execution_count": 414,
   "metadata": {},
   "outputs": [
    {
     "data": {
      "text/html": [
       "<div>\n",
       "<style scoped>\n",
       "    .dataframe tbody tr th:only-of-type {\n",
       "        vertical-align: middle;\n",
       "    }\n",
       "\n",
       "    .dataframe tbody tr th {\n",
       "        vertical-align: top;\n",
       "    }\n",
       "\n",
       "    .dataframe thead th {\n",
       "        text-align: right;\n",
       "    }\n",
       "</style>\n",
       "<table border=\"1\" class=\"dataframe\">\n",
       "  <thead>\n",
       "    <tr style=\"text-align: right;\">\n",
       "      <th></th>\n",
       "      <th>RS# (dbSNP)</th>\n",
       "      <th>Name</th>\n",
       "    </tr>\n",
       "  </thead>\n",
       "  <tbody>\n",
       "    <tr>\n",
       "      <th>3345</th>\n",
       "      <td>200300612</td>\n",
       "      <td>NM_147127.5(EVC2):c.3659+2T&gt;C</td>\n",
       "    </tr>\n",
       "    <tr>\n",
       "      <th>6421</th>\n",
       "      <td>757415879</td>\n",
       "      <td>NM_000094.3(COL7A1):c.5797C&gt;T (p.Arg1933Ter)</td>\n",
       "    </tr>\n",
       "    <tr>\n",
       "      <th>6586</th>\n",
       "      <td>886058642</td>\n",
       "      <td>NM_000094.3(COL7A1):c.1637-1G&gt;A</td>\n",
       "    </tr>\n",
       "    <tr>\n",
       "      <th>6633</th>\n",
       "      <td>757552268</td>\n",
       "      <td>NM_000387.6(SLC25A20):c.326+1del</td>\n",
       "    </tr>\n",
       "    <tr>\n",
       "      <th>6705</th>\n",
       "      <td>775696136</td>\n",
       "      <td>NM_001369.2(DNAH5):c.13458dup (p.Asn4487Ter)</td>\n",
       "    </tr>\n",
       "  </tbody>\n",
       "</table>\n",
       "</div>"
      ],
      "text/plain": [
       "      RS# (dbSNP)                                          Name\n",
       "3345    200300612                 NM_147127.5(EVC2):c.3659+2T>C\n",
       "6421    757415879  NM_000094.3(COL7A1):c.5797C>T (p.Arg1933Ter)\n",
       "6586    886058642               NM_000094.3(COL7A1):c.1637-1G>A\n",
       "6633    757552268              NM_000387.6(SLC25A20):c.326+1del\n",
       "6705    775696136  NM_001369.2(DNAH5):c.13458dup (p.Asn4487Ter)"
      ]
     },
     "execution_count": 414,
     "metadata": {},
     "output_type": "execute_result"
    }
   ],
   "source": [
    "# filter data to only include pathogenic variants\n",
    "var_data = var_data.loc[var_data['ClinicalSignificance'].apply(lambda x: x.startswith('Pathogenic'))] \n",
    "var_data = var_data.loc[var_data['RS# (dbSNP)'].apply(lambda x: x != -1)] \n",
    "\n",
    "# reorder data\n",
    "var_data = var_data[['RS# (dbSNP)', 'Name']].drop_duplicates(subset=None, keep='first', inplace=False)\n",
    "\n",
    "# preview data\n",
    "var_data.head(n=5)"
   ]
  },
  {
   "cell_type": "markdown",
   "metadata": {},
   "source": [
    "***\n",
    "**RNA + Gene:** `HUMAN_9606_idmapping_selected.tab` + `Homo_sapiens.gene_info`\n",
    "\n",
    "This section takes advantage of the merged_data set that was created in the [Human Transcript, Gene, and Protein Identifier Mapping](#human-transcript,-gene,-and-protein-identifier-mapping) section by merging the `Homo_sapiens.gene_info` and exploded `HUMAN_9606_idmapping_selected.tab` files."
   ]
  },
  {
   "cell_type": "code",
   "execution_count": 373,
   "metadata": {},
   "outputs": [
    {
     "data": {
      "text/html": [
       "<div>\n",
       "<style scoped>\n",
       "    .dataframe tbody tr th:only-of-type {\n",
       "        vertical-align: middle;\n",
       "    }\n",
       "\n",
       "    .dataframe tbody tr th {\n",
       "        vertical-align: top;\n",
       "    }\n",
       "\n",
       "    .dataframe thead th {\n",
       "        text-align: right;\n",
       "    }\n",
       "</style>\n",
       "<table border=\"1\" class=\"dataframe\">\n",
       "  <thead>\n",
       "    <tr style=\"text-align: right;\">\n",
       "      <th></th>\n",
       "      <th>GeneID (EntrezGene)</th>\n",
       "      <th>Ensembl_TRS</th>\n",
       "      <th>GeneID</th>\n",
       "      <th>Symbol_from_nomenclature_authority</th>\n",
       "      <th>Full_name_from_nomenclature_authority</th>\n",
       "      <th>Synonyms</th>\n",
       "    </tr>\n",
       "  </thead>\n",
       "  <tbody>\n",
       "    <tr>\n",
       "      <th>0</th>\n",
       "      <td>7529</td>\n",
       "      <td>ENST00000353703</td>\n",
       "      <td>7529</td>\n",
       "      <td>YWHAB</td>\n",
       "      <td>tyrosine 3-monooxygenase/tryptophan 5-monooxyg...</td>\n",
       "      <td>GW128|HEL-S-1|HS1|KCIP-1|YWHAA</td>\n",
       "    </tr>\n",
       "    <tr>\n",
       "      <th>1</th>\n",
       "      <td>7529</td>\n",
       "      <td>ENST00000372839</td>\n",
       "      <td>7529</td>\n",
       "      <td>YWHAB</td>\n",
       "      <td>tyrosine 3-monooxygenase/tryptophan 5-monooxyg...</td>\n",
       "      <td>GW128|HEL-S-1|HS1|KCIP-1|YWHAA</td>\n",
       "    </tr>\n",
       "    <tr>\n",
       "      <th>2</th>\n",
       "      <td>7529</td>\n",
       "      <td>ENST00000353703</td>\n",
       "      <td>7529</td>\n",
       "      <td>YWHAB</td>\n",
       "      <td>tyrosine 3-monooxygenase/tryptophan 5-monooxyg...</td>\n",
       "      <td>GW128|HEL-S-1|HS1|KCIP-1|YWHAA</td>\n",
       "    </tr>\n",
       "    <tr>\n",
       "      <th>3</th>\n",
       "      <td>7529</td>\n",
       "      <td>ENST00000372839</td>\n",
       "      <td>7529</td>\n",
       "      <td>YWHAB</td>\n",
       "      <td>tyrosine 3-monooxygenase/tryptophan 5-monooxyg...</td>\n",
       "      <td>GW128|HEL-S-1|HS1|KCIP-1|YWHAA</td>\n",
       "    </tr>\n",
       "    <tr>\n",
       "      <th>4</th>\n",
       "      <td>7529</td>\n",
       "      <td>None</td>\n",
       "      <td>7529</td>\n",
       "      <td>YWHAB</td>\n",
       "      <td>tyrosine 3-monooxygenase/tryptophan 5-monooxyg...</td>\n",
       "      <td>GW128|HEL-S-1|HS1|KCIP-1|YWHAA</td>\n",
       "    </tr>\n",
       "  </tbody>\n",
       "</table>\n",
       "</div>"
      ],
      "text/plain": [
       "  GeneID (EntrezGene)       Ensembl_TRS GeneID  \\\n",
       "0                7529   ENST00000353703   7529   \n",
       "1                7529   ENST00000372839   7529   \n",
       "2                7529   ENST00000353703   7529   \n",
       "3                7529   ENST00000372839   7529   \n",
       "4                7529              None   7529   \n",
       "\n",
       "  Symbol_from_nomenclature_authority  \\\n",
       "0                              YWHAB   \n",
       "1                              YWHAB   \n",
       "2                              YWHAB   \n",
       "3                              YWHAB   \n",
       "4                              YWHAB   \n",
       "\n",
       "               Full_name_from_nomenclature_authority  \\\n",
       "0  tyrosine 3-monooxygenase/tryptophan 5-monooxyg...   \n",
       "1  tyrosine 3-monooxygenase/tryptophan 5-monooxyg...   \n",
       "2  tyrosine 3-monooxygenase/tryptophan 5-monooxyg...   \n",
       "3  tyrosine 3-monooxygenase/tryptophan 5-monooxyg...   \n",
       "4  tyrosine 3-monooxygenase/tryptophan 5-monooxyg...   \n",
       "\n",
       "                         Synonyms  \n",
       "0  GW128|HEL-S-1|HS1|KCIP-1|YWHAA  \n",
       "1  GW128|HEL-S-1|HS1|KCIP-1|YWHAA  \n",
       "2  GW128|HEL-S-1|HS1|KCIP-1|YWHAA  \n",
       "3  GW128|HEL-S-1|HS1|KCIP-1|YWHAA  \n",
       "4  GW128|HEL-S-1|HS1|KCIP-1|YWHAA  "
      ]
     },
     "execution_count": 373,
     "metadata": {},
     "output_type": "execute_result"
    }
   ],
   "source": [
    "# make sure merge columns are the same type\n",
    "ncbi_gene['GeneID'] = ncbi_gene['GeneID'].astype(str)\n",
    "\n",
    "# merge uniprot and ncbi data\n",
    "merged_label_data = pandas.merge(explode_df_ensembl[['GeneID (EntrezGene)', 'Ensembl_TRS']],\n",
    "                                 ncbi_gene[['GeneID', 'Symbol_from_nomenclature_authority', 'Full_name_from_nomenclature_authority', 'Synonyms']],\n",
    "                                 left_on='GeneID (EntrezGene)',\n",
    "                                 right_on='GeneID',\n",
    "                                 how='outer')\n",
    "\n",
    "# replace NaN with 'None'\n",
    "merged_label_data.fillna('None', inplace=True)\n",
    "\n",
    "# preview data\n",
    "merged_label_data.head(n=5)"
   ]
  },
  {
   "cell_type": "markdown",
   "metadata": {},
   "source": [
    "**RNA Data**"
   ]
  },
  {
   "cell_type": "code",
   "execution_count": 439,
   "metadata": {},
   "outputs": [
    {
     "data": {
      "text/html": [
       "<div>\n",
       "<style scoped>\n",
       "    .dataframe tbody tr th:only-of-type {\n",
       "        vertical-align: middle;\n",
       "    }\n",
       "\n",
       "    .dataframe tbody tr th {\n",
       "        vertical-align: top;\n",
       "    }\n",
       "\n",
       "    .dataframe thead th {\n",
       "        text-align: right;\n",
       "    }\n",
       "</style>\n",
       "<table border=\"1\" class=\"dataframe\">\n",
       "  <thead>\n",
       "    <tr style=\"text-align: right;\">\n",
       "      <th></th>\n",
       "      <th>Ensembl_TRS</th>\n",
       "      <th>Symbol_from_nomenclature_authority</th>\n",
       "    </tr>\n",
       "  </thead>\n",
       "  <tbody>\n",
       "    <tr>\n",
       "      <th>0</th>\n",
       "      <td>ENST00000353703</td>\n",
       "      <td>YWHAB</td>\n",
       "    </tr>\n",
       "    <tr>\n",
       "      <th>1</th>\n",
       "      <td>ENST00000372839</td>\n",
       "      <td>YWHAB</td>\n",
       "    </tr>\n",
       "    <tr>\n",
       "      <th>5</th>\n",
       "      <td>ENST00000264335</td>\n",
       "      <td>YWHAE</td>\n",
       "    </tr>\n",
       "    <tr>\n",
       "      <th>7</th>\n",
       "      <td>ENST00000571732</td>\n",
       "      <td>YWHAE</td>\n",
       "    </tr>\n",
       "    <tr>\n",
       "      <th>9</th>\n",
       "      <td>ENST00000616643</td>\n",
       "      <td>YWHAE</td>\n",
       "    </tr>\n",
       "  </tbody>\n",
       "</table>\n",
       "</div>"
      ],
      "text/plain": [
       "        Ensembl_TRS Symbol_from_nomenclature_authority\n",
       "0   ENST00000353703                              YWHAB\n",
       "1   ENST00000372839                              YWHAB\n",
       "5   ENST00000264335                              YWHAE\n",
       "7   ENST00000571732                              YWHAE\n",
       "9   ENST00000616643                              YWHAE"
      ]
     },
     "execution_count": 439,
     "metadata": {},
     "output_type": "execute_result"
    }
   ],
   "source": [
    "# reorder data\n",
    "rna_data = merged_label_data[['Ensembl_TRS', 'Symbol_from_nomenclature_authority']].drop_duplicates(subset=None, keep='first', inplace=False)\n",
    "\n",
    "# delete all rows containing \"None\"\n",
    "indexNames = rna_data[(rna_data['Ensembl_TRS'] == 'None') | (rna_data['Symbol_from_nomenclature_authority'] == 'None')].index\n",
    "rna_data.drop(indexNames, inplace=True)\n",
    "\n",
    "# preview data\n",
    "rna_data.head(n=5)"
   ]
  },
  {
   "cell_type": "markdown",
   "metadata": {},
   "source": [
    "**Gene Data**"
   ]
  },
  {
   "cell_type": "code",
   "execution_count": 440,
   "metadata": {},
   "outputs": [
    {
     "data": {
      "text/html": [
       "<div>\n",
       "<style scoped>\n",
       "    .dataframe tbody tr th:only-of-type {\n",
       "        vertical-align: middle;\n",
       "    }\n",
       "\n",
       "    .dataframe tbody tr th {\n",
       "        vertical-align: top;\n",
       "    }\n",
       "\n",
       "    .dataframe thead th {\n",
       "        text-align: right;\n",
       "    }\n",
       "</style>\n",
       "<table border=\"1\" class=\"dataframe\">\n",
       "  <thead>\n",
       "    <tr style=\"text-align: right;\">\n",
       "      <th></th>\n",
       "      <th>GeneID</th>\n",
       "      <th>Symbol_from_nomenclature_authority</th>\n",
       "    </tr>\n",
       "  </thead>\n",
       "  <tbody>\n",
       "    <tr>\n",
       "      <th>0</th>\n",
       "      <td>7529</td>\n",
       "      <td>YWHAB</td>\n",
       "    </tr>\n",
       "    <tr>\n",
       "      <th>5</th>\n",
       "      <td>7531</td>\n",
       "      <td>YWHAE</td>\n",
       "    </tr>\n",
       "    <tr>\n",
       "      <th>38</th>\n",
       "      <td>7533</td>\n",
       "      <td>YWHAH</td>\n",
       "    </tr>\n",
       "    <tr>\n",
       "      <th>41</th>\n",
       "      <td>7532</td>\n",
       "      <td>YWHAG</td>\n",
       "    </tr>\n",
       "    <tr>\n",
       "      <th>42</th>\n",
       "      <td>2810</td>\n",
       "      <td>SFN</td>\n",
       "    </tr>\n",
       "  </tbody>\n",
       "</table>\n",
       "</div>"
      ],
      "text/plain": [
       "   GeneID Symbol_from_nomenclature_authority\n",
       "0    7529                              YWHAB\n",
       "5    7531                              YWHAE\n",
       "38   7533                              YWHAH\n",
       "41   7532                              YWHAG\n",
       "42   2810                                SFN"
      ]
     },
     "execution_count": 440,
     "metadata": {},
     "output_type": "execute_result"
    }
   ],
   "source": [
    "# reorder data\n",
    "gene_data = merged_label_data[['GeneID', 'Symbol_from_nomenclature_authority']].drop_duplicates(subset=None, keep='first', inplace=False)\n",
    "\n",
    "# delete all rows containing \"None\"\n",
    "indexNames = gene_data[(gene_data['GeneID'] == 'None') | (gene_data['Symbol_from_nomenclature_authority'] == 'None')].index\n",
    "gene_data.drop(indexNames, inplace=True)\n",
    "\n",
    "# preview data\n",
    "gene_data.head(n=5)"
   ]
  },
  {
   "cell_type": "markdown",
   "metadata": {},
   "source": [
    "***\n",
    "**Complex:** `ComplexParticipantsPubMedIdentifiers_human.txt`  \n",
    "Script assumes that the `ComplexParticipantsPubMedIdentifiers_human.txt` file was downloaded above in the [Reactome Protein Complex](#reactome-protein-complex) section."
   ]
  },
  {
   "cell_type": "code",
   "execution_count": null,
   "metadata": {},
   "outputs": [],
   "source": [
    "url = 'https://reactome.org/download/current/ComplexParticipantsPubMedIdentifiers_human.txt'\n",
    "data_downloader(url, unprocessed_data_location)"
   ]
  },
  {
   "cell_type": "code",
   "execution_count": 420,
   "metadata": {},
   "outputs": [],
   "source": [
    "complex_data = pandas.read_csv(unprocessed_data_location + 'ComplexParticipantsPubMedIdentifiers_human.txt',\n",
    "                               header = 0,\n",
    "                               delimiter = '\\t',\n",
    "                               low_memory=False)"
   ]
  },
  {
   "cell_type": "code",
   "execution_count": 421,
   "metadata": {},
   "outputs": [
    {
     "data": {
      "text/html": [
       "<div>\n",
       "<style scoped>\n",
       "    .dataframe tbody tr th:only-of-type {\n",
       "        vertical-align: middle;\n",
       "    }\n",
       "\n",
       "    .dataframe tbody tr th {\n",
       "        vertical-align: top;\n",
       "    }\n",
       "\n",
       "    .dataframe thead th {\n",
       "        text-align: right;\n",
       "    }\n",
       "</style>\n",
       "<table border=\"1\" class=\"dataframe\">\n",
       "  <thead>\n",
       "    <tr style=\"text-align: right;\">\n",
       "      <th></th>\n",
       "      <th>identifier</th>\n",
       "      <th>name</th>\n",
       "    </tr>\n",
       "  </thead>\n",
       "  <tbody>\n",
       "    <tr>\n",
       "      <th>0</th>\n",
       "      <td>R-HSA-1006173</td>\n",
       "      <td>CFH:Host cell surface [plasma membrane]</td>\n",
       "    </tr>\n",
       "    <tr>\n",
       "      <th>1</th>\n",
       "      <td>R-HSA-1008206</td>\n",
       "      <td>NF-E2:Promoter region of beta-globin [nucleopl...</td>\n",
       "    </tr>\n",
       "    <tr>\n",
       "      <th>2</th>\n",
       "      <td>R-HSA-1008229</td>\n",
       "      <td>NF-E2 [nucleoplasm]</td>\n",
       "    </tr>\n",
       "    <tr>\n",
       "      <th>3</th>\n",
       "      <td>R-HSA-1008252</td>\n",
       "      <td>IRF1:Promoter region of IFN beta [nucleoplasm]</td>\n",
       "    </tr>\n",
       "    <tr>\n",
       "      <th>4</th>\n",
       "      <td>R-HSA-1011577</td>\n",
       "      <td>C-terminal EH domain containing proteins:Raben...</td>\n",
       "    </tr>\n",
       "  </tbody>\n",
       "</table>\n",
       "</div>"
      ],
      "text/plain": [
       "      identifier                                               name\n",
       "0  R-HSA-1006173            CFH:Host cell surface [plasma membrane]\n",
       "1  R-HSA-1008206  NF-E2:Promoter region of beta-globin [nucleopl...\n",
       "2  R-HSA-1008229                                NF-E2 [nucleoplasm]\n",
       "3  R-HSA-1008252     IRF1:Promoter region of IFN beta [nucleoplasm]\n",
       "4  R-HSA-1011577  C-terminal EH domain containing proteins:Raben..."
      ]
     },
     "execution_count": 421,
     "metadata": {},
     "output_type": "execute_result"
    }
   ],
   "source": [
    "# reorder data\n",
    "complex_data = complex_data[['identifier', 'name']].drop_duplicates(subset=None, keep='first', inplace=False)\n",
    "\n",
    "# preview data\n",
    "complex_data.head(n=5)"
   ]
  },
  {
   "cell_type": "markdown",
   "metadata": {},
   "source": [
    "***\n",
    "***\n",
    "**Pathway:** `ReactomePathways.txt`"
   ]
  },
  {
   "cell_type": "code",
   "execution_count": 367,
   "metadata": {},
   "outputs": [
    {
     "name": "stdout",
     "output_type": "stream",
     "text": [
      "Downloading data file\n"
     ]
    }
   ],
   "source": [
    "url = 'https://reactome.org/download/current/ReactomePathways.txt'\n",
    "data_downloader(url, unprocessed_data_location)"
   ]
  },
  {
   "cell_type": "code",
   "execution_count": 422,
   "metadata": {},
   "outputs": [],
   "source": [
    "pathway_data = pandas.read_csv(unprocessed_data_location + 'ReactomePathways.txt',\n",
    "                               header = None,\n",
    "                               delimiter = '\\t',\n",
    "                               low_memory=False)"
   ]
  },
  {
   "cell_type": "code",
   "execution_count": 423,
   "metadata": {},
   "outputs": [
    {
     "data": {
      "text/html": [
       "<div>\n",
       "<style scoped>\n",
       "    .dataframe tbody tr th:only-of-type {\n",
       "        vertical-align: middle;\n",
       "    }\n",
       "\n",
       "    .dataframe tbody tr th {\n",
       "        vertical-align: top;\n",
       "    }\n",
       "\n",
       "    .dataframe thead th {\n",
       "        text-align: right;\n",
       "    }\n",
       "</style>\n",
       "<table border=\"1\" class=\"dataframe\">\n",
       "  <thead>\n",
       "    <tr style=\"text-align: right;\">\n",
       "      <th></th>\n",
       "      <th>0</th>\n",
       "      <th>1</th>\n",
       "    </tr>\n",
       "  </thead>\n",
       "  <tbody>\n",
       "    <tr>\n",
       "      <th>10025</th>\n",
       "      <td>R-HSA-164843</td>\n",
       "      <td>2-LTR circle formation</td>\n",
       "    </tr>\n",
       "    <tr>\n",
       "      <th>10026</th>\n",
       "      <td>R-HSA-73843</td>\n",
       "      <td>5-Phosphoribose 1-diphosphate biosynthesis</td>\n",
       "    </tr>\n",
       "    <tr>\n",
       "      <th>10027</th>\n",
       "      <td>R-HSA-1971475</td>\n",
       "      <td>A tetrasaccharide linker sequence is required ...</td>\n",
       "    </tr>\n",
       "    <tr>\n",
       "      <th>10028</th>\n",
       "      <td>R-HSA-5619084</td>\n",
       "      <td>ABC transporter disorders</td>\n",
       "    </tr>\n",
       "    <tr>\n",
       "      <th>10029</th>\n",
       "      <td>R-HSA-1369062</td>\n",
       "      <td>ABC transporters in lipid homeostasis</td>\n",
       "    </tr>\n",
       "  </tbody>\n",
       "</table>\n",
       "</div>"
      ],
      "text/plain": [
       "                   0                                                  1\n",
       "10025   R-HSA-164843                             2-LTR circle formation\n",
       "10026    R-HSA-73843         5-Phosphoribose 1-diphosphate biosynthesis\n",
       "10027  R-HSA-1971475  A tetrasaccharide linker sequence is required ...\n",
       "10028  R-HSA-5619084                          ABC transporter disorders\n",
       "10029  R-HSA-1369062              ABC transporters in lipid homeostasis"
      ]
     },
     "execution_count": 423,
     "metadata": {},
     "output_type": "execute_result"
    }
   ],
   "source": [
    "# filter data to only include human data\n",
    "pathway_data = pathway_data.loc[pathway_data[2].apply(lambda x: x.startswith('Homo sapien'))] \n",
    "\n",
    "# reorder data\n",
    "pathway_data = pathway_data[[0, 1]].drop_duplicates(subset=None, keep='first', inplace=False)\n",
    "\n",
    "# preview data\n",
    "pathway_data.head(n=5)"
   ]
  },
  {
   "cell_type": "markdown",
   "metadata": {},
   "source": [
    "***\n",
    "**Reaction:** `UniProt2ReactomeReactions.txt` + `ChEBI2ReactomeReactions.txt`"
   ]
  },
  {
   "cell_type": "code",
   "execution_count": 377,
   "metadata": {},
   "outputs": [
    {
     "name": "stdout",
     "output_type": "stream",
     "text": [
      "Downloading data file\n",
      "Downloading data file\n"
     ]
    }
   ],
   "source": [
    "url = 'https://reactome.org/download/current/UniProt2ReactomeReactions.txt'\n",
    "data_downloader(url, unprocessed_data_location)\n",
    "\n",
    "url = 'https://reactome.org/download/current/ChEBI2ReactomeReactions.txt'\n",
    "data_downloader(url, unprocessed_data_location)"
   ]
  },
  {
   "cell_type": "code",
   "execution_count": 424,
   "metadata": {},
   "outputs": [],
   "source": [
    "react_data1 = pandas.read_csv(unprocessed_data_location + 'UniProt2ReactomeReactions.txt',\n",
    "                              header = None,\n",
    "                              delimiter = '\\t',\n",
    "                              low_memory=False)\n",
    "\n",
    "react_data2 = pandas.read_csv(unprocessed_data_location + 'ChEBI2ReactomeReactions.txt',\n",
    "                              header = None,\n",
    "                              delimiter = '\\t',\n",
    "                              low_memory=False)"
   ]
  },
  {
   "cell_type": "code",
   "execution_count": 425,
   "metadata": {},
   "outputs": [
    {
     "data": {
      "text/html": [
       "<div>\n",
       "<style scoped>\n",
       "    .dataframe tbody tr th:only-of-type {\n",
       "        vertical-align: middle;\n",
       "    }\n",
       "\n",
       "    .dataframe tbody tr th {\n",
       "        vertical-align: top;\n",
       "    }\n",
       "\n",
       "    .dataframe thead th {\n",
       "        text-align: right;\n",
       "    }\n",
       "</style>\n",
       "<table border=\"1\" class=\"dataframe\">\n",
       "  <thead>\n",
       "    <tr style=\"text-align: right;\">\n",
       "      <th></th>\n",
       "      <th>1</th>\n",
       "      <th>3</th>\n",
       "    </tr>\n",
       "  </thead>\n",
       "  <tbody>\n",
       "    <tr>\n",
       "      <th>16004</th>\n",
       "      <td>R-HSA-1112666</td>\n",
       "      <td>BLNK (SLP-65) Signalosome hydrolyzes phosphati...</td>\n",
       "    </tr>\n",
       "    <tr>\n",
       "      <th>16384</th>\n",
       "      <td>R-HSA-166753</td>\n",
       "      <td>Conversion of C4 into C4a and C4b</td>\n",
       "    </tr>\n",
       "    <tr>\n",
       "      <th>17320</th>\n",
       "      <td>R-HSA-166792</td>\n",
       "      <td>Conversion of C2 into C2a and C2b</td>\n",
       "    </tr>\n",
       "    <tr>\n",
       "      <th>18247</th>\n",
       "      <td>R-HSA-173626</td>\n",
       "      <td>Activation of C1r</td>\n",
       "    </tr>\n",
       "    <tr>\n",
       "      <th>18532</th>\n",
       "      <td>R-HSA-173631</td>\n",
       "      <td>Activation of C1s</td>\n",
       "    </tr>\n",
       "  </tbody>\n",
       "</table>\n",
       "</div>"
      ],
      "text/plain": [
       "                   1                                                  3\n",
       "16004  R-HSA-1112666  BLNK (SLP-65) Signalosome hydrolyzes phosphati...\n",
       "16384   R-HSA-166753                  Conversion of C4 into C4a and C4b\n",
       "17320   R-HSA-166792                  Conversion of C2 into C2a and C2b\n",
       "18247   R-HSA-173626                                  Activation of C1r\n",
       "18532   R-HSA-173631                                  Activation of C1s"
      ]
     },
     "execution_count": 425,
     "metadata": {},
     "output_type": "execute_result"
    }
   ],
   "source": [
    "# merge datasets\n",
    "merged_react_data = pandas.merge(react_data1[[1, 3, 5]],\n",
    "                                 react_data2[[1, 3, 5]],\n",
    "                                 left_on=[1, 3, 5],\n",
    "                                 right_on=[1, 3, 5],\n",
    "                                 how='outer')\n",
    "\n",
    "# filter data to only include pathogenic variants\n",
    "merged_react_data = merged_react_data.loc[merged_react_data[5].apply(lambda x: x.startswith('Homo sapiens'))] \n",
    "\n",
    "# reorder data\n",
    "merged_react_data = merged_react_data[[1, 3]].drop_duplicates(subset=None, keep='first', inplace=False)\n",
    "\n",
    "# preview data\n",
    "merged_react_data.head(n=5)"
   ]
  },
  {
   "cell_type": "markdown",
   "metadata": {},
   "source": [
    "\n",
    "***\n",
    "**Write Label Data to File**"
   ]
  },
  {
   "cell_type": "code",
   "execution_count": null,
   "metadata": {},
   "outputs": [],
   "source": [
    "# create a list of all labeled datasets\n",
    "dfs = [var_data, rna_data, gene_data, complex_data, pathway_data, merged_react_data]\n",
    "\n",
    "# write out data\n",
    "with open(processed_data_location + 'Instance_Data_Labels.txt', 'w') as outfile:\n",
    "    \n",
    "    for df in tqdm(dfs):\n",
    "        for idx, row in df.iterrows():\n",
    "            if len(list(df)) == 2:\n",
    "                outfile.write(str(row[list(df)[0]]) + '\\t' + str(row[list(df)[1]]) + '\\n')\n",
    "\n",
    "outfile.close()"
   ]
  },
  {
   "cell_type": "markdown",
   "metadata": {},
   "source": [
    "**Preview Label Data**"
   ]
  },
  {
   "cell_type": "code",
   "execution_count": 445,
   "metadata": {},
   "outputs": [
    {
     "name": "stdout",
     "output_type": "stream",
     "text": [
      "There are 185584 instance data labels\n"
     ]
    }
   ],
   "source": [
    "label_data = pandas.read_csv(processed_data_location + 'Instance_Data_Labels.txt',\n",
    "                             header = None,\n",
    "                             delimiter = '\\t')\n",
    "\n",
    "print('There are {edge_count} instance data labels'.format(edge_count=len(label_data)))"
   ]
  },
  {
   "cell_type": "code",
   "execution_count": 446,
   "metadata": {},
   "outputs": [
    {
     "data": {
      "text/html": [
       "<div>\n",
       "<style scoped>\n",
       "    .dataframe tbody tr th:only-of-type {\n",
       "        vertical-align: middle;\n",
       "    }\n",
       "\n",
       "    .dataframe tbody tr th {\n",
       "        vertical-align: top;\n",
       "    }\n",
       "\n",
       "    .dataframe thead th {\n",
       "        text-align: right;\n",
       "    }\n",
       "</style>\n",
       "<table border=\"1\" class=\"dataframe\">\n",
       "  <thead>\n",
       "    <tr style=\"text-align: right;\">\n",
       "      <th></th>\n",
       "      <th>0</th>\n",
       "      <th>1</th>\n",
       "    </tr>\n",
       "  </thead>\n",
       "  <tbody>\n",
       "    <tr>\n",
       "      <th>0</th>\n",
       "      <td>200300612</td>\n",
       "      <td>NM_147127.5(EVC2):c.3659+2T&gt;C</td>\n",
       "    </tr>\n",
       "    <tr>\n",
       "      <th>1</th>\n",
       "      <td>757415879</td>\n",
       "      <td>NM_000094.3(COL7A1):c.5797C&gt;T (p.Arg1933Ter)</td>\n",
       "    </tr>\n",
       "    <tr>\n",
       "      <th>2</th>\n",
       "      <td>886058642</td>\n",
       "      <td>NM_000094.3(COL7A1):c.1637-1G&gt;A</td>\n",
       "    </tr>\n",
       "    <tr>\n",
       "      <th>3</th>\n",
       "      <td>757552268</td>\n",
       "      <td>NM_000387.6(SLC25A20):c.326+1del</td>\n",
       "    </tr>\n",
       "    <tr>\n",
       "      <th>4</th>\n",
       "      <td>775696136</td>\n",
       "      <td>NM_001369.2(DNAH5):c.13458dup (p.Asn4487Ter)</td>\n",
       "    </tr>\n",
       "  </tbody>\n",
       "</table>\n",
       "</div>"
      ],
      "text/plain": [
       "           0                                             1\n",
       "0  200300612                 NM_147127.5(EVC2):c.3659+2T>C\n",
       "1  757415879  NM_000094.3(COL7A1):c.5797C>T (p.Arg1933Ter)\n",
       "2  886058642               NM_000094.3(COL7A1):c.1637-1G>A\n",
       "3  757552268              NM_000387.6(SLC25A20):c.326+1del\n",
       "4  775696136  NM_001369.2(DNAH5):c.13458dup (p.Asn4487Ter)"
      ]
     },
     "execution_count": 446,
     "metadata": {},
     "output_type": "execute_result"
    }
   ],
   "source": [
    "label_data.head(n=5)"
   ]
  },
  {
   "cell_type": "code",
   "execution_count": null,
   "metadata": {},
   "outputs": [],
   "source": []
  }
 ],
 "metadata": {
  "kernelspec": {
   "display_name": "Python 3",
   "language": "python",
   "name": "python3"
  },
  "language_info": {
   "codemirror_mode": {
    "name": "ipython",
    "version": 3
   },
   "file_extension": ".py",
   "mimetype": "text/x-python",
   "name": "python",
   "nbconvert_exporter": "python",
   "pygments_lexer": "ipython3",
   "version": "3.6.2"
  },
  "latex_envs": {
   "LaTeX_envs_menu_present": true,
   "autoclose": false,
   "autocomplete": true,
   "bibliofile": "biblio.bib",
   "cite_by": "apalike",
   "current_citInitial": 1,
   "eqLabelWithNumbers": true,
   "eqNumInitial": 1,
   "hotkeys": {
    "equation": "Ctrl-E",
    "itemize": "Ctrl-I"
   },
   "labels_anchors": false,
   "latex_user_defs": false,
   "report_style_numbering": false,
   "user_envs_cfg": false
  }
 },
 "nbformat": 4,
 "nbformat_minor": 1
}
